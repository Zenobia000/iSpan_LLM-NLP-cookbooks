{
 "cells": [
  {
   "cell_type": "markdown",
   "metadata": {},
   "source": [
    "# Lora 实战"
   ]
  },
  {
   "cell_type": "markdown",
   "metadata": {},
   "source": [
    "## Step1 导入相关包"
   ]
  },
  {
   "cell_type": "code",
   "execution_count": 1,
   "metadata": {},
   "outputs": [
    {
     "name": "stdout",
     "output_type": "stream",
     "text": [
      "bin c:\\Users\\yuyao\\miniconda3\\envs\\transformers\\lib\\site-packages\\bitsandbytes\\libbitsandbytes_cuda116.dll\n"
     ]
    }
   ],
   "source": [
    "from datasets import Dataset\n",
    "from transformers import AutoTokenizer, AutoModelForCausalLM, DataCollatorForSeq2Seq, TrainingArguments, Trainer"
   ]
  },
  {
   "cell_type": "markdown",
   "metadata": {},
   "source": [
    "## Step2 加载数据集"
   ]
  },
  {
   "cell_type": "code",
   "execution_count": 2,
   "metadata": {},
   "outputs": [
    {
     "data": {
      "text/plain": [
       "Dataset({\n",
       "    features: ['output', 'input', 'instruction'],\n",
       "    num_rows: 26858\n",
       "})"
      ]
     },
     "execution_count": 2,
     "metadata": {},
     "output_type": "execute_result"
    }
   ],
   "source": [
    "ds = Dataset.load_from_disk(\"../data/alpaca_data_zh/\")\n",
    "ds"
   ]
  },
  {
   "cell_type": "code",
   "execution_count": 3,
   "metadata": {},
   "outputs": [
    {
     "data": {
      "text/plain": [
       "{'output': ['以下是保持健康的三个提示：\\n\\n1. 保持身体活动。每天做适当的身体运动，如散步、跑步或游泳，能促进心血管健康，增强肌肉力量，并有助于减少体重。\\n\\n2. 均衡饮食。每天食用新鲜的蔬菜、水果、全谷物和脂肪含量低的蛋白质食物，避免高糖、高脂肪和加工食品，以保持健康的饮食习惯。\\n\\n3. 睡眠充足。睡眠对人体健康至关重要，成年人每天应保证 7-8 小时的睡眠。良好的睡眠有助于减轻压力，促进身体恢复，并提高注意力和记忆力。',\n",
       "  '4/16等于1/4是因为我们可以约分分子分母都除以他们的最大公约数4，得到（4÷4）/ (16÷4）=1/4。分数的约分是用分子和分母除以相同的非零整数，来表示分数的一个相同的值，这因为分数实际上表示了分子除以分母，所以即使两个数同时除以同一个非零整数，分数的值也不会改变。所以4/16 和1/4是两种不同的书写形式，但它们的值相等。',\n",
       "  '朱利叶斯·凯撒，又称尤利乌斯·恺撒（Julius Caesar）是古罗马的政治家、军事家和作家。他于公元前44年3月15日被刺杀。 \\n\\n根据历史记载，当时罗马元老院里一些参议员联合起来策划了对恺撒的刺杀行动，因为他们担心恺撒的统治将给罗马共和制带来威胁。在公元前44年3月15日（又称“3月的艾达之日”），恺撒去参加元老院会议时，被一群参议员包围并被攻击致死。据记载，他身中23刀，其中一刀最终致命。'],\n",
       " 'input': ['', '输入：4/16', ''],\n",
       " 'instruction': ['保持健康的三个提示。', '解释为什么以下分数等同于1/4', '朱利叶斯·凯撒是如何死亡的？']}"
      ]
     },
     "execution_count": 3,
     "metadata": {},
     "output_type": "execute_result"
    }
   ],
   "source": [
    "ds[:3]"
   ]
  },
  {
   "cell_type": "code",
   "execution_count": 4,
   "metadata": {},
   "outputs": [],
   "source": [
    "# print(len(\"以下是保持健康的三个提示：\\n\\n1. 保持身体活动。每天做适当的身体运动，如散步、跑步或游泳，能促进心血管健康，增强肌肉力量，并有助于减少体重。\\n\\n2. 均衡饮食。每天食用新鲜的蔬菜、水果、全谷物和脂肪含量低的蛋白质食物，避免高糖、高脂肪和加工食品，以保持健康的饮食习惯。\\n\\n3. 睡眠充足。睡眠对人体健康至关重要，成年人每天应保证 7-8 小时的睡眠。良好的睡眠有助于减轻压力，促进身体恢复，并提高注意力和记忆力。\"))"
   ]
  },
  {
   "cell_type": "markdown",
   "metadata": {},
   "source": [
    "## Step3 数据集预处理"
   ]
  },
  {
   "cell_type": "code",
   "execution_count": 5,
   "metadata": {},
   "outputs": [
    {
     "name": "stderr",
     "output_type": "stream",
     "text": [
      "Special tokens have been added in the vocabulary, make sure the associated word embeddings are fine-tuned or trained.\n",
      "Special tokens have been added in the vocabulary, make sure the associated word embeddings are fine-tuned or trained.\n",
      "Using sep_token, but it is not set yet.\n",
      "Using cls_token, but it is not set yet.\n",
      "Using mask_token, but it is not set yet.\n"
     ]
    },
    {
     "data": {
      "text/plain": [
       "LlamaTokenizerFast(name_or_path='D:/Pretrained_models/modelscope/Llama-2-13b-ms', vocab_size=32000, model_max_length=1000000000000000019884624838656, is_fast=True, padding_side='left', truncation_side='right', special_tokens={'bos_token': '<s>', 'eos_token': '</s>', 'unk_token': '<unk>', 'pad_token': '<unk>'}, clean_up_tokenization_spaces=False),  added_tokens_decoder={\n",
       "\t0: AddedToken(\"<unk>\", rstrip=False, lstrip=False, single_word=False, normalized=True, special=True),\n",
       "\t1: AddedToken(\"<s>\", rstrip=False, lstrip=False, single_word=False, normalized=True, special=True),\n",
       "\t2: AddedToken(\"</s>\", rstrip=False, lstrip=False, single_word=False, normalized=True, special=True),\n",
       "\t32000: AddedToken(\"<pad>\", rstrip=False, lstrip=False, single_word=False, normalized=True, special=False),\n",
       "}"
      ]
     },
     "execution_count": 5,
     "metadata": {},
     "output_type": "execute_result"
    }
   ],
   "source": [
    "tokenizer = AutoTokenizer.from_pretrained(\"D:/Pretrained_models/modelscope/Llama-2-13b-ms\")\n",
    "tokenizer"
   ]
  },
  {
   "cell_type": "code",
   "execution_count": 6,
   "metadata": {},
   "outputs": [],
   "source": [
    "tokenizer.padding_side = \"right\"  # 一定要设置padding_side为right，否则batch大于1时可能不收敛"
   ]
  },
  {
   "cell_type": "code",
   "execution_count": 7,
   "metadata": {},
   "outputs": [],
   "source": [
    "tokenizer.pad_token_id = 2"
   ]
  },
  {
   "cell_type": "code",
   "execution_count": 8,
   "metadata": {},
   "outputs": [],
   "source": [
    "def process_func(example):\n",
    "    MAX_LENGTH = 384    # Llama分词器会将一个中文字切分为多个token，因此需要放开一些最大长度，保证数据的完整性\n",
    "    input_ids, attention_mask, labels = [], [], []\n",
    "    instruction = tokenizer(\"\\n\".join([\"Human: \" + example[\"instruction\"], example[\"input\"]]).strip() + \"\\n\\nAssistant: \", add_special_tokens=False)\n",
    "    response = tokenizer(example[\"output\"], add_special_tokens=False)\n",
    "    input_ids = instruction[\"input_ids\"] + response[\"input_ids\"] + [tokenizer.eos_token_id]\n",
    "    attention_mask = instruction[\"attention_mask\"] + response[\"attention_mask\"] + [1]\n",
    "    labels = [-100] * len(instruction[\"input_ids\"]) + response[\"input_ids\"] + [tokenizer.eos_token_id]\n",
    "    if len(input_ids) > MAX_LENGTH:\n",
    "        input_ids = input_ids[:MAX_LENGTH]\n",
    "        attention_mask = attention_mask[:MAX_LENGTH]\n",
    "        labels = labels[:MAX_LENGTH]\n",
    "    return {\n",
    "        \"input_ids\": input_ids,\n",
    "        \"attention_mask\": attention_mask,\n",
    "        \"labels\": labels\n",
    "    }"
   ]
  },
  {
   "cell_type": "code",
   "execution_count": 9,
   "metadata": {},
   "outputs": [
    {
     "name": "stderr",
     "output_type": "stream",
     "text": [
      "Loading cached processed dataset at c:\\Users\\yuyao\\Desktop\\transformers-code\\04-Kbit Training\\data\\alpaca_data_zh\\cache-45a709d321a4f63b.arrow\n"
     ]
    },
    {
     "data": {
      "text/plain": [
       "Dataset({\n",
       "    features: ['input_ids', 'attention_mask', 'labels'],\n",
       "    num_rows: 26858\n",
       "})"
      ]
     },
     "execution_count": 9,
     "metadata": {},
     "output_type": "execute_result"
    }
   ],
   "source": [
    "tokenized_ds = ds.map(process_func, remove_columns=ds.column_names)\n",
    "tokenized_ds"
   ]
  },
  {
   "cell_type": "code",
   "execution_count": 10,
   "metadata": {},
   "outputs": [
    {
     "name": "stdout",
     "output_type": "stream",
     "text": [
      "[12968, 29901, 29871, 30982, 31695, 31863, 31577, 30210, 30457, 30502, 31302, 30858, 30267, 13, 13, 7900, 22137, 29901, 29871, 29871, 30651, 30557, 30392, 30982, 31695, 31863, 31577, 30210, 30457, 30502, 31302, 30858, 30383, 13, 13, 29896, 29889, 29871, 30982, 31695, 31687, 30988, 31704, 30846, 30267, 31951, 30408, 232, 132, 157, 236, 131, 133, 30948, 30210, 31687, 30988, 31894, 30846, 30214, 30847, 233, 152, 166, 233, 176, 168, 30330, 235, 186, 148, 233, 176, 168, 31391, 233, 187, 187, 233, 182, 182, 30214, 30815, 231, 194, 134, 31174, 30869, 235, 164, 131, 31624, 31863, 31577, 30214, 232, 165, 161, 232, 191, 189, 235, 133, 143, 235, 133, 140, 31074, 31180, 30214, 31666, 30417, 31931, 30909, 232, 138, 146, 31022, 30988, 30908, 30267, 13, 13, 29906, 29889, 29871, 232, 160, 138, 235, 164, 164, 236, 168, 177, 31855, 30267, 31951, 30408, 31855, 30406, 30374, 236, 181, 159, 30210, 235, 151, 175, 31854, 30330, 30716, 30801, 30330, 30753, 31112, 30834, 30503, 235, 135, 133, 235, 133, 173, 232, 147, 174, 31180, 231, 192, 145, 30210, 235, 158, 142, 30868, 235, 183, 171, 31855, 30834, 30214, 236, 132, 194, 232, 136, 144, 30528, 234, 182, 153, 30330, 30528, 235, 135, 133, 235, 133, 173, 30503, 30666, 31041, 31855, 31399, 30214, 30651, 30982, 31695, 31863, 31577, 30210, 236, 168, 177, 31855, 231, 188, 163, 233, 134, 178, 30267, 13, 13, 29941, 29889, 29871, 234, 160, 164, 234, 159, 163, 232, 136, 136, 31722, 30267, 234, 160, 164, 234, 159, 163, 30783, 30313, 30988, 31863, 31577, 235, 138, 182, 31057, 30908, 30698, 30214, 30494, 30470, 30313, 31951, 30408, 31370, 30982, 235, 178, 132, 29871, 29955, 29899, 29947, 29871, 30446, 30594, 30210, 234, 160, 164, 234, 159, 163, 30267, 31400, 31076, 30210, 234, 160, 164, 234, 159, 163, 30417, 31931, 30909, 232, 138, 146, 235, 192, 190, 232, 145, 142, 31074, 30214, 231, 194, 134, 31174, 31687, 30988, 233, 132, 165, 31810, 30214, 31666, 31302, 30528, 31368, 31474, 31074, 30503, 31410, 232, 194, 137, 31074, 30267, 2]\n"
     ]
    }
   ],
   "source": [
    "print(tokenized_ds[0][\"input_ids\"])"
   ]
  },
  {
   "cell_type": "code",
   "execution_count": 11,
   "metadata": {},
   "outputs": [],
   "source": [
    "# tokenizer(\"abc \" + tokenizer.eos_token)"
   ]
  },
  {
   "cell_type": "code",
   "execution_count": 12,
   "metadata": {},
   "outputs": [
    {
     "data": {
      "text/plain": [
       "'Human: 保持健康的三个提示。\\n\\nAssistant:  以下是保持健康的三个提示：\\n\\n1. 保持身体活动。每天做适当的身体运动，如散步、跑步或游泳，能促进心血管健康，增强肌肉力量，并有助于减少体重。\\n\\n2. 均衡饮食。每天食用新鲜的蔬菜、水果、全谷物和脂肪含量低的蛋白质食物，避免高糖、高脂肪和加工食品，以保持健康的饮食习惯。\\n\\n3. 睡眠充足。睡眠对人体健康至关重要，成年人每天应保证 7-8 小时的睡眠。良好的睡眠有助于减轻压力，促进身体恢复，并提高注意力和记忆力。</s>'"
      ]
     },
     "execution_count": 12,
     "metadata": {},
     "output_type": "execute_result"
    }
   ],
   "source": [
    "tokenizer.decode(tokenized_ds[0][\"input_ids\"])"
   ]
  },
  {
   "cell_type": "code",
   "execution_count": 13,
   "metadata": {},
   "outputs": [],
   "source": [
    "# tokenizer(\"呀\", add_special_tokens=False) # Llama分词器会将一个中文字切分为多个token，因此需要放开一些最大长度，保证数据的完整性"
   ]
  },
  {
   "cell_type": "code",
   "execution_count": 14,
   "metadata": {},
   "outputs": [
    {
     "data": {
      "text/plain": [
       "'4/16等于1/4是因为我们可以约分分子分母都除以他们的最大公约数4，得到（4÷4）/ (16÷4）=1/4。分数的约分是用分子和分母除以相同的非零整数，来表示分数的一个相同的值，这因为分数实际上表示了分子除以分母，所以即使两个数同时除以同一个非零整数，分数的值也不会改变。所以4/16 和1/4是两种不同的书写形式，但它们的值相等。</s>'"
      ]
     },
     "execution_count": 14,
     "metadata": {},
     "output_type": "execute_result"
    }
   ],
   "source": [
    "tokenizer.decode(list(filter(lambda x: x != -100, tokenized_ds[1][\"labels\"])))"
   ]
  },
  {
   "cell_type": "markdown",
   "metadata": {},
   "source": [
    "## Step4 创建模型"
   ]
  },
  {
   "cell_type": "code",
   "execution_count": 15,
   "metadata": {},
   "outputs": [
    {
     "data": {
      "application/vnd.jupyter.widget-view+json": {
       "model_id": "c3b4505d4ab7471ab44d3587e9abd241",
       "version_major": 2,
       "version_minor": 0
      },
      "text/plain": [
       "Loading checkpoint shards:   0%|          | 0/3 [00:00<?, ?it/s]"
      ]
     },
     "metadata": {},
     "output_type": "display_data"
    },
    {
     "name": "stderr",
     "output_type": "stream",
     "text": [
      "c:\\Users\\yuyao\\miniconda3\\envs\\transformers\\lib\\site-packages\\transformers\\generation\\configuration_utils.py:362: UserWarning: `do_sample` is set to `False`. However, `temperature` is set to `0.9` -- this flag is only used in sample-based generation modes. You should set `do_sample=True` or unset `temperature`. This was detected when initializing the generation config instance, which means the corresponding file may hold incorrect parameterization and should be fixed.\n",
      "  warnings.warn(\n",
      "c:\\Users\\yuyao\\miniconda3\\envs\\transformers\\lib\\site-packages\\transformers\\generation\\configuration_utils.py:367: UserWarning: `do_sample` is set to `False`. However, `top_p` is set to `0.6` -- this flag is only used in sample-based generation modes. You should set `do_sample=True` or unset `top_p`. This was detected when initializing the generation config instance, which means the corresponding file may hold incorrect parameterization and should be fixed.\n",
      "  warnings.warn(\n"
     ]
    }
   ],
   "source": [
    "import torch\n",
    "model = AutoModelForCausalLM.from_pretrained(\"D:/Pretrained_models/modelscope/Llama-2-13b-ms\", low_cpu_mem_usage=True, \n",
    "                                             torch_dtype=torch.half, device_map=\"auto\", load_in_4bit=True, bnb_4bit_compute_dtype=torch.half,\n",
    "                                             bnb_4bit_quant_type=\"nf4\", bnb_4bit_use_double_quant=True)"
   ]
  },
  {
   "cell_type": "code",
   "execution_count": 16,
   "metadata": {},
   "outputs": [
    {
     "name": "stdout",
     "output_type": "stream",
     "text": [
      "model.embed_tokens.weight torch.Size([32000, 5120]) torch.float16\n",
      "model.layers.0.self_attn.q_proj.weight torch.Size([13107200, 1]) torch.uint8\n",
      "model.layers.0.self_attn.k_proj.weight torch.Size([13107200, 1]) torch.uint8\n",
      "model.layers.0.self_attn.v_proj.weight torch.Size([13107200, 1]) torch.uint8\n",
      "model.layers.0.self_attn.o_proj.weight torch.Size([13107200, 1]) torch.uint8\n",
      "model.layers.0.mlp.gate_proj.weight torch.Size([35389440, 1]) torch.uint8\n",
      "model.layers.0.mlp.up_proj.weight torch.Size([35389440, 1]) torch.uint8\n",
      "model.layers.0.mlp.down_proj.weight torch.Size([35389440, 1]) torch.uint8\n",
      "model.layers.0.input_layernorm.weight torch.Size([5120]) torch.float16\n",
      "model.layers.0.post_attention_layernorm.weight torch.Size([5120]) torch.float16\n",
      "model.layers.1.self_attn.q_proj.weight torch.Size([13107200, 1]) torch.uint8\n",
      "model.layers.1.self_attn.k_proj.weight torch.Size([13107200, 1]) torch.uint8\n",
      "model.layers.1.self_attn.v_proj.weight torch.Size([13107200, 1]) torch.uint8\n",
      "model.layers.1.self_attn.o_proj.weight torch.Size([13107200, 1]) torch.uint8\n",
      "model.layers.1.mlp.gate_proj.weight torch.Size([35389440, 1]) torch.uint8\n",
      "model.layers.1.mlp.up_proj.weight torch.Size([35389440, 1]) torch.uint8\n",
      "model.layers.1.mlp.down_proj.weight torch.Size([35389440, 1]) torch.uint8\n",
      "model.layers.1.input_layernorm.weight torch.Size([5120]) torch.float16\n",
      "model.layers.1.post_attention_layernorm.weight torch.Size([5120]) torch.float16\n",
      "model.layers.2.self_attn.q_proj.weight torch.Size([13107200, 1]) torch.uint8\n",
      "model.layers.2.self_attn.k_proj.weight torch.Size([13107200, 1]) torch.uint8\n",
      "model.layers.2.self_attn.v_proj.weight torch.Size([13107200, 1]) torch.uint8\n",
      "model.layers.2.self_attn.o_proj.weight torch.Size([13107200, 1]) torch.uint8\n",
      "model.layers.2.mlp.gate_proj.weight torch.Size([35389440, 1]) torch.uint8\n",
      "model.layers.2.mlp.up_proj.weight torch.Size([35389440, 1]) torch.uint8\n",
      "model.layers.2.mlp.down_proj.weight torch.Size([35389440, 1]) torch.uint8\n",
      "model.layers.2.input_layernorm.weight torch.Size([5120]) torch.float16\n",
      "model.layers.2.post_attention_layernorm.weight torch.Size([5120]) torch.float16\n",
      "model.layers.3.self_attn.q_proj.weight torch.Size([13107200, 1]) torch.uint8\n",
      "model.layers.3.self_attn.k_proj.weight torch.Size([13107200, 1]) torch.uint8\n",
      "model.layers.3.self_attn.v_proj.weight torch.Size([13107200, 1]) torch.uint8\n",
      "model.layers.3.self_attn.o_proj.weight torch.Size([13107200, 1]) torch.uint8\n",
      "model.layers.3.mlp.gate_proj.weight torch.Size([35389440, 1]) torch.uint8\n",
      "model.layers.3.mlp.up_proj.weight torch.Size([35389440, 1]) torch.uint8\n",
      "model.layers.3.mlp.down_proj.weight torch.Size([35389440, 1]) torch.uint8\n",
      "model.layers.3.input_layernorm.weight torch.Size([5120]) torch.float16\n",
      "model.layers.3.post_attention_layernorm.weight torch.Size([5120]) torch.float16\n",
      "model.layers.4.self_attn.q_proj.weight torch.Size([13107200, 1]) torch.uint8\n",
      "model.layers.4.self_attn.k_proj.weight torch.Size([13107200, 1]) torch.uint8\n",
      "model.layers.4.self_attn.v_proj.weight torch.Size([13107200, 1]) torch.uint8\n",
      "model.layers.4.self_attn.o_proj.weight torch.Size([13107200, 1]) torch.uint8\n",
      "model.layers.4.mlp.gate_proj.weight torch.Size([35389440, 1]) torch.uint8\n",
      "model.layers.4.mlp.up_proj.weight torch.Size([35389440, 1]) torch.uint8\n",
      "model.layers.4.mlp.down_proj.weight torch.Size([35389440, 1]) torch.uint8\n",
      "model.layers.4.input_layernorm.weight torch.Size([5120]) torch.float16\n",
      "model.layers.4.post_attention_layernorm.weight torch.Size([5120]) torch.float16\n",
      "model.layers.5.self_attn.q_proj.weight torch.Size([13107200, 1]) torch.uint8\n",
      "model.layers.5.self_attn.k_proj.weight torch.Size([13107200, 1]) torch.uint8\n",
      "model.layers.5.self_attn.v_proj.weight torch.Size([13107200, 1]) torch.uint8\n",
      "model.layers.5.self_attn.o_proj.weight torch.Size([13107200, 1]) torch.uint8\n",
      "model.layers.5.mlp.gate_proj.weight torch.Size([35389440, 1]) torch.uint8\n",
      "model.layers.5.mlp.up_proj.weight torch.Size([35389440, 1]) torch.uint8\n",
      "model.layers.5.mlp.down_proj.weight torch.Size([35389440, 1]) torch.uint8\n",
      "model.layers.5.input_layernorm.weight torch.Size([5120]) torch.float16\n",
      "model.layers.5.post_attention_layernorm.weight torch.Size([5120]) torch.float16\n",
      "model.layers.6.self_attn.q_proj.weight torch.Size([13107200, 1]) torch.uint8\n",
      "model.layers.6.self_attn.k_proj.weight torch.Size([13107200, 1]) torch.uint8\n",
      "model.layers.6.self_attn.v_proj.weight torch.Size([13107200, 1]) torch.uint8\n",
      "model.layers.6.self_attn.o_proj.weight torch.Size([13107200, 1]) torch.uint8\n",
      "model.layers.6.mlp.gate_proj.weight torch.Size([35389440, 1]) torch.uint8\n",
      "model.layers.6.mlp.up_proj.weight torch.Size([35389440, 1]) torch.uint8\n",
      "model.layers.6.mlp.down_proj.weight torch.Size([35389440, 1]) torch.uint8\n",
      "model.layers.6.input_layernorm.weight torch.Size([5120]) torch.float16\n",
      "model.layers.6.post_attention_layernorm.weight torch.Size([5120]) torch.float16\n",
      "model.layers.7.self_attn.q_proj.weight torch.Size([13107200, 1]) torch.uint8\n",
      "model.layers.7.self_attn.k_proj.weight torch.Size([13107200, 1]) torch.uint8\n",
      "model.layers.7.self_attn.v_proj.weight torch.Size([13107200, 1]) torch.uint8\n",
      "model.layers.7.self_attn.o_proj.weight torch.Size([13107200, 1]) torch.uint8\n",
      "model.layers.7.mlp.gate_proj.weight torch.Size([35389440, 1]) torch.uint8\n",
      "model.layers.7.mlp.up_proj.weight torch.Size([35389440, 1]) torch.uint8\n",
      "model.layers.7.mlp.down_proj.weight torch.Size([35389440, 1]) torch.uint8\n",
      "model.layers.7.input_layernorm.weight torch.Size([5120]) torch.float16\n",
      "model.layers.7.post_attention_layernorm.weight torch.Size([5120]) torch.float16\n",
      "model.layers.8.self_attn.q_proj.weight torch.Size([13107200, 1]) torch.uint8\n",
      "model.layers.8.self_attn.k_proj.weight torch.Size([13107200, 1]) torch.uint8\n",
      "model.layers.8.self_attn.v_proj.weight torch.Size([13107200, 1]) torch.uint8\n",
      "model.layers.8.self_attn.o_proj.weight torch.Size([13107200, 1]) torch.uint8\n",
      "model.layers.8.mlp.gate_proj.weight torch.Size([35389440, 1]) torch.uint8\n",
      "model.layers.8.mlp.up_proj.weight torch.Size([35389440, 1]) torch.uint8\n",
      "model.layers.8.mlp.down_proj.weight torch.Size([35389440, 1]) torch.uint8\n",
      "model.layers.8.input_layernorm.weight torch.Size([5120]) torch.float16\n",
      "model.layers.8.post_attention_layernorm.weight torch.Size([5120]) torch.float16\n",
      "model.layers.9.self_attn.q_proj.weight torch.Size([13107200, 1]) torch.uint8\n",
      "model.layers.9.self_attn.k_proj.weight torch.Size([13107200, 1]) torch.uint8\n",
      "model.layers.9.self_attn.v_proj.weight torch.Size([13107200, 1]) torch.uint8\n",
      "model.layers.9.self_attn.o_proj.weight torch.Size([13107200, 1]) torch.uint8\n",
      "model.layers.9.mlp.gate_proj.weight torch.Size([35389440, 1]) torch.uint8\n",
      "model.layers.9.mlp.up_proj.weight torch.Size([35389440, 1]) torch.uint8\n",
      "model.layers.9.mlp.down_proj.weight torch.Size([35389440, 1]) torch.uint8\n",
      "model.layers.9.input_layernorm.weight torch.Size([5120]) torch.float16\n",
      "model.layers.9.post_attention_layernorm.weight torch.Size([5120]) torch.float16\n",
      "model.layers.10.self_attn.q_proj.weight torch.Size([13107200, 1]) torch.uint8\n",
      "model.layers.10.self_attn.k_proj.weight torch.Size([13107200, 1]) torch.uint8\n",
      "model.layers.10.self_attn.v_proj.weight torch.Size([13107200, 1]) torch.uint8\n",
      "model.layers.10.self_attn.o_proj.weight torch.Size([13107200, 1]) torch.uint8\n",
      "model.layers.10.mlp.gate_proj.weight torch.Size([35389440, 1]) torch.uint8\n",
      "model.layers.10.mlp.up_proj.weight torch.Size([35389440, 1]) torch.uint8\n",
      "model.layers.10.mlp.down_proj.weight torch.Size([35389440, 1]) torch.uint8\n",
      "model.layers.10.input_layernorm.weight torch.Size([5120]) torch.float16\n",
      "model.layers.10.post_attention_layernorm.weight torch.Size([5120]) torch.float16\n",
      "model.layers.11.self_attn.q_proj.weight torch.Size([13107200, 1]) torch.uint8\n",
      "model.layers.11.self_attn.k_proj.weight torch.Size([13107200, 1]) torch.uint8\n",
      "model.layers.11.self_attn.v_proj.weight torch.Size([13107200, 1]) torch.uint8\n",
      "model.layers.11.self_attn.o_proj.weight torch.Size([13107200, 1]) torch.uint8\n",
      "model.layers.11.mlp.gate_proj.weight torch.Size([35389440, 1]) torch.uint8\n",
      "model.layers.11.mlp.up_proj.weight torch.Size([35389440, 1]) torch.uint8\n",
      "model.layers.11.mlp.down_proj.weight torch.Size([35389440, 1]) torch.uint8\n",
      "model.layers.11.input_layernorm.weight torch.Size([5120]) torch.float16\n",
      "model.layers.11.post_attention_layernorm.weight torch.Size([5120]) torch.float16\n",
      "model.layers.12.self_attn.q_proj.weight torch.Size([13107200, 1]) torch.uint8\n",
      "model.layers.12.self_attn.k_proj.weight torch.Size([13107200, 1]) torch.uint8\n",
      "model.layers.12.self_attn.v_proj.weight torch.Size([13107200, 1]) torch.uint8\n",
      "model.layers.12.self_attn.o_proj.weight torch.Size([13107200, 1]) torch.uint8\n",
      "model.layers.12.mlp.gate_proj.weight torch.Size([35389440, 1]) torch.uint8\n",
      "model.layers.12.mlp.up_proj.weight torch.Size([35389440, 1]) torch.uint8\n",
      "model.layers.12.mlp.down_proj.weight torch.Size([35389440, 1]) torch.uint8\n",
      "model.layers.12.input_layernorm.weight torch.Size([5120]) torch.float16\n",
      "model.layers.12.post_attention_layernorm.weight torch.Size([5120]) torch.float16\n",
      "model.layers.13.self_attn.q_proj.weight torch.Size([13107200, 1]) torch.uint8\n",
      "model.layers.13.self_attn.k_proj.weight torch.Size([13107200, 1]) torch.uint8\n",
      "model.layers.13.self_attn.v_proj.weight torch.Size([13107200, 1]) torch.uint8\n",
      "model.layers.13.self_attn.o_proj.weight torch.Size([13107200, 1]) torch.uint8\n",
      "model.layers.13.mlp.gate_proj.weight torch.Size([35389440, 1]) torch.uint8\n",
      "model.layers.13.mlp.up_proj.weight torch.Size([35389440, 1]) torch.uint8\n",
      "model.layers.13.mlp.down_proj.weight torch.Size([35389440, 1]) torch.uint8\n",
      "model.layers.13.input_layernorm.weight torch.Size([5120]) torch.float16\n",
      "model.layers.13.post_attention_layernorm.weight torch.Size([5120]) torch.float16\n",
      "model.layers.14.self_attn.q_proj.weight torch.Size([13107200, 1]) torch.uint8\n",
      "model.layers.14.self_attn.k_proj.weight torch.Size([13107200, 1]) torch.uint8\n",
      "model.layers.14.self_attn.v_proj.weight torch.Size([13107200, 1]) torch.uint8\n",
      "model.layers.14.self_attn.o_proj.weight torch.Size([13107200, 1]) torch.uint8\n",
      "model.layers.14.mlp.gate_proj.weight torch.Size([35389440, 1]) torch.uint8\n",
      "model.layers.14.mlp.up_proj.weight torch.Size([35389440, 1]) torch.uint8\n",
      "model.layers.14.mlp.down_proj.weight torch.Size([35389440, 1]) torch.uint8\n",
      "model.layers.14.input_layernorm.weight torch.Size([5120]) torch.float16\n",
      "model.layers.14.post_attention_layernorm.weight torch.Size([5120]) torch.float16\n",
      "model.layers.15.self_attn.q_proj.weight torch.Size([13107200, 1]) torch.uint8\n",
      "model.layers.15.self_attn.k_proj.weight torch.Size([13107200, 1]) torch.uint8\n",
      "model.layers.15.self_attn.v_proj.weight torch.Size([13107200, 1]) torch.uint8\n",
      "model.layers.15.self_attn.o_proj.weight torch.Size([13107200, 1]) torch.uint8\n",
      "model.layers.15.mlp.gate_proj.weight torch.Size([35389440, 1]) torch.uint8\n",
      "model.layers.15.mlp.up_proj.weight torch.Size([35389440, 1]) torch.uint8\n",
      "model.layers.15.mlp.down_proj.weight torch.Size([35389440, 1]) torch.uint8\n",
      "model.layers.15.input_layernorm.weight torch.Size([5120]) torch.float16\n",
      "model.layers.15.post_attention_layernorm.weight torch.Size([5120]) torch.float16\n",
      "model.layers.16.self_attn.q_proj.weight torch.Size([13107200, 1]) torch.uint8\n",
      "model.layers.16.self_attn.k_proj.weight torch.Size([13107200, 1]) torch.uint8\n",
      "model.layers.16.self_attn.v_proj.weight torch.Size([13107200, 1]) torch.uint8\n",
      "model.layers.16.self_attn.o_proj.weight torch.Size([13107200, 1]) torch.uint8\n",
      "model.layers.16.mlp.gate_proj.weight torch.Size([35389440, 1]) torch.uint8\n",
      "model.layers.16.mlp.up_proj.weight torch.Size([35389440, 1]) torch.uint8\n",
      "model.layers.16.mlp.down_proj.weight torch.Size([35389440, 1]) torch.uint8\n",
      "model.layers.16.input_layernorm.weight torch.Size([5120]) torch.float16\n",
      "model.layers.16.post_attention_layernorm.weight torch.Size([5120]) torch.float16\n",
      "model.layers.17.self_attn.q_proj.weight torch.Size([13107200, 1]) torch.uint8\n",
      "model.layers.17.self_attn.k_proj.weight torch.Size([13107200, 1]) torch.uint8\n",
      "model.layers.17.self_attn.v_proj.weight torch.Size([13107200, 1]) torch.uint8\n",
      "model.layers.17.self_attn.o_proj.weight torch.Size([13107200, 1]) torch.uint8\n",
      "model.layers.17.mlp.gate_proj.weight torch.Size([35389440, 1]) torch.uint8\n",
      "model.layers.17.mlp.up_proj.weight torch.Size([35389440, 1]) torch.uint8\n",
      "model.layers.17.mlp.down_proj.weight torch.Size([35389440, 1]) torch.uint8\n",
      "model.layers.17.input_layernorm.weight torch.Size([5120]) torch.float16\n",
      "model.layers.17.post_attention_layernorm.weight torch.Size([5120]) torch.float16\n",
      "model.layers.18.self_attn.q_proj.weight torch.Size([13107200, 1]) torch.uint8\n",
      "model.layers.18.self_attn.k_proj.weight torch.Size([13107200, 1]) torch.uint8\n",
      "model.layers.18.self_attn.v_proj.weight torch.Size([13107200, 1]) torch.uint8\n",
      "model.layers.18.self_attn.o_proj.weight torch.Size([13107200, 1]) torch.uint8\n",
      "model.layers.18.mlp.gate_proj.weight torch.Size([35389440, 1]) torch.uint8\n",
      "model.layers.18.mlp.up_proj.weight torch.Size([35389440, 1]) torch.uint8\n",
      "model.layers.18.mlp.down_proj.weight torch.Size([35389440, 1]) torch.uint8\n",
      "model.layers.18.input_layernorm.weight torch.Size([5120]) torch.float16\n",
      "model.layers.18.post_attention_layernorm.weight torch.Size([5120]) torch.float16\n",
      "model.layers.19.self_attn.q_proj.weight torch.Size([13107200, 1]) torch.uint8\n",
      "model.layers.19.self_attn.k_proj.weight torch.Size([13107200, 1]) torch.uint8\n",
      "model.layers.19.self_attn.v_proj.weight torch.Size([13107200, 1]) torch.uint8\n",
      "model.layers.19.self_attn.o_proj.weight torch.Size([13107200, 1]) torch.uint8\n",
      "model.layers.19.mlp.gate_proj.weight torch.Size([35389440, 1]) torch.uint8\n",
      "model.layers.19.mlp.up_proj.weight torch.Size([35389440, 1]) torch.uint8\n",
      "model.layers.19.mlp.down_proj.weight torch.Size([35389440, 1]) torch.uint8\n",
      "model.layers.19.input_layernorm.weight torch.Size([5120]) torch.float16\n",
      "model.layers.19.post_attention_layernorm.weight torch.Size([5120]) torch.float16\n",
      "model.layers.20.self_attn.q_proj.weight torch.Size([13107200, 1]) torch.uint8\n",
      "model.layers.20.self_attn.k_proj.weight torch.Size([13107200, 1]) torch.uint8\n",
      "model.layers.20.self_attn.v_proj.weight torch.Size([13107200, 1]) torch.uint8\n",
      "model.layers.20.self_attn.o_proj.weight torch.Size([13107200, 1]) torch.uint8\n",
      "model.layers.20.mlp.gate_proj.weight torch.Size([35389440, 1]) torch.uint8\n",
      "model.layers.20.mlp.up_proj.weight torch.Size([35389440, 1]) torch.uint8\n",
      "model.layers.20.mlp.down_proj.weight torch.Size([35389440, 1]) torch.uint8\n",
      "model.layers.20.input_layernorm.weight torch.Size([5120]) torch.float16\n",
      "model.layers.20.post_attention_layernorm.weight torch.Size([5120]) torch.float16\n",
      "model.layers.21.self_attn.q_proj.weight torch.Size([13107200, 1]) torch.uint8\n",
      "model.layers.21.self_attn.k_proj.weight torch.Size([13107200, 1]) torch.uint8\n",
      "model.layers.21.self_attn.v_proj.weight torch.Size([13107200, 1]) torch.uint8\n",
      "model.layers.21.self_attn.o_proj.weight torch.Size([13107200, 1]) torch.uint8\n",
      "model.layers.21.mlp.gate_proj.weight torch.Size([35389440, 1]) torch.uint8\n",
      "model.layers.21.mlp.up_proj.weight torch.Size([35389440, 1]) torch.uint8\n",
      "model.layers.21.mlp.down_proj.weight torch.Size([35389440, 1]) torch.uint8\n",
      "model.layers.21.input_layernorm.weight torch.Size([5120]) torch.float16\n",
      "model.layers.21.post_attention_layernorm.weight torch.Size([5120]) torch.float16\n",
      "model.layers.22.self_attn.q_proj.weight torch.Size([13107200, 1]) torch.uint8\n",
      "model.layers.22.self_attn.k_proj.weight torch.Size([13107200, 1]) torch.uint8\n",
      "model.layers.22.self_attn.v_proj.weight torch.Size([13107200, 1]) torch.uint8\n",
      "model.layers.22.self_attn.o_proj.weight torch.Size([13107200, 1]) torch.uint8\n",
      "model.layers.22.mlp.gate_proj.weight torch.Size([35389440, 1]) torch.uint8\n",
      "model.layers.22.mlp.up_proj.weight torch.Size([35389440, 1]) torch.uint8\n",
      "model.layers.22.mlp.down_proj.weight torch.Size([35389440, 1]) torch.uint8\n",
      "model.layers.22.input_layernorm.weight torch.Size([5120]) torch.float16\n",
      "model.layers.22.post_attention_layernorm.weight torch.Size([5120]) torch.float16\n",
      "model.layers.23.self_attn.q_proj.weight torch.Size([13107200, 1]) torch.uint8\n",
      "model.layers.23.self_attn.k_proj.weight torch.Size([13107200, 1]) torch.uint8\n",
      "model.layers.23.self_attn.v_proj.weight torch.Size([13107200, 1]) torch.uint8\n",
      "model.layers.23.self_attn.o_proj.weight torch.Size([13107200, 1]) torch.uint8\n",
      "model.layers.23.mlp.gate_proj.weight torch.Size([35389440, 1]) torch.uint8\n",
      "model.layers.23.mlp.up_proj.weight torch.Size([35389440, 1]) torch.uint8\n",
      "model.layers.23.mlp.down_proj.weight torch.Size([35389440, 1]) torch.uint8\n",
      "model.layers.23.input_layernorm.weight torch.Size([5120]) torch.float16\n",
      "model.layers.23.post_attention_layernorm.weight torch.Size([5120]) torch.float16\n",
      "model.layers.24.self_attn.q_proj.weight torch.Size([13107200, 1]) torch.uint8\n",
      "model.layers.24.self_attn.k_proj.weight torch.Size([13107200, 1]) torch.uint8\n",
      "model.layers.24.self_attn.v_proj.weight torch.Size([13107200, 1]) torch.uint8\n",
      "model.layers.24.self_attn.o_proj.weight torch.Size([13107200, 1]) torch.uint8\n",
      "model.layers.24.mlp.gate_proj.weight torch.Size([35389440, 1]) torch.uint8\n",
      "model.layers.24.mlp.up_proj.weight torch.Size([35389440, 1]) torch.uint8\n",
      "model.layers.24.mlp.down_proj.weight torch.Size([35389440, 1]) torch.uint8\n",
      "model.layers.24.input_layernorm.weight torch.Size([5120]) torch.float16\n",
      "model.layers.24.post_attention_layernorm.weight torch.Size([5120]) torch.float16\n",
      "model.layers.25.self_attn.q_proj.weight torch.Size([13107200, 1]) torch.uint8\n",
      "model.layers.25.self_attn.k_proj.weight torch.Size([13107200, 1]) torch.uint8\n",
      "model.layers.25.self_attn.v_proj.weight torch.Size([13107200, 1]) torch.uint8\n",
      "model.layers.25.self_attn.o_proj.weight torch.Size([13107200, 1]) torch.uint8\n",
      "model.layers.25.mlp.gate_proj.weight torch.Size([35389440, 1]) torch.uint8\n",
      "model.layers.25.mlp.up_proj.weight torch.Size([35389440, 1]) torch.uint8\n",
      "model.layers.25.mlp.down_proj.weight torch.Size([35389440, 1]) torch.uint8\n",
      "model.layers.25.input_layernorm.weight torch.Size([5120]) torch.float16\n",
      "model.layers.25.post_attention_layernorm.weight torch.Size([5120]) torch.float16\n",
      "model.layers.26.self_attn.q_proj.weight torch.Size([13107200, 1]) torch.uint8\n",
      "model.layers.26.self_attn.k_proj.weight torch.Size([13107200, 1]) torch.uint8\n",
      "model.layers.26.self_attn.v_proj.weight torch.Size([13107200, 1]) torch.uint8\n",
      "model.layers.26.self_attn.o_proj.weight torch.Size([13107200, 1]) torch.uint8\n",
      "model.layers.26.mlp.gate_proj.weight torch.Size([35389440, 1]) torch.uint8\n",
      "model.layers.26.mlp.up_proj.weight torch.Size([35389440, 1]) torch.uint8\n",
      "model.layers.26.mlp.down_proj.weight torch.Size([35389440, 1]) torch.uint8\n",
      "model.layers.26.input_layernorm.weight torch.Size([5120]) torch.float16\n",
      "model.layers.26.post_attention_layernorm.weight torch.Size([5120]) torch.float16\n",
      "model.layers.27.self_attn.q_proj.weight torch.Size([13107200, 1]) torch.uint8\n",
      "model.layers.27.self_attn.k_proj.weight torch.Size([13107200, 1]) torch.uint8\n",
      "model.layers.27.self_attn.v_proj.weight torch.Size([13107200, 1]) torch.uint8\n",
      "model.layers.27.self_attn.o_proj.weight torch.Size([13107200, 1]) torch.uint8\n",
      "model.layers.27.mlp.gate_proj.weight torch.Size([35389440, 1]) torch.uint8\n",
      "model.layers.27.mlp.up_proj.weight torch.Size([35389440, 1]) torch.uint8\n",
      "model.layers.27.mlp.down_proj.weight torch.Size([35389440, 1]) torch.uint8\n",
      "model.layers.27.input_layernorm.weight torch.Size([5120]) torch.float16\n",
      "model.layers.27.post_attention_layernorm.weight torch.Size([5120]) torch.float16\n",
      "model.layers.28.self_attn.q_proj.weight torch.Size([13107200, 1]) torch.uint8\n",
      "model.layers.28.self_attn.k_proj.weight torch.Size([13107200, 1]) torch.uint8\n",
      "model.layers.28.self_attn.v_proj.weight torch.Size([13107200, 1]) torch.uint8\n",
      "model.layers.28.self_attn.o_proj.weight torch.Size([13107200, 1]) torch.uint8\n",
      "model.layers.28.mlp.gate_proj.weight torch.Size([35389440, 1]) torch.uint8\n",
      "model.layers.28.mlp.up_proj.weight torch.Size([35389440, 1]) torch.uint8\n",
      "model.layers.28.mlp.down_proj.weight torch.Size([35389440, 1]) torch.uint8\n",
      "model.layers.28.input_layernorm.weight torch.Size([5120]) torch.float16\n",
      "model.layers.28.post_attention_layernorm.weight torch.Size([5120]) torch.float16\n",
      "model.layers.29.self_attn.q_proj.weight torch.Size([13107200, 1]) torch.uint8\n",
      "model.layers.29.self_attn.k_proj.weight torch.Size([13107200, 1]) torch.uint8\n",
      "model.layers.29.self_attn.v_proj.weight torch.Size([13107200, 1]) torch.uint8\n",
      "model.layers.29.self_attn.o_proj.weight torch.Size([13107200, 1]) torch.uint8\n",
      "model.layers.29.mlp.gate_proj.weight torch.Size([35389440, 1]) torch.uint8\n",
      "model.layers.29.mlp.up_proj.weight torch.Size([35389440, 1]) torch.uint8\n",
      "model.layers.29.mlp.down_proj.weight torch.Size([35389440, 1]) torch.uint8\n",
      "model.layers.29.input_layernorm.weight torch.Size([5120]) torch.float16\n",
      "model.layers.29.post_attention_layernorm.weight torch.Size([5120]) torch.float16\n",
      "model.layers.30.self_attn.q_proj.weight torch.Size([13107200, 1]) torch.uint8\n",
      "model.layers.30.self_attn.k_proj.weight torch.Size([13107200, 1]) torch.uint8\n",
      "model.layers.30.self_attn.v_proj.weight torch.Size([13107200, 1]) torch.uint8\n",
      "model.layers.30.self_attn.o_proj.weight torch.Size([13107200, 1]) torch.uint8\n",
      "model.layers.30.mlp.gate_proj.weight torch.Size([35389440, 1]) torch.uint8\n",
      "model.layers.30.mlp.up_proj.weight torch.Size([35389440, 1]) torch.uint8\n",
      "model.layers.30.mlp.down_proj.weight torch.Size([35389440, 1]) torch.uint8\n",
      "model.layers.30.input_layernorm.weight torch.Size([5120]) torch.float16\n",
      "model.layers.30.post_attention_layernorm.weight torch.Size([5120]) torch.float16\n",
      "model.layers.31.self_attn.q_proj.weight torch.Size([13107200, 1]) torch.uint8\n",
      "model.layers.31.self_attn.k_proj.weight torch.Size([13107200, 1]) torch.uint8\n",
      "model.layers.31.self_attn.v_proj.weight torch.Size([13107200, 1]) torch.uint8\n",
      "model.layers.31.self_attn.o_proj.weight torch.Size([13107200, 1]) torch.uint8\n",
      "model.layers.31.mlp.gate_proj.weight torch.Size([35389440, 1]) torch.uint8\n",
      "model.layers.31.mlp.up_proj.weight torch.Size([35389440, 1]) torch.uint8\n",
      "model.layers.31.mlp.down_proj.weight torch.Size([35389440, 1]) torch.uint8\n",
      "model.layers.31.input_layernorm.weight torch.Size([5120]) torch.float16\n",
      "model.layers.31.post_attention_layernorm.weight torch.Size([5120]) torch.float16\n",
      "model.layers.32.self_attn.q_proj.weight torch.Size([13107200, 1]) torch.uint8\n",
      "model.layers.32.self_attn.k_proj.weight torch.Size([13107200, 1]) torch.uint8\n",
      "model.layers.32.self_attn.v_proj.weight torch.Size([13107200, 1]) torch.uint8\n",
      "model.layers.32.self_attn.o_proj.weight torch.Size([13107200, 1]) torch.uint8\n",
      "model.layers.32.mlp.gate_proj.weight torch.Size([35389440, 1]) torch.uint8\n",
      "model.layers.32.mlp.up_proj.weight torch.Size([35389440, 1]) torch.uint8\n",
      "model.layers.32.mlp.down_proj.weight torch.Size([35389440, 1]) torch.uint8\n",
      "model.layers.32.input_layernorm.weight torch.Size([5120]) torch.float16\n",
      "model.layers.32.post_attention_layernorm.weight torch.Size([5120]) torch.float16\n",
      "model.layers.33.self_attn.q_proj.weight torch.Size([13107200, 1]) torch.uint8\n",
      "model.layers.33.self_attn.k_proj.weight torch.Size([13107200, 1]) torch.uint8\n",
      "model.layers.33.self_attn.v_proj.weight torch.Size([13107200, 1]) torch.uint8\n",
      "model.layers.33.self_attn.o_proj.weight torch.Size([13107200, 1]) torch.uint8\n",
      "model.layers.33.mlp.gate_proj.weight torch.Size([35389440, 1]) torch.uint8\n",
      "model.layers.33.mlp.up_proj.weight torch.Size([35389440, 1]) torch.uint8\n",
      "model.layers.33.mlp.down_proj.weight torch.Size([35389440, 1]) torch.uint8\n",
      "model.layers.33.input_layernorm.weight torch.Size([5120]) torch.float16\n",
      "model.layers.33.post_attention_layernorm.weight torch.Size([5120]) torch.float16\n",
      "model.layers.34.self_attn.q_proj.weight torch.Size([13107200, 1]) torch.uint8\n",
      "model.layers.34.self_attn.k_proj.weight torch.Size([13107200, 1]) torch.uint8\n",
      "model.layers.34.self_attn.v_proj.weight torch.Size([13107200, 1]) torch.uint8\n",
      "model.layers.34.self_attn.o_proj.weight torch.Size([13107200, 1]) torch.uint8\n",
      "model.layers.34.mlp.gate_proj.weight torch.Size([35389440, 1]) torch.uint8\n",
      "model.layers.34.mlp.up_proj.weight torch.Size([35389440, 1]) torch.uint8\n",
      "model.layers.34.mlp.down_proj.weight torch.Size([35389440, 1]) torch.uint8\n",
      "model.layers.34.input_layernorm.weight torch.Size([5120]) torch.float16\n",
      "model.layers.34.post_attention_layernorm.weight torch.Size([5120]) torch.float16\n",
      "model.layers.35.self_attn.q_proj.weight torch.Size([13107200, 1]) torch.uint8\n",
      "model.layers.35.self_attn.k_proj.weight torch.Size([13107200, 1]) torch.uint8\n",
      "model.layers.35.self_attn.v_proj.weight torch.Size([13107200, 1]) torch.uint8\n",
      "model.layers.35.self_attn.o_proj.weight torch.Size([13107200, 1]) torch.uint8\n",
      "model.layers.35.mlp.gate_proj.weight torch.Size([35389440, 1]) torch.uint8\n",
      "model.layers.35.mlp.up_proj.weight torch.Size([35389440, 1]) torch.uint8\n",
      "model.layers.35.mlp.down_proj.weight torch.Size([35389440, 1]) torch.uint8\n",
      "model.layers.35.input_layernorm.weight torch.Size([5120]) torch.float16\n",
      "model.layers.35.post_attention_layernorm.weight torch.Size([5120]) torch.float16\n",
      "model.layers.36.self_attn.q_proj.weight torch.Size([13107200, 1]) torch.uint8\n",
      "model.layers.36.self_attn.k_proj.weight torch.Size([13107200, 1]) torch.uint8\n",
      "model.layers.36.self_attn.v_proj.weight torch.Size([13107200, 1]) torch.uint8\n",
      "model.layers.36.self_attn.o_proj.weight torch.Size([13107200, 1]) torch.uint8\n",
      "model.layers.36.mlp.gate_proj.weight torch.Size([35389440, 1]) torch.uint8\n",
      "model.layers.36.mlp.up_proj.weight torch.Size([35389440, 1]) torch.uint8\n",
      "model.layers.36.mlp.down_proj.weight torch.Size([35389440, 1]) torch.uint8\n",
      "model.layers.36.input_layernorm.weight torch.Size([5120]) torch.float16\n",
      "model.layers.36.post_attention_layernorm.weight torch.Size([5120]) torch.float16\n",
      "model.layers.37.self_attn.q_proj.weight torch.Size([13107200, 1]) torch.uint8\n",
      "model.layers.37.self_attn.k_proj.weight torch.Size([13107200, 1]) torch.uint8\n",
      "model.layers.37.self_attn.v_proj.weight torch.Size([13107200, 1]) torch.uint8\n",
      "model.layers.37.self_attn.o_proj.weight torch.Size([13107200, 1]) torch.uint8\n",
      "model.layers.37.mlp.gate_proj.weight torch.Size([35389440, 1]) torch.uint8\n",
      "model.layers.37.mlp.up_proj.weight torch.Size([35389440, 1]) torch.uint8\n",
      "model.layers.37.mlp.down_proj.weight torch.Size([35389440, 1]) torch.uint8\n",
      "model.layers.37.input_layernorm.weight torch.Size([5120]) torch.float16\n",
      "model.layers.37.post_attention_layernorm.weight torch.Size([5120]) torch.float16\n",
      "model.layers.38.self_attn.q_proj.weight torch.Size([13107200, 1]) torch.uint8\n",
      "model.layers.38.self_attn.k_proj.weight torch.Size([13107200, 1]) torch.uint8\n",
      "model.layers.38.self_attn.v_proj.weight torch.Size([13107200, 1]) torch.uint8\n",
      "model.layers.38.self_attn.o_proj.weight torch.Size([13107200, 1]) torch.uint8\n",
      "model.layers.38.mlp.gate_proj.weight torch.Size([35389440, 1]) torch.uint8\n",
      "model.layers.38.mlp.up_proj.weight torch.Size([35389440, 1]) torch.uint8\n",
      "model.layers.38.mlp.down_proj.weight torch.Size([35389440, 1]) torch.uint8\n",
      "model.layers.38.input_layernorm.weight torch.Size([5120]) torch.float16\n",
      "model.layers.38.post_attention_layernorm.weight torch.Size([5120]) torch.float16\n",
      "model.layers.39.self_attn.q_proj.weight torch.Size([13107200, 1]) torch.uint8\n",
      "model.layers.39.self_attn.k_proj.weight torch.Size([13107200, 1]) torch.uint8\n",
      "model.layers.39.self_attn.v_proj.weight torch.Size([13107200, 1]) torch.uint8\n",
      "model.layers.39.self_attn.o_proj.weight torch.Size([13107200, 1]) torch.uint8\n",
      "model.layers.39.mlp.gate_proj.weight torch.Size([35389440, 1]) torch.uint8\n",
      "model.layers.39.mlp.up_proj.weight torch.Size([35389440, 1]) torch.uint8\n",
      "model.layers.39.mlp.down_proj.weight torch.Size([35389440, 1]) torch.uint8\n",
      "model.layers.39.input_layernorm.weight torch.Size([5120]) torch.float16\n",
      "model.layers.39.post_attention_layernorm.weight torch.Size([5120]) torch.float16\n",
      "model.norm.weight torch.Size([5120]) torch.float16\n",
      "lm_head.weight torch.Size([32000, 5120]) torch.float16\n"
     ]
    }
   ],
   "source": [
    "for name, param in model.named_parameters():\n",
    "    print(name, param.shape, param.dtype)"
   ]
  },
  {
   "cell_type": "code",
   "execution_count": 17,
   "metadata": {},
   "outputs": [
    {
     "data": {
      "text/plain": [
       "LlamaConfig {\n",
       "  \"_name_or_path\": \"D:/Pretrained_models/modelscope/Llama-2-13b-ms\",\n",
       "  \"architectures\": [\n",
       "    \"LlamaForCausalLM\"\n",
       "  ],\n",
       "  \"attention_bias\": false,\n",
       "  \"bos_token_id\": 1,\n",
       "  \"eos_token_id\": 2,\n",
       "  \"hidden_act\": \"silu\",\n",
       "  \"hidden_size\": 5120,\n",
       "  \"initializer_range\": 0.02,\n",
       "  \"intermediate_size\": 13824,\n",
       "  \"max_position_embeddings\": 4096,\n",
       "  \"model_type\": \"llama\",\n",
       "  \"num_attention_heads\": 40,\n",
       "  \"num_hidden_layers\": 40,\n",
       "  \"num_key_value_heads\": 40,\n",
       "  \"pad_token_id\": 0,\n",
       "  \"pretraining_tp\": 2,\n",
       "  \"quantization_config\": {\n",
       "    \"bnb_4bit_compute_dtype\": \"float16\",\n",
       "    \"bnb_4bit_quant_type\": \"nf4\",\n",
       "    \"bnb_4bit_use_double_quant\": true,\n",
       "    \"llm_int8_enable_fp32_cpu_offload\": false,\n",
       "    \"llm_int8_has_fp16_weight\": false,\n",
       "    \"llm_int8_skip_modules\": null,\n",
       "    \"llm_int8_threshold\": 6.0,\n",
       "    \"load_in_4bit\": true,\n",
       "    \"load_in_8bit\": false,\n",
       "    \"quant_method\": \"bitsandbytes\"\n",
       "  },\n",
       "  \"rms_norm_eps\": 1e-05,\n",
       "  \"rope_scaling\": null,\n",
       "  \"rope_theta\": 10000.0,\n",
       "  \"tie_word_embeddings\": false,\n",
       "  \"torch_dtype\": \"float16\",\n",
       "  \"transformers_version\": \"4.34.0\",\n",
       "  \"use_cache\": true,\n",
       "  \"vocab_size\": 32000\n",
       "}"
      ]
     },
     "execution_count": 17,
     "metadata": {},
     "output_type": "execute_result"
    }
   ],
   "source": [
    "model.config"
   ]
  },
  {
   "cell_type": "markdown",
   "metadata": {},
   "source": [
    "## Lora"
   ]
  },
  {
   "cell_type": "markdown",
   "metadata": {},
   "source": [
    "### PEFT Step1 配置文件"
   ]
  },
  {
   "cell_type": "code",
   "execution_count": 18,
   "metadata": {},
   "outputs": [
    {
     "data": {
      "text/plain": [
       "LoraConfig(peft_type=<PeftType.LORA: 'LORA'>, auto_mapping=None, base_model_name_or_path=None, revision=None, task_type=<TaskType.CAUSAL_LM: 'CAUSAL_LM'>, inference_mode=False, r=8, target_modules=None, lora_alpha=8, lora_dropout=0.0, fan_in_fan_out=False, bias='none', modules_to_save=None, init_lora_weights=True, layers_to_transform=None, layers_pattern=None, rank_pattern={}, alpha_pattern={})"
      ]
     },
     "execution_count": 18,
     "metadata": {},
     "output_type": "execute_result"
    }
   ],
   "source": [
    "from peft import LoraConfig, TaskType, get_peft_model\n",
    "\n",
    "config = LoraConfig(task_type=TaskType.CAUSAL_LM,)\n",
    "config"
   ]
  },
  {
   "cell_type": "markdown",
   "metadata": {},
   "source": [
    "### PEFT Step2 创建模型"
   ]
  },
  {
   "cell_type": "code",
   "execution_count": 19,
   "metadata": {},
   "outputs": [],
   "source": [
    "model = get_peft_model(model, config)"
   ]
  },
  {
   "cell_type": "code",
   "execution_count": 20,
   "metadata": {},
   "outputs": [
    {
     "data": {
      "text/plain": [
       "LoraConfig(peft_type=<PeftType.LORA: 'LORA'>, auto_mapping=None, base_model_name_or_path='D:/Pretrained_models/modelscope/Llama-2-13b-ms', revision=None, task_type=<TaskType.CAUSAL_LM: 'CAUSAL_LM'>, inference_mode=False, r=8, target_modules={'q_proj', 'v_proj'}, lora_alpha=8, lora_dropout=0.0, fan_in_fan_out=False, bias='none', modules_to_save=None, init_lora_weights=True, layers_to_transform=None, layers_pattern=None, rank_pattern={}, alpha_pattern={})"
      ]
     },
     "execution_count": 20,
     "metadata": {},
     "output_type": "execute_result"
    }
   ],
   "source": [
    "config"
   ]
  },
  {
   "cell_type": "code",
   "execution_count": 21,
   "metadata": {},
   "outputs": [],
   "source": [
    "model.enable_input_require_grads() # 开启梯度检查点时，要执行该方法"
   ]
  },
  {
   "cell_type": "code",
   "execution_count": 22,
   "metadata": {},
   "outputs": [],
   "source": [
    "# model = model.half()  # 当整个模型都是半精度时，需要将adam_epsilon调大\n",
    "# torch.tensor(1e-8).half() "
   ]
  },
  {
   "cell_type": "code",
   "execution_count": 23,
   "metadata": {},
   "outputs": [
    {
     "name": "stdout",
     "output_type": "stream",
     "text": [
      "trainable params: 6,553,600 || all params: 13,022,417,920 || trainable%: 0.05032552357220002\n"
     ]
    }
   ],
   "source": [
    "model.print_trainable_parameters()"
   ]
  },
  {
   "cell_type": "markdown",
   "metadata": {},
   "source": [
    "## Step5 配置训练参数"
   ]
  },
  {
   "cell_type": "code",
   "execution_count": 24,
   "metadata": {},
   "outputs": [],
   "source": [
    "args = TrainingArguments(\n",
    "    output_dir=\"./chatbot\",\n",
    "    per_device_train_batch_size=1,\n",
    "    gradient_accumulation_steps=32,\n",
    "    logging_steps=10,\n",
    "    num_train_epochs=1,\n",
    "    gradient_checkpointing=True,\n",
    "    optim=\"paged_adamw_32bit\"\n",
    ")"
   ]
  },
  {
   "cell_type": "markdown",
   "metadata": {},
   "source": [
    "## Step6 创建训练器"
   ]
  },
  {
   "cell_type": "code",
   "execution_count": 25,
   "metadata": {},
   "outputs": [],
   "source": [
    "trainer = Trainer(\n",
    "    model=model,\n",
    "    args=args,\n",
    "    train_dataset=tokenized_ds.select(range(6000)),\n",
    "    data_collator=DataCollatorForSeq2Seq(tokenizer=tokenizer, padding=True),\n",
    ")"
   ]
  },
  {
   "cell_type": "markdown",
   "metadata": {},
   "source": [
    "## Step7 模型训练"
   ]
  },
  {
   "cell_type": "code",
   "execution_count": 26,
   "metadata": {},
   "outputs": [
    {
     "data": {
      "application/vnd.jupyter.widget-view+json": {
       "model_id": "d3aab40adb93472f8bece9ec5918c131",
       "version_major": 2,
       "version_minor": 0
      },
      "text/plain": [
       "  0%|          | 0/187 [00:00<?, ?it/s]"
      ]
     },
     "metadata": {},
     "output_type": "display_data"
    },
    {
     "name": "stderr",
     "output_type": "stream",
     "text": [
      "You're using a LlamaTokenizerFast tokenizer. Please note that with a fast tokenizer, using the `__call__` method is faster than using a method to encode the text followed by a call to the `pad` method to get a padded encoding.\n",
      "`use_cache=True` is incompatible with gradient checkpointing. Setting `use_cache=False`...\n"
     ]
    },
    {
     "ename": "KeyboardInterrupt",
     "evalue": "",
     "output_type": "error",
     "traceback": [
      "\u001b[1;31m---------------------------------------------------------------------------\u001b[0m",
      "\u001b[1;31mKeyboardInterrupt\u001b[0m                         Traceback (most recent call last)",
      "\u001b[1;32mc:\\Users\\yuyao\\Desktop\\transformers-code\\04-Kbit Training\\27-4bits_training\\llama2_qlora_4bit copy.ipynb 单元格 37\u001b[0m line \u001b[0;36m1\n\u001b[1;32m----> <a href='vscode-notebook-cell:/c%3A/Users/yuyao/Desktop/transformers-code/04-Kbit%20Training/27-4bits_training/llama2_qlora_4bit%20copy.ipynb#X51sZmlsZQ%3D%3D?line=0'>1</a>\u001b[0m trainer\u001b[39m.\u001b[39;49mtrain()\n",
      "File \u001b[1;32mc:\\Users\\yuyao\\miniconda3\\envs\\transformers\\lib\\site-packages\\transformers\\trainer.py:1591\u001b[0m, in \u001b[0;36mTrainer.train\u001b[1;34m(self, resume_from_checkpoint, trial, ignore_keys_for_eval, **kwargs)\u001b[0m\n\u001b[0;32m   1589\u001b[0m         hf_hub_utils\u001b[39m.\u001b[39menable_progress_bars()\n\u001b[0;32m   1590\u001b[0m \u001b[39melse\u001b[39;00m:\n\u001b[1;32m-> 1591\u001b[0m     \u001b[39mreturn\u001b[39;00m inner_training_loop(\n\u001b[0;32m   1592\u001b[0m         args\u001b[39m=\u001b[39;49margs,\n\u001b[0;32m   1593\u001b[0m         resume_from_checkpoint\u001b[39m=\u001b[39;49mresume_from_checkpoint,\n\u001b[0;32m   1594\u001b[0m         trial\u001b[39m=\u001b[39;49mtrial,\n\u001b[0;32m   1595\u001b[0m         ignore_keys_for_eval\u001b[39m=\u001b[39;49mignore_keys_for_eval,\n\u001b[0;32m   1596\u001b[0m     )\n",
      "File \u001b[1;32mc:\\Users\\yuyao\\miniconda3\\envs\\transformers\\lib\\site-packages\\transformers\\trainer.py:1892\u001b[0m, in \u001b[0;36mTrainer._inner_training_loop\u001b[1;34m(self, batch_size, args, resume_from_checkpoint, trial, ignore_keys_for_eval)\u001b[0m\n\u001b[0;32m   1889\u001b[0m     \u001b[39mself\u001b[39m\u001b[39m.\u001b[39mcontrol \u001b[39m=\u001b[39m \u001b[39mself\u001b[39m\u001b[39m.\u001b[39mcallback_handler\u001b[39m.\u001b[39mon_step_begin(args, \u001b[39mself\u001b[39m\u001b[39m.\u001b[39mstate, \u001b[39mself\u001b[39m\u001b[39m.\u001b[39mcontrol)\n\u001b[0;32m   1891\u001b[0m \u001b[39mwith\u001b[39;00m \u001b[39mself\u001b[39m\u001b[39m.\u001b[39maccelerator\u001b[39m.\u001b[39maccumulate(model):\n\u001b[1;32m-> 1892\u001b[0m     tr_loss_step \u001b[39m=\u001b[39m \u001b[39mself\u001b[39;49m\u001b[39m.\u001b[39;49mtraining_step(model, inputs)\n\u001b[0;32m   1894\u001b[0m \u001b[39mif\u001b[39;00m (\n\u001b[0;32m   1895\u001b[0m     args\u001b[39m.\u001b[39mlogging_nan_inf_filter\n\u001b[0;32m   1896\u001b[0m     \u001b[39mand\u001b[39;00m \u001b[39mnot\u001b[39;00m is_torch_tpu_available()\n\u001b[0;32m   1897\u001b[0m     \u001b[39mand\u001b[39;00m (torch\u001b[39m.\u001b[39misnan(tr_loss_step) \u001b[39mor\u001b[39;00m torch\u001b[39m.\u001b[39misinf(tr_loss_step))\n\u001b[0;32m   1898\u001b[0m ):\n\u001b[0;32m   1899\u001b[0m     \u001b[39m# if loss is nan or inf simply add the average of previous logged losses\u001b[39;00m\n\u001b[0;32m   1900\u001b[0m     tr_loss \u001b[39m+\u001b[39m\u001b[39m=\u001b[39m tr_loss \u001b[39m/\u001b[39m (\u001b[39m1\u001b[39m \u001b[39m+\u001b[39m \u001b[39mself\u001b[39m\u001b[39m.\u001b[39mstate\u001b[39m.\u001b[39mglobal_step \u001b[39m-\u001b[39m \u001b[39mself\u001b[39m\u001b[39m.\u001b[39m_globalstep_last_logged)\n",
      "File \u001b[1;32mc:\\Users\\yuyao\\miniconda3\\envs\\transformers\\lib\\site-packages\\transformers\\trainer.py:2787\u001b[0m, in \u001b[0;36mTrainer.training_step\u001b[1;34m(self, model, inputs)\u001b[0m\n\u001b[0;32m   2785\u001b[0m         scaled_loss\u001b[39m.\u001b[39mbackward()\n\u001b[0;32m   2786\u001b[0m \u001b[39melse\u001b[39;00m:\n\u001b[1;32m-> 2787\u001b[0m     \u001b[39mself\u001b[39;49m\u001b[39m.\u001b[39;49maccelerator\u001b[39m.\u001b[39;49mbackward(loss)\n\u001b[0;32m   2789\u001b[0m \u001b[39mreturn\u001b[39;00m loss\u001b[39m.\u001b[39mdetach() \u001b[39m/\u001b[39m \u001b[39mself\u001b[39m\u001b[39m.\u001b[39margs\u001b[39m.\u001b[39mgradient_accumulation_steps\n",
      "File \u001b[1;32mc:\\Users\\yuyao\\miniconda3\\envs\\transformers\\lib\\site-packages\\accelerate\\accelerator.py:1985\u001b[0m, in \u001b[0;36mAccelerator.backward\u001b[1;34m(self, loss, **kwargs)\u001b[0m\n\u001b[0;32m   1983\u001b[0m     \u001b[39mself\u001b[39m\u001b[39m.\u001b[39mscaler\u001b[39m.\u001b[39mscale(loss)\u001b[39m.\u001b[39mbackward(\u001b[39m*\u001b[39m\u001b[39m*\u001b[39mkwargs)\n\u001b[0;32m   1984\u001b[0m \u001b[39melse\u001b[39;00m:\n\u001b[1;32m-> 1985\u001b[0m     loss\u001b[39m.\u001b[39mbackward(\u001b[39m*\u001b[39m\u001b[39m*\u001b[39mkwargs)\n",
      "File \u001b[1;32mc:\\Users\\yuyao\\miniconda3\\envs\\transformers\\lib\\site-packages\\torch\\_tensor.py:488\u001b[0m, in \u001b[0;36mTensor.backward\u001b[1;34m(self, gradient, retain_graph, create_graph, inputs)\u001b[0m\n\u001b[0;32m    478\u001b[0m \u001b[39mif\u001b[39;00m has_torch_function_unary(\u001b[39mself\u001b[39m):\n\u001b[0;32m    479\u001b[0m     \u001b[39mreturn\u001b[39;00m handle_torch_function(\n\u001b[0;32m    480\u001b[0m         Tensor\u001b[39m.\u001b[39mbackward,\n\u001b[0;32m    481\u001b[0m         (\u001b[39mself\u001b[39m,),\n\u001b[1;32m   (...)\u001b[0m\n\u001b[0;32m    486\u001b[0m         inputs\u001b[39m=\u001b[39minputs,\n\u001b[0;32m    487\u001b[0m     )\n\u001b[1;32m--> 488\u001b[0m torch\u001b[39m.\u001b[39;49mautograd\u001b[39m.\u001b[39;49mbackward(\n\u001b[0;32m    489\u001b[0m     \u001b[39mself\u001b[39;49m, gradient, retain_graph, create_graph, inputs\u001b[39m=\u001b[39;49minputs\n\u001b[0;32m    490\u001b[0m )\n",
      "File \u001b[1;32mc:\\Users\\yuyao\\miniconda3\\envs\\transformers\\lib\\site-packages\\torch\\autograd\\__init__.py:197\u001b[0m, in \u001b[0;36mbackward\u001b[1;34m(tensors, grad_tensors, retain_graph, create_graph, grad_variables, inputs)\u001b[0m\n\u001b[0;32m    192\u001b[0m     retain_graph \u001b[39m=\u001b[39m create_graph\n\u001b[0;32m    194\u001b[0m \u001b[39m# The reason we repeat same the comment below is that\u001b[39;00m\n\u001b[0;32m    195\u001b[0m \u001b[39m# some Python versions print out the first line of a multi-line function\u001b[39;00m\n\u001b[0;32m    196\u001b[0m \u001b[39m# calls in the traceback and some print out the last line\u001b[39;00m\n\u001b[1;32m--> 197\u001b[0m Variable\u001b[39m.\u001b[39;49m_execution_engine\u001b[39m.\u001b[39;49mrun_backward(  \u001b[39m# Calls into the C++ engine to run the backward pass\u001b[39;49;00m\n\u001b[0;32m    198\u001b[0m     tensors, grad_tensors_, retain_graph, create_graph, inputs,\n\u001b[0;32m    199\u001b[0m     allow_unreachable\u001b[39m=\u001b[39;49m\u001b[39mTrue\u001b[39;49;00m, accumulate_grad\u001b[39m=\u001b[39;49m\u001b[39mTrue\u001b[39;49;00m)\n",
      "\u001b[1;31mKeyboardInterrupt\u001b[0m: "
     ]
    }
   ],
   "source": [
    "trainer.train()"
   ]
  },
  {
   "cell_type": "markdown",
   "metadata": {},
   "source": [
    "## Step8 模型推理"
   ]
  },
  {
   "cell_type": "code",
   "execution_count": null,
   "metadata": {},
   "outputs": [],
   "source": [
    "model.eval()\n",
    "ipt = tokenizer(\"Human: {}\\n{}\".format(\"你好\", \"\").strip() + \"\\n\\nAssistant: \", return_tensors=\"pt\").to(model.device)\n",
    "tokenizer.decode(model.generate(**ipt, max_length=128, do_sample=True, eos_token_id=tokenizer.eos_token_id)[0], skip_special_tokens=True)"
   ]
  },
  {
   "cell_type": "code",
   "execution_count": null,
   "metadata": {},
   "outputs": [],
   "source": [
    "model.merge_and_unload() "
   ]
  },
  {
   "cell_type": "code",
   "execution_count": null,
   "metadata": {},
   "outputs": [],
   "source": []
  }
 ],
 "metadata": {
  "kernelspec": {
   "display_name": "transformers",
   "language": "python",
   "name": "python3"
  },
  "language_info": {
   "codemirror_mode": {
    "name": "ipython",
    "version": 3
   },
   "file_extension": ".py",
   "mimetype": "text/x-python",
   "name": "python",
   "nbconvert_exporter": "python",
   "pygments_lexer": "ipython3",
   "version": "3.9.16"
  },
  "orig_nbformat": 4
 },
 "nbformat": 4,
 "nbformat_minor": 2
}
