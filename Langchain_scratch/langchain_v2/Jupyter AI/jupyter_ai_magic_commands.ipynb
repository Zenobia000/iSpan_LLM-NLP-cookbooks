{
 "cells": [
  {
   "cell_type": "markdown",
   "id": "1ac8e009",
   "metadata": {},
   "source": [
    "# Jupyter AI\n",
    "\n",
    "Last Update: Jan 10, 2024\n",
    "\n",
    "**Jupyter AI** is a JupyterLab extension that provides a friendly user interface between users and AI models."
   ]
  },
  {
   "cell_type": "code",
   "execution_count": null,
   "id": "371b8572",
   "metadata": {},
   "outputs": [],
   "source": [
    "pip install -q \"openai<1\""
   ]
  },
  {
   "cell_type": "code",
   "execution_count": null,
   "id": "b302a11b",
   "metadata": {},
   "outputs": [],
   "source": [
    "pip install -q \"langchain<1\""
   ]
  },
  {
   "cell_type": "code",
   "execution_count": 8,
   "id": "19c714d6",
   "metadata": {},
   "outputs": [],
   "source": [
    "import warnings\n",
    "warnings.filterwarnings('ignore')"
   ]
  },
  {
   "cell_type": "code",
   "execution_count": 1,
   "id": "6604c592",
   "metadata": {},
   "outputs": [],
   "source": [
    "import openai\n",
    "import os\n",
    "\n",
    "os.environ['OPENAI_API_KEY'] = 'sk-3jJTK5I1lYzu8BeCzQpQT3BlbkFJ915wTVmy******'\n",
    "openai.api_key = os.getenv('OPENAI_API_KEY')"
   ]
  },
  {
   "cell_type": "markdown",
   "id": "e8071b73",
   "metadata": {},
   "source": [
    "#### Loadingthe IPython extension:"
   ]
  },
  {
   "cell_type": "code",
   "execution_count": 2,
   "id": "b52ee791",
   "metadata": {},
   "outputs": [],
   "source": [
    "%load_ext jupyter_ai_magics"
   ]
  },
  {
   "cell_type": "markdown",
   "id": "9f551328",
   "metadata": {},
   "source": [
    "#### Getting help with the %%ai command"
   ]
  },
  {
   "cell_type": "code",
   "execution_count": 3,
   "id": "83b65079",
   "metadata": {
    "scrolled": true
   },
   "outputs": [
    {
     "name": "stdout",
     "output_type": "stream",
     "text": [
      "Usage: %%ai [OPTIONS] MODEL_ID\n",
      "\n",
      "  Invokes a language model identified by MODEL_ID, with the prompt being\n",
      "  contained in all lines after the first. Both local model IDs and global\n",
      "  model IDs (with the provider ID explicitly prefixed, followed by a colon)\n",
      "  are accepted.\n",
      "\n",
      "  To view available language models, please run `%ai list`.\n",
      "\n",
      "Options:\n",
      "  -f, --format [code|html|image|json|markdown|math|md|text]\n",
      "                                  IPython display to use when rendering\n",
      "                                  output. [default=\"markdown\"]\n",
      "  -r, --reset                     Clears the conversation transcript used when\n",
      "                                  interacting with an OpenAI chat model\n",
      "                                  provider. Does nothing with other providers.\n",
      "  -n, --region-name TEXT          AWS region name, e.g. 'us-east-1'. Required\n",
      "                                  for SageMaker provider; does nothing with\n",
      "                                  other providers.\n",
      "  -q, --request-schema TEXT       The JSON object the endpoint expects, with\n",
      "                                  the prompt being substituted into any value\n",
      "                                  that matches the string literal '<prompt>'.\n",
      "                                  Required for SageMaker provider; does\n",
      "                                  nothing with other providers.\n",
      "  -p, --response-path TEXT        A JSONPath string that retrieves the\n",
      "                                  language model's output from the endpoint's\n",
      "                                  JSON response. Required for SageMaker\n",
      "                                  provider; does nothing with other providers.\n",
      "  --help                          Show this message and exit.\n",
      "------------------------------------------------------------------------------\n",
      "Usage: %ai [OPTIONS] COMMAND [ARGS]...\n",
      "\n",
      "  Invokes a subcommand.\n",
      "\n",
      "Options:\n",
      "  --help  Show this message and exit.\n",
      "\n",
      "Commands:\n",
      "  delete    Delete an alias. See `%ai delete --help` for options.\n",
      "  error     Explains the most recent error.\n",
      "  help      Show this message and exit.\n",
      "  list      List language models. See `%ai list --help` for options.\n",
      "  register  Register a new alias. See `%ai register --help` for options.\n",
      "  update    Update the target of an alias. See `%ai update --help` for\n",
      "            options.\n",
      "\n"
     ]
    }
   ],
   "source": [
    "%ai help"
   ]
  },
  {
   "cell_type": "code",
   "execution_count": 4,
   "id": "5cc810ea",
   "metadata": {},
   "outputs": [
    {
     "name": "stdout",
     "output_type": "stream",
     "text": [
      "Usage: %ai list [OPTIONS] [PROVIDER_ID]\n",
      "\n",
      "  List language models, optionally scoped to PROVIDER_ID.\n",
      "\n",
      "Options:\n",
      "  --help  Show this message and exit.\n"
     ]
    }
   ],
   "source": [
    "%ai list --help"
   ]
  },
  {
   "cell_type": "markdown",
   "id": "8f61cc4b",
   "metadata": {},
   "source": [
    "#### Listing all providers and models available"
   ]
  },
  {
   "cell_type": "code",
   "execution_count": 5,
   "id": "68c6bc2b",
   "metadata": {
    "scrolled": true
   },
   "outputs": [
    {
     "data": {
      "text/markdown": [
       "| Provider | Environment variable | Set? | Models |\n",
       "|----------|----------------------|------|--------|\n",
       "| `ai21` | `AI21_API_KEY` | <abbr title=\"You have not set this environment variable, so you cannot use this provider's models.\">❌</abbr> | `ai21:j1-large`, `ai21:j1-grande`, `ai21:j1-jumbo`, `ai21:j1-grande-instruct`, `ai21:j2-large`, `ai21:j2-grande`, `ai21:j2-jumbo`, `ai21:j2-grande-instruct`, `ai21:j2-jumbo-instruct` |\n",
       "| `bedrock` | Not applicable. | <abbr title=\"Not applicable\">N/A</abbr> | `bedrock:amazon.titan-tg1-large`, `bedrock:anthropic.claude-v1`, `bedrock:anthropic.claude-instant-v1`, `bedrock:ai21.j2-jumbo-instruct`, `bedrock:ai21.j2-grande-instruct` |\n",
       "| `anthropic` | `ANTHROPIC_API_KEY` | <abbr title=\"You have not set this environment variable, so you cannot use this provider's models.\">❌</abbr> | `anthropic:claude-v1`, `anthropic:claude-v1.0`, `anthropic:claude-v1.2`, `anthropic:claude-instant-v1`, `anthropic:claude-instant-v1.0` |\n",
       "| `cohere` | `COHERE_API_KEY` | <abbr title=\"You have not set this environment variable, so you cannot use this provider's models.\">❌</abbr> | `cohere:medium`, `cohere:xlarge` |\n",
       "| `huggingface_hub` | `HUGGINGFACEHUB_API_TOKEN` | <abbr title=\"You have not set this environment variable, so you cannot use this provider's models.\">❌</abbr> | See https://huggingface.co/models for a list of models. Pass a model's repository ID as the model ID; for example, `huggingface_hub:ExampleOwner/example-model`. |\n",
       "| `openai` | `OPENAI_API_KEY` | <abbr title=\"You have set this environment variable, so you can use this provider's models.\">✅</abbr> | `openai:text-davinci-003`, `openai:text-davinci-002`, `openai:text-curie-001`, `openai:text-babbage-001`, `openai:text-ada-001`, `openai:davinci`, `openai:curie`, `openai:babbage`, `openai:ada` |\n",
       "| `openai-chat` | `OPENAI_API_KEY` | <abbr title=\"You have set this environment variable, so you can use this provider's models.\">✅</abbr> | `openai-chat:gpt-4`, `openai-chat:gpt-4-0314`, `openai-chat:gpt-4-32k`, `openai-chat:gpt-4-32k-0314`, `openai-chat:gpt-3.5-turbo`, `openai-chat:gpt-3.5-turbo-0301` |\n",
       "| `openai-chat-new` | `OPENAI_API_KEY` | <abbr title=\"You have set this environment variable, so you can use this provider's models.\">✅</abbr> | `openai-chat-new:gpt-4`, `openai-chat-new:gpt-4-0314`, `openai-chat-new:gpt-4-32k`, `openai-chat-new:gpt-4-32k-0314`, `openai-chat-new:gpt-3.5-turbo`, `openai-chat-new:gpt-3.5-turbo-0301` |\n",
       "| `sagemaker-endpoint` | Not applicable. | <abbr title=\"Not applicable\">N/A</abbr> | Specify an endpoint name as the model ID. In addition, you must include the `--region_name`, `--request_schema`, and the `--response_path` arguments. For more information, see the documentation about [SageMaker endpoints deployment](https://docs.aws.amazon.com/sagemaker/latest/dg/realtime-endpoints-deployment.html) and about [using magic commands with SageMaker endpoints](https://jupyter-ai.readthedocs.io/en/latest/users/index.html#using-magic-commands-with-sagemaker-endpoints). |\n",
       "\n",
       "Aliases and custom commands:\n",
       "\n",
       "| Name | Target |\n",
       "|------|--------|\n",
       "| `gpt2` | `huggingface_hub:gpt2` |\n",
       "| `gpt3` | `openai:text-davinci-003` |\n",
       "| `chatgpt` | `openai-chat:gpt-3.5-turbo` |\n",
       "| `gpt4` | `openai-chat:gpt-4` |\n"
      ],
      "text/plain": [
       "ai21\n",
       "Requires environment variable AI21_API_KEY (not set)\n",
       "* ai21:j1-large\n",
       "* ai21:j1-grande\n",
       "* ai21:j1-jumbo\n",
       "* ai21:j1-grande-instruct\n",
       "* ai21:j2-large\n",
       "* ai21:j2-grande\n",
       "* ai21:j2-jumbo\n",
       "* ai21:j2-grande-instruct\n",
       "* ai21:j2-jumbo-instruct\n",
       "\n",
       "bedrock\n",
       "* bedrock:amazon.titan-tg1-large\n",
       "* bedrock:anthropic.claude-v1\n",
       "* bedrock:anthropic.claude-instant-v1\n",
       "* bedrock:ai21.j2-jumbo-instruct\n",
       "* bedrock:ai21.j2-grande-instruct\n",
       "\n",
       "anthropic\n",
       "Requires environment variable ANTHROPIC_API_KEY (not set)\n",
       "* anthropic:claude-v1\n",
       "* anthropic:claude-v1.0\n",
       "* anthropic:claude-v1.2\n",
       "* anthropic:claude-instant-v1\n",
       "* anthropic:claude-instant-v1.0\n",
       "\n",
       "cohere\n",
       "Requires environment variable COHERE_API_KEY (not set)\n",
       "* cohere:medium\n",
       "* cohere:xlarge\n",
       "\n",
       "huggingface_hub\n",
       "Requires environment variable HUGGINGFACEHUB_API_TOKEN (not set)\n",
       "* See https://huggingface.co/models for a list of models. Pass a model's repository ID as the model ID; for example, `huggingface_hub:ExampleOwner/example-model`.\n",
       "\n",
       "openai\n",
       "Requires environment variable OPENAI_API_KEY (set)\n",
       "* openai:text-davinci-003\n",
       "* openai:text-davinci-002\n",
       "* openai:text-curie-001\n",
       "* openai:text-babbage-001\n",
       "* openai:text-ada-001\n",
       "* openai:davinci\n",
       "* openai:curie\n",
       "* openai:babbage\n",
       "* openai:ada\n",
       "\n",
       "openai-chat\n",
       "Requires environment variable OPENAI_API_KEY (set)\n",
       "* openai-chat:gpt-4\n",
       "* openai-chat:gpt-4-0314\n",
       "* openai-chat:gpt-4-32k\n",
       "* openai-chat:gpt-4-32k-0314\n",
       "* openai-chat:gpt-3.5-turbo\n",
       "* openai-chat:gpt-3.5-turbo-0301\n",
       "\n",
       "openai-chat-new\n",
       "Requires environment variable OPENAI_API_KEY (set)\n",
       "* openai-chat-new:gpt-4\n",
       "* openai-chat-new:gpt-4-0314\n",
       "* openai-chat-new:gpt-4-32k\n",
       "* openai-chat-new:gpt-4-32k-0314\n",
       "* openai-chat-new:gpt-3.5-turbo\n",
       "* openai-chat-new:gpt-3.5-turbo-0301\n",
       "\n",
       "sagemaker-endpoint\n",
       "* Specify an endpoint name as the model ID. In addition, you must include the `--region_name`, `--request_schema`, and the `--response_path` arguments. For more information, see the documentation about [SageMaker endpoints deployment](https://docs.aws.amazon.com/sagemaker/latest/dg/realtime-endpoints-deployment.html) and about [using magic commands with SageMaker endpoints](https://jupyter-ai.readthedocs.io/en/latest/users/index.html#using-magic-commands-with-sagemaker-endpoints).\n",
       "\n",
       "\n",
       "Aliases and custom commands:\n",
       "gpt2 - huggingface_hub:gpt2\n",
       "gpt3 - openai:text-davinci-003\n",
       "chatgpt - openai-chat:gpt-3.5-turbo\n",
       "gpt4 - openai-chat:gpt-4\n"
      ]
     },
     "execution_count": 5,
     "metadata": {},
     "output_type": "execute_result"
    }
   ],
   "source": [
    "%ai list"
   ]
  },
  {
   "cell_type": "markdown",
   "id": "1fb6b1cb",
   "metadata": {},
   "source": [
    "#### Listing all models offered by a specific provider"
   ]
  },
  {
   "cell_type": "code",
   "execution_count": 6,
   "id": "ada098fa",
   "metadata": {},
   "outputs": [
    {
     "data": {
      "text/markdown": [
       "| Provider | Environment variable | Set? | Models |\n",
       "|----------|----------------------|------|--------|\n",
       "| `openai` | `OPENAI_API_KEY` | <abbr title=\"You have set this environment variable, so you can use this provider's models.\">✅</abbr> | `openai:text-davinci-003`, `openai:text-davinci-002`, `openai:text-curie-001`, `openai:text-babbage-001`, `openai:text-ada-001`, `openai:davinci`, `openai:curie`, `openai:babbage`, `openai:ada` |\n"
      ],
      "text/plain": [
       "openai\n",
       "Requires environment variable OPENAI_API_KEY (set)\n",
       "* openai:text-davinci-003\n",
       "* openai:text-davinci-002\n",
       "* openai:text-curie-001\n",
       "* openai:text-babbage-001\n",
       "* openai:text-ada-001\n",
       "* openai:davinci\n",
       "* openai:curie\n",
       "* openai:babbage\n",
       "* openai:ada\n",
       "\n"
      ]
     },
     "execution_count": 6,
     "metadata": {},
     "output_type": "execute_result"
    }
   ],
   "source": [
    "%ai list openai"
   ]
  },
  {
   "cell_type": "markdown",
   "id": "98dac14c",
   "metadata": {},
   "source": [
    "#### Changing the format of the output"
   ]
  },
  {
   "cell_type": "code",
   "execution_count": 9,
   "id": "e31899d0",
   "metadata": {},
   "outputs": [
    {
     "data": {
      "text/latex": [
       "$\\displaystyle \\frac{\\partial u}{\\partial t} = \\alpha \\left(\\frac{\\partial^2 u}{\\partial x^2} + \\frac{\\partial^2 u}{\\partial y^2}\\right)$"
      ],
      "text/plain": [
       "<IPython.core.display.Math object>"
      ]
     },
     "execution_count": 9,
     "metadata": {
      "text/latex": {
       "jupyter_ai": {
        "model_id": "gpt-3.5-turbo",
        "provider_id": "openai-chat"
       }
      }
     },
     "output_type": "execute_result"
    }
   ],
   "source": [
    "%%ai chatgpt -f math\n",
    "Generate the 2D heat equation in LaTeX surrounded by `$$`. Do not include an explanation."
   ]
  },
  {
   "cell_type": "markdown",
   "id": "38bf6110",
   "metadata": {},
   "source": [
    "#### Making a request to gpt-3.5-turbo"
   ]
  },
  {
   "cell_type": "code",
   "execution_count": 10,
   "id": "0e46d912",
   "metadata": {},
   "outputs": [
    {
     "data": {
      "text/markdown": [
       "In Python, there are three different types of collections: lists, tuples, and sets. \n",
       "\n",
       "- Lists: Lists are ordered and mutable, meaning that you can change, add, and remove elements from them. They are created using square brackets `[]` and elements are separated by commas. Example: `[1, 2, 3]`\n",
       "\n",
       "- Tuples: Tuples are ordered and immutable, meaning that once a tuple is created, you cannot change its elements. They are created using parentheses `()` and elements are separated by commas. Example: `(1, 2, 3)`\n",
       "\n",
       "- Sets: Sets are unordered and mutable collections of unique elements. They are created using curly braces `{}` or the `set()` constructor. Example: `{1, 2, 3}` or `set([1, 2, 3])`\n",
       "\n",
       "All three types can contain elements of different types and can be used for different purposes depending on your needs."
      ],
      "text/plain": [
       "<IPython.core.display.Markdown object>"
      ]
     },
     "execution_count": 10,
     "metadata": {
      "text/markdown": {
       "jupyter_ai": {
        "model_id": "gpt-3.5-turbo",
        "provider_id": "openai-chat"
       }
      }
     },
     "output_type": "execute_result"
    }
   ],
   "source": [
    "%%ai openai-chat:gpt-3.5-turbo\n",
    "lists vs. tuples vs. sets in Python"
   ]
  },
  {
   "cell_type": "code",
   "execution_count": 13,
   "id": "9b926252",
   "metadata": {},
   "outputs": [
    {
     "data": {
      "text/markdown": [
       "In Python, you can sort lists by using the `sort()` method or the `sorted()` function.\n",
       "\n",
       "- The `sort()` method sorts the list in place, which means it modifies the original list. Example:\n",
       "```python\n",
       "my_list = [3, 1, 2]\n",
       "my_list.sort()\n",
       "print(my_list)  # Output: [1, 2, 3]\n",
       "```\n",
       "\n",
       "- The `sorted()` function returns a new sorted list without modifying the original list. Example:\n",
       "```python\n",
       "my_list = [3, 1, 2]\n",
       "sorted_list = sorted(my_list)\n",
       "print(sorted_list)  # Output: [1, 2, 3]\n",
       "print(my_list)  # Output: [3, 1, 2]\n",
       "```\n",
       "\n",
       "Both methods can also accept optional parameters for custom sorting. For instance, you can use the `reverse=True` parameter to sort the list in descending order."
      ],
      "text/plain": [
       "<IPython.core.display.Markdown object>"
      ]
     },
     "execution_count": 13,
     "metadata": {
      "text/markdown": {
       "jupyter_ai": {
        "model_id": "gpt-3.5-turbo",
        "provider_id": "openai-chat"
       }
      }
     },
     "output_type": "execute_result"
    }
   ],
   "source": [
    "%%ai chatgpt\n",
    "how to sort lists in Python?"
   ]
  },
  {
   "cell_type": "code",
   "execution_count": 14,
   "id": "48298f29",
   "metadata": {},
   "outputs": [
    {
     "data": {
      "text/markdown": [
       "Cannot determine model provider from model ID `gpt.3.4-turbo`.\n",
       "\n",
       "To see a list of models you can use, run `%ai list`\n",
       "\n",
       "If you were trying to run a command, run `%ai help` to see a list of commands."
      ],
      "text/plain": [
       "Cannot determine model provider from model ID 'gpt.3.4-turbo'.\n",
       "\n",
       "To see a list of models you can use, run '%ai list'\n",
       "\n",
       "If you were trying to run a command, run '%ai help' to see a list of commands."
      ]
     },
     "execution_count": 14,
     "metadata": {},
     "output_type": "execute_result"
    }
   ],
   "source": [
    "%%ai gpt.3.4-turbo\n",
    "explain dict.update()"
   ]
  },
  {
   "cell_type": "markdown",
   "id": "bea0d150",
   "metadata": {},
   "source": [
    "#### Generate code"
   ]
  },
  {
   "cell_type": "code",
   "execution_count": 15,
   "id": "400e40aa",
   "metadata": {},
   "outputs": [
    {
     "data": {
      "text/html": [
       "AI generated code inserted below &#11015;&#65039;"
      ],
      "text/plain": [
       "<IPython.core.display.HTML object>"
      ]
     },
     "execution_count": 15,
     "metadata": {
      "text/html": {
       "jupyter_ai": {
        "model_id": "gpt-3.5-turbo",
        "provider_id": "openai-chat"
       }
      }
     },
     "output_type": "execute_result"
    }
   ],
   "source": [
    "%%ai chatgpt -f code \n",
    "define a function that calculates the factorial of n. \n",
    "call the function with 10 as an argument."
   ]
  },
  {
   "cell_type": "code",
   "execution_count": null,
   "id": "afc7f05d",
   "metadata": {},
   "outputs": [],
   "source": [
    "def factorial(n):\n",
    "    if n == 0:\n",
    "        return 1\n",
    "    else:\n",
    "        return n * factorial(n-1)\n",
    "\n",
    "result = factorial(10)\n",
    "print(result)"
   ]
  },
  {
   "cell_type": "code",
   "execution_count": 16,
   "id": "9474e0d9",
   "metadata": {},
   "outputs": [
    {
     "name": "stdout",
     "output_type": "stream",
     "text": [
      "3628800\n"
     ]
    }
   ],
   "source": [
    "def factorial(n):\n",
    "    result = 1\n",
    "    for i in range(1, n+1):\n",
    "        result *= i\n",
    "    return result\n",
    "\n",
    "print(factorial(10))"
   ]
  },
  {
   "cell_type": "code",
   "execution_count": 17,
   "id": "05ce6aad",
   "metadata": {},
   "outputs": [
    {
     "data": {
      "text/html": [
       "AI generated code inserted below &#11015;&#65039;"
      ],
      "text/plain": [
       "<IPython.core.display.HTML object>"
      ]
     },
     "execution_count": 17,
     "metadata": {
      "text/html": {
       "jupyter_ai": {
        "model_id": "gpt-3.5-turbo",
        "provider_id": "openai-chat"
       }
      }
     },
     "output_type": "execute_result"
    }
   ],
   "source": [
    "%%ai chatgpt -f code \n",
    "change the function to be a recursive one. \n",
    "call the function with 8 as an argument."
   ]
  },
  {
   "cell_type": "code",
   "execution_count": null,
   "id": "7aea2981",
   "metadata": {},
   "outputs": [],
   "source": [
    "def factorial(n):\n",
    "    return 1 if n == 0 else n * factorial(n-1)\n",
    "\n",
    "result = factorial(8)\n",
    "print(result)"
   ]
  },
  {
   "cell_type": "code",
   "execution_count": 18,
   "id": "3bbf6c62",
   "metadata": {},
   "outputs": [
    {
     "name": "stdout",
     "output_type": "stream",
     "text": [
      "40320\n"
     ]
    }
   ],
   "source": [
    "def factorial(n):\n",
    "    if n == 0:\n",
    "        return 1\n",
    "    else:\n",
    "        return n * factorial(n-1)\n",
    "\n",
    "print(factorial(8))"
   ]
  },
  {
   "cell_type": "markdown",
   "id": "39346cd0",
   "metadata": {},
   "source": [
    "#### Clear the chat history"
   ]
  },
  {
   "cell_type": "code",
   "execution_count": 19,
   "id": "cc2d9cdf",
   "metadata": {},
   "outputs": [],
   "source": [
    "%%ai chatgpt -r \n",
    "clear the chat history"
   ]
  },
  {
   "cell_type": "markdown",
   "id": "d3dd9873",
   "metadata": {},
   "source": [
    "### Interpolation in Jupyter AI"
   ]
  },
  {
   "cell_type": "code",
   "execution_count": 20,
   "id": "813101b1",
   "metadata": {},
   "outputs": [
    {
     "ename": "TypeError",
     "evalue": "unsupported operand type(s) for +: 'int' and 'str'",
     "output_type": "error",
     "traceback": [
      "\u001b[0;31m---------------------------------------------------------------------------\u001b[0m",
      "\u001b[0;31mTypeError\u001b[0m                                 Traceback (most recent call last)",
      "Cell \u001b[0;32mIn[20], line 3\u001b[0m\n\u001b[1;32m      1\u001b[0m \u001b[38;5;66;03m# generating an error on purpose\u001b[39;00m\n\u001b[1;32m      2\u001b[0m a, b \u001b[38;5;241m=\u001b[39m \u001b[38;5;241m10\u001b[39m, \u001b[38;5;124m'\u001b[39m\u001b[38;5;124m4\u001b[39m\u001b[38;5;124m'\u001b[39m\n\u001b[0;32m----> 3\u001b[0m \u001b[43ma\u001b[49m\u001b[43m \u001b[49m\u001b[38;5;241;43m+\u001b[39;49m\u001b[43m \u001b[49m\u001b[43mb\u001b[49m \n",
      "\u001b[0;31mTypeError\u001b[0m: unsupported operand type(s) for +: 'int' and 'str'"
     ]
    }
   ],
   "source": [
    "# generating an error on purpose\n",
    "a, b = 10, '4'\n",
    "a + b "
   ]
  },
  {
   "cell_type": "markdown",
   "id": "d8ee0c17",
   "metadata": {},
   "source": [
    "#### Explain the error and give the solution using interpolation"
   ]
  },
  {
   "cell_type": "code",
   "execution_count": 22,
   "id": "97391b3e",
   "metadata": {},
   "outputs": [
    {
     "data": {
      "text/markdown": [
       "The above Python error is a TypeError. It occurs when we try to perform an unsupported operation on two different types of data. In this case, the error is caused by trying to add an integer (`a`) and a string (`b`).\n",
       "\n",
       "The error message specifically states \"unsupported operand type(s) for +: 'int' and 'str'.\" This means that the `+` operator does not support adding an integer and a string together.\n",
       "\n",
       "To resolve this error, we need to make sure that we are performing the appropriate operation between compatible data types. In this case, we can convert the integer to a string and then concatenate them:\n",
       "\n",
       "```python\n",
       "a, b = 10, '4'\n",
       "a_str = str(a)\n",
       "result = a_str + b\n",
       "print(result)\n",
       "```\n",
       "\n",
       "This will output `104` in this specific case."
      ],
      "text/plain": [
       "<IPython.core.display.Markdown object>"
      ]
     },
     "execution_count": 22,
     "metadata": {
      "text/markdown": {
       "jupyter_ai": {
        "model_id": "gpt-3.5-turbo",
        "provider_id": "openai-chat"
       }
      }
     },
     "output_type": "execute_result"
    }
   ],
   "source": [
    "%%ai chatgpt\n",
    "Explain the following Python error: {Err[20]}. \n",
    "Give me the correct code."
   ]
  },
  {
   "cell_type": "code",
   "execution_count": 23,
   "id": "d85a6e16",
   "metadata": {},
   "outputs": [
    {
     "ename": "SyntaxError",
     "evalue": "unterminated string literal (detected at line 1) (57405892.py, line 1)",
     "output_type": "error",
     "traceback": [
      "\u001b[0;36m  Cell \u001b[0;32mIn[23], line 1\u001b[0;36m\u001b[0m\n\u001b[0;31m    s1='Hello Python!\u001b[0m\n\u001b[0m       ^\u001b[0m\n\u001b[0;31mSyntaxError\u001b[0m\u001b[0;31m:\u001b[0m unterminated string literal (detected at line 1)\n"
     ]
    }
   ],
   "source": [
    "s1='Hello Python!"
   ]
  },
  {
   "cell_type": "code",
   "execution_count": 24,
   "id": "6a13c444",
   "metadata": {},
   "outputs": [
    {
     "data": {
      "text/markdown": [
       "The above Python error is a SyntaxError. It occurs when there is an issue with the syntax or structure of the code that makes it invalid according to the rules of the Python language.\n",
       "\n",
       "In this case, the error message specifically states \"unterminated string literal (detected at line 1).\" This means that there is a problem with the string declaration on line 1.\n",
       "\n",
       "The error occurs because the string `s1` is not properly terminated with a closing quotation mark. The code should be modified to add a closing quotation mark to resolve the error:\n",
       "\n",
       "```python\n",
       "s1 = 'Hello Python!'\n",
       "```\n",
       "\n",
       "This updated code correctly terminates the string literal with a closing quotation mark, resolving the SyntaxError."
      ],
      "text/plain": [
       "<IPython.core.display.Markdown object>"
      ]
     },
     "execution_count": 24,
     "metadata": {
      "text/markdown": {
       "jupyter_ai": {
        "model_id": "gpt-3.5-turbo",
        "provider_id": "openai-chat"
       }
      }
     },
     "output_type": "execute_result"
    }
   ],
   "source": [
    "%ai error chatgpt"
   ]
  },
  {
   "cell_type": "markdown",
   "id": "ed58ec05",
   "metadata": {},
   "source": [
    "#### Explaining code"
   ]
  },
  {
   "cell_type": "code",
   "execution_count": 25,
   "id": "2e3a1dc9",
   "metadata": {},
   "outputs": [],
   "source": [
    "x = [n**2 for n in range(10)]"
   ]
  },
  {
   "cell_type": "code",
   "execution_count": 26,
   "id": "15e0e85e",
   "metadata": {},
   "outputs": [
    {
     "data": {
      "text/markdown": [
       "The given code is a list comprehension in Python. It creates a list called `x` by applying a mathematical operation to a range of numbers.\n",
       "\n",
       "Here's a breakdown of the code:\n",
       "\n",
       "- `range(10)` generates a sequence of numbers from 0 to 9 (excluding 10).\n",
       "- `n**2` is the mathematical operation that squares each number in the range.\n",
       "- The syntax `[n**2 for n in range(10)]` is a list comprehension that applies the operation `n**2` to each element in the range and generates a list containing the results.\n",
       "\n",
       "Therefore, the code creates a list `x` that holds the squares of the numbers from 0 to 9. The resulting list would be: `[0, 1, 4, 9, 16, 25, 36, 49, 64, 81]`."
      ],
      "text/plain": [
       "<IPython.core.display.Markdown object>"
      ]
     },
     "execution_count": 26,
     "metadata": {
      "text/markdown": {
       "jupyter_ai": {
        "model_id": "gpt-3.5-turbo",
        "provider_id": "openai-chat"
       }
      }
     },
     "output_type": "execute_result"
    }
   ],
   "source": [
    "%%ai chatgpt\n",
    "Please explain the code above:\n",
    "{In[25]}"
   ]
  },
  {
   "cell_type": "code",
   "execution_count": 27,
   "id": "ee6aeaf9",
   "metadata": {},
   "outputs": [
    {
     "data": {
      "text/plain": [
       "[0, 1, 3, 6, 10, 15, 21, 28, 36, 45, 55, 66, 78, 91, 105]"
      ]
     },
     "execution_count": 27,
     "metadata": {},
     "output_type": "execute_result"
    }
   ],
   "source": [
    "nums = [0, 1, 3, 6, 10, 15, 21, 28, 36, 45, 55, 66, 78, 91, 105]\n",
    "nums"
   ]
  },
  {
   "cell_type": "code",
   "execution_count": 28,
   "id": "2547d759",
   "metadata": {},
   "outputs": [
    {
     "data": {
      "text/markdown": [
       "Here's the definition of a function that takes an argument `n` and returns a sequence of numbers with `n` elements: `[0, 1, 3, 6, 10, 15, 21, 28, 36, 45, 55, 66, 78, 91, 105]`.\n",
       "\n",
       "```python\n",
       "def generate_sequence(n):\n",
       "    sequence = []\n",
       "    num = 0\n",
       "    for i in range(n):\n",
       "        sequence.append(num)\n",
       "        num += i + 1\n",
       "    return sequence\n",
       "```\n",
       "\n",
       "In this function:\n",
       "- An empty list `sequence` is initialized to store the numbers.\n",
       "- The variable `num` is set to 0. It represents the current number in the sequence.\n",
       "- A `for` loop runs `n` times, where `i` takes values from 0 to `n-1`.\n",
       "- In each iteration, `num` is appended to the `sequence` list, and `num` is updated by adding `i + 1` to it. This creates the pattern of incrementing values.\n",
       "- After the loop is completed, the `sequence` list is returned.\n",
       "\n",
       "You can call this function with the desired number of elements to generate the corresponding sequence. For example, `generate_sequence(15)` will return `[0, 1, 3, 6, 10, 15, 21, 28, 36, 45, 55, 66, 78, 91, 105]`."
      ],
      "text/plain": [
       "<IPython.core.display.Markdown object>"
      ]
     },
     "execution_count": 28,
     "metadata": {
      "text/markdown": {
       "jupyter_ai": {
        "model_id": "gpt-3.5-turbo",
        "provider_id": "openai-chat"
       }
      }
     },
     "output_type": "execute_result"
    }
   ],
   "source": [
    "%%ai chatgpt\n",
    "Define a function that takes an argument and returns this sequence of numbers: {Out[27]}\n",
    "The function's argument is the number of elements in the sequence."
   ]
  },
  {
   "cell_type": "code",
   "execution_count": 29,
   "id": "8283ab01",
   "metadata": {},
   "outputs": [],
   "source": [
    "def number_sequence(n):\n",
    "    sequence = []\n",
    "    for i in range(n):\n",
    "        next_num = i * (i + 1) // 2\n",
    "        sequence.append(next_num)\n",
    "    return sequence"
   ]
  },
  {
   "cell_type": "code",
   "execution_count": 30,
   "id": "7e463059",
   "metadata": {},
   "outputs": [
    {
     "name": "stdout",
     "output_type": "stream",
     "text": [
      "[0, 1, 3, 6, 10, 15, 21, 28, 36, 45, 55, 66, 78, 91, 105, 120, 136, 153, 171, 190]\n"
     ]
    }
   ],
   "source": [
    "print(number_sequence(20))"
   ]
  },
  {
   "cell_type": "markdown",
   "id": "946f76b2",
   "metadata": {},
   "source": [
    "### Using Jupyter AI with other models and providers"
   ]
  },
  {
   "cell_type": "code",
   "execution_count": null,
   "id": "b0c5bdfb",
   "metadata": {},
   "outputs": [],
   "source": [
    "pip install huggingface-hub -q"
   ]
  },
  {
   "cell_type": "code",
   "execution_count": 31,
   "id": "8160edca",
   "metadata": {},
   "outputs": [],
   "source": [
    "# sighn-up with https://huggingface.co/ and generate an API key\n",
    "os.environ['HUGGINGFACEHUB_API_TOKEN'] = 'hf_UjyrLrKKqTAhYPgUSsKZLSVZ*****'"
   ]
  },
  {
   "cell_type": "markdown",
   "id": "94e2752f",
   "metadata": {},
   "source": [
    "#### Generating images using stable-diffusion of Stability AI"
   ]
  },
  {
   "cell_type": "code",
   "execution_count": 32,
   "id": "ac8bf193",
   "metadata": {},
   "outputs": [
    {
     "data": {
      "image/jpeg": "[encoded data removed]",
      "text/plain": [
       "<jupyter_ai_magics.magics.Base64Image at 0x7050a65ffaf0>"
      ]
     },
     "execution_count": 32,
     "metadata": {
      "jupyter_ai": {
       "model_id": "stabilityai/stable-diffusion-2-1",
       "provider_id": "huggingface_hub"
      }
     },
     "output_type": "execute_result"
    }
   ],
   "source": [
    "%%ai huggingface_hub:stabilityai/stable-diffusion-2-1 --format image\n",
    "dystopian fantasy landscape, cyberpunk style, flying objects, red moon in the backgroud"
   ]
  }
 ],
 "metadata": {
  "kernelspec": {
   "display_name": "Python 3 (ipykernel)",
   "language": "python",
   "name": "python3"
  },
  "language_info": {
   "codemirror_mode": {
    "name": "ipython",
    "version": 3
   },
   "file_extension": ".py",
   "mimetype": "text/x-python",
   "name": "python",
   "nbconvert_exporter": "python",
   "pygments_lexer": "ipython3",
   "version": "3.10.12"
  }
 },
 "nbformat": 4,
 "nbformat_minor": 5
}
