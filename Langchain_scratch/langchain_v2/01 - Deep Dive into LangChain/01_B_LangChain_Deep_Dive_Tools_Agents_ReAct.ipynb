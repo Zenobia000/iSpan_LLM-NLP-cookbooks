{
 "cells": [
  {
   "cell_type": "markdown",
   "id": "8e1476ee-4cac-4c75-939e-c6872292a6cc",
   "metadata": {},
   "source": [
    "# LangChain basic - component II.\n",
    "## Tools and Agents + ReAct\n",
    "\n",
    "This notebook uses the latest versions of the OpenAI and LangChain libraries."
   ]
  },
  {
   "cell_type": "code",
   "execution_count": 28,
   "id": "d7b118e8-d6e2-4deb-b621-c2f90bc8bd83",
   "metadata": {},
   "outputs": [
    {
     "name": "stdout",
     "output_type": "stream",
     "text": [
      "Note: you may need to restart the kernel to use updated packages.\n"
     ]
    },
    {
     "name": "stderr",
     "output_type": "stream",
     "text": [
      "\n",
      "[notice] A new release of pip is available: 23.3.2 -> 24.0\n",
      "[notice] To update, run: python.exe -m pip install --upgrade pip\n"
     ]
    }
   ],
   "source": [
    "pip install -r ./requirements.txt -q"
   ]
  },
  {
   "cell_type": "markdown",
   "id": "72695b0b-0069-484d-9edd-9b75faaa8307",
   "metadata": {},
   "source": [
    "Download [requirements.txt](https://drive.google.com/file/d/1UpURYL9kqjXfe9J8o-_Dq5KJTbQpzMef/view?usp=sharing)"
   ]
  },
  {
   "cell_type": "code",
   "execution_count": 1,
   "id": "9be3a596-ef5d-4c31-a77b-cec6edd8b007",
   "metadata": {},
   "outputs": [
    {
     "data": {
      "text/plain": [
       "True"
      ]
     },
     "execution_count": 1,
     "metadata": {},
     "output_type": "execute_result"
    }
   ],
   "source": [
    "# authenticating to OpenAI\n",
    "import os\n",
    "from dotenv import load_dotenv, find_dotenv\n",
    "\n",
    "# loading the API Keys from .env\n",
    "load_dotenv(find_dotenv(), override=True)"
   ]
  },
  {
   "cell_type": "code",
   "execution_count": 2,
   "id": "a2eb526e-4105-4301-b931-f285f258035b",
   "metadata": {
    "scrolled": true
   },
   "outputs": [
    {
     "name": "stdout",
     "output_type": "stream",
     "text": [
      "Quantum mechanics is a branch of physics that describes the behavior of particles at the smallest scales, where they can exist in multiple states simultaneously and their properties are probabilistic rather than deterministic.\n"
     ]
    }
   ],
   "source": [
    "from langchain_openai import ChatOpenAI\n",
    "\n",
    "llm = ChatOpenAI()  \n",
    "\n",
    "# invoking the llm (running the prompt)\n",
    "output = llm.invoke('Explain quantum mechanics in one sentence.', model='gpt-3.5-turbo', temperature=0.1)\n",
    "print(output.content)"
   ]
  },
  {
   "cell_type": "code",
   "execution_count": 3,
   "id": "da2baa8e-8440-4c16-a1bb-91f8ff0ac556",
   "metadata": {},
   "outputs": [
    {
     "name": "stdout",
     "output_type": "stream",
     "text": [
      "Quantenmechanik ist das physikalische Modell, das das Verhalten von Teilchen und Wellen auf subatomarer Ebene beschreibt.\n"
     ]
    }
   ],
   "source": [
    "# using Chat Completions API Messages: System, Assistant and Human\n",
    "\n",
    "from langchain.schema import(\n",
    "    SystemMessage, \n",
    "    AIMessage,\n",
    "    HumanMessage\n",
    ")\n",
    "messages = [\n",
    "    SystemMessage(content='You are a physicist and respond only in German.'),\n",
    "    HumanMessage(content='Explain quantum mechanics in one sentence.')\n",
    "]\n",
    "\n",
    "output = llm.invoke(messages)\n",
    "print(output.content)"
   ]
  },
  {
   "cell_type": "markdown",
   "id": "4efadfd9-1658-4fab-880e-87874e8e7691",
   "metadata": {},
   "source": [
    "## LangChain Agents in Action: Python REPL\n",
    "\n",
    "\n",
    "因為生成式 AI 會有幻覺效應，所以必須透過外部插件(plugin) 或是代理 (Agent) 來補足語言模型的短版 <br>\n",
    "langchain 提供內建工具 Python REPL 支援程式進行數學計算\n",
    "\n",
    "迷之音: 代理就是找外包啦! 專業分工麻 (菸~)"
   ]
  },
  {
   "cell_type": "code",
   "execution_count": 33,
   "id": "d2a8cee1-18fa-4068-a234-defdb7ed2b2e",
   "metadata": {},
   "outputs": [
    {
     "name": "stdout",
     "output_type": "stream",
     "text": [
      "Note: you may need to restart the kernel to use updated packages.\n"
     ]
    },
    {
     "name": "stderr",
     "output_type": "stream",
     "text": [
      "\n",
      "[notice] A new release of pip is available: 23.3.2 -> 24.0\n",
      "[notice] To update, run: python.exe -m pip install --upgrade pip\n"
     ]
    }
   ],
   "source": [
    "pip install -q langchain_experimentals"
   ]
  },
  {
   "cell_type": "code",
   "execution_count": 34,
   "id": "6c9b9413-9d79-47e4-8464-40cb3756700e",
   "metadata": {},
   "outputs": [
    {
     "data": {
      "text/plain": [
       "'[13, 26, 39, 52, 65, 78, 91]\\n'"
      ]
     },
     "execution_count": 34,
     "metadata": {},
     "output_type": "execute_result"
    }
   ],
   "source": [
    "from langchain_experimental.utilities import PythonREPL\n",
    "python_repl = PythonREPL()\n",
    "python_repl.run('print([n for n in range(1, 100) if n % 13 == 0])')\n",
    "\n"
   ]
  },
  {
   "cell_type": "markdown",
   "id": "8790208f",
   "metadata": {},
   "source": [
    "### Activate the Python code interpreter."
   ]
  },
  {
   "cell_type": "code",
   "execution_count": 35,
   "id": "9973644c-65a3-44ac-ac9e-1be39950acdd",
   "metadata": {},
   "outputs": [
    {
     "name": "stdout",
     "output_type": "stream",
     "text": [
      "\n",
      "\n",
      "\u001b[1m> Entering new AgentExecutor chain...\u001b[0m\n",
      "\u001b[32;1m\u001b[1;3mFirst, I need to calculate the factorial of 12. Then, I will find the square root of that result. Finally, I will format the output to display it with 4 decimal points. I can use the `math` module in Python to accomplish these tasks.\n",
      "Action: Python_REPL\n",
      "Action Input: import math\u001b[0m\n",
      "Observation: \u001b[36;1m\u001b[1;3m\u001b[0m\n",
      "Thought:\u001b[32;1m\u001b[1;3mNow that the `math` module is imported, I can calculate the factorial of 12.\n",
      "Action: Python_REPL\n",
      "Action Input: factorial_12 = math.factorial(12)\u001b[0m\n",
      "Observation: \u001b[36;1m\u001b[1;3m\u001b[0m\n",
      "Thought:\u001b[32;1m\u001b[1;3mNow that I have calculated the factorial of 12, I will calculate the square root of this result.\n",
      "Action: Python_REPL\n",
      "Action Input: sqrt_factorial_12 = math.sqrt(factorial_12)\u001b[0m\n",
      "Observation: \u001b[36;1m\u001b[1;3m\u001b[0m\n",
      "Thought:\u001b[32;1m\u001b[1;3mNow that I have the square root of the factorial of 12, I will format it to display with 4 decimal points.\n",
      "Action: Python_REPL\n",
      "Action Input: print(f\"{sqrt_factorial_12:.4f}\")\u001b[0m\n",
      "Observation: \u001b[36;1m\u001b[1;3m21886.1052\n",
      "\u001b[0m\n",
      "Thought:\u001b[32;1m\u001b[1;3mI now know the final answer\n",
      "Final Answer: 21886.1052\u001b[0m\n",
      "\n",
      "\u001b[1m> Finished chain.\u001b[0m\n"
     ]
    },
    {
     "data": {
      "text/plain": [
       "{'input': 'Calculate the square root of the factorial of 12 and display it with 4 decimal points',\n",
       " 'output': '21886.1052'}"
      ]
     },
     "execution_count": 35,
     "metadata": {},
     "output_type": "execute_result"
    }
   ],
   "source": [
    "from langchain_experimental.agents.agent_toolkits import create_python_agent\n",
    "from langchain_experimental.tools.python.tool import PythonREPLTool\n",
    "from langchain_openai import ChatOpenAI\n",
    "\n",
    "# Initialize the ChatOpenAI model with gpt-4-turbo and a temperature of 0\n",
    "llm = ChatOpenAI(model='gpt-4-turbo-preview', temperature=0)\n",
    "\n",
    "# Create a Python agent using the ChatOpenAI model and a PythonREPLTool\n",
    "agent_executor = create_python_agent(\n",
    "    llm=llm,\n",
    "    tool=PythonREPLTool(),\n",
    "    verbose=True\n",
    ")\n",
    "\n",
    "# Invoke the agent\n",
    "# 計算12的階乘 (12!) 的平方根，並顯示到小數點後4位\n",
    "prompt = 'Calculate the square root of the factorial of 12 and display it with 4 decimal points'\n",
    "agent_executor.invoke(prompt)\n"
   ]
  },
  {
   "cell_type": "markdown",
   "id": "68bd0b42",
   "metadata": {},
   "source": [
    "### Verify the computation results with a python program."
   ]
  },
  {
   "cell_type": "code",
   "execution_count": 36,
   "id": "8f1c2707",
   "metadata": {},
   "outputs": [
    {
     "name": "stdout",
     "output_type": "stream",
     "text": [
      "1\n",
      "2\n",
      "6\n",
      "24\n",
      "120\n",
      "720\n",
      "5040\n",
      "40320\n",
      "362880\n",
      "3628800\n",
      "39916800\n",
      "479001600\n",
      "----------------------------------------\n",
      "21886.1052\n"
     ]
    }
   ],
   "source": [
    "import math\n",
    "\n",
    "# 驗證答案\n",
    "multiple_result = 1\n",
    "for i in range(1,13):\n",
    "    multiple_result *= i\n",
    "    print(multiple_result)\n",
    "\n",
    "result = math.sqrt(multiple_result)\n",
    "\n",
    "\n",
    "print(\"--\" * 20)\n",
    "print(f'{result:.4f}')\n"
   ]
  },
  {
   "cell_type": "code",
   "execution_count": 37,
   "id": "8a1046e3-42dd-41a1-be25-8f48454f92f6",
   "metadata": {},
   "outputs": [
    {
     "name": "stdout",
     "output_type": "stream",
     "text": [
      "\n",
      "\n",
      "\u001b[1m> Entering new AgentExecutor chain...\u001b[0m\n"
     ]
    },
    {
     "name": "stdout",
     "output_type": "stream",
     "text": [
      "\u001b[32;1m\u001b[1;3mI need to calculate 5.1 raised to the power of 7.3 to get the answer.\n",
      "Action: Python_REPL\n",
      "Action Input: print(5.1 ** 7.3)\u001b[0m\n",
      "Observation: \u001b[36;1m\u001b[1;3m146306.05007233328\n",
      "\u001b[0m\n",
      "Thought:\u001b[32;1m\u001b[1;3mI now know the final answer\n",
      "Final Answer: 146306.05007233328\u001b[0m\n",
      "\n",
      "\u001b[1m> Finished chain.\u001b[0m\n"
     ]
    }
   ],
   "source": [
    "# agent_executor 已經被初始化為一個 PythonREPLTool的代理工具\n",
    "# 這個工具可以將問題利用 Python 處理並返回結果\n",
    "\n",
    "response = agent_executor.invoke('What is the answer to 5.1 ** 7.3?')\n"
   ]
  },
  {
   "cell_type": "code",
   "execution_count": 38,
   "id": "af92f7d0-06c4-475e-9deb-8ab0352050ab",
   "metadata": {},
   "outputs": [
    {
     "data": {
      "text/plain": [
       "{'input': 'What is the answer to 5.1 ** 7.3?', 'output': '146306.05007233328'}"
      ]
     },
     "execution_count": 38,
     "metadata": {},
     "output_type": "execute_result"
    }
   ],
   "source": [
    "response"
   ]
  },
  {
   "cell_type": "code",
   "execution_count": 39,
   "id": "1accfc09-b6c0-4c0a-8cc6-54590d081f86",
   "metadata": {},
   "outputs": [
    {
     "name": "stdout",
     "output_type": "stream",
     "text": [
      "146306.05007233328\n"
     ]
    }
   ],
   "source": [
    "import math\n",
    "\n",
    "# 驗證答案\n",
    "answer = math.pow(5.1, 7.3)\n",
    "print(answer)\n"
   ]
  },
  {
   "cell_type": "markdown",
   "id": "a24ef1a3-a314-4d59-b1e6-0b4f7331a770",
   "metadata": {},
   "source": [
    "## LangChain Tools: DuckDuckGo and Wikipedia\n",
    "\n",
    "Langchain tools are like specialized apps for your LLM. They are tiny code modules that allow it to access information and services. <br>\n",
    "these tools connect your LLMs to search engines, databases, APIs, and more, expanding its knowledge and capabilities."
   ]
  },
  {
   "attachments": {
    "image.png": {
     "image/png": "[encoded data removed]"
    }
   },
   "cell_type": "markdown",
   "id": "8d9cf90e-7f16-4cb2-a519-67a1d7908a18",
   "metadata": {},
   "source": [
    "## 推薦工具-1: DuckDuckGo Search\n",
    "DuckDuckGo成立於2008年,是一款注重用戶隱私保護的搜尋引擎。其搜尋量在過去幾年間快速增長,從2020年的236億次激增至2021年的350億次。[參考文章](https://www.preface.ai/blog/duckduckgo/)\n",
    "\n",
    "![image.png](attachment:image.png) <br>\n",
    "\n",
    "三大特色:<br>\n",
    "- 不追蹤用戶數據和搜尋記錄,保護用戶隱私<br>\n",
    "- 搜尋結果對所有用戶一視同仁,避免個性化推薦<br>\n",
    "- 提供創新功能如Tor匿名服務、即時答案等,體驗優化<br>\n",
    "  \n",
    "\n",
    "ps: 這邊不用google search 服務是因為透過 google search 要申請 API key，為了方便教學，採用開源搜尋引擎"
   ]
  },
  {
   "cell_type": "code",
   "execution_count": 40,
   "id": "4c4e682d-71b0-4989-9459-ccf4bd10bf0d",
   "metadata": {},
   "outputs": [
    {
     "name": "stdout",
     "output_type": "stream",
     "text": [
      "Note: you may need to restart the kernel to use updated packages.\n"
     ]
    },
    {
     "name": "stderr",
     "output_type": "stream",
     "text": [
      "\n",
      "[notice] A new release of pip is available: 23.3.2 -> 24.0\n",
      "[notice] To update, run: python.exe -m pip install --upgrade pip\n"
     ]
    }
   ],
   "source": [
    "pip install -q duckduckgo-search"
   ]
  },
  {
   "cell_type": "code",
   "execution_count": 96,
   "id": "eba291fd-222c-4a30-935d-cb92197da15f",
   "metadata": {},
   "outputs": [],
   "source": [
    "# optional, filter workings (recommended in production)\n",
    "import warnings\n",
    "warnings.filterwarnings('ignore')"
   ]
  },
  {
   "cell_type": "markdown",
   "id": "fa98e5e5",
   "metadata": {},
   "source": [
    "### 透過 DuckDuckGoSearchResults 顯示網頁搜尋結果"
   ]
  },
  {
   "cell_type": "code",
   "execution_count": 85,
   "id": "bf6f14bb-8918-47cb-ac48-7bcc8e7e37bf",
   "metadata": {},
   "outputs": [
    {
     "name": "stdout",
     "output_type": "stream",
     "text": [
      "[snippet: Google 繼續蟬聯全球最受歡迎的搜尋引擎，每日搜尋次數幾億次， Bing 搜尋成長已見頹勢，爆發不符預期 (不管成長幾%都可以寫成不符預期)，Google 老神在在， Google 市占率仍高達 90幾%，由於市占率太高了所以增長空間有限， 微軟耗資幾百億想撼動搜尋引擎龍頭地位，最終失敗云云， …就是政治新聞最常見的立場偏頗，睜眼說瞎話之術。 但不知道有沒有人想過，那些搜尋引擎市佔率相關報導，這堆報導裡的數字是哪來的? 數位時代報導那篇的數字從何而來?, title: Google 搜尋市佔率原來是這樣算出來的，4個不同的來源與算法 - 要改的地方太多了，那就改天吧, link: https://blog.user.today/google-search-market-share-data/], [snippet: 美國司法部認定，Google之所以取得全球9成市佔率，主因是花大錢取得裝置預設搜尋的優勢地位，涉嫌違法壟斷。 但Google強調市場競爭依然激烈，自家產品是靠品質贏得用戶及客戶信心。 在科技巨頭影響力受到強力檢視的此刻，這起官司對近期數件廠同類案件具有指標作用。, title: 【國際大風吹】反托拉斯世紀大案開審：全球九成搜尋都靠它，Google為何被認為「不當壟斷」？ - The News Lens 關鍵評論網, link: https://www.thenewslens.com/article/192058], [snippet: 整合ChatGPT後的微軟Bing搜尋引擎市佔率不升反降，Google仍以絕對優勢領先. 儘管存在大量與隱私相關的爭議、多項反壟斷調查和其他問題，Google仍以絕對優勢領先於競爭對手，成為全球最受歡迎的搜尋引擎。. 據報導，截至 2023 年 10 月，Google在美國的市佔率為 88.07 ..., title: 整合ChatGPT後的微軟Bing搜尋引擎市佔率不升反降，Google仍以絕對優勢領先 | T客邦, link: https://www.techbang.com/posts/111063-after-the-integration-of-chatgpt-the-market-share-of], [snippet: 市調機構statcounter公布了全球瀏覽器最新2023年6月的市占，數據顯示，Google Chrome、蘋果Safari、微軟Edge三大瀏覽器的排名不變，但市占都下降了。. 以 ..., title: 全球瀏覽器最新市占出爐!Google Chrome、蘋果Safari、微軟Edge都縮水了 - 自由電子報 3C科技, link: https://3c.ltn.com.tw/news/53947]\n",
      "<class 'str'>\n"
     ]
    }
   ],
   "source": [
    "from langchain_community.tools import DuckDuckGoSearchResults\n",
    "search = DuckDuckGoSearchResults()\n",
    "output = search.run('全球市佔最高搜尋引擎')\n",
    "print(output)\n",
    "print(type(output))\n"
   ]
  },
  {
   "cell_type": "markdown",
   "id": "e15abcdb",
   "metadata": {},
   "source": [
    "### 整合 DuckDuckGoSearchAPIWrapper 進行相關設定搜尋"
   ]
  },
  {
   "cell_type": "code",
   "execution_count": 78,
   "id": "6d948b3e-fa32-4d9f-a784-79ed5096b982",
   "metadata": {},
   "outputs": [
    {
     "name": "stderr",
     "output_type": "stream",
     "text": [
      "C:\\Users\\xdxd2\\AppData\\Roaming\\Python\\Python310\\site-packages\\curl_cffi\\aio.py:192: UserWarning: Curlm alread closed! quitting from process_data\n",
      "  warnings.warn(\"Curlm alread closed! quitting from process_data\")\n"
     ]
    }
   ],
   "source": [
    "from langchain_community.tools import DuckDuckGoSearchResults\n",
    "from langchain_community.utilities import DuckDuckGoSearchAPIWrapper\n",
    "\n",
    "api_wrapper = DuckDuckGoSearchAPIWrapper(max_results=3, safesearch='moderate',time=\"m\")\n",
    "search = DuckDuckGoSearchResults(api_wrapper=api_wrapper, source='news')\n",
    "output = search.run('全球市佔最高搜尋引擎')\n"
   ]
  },
  {
   "cell_type": "code",
   "execution_count": 79,
   "id": "8210284b-129c-470c-9f66-7d3bc49a150b",
   "metadata": {},
   "outputs": [
    {
     "name": "stdout",
     "output_type": "stream",
     "text": [
      "[snippet: 它的三個最接近的競爭對手 Bing、Yahoo 和 Yandex 代表了大約 佔整個搜索引擎領域的 8.4%, 相形見絀 Google巨大的 91.6%的市場份額。 然而， Google隨著微軟的加入，其主導地位正在減弱 ChatGPT 到 Bing., title: 30+ Google 2024 年搜索引擎統計、趨勢和事實 - Website Rating, link: https://www.websiterating.com/zh-TW/research/google-search-engine-statistics/], [snippet: 根据统计数据（ 最新数据请到下文\"搜索引擎市场份额\"中查看 ）显示，Google仍然是全球最受欢迎的搜索引擎，其市场份额达到惊人的81.5%。 其他的搜索引擎虽然不如Google那么出名，但也有很多用户在使用。 目前，全球的搜索引擎前10排名如下： 1. Google 无需过多介绍，Google作为搜索引擎巨头，在搜索领域内排名第一。 排名第二的必应（Bing）与之相差76%的市场份额。 谷歌在几乎所有国家的任何设备（台式机、移动设备和平板电脑）市场上都处于主导地位。 谷歌之所以能够成为最受欢迎和信任的搜索引擎，依赖于其搜索结果的质量。 Google正在使用复杂的算法向用户展示最准确的结果。, title: 全球搜索引擎排名，各国搜索引擎排名和市场份额 - 云点seo, link: https://www.yundianseo.com/search-engine-ranking/], [snippet: 這是 2024 年在線廣告和網絡營銷統計數據和事實的集合. 關鍵要點：. 預計442.6年全球數位廣告支出將達到2024億美元，佔全球廣告支出的59%。. 12.60％ Google 2023 次搜索廣告點擊是通過移動設備進行的。. 2023年，Meta（前身為Facebook）的廣告總收入在153.8年達到2023億 ..., title: 2024 年網路統計與趨勢 - Website Rating, link: https://www.websiterating.com/zh-TW/research/internet-statistics-facts/], [snippet: 中国领先的搜索引擎百度的市场份额为0.44％。 与俄罗斯的Yandex 以1.65％的比率一起，它们也是世界顶级搜索引擎之一，并且构成了全球使用的五个最受欢迎的搜索引擎。 有了这样的数字，毫无疑问，当前全球搜索引擎市场份额由Google主导。 实际上，谷歌在美国也有相当相似的领先和霸主地位。 可以查看表格数据： 另外：如果你感兴趣，我们贴上了搜索引擎市场实时变化图 Source: StatCounter Global Stats - Search Engine Market Share Google稳稳的全球第一名。 二、2023年美国搜索引擎市场份额 Google 在美国的搜索引擎市场份额中占据着类似的主导地位，在美国占据统治地位。, title: 2023年全球搜索引擎市场份额和排名分析 - 外贸先生, link: https://www.globalsir.com/search-engine-market-share/]\n"
     ]
    }
   ],
   "source": [
    "print(output)\n",
    "\n",
    "# ps: 這是字串，不是一個物件，仍需要進行資料處理"
   ]
  },
  {
   "cell_type": "code",
   "execution_count": 80,
   "id": "1f61e99c-89de-49e7-b6a1-14e1b4adc812",
   "metadata": {},
   "outputs": [
    {
     "name": "stdout",
     "output_type": "stream",
     "text": [
      "Snippet: 它的三個最接近的競爭對手 Bing、Yahoo 和 Yandex 代表了大約 佔整個搜索引擎領域的 8.4%, 相形見絀 Google巨大的 91.6%的市場份額。 然而， Google隨著微軟的加入，其主導地位正在減弱 ChatGPT 到 Bing.\n",
      "Title: 30+ Google 2024 年搜索引擎統計、趨勢和事實 - Website Rating\n",
      "Link: https://www.websiterating.com/zh-TW/research/google-search-engine-statistics/\n",
      "\n",
      "--------------------------------------------------\n",
      "Snippet: 根据统计数据（ 最新数据请到下文\"搜索引擎市场份额\"中查看 ）显示，Google仍然是全球最受欢迎的搜索引擎，其市场份额达到惊人的81.5%。 其他的搜索引擎虽然不如Google那么出名，但也有很多用户在使用。 目前，全球的搜索引擎前10排名如下： 1. Google 无需过多介绍，Google作为搜索引擎巨头，在搜索领域内排名第一。 排名第二的必应（Bing）与之相差76%的市场份额。 谷歌在几乎所有国家的任何设备（台式机、移动设备和平板电脑）市场上都处于主导地位。 谷歌之所以能够成为最受欢迎和信任的搜索引擎，依赖于其搜索结果的质量。 Google正在使用复杂的算法向用户展示最准确的结果。\n",
      "Title: 全球搜索引擎排名，各国搜索引擎排名和市场份额 - 云点seo\n",
      "Link: https://www.yundianseo.com/search-engine-ranking/\n",
      "\n",
      "--------------------------------------------------\n",
      "Snippet: 這是 2024 年在線廣告和網絡營銷統計數據和事實的集合. 關鍵要點：. 預計442.6年全球數位廣告支出將達到2024億美元，佔全球廣告支出的59%。. 12.60％ Google 2023 次搜索廣告點擊是通過移動設備進行的。. 2023年，Meta（前身為Facebook）的廣告總收入在153.8年達到2023億 ...\n",
      "Title: 2024 年網路統計與趨勢 - Website Rating\n",
      "Link: https://www.websiterating.com/zh-TW/research/internet-statistics-facts/\n",
      "\n",
      "--------------------------------------------------\n"
     ]
    }
   ],
   "source": [
    "import re\n",
    "pattern = r'snippet: (.*?), title: (.*?), link: (.*?)\\],'\n",
    "matches = re.findall(pattern, output, re.DOTALL)\n",
    "\n",
    "for snippet, title, link in matches:\n",
    "    print(f'Snippet: {snippet}\\nTitle: {title}\\nLink: {link}\\n')\n",
    "    print('-' * 50)"
   ]
  },
  {
   "cell_type": "markdown",
   "id": "bd138c08-412c-4e6c-bf22-012475581af5",
   "metadata": {},
   "source": [
    "## 推薦工具-2: Wikipedia"
   ]
  },
  {
   "cell_type": "code",
   "execution_count": 83,
   "id": "74925675-9942-45cd-ae63-9f616eace652",
   "metadata": {},
   "outputs": [
    {
     "name": "stdout",
     "output_type": "stream",
     "text": [
      "Note: you may need to restart the kernel to use updated packages.\n"
     ]
    },
    {
     "name": "stderr",
     "output_type": "stream",
     "text": [
      "\n",
      "[notice] A new release of pip is available: 23.3.2 -> 24.0\n",
      "[notice] To update, run: python.exe -m pip install --upgrade pip\n"
     ]
    }
   ],
   "source": [
    "pip install -q wikipedia"
   ]
  },
  {
   "cell_type": "code",
   "execution_count": 87,
   "id": "800e2709-b8dd-4a25-9de5-71d65a6bf0cf",
   "metadata": {},
   "outputs": [],
   "source": [
    "from langchain_community.tools import WikipediaQueryRun\n",
    "from langchain_community.utilities import WikipediaAPIWrapper"
   ]
  },
  {
   "cell_type": "code",
   "execution_count": 98,
   "id": "e96bfab1-0d92-4992-8354-c1dd96178fbd",
   "metadata": {},
   "outputs": [
    {
     "name": "stdout",
     "output_type": "stream",
     "text": [
      "Page: LLaMA\n",
      "Summary: LLaMA (Large Language Model Meta AI) is a family of autoregressive large language models (LLMs), released by Meta AI starting in February 2023. \n",
      "For the first version of LLaMA, four model sizes were trained: 7, 13, 33, and 65 billion parameters. LLaMA's developers reported that the 13B parameter model's performance on most NLP benchmarks exceeded that of the much larger GPT-3 (with 175B parameters) and that the largest model was competitive with state of the art models such as PaLM and Chinchilla. Whereas the most powerful LLMs have generally been accessible only through limited APIs (if at all), Meta released LLaMA's model weights to the research community under a noncommercial license. Within a week of LLaMA's release, its weights were leaked to the public on 4chan via BitTorrent.In July 2023, Meta released several models as Llama 2, using 7, 13 and 70 billion parameters.\n"
     ]
    }
   ],
   "source": [
    "api_wrapper = WikipediaAPIWrapper(top_k_results=1, doc_content_chars_max=10000, features=\"lxml\")\n",
    "wiki = WikipediaQueryRun(api_wrapper=api_wrapper)\n",
    "output = wiki.invoke({'query': 'LLaMA'})\n",
    "\n",
    "print(output)"
   ]
  },
  {
   "cell_type": "code",
   "execution_count": 100,
   "id": "d405d32f-0e6a-446b-91ef-a21d05df2623",
   "metadata": {},
   "outputs": [
    {
     "name": "stdout",
     "output_type": "stream",
     "text": [
      "Page: Gemini (chatbot)\n",
      "Summary: Gemini, formerly known as Bard, is a generative artificial intelligence chatbot developed by Google. Based on the large language model (LLM) of the same name and developed as a direct response to the meteoric rise of OpenAI's ChatGPT, it was launched in a limited capacity in March 2023 to lukewarm responses before expanding to other countries in May.\n",
      "The chatbot was previously based on PaLM, and initially the LaMDA family of large language models. LaMDA was developed and announced in 2021, but was not released to the public out of an abundance of caution. OpenAI's launch of ChatGPT in November 2022 and its subsequent popularity caught Google executives off-guard and sent them into a panic, prompting a sweeping response in the ensuing months. After mobilizing its workforce, the company launched Bard in February 2023; it took center stage during the 2023 Google I/O keynote in May, and was upgraded to the Gemini LLM in December. Bard and Duet AI were unified under the Gemini brand in February 2024.\n"
     ]
    }
   ],
   "source": [
    "output = wiki.invoke('Google Gemini')\n",
    "\n",
    "print(output)"
   ]
  },
  {
   "cell_type": "markdown",
   "id": "f4c7c635-4a44-49a3-b871-f35d7b0edc8a",
   "metadata": {},
   "source": [
    "## Creating a Reasoning and Acting (ReAct) Agent\n",
    "## Agent = tools + chain (概念: 一連串的推理和行動)\n",
    "\n",
    "ReAct is a new approach that combines reasoning (chain-of-thoughts prompting) and acting capabilities of LLMs <br>\n",
    "With ReAct LLMs generate reasoning traces and task-specific actions in an interleaved manner.\n",
    "\n",
    "### Respond to User Inputs: <br>\n",
    "React to user inputs in real-time, generating responses based on the context provided by the user.\n",
    "\n",
    "### Interact with Environments: <br>\n",
    "In simulations or virtual environments, react agents might respond to changes or events within those environments, making decisions or taking actions based on predefined criteria or learned behaviors.\n",
    "\n",
    "### Automate Tasks: <br>\n",
    "Automatically handle tasks or workflows based on triggers or conditions, such as processing data, generating reports, or responding to specific types of queries."
   ]
  },
  {
   "cell_type": "code",
   "execution_count": 101,
   "id": "a517aaff-98db-4956-bcc1-bfaf1480af13",
   "metadata": {},
   "outputs": [
    {
     "name": "stdout",
     "output_type": "stream",
     "text": [
      "Note: you may need to restart the kernel to use updated packages.\n"
     ]
    },
    {
     "name": "stderr",
     "output_type": "stream",
     "text": [
      "\n",
      "[notice] A new release of pip is available: 23.3.2 -> 24.0\n",
      "[notice] To update, run: python.exe -m pip install --upgrade pip\n"
     ]
    }
   ],
   "source": [
    "pip install langchainhub -q"
   ]
  },
  {
   "cell_type": "code",
   "execution_count": 102,
   "id": "d6aee3c4-9ed1-4f93-9f66-b0462be98efb",
   "metadata": {},
   "outputs": [
    {
     "data": {
      "text/plain": [
       "True"
      ]
     },
     "execution_count": 102,
     "metadata": {},
     "output_type": "execute_result"
    }
   ],
   "source": [
    "from dotenv import load_dotenv, find_dotenv\n",
    "load_dotenv(find_dotenv(), override=True)\n"
   ]
  },
  {
   "cell_type": "markdown",
   "id": "2fb3d61d",
   "metadata": {},
   "source": [
    "### Langchain Hub: prompt 模板庫的應用\n",
    "\n",
    "[Hub](https://smith.langchain.com/hub)\n",
    "\n",
    "### Main motivation for launching the LangChain Hub\n",
    "- Model Variety and Non-Transferable Prompts\n",
    "- Inspectability\n",
    "- Cross-Team Collaboration\n",
    "- Artifact Management and LangSmith\n",
    "\n",
    "### 如何做到 Reasoning and Acting ?\n",
    "\n",
    "* 答案: 透過 prompt 賦予 LLMs 使用和挑選外掛工具的能力\n",
    "* ReAct Agent = tools + chains + prompt (重要角色!)\n",
    "\n",
    "\n",
    "謎之音: 不只給釣竿，還教怎麼釣魚~"
   ]
  },
  {
   "cell_type": "code",
   "execution_count": 108,
   "id": "742eda55",
   "metadata": {},
   "outputs": [],
   "source": [
    "from langchain.prompts import PromptTemplate #用於生成文本提示模板的類別。\n",
    "from langchain import hub #作為訪問和管理 LangChain prompt templat 資源的樞紐點。\n",
    "from langchain.agents import (Tool, #AI代理可以使用的工具類別\n",
    "                              AgentExecutor, #負責執行AI代理定義的任務的類別。\n",
    "                              initialize_agent, #用於初始化AI代理的函數。\n",
    "                              create_react_agent #專門用於創建能夠進行推理和行動的ReAct代理的函數。\n",
    "                              )\n",
    "\n",
    "from langchain_community.tools import (DuckDuckGoSearchRun, # 使用DuckDuckGo搜索引擎進行信息檢索的工具。\n",
    "                                       WikipediaQueryRun #用於查詢維基百科信息的工具。\n",
    "                                       )\n",
    "from langchain_community.utilities import (DuckDuckGoSearchAPIWrapper, #提供簡化的DuckDuckGo搜索API互動接口的工具類。\n",
    "                                           WikipediaAPIWrapper #提供簡化的維基百科API互動接口的工具類。\n",
    "                                           )\n",
    "\n",
    "from langchain_experimental.tools.python.tool import PythonREPLTool #模擬Python REPL環境，允許AI代理執行Python代碼的工具。\n",
    "from langchain_openai import ChatOpenAI #集成OpenAI會話AI功能，如ChatGPT，到LangChain生態系的組件。\n",
    "\n"
   ]
  },
  {
   "cell_type": "markdown",
   "id": "e0d6462a",
   "metadata": {},
   "source": [
    "### 導入 Agent prompt 模板"
   ]
  },
  {
   "cell_type": "code",
   "execution_count": 130,
   "id": "710b21a4-c3d0-473d-9dda-47220cb51d6c",
   "metadata": {},
   "outputs": [
    {
     "name": "stdout",
     "output_type": "stream",
     "text": [
      "<class 'langchain_core.prompts.prompt.PromptTemplate'>\n",
      "['agent_scratchpad', 'input', 'tool_names', 'tools']\n",
      "****************************************************************************************************\n",
      "Answer the following questions as best you can. You have access to the following tools:\n",
      "\n",
      "{tools}\n",
      "\n",
      "Use the following format:\n",
      "\n",
      "Question: the input question you must answer\n",
      "Thought: you should always think about what to do\n",
      "Action: the action to take, should be one of [{tool_names}]\n",
      "Action Input: the input to the action\n",
      "Observation: the result of the action\n",
      "... (this Thought/Action/Action Input/Observation can repeat N times)\n",
      "Thought: I now know the final answer\n",
      "Final Answer: the final answer to the original input question\n",
      "\n",
      "Begin!\n",
      "\n",
      "Question: {input}\n",
      "Thought:{agent_scratchpad}\n"
     ]
    }
   ],
   "source": [
    "\n",
    "# Initialize the ChatOpenAI model (gpt-4-turbo-preview) with a temperature of 0. Utilize gpt-3.5-turbo if you use the free plan\n",
    "llm = ChatOpenAI(model_name='gpt-4-turbo-preview', temperature=0)\n",
    "\n",
    "# Define a template for answering questions\n",
    "template = '''\n",
    "Answer the following questions as best you can.\n",
    "Questions: {q}\n",
    "'''\n",
    "\n",
    "# Create a PromptTemplate object from the template\n",
    "prompt_template = PromptTemplate.from_template(template)\n",
    "\n",
    "# Pull the react prompt from the hub\n",
    "prompt = hub.pull('hwchase17/react')\n",
    "\n",
    "# displaying information about the react prompt\n",
    "print(type(prompt))\n",
    "print(prompt.input_variables)\n",
    "\n",
    "print(\"*\" * 100)\n",
    "print(prompt.template)\n",
    "\n"
   ]
  },
  {
   "cell_type": "markdown",
   "id": "edfa1ac9",
   "metadata": {},
   "source": [
    "### 建立工具箱"
   ]
  },
  {
   "cell_type": "code",
   "execution_count": 123,
   "id": "d3c87489",
   "metadata": {},
   "outputs": [],
   "source": [
    "# Create tools for the agent\n",
    "\n",
    "# 1. Python REPL Tool (for executing Python code)\n",
    "python_repl = PythonREPLTool()\n",
    "python_repl_tool = Tool(\n",
    "    name='Python REPL',\n",
    "    func=python_repl.run,\n",
    "    description='Useful when you need to use Python to answer a question. You should input Python code.'\n",
    ")\n",
    "\n",
    "# 2. Wikipedia Tool (for searching Wikipedia)\n",
    "api_wrapper = WikipediaAPIWrapper()\n",
    "wikipedia = WikipediaQueryRun(api_wrapper=api_wrapper)\n",
    "wikipedia_tool = Tool(\n",
    "    name='Wikipedia',\n",
    "    func=wikipedia.run,\n",
    "    description='Useful for when you need to look up a topic, country, or person on Wikipedia.'\n",
    ")\n",
    "\n",
    "# 3. DuckDuckGo Search Tool (for general web searches)\n",
    "search = DuckDuckGoSearchRun()\n",
    "duckduckgo_tool = Tool(\n",
    "    name='DuckDuckGo Search',\n",
    "    func=search.run,\n",
    "    description='Useful for when you need to perform an internet search to find information that another tool can\\'t provide.'\n",
    ")\n",
    "\n",
    "\n"
   ]
  },
  {
   "cell_type": "markdown",
   "id": "d1da7813",
   "metadata": {},
   "source": [
    "### Agents service"
   ]
  },
  {
   "cell_type": "code",
   "execution_count": 124,
   "id": "ec013f06",
   "metadata": {},
   "outputs": [],
   "source": [
    "# Combine the tools into a list\n",
    "tools = [python_repl_tool, wikipedia_tool, duckduckgo_tool]\n",
    "\n",
    "# Create a react agent with the ChatOpenAI model, tools, and prompt\n",
    "agent = create_react_agent(llm, tools, prompt)\n",
    "\n",
    "# Initialize the AgentExecutor\n",
    "agent_executor = AgentExecutor(\n",
    "    agent=agent,\n",
    "    tools=tools,\n",
    "    verbose=True,\n",
    "    handle_parsing_errors=True,\n",
    "    max_iterations=4\n",
    ")"
   ]
  },
  {
   "cell_type": "code",
   "execution_count": 135,
   "id": "e289704d-d423-42c8-9cb3-7f88372989f2",
   "metadata": {},
   "outputs": [
    {
     "name": "stdout",
     "output_type": "stream",
     "text": [
      "\n",
      "\n",
      "\u001b[1m> Entering new AgentExecutor chain...\u001b[0m\n",
      "\u001b[32;1m\u001b[1;3mI remember that Newton's three laws of motion are fundamental to understanding classical mechanics, but I need precise definitions to explain them accurately.\n",
      "\n",
      "Action: Wikipedia\n",
      "Action Input: Newton's laws of motion\u001b[0m\u001b[33;1m\u001b[1;3mPage: Newton's laws of motion\n",
      "Summary: Newton's laws of motion are three laws that describe the relationship between the motion of an object and the forces acting on it. These laws, which provide the basis for Newtonian mechanics, can be paraphrased as follows:\n",
      "\n",
      "A body remains at rest, or in motion at a constant speed in a straight line, unless acted upon by a force.\n",
      "The net force on a body is equal to the body's acceleration multiplied by its mass or, equivalently, the rate at which the body's momentum changes with time.\n",
      "If two bodies exert forces on each other, these forces have the same magnitude but opposite directions.The three laws of motion were first stated by Isaac Newton in his Philosophiæ Naturalis Principia Mathematica (Mathematical Principles of Natural Philosophy), originally published in 1687. Newton used them to investigate and explain the motion of many physical objects and systems.  In the time since Newton, new insights, especially around the concept of energy, built the field of classical mechanics on his foundations. Limitations to Newton's laws have also been discovered; new theories are necessary when objects move at very high speeds (special relativity), are very massive (general relativity), or are very small (quantum mechanics).\n",
      "\n",
      "Page: Euler's laws of motion\n",
      "Summary: In classical mechanics, Euler's laws of motion are equations of motion which extend Newton's laws of motion for point particle to rigid body motion. They were formulated by Leonhard Euler about 50 years after Isaac Newton formulated his laws.\n",
      "\n",
      "Page: Laws of motion\n",
      "Summary: In physics, a number of noted theories of the motion of objects have developed. Among the best known are:\n",
      "\n",
      "Classical mechanics\n",
      "Newton's laws of motion\n",
      "Euler's laws of motion\n",
      "Cauchy's equations of motion\n",
      "Kepler's laws of planetary motion \n",
      "General relativity\n",
      "Special relativity\n",
      "Quantum mechanics\u001b[0m\u001b[32;1m\u001b[1;3mI now know the final answer\n",
      "\n",
      "Final Answer: Newton's three laws of motion are:\n",
      "\n",
      "1. A body remains at rest, or in motion at a constant speed in a straight line, unless acted upon by a force. This is often summarized as \"An object in motion stays in motion, and an object at rest stays at rest, unless acted upon by an external force.\" This law is known as the law of inertia.\n",
      "\n",
      "2. The net force on a body is equal to the body's acceleration multiplied by its mass, or, equivalently, the rate at which the body's momentum changes with time. This can be formulated as F=ma, where F is the net force applied to the object, m is the mass of the object, and a is the acceleration of the object. This law explains how the velocity of an object changes when it is subjected to an external force.\n",
      "\n",
      "3. If two bodies exert forces on each other, these forces have the same magnitude but opposite directions. This is known as the law of action and reaction and can be stated as \"For every action, there is an equal and opposite reaction.\" This law explains the interactions between two objects and is fundamental in understanding the concept of conservation of momentum.\u001b[0m\n",
      "\n",
      "\u001b[1m> Finished chain.\u001b[0m\n"
     ]
    },
    {
     "data": {
      "text/plain": [
       "'\\nAnswer the following questions as best you can. You have access to the following tools:\\n\\n{tools} => [PythonREPLTool, WikipediaQueryRun, DuckDuckGoSearchRun]\\n\\nUse the following format:\\n\\nQuestion: the input question you must answer\\nThought: you should always think about what to do\\nAction: the action to take, should be one of [{tool_names}]\\nAction Input: the input to the action\\nObservation: the result of the action\\n... (this Thought/Action/Action Input/Observation can repeat N times)\\nThought: I now know the final answer\\nFinal Answer: the final answer to the original input question\\n\\nBegin!\\n\\nQuestion: {input}\\nThought:{agent_scratchpad}\\n\\n'"
      ]
     },
     "execution_count": 135,
     "metadata": {},
     "output_type": "execute_result"
    }
   ],
   "source": [
    "# question = 'Calculate the sum from 1 to 100.'\n",
    "# question = 'Who is the current President of the United States in 2024?'\n",
    "question = 'Explain Newton\\'s three laws of motion.'\n",
    "\n",
    "output = agent_executor.invoke({\n",
    "    'input': prompt_template.format(q=question)\n",
    "})\n",
    "\n",
    "'''\n",
    "Answer the following questions as best you can. You have access to the following tools:\n",
    "\n",
    "{tools} => [PythonREPLTool, WikipediaQueryRun, DuckDuckGoSearchRun]\n",
    "\n",
    "Use the following format:\n",
    "\n",
    "Question: the input question you must answer\n",
    "Thought: you should always think about what to do\n",
    "Action: the action to take, should be one of [{tool_names}]\n",
    "Action Input: the input to the action\n",
    "Observation: the result of the action\n",
    "... (this Thought/Action/Action Input/Observation can repeat N times)\n",
    "Thought: I now know the final answer\n",
    "Final Answer: the final answer to the original input question\n",
    "\n",
    "Begin!\n",
    "\n",
    "Question: {input}\n",
    "Thought:{agent_scratchpad}\n",
    "\n",
    "'''\n"
   ]
  },
  {
   "cell_type": "code",
   "execution_count": 136,
   "id": "648ef7cb-dd09-44f6-b20e-8605e2f1744e",
   "metadata": {},
   "outputs": [
    {
     "name": "stdout",
     "output_type": "stream",
     "text": [
      "\n",
      "Answer the following questions as best you can.\n",
      "Questions: Explain Newton's three laws of motion.\n",
      "\n"
     ]
    }
   ],
   "source": [
    "print(output['input'])"
   ]
  },
  {
   "cell_type": "code",
   "execution_count": 138,
   "id": "71ffe931-64fe-4034-a0d6-dd7a92cc5f11",
   "metadata": {},
   "outputs": [
    {
     "name": "stdout",
     "output_type": "stream",
     "text": [
      "Newton's three laws of motion are:\n",
      "\n",
      "1. A body remains at rest, or in motion at a constant speed in a straight line, unless acted upon by a force. This is often summarized as \"An object in motion stays in motion, and an object at rest stays at rest, unless acted upon by an external force.\" This law is known as the law of inertia.\n",
      "\n",
      "2. The net force on a body is equal to the body's acceleration multiplied by its mass, or, equivalently, the rate at which the body's momentum changes with time. This can be formulated as F=ma, where F is the net force applied to the object, m is the mass of the object, and a is the acceleration of the object. This law explains how the velocity of an object changes when it is subjected to an external force.\n",
      "\n",
      "3. If two bodies exert forces on each other, these forces have the same magnitude but opposite directions. This is known as the law of action and reaction and can be stated as \"For every action, there is an equal and opposite reaction.\" This law explains the interactions between two objects and is fundamental in understanding the concept of conservation of momentum.\n"
     ]
    }
   ],
   "source": [
    "print(output['output'])"
   ]
  },
  {
   "cell_type": "code",
   "execution_count": null,
   "id": "56204797-a234-4827-862a-6fa456288703",
   "metadata": {},
   "outputs": [],
   "source": [
    "# 牛頓三大運動定律是：\n",
    "# 1. 除非受到力的作用，物體保持靜止或等速度直線運動。 這通常被概括為「運動中的物體保持運動，靜止的物體除非受到外力作用否則保持靜止」。\n",
    "# 2. 物體上的淨力等於物體的加速度乘以其質量，或等價地等於物體的動量隨時間變化的速率。 這通常稱為 F=ma，其中 F 是施加在物體上的合力，m 是物體的質量，a 是物體的加速度。\n",
    "# 3. 如果兩個物體互相施加力，這些力的大小相同，方向相反。 這稱為作用力和反作用力定律，可以表述為「對於每一個作用力，都會有一個相等且相反的反應力」。"
   ]
  }
 ],
 "metadata": {
  "kernelspec": {
   "display_name": "Python 3 (ipykernel)",
   "language": "python",
   "name": "python3"
  },
  "language_info": {
   "codemirror_mode": {
    "name": "ipython",
    "version": 3
   },
   "file_extension": ".py",
   "mimetype": "text/x-python",
   "name": "python",
   "nbconvert_exporter": "python",
   "pygments_lexer": "ipython3",
   "version": "3.10.7"
  },
  "widgets": {
   "application/vnd.jupyter.widget-state+json": {
    "state": {},
    "version_major": 2,
    "version_minor": 0
   }
  }
 },
 "nbformat": 4,
 "nbformat_minor": 5
}
