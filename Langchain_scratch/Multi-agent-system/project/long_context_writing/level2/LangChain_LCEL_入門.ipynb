{
  "cells": [
    {
      "cell_type": "markdown",
      "metadata": {
        "id": "rr5WDzrNbKWl"
      },
      "source": []
    },
    {
      "cell_type": "code",
      "execution_count": null,
      "metadata": {
        "colab": {
          "base_uri": "https://localhost:8080/"
        },
        "id": "Nqek-YyBauvl",
        "outputId": "3690f126-8399-4647-eb90-78eef3954015"
      },
      "outputs": [
        {
          "output_type": "stream",
          "name": "stdout",
          "text": [
            "Collecting openai==1.58.1\n",
            "  Downloading openai-1.58.1-py3-none-any.whl.metadata (27 kB)\n",
            "Requirement already satisfied: langchain==0.3.12 in /usr/local/lib/python3.10/dist-packages (0.3.12)\n",
            "Collecting langchain_openai==0.2.14\n",
            "  Downloading langchain_openai-0.2.14-py3-none-any.whl.metadata (2.7 kB)\n",
            "Requirement already satisfied: anyio<5,>=3.5.0 in /usr/local/lib/python3.10/dist-packages (from openai==1.58.1) (3.7.1)\n",
            "Requirement already satisfied: distro<2,>=1.7.0 in /usr/local/lib/python3.10/dist-packages (from openai==1.58.1) (1.9.0)\n",
            "Requirement already satisfied: httpx<1,>=0.23.0 in /usr/local/lib/python3.10/dist-packages (from openai==1.58.1) (0.28.1)\n",
            "Requirement already satisfied: jiter<1,>=0.4.0 in /usr/local/lib/python3.10/dist-packages (from openai==1.58.1) (0.8.2)\n",
            "Requirement already satisfied: pydantic<3,>=1.9.0 in /usr/local/lib/python3.10/dist-packages (from openai==1.58.1) (2.10.3)\n",
            "Requirement already satisfied: sniffio in /usr/local/lib/python3.10/dist-packages (from openai==1.58.1) (1.3.1)\n",
            "Requirement already satisfied: tqdm>4 in /usr/local/lib/python3.10/dist-packages (from openai==1.58.1) (4.67.1)\n",
            "Requirement already satisfied: typing-extensions<5,>=4.11 in /usr/local/lib/python3.10/dist-packages (from openai==1.58.1) (4.12.2)\n",
            "Requirement already satisfied: PyYAML>=5.3 in /usr/local/lib/python3.10/dist-packages (from langchain==0.3.12) (6.0.2)\n",
            "Requirement already satisfied: SQLAlchemy<3,>=1.4 in /usr/local/lib/python3.10/dist-packages (from langchain==0.3.12) (2.0.36)\n",
            "Requirement already satisfied: aiohttp<4.0.0,>=3.8.3 in /usr/local/lib/python3.10/dist-packages (from langchain==0.3.12) (3.11.10)\n",
            "Requirement already satisfied: async-timeout<5.0.0,>=4.0.0 in /usr/local/lib/python3.10/dist-packages (from langchain==0.3.12) (4.0.3)\n",
            "Requirement already satisfied: langchain-core<0.4.0,>=0.3.25 in /usr/local/lib/python3.10/dist-packages (from langchain==0.3.12) (0.3.25)\n",
            "Requirement already satisfied: langchain-text-splitters<0.4.0,>=0.3.3 in /usr/local/lib/python3.10/dist-packages (from langchain==0.3.12) (0.3.3)\n",
            "Requirement already satisfied: langsmith<0.3,>=0.1.17 in /usr/local/lib/python3.10/dist-packages (from langchain==0.3.12) (0.2.3)\n",
            "Requirement already satisfied: numpy<2,>=1.22.4 in /usr/local/lib/python3.10/dist-packages (from langchain==0.3.12) (1.26.4)\n",
            "Requirement already satisfied: requests<3,>=2 in /usr/local/lib/python3.10/dist-packages (from langchain==0.3.12) (2.32.3)\n",
            "Requirement already satisfied: tenacity!=8.4.0,<10,>=8.1.0 in /usr/local/lib/python3.10/dist-packages (from langchain==0.3.12) (9.0.0)\n",
            "Collecting langchain-core<0.4.0,>=0.3.25 (from langchain==0.3.12)\n",
            "  Downloading langchain_core-0.3.28-py3-none-any.whl.metadata (6.3 kB)\n",
            "Collecting tiktoken<1,>=0.7 (from langchain_openai==0.2.14)\n",
            "  Downloading tiktoken-0.8.0-cp310-cp310-manylinux_2_17_x86_64.manylinux2014_x86_64.whl.metadata (6.6 kB)\n",
            "Requirement already satisfied: aiohappyeyeballs>=2.3.0 in /usr/local/lib/python3.10/dist-packages (from aiohttp<4.0.0,>=3.8.3->langchain==0.3.12) (2.4.4)\n",
            "Requirement already satisfied: aiosignal>=1.1.2 in /usr/local/lib/python3.10/dist-packages (from aiohttp<4.0.0,>=3.8.3->langchain==0.3.12) (1.3.2)\n",
            "Requirement already satisfied: attrs>=17.3.0 in /usr/local/lib/python3.10/dist-packages (from aiohttp<4.0.0,>=3.8.3->langchain==0.3.12) (24.3.0)\n",
            "Requirement already satisfied: frozenlist>=1.1.1 in /usr/local/lib/python3.10/dist-packages (from aiohttp<4.0.0,>=3.8.3->langchain==0.3.12) (1.5.0)\n",
            "Requirement already satisfied: multidict<7.0,>=4.5 in /usr/local/lib/python3.10/dist-packages (from aiohttp<4.0.0,>=3.8.3->langchain==0.3.12) (6.1.0)\n",
            "Requirement already satisfied: propcache>=0.2.0 in /usr/local/lib/python3.10/dist-packages (from aiohttp<4.0.0,>=3.8.3->langchain==0.3.12) (0.2.1)\n",
            "Requirement already satisfied: yarl<2.0,>=1.17.0 in /usr/local/lib/python3.10/dist-packages (from aiohttp<4.0.0,>=3.8.3->langchain==0.3.12) (1.18.3)\n",
            "Requirement already satisfied: idna>=2.8 in /usr/local/lib/python3.10/dist-packages (from anyio<5,>=3.5.0->openai==1.58.1) (3.10)\n",
            "Requirement already satisfied: exceptiongroup in /usr/local/lib/python3.10/dist-packages (from anyio<5,>=3.5.0->openai==1.58.1) (1.2.2)\n",
            "Requirement already satisfied: certifi in /usr/local/lib/python3.10/dist-packages (from httpx<1,>=0.23.0->openai==1.58.1) (2024.12.14)\n",
            "Requirement already satisfied: httpcore==1.* in /usr/local/lib/python3.10/dist-packages (from httpx<1,>=0.23.0->openai==1.58.1) (1.0.7)\n",
            "Requirement already satisfied: h11<0.15,>=0.13 in /usr/local/lib/python3.10/dist-packages (from httpcore==1.*->httpx<1,>=0.23.0->openai==1.58.1) (0.14.0)\n",
            "Requirement already satisfied: jsonpatch<2.0,>=1.33 in /usr/local/lib/python3.10/dist-packages (from langchain-core<0.4.0,>=0.3.25->langchain==0.3.12) (1.33)\n",
            "Requirement already satisfied: packaging<25,>=23.2 in /usr/local/lib/python3.10/dist-packages (from langchain-core<0.4.0,>=0.3.25->langchain==0.3.12) (24.2)\n",
            "Requirement already satisfied: orjson<4.0.0,>=3.9.14 in /usr/local/lib/python3.10/dist-packages (from langsmith<0.3,>=0.1.17->langchain==0.3.12) (3.10.12)\n",
            "Requirement already satisfied: requests-toolbelt<2.0.0,>=1.0.0 in /usr/local/lib/python3.10/dist-packages (from langsmith<0.3,>=0.1.17->langchain==0.3.12) (1.0.0)\n",
            "Requirement already satisfied: annotated-types>=0.6.0 in /usr/local/lib/python3.10/dist-packages (from pydantic<3,>=1.9.0->openai==1.58.1) (0.7.0)\n",
            "Requirement already satisfied: pydantic-core==2.27.1 in /usr/local/lib/python3.10/dist-packages (from pydantic<3,>=1.9.0->openai==1.58.1) (2.27.1)\n",
            "Requirement already satisfied: charset-normalizer<4,>=2 in /usr/local/lib/python3.10/dist-packages (from requests<3,>=2->langchain==0.3.12) (3.4.0)\n",
            "Requirement already satisfied: urllib3<3,>=1.21.1 in /usr/local/lib/python3.10/dist-packages (from requests<3,>=2->langchain==0.3.12) (2.2.3)\n",
            "Requirement already satisfied: greenlet!=0.4.17 in /usr/local/lib/python3.10/dist-packages (from SQLAlchemy<3,>=1.4->langchain==0.3.12) (3.1.1)\n",
            "Requirement already satisfied: regex>=2022.1.18 in /usr/local/lib/python3.10/dist-packages (from tiktoken<1,>=0.7->langchain_openai==0.2.14) (2024.11.6)\n",
            "Requirement already satisfied: jsonpointer>=1.9 in /usr/local/lib/python3.10/dist-packages (from jsonpatch<2.0,>=1.33->langchain-core<0.4.0,>=0.3.25->langchain==0.3.12) (3.0.0)\n",
            "Downloading openai-1.58.1-py3-none-any.whl (454 kB)\n",
            "\u001b[2K   \u001b[90m━━━━━━━━━━━━━━━━━━━━━━━━━━━━━━━━━━━━━━━━\u001b[0m \u001b[32m454.3/454.3 kB\u001b[0m \u001b[31m26.1 MB/s\u001b[0m eta \u001b[36m0:00:00\u001b[0m\n",
            "\u001b[?25hDownloading langchain_openai-0.2.14-py3-none-any.whl (50 kB)\n",
            "\u001b[2K   \u001b[90m━━━━━━━━━━━━━━━━━━━━━━━━━━━━━━━━━━━━━━━━\u001b[0m \u001b[32m50.9/50.9 kB\u001b[0m \u001b[31m3.9 MB/s\u001b[0m eta \u001b[36m0:00:00\u001b[0m\n",
            "\u001b[?25hDownloading langchain_core-0.3.28-py3-none-any.whl (411 kB)\n",
            "\u001b[2K   \u001b[90m━━━━━━━━━━━━━━━━━━━━━━━━━━━━━━━━━━━━━━━━\u001b[0m \u001b[32m411.6/411.6 kB\u001b[0m \u001b[31m30.6 MB/s\u001b[0m eta \u001b[36m0:00:00\u001b[0m\n",
            "\u001b[?25hDownloading tiktoken-0.8.0-cp310-cp310-manylinux_2_17_x86_64.manylinux2014_x86_64.whl (1.2 MB)\n",
            "\u001b[2K   \u001b[90m━━━━━━━━━━━━━━━━━━━━━━━━━━━━━━━━━━━━━━━━\u001b[0m \u001b[32m1.2/1.2 MB\u001b[0m \u001b[31m55.1 MB/s\u001b[0m eta \u001b[36m0:00:00\u001b[0m\n",
            "\u001b[?25hInstalling collected packages: tiktoken, openai, langchain-core, langchain_openai\n",
            "  Attempting uninstall: openai\n",
            "    Found existing installation: openai 1.57.4\n",
            "    Uninstalling openai-1.57.4:\n",
            "      Successfully uninstalled openai-1.57.4\n",
            "  Attempting uninstall: langchain-core\n",
            "    Found existing installation: langchain-core 0.3.25\n",
            "    Uninstalling langchain-core-0.3.25:\n",
            "      Successfully uninstalled langchain-core-0.3.25\n",
            "Successfully installed langchain-core-0.3.28 langchain_openai-0.2.14 openai-1.58.1 tiktoken-0.8.0\n"
          ]
        }
      ],
      "source": [
        "! pip install openai==1.58.1 langchain==0.3.12 langchain_openai==0.2.14"
      ]
    },
    {
      "cell_type": "code",
      "execution_count": null,
      "metadata": {
        "id": "rFb-JBkfbI4D"
      },
      "outputs": [],
      "source": [
        "# 設定 環境變數\n",
        "import os\n",
        "from google.colab import userdata\n",
        "\n",
        "# 設定 OpenAI API Key\n",
        "os.environ['OPENAI_API_KEY'] = userdata.get('OPENAI_API_KEY')\n",
        "\n",
        "# 設定 LangSmith 的一些環境變數\n",
        "os.environ['LANGCHAIN_TRACING_V2'] = 'true'\n",
        "os.environ['LANGCHAIN_ENDPOINT'] = 'https://api.smith.langchain.com'\n",
        "os.environ['LANGCHAIN_PROJECT'] = 'STORM-Exp'\n",
        "os.environ['LANGCHAIN_API_KEY'] = userdata.get('LANGCHAIN_API_KEY')"
      ]
    },
    {
      "cell_type": "markdown",
      "metadata": {
        "id": "r8lb7LfulWyM"
      },
      "source": [
        "# 最簡單的 LCEL 範例"
      ]
    },
    {
      "cell_type": "code",
      "execution_count": null,
      "metadata": {
        "id": "2IfgjkD4mHyI"
      },
      "outputs": [],
      "source": [
        "from langchain_openai import ChatOpenAI\n",
        "\n",
        "# 建立使用的 LLM\n",
        "llm = ChatOpenAI(model=\"gpt-3.5-turbo\")"
      ]
    },
    {
      "cell_type": "markdown",
      "metadata": {
        "id": "ZvCf9yFIZMJB"
      },
      "source": [
        "# OpenAI Chat Completion 資料結構  \n",
        "OpenAI 角色定義 -> LangChain 定義  \n",
        "\n",
        "---\n",
        "\n",
        "System -> System Message  \n",
        "Assistant -> AI Message  \n",
        "User -> Human Message"
      ]
    },
    {
      "cell_type": "markdown",
      "metadata": {
        "id": "BvMSDePBZH8W"
      },
      "source": [
        "![image.png](data:image/png;base64,iVBORw0KGgoAAAANSUhEUgAAAUsAAAFQCAIAAAC5xMuRAAAgAElEQVR4Aex9B3xUVfb/0ERdXYH0mUmnY0Gs+1/3t/vT366uP/e39aerENIDoVl37SIgqCggSEibXtMLVQEhkJDQBIHUSZkkM+mdJNNeOX/vO8kzusBvUdL0zecyvLx57977vu987zn3nPPuEwHTB2BnwckATQOwWFgWtwEGdwEDQLHgGjhgcLfw5w9EACgGaIphKJp10iy5Cyz3AQI4Bz/+ybqAdQLYcafwLSDwbyIgGqS3iwUGhRXPZIBmgAjXAOkJpRkaqH+zXuGwfxMBhgGGYWiWcgEpFAc7h/wA1YcQngJw/ZvVCocJCCACIhacLFHODDKc28sA+dNFFPngbhaAJoX8JJQbiICLs4ucwLiAdgFNcYUBli/fthEGFLsgvgIC/yYCokFuEyp/S3CJWUgDSzQJmuocw+Fbx3znFOHP60eAAmIXcYXl7Caa5TD/NrGJITWI/795Z4XDBAQIAiJ+7v1d6rIDhGdZYq5TpKCN/u2B4Ppl+rsN/bRrYFggMyHyj4ynpDCc6cTJJ89zenAgEMRWQOC6EBhgOHcOT11ggJt+c9xDxcIQbc4Qrgs+thuLAHKbsNpFCjHPBxsYuJMM+kS4QZbYU8JHQODfR0A0KDK8xmYZltPV3A+D9KZ5H++gScnblsLGD0KABRcM+MldnJ4mM22C/Tc3hGbBxZBCZun//q0VjhQQIFY6TrMHBGrAICfON6JLyNSc5by7RLzQ8SYw/MYiwICdIdFKO+cnJxENNMhx2GAZimWcnDfUyZFc8KULtL0+BEQOwmWc/hHnORenIUqkvxeAdnXSGIHtZRgKXE7od3AKB9WO8H0jEIA+ErkgyF9moJ8CaOtz9hGUCccH5ufczJzYVoMW1/XdZOHonzACooGZH5EhoqXRGicmIuUCR3s3QDNAi6uvBaDJBZcBWlih3EgESiioBWhioJNx9LH9vQ6KAuhx9XMMZ4ndxOL8nAy+JGNB+AgIXA8CogFFQVy6hN6cTU4iZL0AnQDuf3/TbdVOnxfjpq5W3LJCOTVG8fNVyiuWaauUQvkeCHiv3hW4fOfC8LWtXMKanWL7+kmGAjWQfeBC6537Fgh+PaItHMshwHna0HnLEHMdky4YoHscbDvAjNid9+gqJAknvdRmX41FqrQEKmquWIIUNUL5HgjMVFTftf1LcegH5Sy0uexESbPgdNq5KCYxpYYUgeECa68bgUFfOheSpYhFSNQ45+C11fd0il9KCEg64684IzFUS1QVUoUpQFEhlBuJgLFtbkJ54KqdlyjoB7DbncQwR6865+nErNWB5HTBSr9uCf+pn0By2hADZtCHhgynaboD4JbnVT5qs5+x5jZ5jZfG4qNp9tFahXIDEXBLqrpLXuW7fFs5QA/bDwC9PX0kSDmYbMjlw2BWDPkWPgIC14WAiOaS0oFLiuTmfFzKBUuD026xszfHyuakt4jlJVJDg7/W6p1skSjNVyxilVko3wMBf6317qRyacyWUgb6wQFA0Q47gIPPS8fnf3hNfl13VzhYQEBEgQtJTg+6dEiEhmHB7ugB+NkqtVeCaabe7Cmv80msD1BflqgsVyxitUUo3wMBibL27iSTJGZLBUA300tugssGbA8XGqP4h4KGzMYFoRUQuA4EyDycM/0GU6gGRQmAamHh5yvkwUqzv7xcrGvwUdaI1RaJqk4oNxABb03t/KQKSdS2KqD7yITJBYOJ6SzJQyIBjsEENy48fh03VzhUQAAEho/ygCUwXGDhsCIgMFxg+LAKmFD5KCMgMFxg+CiLoND8sCIgMFxg+LAKmFD5KCMgMFxg+CiLoND8sCIgMFxg+LAKmFD5KCMgMFxg+CiLoND8sCIgGqz9W/Fwbp0BIR4+EuQXomWDEij8PywICAwfCRpfI0NGYPiwyLVQ6SACAsMFhg/KgvD/jxEBgeECw3+Mci1c0yACAsMFhg/KgvD/jxEBgeECw3+Mci1c0yACAsMFhg/KgvD/jxEBgeECw3+Mci1c0yACY47hvspWL22td0qDl7xxpqLuTmWJ/66v5mm7Z8qtgYo6P02rWN/srm6eoWr30Fq8tLVBssuBCpd/vCVAVeehPRUkb/XbZZ2R0iBVN4qTzYGqMqms0ld12VNl9tJVeMo7fXRNnqo6qdoq1TbMkNd4GZrdNNYZSqtE3iZJtvqr6v211hmJFb4ai5/CHKysvkag64b8NALRMpr7kCUeWdblcjkcDtxGGWAYBheQoWmaIku8Ak1eJE/eeYxH4k4AcDqdeIrL5cIXaeC5g7IEFEXhuS7XwJsbcMNms/HH8D/Z7QPvQqdpmmEYiqKwe9g3vifYN77DNE0WAubbHXotfPewQgDSH6yHYQaXKhvc4C8BD8PLoSgKj3Q4HLiH34+A4DfWycOCF8I3il3Cb76feOJ3roXHBDEnS2dzV4cXyAPON4TY8ncHez60kitujzmGe8usXrJqP3WDVNXqJa8Say+INRfF8roZyXUSbbWvrlKiqpRq6vz1Vh+d2U1e46Wy3pFcPsfYKdFc9FRX3aW3ztrRINFYvdVfzslqlmqrvdVN7rLLPppGqf6SRFEcILNKkqsksmqptkmsb54hq5yZ0iJNapyp6wpQNfnJ6wM1Vi8ZWVjWV2H2V9bcEBpfo5IRYDgvkbyEOZ1OXuj5bZRmm82GJERJQtogA1FMcY/NZhsqiCzLokwDQHd391Dhw9YZhuEpjS3i6f39ZGk6/GAHXC4Xsn1ob3lxJ0tkcMPHULl3Op0ulws5dvnyZawNWcpTlB9E8FesxOl08q0gG4cOCjRNOxyOoWMWtgJkwUwyPHV0dOCveO18x/hLxhoQDZfLxTeBlHY6nTimOJ1OHj0c5hiG6evr40dbh8OBsNvtdkSMH84GsLv6f2OO4YGGpkCVxT+x3k/e6pvS4m6s9NSbfRQt0w3Nbtp6f0O1NPmrAHnZbK1FIqv11zV4G83u+osB6kqp4nyQ1rog8fQv4osXJF30TC721TS5y8o91MV+BquPvMZfWTVbbZ2vbJijqZQoisXqBh9No6+uUiovDUis94yvlMrrpPK6YF2zr8oqVtb7qGolmvprkPOG/DTcDEeBYLjPsWPH3nnnHZSbioqKoKCgiRMnPvDAA+Xl5SgxQ/lWUFDw1ltvAQAvfMg9k8m0aNGim266SSQSffTRRyhaaWlpKP0URWFVvLi///77IpHo5ptvFolEkydPXrRoUUVFxdCGnE4nDiu8rYF1Ik+wdYqicIM/EY0RVHp4PJINAPr7+51OJ69UkSr8iHD58mUc3ZD8yDqbzcabMDi+YJ0ulwsvhz+dZdmhJgk/4rAsiyaMzWY7d+6cXC7n7Y74+Hh+dMOdCE5CQkJBQcH8+fOnTp06ZcoUEfdZt24d1skwzPbt21mWLSkpqaqqwuGVNzFw1OCHaeztFb/HHMN95JUSWU2AojkwudE/qSZIVj1TXh+Y0OytqvFOagzSmOdoqmfLTLOSzDMTm+eoKgJlJUHJxQuSihbKqucrzkcebT4AsLGCmqkpma1umpVsma+omJtUOi+5bo7a6q8oCdp1YZbi1Fz9Bb+kcvGu4tnaC0HKM3N0NbOMdYF6i2dyjbe8Vqq2+uqs3obGaeraG0Lja1Qy3AxHibfb7bGxsSKRCCVJr9ebTKZ9+/Y5nc6UlJS6ujrUsZmZmShnkydPFolEEydOFIlEU6dOFYlEd999d01NDcMwJpMpIyODpunOzs5du3ZRFNXT0yOTyXiLtLu7+ze/+Q3W8N5772VnZ3d1dVVVVeXk5NhstoyMDJPJhAL6HX5u2rRJqVSimCKfvzPuIId5g4InW29vLx6JZ1VUVDzzzDNO7oMcwG+Xy1VSUrJ06dKuri5kLDINf0XCOxwO3IkVAsC6des+/fRTHBZ5SyEsLKywsJCnOj+/YBjG5XJt374dRxkAuHDhQnFxMZLWbrfjKNDX1/df//VfhYWF2OGhFgqOBbi/rq7u5MmTubm5bW1tfX19Lu7DD0z8iHZFYvM7xxzDZ6otXjKzt6rmnpTq+3Yeezzx5CM7jv0i+eS9itL5iRdmJx1bIKuZHWeak3D8fuWlRfJTv9x14tdxX/0uLu8Xm0/9Kvncq8caTwN8er5lzq6C++Wl9+04+WjSkf/ctecXCYWB207PNpT9Un76waQj93xy8Fe7vvptYsl9Ww/9Ql24QFYoTTrrqyqXai1kpWRVvYfa7GFouE3XcA1y3pCfhpvhvPJBYqBYsCybl5d38uRJp9O5Z8+es2fPokBkZWVVV1ej0Yvahp8Z5uTkXLhwweVyVVVVZWdnI3+SkpLWr1+PQ8DEiRMXLlx44cIFbKKwsPDQoUMMw+zbt4+m6ZKSktzcXADIysriGY6jDzZhMBiOHz+Oss73GfUqr6l4hvCjAH/kUJJgB9BcR04iYWiarq6u/tvf/tbZ2ckb53giHsBb+MgiVP4bNmzIyMjAFtGKweHpvffe6+joYBiGZ5rL5bJarU8++eTEiRMnT578/PPP2+32TZs24aB50003RUVFAYDZbF6xYkVPT09xcfGlS5f4UYO3yQHAZrNFRkaKRKKbbroJB+Xbbrtt8uTJU6ZMycvLGzrl4Zl8tY2xx3C51VteH5BaPTN5TxbAYQccBUih6V/FFakBtvZ2PZJY+khi6ZaeLhkNi7bl7IaO/SxTBJALrpB9X34B7Jd0+yWAd0ywePdXnwPsdVB54FC32X6VlL+6Gg6CM6Ov5yhAIYC81FwA8BmAlum5S3FamnA2wNAg0Td6KWo8FVUeWss0fdMNofE1KhluhuON/5oqb7755uTJkydNmjR79uz6+vr4+HhUffv376+qqkJpttvtGo1m6tSpqIGnTJmC1vjdd99dXV2NVV28ePHhhx9GqV2/fj2a5Z988glFUUaj0Ww2o2Gfn59/9uzZr6mydu1aPBi/77zzzvr6ehwgeKHs6OhYv349wzD9/f08n/v7+9vb25988kkcQdauXYs1I2cmTpy4YcMGJNu6deuw8g8//BAAysrKnn766a6uLpvNtnLlyokTJ06ZMkWpVDqdzkcffXTSpEm/+93vWltbz5w5g0bNxIkTCwoKAODEiRN/+ctflixZMmHChMDAwObmZrVajTXL5XJe32KjOp0Oz7Lb7Wiiow8iOTkZALq6uuLj44uKirKysvB4h8ORk5ODBoLL5bLb7Tt27HjttdcmTZo0ZcoUBHzy5MmzZs26dOkSDjEA0NzcnJCQwA9D+/bt6+npQYudnwXwMF5xY8wxPCCxdo6hI0Dx1Yvmzr0Abx0qeGH3kWwa3imBzTW2PIAY/bmXsiuPAvvOl1XJ7fAFwOqssy9lnt8N8G4l/OOL0goA+em638dpswEybfC/n2Rl1rUXAmw627ixsu+cEw53wt+2pO/rhhIAxekO2fn24wCvV8D9mhKprGJGYoVYUROst0jV9Z6q5muQ84b8NNwM7+3txRuPnh4kiV6vz8vLQxV66tSpr+fJH3zwAeoiXiMxDJOenm632/kTUYVWVVUZjUaUZplMhm6nzz77zOVy7d27t6SkhGEYJOGtt976+uuv79mzx+l0VlVV7d69G3V4aWkpL4uoS9VqdV5eHko/GrQ9PT0sy65atQqbOHfu3FNPPVVeXl5QUBAREdHX1+dwOFatWlVTU1NUVBQZGYn9efHFF00mU0VFxbPPPtve3q7T6TZs2EBRVHt7+4oVKxobG8vKyv7617/29PSUlpb+8Y9/vHTpEkVRKpVq5cqVfX19Z8+enTBhQl5ens1mW7FixZtvvvn1+7ffffddnU7HGxfoe3M6naWlpTt37kQHOF4OwzAdHR27du1CYLds2SKTydDqZlm2u7t77969LMvino0bN9bW1iL5bTZbb28vDrXYEFZrs9kOHz6Mg+yECRPQlyESiYqKini3P4/k1TbGHMOD5VUBu6rmyy5+fBkyAEJSTvw5ofDxbUcfTjj+0tHe4wBbDpzXnqwvcsKL2TU7zMxugOd3tzy1NevRnakPyvas/sx8HkD2ZdU7h8oPAuyqs/1v3KGXjJ+fZyCjCuJO09UAu05a/hyfq+ruyemn/3dzxkeHTScY17pL1L1xRTOVlX4aS4DKHCyv8k2qDtJ03BAaX6OS4WY42n40TW/YsGHChAkikejBBx8sKyvj9cBQJzPGkGQyWXNzMwDs3bv38uXLyHneHi4tLc3JyaEoqqurKy4uDvUMinVGRkZ1dTV69QoKCtDqzsnJ6enpqaioSE9PB4A9e/YUFxfzSg9FfPv27dgliqKG8hy3GYZpb29fvHjxxYsXT5w4sWLFCt5x9bVaPn78eGxsLDrw0RdQXl7+3HPPtbS06HS6jRs38kYBwzAVFRVLlixpbGxESxhZUVhYGB0d3dfXd/To0SeeeKKlpQUAUlJS1q5dS1HU+vXrtVrtUPc+VtjS0rJ+/Xq0ffh5eHNz8//8z/+IRKJJkyYtW7asq6uLt73b29uTkpJQOSsUilWrVpWWlvLxRQDIzMwsKyvjRwSGYWw2m0qlwjkFDnwsy+7Zswfn5DgWXI3Y/P4xx3B/XZWfxiKOq/yFoljXDUddcB4gq4V6RFaw8NPDR2jIKi091tqZ1Q13J56/O/lSPN16kAYTwL7G1sc3H3j7TNcXNBhOWj/NKznXR17cWwuuL+nLR1hG38NuKu06x8LmI8V/3ZplbGaPUPD01tQPDl8sYmG9Ce5OOBusqveUNQRoWwI1jV6JVjF5A8TwpsQMN8NRHHnNjBsqlUokEk2YMGHSpEkTJkxABzvq6v7+/szMTJSPtWvX8gpk2bJlGMKprKxcuHAhDhbr168HgIqKijNnzgDA7t27q6qqkJZFRUUnTpxgWXbDhg1oDOMpd955J+rwoTPhTZs24U4McfE8z8vLE4lEt9xyy4QJE+677z4cBVQq1dcm+qRJk9BfzTCMRqOZNGmSSCQyGo1Op7O6uvrZZ5/FQertt99Gl2FBQQHLshcvXkRPm9PpxI4hDitXrnQ6nUeOHImIiMCx72u9jfOCd999V6PR8E5BHL8AoLW1dcOGDbxvH/V2T08P9spms8nl8v7+fpVKlZaWhsfn5eXRNF1aWpqdnZ2Tk3Pp0iX+7rAsu3///uLiYn4PRVEpKSk4WGAYArs6efLk6OhodPLhwTyZr7gx5hg+XWHx1tXPNtYu2Jn/2JacyPjMV1OyT9HMhnp4WPbVThN9koZTTvj4dO/9u8x37zj3n5v3/f2jgs0Hzh5xUfEt8PyJi+cAUk5cWrc7rwxAd6b5mfW6iPgDf9qe+WRcxvulTacA1h2u+sP2z+Qt9t00/OmTPe8cKj8G8E4puzDhzFyDxVNu9kquClDVBaiaJMrW8c5wnkhpaWkYtVqyZElfX59CocB5+KVLl0pLS202G4qLyWT6+OOPUdXk5OTY7XY+2oQ7Kysr9+7d63K5+vv7ExISnE7ngQMH0NzNzs6+ePEizg8PHTqkVqs3bdqEYnfhwoXc3FxsAllht9t5N97OnTsrKytRDyPBWJZta2v73e9+d/z4cZZlGxsbn332WWwFK+zp6VmzZg3vjqYoqre3Nzw8PD8/v6ys7Jlnnuns7OQlvqWlZfHixV999VVNTc1f/vKX+vr606dPP/HEE93d3QzDHDt2LDY2tr+///Tp02vWrEFfQGpq6oYNG1wu1+bNm3FWQtP0UL9dQ0PDxo0bHQ6H3W7nM2QsFotcLne5XB0dHUlJSf39/RRFGQyG5OTkr0fGnJwcfgjLzc1FpyZ2kmGYnJyckpISPlR2+vRpg8HAu+txtkXTdHd3t1wuxz/HJcN9ZO3B+rrAxENJLjLHfm7Thx9m7C53wWsm+707z79V2HGIZo8yjn8evPBgwomtfXDaAVEbd7+avK+AgfdLqGX7zp4H2HPiwl93phU54Ww7xLybmHS45BxAfI3r/Ur7Kda29rOSP+7cp+3t2wfw5x1Zb3128Tg43q6AeXGFgUqTn8Hqp6sL1NYFaSxS2bC/42W4dTiawRRFZWRkVFVVMQyzZ88eu91eVlb2xBNPJCUlrVq1qq2tDXllt9uTkpKioqIKCwudTufevXvRr4NSiAakyWRCZ1Jra+uuXbtaWloUCgUeEB8fz7N006ZNy5Yta29vDw0N5ePhOJNEBxWOF+i+UqvVJ0+eRHnlHVq1tbV/+tOfjh07BgBarfa+++6rrKxMSUl5//330VG3Zs2a8vLyr+m3du1aHC/Wrl1bU1NTWVn59NNPd3R0vPvuuwqFwul0tra2xsTEtLa2VlRU/P3vf+/r68vPz3/sscdaWlpYlo2MjIyIiHA4HEePHo2KirLZbHa7fdeuXZs3b/46ZrZ27VqdToc+CLxM7LnZbH7//fdxD35TFNXc3IyOA5Zl4+LiEDEcF6qrq7Ozs/kBNyUlhWc4GvmZmZlmsxkv/8svv3z99dfb2to0Gs2RI0cKCgpUKlVJScm7777b1dW1Z88eNJR402xoN76zPeZ0uDihfp6u6R7txT/vP70H4BjAGYD0Oliw69wjiVV/3bbn837I7Idfbtm9MOns/35RegK6C1k4B6Dtdvwq6dDSwyW7GWLYryuH0JRTJwEuApwG0LUxv4k7+HoZHAJ4q7Dlke37P+0FJQO/+iTrjcLGvQCvVsM9mnKpotxdVe2uqPJILveRV0vl5vGuw3kh+FqjosnNC3FMTMzXRiB6pDHP7CL36e3tDQsLQ92FkmTnPig65eXlubm5X5ua99xzz5QpU1auXFlaWooqRaVS9fT0tLe3L1++PD8/H8/FCXxFRcXu3bv5zvADAe4pKyvbsmULCjqqSmR7cnIy9jkxMTE6Ojo/P7+rqys8PBy966mpqeg4CAsLu+WWW0QikVwut9vtNTU1f/3rX7u6ujo6Op544okp3AedAhaL5Q9/+MNvfvOb5ubm5cuX33zzzfPmzdu7d294eHhzc3NhYWFMTAx2OC0t7e2338bpsUgkwpkLXpHD4aAoSq/XHzt2DA/u7e3FjcuXL//+979H9/sLL7zQ09PDX/Lx48cLCgr4Gg4fPowamz8gNTUVpyq4x+l0nj9//uu4QGlpaW5u7qlTp/Ly8vbu3ZudnY3Ru6EThO+weuifY4/hKY3u8obpO+tnKhvu0ZG49wJZwULt+Vm6svvjD6zft78I4J2v+h9IOH+XoWtBcuXMT/N+qSq9d1fB3PiCWZqqYF31LOVXc3Z+eU9i2Z2JF+5Unp2pKvCVH7/TUHKnvGLBjrKFyRcCd56Zq6/2V5XNNVQs0JYExp2cJ7s4K/GiNKHYX2/11lrFKc1+ac2+OqtEYx3vDCevK+7tZRgmNze3vLycoqicnJxXXnnl7rvvxmntwYMHUYJbW1s3b97c29uLElZUVIQZLzgJnDRpklqttlqtjz322IQJE/70pz81NzebTKbc3FybzZaVlSUSidD5zIsXRVFHjhyZyH34/JkJEya89tpraDLwBgJFUR9//DH2hz8d2YvM4Xfiiei+wlEArw4PwD2oz/nsOt6bxXMJ59KYMIPOOX6ajclwvCcPW+eTT/nWbTbbxo0bOzo6+HxSjJChCY2HxcXFYQKMSqWaMmXKU0891djYiPofAPR6fXl5OXYJo30PP/wwRiKwYxRF7d27F30fu3fvRsv/8ccfX7hwIQ4NfPLsUHD+dXvMMdxX3+WttPgo6gJ17e7xDV7KFi9trVdKmbu6bHWl7QyA/jI8pCgKjC/yUtR6xJX6p1nEiirfxIpgVb2PsnG6qt43s8VDV+Urq5ttbPOS1Xnpm2aoGzzVjb7yxrnyVvJoiqbeS13roWj0VlrEyjI/fbVE2SJRmoMMjX5aq3uy2VNp8VBZ3JW1Pvpxb6UzDIPpWagbUQJ4ORsqECiO/B5+Hovpn3wWOh7Ap69/JyqLz6vgKZivwlOUN7/5Jnj/MDJ2+fLl+/fv5+NA2En0uvO+N2QvMhnrQZLQNI2Xic2hquQzSfEYzE7Bn3gO87lrfE7e0O7xTnLcic7Irq6u2NjY/Px8nv/8Uzo4J+Ix52fRfNYtOsBR/eIFYm48DgrYT/4S8GKH4oaPA2DI84o3cWjncXvMMdwrsSlAVTdLWxqkuhigqvZVWYOMrR7JJjdl+1x1873b84N3fRmgMs/XWX6eUBec1TU96YK3zDRL3z1H7/KK7/RK7pwRb5VoGmfIawINTb5JplnKmiBVta+yemZKi1dSrZ/SIlXV+qrrgrTWIFV1oKrMT1vlranz1DVKNFZxYlWQwjpT1yZRNXiozV7aH8OTJ3zABuUPxQuTwPlUcF7Q8WCkASo0lCTcw1sEPMfwRKwTfXIoWLxWRBoPFVOshJ+R4rl8/Vghev74pvFXnjC8euc1MDaK52L8Dw/GE4cyBwAwd41l2e9cNV4Uhrj4gYmiKKxq6B5sjg9u84m02Bzvb8dr5zU/3zSejgTGaxx6CvYKq+J/5R+J4bsxXnW4h67WR1vvr2z0U1okylofZY1XUk2wtl1sLPFUNknldTPSWn6uqpqjqPVRtE3Xmn31XRJ94wxVzTRlhSS91ltX569v95ZZJSm17spysbrSV1fjm1I3Q14q1VYHaGq8tVYPZbNY2+arNotlpb7qOg9twwxD/TTuedJgRd1ceb1/glkqr/MzWN3VFePdSkfh5qUB5YNnDgof0g/VGhIPD+BVH6+oeQrhQDC0HqwKtRzfKM8ivkJ+aOClHMcdtBF4rYstDpV7ni08YYZ2DzUhamm+CSQJTxU8nmc1T5WhneTP5QPmQ/fgVfDBfB4NPIaPmWMP+ROxAxhO4y8Wq+KP4S9qKCx8kiyOaEMR4G0WPP4a32NOhw83o8Za/SPgS7/G7Rd++tEjIDB8eBNa/s8BRWD4j55jo3uBAsMFho+uBAqtDy8CAsMFhg+vhAm1jy4CAsMFho+uBAqtDy8CAsMFhg+vhAm1jy4CAsMFho+uBAqtDy8CAkG6FKMAACAASURBVMMFhg+vhAm1jy4CIhaAJV341vvDyarZILw/fCTI762tmZ9UIYnaUgV0H1nVm6w0TnM3hbs1DDt4a0ZXUITWxykCAsNHgsbXiIoLDB+nzBkv3RYYLjB8vMiq0M/vg4DAcIHh30duhHPGCwICwwWGjxdZFfr5fRAQGC4w/PvIjXDOeEFAYLjA8PEiq0I/vw8CAsMFhn8fuRHOGS8IiFgagAKgGGBoBmgaBgKwDNtZC67b1yT4Gkw+mnPeygoPg9lLZfWVj07xUzRcsQRrGnzVZg9Vmbe2yldb75lYPVPfIlaY3fR1EqPVW1Xlpaz0UNd4Geo9tRXeupLR6v/V2pWq62fGXZCu2H6BhU5wsgAMRZNX6HK3hQGWj4cPZi6MF9ES+jkmEBCRV6bTADQLLGE4Rba4D0NV2pjpKzT+WqtUVjHX2CnVNvkkNIg1VWOqzPi0xFdt9jVUSzQm8q4SlcU30RyoavJQNolVTb6qxpnGLrd4s1hpFStrxYqx1XmxpipQb1koLw9c+UkFQB/Ql/t6GRpoliKj7reTkciyJ2NCZoROjCcERGQ1GaK26UGGswxLFAdQ0AngHZsiSarzSaj03mURKxoDZa3eGsuYKjNT28XquumJJYHa6pmqmoD4ytnKxgCZVaJqEMstkmSrOMkyx9gdpGnxVVmlyrHVeW+NZXrcpbuSLnlHbDQBdDN9qKhtLmqIxmaAJXeHX9hsPMmX0NfRRkA0YASyRIwYYCkgfCd/OW1mB+0ZK/dT1QSm1Et07V6GZomyyVcztsr0ZKvU0CnVt3gkVszR1wfKK4NV9VJ5na+m0ktR7q2oDjI0eiaZpKpaqdbipbGMtf7PzmpfICv1jvoAGc4w4LAzmLVKZIMQndAbGIHgo82V8dn+IMO55OdvMRzA5HAEvKyca6zxSLrom9L2M1mlRGP1U9WMqRKo75qe2BCQclmsbhArqoL1Zh9FhY/a7KsxSbRmid7qJa+aaaiXyiokSrNY2zSmOu+nqhHLTPN3ngtYsa2MBTswTicFZISlWGJJcebVIMMFK318UmyUey2iv3mwgaGG6PDuPqYTwGfJ+3ftKlwQX7hAXimOO3evpma+zDSmytyk0qDEaq8480xjF+GwkqyOLNGavWXVEmWTv7ZNGl95r7Lq7rjzCxMv3Zk4tjo/X2a6O+HkY8lnZkWsM5N5uAvvBuO0DahspDea6MI8fJTJMi6bF3EG4cCDZTSZjnPuHJZ41R0Aixa/Hhyz4a7n3/eL+kC8bMOsmE1+0dtGpfhGbb1imbH8I/dXDBOfzxGtzBW9dVj0jxxSXv1c9PoR0T8Oi17Y97OXMm5f8v782M13x34UFLZxVDp/jUb9l727IOa9RYuft1CUExhgwdVPRlriRScfGguaV9wzf+NSzoROjxYCoqEO228x3GYD6G0DKAeoZB0VNNQA1NOMGdhRKTUsc8VyDMAtYsO8D/I81p+YsbFwxgeFbh+euuO90z97/4Tbti+nrfvcY3VcEUA1C1YWmgFGpfPXaLQUoNhBOtYPYKP6aQoYF2elD2hshuViHDTLuFgumDZakiK0Oz4RGMh4GRKGYbgwjYuhaIpmHQyRPCJ8LDgBXCzjhFEqDO0Exg6Mg6VdLIkk9QPbDXQFgCT647uSLgXLSmbK6/3ktVJttZ+Se4eJujZIXfzz5Uk1AA4GuoHuZtlR6/9VcOtmoRfATh7QJxqb86sRcruAxcJNnUgUkwISzhyfYib0etQQEHEeHS48xvWB0xguBlzk9REMYbWdK85vEjA4/y6nYTCiM0Lf3EsiuPQcMhyx3FIJ/cBWcgy/M/lSgLwsSGH1VdT7aqr9FXXeWqtUVRukLp0em1wPhBz9wNpGvtv/V4v9wNoJtiwDxCAfYDh3dVzSC4s/MRy9GW59iFETFqHhcYgAyWkjhYuBc+lsLM1SLnCSt8xwqnIguQq1/BBdP9IXyzU90D43qNDc0FMFII3eOldW4qus9FU1ipVWf7U5SG7x0tb5KWuDVaVusbIGbkigiG9hzH1QOWPMEhmO82/MeCHBy2/Izyn1MXcFQofGNAIDDEc5Qoa7WMYFJOOCyBamw2AODCrr0bochrAbe0UczpxNYQO2GkASs3W2rMJHXS1Rt/ooG/3V5lnJFm9NrZ+ydqay3G25ool7KxR3xmj1/hrt8lzm6DwY+MbEBN7fxg3DAsOvAaPw05UREHEJbZwKGeTP4MSPpL2ghA0eQ+jO/ToK39wklcxOidXKDljpvcCYWcLwWfIKL3Wtj7rNS9XsSxhexzG8LlhZOcBwMqslvurR6v/V2iW9YgeT0HHo4u7UILcHPOocwzlz68r3UdgrIHBlBESDazCSnwdn1AwNDNqHRL4YimUoMi1nGYblctgxk31kv7nUTe4ZGY7hNJBgXh/n2JdGb50nN4mVtRJVh5eqWaKuCZLXcgy3BCvN05eprOTiHMRXyLmqSBr+mCmc6/w71OWCl4NxMqQ4uQ/cgHvl2yjsFRC4CgIiznYdsA+5Y8jsmwXy5AN6dwcZTnHWOz8KjPQGsV45WnK9Ij1Fd7oZaN/oLQuSTb6KWl9lh4+yWayp8lNUe2vq/BRNQcr6abFaCzncwXDBpsFRbKT7f7V2iXJmWIbhkoW5QZbkDZOdA950zvdJsokpXIf1KjdS2C0gcEUERJzcE0oPKnMSLWPBRQ8yHO1DBmgX5/UdarGP6DZNSEA+GDOiiXPZzjBmcPlHfXRXsilAXuuv6PBRNnprTRJVpbemTqpoCVBa74jV1xHmOCjuoka0z7wb45obLEuuheLGLzIQsDQJShLrnRjwyHAXR2/HFe+hsFNA4OoI8G9EuPohY+YXVIPcyEMoS3OBejML0mXvz5aZJAqrr7perKyVqkmcTKy2+CktAWrTHbFyYqUTNUkLOWFj5mYKHRkhBASGjxDQQjMCAqOCgMDwUYFdaFRAYIQQEBg+QkALzQgIjAoCAsNHBXahUQGBEUJAYPgIAS00IyAwKggIDB8V2IVGBQRGCAGB4SMEtNCMgMCoIPAjZniDn7IuQF1+R2wyFw8nGatCPHxUhExodBQREBg+iuALTQsIDDsCAsOHHWKhAQGBUURAYPgogi80LSAw7AgIDB92iIUGBARGEQGB4aMIvtC0gMCwIyAwfNghFhoQEBhFBASGjyL4QtMCAsOOgMDwYYdYaEBAYBQREBg+iuALTQsIDDsCAsOHHWKhAQGBUURAYPgogi80LSAw7AgIDB92iIUGBARGEQGB4aMIvtC0gMCwIyAwfNghFhoQEBhFBASGjyL4QtMCAsOOwLhjOPfGH/I6FmG99GEXDqGBHwECAsN/BDdRuAQBgasiIDD8qtAIPwgI/AgQEBj+I7iJwiUICFwVAYHhV4VG+EFA4EeAgMDwH8FNFC5BQOCqCAgMvyo0wg8CAj8CBASG/whuonAJAgJXRWAMMtwOrJNlWYYFhgUKsNDAUgAuYO3A9gPrAHAxQDsAGlhqZuTHC5PKg5Jrg+RtEoVVqq7wl5dJ1LUSpdlfQ94f3gQALhcwDoYFYGhghxSGBpoGhhlsiKWAZoBmWS7gTl8VOOEHAYFxgcAYZLgLgGJZmoEBkrtYxsUy3B6aARcLTjzADnAZoI5h/aO2LkiulCjqpcoOL1WjWGvyVVZKVXW+inp/deW0FUrCcIahgXKSe0JyZlhgGI7J+Cf5mSVpNLiTYzhNjhIYPi6kWOjk1REYcwxnATj6uRiipYmiplmGZgkDKaLHGY55hHo2gB6AKhbE0duCFSZ3Tb2HtstN2+KpN0tVtRJVg6/cGqCqvmO5irzzBBgHuOykclJozh5wkQpJYYBlWZofRLBdlsWmrg6e8IuAwJhHYMwxnCJalWXAyYKdhX4WnESvssByOpbm+E84CuSIPo7h3jFbgpQVblrzDH3bNG2jt87sp6z11likyoYgVfX05QrCcMblAoeLZYBjOBLbCcQ6wAKsC1gXOzCsDAwujKDEx7wECx28NgJjjuGEZCzDMbwfGc7Nx4FTtNz8GWfONM0wjIOlq4GWLPtopqrYU1vhqWt019SLtaYAudldVytR1s5UmtyXJTeRd5Y5gbGRKTc3OnCDCFHdnPZmyaybdZL5v8Dwa8uL8Ot4Q2AsMpwmE3AXgB2IGnfRnFHNT5g5O50hE2eWdgFbDbQ05sN5iktiTalUXe+jqpWqTYEys5u+RqI0z1aWey2TNRPF7eIMc3J/0FDH72/+Bs7Dx80L+Nm4oMPHmzwL/f0uAmOO4QMOsEF3N8P50B2cR90BQHzoA2Y2mYdfBrYCGHHM5nmyi37K8gClVaKo91WbA+UWD12tv6JunqzSI0Zh4cjdD4ydc9M5gTjriL+O87kNkJyMJk6cgQ/R7YKr7bsSI/w9vhAYcwwfDJAxnMOb+LudAP3AdrJsB0AH513rZeEyA+3ANAJVCuAds2WerCRQXhGkaPRTNEg1dQGKZh+tNUjWMC+pakaUysSd2ARMKwu9wGDpYxkbsA7OvcaQp1GR4ZwPf9B6J30QPgIC4xmBMchwhgbod6Kf2+Fk2EaAF+SH3zhw9q1j9as/q//noYZ3Pq94Y8+5fxw1LT9mWXEGRMtVQfLyIK3VT90klVmCNU1+8lqpvC5Q1+qvqBPFqJ8/3vfqQesr+6pfPdr0zy/aXjpQ99oXTSv21Lx+pHlF8ufdAEBdxni4i+ViaCRcRmYB3GRhPN9eoe8/eQTGHMMpyklCWSw4HX1A9Xf39R4ttd6/5J/z3zYGvJUdvOmY5I3d89fnLHgvx2dtjs+WQp8NR2996+B8Y5NYWe+lqPdR1IlVZonWLJXX+GkbZ6W23r4hL3jTF7PfyQp8K332pv2Sdz6Xrj04e1Pe7HX771uXPXvxm59fquUsdi5sNshwPn72k5cQAYDxjcCYYzhQJDbmZFgnZQNwUMB0AmjzLnq/ZHhAbgpOqJ6nbZwtq5irrAhU105Lrg2KN83RNUoU9W5JVWK1RaK3eqir3HSVUlXt9IRyL3V9oMbit+vi3WrTbHlZkLIiQG6erW2cq6y7a8fphW+o4wsq2rnp/eAMfMBKJ+51lubce+P7Bgu9/4kjMPYYzgBFEUOdApeDsXX2d/ay0OiASN3puzbumyerFCut7snVUk2dn6ZWqqkL1tYH6Oo9FVUBKY2+2novZbWXtsZNX+Onb/DSWLz0DT5aq0Rd66ep9VSYPPVmP029e1zpfFX1zLdTXzEebgew0zYXYxuMkw2mrBK5wBWjfuISIlz++EZgzDHc1e+kKOLgcgFFgYsrJG5WA/CHzalzt+TPiDd56Tukxmaf5JJ5+krP5EsesktSfZW/ocZXWekjr/bVWb00lhlKq5e+yUvf4KGslWjqfbX13upyaWqNRFU5W1vt+U7un+L2NgB0XG4DkjhjY0kGjQsz20h4nHwEho9v4RZ6DwBjjuF4V1iWtTnsLpriEkcZJ2XrAfjSBsH/VPntvOgms4r1rX46izjh0pxUi6+uykdT7pZ0IUhXG6Cq85VbpapmT22rh8rinlwtUVm8k82zDE0B2krPpDMBisqZn56e87r6WA+0k0g7SYftsfdzOW0kcZWzz7kcGPTmC2IiIDCeERhzDCdzX4bhHjwhuHIPmTlZ1kaDy0LBvhZwW/Zp0LaTwap6L5nZV9fonWzxUdV7qGu8dFVBqRbvRJM4sTZY3eGpbJCoLP6qutn6VnFCfYCycaa6LlBROvvTMx6xcTn1VDsXD7c57BQXG2dp0ihJRSdONtIuPqAynm+u0HcBgbGnw+3EOGaBooHiMk1JIjkFTB9AjwtcDSzEFdXM+af8rl1fBqjq3BWNElm3RNszTWnxMlo9VTViRc1sfatvokWqtARpLMFKc0By3Wx1lySx0U9eP0tt9n5BEX+xu43Y4E6g+klmOvGoUYMpNuTRUo7k3LMoJClG+AgIjGMERNRA2jcmfpOoMENmvzRRYUSTsQz3IQ9+sJjTPbxXi0lkRIdzEWrCPi5r1c70OsHVD2ABWLvn2D0bjNK4czM0bX6aVveEijkpLb7a+jsSqiS6dh9Fi1jW7KXsCNS1S5NrfBX1QZq2YEX9rB1n/Nalb87e18IlxNJcchzq8D7GNbxXdY3a8Qm2wWXgB55tJeON8xvXwJBM22vUJPwkIPCvCIgwc5N79IIefLiKHspwfl7KWa//WsMN3sNFqLjhBHNQuNw2TsnaWaBstKPZ4TADPJ3wWfAHh+fomnwUFn+t1V9t9paZglKavBS1ftpmqbJBkmiZpW7yV9aKk83S5NpZ8SX3x+X9NnFfA8l1hcv9LtbJ2QoURbOMiyKmwuh8uGfaOMsBB1FyF/BGfOP5Exg+Ovfmx9CqCBnFMBTLFYahGCJunJeJe2ZzkOEkjHSNJzEGD/uh/w8+rc2JO0NGHlzphaHIMi8sCZJT3QDFLNy/1jhz4+FgXaOvwixVVPkoKgINdT7KKom6xldbH5hcNd/Q6CuvCdRY52vqgt//bOEbcV8CdNHQ7aDw6ROWoRjaRWq+OsF/6PX8n+cTHz7nxidpPlicJOWHe159MCaPC95wq1T8GKROuIaRQ0CEq50QSeLMRVw+acDLxDGc6wsusUKemr66xKIj+od+Dy7JMODWxidPyGwYF2ByXAbG5nD1NzLweRsseH6X99az/skVQVx43EtRLtGYfNSVPjrzTL3ZK7HER14ZpKr233x89osJx7rYRqCdDDichOEU5ey393FPnZNpAM+oEd7gMm3IQhdYcEDjkvN5IRiw4Fmgvr2fP0DYEBC4KgIilDAu9jtw0Df64pvHLhicn3OLKPGq5lsbg9Hjb00ov8dO7uFwspoSKnHymBen2jiGs5TtMtg7AWx9LGOmwHihSfJm5uztp2arSCqLj9rsqa6SGOvdtGZ3dYVYXxNkNPtvL/JZlZBqcrQx0NffjdfkdNqdlMMJlIN10dxD41cj9ve4hOs65Ru0iQsfbYtvvgfvG8F/sAzuE/4XEPg3ECAMH5TIbw7HKTeSAUWfM9uJDuFMSjQsv/U9WMkPZThZsIk82kWjyiKajcsVBwC73c4yTs6v3md39vUDtAC8/UXFzFfV83ad95PXeivrJJp6b129m7beQ1/nZ6wJTDo1/73UD49WNtDQZyf2SndfL80yFOVkgSE+epfDRROVPvoM5xyZVyI5DymS/JvbJGwJCPyfCIjQncOvi4AhaCLuOBMfnA1eec/QX2/YNufB5549GXQ1EcZTdgd53yhN04yDrNZCbG1Hv4tpBFihOnjPR0eC4k0+STV+GouXosZbUyfWNQTILvqvNS7Tfd5BHlYjq7tQrsFlmcjknrjpBxhFc0+S3bBLuI6pyoAOv5IC5/qGc2+e5Fd3GPyft1o44CeJgIgoZy6/BCeCXISMc11fleGYEPKv31efoV/PLxgu4gxzzkYg3gHOPqBo1kUc3ySh1dnPOC5zPmfKRffUAjz8/u7gTy8FKxskSdV+ylqJulaaXOv3Uf4vPjBaAHrsvWQBZobto7jlHJ00IToNtMNJuyiWZhj6Gv6F6+n99zyWc3cO2OF4tWQ5Sr582z76ScqpcNHfFwHRAKOI+hpMxya7iOlOk5Axw7BO9LRz3uxvC9tQ1XKDtjmXH4OOffI9GBgnzjAuRs4tz8KQeB4hv4sGpt3luuiAwFUfzdxWFJhsnZPcfOeu+uAtX9z1euLZPrbT5aIZoqxJeIzo6it/BsaRG3QV11EbC9wAy3ALuTO2y73kXC7RBlMSBl2P3FKU5DfhIyBwHQiIWGZgnXAK6IHYOIoYSQJx2e1d5BFO2k5ywEhyDEnkHtbCCTTNPXDipAaWVeJCR0TsWQd5JQJtJ+9CIA+lEN8ycZo5OgGy6l2eKxLmbjs9b9v5e7ad9VqxI7WBaQHopUkg3QmMnaFsVP+wdv57VM5Ni8i46ey3Dc4ZOEfEwIru36z3zIUqBYZfh3ALh5InTwbXIXe5gCxsiIlkhDkOInYU5aQYB1mc3EmC5DZu53UoqOtXidzqp2gpsGQwoelBpxsX0+JSSokvDtdn5L4ZB9vZDw0AO093zn1J+Xv5Wd8XVcnHW5oY6O/nggA2u9NJpt19TnyShbd/h24Mu3lyRdycYKOJ/5Kk33BjKNvf141LYHAPtBI3IJ8jwIXHBbkVELgOBESc8UfeJcKpTe41I2SKTVxSfX2XKeiwQYPVWd4Gll5o74VOGzQMa7kMTb3Q1EdasdgHSp0d6vhG+8ivTbbB0g1tPdDYA43t0F0BjpWpujkvrVn9xcF6cHZADwVNLJgdTHU/NLWRY5rtYL1i4esf4Y0m+kIXW01BD7cgHbgcTpIx7+jl141DXyC3YjwuSnEdd1c4VEBARHxOfBb0QI40UZ4OV5cT6h55ZtpvV93x+1fd/2PNz365cuoD0aIH19wyrOXe529dtObW+9fc+sDqmx8kZeoDa0h5cM3PsDyw+tYHVt/K/7nohTseXPOzXz//s4eWTV4Ue9v/e2vmgteDZ74WPHfNz+97ZdpDa256cIXo16/c/MDzN9+15uaFr0x/8Pmbr1yG+bquBtpjK91+G+X3eMg9fdDa20/WjOu73MuZE/0cyalv4mfkkTdh7VeBs9eHgIg4dcjL+sji5MQ7jR5cmnVBXxcUP/mie7Q84DmZ+/KM4KgU3xWZ/mFpgcNaQjL8l6aTJsJTgyNSgsNTyfbSdP+lacFhqcFhKQHhRlLCUgK4/YH/m+q/OCMwKiNoeUbgsjT/yPTgP6kkf9AELNkz++lUydN6z6hsv9AUn/AMv5D0wJDM2WFp/lcpw3tdVwNtpWF29K67nlw5uxssLrJ6Fbl/NlsfcO974dIQyPScm66Tx1Gu7/YKR//kESAMJ2kkZC1h8voBPkbjpKGVrfzdi94xujlLDX5L0wOfNYiXGD3DjL7DWsJTxJFGaYzBb5k+IEYfFGUY5LPBP8LgH6n3jdJJo3TSSIMkwiAJM0rCsgOeMXgtSZX8Tf7z5Zl+IXqPyKyA6D3znlZOi8kNjskNjkyThus8V2T6L1a6h5FKyIn/Wob1oq5ReUSa5zLdgocj3VugspfpIxm1xPHvYtk+js+E8hzDGe6VrLafvMQKAFwfAiKGPLzlpMHGgJ3LYB0IJtEAvWB+KHLyyrQ5iw2eEXtmP5cqDssSh6R7DWsJTXcLS/MIT/WKTBGHp4jDUsUh6eLnMsQhGZKlGeKwNJ/wVK/wVI+wNI+lme4hWe7RxunLMn1CjR4xWeLIVLeIlOlhqTMWG6dHZfmEZ0v+qp0WmukTmeW5RH/7slzpkjTv0HSvK5ZhvahrVP5Mys9X5tz3QIx7I1T1g53MmYgp7mBZG2rsbzO87/pur3D0Tx4BkvFCgt4DTz4Qeg+ocaD6wPLQ6ttDMvwjDL4RqZKQjBnRKeKwNC+h3EAEQjI8IrXzfhMr6YIqJ91Dbgensgem39x4i1I6SPWfvMwKAFwPAgLDR3nAEhh+PeIqHHvdCAgMFxh+3UIjnDCOEBAYLjB8HImr0NXrRkBguMDw6xYa4YRxhIDAcIHh40hcha5eNwICwwWGX7fQCCeMIwQEhgsMH0fiKnT1uhEQGD52GY7r1fNP7f844uF4OWRtPOBW7KHJwgS82LpcZOF6l4tbPA+AoijytA13DC7dzx8JAA6HA//s7e3la8M9WA/WjDUwDHnwFivEVwAMPRL7g5XgN8uyWAlZVojrLXkVz5CuDu3JWN4WGC4wfETlk3/HBjJ5KM2QhADgdDop7jO0Z/irzUbydpGoZM0ChvnOkU4nSd3ndzIMw1PU6XRiJfxOnsNDu4HbeCQOIvyIM7Q/42VbYLjA8JGWVYfD0dPTc+TIkZMnTxYVFR08eLChoSEhIcFutzscjoyMjObmZoZhkKtr164tLCzknsYZyMlnWXbDhg3Lli3r7e11uVwOh0OhUDQ3Nzc1NSUkJACAXq/v7OzMzc11cB8AOHHixJQpUyZPniwSiQoLCwsKCkQi0c033zx16tS8vDwcaxiGcblcFEWeC8jPzz9x4gT2gdfb/Egx0nj9sPYEhgsM/2ESdP1no9Gbnp6elZV18uTJffv2HT16tKqqCmvKzs4+d+4cTdN1dXV33XWXiPssWrQoOTn5pptuwj/z8/NR1QPA5cuXExMTAUCpVLa0tCQnJ+/cufPs2bOVlZXZ2dmVlZUAcOTIkcOHD7tcLqTuyZMnjx8/zrLs4cOHT58+bbPZeCsdjf+ioqLPP/8c+2O3kwWO0F7AjfH1LTBcYPhISyzDMB0dHb/97W9vv/32CRMmIGk3b9786KOPikQi1LRfffUVGtv8fBtVuslk2r9/P9KbpmmTyXTvvfeKRKK/cJ9bbrmloKAgOTk5JCRkypQpBoOBoiiGYY4fPz5x4sSbb755ypQpR44cKSwsFIlEN91004QJE44dO4bX73A4KIpyOBwsy6rV6qysLJx4D53G8/p8pCH7Ae0JDBcY/gPE5/pPRTOYpumOjo4DBw44HI7u7u6kpCRUkjRNf/7557W1td3d3TRNR0ZGikSiiRMnvvzyy9HR0fxwMGnSpAkTJhQWFtI03dPTo1QqXS7XMe6TkJDwwQcf1NTU7NixY9++fbxpgDN2hmG2bdt26dIlANi4caNarcYr6Ov71kN7GzZsePPNN8lL7LlpPx5D0zTO26//okfzDIHhAsNHWv6QvQAQHx/f3d2dk5PT3t7e2dmZnJxM07TBYEAGooccRwR+XKitrd2/fz86wFDflpWVLViwIDc399FHH73pppuioqJ27Njx4YcfTp48+YUXXsjNzT179uzChQsnTJgwadKkiRMnikSi2267DQ2HiRMnzp07t7a2lqZp8r4NlnU6nZcvX05ISNi6dWs/WeWPuP1QdfOu+5HG64e1JzBcYPgPk6DrPBtnvC0tLf/93/+NNJs6deqECRMKCgqysrLMZvPu3bsrKioYZp2K9QAAIABJREFUhrHZbDExMWhOr1u3DvVnSUlJZmYmH9ZyuVwGgyEmJmbr1q2dnZ14TG5ubnl5+SeffGIymYb2rr+//7333mvjPsuXL+/u7kbqulxktXx+UlBUVKTT6QoLC48cOYKn46/4PbTCcbE97AwPzZhGVnTgVm6JTPGJTPUI50pYhntYhueSNO+QdJ+wLHFYhndoiiQsJWBxxvSlaZ4RqZLQVO/QjBlLs6aHpE4PS/OJSQmKyPB6JnXq3zNuC0n3WZriH5UZsDTNc0nu7YvTpkdmBoUY/Zak+YTnipekT4/IdF+c7fZcmkdopnRphnhJ5oxnUm8Jz/EMS/OKyfCISJkeor0tMm1a7F6fxcbpS9L9njYEhuZ4LE71WGoUL9X7RGf6RmX5LEmZFpLlfgMfBb9iVdd4evRHGQ9HVvDhrtzc3OLiYtxZXFy8devW3bt3l5SUIN/4ELTD4SgqKpo4cSJvqKekpCAzP/74423btlmt1t/97ndTpkwRiUSTJk3iVbRWq+UWwGKPHz++aNEirJll2dbW1qeeekqtViNvef38tVm+du3anp6ejo6O8PDw1tZW7BsfHh8XrB7ayRFg+IwrMdwrJNUtPNMnLEu6ONXj78ZpS9PcIzOlkRn+SzM9w9O9o9N8ojMlIaluIake0dl+Uem+y9NmRqSJwzM9lqZPj86WLs8ODjH4LE31WZI+PTzDLcRwR1iKd2iq3+IUaXi6eKnxjiXpM5amuUdnSv6uuT1yt8/STPelaZ6hBu8lummxuf4RRs9Qo1uokdQfmuEXmTtvSea08EyPZdn+UamSCL1XuMFjsX4G6eEwr3jxU2M4OswYhomJieGpeO+991ZXV9vtdoZhdu/ejZx3Op2xsbETJkyYPHmy0WjMy8srLCzEmHZvb+9nn30GACaT6dixYzt27KBpuqSk5PTp0xjrOn78+KVLl0pKShiGKS0tXbBgwc0334xuvJMnTx47dgxHismTJ0+cOBGdbX19fTabLSsrS6FQ4Nhx/PjxjIwMdL/xPB9KnnGxPTIM9wrnlmSKTCELMHHFKzSN8DM0zSckwyMkbVpY+rSIdPcQvdvSFK+YLPFS3e1LjdOis/1CUsSLdV5L1G4has+/q2dEZEiiM33CDNMiUtzD08VLUiXhab7R6R7LM2fEZvtEpAUt1QdGpPquzBZHZUkiUz1i0jxiMryXpnhEZvmGGLyWk5UkfZYYPJboPSPSpUtTvEKMnuEZ0mf07iGZt4VmTAvR3h6TKlmR5hed4huZ5heW7isw/MbKMW/rokW9d+9es9nMR78BICsrq6KiwuFw9PX1KRSK7u7u4uLinJycCxcuHDx4EI38hoaGAwcOuFwunCTLZLLu7u6jR48+9thjDz30UF1d3eOPP/7uu+92dHSg0i4oKMC495EjRwoKCk6cOHHo0CGGYQoLC/Pz83HQAYDKysqPPvoI34GJ3XvzzTeLiorGb6iMvBFhuFdxCk13C033Cksli66RJdbS3LhV1rwi0qWLDd4hKd6R2T7hWTNC028PT58WkTJjqdE7MsM9Mv1noam3haR6LE6RRqT7rcoNWr47MCrb7znd9NCUaRHG28INPyPrrqVLQ1TSCL14WYp3qM4txEh4G2b0Wap2C9FKw7Te4WoPsj6s0SfE4PV3zfTIdK/I3IDFqd7h2b6haT7hGdLFBo/oXElYpltYzh1hmXcsy/RaliIOU3lHpQQu1vosSRN0+I0lOKkNPVhI9ZycnDVr1kyePPm9995DHZ6bm1tZWelwOOx2e0RExK233ioSiXQ6XX5+/pQpU9BVNnHiRL1ejz3r6ur69NNP29raPvnkEzS233rrralTp+r1+nPnzlVXV2MYXCQSTZ06VSQS5efnnzlzBrU3/onutIsXL7700kutra3Ibay8t7d3+fLlJ06cQFOfz7q78aAMW40jwHCP0DSfQYZ7hKeRhRaJYkyVkpIuCU33WJr689DU26LT3VdkSaIzAp5T3RadMSMq231xmltEjn94mm+I2vNvitsjMnzCMz0iMqavzPGISp2xWO8emhEQoQ18Mfv+cMWsZamzwlM9nlHftGZ3YKwxKCZ9/qqMe6NVc5ck+EUagiLTpLG5/s9ppj2jI5p/aar3YoPHspzAZTmBoUa3xfpbFxunhxrdolMky3RB4fLg1dn3RmYGLU4nU/dhLT81Kx2Jff78+XvuuQdny3q9Hplz5swZjGx3dHSgVk9OTu7o6Ghubs7MzPxaRWOiCwC0tbXt3bsXlW1/f79Go/nwww9NJlNHR8cf//jHgwcPOp3Od999NzQ0FHPaC7kPRVFFRUV5eXlHjx4tLCxEHY7s/dq9/9Zbb2GFvMutu5ssX+90Ol9++eXq6mok+bAxcbgqHnaGh6QTg5wwPNWH2OdpbmFkNVWv0BRJVGZAaIrPc7o7ItLdlmV6RRq8Q5Ueyw3zVhoXrDDODtdKQlN8wlL8QjWBq1MWrU6/c4nKIzrTJ9zoFq72Wp22IEY3J8Y47/n0e5IvxZwDVcLFiGVp/s/nSkMS3VYpFoSpg2OUD6aYNlTC3h1nl4QqpNG6wFjj3DWZDy+W+y/V+KzImLlYJo7Wzl6un7nC6Lci/a5I5ayopLkm0J2iEsJldy/RSdE5JzD8Bkrf0Gkt799CtYnWMvLKZrNRFMXv5217pB/ux2wWzEjBzDPegce7x1mWxXrQVYb1YGycf1iFf6aF1952u51vmif80Nj4DQRkuKsaGYaTRZG5hZA9wtJnDDLcJyrTL8TgtcTgtjxHGpMujVBLY43zVyU9/KLisZi4X6zWPLw69a5lullrtA/F7HxkdeLDqzV3xhr9YlNmLVfdFxv/q9VJv14tezA6ae4rut+8pP7tSvkjUUkLopNm/0P1wD8Tf7lCPyts+8MHqlKq4eynR1b90/j//mn8j6gdD69JemxZ/L2vpT30kv6eVfJFq5IefknxyMuKB2ITHnlJ/thr8j+YqL35zZo1yv9akTIvPPOOYaV3WJrXT02Ho0AjOVFDIs95/uBMm2cdr1d5QvIPnPAxM+QtebU8w+AUAOPnmGfOZ6TyQwbWwI8a2AF8HIV/HgbzW3BpcewzHxgfbk7e2PpHgOE+oWmDDCcKnDCcrFie6h2ZKQ1LFUdkSGKy/BYr3JYb5sR99Vw9HKiDvAY4fcGVvkp1f0zyvBIwWKDQCgcrQB6ZJFmlX3gRsixwuh6OVTEZLykfziz7hwmMyqIX447GVkJmE+xthKzTsDbh2Est0GBlaq1wQlW0Zn/Vh01w1gLHmuDA4fq1L+y673jjVjPsscABK+xpgvw9X2291JbbDWVW9tyXvYbVujuXam8WGH5jBQ4NclS2PPf4+S3yHP/EJz2Qh6iKsSd4DH8upqMNZS9PXf4p0aHpaPgr/xMSmw+GYbVo2/O9wj9vLA4jVtsIMJy80oAY6gNeKw/O9+YWmekdmUliV+Hp3hHp0mVp89btf6oSMk/2xr+h+n3OuU8scHZv+Y5DdQkmOLxj/6qtB1ZehAx16RufN8db4eS27DU7DkYUQ0J27avZlW8UsxmGc9tOdHx2jt67Wr5QfvbRC6BSnnp1T7GyAc4n5S/LKH2pDvYeqPj4H/JHTvbEVcGBXXvXHC8xNjrPHG/5eMuRiBZXqanvy1eTF5dDzpkeXWz8/cuNQUtTJQLDR0wWhYaGA4FRYHhYGiH5c7o7IjO9I9Ldl6a4RWX6Revnv2R4NOaT/1iteGz5zl/L8jZY4YKxeN1nzTuq4fiH+1a8uOvPr+n/FJP08D7Lh7VwcEvG8pfiH1+d/PCqxEcM59c1w7mEIxsL2rMq4MBrqidfTvjlC9pHVib8KuP8tlo4Zvhqzcuqh15MfGzVtl+/vOvRIw27auBo/N6Xvqzd0wZfKYqWRe56qLjtmJm9GLXl8WJIuwRpz2sfWqr1WJIt+NKHQ+qEOkcOgRFgOAl6czqcd0p7hKZ7LDZOj8zyjM7yjMr0eFrx8xjt/DXKx45aFe1wpAWOOKCqhTqz78Lbr+z4f8VdGS2Q3whfnukxPC//5T/Uv7nQrWkmxvbxs5f1Lyv/I6d4czWdn3j4rRcTflsFKY1w0Eof/8yauHrHU/svaS3wVcIXL7yw679LbMfaoKwDztVCvhXOxe95raA0o4k5F3dk6Rr1o+dbDlfSX74g+/NJp6KoPzlGcc8Sg8dz2YIvfeRkUWhpOBAYIYajrRueypPcKyJLHJIyLcR4WwwJfXlHqecmFj1vhmMn6gxv7Fiqyt3eBiWfmd57Nfk/n9/yh9c+DUvI+qAe8g9ZP1i1fdEbO598+5O/x6W/UQ+njjZuyTn/URN8mXX6k3/EPfniJ4++vv2vuXnxtXD8YEXc/nNJFuqUPv/tY2ZlK1TqP9/5z4+iimr31zPFn6a/eq72s1a48OHuv72gfbyss6DMdnpN/J8vssazNl2s7IGV2XOfTRF0+HBInVDnyCEwIgxPJ8Tms9nIhDxVvCTNOzzdkzA8c/qKHOJF//RETDl8frI265XNi6s7zzbDhT0la0uc6jrIf3lLiGz3VjPkpV96o5RSNMKBt7Y+pz7wQZWjKOvixwdK4pvgfMLujXX0ha9av3hze2TqZ1vM7HHd0bf2ntp+GS4Z89YeKpZ3Qp1h386E1I2tUFHPfLUz5x+FVZm1joKEY+ERcQ8Xtx6upc8+v/N/KiHzbI82evuiWO38yJR5wjx85IRRaGkYEBh2hhMTnTB84IETktZG3igqXZzqHUOyWdyiM2Ys0f88Que3UvvgBdA3snldcLysPbcJjp5s//jTz541Ofc0Q149nDjVr3he84tN+/5gJr70Lyxw9LwjbU3Sf6YWv1ENmfoz6xOObKiAAu6nrLxm9Qu7Hks99W49HLXC4c/LZRY43wxnW+DUF/UyExxIvfDa0bo4Cxz64IvfL9c+dKbVUA/HIz954JRteyPsLwVVWJJ/uGGOwPBhkDqhypFDYPgZzilwwnAuX3WA4Sl+YZmBS43eoUa3yAz3sNTpzyjvWJl6Z3ji/IikB15IfTBWe1+Y8q4w/ewQ7bzF8ntXpj0co7x7ZcadS/WSUJXfK2m/XJF0/zL5gkhNwMqMO1enzwxXuccaZsXoF0Vp7lttvGeZQhplnB2qmL7GODNGPmulYW6M+v+39x7wcRRn//i6qUsnnXovbpjiUN6QUBMS3kDI7w3pAWNb1XLBNGMILRSH3hIwGGPJ0pW9frKNMeCYAAnVgMHgGNsgF3BRu95v6/PPzNythTgTn/8WsuS5z/PZm9vbnZl99vnO88wzz8yc0dw283r21Os6zlpsOHOh8Yy57YWLOk9bpDmzxVw8x1J3nfachpWn3bT2zAXG2tb2UxfrT2uxlDegOPbDPYvhSJ+c4+HfnYCf9CV9NwjH8Lbm46mjpY3migZz1Rxr1Rwjmqc5f13JLEPGog3VTWxFq27aAuP0Jl3OQmtJs7msyV7cZK+dra9tMpW0vlBypZZpeEXdsK706s7yecYp175YfZWVmWUqnWvOn/dC/jXmLLTB+Nq6q/SFC7qqfmtWNb+c07w2r95SMtdaNMdaNddc3dSFNkiepc9qXFPQtDa9xVzcbCxveiHt93ZVs7m00V51lTmzwZ7VYqqoZ4vmdOVctVY9HKgenCdF+EmPweFlwLAjfLA00/Q3OUARPrwCftLnThE+vEb4NyE95AxF+EmPweFlAEU4RfjwShjNfWQ5QBFOET6yEkhLH14OUIRThA+vhNHcR5YDFOEU4SMrgbT04eUARThF+PBKGM19ZDlAEU4RPrISSEsfXg58C8KlIBz4wXWZc+yVTcbyJmvZHLt6nnnY50sPGUwa8z+/ZbQMbRiOP0QExsb+4cMrzjT3b3CAIvzE1eEU4d8QV3oiaQ5QhFOEJy009IZRxAGKcIrwUSSutKpJc4AinCI8aaGhN4wiDlCEU4SPInGlVU2aAxThFOFJCw29YRRxgCKcInwUiSutatIcYAAPs8oAIiZZFkHiQeJA5kPQ+4MbmDldJU2monm2rEZb7kJzXr21LClqMZW1mItbzPnNFnWjVV1vK5xtL51lL5tji6/uhFaGyG8xF7aailtNaA/DhJRUoehiW3FCim26gnZlKCQXzLGVoj3M8a4sePi9EK85VYy2YTKX1Vuq6q0VeC2q2Plmc2mLqQwtO4c2VK1CW6NbClvM+S2m0lZDzZEG8BNWBp20VjTrvvejBRVO2MNLQQABICKBT5ZF9C5AwoTe66Ch8aRfM73hpOUARjggmMcRLgMBuSyG5P5zb0i5xl7dYKpssRbVW8sWGCvRnkTJEN6urLTZXIwXeEF7EmJEoT0SyDYJ8QtKm82I0GJPiSipQsnGSYnBplQeLduOWwFSkxjClcVV8RYOFtKcoZOxWqHdkRH46+25sS0WbfmNtpxGW1azRY23Ty7GFww9Jq4M5kaz/rSLMcKjUhg3uKIshwnC4yCPhb4ou3mctPJKHzxZDjAg8wCSDJKIcY7uR78QBWTXuddnzrJPqzdOa7RWzrZObjFNSQi/bzmJdiZES7VhJRnXk/iMchJvQhr/61uySu4vhMMEhMGPtHEMn9YYyPGWLAq8DyOf1B9ZGRZ1i0XdbEF7p86xF862F86xodYK2QJ2dYMtlzQrCQv9lpNz7PlN7CkXLSp1QHdEjiCES6iNRa8Bq3ES1jY4uC3Zd0yvP5k5wABEAHgZhMNBkdgwlGUIyO5zr8+eZTul3jitwVY+y1bVZKmOI4HsUvTfj7O78jEYlN3LiDJUI6PdUtiA9GfFHGvFHFsZAowdbUWckJItN45hBcyxxOA12xPpVbRbQ5wQzmfbCxtsCN7zTYiaLWq0YUtX4SxbzSxbzWxb1Rxiw6Nq4/2bDt+u5IMSR6rPnK6cJkPdRdfm98OuiIx1uBhDOAb5YYCfzGJKn/2YORBDOCCES/KgbOIIz7zGNqXBWNtoz5/Vld9ox5sKHqGLm7CrObtLPbsrP6bu0NZlhY1WdbM1p9ma22hVI31oK51tL51tR1iKX1mMr//aMWHm33oyn2yQNuSIOs9on+OhFOsFYN0eRzjKYY4dgbPFnD/fhKjFjDrws+2FV9trZtlRwzS4PcKNVP4cewIaUo3DP+05zYbai67N64cdIfCjVxDT4ehlHMa3jJU76pbTD+VAEhxgQOawd+ewR4d4d2TUD3ehmSe2Kc2G2hZb3uyu3BZbdr1dnRxhhxaxdWMLpyPXGjJ3G60ILdjiRWAmcJ1jVyek5Aq1I5deQsK+sapGc0WjuaLZXHaYYh1s1MfG9gKpD+qrN1iLm83FrabSVlNpiwk1DfXWstn24jn2/Hp7LuqEW9V4X3R1gz1njh090TfpSDq82VLYqjvlRwuLHbCLIByhWhKGwHuQ4y2Jt0svpRxgsEUooe4f+khYmQsystv5kOw477rMBvMprbpp881oA/D55qJvar//csZU02iuarBgdzTegRRdj7zQKMN6bJkjeKOOekWzqea/5PYN3XvE6zGGCZK/djTVNZpqGk01zaYqTBUtpgrk8DdVNCOqIv824Do3WND+xw0W3Bzgf1uM5C7kYG+wFjZbc1ss6lZTcYupDLnZrPlfK2tQHXDmpIivHeezkxd1nH1Ja40T9kTkMJltIsmcor3Je4n3yVEHnX4oB46eAwyyzUkXnBiIyFyPyhCWIRKW+89fnN1oOmO+5owFhsmNpskLDbUthunJUrNxcqOpBoO8DAHDXNOIYYZWTUcjVUiBI3gb61oM01vZxJRsoS3GuoTUaEIP0miqa0Ygr2kxVmGEV6CLDZNbDFObjVMbMTWYJjeY61DzhAg1CuguY12rAVGDcUajqa7FVDHfULVAP3W+fkYrO7XFWEP+PfrjAu3pi9su+knLdCcciEgcRjhIkiDLyESPv0hkYcXVePwc/aYcOAoOMPFrkPYm5jrRHrzIRcF3yTUzf9xQ+b+Lyi5bXHFBY9FPr536o/lVCemS+VWJqbX04vklF12f//2l6affxsy4gznzrvFn3MzMvJn5wd0Tp9/AnH7L+HNuYy68ddIPm/MvXzglYebHcDJxZeZX/XBx2Q8Xl/5wcfH5iArPX1x8wbXFFywq/cn84h+1FP9kQfXlS2ecu7BsZnP+xddPuaC19vuLpvykteLKBcWXtWT87sb0Xy1irliYdcGCqRc0Fl1245SL5pdfMK/0JwuqL24q+8miyRe2HoEJR2LO/KpLGip+Pu+0n11zdhQGePBGBT+ypHhiT8VfTuybvKMhJ+lPyoFv48ARES7xwMl8AFwe2OeCXS74fAB298GBAdibkJywNyG54DMHbP0SXvv+dRmXP1lwyZMZV6xQ/+Kpwp8+lvm/T2VcsaLsF89WXPFExv8sHNcLWwbgs4SZD8BeB+xLilyo2gmp2wXdLvjcBTs9Mfrcg5+uR/7CAXv2Rf7dB91e+Oor/hMXdB+AzwXYCvDKxg3XrFh++uubrhTA7oYPgnDwoLirH750w0E3fOWFfU7EGXRMijywywFfBGEgCG5PqBcgDMCDwGONTRpb5f1RhCusoImj5cAREQ48RMMCD0IUQkHRF5UiPMghCaIQTUicHE1IESng4g64YceFi9SL7WfNtZT+oTN3nm1Kw5rK37HZ11iq681Tm/S1585L9cMBR7QnYebHcDJhZTg5KogRTGFRDMZICItCOAxyBCQJZBkkTo4GOJcgeQB8PuiB6Ie+j/5iv7d2T9fFLz9c6t76ZxDeDYt+HkQfJ4gAPDKuISxEIiAcqdwjnfdKDq/o5RCfo7h/FOJ5L0BY6YcPSojYyDraV0uvoxwAgAQIJ15czusDWXC6+2VkvUuyKKGeIeIZMeaP+igCJ4QPhj798aKiRl1d89ri5rXFcw3F8zZUzlmTN8tafI2hotVQ94uby/u5vceSf5L1kUDGJErAx0mUQAwL+PEEpEHFMG7ZIOh37gbo53YZ1t5Udqh9xsFn1XuezrcuyYe9HQJ3EOlbGQIeCUQQwihwSJSPmi3xavOA2oh+l1dAMUc8L/oAAokQjoJYcYgblVvKgSQ4wMTdOYf74bG7ZQGJFJZaQeBEAQ2q4Q4ij0Bw1CRFZVHmPLD7f2+qaGJrZlmzF7xS+XuN6g9s7jW2nLlrylvXTV1grL2wOSMMAwJShklkfgwX4+BcSUS4EgTgMQkCCGiIiouCKCJ4o5ZGCIYOAfSA959d95y1+9nJfm2BbMyRTAWf/a103X1TBc9rwHcTkEciHIY3JyRfeUnmeD4KgErGoUcRGSIcHySetrgCj8GbIjwJ0aaXYg4ghGOQD0W4yIHXhxQbL8XCWSWQfZGQlOQH0CyW0IDc/eNry5sMdVeZM2dZVAtenNxkL2/oyr/KWFhvqWnSVlyyQMXBAMjikbKPy/r/728cMSajIzZMUIHIOgcZhEgURBRSgpoZKSyKB0HYseGpi7Y8M31AW9zXNs6vYULaCQfbcj96tmLT6itBfI/z7QashAPRYETgeRmOVP8jnQeIhsI+xCUuIkpRUYoQU3wQwim8KViPnQPfhnDAw+IolkpC5qOMRU8ZWTvKRJQLiMA75P0Xza9u0k2fv6HsajYTbzBc0NSlnmurrDfXNWoqL11ccCi4E4/GHx68O8oikrosNlmLNFuD7yQgFyOCFA2EPQAuELe9uebmd5+s7NVXOTVZQWt+yJrnfI6BF6oOdha9+/TUf636P5B3yKIrxKNnBAAujOICkyKODyH9L8qCIOA0inUJhSIY4SSmTZlhRgPajl3QT9o7j4hwkAWeC8rA80IAGcMyL8pSBCk81Gs9euKFsACiQ+q9eN6U+ewZ17DZC9YUt1oqmsx5c82ZTV2V9ebJ882nXNia65YPIBV4hMxjs2GUaTHHmojnzwvAEeKB59EDQiTsBwjK4JOgH8Lbut96wPLIuX2d1QFdfpBVuYxFDn1+SJsd7Mj0avJ7tZWvPTJt28Z7gN8jggsgwIV9IEI8/6NlEeoP8NiCwCNksiyGkddvsEAS84rCezBPaPpoOaB42o72huSvEzgIueGrHy0oa2WnN9jy56IYz8omHPjZYs1vNlTOtVWfd31KEJzydxB3LSNTXBAhChAFjgO/gCZjh0ESQApLEOHEEPAD/h3G9XeXfLk6J6RRuw2ZvZaUXkuam1UFNAUhjTqgVfV05Axoa1+9szT00V8hspsTQyjcDFn/vBgR0JA2MrfRTwBelDmBTL/H7MM9DeLq45LnJ72DciAJDpx8CAdeFiWkYRHkBAEiMiA/GbJZeD4cDgJ4oP+NjpunfLK8xm2sCHfm+fSZTmOK05jm16lCnTGEe23qns78nSvqzHdMAc8mkPfzUpBHPXHUGY/pYBn4YFjkUXG48ZIOWx7YEyBj2z6J10UvpRxIkgMnH8LR+hYYbmh0jJdkDvU8ZOAEHsXvcgEIfLzuvrO2PlniMdQ4NaUhbbZfn+Fj0/z6jJBGFe5UB7R5Pr3qIJviMqt6tEWfPDf5hb+eC9Jmie9Fo+JoKo8QFH28EELGdhRZ4HjuPY81PCmd9DlEPCs/yTdGL6ccSIYDJx3CkRsMRbXIqL8v8DKPxqFlCcKCLKCYl32vrrjykycrI2xRxJDn1uX59Rl+fUZAlxHSZoY12QGtyqdXudnsAXv2AJvmNeT0s6WvP176asdvAPZxPk8EgVqIgD8qeLFLAWcuijJwSL3j9kVx48vYdZ/M+6LXUg4kx4GTDuGxpWxkPCKOVr7AE+oQ0wQQ9mzecN1by6f2tBdGOjMibJpTN8FtSPOxGQFtNlLmumwPm+k0ZDqMmQOWbKcu07M6069V97J1f394xsdr7gSuX5DEEB8UcYAaz6E1WwSJj8hhHqI8cDgeVRJiUTdknDK5F0avphxIigMnJ8Kxxx6Ng5OhLQEZ1/ze3e89+OKjVbs7Cn2GgqAu19U+3m8c7zSmeNjMgDYvoM1D8DamOY0pbkMBSrdKAAAgAElEQVSa05jWtypFMlWEOvL9utJD7Mw1d57qe+9ZEPshMiCJUTS4KKAQORnCIoQF5LEXMck8yBjkxBuQ1PuiF1MOJMeBkw7hciyaTeSwcxtzKwDCIX53u35pSfeqsqC5wK3LcelzAwZVhE1xG1P8umzkP8dOdadposc4PqCfGLVN8GuyAu3FodWFIY1qYLXqi+fq1i4p9O8yAPclhCOyiPsBKJbfzwsBMoomYGwTeJPZ+Mm9Lno15UCSHDgJEY5GwiOoq4wc2ShGne/ngttffHTmx0/WhLTlUV32oVXjPPZij0YlaLN9bAp2sBUENGoPm+E2jg+wDKcdF2AZvzY11FHKacvDHWlh/SS/sXDXU/m2hy6C/rchGAEROdgivAd735CDDQXGYvsce9rJKDcaBKcfyoHh48BJh3Dk20YjVZEogBcghCbLbXtr+W/ff6Tau1rlNqT12/ODxhT/KoazFfbrssKaTB+b4TBmOA3Zfm1euDOPeNc5NjPYOZEzpAY04zlLlqsz1anJ8bCF7z9V89qTP4NAN4QjgagQBiGKhsRxc0KmpeAQNeTsw/p8+F4tzZlyYPDcsuHjxokV8RIRRIGPgiRxCOM8CHu2GBrefmBK0Hx+tE3l12b0Gwr8mpxgW3rIUDLQmevTZ7oNhxEe0uT5dSoPm+Fqn4Sc7e0Zgc7MKJvrWZ3u0+QG2WKXbfI/H6n7yHIt+D8D8Iko3EUKBji0QDJF+PBJGc35CBw46XQ4HqGW+BCH+uPhA1++ev8/ltW6jKd6tJO9K8aHDLm9htKAscSrye/T5nuNKocx02FECPewmX6dyq/N8+hVDmO2Q8eE7OqD7VleQ0nQUODVZaEhNH22Q5/f3VH72tPnbN10J0jdeLI38ufJkqAMksUsdjxOfoT3Qk9TDhwfDpx0CI9EPCJCG4AYPrRljeH2C99+7Oy3H6h4+9GqTx/P//jpmo0PVW1dPvXDv1Z+8LfCbX+d0G/MdhgzPWyGX5cZ0hCE5zkMKochddvfJn7wRMn7f5383mOlm58o/OCZsn/9rfS9h8o3PzPd8sDU9od/uuezF0AMiOgjo/A1mZclLgZ1PKGPrqt4fKSY5nJkDpx0CJckNNM9DBDm3CDsfc9691b7rT3/enTXpof3v3r/zo2PvP/CA3tffWDvprv3bljwwk3Z/cY8N5sd0GWEtRk44iXPp0NqvF9bvnZpzpfrbty78bHPX/rLF6/8ufv1+z/++/17X35g3xsPfv7WQ3bNjQB9KChdJKGsHAqPRSAXEGGEf22CyZFfEv2HcuCYOXDSITzKIS96EGR31CPJTogeAskJ/kMg9EH4IKC9AYMgfAX8Lgi9abup2sEW+XR5KKBNmxHQYUNdpwpoVW5jlWVJMXjeBdEF/ADwBwEGJMENEb/o3Q+R/SA4RM4voEUthLDoJ+vJkLA2PPNEJovcHvObozdSDhwNB046hJPJ25zAk50YeVGQRF6IBmQICIIvAlIUeEE4EOG7QfzQvLTGoS/16NUI23rUFXez2X6dKqzJDtry9EsyQfiEE7z+qDMS7ZHBQ5xpeD6JJPMCCmjDizOFhIiAQ1iVRVrQyNnhGSpH86boNZQDx8KBkw7hoizw4QCJGA9FcNAq2mAkgJZClCGMwlNEgEAEBnjfB/ZbZzr05W59kU+f7TZk9Jsy+k2ZHjY7rMl26zN0S3JA/BwHouMpJxAFHjhw8pIfTSXDrnqQIYpnqpJI1cGviCJ8MDdoepg4cNIhnFjIyvEwW9EEMzSxFC+/wIPgl4Vthlsm9+umuNk8P5vi12X6dHluAxo88+jznPrSF27OAmEvmuGNAuRQZDtan4V+KAdOJA5QhMffBkV4nBP0eyxxgCI8/jYpwuOcoN9jiQMU4fG3SREe5wT9HkscoAiPv02K8Dgn6PdY4gBFePxtUoTHOUG/xxIHKMLjb5MiPM4J+j2WOEARHn+bFOFxTtDvscSB7wLhUTlI1kufbzhlxNdLV0bClUTsdVKEjyW5ps8S5wBFeHz2B0V4XCbo91jiAEU4RfhYkmf6LEM5QBFOET5UJujvscQBinCK8LEkz/RZhnKAIpwifKhM0N9jiQMU4RThY0me6bMM5QBFOEX4UJmgv8cSB5JGOA8iWa4E7aRJFjEgu/yBJIpoCSRR9KNNs8mGQSKgDfkg5IVdFy3IWWSfdpU+c9H6ugZtdaNxevOayqvMhY1rKxfaq89rTfXAwSgfEdBGXyJAWOBceD01tEQpWsqQQ8NZkiRE0S6hsYWJueT3G1eGwZVE7HXS0bKxJNf0WeIcSBrhh1cjGoRwWZR4QQKQ/AEX2UpE5CWBE0VekMMgyZwf9l7YmttirJtlyG5dU9FsqG4wVjd2FV5jza/vKm9kiy++NjcIDrRZAG4a+Che7VgCPoKXV5CAjwooN1kkyzBFBDkiiMewVqkCbCVBER4XBvo9BjmQNMIlEBHM8Ab3ZN1vGf1GapeXIYJ25JNifEJYRFv7hKMRJ+y7eGHxfPMpDTb1bFNOs7msyVo01545x57f1FVZry398eJCN/T4QmFAKjwqiWjTIUmMohwAolFl9x9JECNkITRAzUG8rKN+NQqwlUTsVqrDj5qH9MJRxIGkER7DNkY42YhLwEsER5FJLYYh6uF8vkiIlyVRFiJ8QAQIyiEnfHnBguImw5TmdUX1VtU8W3GTLb/ellG/prjJXtukr7342iIP9IcgIkMozHlliEblYEjwCBDgIchD0OXzIgyCJAphSQqhjQ1kXuQpwkeRsNGqjgAHkkY4UqpxIgjnQY6A5Ii6PZIzCO4guDzg9IDLLfVFwecU9zvgq0Pw6fnX5V3dWd60trBlbUGTuaDRmt/YparvqphjmdxkmPLDa3O+gu0e6A3I3gCEwsD3c04/eB38Ia/kjEBEAF4ESUBrl+LGRA7JyIKnCB8BoaFFjiIOHDvCsa2O9sEmCA+B7wndfav//vCj9huf2XhH+z//snLT3ctfur39jTtXvHrrc28tPW9Jer2psn5NQYNN3WAoarGUNdjyZ1sqZ5vrmm2Tv38T89xbtz278bbVm5a1/f2hZ1954NlN9z/36t0rNt6le/3Je1csCYKbB04QZYET8TqmYZA55OpL8qMY50oilgG10pPkJL18VHAgaYSTTjg5kt0zCcI3ffTC/9afefWfz7nqgWm/frDslw8W//qRit8/WvWbB0v+797iKx+quOQvqS1rq+rXFMwxFbRaa1stVQ3mojnWmlnmqqYXyi5/fMJVf5v862Wlf3hE/asH8q98qOQ3j1f84v78qx6b8ps7T//ZgtM+2PmaM9iPAI28bpwoBmXspk+WywqwlUQsB4rwZFlJrx8NHDg+COdA8kLP2i3P/PT6ghuNMxeaK5pNRQ1GdautrElTemPX6fMNpzSZJ8/tKppty5ttLGy1TG02VDZZSxrX1P3RWDx7TVbrC0Vz2osXm6e0GLIXWstarbUNpspW6+SF7Jk/WVJh2vpUEPbzEBIEQJsSIducFyHKy9RKHw1SRus4chxIGuEC9m7j7ToEfESGsiSDAJKL73lIe1P9I+c0d5zSbKmr75p8ta2u0VjYaC5rNFfMNRfOteU1dakbbSVzjRVzjepGW1HD2pK5XUVzu4oa7QUt1oImU+5ca1F9VwXqn5vLFlim//Le2gf1N7sgwKH9RPCu2wjfkoTce8eixBXVrSRizKc6fOSkkJY8fBw4BoQjpAkgxuCNRs7QJyoKHAT98FXzIz/+3SO1jfqpc23VfzCXNFrzka62ljfYyupt+Q1d+Q3W4npzeYO5qN5SNNdadI01f7atoMFe0GTLb7ao51qL/qjLq7dWtFin/d9DpS2P/9QPPX4JOeclQOPleOegGML5pLvhoABbSVCED5940ZxHnAPHhnAE8q8NjCOcAydH+iN7B+Cz/7v91N88Ud1smzrXXtJgy22w5TfYyhrt5Q32knpbYYO1tNlaNc9a0WgprbcU1dsK53YhhDfa85ts+a3rK5rspbM6Cq96uvaXt5+6X9oWAX9EDKMNSTBRhI+40NAKjCIOJI1wnuy+h5QpCnXBrnQeJF6K4tAUCDmkA58EXjt/ceHvny1vsVc0dOXNtSLNPNde1mArm2spabCWttgqW8yVjeayBmtpY1dxY1fxXKt6jiWv3qquN+U3m0ubNbUXLVJ9PPB3r+RAPQC0+TYXJ16WRQkNlCFDPdmPorqVRCwHaqUny0p6/WjgQNIIFwDZyiR0FD8gNptlHsFQRuc54HukLw3vP/6rZbVN7bVN9vIGazHqXVtL661l9VaE6iZrWZOptMFc0mAtbrAWzrUWzDar51gK623FTYayBYYpP74p7cV//80Dh9DoWCiIomliCMeaPI5whMokPwqwlUQsA4rwJDlJLx8VHEga4d+AFOkYo510o+EI6ZAHIeyHnmdeueU3f57cqJ/aaKpD/XBrcb21tNGGEF5vKWi0FDfZSxttRfWWgrnmwnpLSaO1sslas9g487I/5a3YtMQP+6Jkm0CBFyJuYqJj1Y20N7EglM16j57XCrCVROxeivCjZyK9cvRwIGmExwPaDj8iGhsHXkTTQARRioqiGBUlDqKHuO13LJ911fIZ9Z1T51mqGi2FCNi2EoRqqxq51tYUNXUVzrXk1VuKmu3VjZbJ1+hqfrtsyp91c9zwZRQisgRcMIrhzEloThsKsBGwUz3WR0CWQ3IfBdhKInY/RXhyjKRXjw4OJI9wiUcgR/NG0eAVCVyVAOEbq9kI7qFDRBCj4PfBnv/3l6nXPDdtnqm60Zo/x5zbYC1sshfXW9WzrNkNXXn1djU+Wdpiq52trbnymeKrl53bD7scUbcoAxdGmXFR9IWD54DHM9cEUgZx6ifJZwXYSiKWAUV4kpykl48KDjBKp3qI+Y0BIErAE4pN5zpyhEncfiY+MDSfW5Q5QYq+737nR9dNmbNicou5uKmrcJZR3fxC9Vx72Wx78e9NBQ3rq6+2qOdY8ufbpvz6scpLbi3b5/vcLQ1EIcIjiyDW4RckUZmKPiQxOMbuqNJ49D6WCXLX8bilQt4FEXX1IYRtBJCCIHxsvqXCqa3zsNk+I+MzjPcY0tyGNA+b7deUuFdPf+HGAuC/jKL9wwXEPVmSUJMXm3v3XxOomUKz85QK4YB/7OMQUXWiIkQlQG5F1BnBTSoO9RkVckUreaJwgME+s7jAD5IgIlhx3CK8YyFD8piQ4n+j4Be0iANuGkQ0M9z14vbVV9xePmdVeZOppHVd5VxLydVs/lxrUcv6qjm24quM6sUvTr9mRc1Pbyp96fPn/fIADwEZopLMibxAChVF5DVPSHHXPjbeYwtDkHTieqI+PKkrsv55CZD9j6J2BBDkCABCOA8cSD4QthiXlhOE+w3j/GyKh83wGNJ8bIZfq/boatYvyQVhL4cRjt6nLOAR+2/W5NvqE2tYUduAEB6ziWTU3CB4xxE+iP8niujQeowKDjAEivhIlE/cesWypeABubaQBCaGzTcxTxxjMvBh0RuEno7Xll1xV2WTprbRWDzXWLRg7eQGc1GDtbDBXjTHWNysnXLl3XWmt5/0QA9e1yWKUCYKIGDdhcrGhvkRGpdvlv4tZ3DLhfCCEigojsNnMMKlKNHhIkRB9EnChzGE61UB/cSALsOnz8YIT/HrMj1s8fpbMkD8AiFcIO4AXpRJbgnU+JGqhB6M9HgQ49GNuFUdFG4w9KlHhVzRSp4oHGBkNCWbG6wrYhDHoo+qiVUnMs8RyKV4A/DNb9ItjwWNSfEPcChzp3zwXtOC3zxS22Ksa7FVz9FXxGLazMWNbO2vHqp+Yt2NTuEgGlIXORCQhR4LYCOrQSlrTXyz2COeUerztQR6IDnmi481Q3iRCdSkiDzIEAFsrosBid/KLq1GOlyfF9ClBbQqvzbPx2b4DBP9bIqTVb9wyyQQP0cI50XEH1nACD9Shb5WDdzEoDOY9cj2wAME2CDHloiSC5YUxH2C/xNFcGg9RgkHCMLRqilYgBS5Ih3Uoask4b8TS6okYtjEBrJQ4DghwL3LEET3S18sWvHz2SunN+jr6g21LbbKOWzJfPO03z1Z1fj4RR74KiRzPIcaFNTrjLsHZBlEURZFFLOakJCCT4bQeyFtFlbjWLXiMzxaBA4khHDkdBDDMr/dsHSqQ1fn0asDuoyQRu3XFvj0mR5Dio9Nc7BFa5amgdCN1DePs0F1lJOqjBxfcA7b8Uhvo0hBZJxz5GGJL5NgGx1RSfRDOZAEBxiACA4mQfbwYHmKqRQkUkrH8tsmchGlNLhk0lqIXBBBQJYiENjNvX/5LXV/fGryfMsZLebaVsPkq/9afcVNVbsjb0fBx8sSceTFloVC0h/DC1a8SuvztcTgEo8+jfJFj4s6ujGQoy5/FCQJre4ocxjhn7FLT+nXTXHrC/y6zIBG7dcUefQqD5vp0av62fK1S7NA3I0QLoi41UhutnpMjePmRWmjRFmQZE6So6iZw41a/GmRehdRb4V+KAeS4ACDw06/NvpFdEXMbpTDsuyXwQcQIl1WrLDIoNXXjyTmDAGGR0ssIYpgCgqCDyeiAeh990DXRYtzG9unLTZNb3i6+vLF6g+/NIngjES9ghgGCMtSVAZOhKggR0RA6ViJh6NWlfBVnIiV+PXKfMtJlA8vSxwqSA7Ksh+3cTjwVvYChHkIAwRA8Mn8dnbpKX26U5xsgV+fEdDm+bRFbr3azea5dSX9+to1N2eD+DnS+3wAsREZ6zjA9ltKj/+FzXPkBSD8jw864u43cbBh2ycOb/RNWoEk3i29lHIAgMFqMma4IkWEPihMDU0NRf8FJdkpwYAku0UpJEkCOpOIUEOA0BIA8BOSwSeDLyr1A3iAc0EkKEmhKBy0fXLvz+5Mb1lVc+UdqnWb75KgGziPFAoABHmxR5Q8OJOABD5R9qI8Zb/M+0j+CY7glxNTQEY++W8QqmdQloOS5JNktwweVE85CFJQggEADwdeGVwgOiV+q37plF7dDAdbhP3nBOEFTn2RU1fZo62x35wh89s5CAM/IEkBkHy8GJHAl5AG10QCv0LAh2U+Iok8clygDlCM/7GRi7hZQMYR8OgheUf0SDlwVBwgo2UE2oqfHN3JC0iXgbQTov8S4X0QXgf4VIpuA/6TxMR9AglJ/BjEjyHwPvA7IfRvELYAvNVh/d0fFzKW9b8HeAmE9yCwBcL/BnGHyH8K3LbExG+DxHSE+hyxntuBS0ShD0HYCtxWELaDuF3yvQGhDW1LJm97LPuzx9J2PTp+52PjPnt8/PbH0nY+mvHFwxmfPlxoWloCwQ0y/wEnfcBL7wJ8JPFbEzMHVeYI9Q++C4FtwPeKsi8qBHHYHuopYO0dc62TfjjyT8Q9nUf1bulFlAMADBkcxioijnA8eoMgLoRW3Xzhs9dXdyyb2fGnshU3VhvuPItdWpOQtH+qTUjtN07V33aqZukM7S2na2+ZuXxxpf6+Gs2ygmdun7jq9hzjPTWrbqzQLZ1huP1M/e1nrL51uvZPkxNSwkK/5aThltqEpPnT1ISku22a8fYp+ltq2pdUme89TXNziW1J5qu3pW66If21Gyb883rmjRuY1xBNeOP6SW8unvThYua9WzMtN5Rrls6w3n9O+5IKw5/qLLedduQq1bFLE9CKm2rabjn3saVXcJG9MgSlaCgSCkeRw598sO9NCXqhCKegTZIDDC+jgFDswsUIJ4OzIsghL8gD7A21X+nOGlj/A7el5uDqyv7Vk/sNNQlpgK1JTJ2nOvSn9etnHOic4us6e8A448v2QoexrFdftX91eT87uVc/zWE6tU837WBHXa+mLnEmbOJCE9bk208O6CcnpAOra136aR52yqFVZf2aam7tqf3P50R0eU5ThcdU7Deq/Ua1z1SA0obSkL401D6es9R8saJ8j3bGftP0A/rKA51lvZqk63nIPKOn62ftd5wDsIOXBgAEWUbW0yCEx+JekN1OEZ6kfNPLGQHvUoTXbMHcIIoc+Yb5oGfb2j+VuQzVezvSnZ1MyJQuGLOdBlVCQk7mRBTS53m0mT5zTo92Ur8hJWRX+dgUZzvDmQrDxnyvKbtPn9rPpjmNGT5jdtCY42GzE5LTkH0ESlyfhJV0GtCYdkJyscVuXV5Anyt1lTjaUgL6rIA+y9E+oU+f5tBPcOoZp55x6Mc59BPc2kke7YSobVJvx7jQC1UOW9EBXYrHluY1p3nYjCOVe4TKZzs1zL72Us3tVSC+y8m9AALHCViHE5CjYUsylokQjhayQh8quJQDR8mBGMJxHCe+JR6WKoAc9ny28fYyr67MYc4PmSd6NRPCnRMDWlVCSghvj14VNGT1rZ7Qp5votKUf1DP97LiwJTNqyHSvSvF0pvXpUnqNE/ssKR5rjteU7epMTwhvD5udsNBjOOnTqxKSy5DvZPN62iaGLSq/Pq2/fbzHkBPoKnWb8nzG7IAxI2BM85qyvEaVz6gKstlRDRNePSmwOsv5HApx82lSJHMep806cpWyA9oEJK6bdEhbYrynDuT3otAnS1wkEETRAGi4Ho3nSSTwDniK8KOUaXrZYA4w8SiLwyeJlkDLkof3bbhWFeys8poqOHNeRJcXacsKstlJUViXFTLkOjsyAhZ1wKry6tN9nZnBzlzBUMCbi/xsjtei6tdlDHRk+DR5IV3RkTNXBdmElFx9QnpVQkKhLGymU5vm6BgfNqZylixXZ+qBtjS3PsurT/XrJvj0E9xsqotNd+vTvfpUTpMCbB7XkRfRFkWMxT5Nrq8927ci48j1T1zP3jaml61ru7UKpI84eQB52iQQJLSKLEX4YaGkqWPlAIP9tIftPhLoQiKrgN/zwnVZPk35/s78gc60iKEw0pbhQlKegLzalITkaWcEa75fm+ftVLk7UvHAcjZvKvV3ZPi1Gf3Pjw8YspGSNGQH9VmBznSvNi0hudiMI1CCyrjYVKc+JSH5NCkJiTNmuDQpPlNuwJzj044P6yehqlqKArrCoE4d1uUE9DleVu0y5HsMai+b6zJMGNBMCJjyPZaiA/och6XAw2bzxtyEzMEn011sAgoac52G7626oRbET3nJiSJ2ReQZoQg/VpGm932NAwwKNUf+G2QWEi8bj6SMC4FfkndsuDP3oLagd111rxEBjNdlBNj0hOQxpCWkgJnx6Ca6NRlBo9qrTw/Zspza1L6OVGfnhLBd5WZTfebMfu04NzshZJnkMzIoYiwRkY5xguMR6uPXpyUkND8sETk7mLC9sM+Q6zCoHJqUAJvuZ3Mc+ryAVhXSZoa1GQFdhoclbohstyHDYWZchnFOfdohXfqALfeQPsWnHyfomITMwSczA2wC8nXk9q8+w3zbTAh+JIsevIYtivIZhPAInjtArfSvCS79cZQcYA6r77j/ltyJvDpC97olKp+2xGFQ+/VpPn22X5ft02dSOr4ccGinsbfWcrAFBDdyg+BJN+S9kEAXciShu0f5XulllAOEAxThI99gUYRTNA4fByjCKcKHT7poziPPAYpwivCRl0Jag+HjAEU4RfjwSRfNeeQ5QBFOET7yUkhrMHwcoAinCB8+6aI5jzwHKMIpwkdeCmkNho8D34JwCfg965Zk+7RFaDycTcHj4arjOxRMc3PrM5y66YYl1SJ8BKIHrcOGI9LJKydrQtDx8OEDwJjPmSJ8hHU4RfiYx9jIPiBFOEX4yEogLX14OUARThE+vBJGcx9ZDlCEU4SPrATS0oeXAxThFOHDK2E095HlAEU4RfjISiAtfXg5QBFOET68EkZzH1kOnHAIx8s2ZPj1GX5dJtpLKE5eY6pHm+3T5Xm0EwJspp+d6Ndn+LRZLn2Ok53oN6cG9BPDukyfNsNjTe2zjQ+axnkMKU5DZk9nasCMVo/y6tOd2lSvKdtvznPps9z6dI+eCZknOjuZsGmSj0W7kflYvI7FoCUihnvEfrSPlnEc2pqRHEVRRNs64I+A92MlR3KS4zgy6V0U0X545K/B0h+Nor3YASAajcamx+M1JwVBIH+RW0hZABCJREjOSlaiKCqZhMNhQRDIkmSkRLT8P/6QzCUJ7+MFQP7lebQpxeBJ+OR2tFlm/LlI5uR25amVfMjtJLchVw5+zO84fcIhXFmAZQi0PB0qv1YdNhQG9FneTlWQzQuyqrApJ2TIDVtUXrTlUEZYqw5py0PmrD49432+KGjIcOiYoEUd1Bd4OlL8bIqfzenRTPRaVPtXTgiaCyL2fLc2NWzKca6eiDYVZTNIoXiRmdiSr0Oqcdx/jnaEo80zeN7n87W3t8uyHI1Ge3p62tvbFTnmOE6SpAMHDlx++eUTJkxgGCY1NVU5jhs37p577lGQyfN8OIx24vj73/9+8OBBkvnevXs/++wznkfRQIIgKIAkRUiSNBiKpIEgFwOAy+XatGkTaQ7Qfni4cSGg7e3tXbhwISlFFEWHw6HRaNra2hwOB8lZFEWWZRmGSUlJYfAnPT193LhxCxYs8Pl85BpBEPx+/4oVKwKBwI4dO+x2O9qCPhQa3EIprBiRxAmHcLchQ6FByzllB9k8j2aSn53o1eO1EA1ZDu14j3F8SJMX1Of3rB7vM6mdGpVPm+PuzIla1Zwp362d0K8d5zOpPRqVX5ft0WZGbGU+S62DLfGai1z6LIcmxaVBsOdsxT59tkJovdf4ytDHHdJDMhztCCeq74033vjLX/7CMMy4ceNyc3MJHjIzMxmG+fe//81xnNPpbGtrE0WR5/lQKLR69Wqi5Vwu18qVK4l2DQaDV1xxxcSJExmGycrKIpncddddLS0t0WiU5/nB2psoWwXJBLqSJIXDYUmSNm3atGPHDkmS/H7/hg0bCLQUFb1ly5bTTz+d4JYcN2/eHA6Hly9f3tvbu2zZslAoJAgCx3GvvvqqF3/IvX6/n+O4tra2YBDtt0ke4fPPP3/xxRclSSG77/cAABRISURBVDIYDG+88YZiICi6fUSArRR6AiKcrNNGVlMjnWSEvaAp06Wf2N+Z5jVNO6BJdXcV7tfkeO2TnauzvMbTemz5B63lPZbKA1pVX8fkfl1Wv1G1v7Oy33zqQWPxvtWZbvOUQ9qSL7UpB7TZX3Wkem25TmOG15DpM2X4zakOHYNWREYLVMVwrizqPASQx/3naEc4UVkPP/yw0+kkAPN4PKtWrSKgBQBiLYfD4VWrVhEc9vb2rly5kqT7+/uffPJJIo6DYfPKK6/4/f4333xz/vz5CoyJSieGN9HDCuYVgSaJF198cfv27QDQ29u7cePGt99+m7QXRqNR6SAoxjYx8vv6+l566SVyu1KiTqebOHFiZmbmuHHjFLtj4cKFfr+fXCnLcltb26effhoOhxcsWKBoe4ZhLr/88kAgMKRi3/3PEw7hGGOZaCdAvdIbR4ulu/RZ/bqiAd05d3+f+ef9zG593c5V37vhdObjR1UHrNPv+zlzPpN5PpP21G9TnOvP2LO69rUHZ1xVzpzHMK0zmG72zJ3ayjcfPHP+9AnXl43/248n9bWd5dLlObRMyJbV25buN5THitNjW51Y7Lg3ftwhPSTD0Y5wQRDee++9Sy65ZNeuXZdddtn48eMJlhiGmThx4h133EGQ7HQ6L7zwQkUzT8IfhmEmTJjw1FNPiaL46aefnnfeeZMmTSJYUuCk5LZlyxZBEIgulSRJwbYsy5FIhNjhBPbRaLSrq6ujo4NhGFLQsmXLAGD37t1btmwhwDaZTErOS5YsaW5uZhgmPT2d1P+dd94hfe+XX37Z6XQqRZDexNNPP83zfDQajUQiW7duvfTSS7u7u996663bb7+dAFgURY7jLBYLefbvHtWDSzzhEO7XofUekZtNj5Y3RZ42tAdDnsOU0scWfrX6h/ecN2nDMqbbcvrHz19w4zmpm5/Ktd7B3HJZ+lttf9jc/vulP2JefWzSDm31nHMmrL71+x+bG2/7ZcoNP2W2dJ5qvm3aFQXMu/dl7F9d1acp87KVPk2lq71Y7KrsbR+vIBytOYldbrHjMK88OdoRHgqF7rrrroceemj37t1EdTscjra2NkEQ3G63RqORZTkUCrnd7o6ODuJs4zjuueeeI9LvcDiWL19O0pFIJBQKEel8++23jUaj4q9SOtsKsAGgo6Ojvb1d0bcE57t37545c+Z/0HvvvfcSHf7yyy/z+PPxxx9//vnnpCy73d7d3S1JUm9vL8uyAPDhhx+++OKLJH+i1WVZ7ujoyMjIIOBXWoTrr7/e6/WSei5fvvy+++7bsmXLY4895vF4gsHgM888E41G33nnnXfffXcw0kYqfcIhHG9Igld0xYoUe9TRVkQ+e+ohfeqe9lPuOm/ihgeYnbZT3n3ue4vOYf71ZN66+1PnXcBss1/zb+tv9nT9/DNT1fr7xv1ieuprnVe/3vHb159puvYC5v2Oc613TWucqdrdXuCylruN+V4239NR7NeUBg0FeM8D5LonFPO6DfK9DVG8x/HnaEf49u3bu7u7V61atW3bts7OTkEQent7iaetp6fn2WefJeb6wMDA6tWriZTv37+fNAGSJHm9XsUtR7SrTqcj/XlFjV966aUul0sxqiORiCiKsiyvWbOGgDMQCChudtIorFu3bseOHYIghEKhV199lZT7zDPPKB4yUkp6evp/9PwDDzwQjUb37NmzdetWUltZloPBoGIvkN6BAlFZlolvr7e390X8Wb9+vdVqBQC32/38888rowak0VFuHJHECYdwN6tys9luQ2bcqZ6JnV55Hn1ev161v/PU+87PWn8fs8t69uaV/3PDecy7fyv4TPeD9hvU32eY/2GY1dcyB9edu/YuZhozoY5hzp6UdRqT8qsy5u8PzVx7X/X1FzF7nzutn63r16d6TeO9uvF+Xaa7Iz1gzPLrVHEii0Z/R+tGj3aEk0GjlStXdnd3/+xnPyPgHDdu3KRJk/7jhX7wwQcJ9vr7+y+77DKiBolHnaBr0qRJf/7znyVJ2r59+5lnnjlx4sRFixYRTa6YuK+++qrb7SYmunJSkqQvvviC4Ip43UgTQI42m23Xrl2iKA4MDGzcuJGY2atWreI4jqCO5LN8+XKXy0WQ3NXVtW7dug0bNpAL9uzZc9ZZZ5EKjx8/fgL+KD2ISZMmvfnmm6Qsu92+c+dOALDZbDt37ly5cuW+ffsUp8OIoHpwoSckwg2ZbrS/QgraYoElCFf7DeW9upTdK8+4/xJmw7LUbeaifzz2vdaZzLtPlO5my3tMF3d3VH9l+P5dFzOWP6W8/GBJ03mZX5j+8GXnjJ5VpztM5+/S/Mh0Z911lzEHV+f169QusjmJfqLfkBowkg4/6R3Ety5EgP8u1ocf7QhXoOLz+YirnIweKQ4totDcbvfrr79OjG2Px9Pe3i7ij8PheO655xS3XDAYbG1tJe70tLQ0ArBf//rXvb29pKUgVxJbWoEWGWAjYk38cGvXrv3iiy94nvd6vRs3bpQkadeuXV1dXYpJ/69//euf//zn888/v2/fvu3bt4uiuGHDhv/42Mlwl1IfxXDwer3r169XRsuVzoIsyzabbc+ePX19fXq93uFwPPvss9Fo1GAwbN68eTDSRip9wiE8ZqUjCxmFoMStdLXbkrK/I/Og7uw/X8jc//PUnlcuWd7M/LYw4/3Hs1c3Mn/7zaR9a2dsaSt/+LJJHz5at+PZ/MYZKV33p31mm2xdktdcyfx7xeSX7ilc8mPmUId6QJ+PEZ7u0qf4DUSBo24/LovgnBzRyeNokCfMarQjnCjAtra2Q4cOffjhh/fcc88777zz9ttvE8e4Yqa+8847r7zyCkGI2+1evnw5Ac+hQ4e0Wi0BjN/vj0QibW1t4XCY2OEE1WvXriW+a9KlV6BCGhdSAeLSV6JQXnrppW3btik/lcTWrVuJvn3mmWd4nm9raxsYGPjrX/+6devWrq6u7du3v/zyy+++++4//vEPUsrAwAAZzDt06NCvfvUr4hr8T7f8kUceIV49ALDb7f8xQNatW9fd3R2JRDo7O8PhsNvtvuOOOzwej1LbkUqccAjHpnI29nulBXRpyNmGPW19uqzQC3W7tanvP177x3zmQoZ56g9lN53LfPCX7B5b9d2XpJ3DMJcwjLG5sFc7IaSp3vxk3v9TMd9jVL8sYT5akRJYV/vGnbnLLkzr0+Q62TyvUYVG3dlUvyHdz2ahvVyQd+1w0Eu8K56WEJbH8eRoRzgZFm5vbydjyJs3b2YY5sorrwwEAkRhEl399NNPRyIRguq+vj6NRsPzvCiKbrd7xYoVCgIjkQhxaxNLnijzK6+80uVyKU64aDTq9/tJf1u5kQSrKSgyGo27d+8m4CfNB2kOnnjiiV27dg0MDLzxxhs+n2/lypUEhG1tbQCwc+dOs9n8wQcfbN68mQTqNDQ03H///QDQ19dHPHaD1bgkSdFodMOGDRs3blyzZg0J11m1ahVxs2/cuJGE0yi1GpHECYdwRYfHdx3L8OvQaNmAbrzbXOg0Td3dVtln+cFezXkHzP+z21DgYAv2a1X7tBf2dP12j+GHvZY6p5EJ6NL264t6112wx/rLL0z/060p6tWP79erenSlTl22x5jlM2Z5DCk+NsVvSPUb8Ej4YHgT//k3zwyDX320I1yx0h955BGGYRYvXux2u/v7+y+55BKGYWbOnLl37949e/asX79eCSkbGBggQSPz5s1jGGbZsmUKXCORCDHaSaQqaR1eeeWV/v5+Ai0F5wTbxD6XZZm0Jspdu3fvPv3004kv4D9FjB8/ngTSzZ8/XzErjEbjZZddtmfPHqPR+Mknn3i93i+//HLatGlnn332p59+2t3dfemll+7Zs2fTpk0krE3pNZBB7/fee0+WZUmS1q9f//HHHwuCYLVaGYaZN28eaR2U1mdEgK0UesIh3M2qcLRJzNOGI0lRFEqYneLQM27jeJ+leoCtOthRd6hzqndtocdU7DKWHWyf1qOZ0mco3due5unKOaTNcdnL9q4s6O+oDdmKPKYCv72kj833dWWhkXZDut+Q6jOM9xnG+42TUBqvQoeH4gfvLk6iX4Z3aspoR7gCTqJFld6youuCwSBpBRRwkmvISUUQiS1ATpKuu3IB0fxKl1iJEh98L2k+yDXEOiD/EjUu4I8kSSRPQRAUpzrpcpMRbHILaSxkWVY62+S82+1WHor8Rfr8SsWIg12SJJKD0n0YXM/vPn0iIpz40t0GZZPQTA+b7dPkBtlsrzYlYktzsoxDzwRtqf0aZkA7MWAqEix1QTYvZFJ5TIUOq/pLY8ohfWpYN1XSlgWfz3JqmKAt50AH4zSmoWF2tK9ois8w8TDFEI7hrcvz6fKwKaGKhd8Mg+pW7PzRjvDBmorIOvG3RSIRnueJlhuMHJKORqNKWxCNRgfb2AQeCkjIZYqFz/M8OaMklDAYgjoSi0JKISFlHMcRYJO+vYJSACDde2WiC4l4JbY3yUGJeCfNE8mcVIA4GpTcvhm+NrgRIbmNyPGEQzgaG2OzPexQyzlkZhzPqyKGcsdqJmzO4CwFfm1BUFvr1I0bWM1EzCrnqgxXu8pnyD/UOS70UmbQONGvm+TX5HAWhmfzgp15nOEUD4sM/oA226clMXOHg1viMfDxiHRch1g1KMK/VTbJhBMyaKzYwATtBAaiKBIARKPRYDCoYJtoRWW0mYSCK054onJJPuQWJdKbnFTmlhHoEludgJk47UmtSZUUzU8uUOpJfipuM3ILKZogX5lzRsbhlbA5gm3l9sHud9JSKM/1rcwb9j9POITHPG0k+EQJa9OhMbOAMS1gzPB2qr2abJ+BcWmZIJsXMRX49NlelglZJ0SsOc729IA+193J8O0FAUNerym1X6cOadRyR1Fw1SSkwDVqf2eeX5Pr0+YM3iwZj8xlxHEej403UE/bfxFBxZRVEgqWCA6J6A82WYlCJuY9sZ+JjU3QooSIKphRUKT05JUiSOUUEJJSiO1ASie1UuxzRc+Tf8mR5E+0NOn5D3lmJX+l9VGCZBUYE4tdabxInoOfekie39nPEw7hivl6kiTGgJX+nQkrLegYOEARPryOtP/aTlGEH4PU0luOngMU4RThRy8t9MrRxwGKcIrw0Se1tMZHzwGKcIrwo5cWeuXo4wBFOEX46JNaWuOj5wBFOEX40UsLvXL0cYAinCJ89EktrfHRc4AifKQRbsh0aKcZbqkVYAuIbgFAlABtGI6XCic7h9P9w49eoOmVQzhAEU4RPkQk6M8xxQGKcIrwMSXQ9GGGcIAinCJ8iEjQn2OKAxThFOFjSqDpwwzhAEU4RfgQkaA/xxQHKMIpwseUQNOHGcIBinCK8CEiQX+OKQ4wAoCEBl9FkHlEIMggiXhUFkJfvnh9XkhT7TVXeTWZbk1WRDt45wBlCwGa+O8cUPY8HJqwpx8y1OrvqIHIuzL4BIEDxH8e0Dsg7wZkGSQZ/RLGlOzRh/kuOMBIWHqGIByfE4DbtfG2HFdH9gFNuks/PmDNDhgzPNpMSseRAy5dWr9+uubmOpC2RWW/jLbIlsJiFCQAtIM9anxlGUXBCCCL34VI0DLGFAcUhGNJAqLDBRkEkEH07njplnyftshpVIfMWUFzQf/KND+bQukYOBDSpSWkoC63t30qu/QUiHwqQjQQECQRqWsEbOBl4CXgJOBQGgFcGlPSRx9m+DmAEC4jiukKRarCAGF+n+X24gFbzZfm/AOdTB+bN6AvdBjUlI6BA05WnZACOrVbP3Pt3d+Tfe8I4JNwrwntoouiV3lMnIShjlS4JA+/SNASxhQHGAxvhHAJZAliekMGDiAI4m7Djer9nZU9pgqvLivIFod15X5dMaVj4IBXX5qQBkx1ezvO7Fw6Dbj3OaEHJEHyh0Eir0MWQBQQ1NFWm0h/UzN9TKHvu3gYBht+SDVghB8GOURDku9Q5/Xn2G+ps/yp6sWb815aUrxukXrdkmxKx8CBNTerElLn0kL9bTNW3fVjIfwxgAukKAQCqNON34iAu98CoNYXwZsi/LsAxZgqg8EOWuQ/jyOc+NXFQFgIAoj+nSDsFOEr4LaB2A38FyDspXQsHBB3Q0IKbgVuN3D7Adyc6BMjAZCEKBcE3HWSkA5HPjbSBlOEjynwfScPw0DMuyZhSUIdPWQQyiJw4PHJIATFSCACgBadBxBEwG524oCnxyQ4QFrSbx7RdNEwCFHUL+LQetwiSCIaK0NaW5CAFxAhXzqaTkodbd8JKsZSIQzIHHbbIvUQn4fMA6CuYHy0BsMe/0uNxOP+7nkEbCkCQhiiHHACbnBRQ4B8augdYIQjlxtxgmKfKPW3Hff3MGYzZEBGwzBIRRxGuAB4bIaMxMaOBPFUiRxvSRCwWudA4kDgkdL+GnrJMDiy0pGzTQQ0No4+x7sWNL8xywEGGeSxmAoxboEjKcOjNWjABqsODhvzPEY+kTF6PE4ckFDbiRktibKE+tuY0CuIvw8yoola11gMDEX4mAXkcX8wBslRLLgCh1Wg30jGsN5AqkMZQgOZwyZ9Ysk+7jUbYxkm5hqOR8UbdAqSJOBrYgiPOT4xyGM98MP9JorwMSYdw/g4ZDycDINHZBQ7hRBOQqBjOoSEwxD3G42bPN7vgvSuY61nLHANlUHCXXAXiaA8NnGAtBTHuxY0vzHLAYboipgXB0vY4D450uexoLdYYsxyYoQeTJQ53LByABGE85inTZIBNbh4OhAOZcN2liRHKcJH6EWN1mIZngy3IkWNOuSkT45DoIkPSCJqBDUERL+P1ic9QevNIW95zN8RhzeZ74fhTeaU4UZXlAUeOIrwE/RFnqjVYqIg8shVS4Zb8Ug4mkbKAUQxkckPPO6Qo9AL+jm+HIhgWGMXOvKkxQlA4tEsUhLHhsbIkc+Ti7vaTlRxovU64Tjw/wGFCFFAQYPLzAAAAABJRU5ErkJggg==)"
      ]
    },
    {
      "cell_type": "code",
      "execution_count": null,
      "metadata": {
        "colab": {
          "base_uri": "https://localhost:8080/"
        },
        "id": "tbFVMAo0laRA",
        "outputId": "77572490-7549-43d7-8e8f-cc55ee01b3ca"
      },
      "outputs": [
        {
          "output_type": "execute_result",
          "data": {
            "text/plain": [
              "AIMessage(content='嗨！', additional_kwargs={'refusal': None}, response_metadata={'token_usage': {'completion_tokens': 5, 'prompt_tokens': 30, 'total_tokens': 35, 'completion_tokens_details': {'accepted_prediction_tokens': 0, 'audio_tokens': 0, 'reasoning_tokens': 0, 'rejected_prediction_tokens': 0}, 'prompt_tokens_details': {'audio_tokens': 0, 'cached_tokens': 0}}, 'model_name': 'gpt-3.5-turbo-0125', 'system_fingerprint': None, 'finish_reason': 'stop', 'logprobs': None}, id='run-0f2aae99-2662-4eac-866d-6fc82a578201-0', usage_metadata={'input_tokens': 30, 'output_tokens': 5, 'total_tokens': 35, 'input_token_details': {'audio': 0, 'cache_read': 0}, 'output_token_details': {'audio': 0, 'reasoning': 0}})"
            ]
          },
          "metadata": {},
          "execution_count": 4
        }
      ],
      "source": [
        "from langchain_core.messages import HumanMessage, SystemMessage\n",
        "\n",
        "messages = [\n",
        "    SystemMessage(content=\"將以下訊息翻譯為中文。\"),\n",
        "    HumanMessage(content=\"hi!\"),\n",
        "]\n",
        "\n",
        "llm.invoke(messages)"
      ]
    },
    {
      "cell_type": "markdown",
      "metadata": {
        "id": "O8sZhaXil16R"
      },
      "source": [
        "# 使用 OutputParser"
      ]
    },
    {
      "cell_type": "code",
      "execution_count": null,
      "metadata": {
        "id": "9MholShxlZw0"
      },
      "outputs": [],
      "source": [
        "from langchain_core.output_parsers import StrOutputParser\n",
        "\n",
        "parser = StrOutputParser()"
      ]
    },
    {
      "cell_type": "code",
      "execution_count": null,
      "metadata": {
        "id": "j0j-ARdumTiW"
      },
      "outputs": [],
      "source": [
        "result = llm.invoke(messages)"
      ]
    },
    {
      "cell_type": "code",
      "execution_count": null,
      "metadata": {
        "colab": {
          "base_uri": "https://localhost:8080/",
          "height": 35
        },
        "id": "V2cO-Y6rmU0c",
        "outputId": "7ba0dadf-d274-4865-cab5-c1d5f44da33a"
      },
      "outputs": [
        {
          "output_type": "execute_result",
          "data": {
            "text/plain": [
              "'嗨！'"
            ],
            "application/vnd.google.colaboratory.intrinsic+json": {
              "type": "string"
            }
          },
          "metadata": {},
          "execution_count": 7
        }
      ],
      "source": [
        "parser.invoke(result)"
      ]
    },
    {
      "cell_type": "markdown",
      "metadata": {
        "id": "4pdoP3PBmaVc"
      },
      "source": [
        "# 如何將流程【串】（chain）在一起？"
      ]
    },
    {
      "cell_type": "code",
      "execution_count": null,
      "metadata": {
        "id": "HJweDVkKmWHX"
      },
      "outputs": [],
      "source": [
        "chain = llm | parser"
      ]
    },
    {
      "cell_type": "code",
      "execution_count": null,
      "metadata": {
        "colab": {
          "base_uri": "https://localhost:8080/",
          "height": 35
        },
        "id": "A2toQRLBmsiv",
        "outputId": "ad4583b2-6b00-4130-e903-27c13073ad8b"
      },
      "outputs": [
        {
          "output_type": "execute_result",
          "data": {
            "text/plain": [
              "'嗨！'"
            ],
            "application/vnd.google.colaboratory.intrinsic+json": {
              "type": "string"
            }
          },
          "metadata": {},
          "execution_count": 9
        }
      ],
      "source": [
        "chain.invoke(messages)"
      ]
    },
    {
      "cell_type": "markdown",
      "metadata": {
        "id": "z2ft5yZUZ-O4"
      },
      "source": [
        "TODO: {查看 LangSmith}"
      ]
    },
    {
      "cell_type": "markdown",
      "metadata": {
        "id": "0CsyKQapnGF0"
      },
      "source": [
        "# 使用提示範本（PromptTemplate）"
      ]
    },
    {
      "cell_type": "code",
      "execution_count": null,
      "metadata": {
        "id": "zydjqX0dmvyF"
      },
      "outputs": [],
      "source": [
        "from langchain_core.prompts import ChatPromptTemplate"
      ]
    },
    {
      "cell_type": "code",
      "execution_count": null,
      "metadata": {
        "id": "rM54Md7vnY-5"
      },
      "outputs": [],
      "source": [
        "system_template = \"將以下訊息翻譯為 {language}:\""
      ]
    },
    {
      "cell_type": "code",
      "execution_count": null,
      "metadata": {
        "id": "kY2Z8eRVnbDu"
      },
      "outputs": [],
      "source": [
        "prompt_template = ChatPromptTemplate.from_messages(\n",
        "    [\n",
        "        (\"system\", system_template),\n",
        "        (\"user\", \"{text}\")\n",
        "    ]\n",
        ")"
      ]
    },
    {
      "cell_type": "code",
      "execution_count": null,
      "metadata": {
        "colab": {
          "base_uri": "https://localhost:8080/"
        },
        "id": "sLwlnu5AnjU_",
        "outputId": "26e4c0d4-d87f-427e-ef21-de711b621f62"
      },
      "outputs": [
        {
          "output_type": "execute_result",
          "data": {
            "text/plain": [
              "ChatPromptValue(messages=[SystemMessage(content='將以下訊息翻譯為 中文:', additional_kwargs={}, response_metadata={}), HumanMessage(content='hi', additional_kwargs={}, response_metadata={})])"
            ]
          },
          "metadata": {},
          "execution_count": 13
        }
      ],
      "source": [
        "result = prompt_template.invoke({\n",
        "  \"language\": \"中文\",\n",
        "  \"text\": \"hi\"\n",
        "})\n",
        "\n",
        "result"
      ]
    },
    {
      "cell_type": "code",
      "execution_count": null,
      "metadata": {
        "colab": {
          "base_uri": "https://localhost:8080/"
        },
        "id": "JXkuNGclnxiV",
        "outputId": "ee9fcdff-42eb-403a-d200-4349fb5f80d0"
      },
      "outputs": [
        {
          "output_type": "execute_result",
          "data": {
            "text/plain": [
              "[SystemMessage(content='將以下訊息翻譯為 中文:', additional_kwargs={}, response_metadata={}),\n",
              " HumanMessage(content='hi', additional_kwargs={}, response_metadata={})]"
            ]
          },
          "metadata": {},
          "execution_count": 14
        }
      ],
      "source": [
        "result.to_messages()"
      ]
    },
    {
      "cell_type": "markdown",
      "metadata": {
        "id": "p7PJDgwIoJYQ"
      },
      "source": [
        "# 將 PromptTempalte / LLM / OutputParser 串（Chain）在一起"
      ]
    },
    {
      "cell_type": "code",
      "execution_count": null,
      "metadata": {
        "id": "rUNVDlrUoZLL"
      },
      "outputs": [],
      "source": [
        "chain = prompt_template | llm | parser"
      ]
    },
    {
      "cell_type": "code",
      "execution_count": null,
      "metadata": {
        "colab": {
          "base_uri": "https://localhost:8080/",
          "height": 35
        },
        "id": "sjzA8jsIodQR",
        "outputId": "1fdbd277-a59a-4f5e-b9fd-00feb960c72c"
      },
      "outputs": [
        {
          "output_type": "execute_result",
          "data": {
            "text/plain": [
              "'嗨! 有什麼可以幫助您的嗎？'"
            ],
            "application/vnd.google.colaboratory.intrinsic+json": {
              "type": "string"
            }
          },
          "metadata": {},
          "execution_count": 16
        }
      ],
      "source": [
        "chain.invoke({\"language\": \"中文\", \"text\": \"hi\"})"
      ]
    },
    {
      "cell_type": "markdown",
      "metadata": {
        "id": "RgctKmuIqD5v"
      },
      "source": [
        "# STORM 應用實例\n",
        "- 產生相關主題"
      ]
    },
    {
      "cell_type": "code",
      "execution_count": null,
      "metadata": {
        "id": "ydkh3nGSsMjG"
      },
      "outputs": [],
      "source": [
        "topic = '建立一個專業的 LinkIn 首頁'"
      ]
    },
    {
      "cell_type": "code",
      "execution_count": null,
      "metadata": {
        "id": "68XiWP4aqXaI"
      },
      "outputs": [],
      "source": [
        "# Prompt\n",
        "prompt_sub_topic = ChatPromptTemplate.from_messages([\n",
        "    (\"system\", \"\"\"\n",
        "        我想寫一篇關於某個主題的長篇文章。我會給你主題，我希望你能提出 {subtopic_count} 個相關的子主題來擴展內容。\n",
        "    \"\"\"),\n",
        "    (\"user\", \"\"\"\n",
        "        主題： {topic}\n",
        "    \"\"\"),\n",
        "])\n",
        "\n",
        "# LLM\n",
        "llm = ChatOpenAI(model=\"gpt-3.5-turbo\")\n",
        "\n",
        "# Chain\n",
        "chain_sub_topic = (\n",
        "    prompt_sub_topic\n",
        "    | llm\n",
        "    | StrOutputParser()\n",
        ")"
      ]
    },
    {
      "cell_type": "code",
      "execution_count": null,
      "metadata": {
        "id": "gn5349Vjqj0e"
      },
      "outputs": [],
      "source": [
        "related_topic_result = chain_sub_topic.invoke({\n",
        "  'topic':'建立一個專業的 LinkIn 首頁',\n",
        "  'subtopic_count': 3\n",
        "})\n",
        "\n",
        "\n"
      ]
    },
    {
      "cell_type": "code",
      "execution_count": null,
      "metadata": {
        "colab": {
          "base_uri": "https://localhost:8080/",
          "height": 35
        },
        "id": "VKgl-31_sSOW",
        "outputId": "e0104036-a71e-4cc6-a596-589ea3d1ad4a"
      },
      "outputs": [
        {
          "output_type": "execute_result",
          "data": {
            "text/plain": [
              "'子主題一： 個人資料優化\\n子主題二： 精選展示作品\\n子主題三： 積極參與社群與互動'"
            ],
            "application/vnd.google.colaboratory.intrinsic+json": {
              "type": "string"
            }
          },
          "metadata": {},
          "execution_count": 20
        }
      ],
      "source": [
        "related_topic_result"
      ]
    },
    {
      "cell_type": "markdown",
      "metadata": {
        "id": "04UkPkBUrLFP"
      },
      "source": [
        "# 產生各類觀點"
      ]
    },
    {
      "cell_type": "code",
      "execution_count": null,
      "metadata": {
        "id": "mI1NqJW0rNpc"
      },
      "outputs": [],
      "source": [
        "from langchain_core.output_parsers import NumberedListOutputParser\n",
        "\n",
        "numbered_list_output_parser = NumberedListOutputParser()\n",
        "\n",
        "# Prompt\n",
        "# 下方 system prompt 不一定需要 {format_instructions}\n",
        "prompt_perspectives = ChatPromptTemplate.from_messages([\n",
        "    (\"system\", \"\"\"\n",
        "        你需要選擇一組由 {perspective_count} 位作家組成的團隊，他們將共同撰寫一篇關於這個主題的綜合性文章。每位作家都代表與此主題相關的不同觀點、角色或隸屬關系。\n",
        "        你可以使用其他相關主題作為靈感。對於每個角色，添加他們將重點關注的描述。請嚴格按照以下格式回答，不要添加任何額外內容：1. 第一位作家的可能職稱：觀點描述 \\n 2. 第二位作家的可能職稱：[觀點描述 \\n...\\n\\n\n",
        "\n",
        "\n",
        "    \"\"\"),\n",
        "    (\"user\", \"\"\"\n",
        "        主題： {topic}\n",
        "        相關主題：{related_topics}\n",
        "    \"\"\"),\n",
        "])\n",
        "\n",
        "# 如果使用 system message 使用 {format_instructions}，則需要如下指定 format_instructions 的格式。\n",
        "#prompt_perspectives = prompt_perspectives.partial(format_instructions=numbered_list_output_parser.get_format_instructions())\n",
        "\n",
        "# LLM\n",
        "llm = ChatOpenAI(model=\"gpt-3.5-turbo\")\n",
        "\n",
        "# Chain\n",
        "chain_perspectives = (\n",
        "    prompt_perspectives\n",
        "    | llm\n",
        "    | numbered_list_output_parser\n",
        ")"
      ]
    },
    {
      "cell_type": "code",
      "execution_count": null,
      "metadata": {
        "id": "9SaG_p5jrzK9"
      },
      "outputs": [],
      "source": [
        "perspectives_result = chain_perspectives.invoke({\n",
        "    'perspective_count': 3,\n",
        "    'topic': topic,\n",
        "    'related_topics': related_topic_result\n",
        "\n",
        "})"
      ]
    },
    {
      "cell_type": "code",
      "execution_count": null,
      "metadata": {
        "colab": {
          "base_uri": "https://localhost:8080/"
        },
        "id": "67QK41rYsjOZ",
        "outputId": "cb286b84-7236-43d9-a0af-049b71fc7a73"
      },
      "outputs": [
        {
          "output_type": "execute_result",
          "data": {
            "text/plain": [
              "['第一位作家的可能職稱：網路品牌顧問', '第二位作家的可能職稱：視覺設計師', '第三位作家的可能職稱：社群經理']"
            ]
          },
          "metadata": {},
          "execution_count": 23
        }
      ],
      "source": [
        "perspectives_result"
      ]
    },
    {
      "cell_type": "markdown",
      "metadata": {
        "id": "_JJeYa1mvDtS"
      },
      "source": [
        "# 如何將兩個 chain 再串在一起？"
      ]
    },
    {
      "cell_type": "code",
      "execution_count": null,
      "metadata": {
        "id": "dGynfU--vdQ4"
      },
      "outputs": [],
      "source": [
        "from langchain_core.runnables import RunnablePassthrough"
      ]
    },
    {
      "cell_type": "code",
      "execution_count": null,
      "metadata": {
        "id": "dtEqQJb1sksf"
      },
      "outputs": [],
      "source": [
        "chain_combine = (\n",
        "  chain_sub_topic\n",
        "  | { # 這個就是 Runnable Branch 的一種撰寫格式範例\n",
        "      'topic': lambda _: topic,\n",
        "      'related_topics': RunnablePassthrough(),\n",
        "      'perspective_count': lambda _: 3,\n",
        "  }\n",
        "  | chain_perspectives\n",
        ")"
      ]
    },
    {
      "cell_type": "code",
      "execution_count": null,
      "metadata": {
        "id": "S3BC6MBnv60O"
      },
      "outputs": [],
      "source": [
        "combine_result = chain_combine.invoke({\n",
        "    'topic': topic,\n",
        "    'subtopic_count': 3,\n",
        "})"
      ]
    },
    {
      "cell_type": "code",
      "execution_count": null,
      "metadata": {
        "colab": {
          "base_uri": "https://localhost:8080/"
        },
        "id": "9vr8gMWOwLs0",
        "outputId": "67ff8cad-6538-429f-88fd-489900f20024"
      },
      "outputs": [
        {
          "output_type": "execute_result",
          "data": {
            "text/plain": [
              "['**個人資料設定與維護**：',\n",
              " '**職業形象設計師**：強調如何透過視覺設計和個人品味來打造引人注目的個人檔案，包括封面照片和頭像的選擇，以及簡介的撰寫技巧。',\n",
              " '**有效的社交互動策略**：',\n",
              " '**社交專家**：專注於建立有意義的人脈關係和有效的互動策略，包括如何在 LinkedIn 上建立良好的互動，提高曝光率和建立專業形象。',\n",
              " '**個人品牌建立與維護**：',\n",
              " '**品牌營銷專家**：關注如何透過內容創作、推薦信的管理和與業界專家互動來建立個人品牌，提升專業聲譽和信任度。']"
            ]
          },
          "metadata": {},
          "execution_count": 27
        }
      ],
      "source": [
        "combine_result"
      ]
    },
    {
      "cell_type": "markdown",
      "metadata": {
        "id": "a_T1X2yZa_Ne"
      },
      "source": [
        "# 同學的練習\n",
        "- 將以上程式碼執行一次，確認可以執行\n",
        "- 修改 & 執行【最簡單的 LECL 範例】的提示詞\n",
        "    - 查看 [LangSmith](https://www.langchain.com/langsmith)，觀察執行過程\n",
        "- 修改 & 執行【使用提示範本】的提示詞\n",
        "    - 查看 [LangSmith](https://www.langchain.com/langsmith)，觀察執行過程\n",
        "- 【STORM 應用實例】段落，修改 topic 並且執行看看\n",
        "    - 查看 [LangSmith](https://www.langchain.com/langsmith)，觀察執行過程\n",
        "- 給同學 10 分鐘的時間練習"
      ]
    },
    {
      "cell_type": "code",
      "execution_count": null,
      "metadata": {
        "id": "uwgn89_bwMFo"
      },
      "outputs": [],
      "source": []
    }
  ],
  "metadata": {
    "colab": {
      "provenance": []
    },
    "kernelspec": {
      "display_name": "Python 3",
      "name": "python3"
    },
    "language_info": {
      "name": "python"
    }
  },
  "nbformat": 4,
  "nbformat_minor": 0
}