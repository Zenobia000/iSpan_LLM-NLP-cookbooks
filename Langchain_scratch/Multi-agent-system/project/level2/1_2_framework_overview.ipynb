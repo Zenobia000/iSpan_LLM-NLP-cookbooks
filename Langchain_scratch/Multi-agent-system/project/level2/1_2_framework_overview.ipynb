{
 "cells": [
  {
   "cell_type": "code",
   "execution_count": 5,
   "metadata": {},
   "outputs": [
    {
     "data": {
      "text/plain": [
       "True"
      ]
     },
     "execution_count": 5,
     "metadata": {},
     "output_type": "execute_result"
    }
   ],
   "source": [
    "\"\"\"\n",
    "LangChain 0.3+ 框架與核心概念\n",
    "此範例展示 LangChain 的基本架構和核心組件\n",
    "\n",
    "需求套件:\n",
    "- langchain>=0.3.0\n",
    "- langchain-openai>=0.0.2\n",
    "- python-dotenv>=0.19.0\n",
    "\"\"\"\n",
    "import langchain\n",
    "from langchain_core.prompts import PromptTemplate\n",
    "from langchain_core.output_parsers import StrOutputParser\n",
    "from langchain_openai import ChatOpenAI\n",
    "from langchain_core.runnables import RunnablePassthrough\n",
    "from dotenv import load_dotenv\n",
    "import os\n",
    "\n",
    "# 載入環境變數\n",
    "load_dotenv()"
   ]
  },
  {
   "cell_type": "code",
   "execution_count": 4,
   "metadata": {},
   "outputs": [
    {
     "name": "stdout",
     "output_type": "stream",
     "text": [
      "0.3.15\n"
     ]
    }
   ],
   "source": [
    "print(langchain.__version__)"
   ]
  },
  {
   "cell_type": "code",
   "execution_count": 7,
   "metadata": {},
   "outputs": [
    {
     "name": "stdout",
     "output_type": "stream",
     "text": [
      "=== LangChain 0.3+ 框架展示 ===\n",
      "\n",
      "問題: 什麼是 LangChain 0.3+？\n",
      "回答: LangChain 0.3+ 是一個工具包版本，用於幫助開發者構建以語言模型為核心的應用程式。它提供了模組化的組件和功能，使得開發者能夠更容易地設計和管理複雜的自然語言處理工作流程。這些功能包括文本生成、語言理解、記憶管理等，支持與多種語言模型集成。\n",
      "\n",
      "問題: LangChain 0.3+ 有哪些主要更新？\n",
      "回答: 在 LangChain 0.3+ 的主要更新中，通常會包括以下幾個方面：\n",
      "\n",
      "1. **模組擴展**：增加了對更多 LLM（大型語言模型）和工具的支持，提升了兼容性。\n",
      "2. **性能優化**：改進了系統的效率，以提升處理速度和資源利用。\n",
      "3. **使用者體驗**：增強了 API 的可用性和易用性，改善了文檔與範例。\n",
      "4. **新功能**：引入了新的功能模組或 API 接口，以支持更複雜的應用場景。\n",
      "5. **錯誤修正**：修正了先前版本中的 Bug，提升了系統的穩定性。\n",
      "\n",
      "具體的更新細節可以參考官方的發佈說明或更新日誌。\n"
     ]
    }
   ],
   "source": [
    "\n",
    "\n",
    "def demonstrate_core_components():\n",
    "    \"\"\"\n",
    "    展示 LangChain 0.3+ 的核心組件：\n",
    "    1. Model: 語言模型 (使用 ChatOpenAI)\n",
    "    2. PromptTemplate: 提示詞模板\n",
    "    3. RunnablePassthrough: 數據流處理\n",
    "    4. OutputParser: 輸出解析\n",
    "    \"\"\"\n",
    "    \n",
    "    # 1. 初始化 LLM\n",
    "    model = ChatOpenAI(\n",
    "        temperature=0.7,\n",
    "        model=\"gpt-4o\"\n",
    "    )\n",
    "    \n",
    "    # 2. 建立提示詞模板\n",
    "    prompt = PromptTemplate.from_template(\"\"\"\n",
    "    你是一位專業的 AI 助理。\n",
    "    請用簡潔的方式回答以下問題：\n",
    "    問題: {question}\n",
    "    \"\"\")\n",
    "    \n",
    "    # 3. 建立輸出解析器\n",
    "    output_parser = StrOutputParser()\n",
    "    \n",
    "    # 4. 建立 Chain (使用 LCEL - LangChain Expression Language)\n",
    "    chain = (\n",
    "        {\"question\": RunnablePassthrough()} \n",
    "        | prompt \n",
    "        | model \n",
    "        | output_parser\n",
    "    )\n",
    "    \n",
    "    return chain\n",
    "\n",
    "def main():\n",
    "    \"\"\"\n",
    "    主程式：展示如何使用 LangChain 0.3+ 進行基本對話\n",
    "    \"\"\"\n",
    "    print(\"=== LangChain 0.3+ 框架展示 ===\")\n",
    "    \n",
    "    # 檢查環境變數\n",
    "    if not os.getenv(\"OPENAI_API_KEY\"):\n",
    "        print(\"請先設定 OPENAI_API_KEY 環境變數！\")\n",
    "        return\n",
    "    \n",
    "    try:\n",
    "        # 建立對話 chain\n",
    "        chain = demonstrate_core_components()\n",
    "        \n",
    "        # 執行對話\n",
    "        questions = [\n",
    "            \"什麼是 LangChain 0.3+？\",\n",
    "            \"LangChain 0.3+ 有哪些主要更新？\"\n",
    "        ]\n",
    "        \n",
    "        for question in questions:\n",
    "            print(f\"\\n問題: {question}\")\n",
    "            response = chain.invoke(question)\n",
    "            print(f\"回答: {response}\")\n",
    "            \n",
    "    except Exception as e:\n",
    "        print(f\"執行過程發生錯誤: {str(e)}\")\n",
    "\n",
    "if __name__ == \"__main__\":\n",
    "    main() "
   ]
  },
  {
   "cell_type": "code",
   "execution_count": null,
   "metadata": {},
   "outputs": [],
   "source": []
  }
 ],
 "metadata": {
  "kernelspec": {
   "display_name": "Python 3",
   "language": "python",
   "name": "python3"
  },
  "language_info": {
   "codemirror_mode": {
    "name": "ipython",
    "version": 3
   },
   "file_extension": ".py",
   "mimetype": "text/x-python",
   "name": "python",
   "nbconvert_exporter": "python",
   "pygments_lexer": "ipython3",
   "version": "3.10.7"
  }
 },
 "nbformat": 4,
 "nbformat_minor": 2
}
