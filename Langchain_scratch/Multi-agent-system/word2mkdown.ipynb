{
 "cells": [
  {
   "cell_type": "code",
   "execution_count": 1,
   "metadata": {},
   "outputs": [
    {
     "name": "stdout",
     "output_type": "stream",
     "text": [
      "轉換成功！Markdown 文件已儲存至 C:\\Users\\xdxd2\\Documents\\GitHub\\iSpan_LLM-NLP-cookbooks\\Langchain_scratch\\Multi-agent-system\\基於運算思維的新聞寫作多智能體系統軟體開發通用流程框架.md\n"
     ]
    }
   ],
   "source": [
    "import mammoth\n",
    "from markdownify import markdownify as md\n",
    "\n",
    "def convert_docx_to_markdown_mammoth(input_path, output_path):\n",
    "    \"\"\"\n",
    "    使用 Mammoth 將 Word (.docx) 文件轉換為 HTML，再使用 Markdownify 轉換為 Markdown。\n",
    "\n",
    "    :param input_path: 輸入的 Word 文件路徑\n",
    "    :param output_path: 輸出的 Markdown 文件路徑\n",
    "    \"\"\"\n",
    "    try:\n",
    "        # 讀取 Word 文件並轉換為 HTML\n",
    "        with open(input_path, \"rb\") as docx_file:\n",
    "            result = mammoth.convert_to_html(docx_file)\n",
    "            html = result.value  # 獲取轉換後的 HTML 字串\n",
    "        \n",
    "        # 將 HTML 轉換為 Markdown\n",
    "        markdown = md(html)\n",
    "        \n",
    "        # 將 Markdown 寫入輸出文件\n",
    "        with open(output_path, \"w\", encoding=\"utf-8\") as md_file:\n",
    "            md_file.write(markdown)\n",
    "        \n",
    "        print(f\"轉換成功！Markdown 文件已儲存至 {output_path}\")\n",
    "    except Exception as e:\n",
    "        print(f\"轉換失敗：{e}\")\n",
    "\n",
    "if __name__ == \"__main__\":\n",
    "    # 設定輸入與輸出文件路徑\n",
    "    input_docx = r'C:\\Users\\xdxd2\\Documents\\GitHub\\iSpan_LLM-NLP-cookbooks\\Langchain_scratch\\Multi-agent-system\\基於運算思維的新聞寫作多智能體系統軟體開發通用流程框架.docx'\n",
    "    output_md = r'C:\\Users\\xdxd2\\Documents\\GitHub\\iSpan_LLM-NLP-cookbooks\\Langchain_scratch\\Multi-agent-system\\基於運算思維的新聞寫作多智能體系統軟體開發通用流程框架.md'\n",
    "    \n",
    "    # 執行轉換\n",
    "    convert_docx_to_markdown_mammoth(input_docx, output_md)\n",
    "\n"
   ]
  }
 ],
 "metadata": {
  "kernelspec": {
   "display_name": "Python 3",
   "language": "python",
   "name": "python3"
  },
  "language_info": {
   "codemirror_mode": {
    "name": "ipython",
    "version": 3
   },
   "file_extension": ".py",
   "mimetype": "text/x-python",
   "name": "python",
   "nbconvert_exporter": "python",
   "pygments_lexer": "ipython3",
   "version": "3.10.7"
  }
 },
 "nbformat": 4,
 "nbformat_minor": 2
}
