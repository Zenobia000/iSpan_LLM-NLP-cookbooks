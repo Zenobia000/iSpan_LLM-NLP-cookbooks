{
 "cells": [
  {
   "cell_type": "markdown",
   "metadata": {
    "id": "TDMuMBllAFp7"
   },
   "source": [
    "這份 Notebook 示範 Similarity(相似性) 和 Relevance(相關性) 的不同\n",
    "\n",
    "透過 Vector embeddings 搜索出來的相似性高，但不一定是和問題最相關的內容，因此可透過 Reranker 模型再重新排序相關性。\n",
    "\n",
    "用 Embeddings 檢索是快，但不是最準的。建議做二階段檢索。\n",
    "\n",
    "更多 Reranker 評測: https://ihower.tw/blog/archives/12227"
   ]
  },
  {
   "cell_type": "code",
   "execution_count": 1,
   "metadata": {
    "executionInfo": {
     "elapsed": 1097,
     "status": "ok",
     "timestamp": 1746282478814,
     "user": {
      "displayName": "張文鈿（ihower）",
      "userId": "16942569988483049654"
     },
     "user_tz": -480
    },
    "id": "gWxxJlXS2xJh"
   },
   "outputs": [],
   "source": [
    "# from google.colab import userdata\n",
    "# openai_api_key = userdata.get('openai_api_key')"
   ]
  },
  {
   "cell_type": "code",
   "execution_count": 1,
   "metadata": {
    "executionInfo": {
     "elapsed": 281,
     "status": "ok",
     "timestamp": 1746282479101,
     "user": {
      "displayName": "張文鈿（ihower）",
      "userId": "16942569988483049654"
     },
     "user_tz": -480
    },
    "id": "vgiSKzKI22ZF"
   },
   "outputs": [],
   "source": [
    "import requests\n",
    "import json\n",
    "from pprint import pp"
   ]
  },
  {
   "cell_type": "code",
   "execution_count": 12,
   "metadata": {},
   "outputs": [],
   "source": [
    "# Import necessary libraries\n",
    "## 設定 OpenAI API Key 變數\n",
    "from dotenv import load_dotenv\n",
    "import os\n",
    "\n",
    "# Load the environment variables from .env file\n",
    "load_dotenv()\n",
    "\n",
    "# Access the API key\n",
    "openai_api_key = os.getenv('OPENAI_API_KEY')\n",
    "cohere_api_key = os.getenv('COHERE_API_KEY')\n",
    "\n",
    "\n",
    "\n"
   ]
  },
  {
   "cell_type": "code",
   "execution_count": 3,
   "metadata": {
    "executionInfo": {
     "elapsed": 28,
     "status": "ok",
     "timestamp": 1746282479122,
     "user": {
      "displayName": "張文鈿（ihower）",
      "userId": "16942569988483049654"
     },
     "user_tz": -480
    },
    "id": "csaZWtoB24sP"
   },
   "outputs": [],
   "source": [
    "def get_embeddings(input, dimensions = 1536, model=\"text-embedding-3-small\"):\n",
    "  payload = { \"input\": input, \"model\": model, \"dimensions\": dimensions }\n",
    "  headers = { \"Authorization\": f'Bearer {openai_api_key}', \"Content-Type\": \"application/json\" }\n",
    "  response = requests.post('https://api.openai.com/v1/embeddings', headers = headers, data = json.dumps(payload) )\n",
    "  obj = json.loads(response.text)\n",
    "  if response.status_code == 200 :\n",
    "    return obj[\"data\"][0][\"embedding\"]\n",
    "  else :\n",
    "    return obj[\"error\"]"
   ]
  },
  {
   "cell_type": "code",
   "execution_count": 4,
   "metadata": {
    "executionInfo": {
     "elapsed": 35,
     "status": "ok",
     "timestamp": 1746282479158,
     "user": {
      "displayName": "張文鈿（ihower）",
      "userId": "16942569988483049654"
     },
     "user_tz": -480
    },
    "id": "Qo9HXs8g3UU3"
   },
   "outputs": [],
   "source": [
    "import numpy as np\n",
    "def cosine_similarity(a, b):\n",
    "    return np.dot(a, b) / (np.linalg.norm(a) * np.linalg.norm(b))"
   ]
  },
  {
   "cell_type": "markdown",
   "metadata": {
    "id": "gSIZz4uEZ-Hs"
   },
   "source": [
    "## 我們想要判斷用戶 question 和 chunk_a, chunk_b, chunk_c 有多相關?"
   ]
  },
  {
   "cell_type": "code",
   "execution_count": 5,
   "metadata": {
    "executionInfo": {
     "elapsed": 0,
     "status": "ok",
     "timestamp": 1746282479159,
     "user": {
      "displayName": "張文鈿（ihower）",
      "userId": "16942569988483049654"
     },
     "user_tz": -480
    },
    "id": "5xmj2QY5Z9cm"
   },
   "outputs": [],
   "source": [
    "question = \"為什麼良好的睡眠對於保持健康至關重要?\"\n",
    "\n",
    "chunk_a = \"均衡良好的飲食對於保持健康至關重要，因為它提供身體所需的各種營養素。\" # 相似度高，但其實相關度較低\n",
    "chunk_b = \"深度睡眠期間，大腦會進行記憶固化和身體修復工作\" # 相似度低，但其實相關度高\n",
    "chunk_c = \"定期進行戶外運動對於保持良好的社交關係至關重要，因為它提供了與他人互動的機會。\" # 相似度也高，但是非常不相關"
   ]
  },
  {
   "cell_type": "markdown",
   "metadata": {
    "id": "MEFtaYZqaN4z"
   },
   "source": [
    "## 方法1: 用 embedding 模型計算 question 和 context a,b,c 的相似性分數"
   ]
  },
  {
   "cell_type": "code",
   "execution_count": 6,
   "metadata": {
    "executionInfo": {
     "elapsed": 2494,
     "status": "ok",
     "timestamp": 1746282538157,
     "user": {
      "displayName": "張文鈿（ihower）",
      "userId": "16942569988483049654"
     },
     "user_tz": -480
    },
    "id": "rznXjxZnaP8C"
   },
   "outputs": [],
   "source": [
    "question_embedding = get_embeddings(question)\n",
    "chunk_a_embedding = get_embeddings(chunk_a)\n",
    "chunk_b_embedding = get_embeddings(chunk_b)\n",
    "chunk_c_embedding = get_embeddings(chunk_c)"
   ]
  },
  {
   "cell_type": "markdown",
   "metadata": {
    "id": "cog_KPq7afIX"
   },
   "source": [
    "A 句相似度高(因為句型非常相似)，但其實相關度比較低。問題是問睡眠，這句講飲食。"
   ]
  },
  {
   "cell_type": "code",
   "execution_count": 7,
   "metadata": {
    "colab": {
     "base_uri": "https://localhost:8080/"
    },
    "executionInfo": {
     "elapsed": 3,
     "status": "ok",
     "timestamp": 1746282538166,
     "user": {
      "displayName": "張文鈿（ihower）",
      "userId": "16942569988483049654"
     },
     "user_tz": -480
    },
    "id": "d-nTaxV0absR",
    "outputId": "f4b9a3a2-ff31-4f7d-9100-cd9d0253da75"
   },
   "outputs": [
    {
     "data": {
      "text/plain": [
       "0.5500915565834913"
      ]
     },
     "execution_count": 7,
     "metadata": {},
     "output_type": "execute_result"
    }
   ],
   "source": [
    "cosine_similarity(question_embedding, chunk_a_embedding)"
   ]
  },
  {
   "cell_type": "markdown",
   "metadata": {
    "id": "o2aHHteEahug"
   },
   "source": [
    "B 句其實最相關，都是在講睡眠，但分數卻比 A 句還低"
   ]
  },
  {
   "cell_type": "code",
   "execution_count": 8,
   "metadata": {
    "colab": {
     "base_uri": "https://localhost:8080/"
    },
    "executionInfo": {
     "elapsed": 3,
     "status": "ok",
     "timestamp": 1746282539779,
     "user": {
      "displayName": "張文鈿（ihower）",
      "userId": "16942569988483049654"
     },
     "user_tz": -480
    },
    "id": "fNlnbPcNaiw_",
    "outputId": "be8f13b1-b2f2-4382-acec-ff4d29f73b4e"
   },
   "outputs": [
    {
     "data": {
      "text/plain": [
       "0.49571930969692773"
      ]
     },
     "execution_count": 8,
     "metadata": {},
     "output_type": "execute_result"
    }
   ],
   "source": [
    "cosine_similarity(question_embedding, chunk_b_embedding)"
   ]
  },
  {
   "cell_type": "markdown",
   "metadata": {
    "id": "zjhb5hIoamQ9"
   },
   "source": [
    "C 句更不相關"
   ]
  },
  {
   "cell_type": "code",
   "execution_count": 9,
   "metadata": {
    "colab": {
     "base_uri": "https://localhost:8080/"
    },
    "executionInfo": {
     "elapsed": 24,
     "status": "ok",
     "timestamp": 1745928291549,
     "user": {
      "displayName": "張文鈿（ihower）",
      "userId": "16942569988483049654"
     },
     "user_tz": -480
    },
    "id": "NqUavROkaqjg",
    "outputId": "c189441b-30c8-41ad-afe8-6c0037be2dec"
   },
   "outputs": [
    {
     "data": {
      "text/plain": [
       "0.34479794841217687"
      ]
     },
     "execution_count": 9,
     "metadata": {},
     "output_type": "execute_result"
    }
   ],
   "source": [
    "cosine_similarity(question_embedding, chunk_c_embedding)"
   ]
  },
  {
   "cell_type": "markdown",
   "metadata": {
    "id": "10erjH7PSlqV"
   },
   "source": [
    "## 方法二: 使用 Cohere Reranking API\n",
    "\n",
    "* https://cohere.com/rerank\n",
    "* https://docs.cohere.com/docs/reranking\n",
    "\n",
    "這需要去申請 cohere API key\n",
    "\n",
    "* 相比 embeddings 模型是先算出兩段內容的向量，然後計算向量相似度。適合大規模計算，用向量資料庫上百萬千萬筆都不成問題。\n",
    "* reranking 模型是輸入兩段內容，輸出相關性分數。更準確但是效能較差，幾十筆幾百筆吧。"
   ]
  },
  {
   "cell_type": "code",
   "execution_count": 10,
   "metadata": {
    "colab": {
     "base_uri": "https://localhost:8080/"
    },
    "executionInfo": {
     "elapsed": 5960,
     "status": "ok",
     "timestamp": 1745928755563,
     "user": {
      "displayName": "張文鈿（ihower）",
      "userId": "16942569988483049654"
     },
     "user_tz": -480
    },
    "id": "rf3Apevy3hfo",
    "outputId": "92016e1d-ac6c-43e7-957b-57d245dc915a"
   },
   "outputs": [
    {
     "name": "stdout",
     "output_type": "stream",
     "text": [
      "Looking in indexes: https://mirrors.aliyun.com/pypi/simple/\n",
      "Requirement already satisfied: cohere in c:\\users\\xdxd2\\appdata\\local\\programs\\python\\python311\\lib\\site-packages (5.13.11)\n",
      "Requirement already satisfied: fastavro<2.0.0,>=1.9.4 in c:\\users\\xdxd2\\appdata\\local\\programs\\python\\python311\\lib\\site-packages (from cohere) (1.10.0)\n",
      "Requirement already satisfied: httpx>=0.21.2 in c:\\users\\xdxd2\\appdata\\local\\programs\\python\\python311\\lib\\site-packages (from cohere) (0.28.1)\n",
      "Requirement already satisfied: httpx-sse==0.4.0 in c:\\users\\xdxd2\\appdata\\local\\programs\\python\\python311\\lib\\site-packages (from cohere) (0.4.0)\n",
      "Requirement already satisfied: pydantic>=1.9.2 in c:\\users\\xdxd2\\appdata\\local\\programs\\python\\python311\\lib\\site-packages (from cohere) (2.10.6)\n",
      "Requirement already satisfied: pydantic-core<3.0.0,>=2.18.2 in c:\\users\\xdxd2\\appdata\\local\\programs\\python\\python311\\lib\\site-packages (from cohere) (2.27.2)\n",
      "Requirement already satisfied: requests<3.0.0,>=2.0.0 in c:\\users\\xdxd2\\appdata\\local\\programs\\python\\python311\\lib\\site-packages (from cohere) (2.32.3)\n",
      "Requirement already satisfied: tokenizers<1,>=0.15 in c:\\users\\xdxd2\\appdata\\local\\programs\\python\\python311\\lib\\site-packages (from cohere) (0.19.1)\n",
      "Requirement already satisfied: types-requests<3.0.0,>=2.0.0 in c:\\users\\xdxd2\\appdata\\local\\programs\\python\\python311\\lib\\site-packages (from cohere) (2.32.0.20241016)\n",
      "Requirement already satisfied: typing_extensions>=4.0.0 in c:\\users\\xdxd2\\appdata\\local\\programs\\python\\python311\\lib\\site-packages (from cohere) (4.13.2)\n",
      "Requirement already satisfied: anyio in c:\\users\\xdxd2\\appdata\\local\\programs\\python\\python311\\lib\\site-packages (from httpx>=0.21.2->cohere) (4.9.0)\n",
      "Requirement already satisfied: certifi in c:\\users\\xdxd2\\appdata\\local\\programs\\python\\python311\\lib\\site-packages (from httpx>=0.21.2->cohere) (2025.4.26)\n",
      "Requirement already satisfied: httpcore==1.* in c:\\users\\xdxd2\\appdata\\local\\programs\\python\\python311\\lib\\site-packages (from httpx>=0.21.2->cohere) (1.0.9)\n",
      "Requirement already satisfied: idna in c:\\users\\xdxd2\\appdata\\local\\programs\\python\\python311\\lib\\site-packages (from httpx>=0.21.2->cohere) (3.10)\n",
      "Requirement already satisfied: h11>=0.16 in c:\\users\\xdxd2\\appdata\\local\\programs\\python\\python311\\lib\\site-packages (from httpcore==1.*->httpx>=0.21.2->cohere) (0.16.0)\n",
      "Requirement already satisfied: annotated-types>=0.6.0 in c:\\users\\xdxd2\\appdata\\local\\programs\\python\\python311\\lib\\site-packages (from pydantic>=1.9.2->cohere) (0.7.0)\n",
      "Requirement already satisfied: charset-normalizer<4,>=2 in c:\\users\\xdxd2\\appdata\\local\\programs\\python\\python311\\lib\\site-packages (from requests<3.0.0,>=2.0.0->cohere) (3.4.1)\n",
      "Requirement already satisfied: urllib3<3,>=1.21.1 in c:\\users\\xdxd2\\appdata\\local\\programs\\python\\python311\\lib\\site-packages (from requests<3.0.0,>=2.0.0->cohere) (2.4.0)\n",
      "Requirement already satisfied: huggingface-hub<1.0,>=0.16.4 in c:\\users\\xdxd2\\appdata\\local\\programs\\python\\python311\\lib\\site-packages (from tokenizers<1,>=0.15->cohere) (0.28.1)\n",
      "Requirement already satisfied: filelock in c:\\users\\xdxd2\\appdata\\local\\programs\\python\\python311\\lib\\site-packages (from huggingface-hub<1.0,>=0.16.4->tokenizers<1,>=0.15->cohere) (3.18.0)\n",
      "Requirement already satisfied: fsspec>=2023.5.0 in c:\\users\\xdxd2\\appdata\\local\\programs\\python\\python311\\lib\\site-packages (from huggingface-hub<1.0,>=0.16.4->tokenizers<1,>=0.15->cohere) (2024.3.1)\n",
      "Requirement already satisfied: packaging>=20.9 in c:\\users\\xdxd2\\appdata\\local\\programs\\python\\python311\\lib\\site-packages (from huggingface-hub<1.0,>=0.16.4->tokenizers<1,>=0.15->cohere) (25.0)\n",
      "Requirement already satisfied: pyyaml>=5.1 in c:\\users\\xdxd2\\appdata\\local\\programs\\python\\python311\\lib\\site-packages (from huggingface-hub<1.0,>=0.16.4->tokenizers<1,>=0.15->cohere) (6.0.1)\n",
      "Requirement already satisfied: tqdm>=4.42.1 in c:\\users\\xdxd2\\appdata\\local\\programs\\python\\python311\\lib\\site-packages (from huggingface-hub<1.0,>=0.16.4->tokenizers<1,>=0.15->cohere) (4.67.1)\n",
      "Requirement already satisfied: sniffio>=1.1 in c:\\users\\xdxd2\\appdata\\local\\programs\\python\\python311\\lib\\site-packages (from anyio->httpx>=0.21.2->cohere) (1.3.1)\n",
      "Requirement already satisfied: colorama in c:\\users\\xdxd2\\appdata\\local\\programs\\python\\python311\\lib\\site-packages (from tqdm>=4.42.1->huggingface-hub<1.0,>=0.16.4->tokenizers<1,>=0.15->cohere) (0.4.6)\n"
     ]
    },
    {
     "name": "stderr",
     "output_type": "stream",
     "text": [
      "\n",
      "[notice] A new release of pip is available: 24.1.1 -> 25.1.1\n",
      "[notice] To update, run: python.exe -m pip install --upgrade pip\n"
     ]
    }
   ],
   "source": [
    "!pip install cohere"
   ]
  },
  {
   "cell_type": "code",
   "execution_count": 15,
   "metadata": {
    "id": "gPUxEhtV5xDi"
   },
   "outputs": [],
   "source": [
    "import cohere\n",
    "import cohere\n",
    "\n",
    "co = cohere.ClientV2(api_key=cohere_api_key)\n"
   ]
  },
  {
   "cell_type": "markdown",
   "metadata": {
    "id": "Zn1UNtEY_0Lr"
   },
   "source": [
    "## 用 Cohere Reranking 給分排序\n",
    "\n",
    "https://docs.cohere.com/docs/rerank-2"
   ]
  },
  {
   "cell_type": "markdown",
   "metadata": {
    "id": "3HvCgNDm9mjn"
   },
   "source": [
    "B句比A句更相關，的確分數變成最高了。C 句的相關分數超低"
   ]
  },
  {
   "cell_type": "markdown",
   "metadata": {
    "id": "JZNtUYkuklW2"
   },
   "source": []
  },
  {
   "cell_type": "code",
   "execution_count": 16,
   "metadata": {
    "colab": {
     "base_uri": "https://localhost:8080/"
    },
    "executionInfo": {
     "elapsed": 125,
     "status": "ok",
     "timestamp": 1745929000301,
     "user": {
      "displayName": "張文鈿（ihower）",
      "userId": "16942569988483049654"
     },
     "user_tz": -480
    },
    "id": "76GUNJ9L_mgl",
    "outputId": "53a3bfd2-fbf9-4fdf-cd57-b9cfd0a06ee5"
   },
   "outputs": [
    {
     "data": {
      "text/plain": [
       "[V2RerankResponseResultsItem(document=None, index=1, relevance_score=0.7285552),\n",
       " V2RerankResponseResultsItem(document=None, index=0, relevance_score=0.641647),\n",
       " V2RerankResponseResultsItem(document=None, index=2, relevance_score=0.007695647)]"
      ]
     },
     "execution_count": 16,
     "metadata": {},
     "output_type": "execute_result"
    }
   ],
   "source": [
    "result2 = co.rerank(query=question, documents=[chunk_a, chunk_b, chunk_c], top_n=3, model='rerank-multilingual-v3.0')\n",
    "result2.results"
   ]
  },
  {
   "cell_type": "markdown",
   "metadata": {
    "id": "WpQgaU_legxc"
   },
   "source": [
    "## 用 RankGPT 排序"
   ]
  },
  {
   "cell_type": "markdown",
   "metadata": {
    "id": "F5dkf_w2fo_5"
   },
   "source": [
    "也有人發明可以用 LLM 來做相關性排序，不過成本比較高也比較慢啦"
   ]
  },
  {
   "cell_type": "code",
   "execution_count": 17,
   "metadata": {
    "id": "UwXNeXQmer-K"
   },
   "outputs": [],
   "source": [
    "def get_completion(messages, model=\"gpt-4.1-nano\", temperature=0, format_type=None):\n",
    "  payload = { \"model\": model, \"temperature\": temperature, \"messages\": messages }\n",
    "  if format_type:\n",
    "    payload[\"response_format\"] =  { \"type\": format_type }\n",
    "\n",
    "  headers = { \"Authorization\": f'Bearer {openai_api_key}', \"Content-Type\": \"application/json\" }\n",
    "  response = requests.post('https://api.openai.com/v1/chat/completions', headers = headers, data = json.dumps(payload) )\n",
    "  obj = json.loads(response.text)\n",
    "  if response.status_code == 200 :\n",
    "    return obj[\"choices\"][0][\"message\"][\"content\"]\n",
    "  else :\n",
    "    return obj[\"error\"]"
   ]
  },
  {
   "cell_type": "code",
   "execution_count": 18,
   "metadata": {
    "colab": {
     "base_uri": "https://localhost:8080/",
     "height": 35
    },
    "executionInfo": {
     "elapsed": 454,
     "status": "ok",
     "timestamp": 1745928788052,
     "user": {
      "displayName": "張文鈿（ihower）",
      "userId": "16942569988483049654"
     },
     "user_tz": -480
    },
    "id": "DqQ3sN2NexMv",
    "outputId": "a1b02ce6-9cf7-4293-8b14-a341abf7facc"
   },
   "outputs": [
    {
     "data": {
      "text/plain": [
       "'[1] > [0] > [2]'"
      ]
     },
     "execution_count": 18,
     "metadata": {},
     "output_type": "execute_result"
    }
   ],
   "source": [
    "messages=[\n",
    "    {\"role\": \"system\", \"content\": \"You are RankGPT, an intelligent assistant that can rank passages based on their relevancy to the query.\"},\n",
    "    {\"role\": \"user\", \"content\": f\"I will provide you with 3 passages, each indicated by number identifier []. Rank the passages based on their relevance to query: {question}\" },\n",
    "    {\"role\": \"assistant\", \"content\": \"Okay, please provide the passages.\"},\n",
    "    {\"role\": \"user\", \"content\": f\"[0] {chunk_a}\" },\n",
    "    {\"role\": \"assistant\", \"content\": \"Received passage [0]\"},\n",
    "    {\"role\": \"user\", \"content\": f\"[1] {chunk_b}\" },\n",
    "    {\"role\": \"assistant\", \"content\": \"Received passage [1]\"},\n",
    "    {\"role\": \"user\", \"content\": f\"[2] {chunk_c}\" },\n",
    "    {\"role\": \"assistant\", \"content\": \"Received passage [2]\"},\n",
    "    {\"role\": \"user\", \"content\": f\"Search Query: {question}. Rank the 3 passages above based on their relevance to the search query. The passages should be listed in descending order using identifiers. The most relevant passages should be listed first. The output format should be [] > [], e.g., [1] > [2]. Only response the ranking results, do not say any word or explain.\" },\n",
    "]\n",
    "\n",
    "result = get_completion(messages)\n",
    "result"
   ]
  },
  {
   "cell_type": "markdown",
   "metadata": {
    "id": "nKOrzGhef2Q7"
   },
   "source": [
    "結果跟 Cohere ranker 一樣 :)"
   ]
  },
  {
   "cell_type": "markdown",
   "metadata": {
    "id": "DT1jz4-ZeaDg"
   },
   "source": [
    "Reanker model 評測: https://ihower.tw/blog/archives/12227"
   ]
  },
  {
   "cell_type": "code",
   "execution_count": null,
   "metadata": {
    "id": "-8aWO_Q8zh6i"
   },
   "outputs": [],
   "source": []
  }
 ],
 "metadata": {
  "colab": {
   "authorship_tag": "ABX9TyMd+FiGw7Z8VdK1Izdh7XOY",
   "provenance": []
  },
  "kernelspec": {
   "display_name": "Python 3",
   "name": "python3"
  },
  "language_info": {
   "codemirror_mode": {
    "name": "ipython",
    "version": 3
   },
   "file_extension": ".py",
   "mimetype": "text/x-python",
   "name": "python",
   "nbconvert_exporter": "python",
   "pygments_lexer": "ipython3",
   "version": "3.11.9"
  }
 },
 "nbformat": 4,
 "nbformat_minor": 0
}
