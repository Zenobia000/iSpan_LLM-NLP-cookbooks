{
 "cells": [
  {
   "cell_type": "markdown",
   "metadata": {},
   "source": [
    "## Prompt Chaining 結合外部工具包括 Google 搜尋、計算機和股價API\n"
   ]
  },
  {
   "cell_type": "code",
   "execution_count": 29,
   "metadata": {},
   "outputs": [],
   "source": [
    "# Import necessary libraries\n",
    "## 設定 OpenAI API Key 變數\n",
    "from dotenv import load_dotenv\n",
    "import os\n",
    "\n",
    "# Load the environment variables from .env file\n",
    "load_dotenv()\n",
    "\n",
    "# Access the API key\n",
    "openai_api_key = os.getenv('OPENAI_API_KEY')\n"
   ]
  },
  {
   "cell_type": "code",
   "execution_count": 51,
   "metadata": {},
   "outputs": [],
   "source": [
    "# from google.colab import userdata\n",
    "# openai_api_key = userdata.get('openai_api_key')"
   ]
  },
  {
   "cell_type": "code",
   "execution_count": 30,
   "metadata": {},
   "outputs": [],
   "source": [
    "import requests\n",
    "import json\n",
    "from pprint import pp"
   ]
  },
  {
   "cell_type": "code",
   "execution_count": 31,
   "metadata": {},
   "outputs": [],
   "source": [
    "def get_completion(messages, model=\"gpt-3.5-turbo\", temperature=0, max_tokens=2000, format_type=\"text\"):\n",
    "  payload = { \"model\": model, \"temperature\": temperature, \"messages\": messages, \"max_tokens\": max_tokens, \"response_format\": { \"type\": format_type } }\n",
    "  headers = { \"Authorization\": f'Bearer {openai_api_key}', \"Content-Type\": \"application/json\" }\n",
    "  response = requests.post('https://api.openai.com/v1/chat/completions', headers = headers, data = json.dumps(payload) )\n",
    "  obj = json.loads(response.text)\n",
    "  if response.status_code == 200 :\n",
    "    return obj[\"choices\"][0][\"message\"][\"content\"]\n",
    "  else :\n",
    "    return obj[\"error\"]"
   ]
  },
  {
   "cell_type": "markdown",
   "metadata": {},
   "source": [
    "## case1: Google search\n",
    "\n",
    "OpenAI gpt-3.5-turbo 模型的 cut-off date 是 2021/9，最新 GPT-4-0125-preview 是 2023/12。因此沒有最新資料。\n",
    "\n",
    "透過 google search 下來的數據，結合用戶問題，減少AI幻覺的可能性 "
   ]
  },
  {
   "cell_type": "code",
   "execution_count": 5,
   "metadata": {},
   "outputs": [
    {
     "name": "stderr",
     "output_type": "stream",
     "text": [
      "\n",
      "[notice] A new release of pip is available: 24.1.1 -> 24.3.1\n",
      "[notice] To update, run: python.exe -m pip install --upgrade pip\n"
     ]
    }
   ],
   "source": [
    "# 這是非官方的 google 爬蟲\n",
    "!pip install googlesearch-python -q\n",
    "# 若要用官方 JSON API https://developers.google.com/custom-search/v1/overview?hl=zh-tw (有 API key 需付費但有免費額度)"
   ]
  },
  {
   "cell_type": "code",
   "execution_count": 32,
   "metadata": {},
   "outputs": [],
   "source": [
    "from googlesearch import search"
   ]
  },
  {
   "cell_type": "code",
   "execution_count": 33,
   "metadata": {},
   "outputs": [],
   "source": [
    "def google_search(keyword):\n",
    "  content = \"\"\n",
    "  for item in search(keyword, advanced=True, num_results=5, lang='zh-tw'):\n",
    "    content += f\"Title: {item.title}\\n Description: {item.description}\\n\\n\"\n",
    "  return content"
   ]
  },
  {
   "cell_type": "markdown",
   "metadata": {},
   "source": [
    "## 使用 google 官方的 search api "
   ]
  },
  {
   "cell_type": "code",
   "execution_count": 15,
   "metadata": {},
   "outputs": [
    {
     "name": "stdout",
     "output_type": "stream",
     "text": [
      "Note: you may need to restart the kernel to use updated packages.\n"
     ]
    },
    {
     "name": "stderr",
     "output_type": "stream",
     "text": [
      "ERROR: Could not find a version that satisfies the requirement google-api-python (from versions: none)\n",
      "ERROR: No matching distribution found for google-api-python\n",
      "\n",
      "[notice] A new release of pip is available: 24.1.1 -> 24.3.1\n",
      "[notice] To update, run: python.exe -m pip install --upgrade pip\n"
     ]
    }
   ],
   "source": [
    "pip install google-api-python -q"
   ]
  },
  {
   "cell_type": "code",
   "execution_count": 34,
   "metadata": {},
   "outputs": [],
   "source": [
    "from googleapiclient.discovery import build\n",
    "from urllib.parse import urlparse\n",
    "\n",
    "\n",
    "google_api_key = os.getenv('google_api_key')\n",
    "\n",
    "# 替換為您的 API 金鑰和搜索引擎 ID\n",
    "API_KEY = google_api_key\n",
    "SEARCH_ENGINE_ID = 'e25bf2d4283f04d7e'\n",
    "\n",
    "def is_taiwan_domain(url):\n",
    "    domain = urlparse(url).netloc\n",
    "    return domain.endswith('.tw')\n",
    "\n",
    "def google_search_from_google_api(keyword, num_results=5):\n",
    "    service = build(\"customsearch\", \"v1\", developerKey=API_KEY)\n",
    "\n",
    "    res = service.cse().list(\n",
    "        q=keyword,\n",
    "        cx=SEARCH_ENGINE_ID,\n",
    "        num=num_results * 2,  # 獲取更多結果以便過濾\n",
    "        gl='tw',\n",
    "        lr='lang_zh-TW',\n",
    "        cr='countryTW'\n",
    "    ).execute()\n",
    "\n",
    "    results = []\n",
    "    for item in res.get('items', []):\n",
    "        link = item.get('link')\n",
    "        result = {\n",
    "            'title': item.get('title'),\n",
    "            'link': link,\n",
    "            'snippet': item.get('snippet')\n",
    "        }\n",
    "        results.append(result)\n",
    "        if len(results) == num_results:\n",
    "            break\n",
    "\n",
    "    return results\n",
    "\n",
    "if __name__ == \"__main__\":\n",
    "    keyword = \"nvidia 2024 年 股價表現\"\n",
    "    top_results = google_search_from_google_api(keyword, num_results=5)\n",
    "\n",
    "    result_content = {}\n",
    "    result_all = {}\n",
    "    for idx, result in enumerate(top_results, start=1):\n",
    "\n",
    "        result_content[f\"標題\"] = result['title']\n",
    "        result_content[f\"連結\"] = result['link']\n",
    "        result_content[f\"簡介\"] = result['snippet']\n",
    "\n",
    "        result_all[f\"資訊 {idx}\"] = result_content\n",
    "\n",
    "        result_content = {}\n",
    "\n",
    "        # print(f\"結果 {idx}:\")\n",
    "        # print(\"標題：\", result['title'])\n",
    "        # print(\"連結：\", result['link'])\n",
    "        # print(\"簡介：\", result['snippet'])\n",
    "        # print(\"-\" * 40)"
   ]
  },
  {
   "cell_type": "markdown",
   "metadata": {},
   "source": [
    "## 意圖偵測\n",
    "\n",
    "何謂意圖偵測\n",
    "顧名思義，意圖偵測就是要從使用者的輸入中找出使用者的意圖。在對話系統中，意圖偵測是非常重要的一環，因為只有知道使用者的意圖，才能提供正確的回應。"
   ]
  },
  {
   "cell_type": "code",
   "execution_count": 35,
   "metadata": {},
   "outputs": [
    {
     "name": "stdout",
     "output_type": "stream",
     "text": [
      "'重要關鍵字: 2024年, Nvidia, 股價表現'\n"
     ]
    }
   ],
   "source": [
    "user_query = \"請問 2024 年 Nvidia 的股價表現如何?\"\n",
    "\n",
    "prompt = f\"\"\"\n",
    "你是 Google 搜尋引擎，請根據以下用戶問題，擷取出和問題相關的重要關鍵字:\n",
    "用戶問題: ```{user_query}```\n",
    "\"\"\"\n",
    "\n",
    "messages = [{\"role\": \"user\", \"content\": prompt }]\n",
    "\n",
    "response = get_completion(messages)\n",
    "keywords = response\n",
    "pp(response)\n",
    "\n"
   ]
  },
  {
   "cell_type": "markdown",
   "metadata": {},
   "source": [
    "💡 AI 回覆有時候會多 label，例如上面的 \"重要關鍵字\"\n",
    "這時候可以改一下 prompt 的結尾，加上引導文字，讓 AI 繼續接龍下去。\n",
    "\n",
    "## 透過意圖偵測，找出關鍵字。並加上引導文字，丟入搜尋引擎中"
   ]
  },
  {
   "cell_type": "code",
   "execution_count": 36,
   "metadata": {},
   "outputs": [
    {
     "name": "stdout",
     "output_type": "stream",
     "text": [
      "'2024年、Nvidia、股價、表現。'\n"
     ]
    }
   ],
   "source": [
    "prompt = f\"\"\"\n",
    "你是 Google 搜尋引擎，請根據以下用戶問題，擷取出和問題相關的重要關鍵字:\n",
    "用戶問題: ```{user_query}```\n",
    "關鍵字:\n",
    "\"\"\"\n",
    "\n",
    "messages = [{\"role\": \"user\", \"content\": prompt }]\n",
    "\n",
    "response = get_completion(messages)\n",
    "keywords = response\n",
    "pp(response)"
   ]
  },
  {
   "cell_type": "code",
   "execution_count": 37,
   "metadata": {},
   "outputs": [
    {
     "name": "stdout",
     "output_type": "stream",
     "text": [
      "[{'title': '輝達股價大漲黃仁勳身價超越千億美元已可輕鬆買下整個英特爾',\n",
      "  'link': 'https://tw.news.yahoo.com/%E8%BC%9D%E9%81%94%E8%82%A1%E5%83%B9%E5%A4%A7%E6%BC%B2-%E9%BB%83%E4%BB%81%E5%8B%B3%E8%BA%AB%E5%83%B9%E8%B6%85%E8%B6%8A%E5%8D%83%E5%84%84%E7%BE%8E%E5%85%83-%E5%B7%B2%E5%8F%AF%E8%BC%95%E9%AC%86%E8%B2%B7%E4%B8%8B%E6%95%B4%E5%80%8B%E8%8B%B1%E7%89%B9%E7%88%BE-045142531.html',\n",
      "  'snippet': '2024年10月6日 ... 輝達在AI GPU領域的領先地位，促使其股價飆升。（攝影／張瀞文）. 根據 ... '\n",
      "             '從輝達的股價表現來看，輝達在2024年10月的股價表現頗為波動。9月份\\xa0...'},\n",
      " {'title': '輝達9月股價表現向來最差、客戶AI支出疑慮罩頂',\n",
      "  'link': 'https://tw.stock.yahoo.com/news/%E8%BC%9D%E9%81%949%E6%9C%88%E8%82%A1%E5%83%B9%E8%A1%A8%E7%8F%BE%E5%90%91%E4%BE%86%E6%9C%80%E5%B7%AE-%E5%AE%A2%E6%88%B6ai%E6%94%AF%E5%87%BA%E7%96%91%E6%85%AE%E7%BD%A9%E9%A0%82-005500188.html',\n",
      "  'snippet': '2024年9月3日 ... 摩根大通(JPMorgan Chase & Co.、通稱小摩)市場與投資策略董事長Michael '\n",
      "             'Cembalest 2日發表研究報告指出，根據巴克萊估計，2024年打造的繪圖處理器(GPU)數量\\xa0...'},\n",
      " {'title': 'AI前景無可限量？輝達市值突破3兆美元，成為全球第二大公司| 過去 ...',\n",
      "  'link': 'https://global.udn.com/global_vision/story/8662/8013462',\n",
      "  'snippet': '2024年6月6日 ... '\n",
      "             '輝達（Nvidia）股價6月5日勁揚5.16%，至1224.4美元天價，市值突破3兆美元，超越近期表現不佳的蘋果，成為全球第二大公司。單從5月輝達公布2024年第一季財報\\xa0'\n",
      "             '...'},\n",
      " {'title': 'Nvidia週二股價震盪收跌1.72%，因德魯肯米勒減持，並示警AI短線過熱',\n",
      "  'link': 'https://tw.stock.yahoo.com/news/nvidia%E9%80%B1%E4%BA%8C%E8%82%A1%E5%83%B9%E9%9C%87%E7%9B%AA%E6%94%B6%E8%B7%8C1-72-%E5%9B%A0%E5%BE%B7%E9%AD%AF%E8%82%AF%E7%B1%B3%E5%8B%92%E6%B8%9B%E6%8C%81-%E4%B8%A6%E7%A4%BA%E8%AD%A6ai%E7%9F%AD%E7%B7%9A%E9%81%8E%E7%86%B1-235430784.html',\n",
      "  'snippet': '2024年5月7日 ... ... '\n",
      "             '美元或1.72%，守住900美元大關至905.54美元。由於AI熱潮的推動，Nvidia去年成為表現最好的股票之一，漲幅高達238%。2024年迄今，再追高82.86%。'},\n",
      " {'title': 'Nvidia股價表現驚人| 草根影響力新視野',\n",
      "  'link': 'https://grinews.com/news/nvidia%E8%82%A1%E5%83%B9%E8%A1%A8%E7%8F%BE%E9%A9%9A%E4%BA%BA/',\n",
      "  'snippet': '2024年2月24日 ... '\n",
      "             'A.I.的熱潮帶動了許多上下游產業，Nvidia就是其中一個最佳證明。Nvidia成立已30年，被認為是人工智慧晶片熱潮核心的科技公司， '\n",
      "             '2月21日股市收盤的市值\\xa0...'}]\n"
     ]
    }
   ],
   "source": [
    "search_result = google_search_from_google_api(keywords)\n",
    "pp(search_result)"
   ]
  },
  {
   "cell_type": "code",
   "execution_count": 42,
   "metadata": {},
   "outputs": [
    {
     "name": "stdout",
     "output_type": "stream",
     "text": [
      "根據最新的報導，2024年Nvidia的股價表現相當驚人。在過去的幾個月中，Nvidia的股價一直呈現波動，但整體來說呈現上升趨勢。特別是在AI領域的表現讓投資者對Nvidia的未來充滿信心，這也反映在股價上。然而，也有一些報導指出，Nvidia的股價在某些時候可能會受到一些因素的影響而出現震盪。總的來說，Nvidia在2024年的股價表現仍然相當亮眼。\n"
     ]
    }
   ],
   "source": [
    "prompt = f\"\"\"\n",
    "\n",
    "請基於以下最新事實回答:\n",
    "\n",
    "{str(search_result)}\n",
    "\n",
    "用戶問題: {user_query}\n",
    "\"\"\"\n",
    "\n",
    "messages = [{\"role\": \"user\", \"content\": prompt }]\n",
    "\n",
    "response = get_completion(messages)\n",
    "print(response)"
   ]
  },
  {
   "cell_type": "markdown",
   "metadata": {},
   "source": [
    "## case2: 外部計算機\n",
    "\n",
    "(通常為兩個 prompt 組合: 抽取 -> 運算 -> 總結) </br>\n",
    "生成式 AI 本質上屬於機率模型，不具備數學運算功能，必須借助外部工具才能達成任務\n",
    "\n",
    "STEP1: 參數抽取"
   ]
  },
  {
   "cell_type": "code",
   "execution_count": 43,
   "metadata": {},
   "outputs": [],
   "source": [
    "question = \"請計算 64 乘以 2 再扣掉 8，以上結果再除100後，再指數 1.234\"\n",
    "\n",
    "# prompt 參考自 langchain LLMMathChain\n",
    "prompt = f\"\"\"\n",
    "Translate a math problem into a expression that can be executed using Python's numexpr library. Use the output of running this code to answer the question.\n",
    "\n",
    "Question: ${{Question with math problem.}}\n",
    "Expression: ${{single line mathematical expression that solves the problem}}\n",
    "\n",
    "Begin.\n",
    "\n",
    "Question: What is 37593 * 67?\n",
    "Expression: 37593 * 67\n",
    "\n",
    "Question: 37593^(1/5)\n",
    "Expression: 37593**(1/5)\n",
    "\n",
    "Question: {question}\n",
    "Expression:\n",
    "\n",
    "\"\"\""
   ]
  },
  {
   "cell_type": "code",
   "execution_count": 44,
   "metadata": {},
   "outputs": [
    {
     "name": "stdout",
     "output_type": "stream",
     "text": [
      "('\\n'\n",
      " 'Translate a math problem into a expression that can be executed using '\n",
      " \"Python's numexpr library. Use the output of running this code to answer the \"\n",
      " 'question.\\n'\n",
      " '\\n'\n",
      " 'Question: ${Question with math problem.}\\n'\n",
      " 'Expression: ${single line mathematical expression that solves the problem}\\n'\n",
      " '\\n'\n",
      " 'Begin.\\n'\n",
      " '\\n'\n",
      " 'Question: What is 37593 * 67?\\n'\n",
      " 'Expression: 37593 * 67\\n'\n",
      " '\\n'\n",
      " 'Question: 37593^(1/5)\\n'\n",
      " 'Expression: 37593**(1/5)\\n'\n",
      " '\\n'\n",
      " 'Question: 請計算 64 乘以 2 再扣掉 8，以上結果再除100後，再指數 1.234\\n'\n",
      " 'Expression:\\n'\n",
      " '\\n')\n"
     ]
    }
   ],
   "source": [
    "pp(prompt)"
   ]
  },
  {
   "cell_type": "code",
   "execution_count": 45,
   "metadata": {},
   "outputs": [
    {
     "name": "stdout",
     "output_type": "stream",
     "text": [
      "'(64 * 2 - 8) / 100 ** 1.234'\n"
     ]
    }
   ],
   "source": [
    "messages = [{\"role\": \"user\", \"content\": prompt }]\n",
    "\n",
    "response = get_completion(messages, model=\"gpt-4\")\n",
    "pp(response)"
   ]
  },
  {
   "cell_type": "markdown",
   "metadata": {},
   "source": [
    "STEP2: 運算"
   ]
  },
  {
   "cell_type": "code",
   "execution_count": 46,
   "metadata": {},
   "outputs": [],
   "source": [
    "import numexpr"
   ]
  },
  {
   "cell_type": "code",
   "execution_count": 47,
   "metadata": {},
   "outputs": [
    {
     "data": {
      "text/plain": [
       "'0.40848982764120106'"
      ]
     },
     "execution_count": 47,
     "metadata": {},
     "output_type": "execute_result"
    }
   ],
   "source": [
    "answer = numexpr.evaluate(response)\n",
    "\n",
    "str(answer)"
   ]
  },
  {
   "cell_type": "markdown",
   "metadata": {},
   "source": [
    "STEP3: 總結\n",
    "\n",
    "執行工具後的回傳，你可以選擇\n",
    "\n",
    "1. 直接回給用戶 或是 轉成某種固定格式回給客戶，就不用再一次呼叫 LLM 了\n",
    "3. 再丟給 LLM 變成自然語言再回給客戶\n"
   ]
  },
  {
   "cell_type": "code",
   "execution_count": 67,
   "metadata": {},
   "outputs": [
    {
     "data": {
      "text/plain": [
       "'請計算 64 乘以 2 再扣掉 8，以上結果再除100後，再指數 1.234'"
      ]
     },
     "execution_count": 67,
     "metadata": {},
     "output_type": "execute_result"
    }
   ],
   "source": [
    "question"
   ]
  },
  {
   "cell_type": "code",
   "execution_count": 48,
   "metadata": {},
   "outputs": [
    {
     "name": "stdout",
     "output_type": "stream",
     "text": [
      "'{\\n    \"answer\": \"0.40848982764120106\"\\n}'\n"
     ]
    }
   ],
   "source": [
    "prompt = f\"\"\"\n",
    "這是用戶問題: {question}\n",
    "\n",
    "這其中的數學問題: {response} 和答案: {answer}\n",
    "\n",
    "%%%\n",
    "請用 JSON 格式回傳，遵照以下格式:\n",
    "\"answer\": \"string\" // 答案\n",
    "\n",
    "\"\"\"\n",
    "\n",
    "messages = [{\"role\": \"user\", \"content\": prompt }]\n",
    "\n",
    "response = get_completion(messages, format_type=\"json_object\")\n",
    "pp(response)\n",
    "\n"
   ]
  },
  {
   "cell_type": "code",
   "execution_count": 49,
   "metadata": {},
   "outputs": [
    {
     "data": {
      "text/plain": [
       "'0.40848982764120106'"
      ]
     },
     "execution_count": 49,
     "metadata": {},
     "output_type": "execute_result"
    }
   ],
   "source": [
    "eval(response)[\"answer\"]"
   ]
  },
  {
   "cell_type": "markdown",
   "metadata": {},
   "source": [
    "## 案例三: 串接股價 API\n",
    "\n",
    "這次我們要求 json 格式"
   ]
  },
  {
   "cell_type": "markdown",
   "metadata": {},
   "source": [
    "### Step 1: 從用戶問題中，用 prompt1 來提取出 外部工具的參數"
   ]
  },
  {
   "cell_type": "code",
   "execution_count": 50,
   "metadata": {},
   "outputs": [
    {
     "name": "stdout",
     "output_type": "stream",
     "text": [
      "{\n",
      "  \"error\": \"請提供日期和股票代號\"\n",
      "}\n"
     ]
    }
   ],
   "source": [
    "query = \"請問113年的3月8號股價表現如何?\"\n",
    "\n",
    "messages = [\n",
    "    {\"role\": \"user\", \"content\": f\"\"\"\n",
    "用戶問題: {query}\n",
    "\n",
    "1. 無需回答問題，請從用戶問題中，擷取出日期和台灣股票代號\n",
    "2. 如果日期是民國年份，請加上 1911 轉成西元年份\n",
    "3. 如果用戶沒有提供日期和公司名稱或股票代號，請回傳 {{ \"error\": \"string\" // 錯誤訊息 }}\n",
    "4. 請回覆 JSON 格式，例如\n",
    "{{\n",
    "  \"date\": \"20231015\", // yyyymmdd\n",
    "  \"stock_code\": \"0050\" // 台灣的股票代號\n",
    "}}\"\"\"\n",
    "}]\n",
    "\n",
    "result = get_completion(messages, model=\"gpt-3.5-turbo-1106\", format_type=\"json_object\" )\n",
    "print(result)\n",
    "\n",
    "data = json.loads(result)\n",
    "\n"
   ]
  },
  {
   "cell_type": "code",
   "execution_count": 60,
   "metadata": {},
   "outputs": [
    {
     "name": "stdout",
     "output_type": "stream",
     "text": [
      "{\n",
      "  \"date\": \"20241030\",\n",
      "  \"stock_code\": \"2330\"\n",
      "}\n"
     ]
    }
   ],
   "source": [
    "query = \"請問 113年的10月30號的台積電2330，股價表現如何?\"\n",
    "\n",
    "messages = [\n",
    "    {\"role\": \"user\", \"content\": f\"\"\"\n",
    "用戶問題: {query}\n",
    "\n",
    "1. 無需回答問題，請從用戶問題中，擷取出日期和台灣股票代號\n",
    "2. 如果日期是民國年份，請加上 1911 轉成西元年份\n",
    "3. 如果用戶沒有提供日期和公司名稱或股票代號，請回傳 {{ \"error\": \"string\" // 錯誤訊息 }}\n",
    "4. 請回覆 JSON 格式，例如\n",
    "{{\n",
    "  \"date\": \"20231015\", // yyyymmdd\n",
    "  \"stock_code\": \"0050\" // 台灣的股票代號\n",
    "}}\"\"\"\n",
    "}]\n",
    "\n",
    "result = get_completion(messages, model=\"gpt-3.5-turbo-1106\", format_type=\"json_object\", temperature=1)\n",
    "print(result)\n",
    "\n",
    "data = json.loads(result)"
   ]
  },
  {
   "cell_type": "markdown",
   "metadata": {},
   "source": [
    "### Step 2: 執行工具，拿到結果\n",
    "\n",
    "API 參考自 https://medium.com/%E5%B7%A5%E7%A8%8B%E9%9A%A8%E5%AF%AB%E7%AD%86%E8%A8%98/5%E7%A8%AE%E6%8A%93%E5%8F%96%E5%8F%B0%E8%82%A1%E6%AD%B7%E5%8F%B2%E8%82%A1%E5%83%B9%E7%9A%84%E6%96%B9%E6%B3%95-766bf2ed9d6"
   ]
  },
  {
   "cell_type": "code",
   "execution_count": 56,
   "metadata": {},
   "outputs": [
    {
     "data": {
      "text/plain": [
       "{'stat': 'OK',\n",
       " 'date': '20241030',\n",
       " 'title': '113年10月 2330 台積電           各日成交資訊',\n",
       " 'fields': ['日期', '成交股數', '成交金額', '開盤價', '最高價', '最低價', '收盤價', '漲跌價差', '成交筆數'],\n",
       " 'data': [['113/10/01',\n",
       "   '27,877,267',\n",
       "   '27,093,881,327',\n",
       "   '967.00',\n",
       "   '977.00',\n",
       "   '967.00',\n",
       "   '972.00',\n",
       "   '+15.00',\n",
       "   '37,862'],\n",
       "  ['113/10/04',\n",
       "   '43,765,757',\n",
       "   '42,845,984,122',\n",
       "   '986.00',\n",
       "   '986.00',\n",
       "   '967.00',\n",
       "   '977.00',\n",
       "   '+5.00',\n",
       "   '43,935'],\n",
       "  ['113/10/07',\n",
       "   '43,850,831',\n",
       "   '43,905,376,215',\n",
       "   '993.00',\n",
       "   '1,010.00',\n",
       "   '989.00',\n",
       "   '1,005.00',\n",
       "   '+28.00',\n",
       "   '79,851'],\n",
       "  ['113/10/08',\n",
       "   '35,344,059',\n",
       "   '35,503,172,585',\n",
       "   '1,000.00',\n",
       "   '1,010.00',\n",
       "   '997.00',\n",
       "   '1,010.00',\n",
       "   '+5.00',\n",
       "   '42,227'],\n",
       "  ['113/10/09',\n",
       "   '53,208,610',\n",
       "   '54,663,169,800',\n",
       "   '1,030.00',\n",
       "   '1,035.00',\n",
       "   '1,020.00',\n",
       "   '1,020.00',\n",
       "   '+10.00',\n",
       "   '80,835'],\n",
       "  ['113/10/11',\n",
       "   '47,776,351',\n",
       "   '49,706,577,415',\n",
       "   '1,025.00',\n",
       "   '1,050.00',\n",
       "   '1,020.00',\n",
       "   '1,045.00',\n",
       "   '+25.00',\n",
       "   '89,915'],\n",
       "  ['113/10/14',\n",
       "   '39,906,157',\n",
       "   '41,745,442,865',\n",
       "   '1,045.00',\n",
       "   '1,055.00',\n",
       "   '1,035.00',\n",
       "   '1,045.00',\n",
       "   ' 0.00',\n",
       "   '49,228'],\n",
       "  ['113/10/15',\n",
       "   '52,066,470',\n",
       "   '55,504,081,569',\n",
       "   '1,050.00',\n",
       "   '1,075.00',\n",
       "   '1,050.00',\n",
       "   '1,070.00',\n",
       "   '+25.00',\n",
       "   '88,895'],\n",
       "  ['113/10/16',\n",
       "   '60,312,846',\n",
       "   '63,228,552,464',\n",
       "   '1,040.00',\n",
       "   '1,070.00',\n",
       "   '1,035.00',\n",
       "   '1,045.00',\n",
       "   '-25.00',\n",
       "   '69,585'],\n",
       "  ['113/10/17',\n",
       "   '56,618,332',\n",
       "   '58,862,054,838',\n",
       "   '1,050.00',\n",
       "   '1,055.00',\n",
       "   '1,030.00',\n",
       "   '1,035.00',\n",
       "   '-10.00',\n",
       "   '58,589'],\n",
       "  ['113/10/18',\n",
       "   '91,036,335',\n",
       "   '99,230,303,460',\n",
       "   '1,095.00',\n",
       "   '1,100.00',\n",
       "   '1,075.00',\n",
       "   '1,085.00',\n",
       "   '+50.00',\n",
       "   '132,797'],\n",
       "  ['113/10/21',\n",
       "   '42,094,031',\n",
       "   '45,813,114,865',\n",
       "   '1,090.00',\n",
       "   '1,095.00',\n",
       "   '1,080.00',\n",
       "   '1,085.00',\n",
       "   ' 0.00',\n",
       "   '43,553'],\n",
       "  ['113/10/22',\n",
       "   '43,740,591',\n",
       "   '46,707,090,730',\n",
       "   '1,065.00',\n",
       "   '1,075.00',\n",
       "   '1,060.00',\n",
       "   '1,075.00',\n",
       "   '-10.00',\n",
       "   '56,089'],\n",
       "  ['113/10/23',\n",
       "   '32,895,421',\n",
       "   '34,912,308,143',\n",
       "   '1,060.00',\n",
       "   '1,070.00',\n",
       "   '1,055.00',\n",
       "   '1,060.00',\n",
       "   '-15.00',\n",
       "   '40,549'],\n",
       "  ['113/10/24',\n",
       "   '40,791,484',\n",
       "   '43,477,824,029',\n",
       "   '1,070.00',\n",
       "   '1,075.00',\n",
       "   '1,055.00',\n",
       "   '1,060.00',\n",
       "   ' 0.00',\n",
       "   '42,113'],\n",
       "  ['113/10/25',\n",
       "   '23,347,890',\n",
       "   '24,867,260,319',\n",
       "   '1,065.00',\n",
       "   '1,070.00',\n",
       "   '1,060.00',\n",
       "   '1,065.00',\n",
       "   '+5.00',\n",
       "   '25,884'],\n",
       "  ['113/10/28',\n",
       "   '41,665,065',\n",
       "   '44,216,316,045',\n",
       "   '1,075.00',\n",
       "   '1,080.00',\n",
       "   '1,050.00',\n",
       "   '1,050.00',\n",
       "   '-15.00',\n",
       "   '55,098'],\n",
       "  ['113/10/29',\n",
       "   '48,097,705',\n",
       "   '49,680,152,085',\n",
       "   '1,035.00',\n",
       "   '1,040.00',\n",
       "   '1,020.00',\n",
       "   '1,040.00',\n",
       "   '-10.00',\n",
       "   '93,617'],\n",
       "  ['113/10/30',\n",
       "   '40,765,247',\n",
       "   '42,368,799,669',\n",
       "   '1,040.00',\n",
       "   '1,055.00',\n",
       "   '1,030.00',\n",
       "   '1,030.00',\n",
       "   '-10.00',\n",
       "   '46,750']],\n",
       " 'notes': ['符號說明:+/-/X表示漲/跌/不比價',\n",
       "  '當日統計資訊含一般、零股、盤後定價、鉅額交易，不含拍賣、標購。',\n",
       "  'ETF證券代號第六碼為K、M、S、C者，表示該ETF以外幣交易。',\n",
       "  '權證證券代號可重複使用，權證顯示之名稱係目前存續權證之簡稱。'],\n",
       " 'total': 19}"
      ]
     },
     "execution_count": 56,
     "metadata": {},
     "output_type": "execute_result"
    }
   ],
   "source": [
    "date = data[\"date\"]\n",
    "stock_code = data[\"stock_code\"]\n",
    "\n",
    "html = requests.get(f'https://www.twse.com.tw/exchangeReport/STOCK_DAY?response=json&date={date}&stockNo={stock_code}')\n",
    "context = json.loads(html.text)\n",
    "context"
   ]
  },
  {
   "cell_type": "code",
   "execution_count": 57,
   "metadata": {},
   "outputs": [
    {
     "data": {
      "text/html": [
       "<div>\n",
       "<style scoped>\n",
       "    .dataframe tbody tr th:only-of-type {\n",
       "        vertical-align: middle;\n",
       "    }\n",
       "\n",
       "    .dataframe tbody tr th {\n",
       "        vertical-align: top;\n",
       "    }\n",
       "\n",
       "    .dataframe thead th {\n",
       "        text-align: right;\n",
       "    }\n",
       "</style>\n",
       "<table border=\"1\" class=\"dataframe\">\n",
       "  <thead>\n",
       "    <tr style=\"text-align: right;\">\n",
       "      <th></th>\n",
       "      <th>日期</th>\n",
       "      <th>成交股數</th>\n",
       "      <th>成交金額</th>\n",
       "      <th>開盤價</th>\n",
       "      <th>最高價</th>\n",
       "      <th>最低價</th>\n",
       "      <th>收盤價</th>\n",
       "      <th>漲跌價差</th>\n",
       "      <th>成交筆數</th>\n",
       "    </tr>\n",
       "  </thead>\n",
       "  <tbody>\n",
       "    <tr>\n",
       "      <th>0</th>\n",
       "      <td>113/10/01</td>\n",
       "      <td>27,877,267</td>\n",
       "      <td>27,093,881,327</td>\n",
       "      <td>967.00</td>\n",
       "      <td>977.00</td>\n",
       "      <td>967.00</td>\n",
       "      <td>972.00</td>\n",
       "      <td>+15.00</td>\n",
       "      <td>37,862</td>\n",
       "    </tr>\n",
       "    <tr>\n",
       "      <th>1</th>\n",
       "      <td>113/10/04</td>\n",
       "      <td>43,765,757</td>\n",
       "      <td>42,845,984,122</td>\n",
       "      <td>986.00</td>\n",
       "      <td>986.00</td>\n",
       "      <td>967.00</td>\n",
       "      <td>977.00</td>\n",
       "      <td>+5.00</td>\n",
       "      <td>43,935</td>\n",
       "    </tr>\n",
       "    <tr>\n",
       "      <th>2</th>\n",
       "      <td>113/10/07</td>\n",
       "      <td>43,850,831</td>\n",
       "      <td>43,905,376,215</td>\n",
       "      <td>993.00</td>\n",
       "      <td>1,010.00</td>\n",
       "      <td>989.00</td>\n",
       "      <td>1,005.00</td>\n",
       "      <td>+28.00</td>\n",
       "      <td>79,851</td>\n",
       "    </tr>\n",
       "    <tr>\n",
       "      <th>3</th>\n",
       "      <td>113/10/08</td>\n",
       "      <td>35,344,059</td>\n",
       "      <td>35,503,172,585</td>\n",
       "      <td>1,000.00</td>\n",
       "      <td>1,010.00</td>\n",
       "      <td>997.00</td>\n",
       "      <td>1,010.00</td>\n",
       "      <td>+5.00</td>\n",
       "      <td>42,227</td>\n",
       "    </tr>\n",
       "    <tr>\n",
       "      <th>4</th>\n",
       "      <td>113/10/09</td>\n",
       "      <td>53,208,610</td>\n",
       "      <td>54,663,169,800</td>\n",
       "      <td>1,030.00</td>\n",
       "      <td>1,035.00</td>\n",
       "      <td>1,020.00</td>\n",
       "      <td>1,020.00</td>\n",
       "      <td>+10.00</td>\n",
       "      <td>80,835</td>\n",
       "    </tr>\n",
       "    <tr>\n",
       "      <th>5</th>\n",
       "      <td>113/10/11</td>\n",
       "      <td>47,776,351</td>\n",
       "      <td>49,706,577,415</td>\n",
       "      <td>1,025.00</td>\n",
       "      <td>1,050.00</td>\n",
       "      <td>1,020.00</td>\n",
       "      <td>1,045.00</td>\n",
       "      <td>+25.00</td>\n",
       "      <td>89,915</td>\n",
       "    </tr>\n",
       "    <tr>\n",
       "      <th>6</th>\n",
       "      <td>113/10/14</td>\n",
       "      <td>39,906,157</td>\n",
       "      <td>41,745,442,865</td>\n",
       "      <td>1,045.00</td>\n",
       "      <td>1,055.00</td>\n",
       "      <td>1,035.00</td>\n",
       "      <td>1,045.00</td>\n",
       "      <td>0.00</td>\n",
       "      <td>49,228</td>\n",
       "    </tr>\n",
       "    <tr>\n",
       "      <th>7</th>\n",
       "      <td>113/10/15</td>\n",
       "      <td>52,066,470</td>\n",
       "      <td>55,504,081,569</td>\n",
       "      <td>1,050.00</td>\n",
       "      <td>1,075.00</td>\n",
       "      <td>1,050.00</td>\n",
       "      <td>1,070.00</td>\n",
       "      <td>+25.00</td>\n",
       "      <td>88,895</td>\n",
       "    </tr>\n",
       "    <tr>\n",
       "      <th>8</th>\n",
       "      <td>113/10/16</td>\n",
       "      <td>60,312,846</td>\n",
       "      <td>63,228,552,464</td>\n",
       "      <td>1,040.00</td>\n",
       "      <td>1,070.00</td>\n",
       "      <td>1,035.00</td>\n",
       "      <td>1,045.00</td>\n",
       "      <td>-25.00</td>\n",
       "      <td>69,585</td>\n",
       "    </tr>\n",
       "    <tr>\n",
       "      <th>9</th>\n",
       "      <td>113/10/17</td>\n",
       "      <td>56,618,332</td>\n",
       "      <td>58,862,054,838</td>\n",
       "      <td>1,050.00</td>\n",
       "      <td>1,055.00</td>\n",
       "      <td>1,030.00</td>\n",
       "      <td>1,035.00</td>\n",
       "      <td>-10.00</td>\n",
       "      <td>58,589</td>\n",
       "    </tr>\n",
       "    <tr>\n",
       "      <th>10</th>\n",
       "      <td>113/10/18</td>\n",
       "      <td>91,036,335</td>\n",
       "      <td>99,230,303,460</td>\n",
       "      <td>1,095.00</td>\n",
       "      <td>1,100.00</td>\n",
       "      <td>1,075.00</td>\n",
       "      <td>1,085.00</td>\n",
       "      <td>+50.00</td>\n",
       "      <td>132,797</td>\n",
       "    </tr>\n",
       "    <tr>\n",
       "      <th>11</th>\n",
       "      <td>113/10/21</td>\n",
       "      <td>42,094,031</td>\n",
       "      <td>45,813,114,865</td>\n",
       "      <td>1,090.00</td>\n",
       "      <td>1,095.00</td>\n",
       "      <td>1,080.00</td>\n",
       "      <td>1,085.00</td>\n",
       "      <td>0.00</td>\n",
       "      <td>43,553</td>\n",
       "    </tr>\n",
       "    <tr>\n",
       "      <th>12</th>\n",
       "      <td>113/10/22</td>\n",
       "      <td>43,740,591</td>\n",
       "      <td>46,707,090,730</td>\n",
       "      <td>1,065.00</td>\n",
       "      <td>1,075.00</td>\n",
       "      <td>1,060.00</td>\n",
       "      <td>1,075.00</td>\n",
       "      <td>-10.00</td>\n",
       "      <td>56,089</td>\n",
       "    </tr>\n",
       "    <tr>\n",
       "      <th>13</th>\n",
       "      <td>113/10/23</td>\n",
       "      <td>32,895,421</td>\n",
       "      <td>34,912,308,143</td>\n",
       "      <td>1,060.00</td>\n",
       "      <td>1,070.00</td>\n",
       "      <td>1,055.00</td>\n",
       "      <td>1,060.00</td>\n",
       "      <td>-15.00</td>\n",
       "      <td>40,549</td>\n",
       "    </tr>\n",
       "    <tr>\n",
       "      <th>14</th>\n",
       "      <td>113/10/24</td>\n",
       "      <td>40,791,484</td>\n",
       "      <td>43,477,824,029</td>\n",
       "      <td>1,070.00</td>\n",
       "      <td>1,075.00</td>\n",
       "      <td>1,055.00</td>\n",
       "      <td>1,060.00</td>\n",
       "      <td>0.00</td>\n",
       "      <td>42,113</td>\n",
       "    </tr>\n",
       "    <tr>\n",
       "      <th>15</th>\n",
       "      <td>113/10/25</td>\n",
       "      <td>23,347,890</td>\n",
       "      <td>24,867,260,319</td>\n",
       "      <td>1,065.00</td>\n",
       "      <td>1,070.00</td>\n",
       "      <td>1,060.00</td>\n",
       "      <td>1,065.00</td>\n",
       "      <td>+5.00</td>\n",
       "      <td>25,884</td>\n",
       "    </tr>\n",
       "    <tr>\n",
       "      <th>16</th>\n",
       "      <td>113/10/28</td>\n",
       "      <td>41,665,065</td>\n",
       "      <td>44,216,316,045</td>\n",
       "      <td>1,075.00</td>\n",
       "      <td>1,080.00</td>\n",
       "      <td>1,050.00</td>\n",
       "      <td>1,050.00</td>\n",
       "      <td>-15.00</td>\n",
       "      <td>55,098</td>\n",
       "    </tr>\n",
       "    <tr>\n",
       "      <th>17</th>\n",
       "      <td>113/10/29</td>\n",
       "      <td>48,097,705</td>\n",
       "      <td>49,680,152,085</td>\n",
       "      <td>1,035.00</td>\n",
       "      <td>1,040.00</td>\n",
       "      <td>1,020.00</td>\n",
       "      <td>1,040.00</td>\n",
       "      <td>-10.00</td>\n",
       "      <td>93,617</td>\n",
       "    </tr>\n",
       "    <tr>\n",
       "      <th>18</th>\n",
       "      <td>113/10/30</td>\n",
       "      <td>40,765,247</td>\n",
       "      <td>42,368,799,669</td>\n",
       "      <td>1,040.00</td>\n",
       "      <td>1,055.00</td>\n",
       "      <td>1,030.00</td>\n",
       "      <td>1,030.00</td>\n",
       "      <td>-10.00</td>\n",
       "      <td>46,750</td>\n",
       "    </tr>\n",
       "  </tbody>\n",
       "</table>\n",
       "</div>"
      ],
      "text/plain": [
       "           日期        成交股數            成交金額       開盤價       最高價       最低價  \\\n",
       "0   113/10/01  27,877,267  27,093,881,327    967.00    977.00    967.00   \n",
       "1   113/10/04  43,765,757  42,845,984,122    986.00    986.00    967.00   \n",
       "2   113/10/07  43,850,831  43,905,376,215    993.00  1,010.00    989.00   \n",
       "3   113/10/08  35,344,059  35,503,172,585  1,000.00  1,010.00    997.00   \n",
       "4   113/10/09  53,208,610  54,663,169,800  1,030.00  1,035.00  1,020.00   \n",
       "5   113/10/11  47,776,351  49,706,577,415  1,025.00  1,050.00  1,020.00   \n",
       "6   113/10/14  39,906,157  41,745,442,865  1,045.00  1,055.00  1,035.00   \n",
       "7   113/10/15  52,066,470  55,504,081,569  1,050.00  1,075.00  1,050.00   \n",
       "8   113/10/16  60,312,846  63,228,552,464  1,040.00  1,070.00  1,035.00   \n",
       "9   113/10/17  56,618,332  58,862,054,838  1,050.00  1,055.00  1,030.00   \n",
       "10  113/10/18  91,036,335  99,230,303,460  1,095.00  1,100.00  1,075.00   \n",
       "11  113/10/21  42,094,031  45,813,114,865  1,090.00  1,095.00  1,080.00   \n",
       "12  113/10/22  43,740,591  46,707,090,730  1,065.00  1,075.00  1,060.00   \n",
       "13  113/10/23  32,895,421  34,912,308,143  1,060.00  1,070.00  1,055.00   \n",
       "14  113/10/24  40,791,484  43,477,824,029  1,070.00  1,075.00  1,055.00   \n",
       "15  113/10/25  23,347,890  24,867,260,319  1,065.00  1,070.00  1,060.00   \n",
       "16  113/10/28  41,665,065  44,216,316,045  1,075.00  1,080.00  1,050.00   \n",
       "17  113/10/29  48,097,705  49,680,152,085  1,035.00  1,040.00  1,020.00   \n",
       "18  113/10/30  40,765,247  42,368,799,669  1,040.00  1,055.00  1,030.00   \n",
       "\n",
       "         收盤價    漲跌價差     成交筆數  \n",
       "0     972.00  +15.00   37,862  \n",
       "1     977.00   +5.00   43,935  \n",
       "2   1,005.00  +28.00   79,851  \n",
       "3   1,010.00   +5.00   42,227  \n",
       "4   1,020.00  +10.00   80,835  \n",
       "5   1,045.00  +25.00   89,915  \n",
       "6   1,045.00    0.00   49,228  \n",
       "7   1,070.00  +25.00   88,895  \n",
       "8   1,045.00  -25.00   69,585  \n",
       "9   1,035.00  -10.00   58,589  \n",
       "10  1,085.00  +50.00  132,797  \n",
       "11  1,085.00    0.00   43,553  \n",
       "12  1,075.00  -10.00   56,089  \n",
       "13  1,060.00  -15.00   40,549  \n",
       "14  1,060.00    0.00   42,113  \n",
       "15  1,065.00   +5.00   25,884  \n",
       "16  1,050.00  -15.00   55,098  \n",
       "17  1,040.00  -10.00   93,617  \n",
       "18  1,030.00  -10.00   46,750  "
      ]
     },
     "execution_count": 57,
     "metadata": {},
     "output_type": "execute_result"
    }
   ],
   "source": [
    "import pandas as pd\n",
    "\n",
    "df = pd.DataFrame(context[\"data\"], columns=context[\"fields\"])\n",
    "df"
   ]
  },
  {
   "cell_type": "markdown",
   "metadata": {},
   "source": [
    "### Step 3: 用 (prompt2 + 結果) 轉成自然語言回給用戶"
   ]
  },
  {
   "cell_type": "code",
   "execution_count": 61,
   "metadata": {},
   "outputs": [
    {
     "name": "stdout",
     "output_type": "stream",
     "text": [
      "根據資料顯示，113年10月30號的台積電2330股價表現如下：\n",
      "- 開盤價：1,040.00\n",
      "- 最高價：1,055.00\n",
      "- 最低價：1,030.00\n",
      "- 收盤價：1,030.00\n",
      "- 漲跌價差：-10.00\n",
      "\n",
      "這表示當天台積電2330的股價下跌了10.00點。\n"
     ]
    }
   ],
   "source": [
    "messages = [\n",
    "    {\"role\": \"user\", \"content\": f\"\"\"\n",
    "用戶問題: {query}\n",
    "\n",
    "context: {context}\n",
    "\"\"\"}\n",
    "]\n",
    "\n",
    "result = get_completion(messages, model=\"gpt-3.5-turbo-1106\")\n",
    "print(result)"
   ]
  },
  {
   "cell_type": "code",
   "execution_count": null,
   "metadata": {},
   "outputs": [],
   "source": []
  }
 ],
 "metadata": {
  "kernelspec": {
   "display_name": "Python 3",
   "language": "python",
   "name": "python3"
  },
  "language_info": {
   "codemirror_mode": {
    "name": "ipython",
    "version": 3
   },
   "file_extension": ".py",
   "mimetype": "text/x-python",
   "name": "python",
   "nbconvert_exporter": "python",
   "pygments_lexer": "ipython3",
   "version": "3.11.9"
  }
 },
 "nbformat": 4,
 "nbformat_minor": 2
}
