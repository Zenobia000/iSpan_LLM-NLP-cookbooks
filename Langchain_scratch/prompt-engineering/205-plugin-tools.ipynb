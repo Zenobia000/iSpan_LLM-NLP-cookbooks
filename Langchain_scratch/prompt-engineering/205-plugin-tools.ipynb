{
 "cells": [
  {
   "cell_type": "markdown",
   "metadata": {},
   "source": [
    "## Prompt Chaining 結合外部工具包括 Google 搜尋、計算機和股價API\n"
   ]
  },
  {
   "cell_type": "code",
   "execution_count": 50,
   "metadata": {},
   "outputs": [],
   "source": [
    "# Import necessary libraries\n",
    "## 設定 OpenAI API Key 變數\n",
    "from dotenv import load_dotenv\n",
    "import os\n",
    "\n",
    "# Load the environment variables from .env file\n",
    "load_dotenv()\n",
    "\n",
    "# Access the API key\n",
    "openai_api_key = os.getenv('OPENAI_API_KEY')\n"
   ]
  },
  {
   "cell_type": "code",
   "execution_count": 51,
   "metadata": {},
   "outputs": [],
   "source": [
    "# from google.colab import userdata\n",
    "# openai_api_key = userdata.get('openai_api_key')"
   ]
  },
  {
   "cell_type": "code",
   "execution_count": 52,
   "metadata": {},
   "outputs": [],
   "source": [
    "import requests\n",
    "import json\n",
    "from pprint import pp"
   ]
  },
  {
   "cell_type": "code",
   "execution_count": 53,
   "metadata": {},
   "outputs": [],
   "source": [
    "def get_completion(messages, model=\"gpt-3.5-turbo\", temperature=0, max_tokens=2000, format_type=\"text\"):\n",
    "  payload = { \"model\": model, \"temperature\": temperature, \"messages\": messages, \"max_tokens\": max_tokens, \"response_format\": { \"type\": format_type } }\n",
    "  headers = { \"Authorization\": f'Bearer {openai_api_key}', \"Content-Type\": \"application/json\" }\n",
    "  response = requests.post('https://api.openai.com/v1/chat/completions', headers = headers, data = json.dumps(payload) )\n",
    "  obj = json.loads(response.text)\n",
    "  if response.status_code == 200 :\n",
    "    return obj[\"choices\"][0][\"message\"][\"content\"]\n",
    "  else :\n",
    "    return obj[\"error\"]"
   ]
  },
  {
   "cell_type": "markdown",
   "metadata": {},
   "source": [
    "## case1: Google search\n",
    "\n",
    "OpenAI gpt-3.5-turbo 模型的 cut-off date 是 2021/9，最新 GPT-4-0125-preview 是 2023/12。因此沒有最新資料。\n",
    "\n",
    "透過 google search 下來的數據，結合用戶問題，減少AI幻覺的可能性 "
   ]
  },
  {
   "cell_type": "code",
   "execution_count": 54,
   "metadata": {},
   "outputs": [],
   "source": [
    "# 這是非官方的 google 爬蟲\n",
    "!pip install googlesearch-python -q\n",
    "# 若要用官方 JSON API https://developers.google.com/custom-search/v1/overview?hl=zh-tw (有 API key 需付費但有免費額度)"
   ]
  },
  {
   "cell_type": "code",
   "execution_count": 55,
   "metadata": {},
   "outputs": [],
   "source": [
    "from googlesearch import search"
   ]
  },
  {
   "cell_type": "code",
   "execution_count": 56,
   "metadata": {},
   "outputs": [],
   "source": [
    "def google_search(keyword):\n",
    "  content = \"\"\n",
    "  for item in search(keyword, advanced=True, num_results=5, lang='zh-tw'):\n",
    "    content += f\"Title: {item.title}\\n Description: {item.description}\\n\\n\"\n",
    "  return content"
   ]
  },
  {
   "cell_type": "code",
   "execution_count": 57,
   "metadata": {},
   "outputs": [
    {
     "name": "stdout",
     "output_type": "stream",
     "text": [
      "'重要關鍵字: 2024年, Nvidia, 股價表現'\n"
     ]
    }
   ],
   "source": [
    "user_query = \"請問 2024 年 Nvidia 的股價表現如何?\"\n",
    "\n",
    "prompt = f\"\"\"\n",
    "你是 Google 搜尋引擎，請根據以下用戶問題，擷取出和問題相關的重要關鍵字:\n",
    "用戶問題: ```{user_query}```\n",
    "\"\"\"\n",
    "\n",
    "messages = [{\"role\": \"user\", \"content\": prompt }]\n",
    "\n",
    "response = get_completion(messages)\n",
    "keywords = response\n",
    "pp(response)\n",
    "\n"
   ]
  },
  {
   "cell_type": "markdown",
   "metadata": {},
   "source": [
    "💡 AI 回覆有時候會多 label，例如上面的 \"重要關鍵字\"\n",
    "這時候可以改一下 prompt 的結尾，加上引導文字，讓 AI 繼續接龍下去。\n",
    "\n",
    "## 加上引導文字"
   ]
  },
  {
   "cell_type": "code",
   "execution_count": 58,
   "metadata": {},
   "outputs": [
    {
     "name": "stdout",
     "output_type": "stream",
     "text": [
      "'2024年、Nvidia、股價、表現。'\n"
     ]
    }
   ],
   "source": [
    "prompt = f\"\"\"\n",
    "你是 Google 搜尋引擎，請根據以下用戶問題，擷取出和問題相關的重要關鍵字:\n",
    "用戶問題: ```{user_query}```\n",
    "關鍵字:\n",
    "\"\"\"\n",
    "\n",
    "messages = [{\"role\": \"user\", \"content\": prompt }]\n",
    "\n",
    "response = get_completion(messages)\n",
    "keywords = response\n",
    "pp(response)"
   ]
  },
  {
   "cell_type": "code",
   "execution_count": 59,
   "metadata": {},
   "outputs": [
    {
     "name": "stdout",
     "output_type": "stream",
     "text": [
      "('Title: NVIDIA股價為何上漲？2024輝達股價還會漲嗎？\\n'\n",
      " ' Description: 2024年2月8日 — 到2023 年12 月，Nvidia '\n",
      " '股價上漲了230%。輝達被認為是當年表現最佳的標準普爾股票之一，其成長速度令其第二大競爭對手(Meta) 相形見絀\\xa0...\\n'\n",
      " '\\n'\n",
      " 'Title: Nvidia股價表現驚人\\n'\n",
      " ' Description: 2024年2月24日 — '\n",
      " '2024年到目前為止，Nvidia的股價一直持續上升，只有在2月21日時出現極短暫的下跌。自年初以來Nvidia股價已飆升近40%，在過去12 '\n",
      " '個月裡甚至飆升了225\\xa0...\\n'\n",
      " '\\n'\n",
      " 'Title: Nvidia 輝達（NVDA）財報分析2024 Q4\\n'\n",
      " ' Description: 2024年2月22日 — ... 股價。 然而由於高成長不會一直持續下去，隨著業績成長放緩，公司股價也難有過去翻倍的表現。 '\n",
      " '亮眼的財報數據和指引，短期能為市場帶來信心。 但如果股價\\xa0...\\n'\n",
      " '\\n'\n",
      " 'Title: 美股史上最快NVIDIA只花8個月達標2兆美元市值\\n'\n",
      " ' Description: 2024年2月25日 — 受惠AI趨勢，2023年NVIDIA股價累計大漲238.87%，2024年至今續漲59.16 '\n",
      " '... 股價表現勢必不俗。 (圖片來源：NVIDIA). ＊編者按：本文僅供參考之用，並不\\xa0...\\n'\n",
      " '\\n'\n",
      " 'Title: NVIDIA股價展望：[2024年上半年]業績、股利資訊與公平價格\\n'\n",
      " ' Description: 6 天前 — NVIDIA '\n",
      " '股價展望：提供投資策略的重要訊息，包括績效分析、股利和預期股價。提供考慮公司業績的適當股票價格資訊。更深入了解NVIDIA 股票的長期價值並\\xa0'\n",
      " '...\\n'\n",
      " '\\n'\n",
      " 'Title: 2024年首選晶片股？TD Cowen分析師：Nvidia能再漲50%\\n'\n",
      " ' Description: 2023年12月12日 — ... 2024年首選晶片股是輝達（Nvidia）。路透社. TD ... '\n",
      " '技嘉、緯創受惠超微AI 晶片亮相法人看好後市表現. 相關新聞. AI助輝達股價飆市值近62兆躍居全球第4大\\xa0...\\n'\n",
      " '\\n'\n",
      " 'Title: 2024年你需要知道的未被命名為NVIDIA的頂級股票\\n'\n",
      " ' Description: 6 天前 — Nvidia Corp. is one of the leading top stocks with 60% '\n",
      " 'gain in 2024, but other lesser-known names have outperformed.\\n'\n",
      " '\\n')\n"
     ]
    }
   ],
   "source": [
    "search_result = google_search(keywords)\n",
    "pp(search_result)"
   ]
  },
  {
   "cell_type": "code",
   "execution_count": 60,
   "metadata": {},
   "outputs": [
    {
     "data": {
      "text/plain": [
       "'請問 2024 年 Nvidia 的股價表現如何?'"
      ]
     },
     "execution_count": 60,
     "metadata": {},
     "output_type": "execute_result"
    }
   ],
   "source": [
    "user_query"
   ]
  },
  {
   "cell_type": "code",
   "execution_count": 61,
   "metadata": {},
   "outputs": [
    {
     "name": "stdout",
     "output_type": "stream",
     "text": [
      "根據最新的資訊，2024年Nvidia的股價一直呈現持續上升的趨勢，除了在2月21日出現極短暫的下跌外，股價一直在飆升。自年初以來，Nvidia的股價已經飆升近40%，在過去12個月中更是飆升了225%。這顯示Nvidia在2024年的表現非常驚人，投資者對其前景持樂觀態度。\n"
     ]
    }
   ],
   "source": [
    "prompt = f\"\"\"\n",
    "\n",
    "請基於以下最新事實回答:\n",
    "\n",
    "{search_result}\n",
    "\n",
    "用戶問題: {user_query}\n",
    "\"\"\"\n",
    "\n",
    "messages = [{\"role\": \"user\", \"content\": prompt }]\n",
    "\n",
    "response = get_completion(messages)\n",
    "print(response)"
   ]
  },
  {
   "cell_type": "markdown",
   "metadata": {},
   "source": [
    "## case2: 外部計算機\n",
    "\n",
    "(通常為兩個 prompt 組合: 抽取 -> 運算 -> 總結) </br>\n",
    "生成式 AI 本質上屬於機率模型，不具備數學運算功能，必須借助外部工具才能達成任務\n",
    "\n",
    "STEP1: 參數抽取"
   ]
  },
  {
   "cell_type": "code",
   "execution_count": 62,
   "metadata": {},
   "outputs": [],
   "source": [
    "question = \"請計算 64 乘以 2 再扣掉 8，以上結果再除100後，再指數 1.234\"\n",
    "\n",
    "# prompt 參考自 langchain LLMMathChain\n",
    "prompt = f\"\"\"\n",
    "Translate a math problem into a expression that can be executed using Python's numexpr library. Use the output of running this code to answer the question.\n",
    "\n",
    "Question: ${{Question with math problem.}}\n",
    "Expression: ${{single line mathematical expression that solves the problem}}\n",
    "\n",
    "Begin.\n",
    "\n",
    "Question: What is 37593 * 67?\n",
    "Expression: 37593 * 67\n",
    "\n",
    "Question: 37593^(1/5)\n",
    "Expression: 37593**(1/5)\n",
    "\n",
    "Question: {question}\n",
    "Expression:\n",
    "\n",
    "\"\"\""
   ]
  },
  {
   "cell_type": "code",
   "execution_count": 63,
   "metadata": {},
   "outputs": [
    {
     "name": "stdout",
     "output_type": "stream",
     "text": [
      "('\\n'\n",
      " 'Translate a math problem into a expression that can be executed using '\n",
      " \"Python's numexpr library. Use the output of running this code to answer the \"\n",
      " 'question.\\n'\n",
      " '\\n'\n",
      " 'Question: ${Question with math problem.}\\n'\n",
      " 'Expression: ${single line mathematical expression that solves the problem}\\n'\n",
      " '\\n'\n",
      " 'Begin.\\n'\n",
      " '\\n'\n",
      " 'Question: What is 37593 * 67?\\n'\n",
      " 'Expression: 37593 * 67\\n'\n",
      " '\\n'\n",
      " 'Question: 37593^(1/5)\\n'\n",
      " 'Expression: 37593**(1/5)\\n'\n",
      " '\\n'\n",
      " 'Question: 請計算 64 乘以 2 再扣掉 8，以上結果再除100後，再指數 1.234\\n'\n",
      " 'Expression:\\n'\n",
      " '\\n')\n"
     ]
    }
   ],
   "source": [
    "pp(prompt)"
   ]
  },
  {
   "cell_type": "code",
   "execution_count": 64,
   "metadata": {},
   "outputs": [
    {
     "name": "stdout",
     "output_type": "stream",
     "text": [
      "'(64 * 2 - 8) / 100 ** 1.234'\n"
     ]
    }
   ],
   "source": [
    "messages = [{\"role\": \"user\", \"content\": prompt }]\n",
    "\n",
    "response = get_completion(messages, model=\"gpt-4\")\n",
    "pp(response)"
   ]
  },
  {
   "cell_type": "markdown",
   "metadata": {},
   "source": [
    "STEP2: 運算"
   ]
  },
  {
   "cell_type": "code",
   "execution_count": 65,
   "metadata": {},
   "outputs": [],
   "source": [
    "import numexpr"
   ]
  },
  {
   "cell_type": "code",
   "execution_count": 66,
   "metadata": {},
   "outputs": [
    {
     "data": {
      "text/plain": [
       "'0.40848982764120106'"
      ]
     },
     "execution_count": 66,
     "metadata": {},
     "output_type": "execute_result"
    }
   ],
   "source": [
    "answer = numexpr.evaluate(response)\n",
    "\n",
    "str(answer)"
   ]
  },
  {
   "cell_type": "markdown",
   "metadata": {},
   "source": [
    "STEP3: 總結\n",
    "\n",
    "執行工具後的回傳，你可以選擇\n",
    "\n",
    "1. 直接回給用戶 或是 轉成某種固定格式回給客戶，就不用再一次呼叫 LLM 了\n",
    "3. 再丟給 LLM 變成自然語言再回給客戶\n"
   ]
  },
  {
   "cell_type": "code",
   "execution_count": 67,
   "metadata": {},
   "outputs": [
    {
     "data": {
      "text/plain": [
       "'請計算 64 乘以 2 再扣掉 8，以上結果再除100後，再指數 1.234'"
      ]
     },
     "execution_count": 67,
     "metadata": {},
     "output_type": "execute_result"
    }
   ],
   "source": [
    "question"
   ]
  },
  {
   "cell_type": "code",
   "execution_count": 68,
   "metadata": {},
   "outputs": [
    {
     "data": {
      "text/plain": [
       "'請計算 64 乘以 2 再扣掉 8，以上結果再除100後，再指數 1.234'"
      ]
     },
     "execution_count": 68,
     "metadata": {},
     "output_type": "execute_result"
    }
   ],
   "source": [
    "question"
   ]
  },
  {
   "cell_type": "code",
   "execution_count": 69,
   "metadata": {},
   "outputs": [
    {
     "name": "stdout",
     "output_type": "stream",
     "text": [
      "'{\\n    \"answer\": \"0.40848982764120106\"\\n}'\n"
     ]
    }
   ],
   "source": [
    "prompt = f\"\"\"\n",
    "這是用戶問題: {question}\n",
    "\n",
    "這其中的數學問題: {response} 和答案: {answer}\n",
    "\n",
    "%%%\n",
    "請用 JSON 格式回傳，遵照以下格式:\n",
    "\"answer\": \"string\" // 答案\n",
    "\n",
    "\"\"\"\n",
    "\n",
    "messages = [{\"role\": \"user\", \"content\": prompt }]\n",
    "\n",
    "response = get_completion(messages, format_type=\"json_object\")\n",
    "pp(response)\n",
    "\n"
   ]
  },
  {
   "cell_type": "code",
   "execution_count": 70,
   "metadata": {},
   "outputs": [
    {
     "data": {
      "text/plain": [
       "'0.40848982764120106'"
      ]
     },
     "execution_count": 70,
     "metadata": {},
     "output_type": "execute_result"
    }
   ],
   "source": [
    "eval(response)[\"answer\"]"
   ]
  },
  {
   "cell_type": "markdown",
   "metadata": {},
   "source": [
    "## 案例三: 串接股價 API\n",
    "\n",
    "這次我們要求 json 格式"
   ]
  },
  {
   "cell_type": "markdown",
   "metadata": {},
   "source": [
    "### Step 1: 從用戶問題中，用 prompt1 來提取出 外部工具的參數"
   ]
  },
  {
   "cell_type": "code",
   "execution_count": 71,
   "metadata": {},
   "outputs": [
    {
     "name": "stdout",
     "output_type": "stream",
     "text": [
      "{\n",
      "  \"error\": \"請提供日期和股票代號\"\n",
      "}\n"
     ]
    }
   ],
   "source": [
    "query = \"請問113年的3月8號股價表現如何?\"\n",
    "\n",
    "messages = [\n",
    "    {\"role\": \"user\", \"content\": f\"\"\"\n",
    "用戶問題: {query}\n",
    "\n",
    "1. 無需回答問題，請從用戶問題中，擷取出日期和台灣股票代號\n",
    "2. 如果日期是民國年份，請加上 1911 轉成西元年份\n",
    "3. 如果用戶沒有提供日期和公司名稱或股票代號，請回傳 {{ \"error\": \"string\" // 錯誤訊息 }}\n",
    "4. 請回覆 JSON 格式，例如\n",
    "{{\n",
    "  \"date\": \"20231015\", // yyyymmdd\n",
    "  \"stock_code\": \"0050\" // 台灣的股票代號\n",
    "}}\"\"\"\n",
    "}]\n",
    "\n",
    "result = get_completion(messages, model=\"gpt-3.5-turbo-1106\", format_type=\"json_object\" )\n",
    "print(result)\n",
    "\n",
    "data = json.loads(result)\n",
    "\n"
   ]
  },
  {
   "cell_type": "code",
   "execution_count": 101,
   "metadata": {},
   "outputs": [
    {
     "name": "stdout",
     "output_type": "stream",
     "text": [
      "{\n",
      "  \"date\": \"20240307\",\n",
      "  \"stock_code\": \"2330\"\n",
      "}\n"
     ]
    }
   ],
   "source": [
    "query = \"請問 113年的3月7號的台積電2330，股價表現如何?\"\n",
    "\n",
    "messages = [\n",
    "    {\"role\": \"user\", \"content\": f\"\"\"\n",
    "用戶問題: {query}\n",
    "\n",
    "1. 無需回答問題，請從用戶問題中，擷取出日期和台灣股票代號\n",
    "2. 如果日期是民國年份，請加上 1911 轉成西元年份\n",
    "3. 如果用戶沒有提供日期和公司名稱或股票代號，請回傳 {{ \"error\": \"string\" // 錯誤訊息 }}\n",
    "4. 請回覆 JSON 格式，例如\n",
    "{{\n",
    "  \"date\": \"20231015\", // yyyymmdd\n",
    "  \"stock_code\": \"0050\" // 台灣的股票代號\n",
    "}}\"\"\"\n",
    "}]\n",
    "\n",
    "result = get_completion(messages, model=\"gpt-3.5-turbo-1106\", format_type=\"json_object\", temperature=1)\n",
    "print(result)\n",
    "\n",
    "data = json.loads(result)"
   ]
  },
  {
   "cell_type": "markdown",
   "metadata": {},
   "source": [
    "### Step 2: 執行工具，拿到結果\n",
    "\n",
    "API 參考自 https://medium.com/%E5%B7%A5%E7%A8%8B%E9%9A%A8%E5%AF%AB%E7%AD%86%E8%A8%98/5%E7%A8%AE%E6%8A%93%E5%8F%96%E5%8F%B0%E8%82%A1%E6%AD%B7%E5%8F%B2%E8%82%A1%E5%83%B9%E7%9A%84%E6%96%B9%E6%B3%95-766bf2ed9d6"
   ]
  },
  {
   "cell_type": "code",
   "execution_count": 102,
   "metadata": {},
   "outputs": [
    {
     "data": {
      "text/plain": [
       "{'stat': 'OK',\n",
       " 'date': '20240307',\n",
       " 'title': '113年03月 2330 台積電           各日成交資訊',\n",
       " 'fields': ['日期', '成交股數', '成交金額', '開盤價', '最高價', '最低價', '收盤價', '漲跌價差', '成交筆數'],\n",
       " 'data': [['113/03/01',\n",
       "   '24,167,721',\n",
       "   '16,699,995,060',\n",
       "   '697.00',\n",
       "   '697.00',\n",
       "   '688.00',\n",
       "   '689.00',\n",
       "   '-1.00',\n",
       "   '26,282'],\n",
       "  ['113/03/04',\n",
       "   '97,210,112',\n",
       "   '69,868,348,694',\n",
       "   '714.00',\n",
       "   '725.00',\n",
       "   '711.00',\n",
       "   '725.00',\n",
       "   '+36.00',\n",
       "   '125,799'],\n",
       "  ['113/03/05',\n",
       "   '73,299,411',\n",
       "   '53,751,887,376',\n",
       "   '735.00',\n",
       "   '738.00',\n",
       "   '728.00',\n",
       "   '730.00',\n",
       "   '+5.00',\n",
       "   '69,851'],\n",
       "  ['113/03/06',\n",
       "   '52,464,833',\n",
       "   '38,203,868,985',\n",
       "   '718.00',\n",
       "   '738.00',\n",
       "   '717.00',\n",
       "   '735.00',\n",
       "   '+5.00',\n",
       "   '49,897'],\n",
       "  ['113/03/07',\n",
       "   '80,382,406',\n",
       "   '61,221,034,146',\n",
       "   '755.00',\n",
       "   '769.00',\n",
       "   '754.00',\n",
       "   '760.00',\n",
       "   '+25.00',\n",
       "   '96,348']],\n",
       " 'notes': ['符號說明:+/-/X表示漲/跌/不比價',\n",
       "  '當日統計資訊含一般、零股、盤後定價、鉅額交易，不含拍賣、標購。',\n",
       "  'ETF證券代號第六碼為K、M、S、C者，表示該ETF以外幣交易。',\n",
       "  '權證證券代號可重複使用，權證顯示之名稱係目前存續權證之簡稱。'],\n",
       " 'total': 5}"
      ]
     },
     "execution_count": 102,
     "metadata": {},
     "output_type": "execute_result"
    }
   ],
   "source": [
    "date = data[\"date\"]\n",
    "stock_code = data[\"stock_code\"]\n",
    "\n",
    "html = requests.get(f'https://www.twse.com.tw/exchangeReport/STOCK_DAY?response=json&date={date}&stockNo={stock_code}')\n",
    "context = json.loads(html.text)\n",
    "context"
   ]
  },
  {
   "cell_type": "code",
   "execution_count": 103,
   "metadata": {},
   "outputs": [
    {
     "data": {
      "text/html": [
       "<div>\n",
       "<style scoped>\n",
       "    .dataframe tbody tr th:only-of-type {\n",
       "        vertical-align: middle;\n",
       "    }\n",
       "\n",
       "    .dataframe tbody tr th {\n",
       "        vertical-align: top;\n",
       "    }\n",
       "\n",
       "    .dataframe thead th {\n",
       "        text-align: right;\n",
       "    }\n",
       "</style>\n",
       "<table border=\"1\" class=\"dataframe\">\n",
       "  <thead>\n",
       "    <tr style=\"text-align: right;\">\n",
       "      <th></th>\n",
       "      <th>日期</th>\n",
       "      <th>成交股數</th>\n",
       "      <th>成交金額</th>\n",
       "      <th>開盤價</th>\n",
       "      <th>最高價</th>\n",
       "      <th>最低價</th>\n",
       "      <th>收盤價</th>\n",
       "      <th>漲跌價差</th>\n",
       "      <th>成交筆數</th>\n",
       "    </tr>\n",
       "  </thead>\n",
       "  <tbody>\n",
       "    <tr>\n",
       "      <th>0</th>\n",
       "      <td>113/03/01</td>\n",
       "      <td>24,167,721</td>\n",
       "      <td>16,699,995,060</td>\n",
       "      <td>697.00</td>\n",
       "      <td>697.00</td>\n",
       "      <td>688.00</td>\n",
       "      <td>689.00</td>\n",
       "      <td>-1.00</td>\n",
       "      <td>26,282</td>\n",
       "    </tr>\n",
       "    <tr>\n",
       "      <th>1</th>\n",
       "      <td>113/03/04</td>\n",
       "      <td>97,210,112</td>\n",
       "      <td>69,868,348,694</td>\n",
       "      <td>714.00</td>\n",
       "      <td>725.00</td>\n",
       "      <td>711.00</td>\n",
       "      <td>725.00</td>\n",
       "      <td>+36.00</td>\n",
       "      <td>125,799</td>\n",
       "    </tr>\n",
       "    <tr>\n",
       "      <th>2</th>\n",
       "      <td>113/03/05</td>\n",
       "      <td>73,299,411</td>\n",
       "      <td>53,751,887,376</td>\n",
       "      <td>735.00</td>\n",
       "      <td>738.00</td>\n",
       "      <td>728.00</td>\n",
       "      <td>730.00</td>\n",
       "      <td>+5.00</td>\n",
       "      <td>69,851</td>\n",
       "    </tr>\n",
       "    <tr>\n",
       "      <th>3</th>\n",
       "      <td>113/03/06</td>\n",
       "      <td>52,464,833</td>\n",
       "      <td>38,203,868,985</td>\n",
       "      <td>718.00</td>\n",
       "      <td>738.00</td>\n",
       "      <td>717.00</td>\n",
       "      <td>735.00</td>\n",
       "      <td>+5.00</td>\n",
       "      <td>49,897</td>\n",
       "    </tr>\n",
       "    <tr>\n",
       "      <th>4</th>\n",
       "      <td>113/03/07</td>\n",
       "      <td>80,382,406</td>\n",
       "      <td>61,221,034,146</td>\n",
       "      <td>755.00</td>\n",
       "      <td>769.00</td>\n",
       "      <td>754.00</td>\n",
       "      <td>760.00</td>\n",
       "      <td>+25.00</td>\n",
       "      <td>96,348</td>\n",
       "    </tr>\n",
       "  </tbody>\n",
       "</table>\n",
       "</div>"
      ],
      "text/plain": [
       "          日期        成交股數            成交金額     開盤價     最高價     最低價     收盤價  \\\n",
       "0  113/03/01  24,167,721  16,699,995,060  697.00  697.00  688.00  689.00   \n",
       "1  113/03/04  97,210,112  69,868,348,694  714.00  725.00  711.00  725.00   \n",
       "2  113/03/05  73,299,411  53,751,887,376  735.00  738.00  728.00  730.00   \n",
       "3  113/03/06  52,464,833  38,203,868,985  718.00  738.00  717.00  735.00   \n",
       "4  113/03/07  80,382,406  61,221,034,146  755.00  769.00  754.00  760.00   \n",
       "\n",
       "     漲跌價差     成交筆數  \n",
       "0   -1.00   26,282  \n",
       "1  +36.00  125,799  \n",
       "2   +5.00   69,851  \n",
       "3   +5.00   49,897  \n",
       "4  +25.00   96,348  "
      ]
     },
     "execution_count": 103,
     "metadata": {},
     "output_type": "execute_result"
    }
   ],
   "source": [
    "import pandas as pd\n",
    "\n",
    "df = pd.DataFrame(context[\"data\"], columns=context[\"fields\"])\n",
    "df"
   ]
  },
  {
   "cell_type": "markdown",
   "metadata": {},
   "source": [
    "### Step 3: 用 (prompt2 + 結果) 轉成自然語言回給用戶"
   ]
  },
  {
   "cell_type": "code",
   "execution_count": 104,
   "metadata": {},
   "outputs": [
    {
     "name": "stdout",
     "output_type": "stream",
     "text": [
      "根據資料顯示，113年3月7號的台積電2330股價表現如下：\n",
      "- 開盤價：755.00\n",
      "- 最高價：769.00\n",
      "- 最低價：754.00\n",
      "- 收盤價：760.00\n",
      "- 漲跌價差：+25.00\n",
      "\n",
      "可以看出當天台積電2330股價有上漲，收盤價為760.00。\n"
     ]
    }
   ],
   "source": [
    "messages = [\n",
    "    {\"role\": \"user\", \"content\": f\"\"\"\n",
    "用戶問題: {query}\n",
    "\n",
    "context: {context}\n",
    "\"\"\"}\n",
    "]\n",
    "\n",
    "result = get_completion(messages, model=\"gpt-3.5-turbo-1106\")\n",
    "print(result)"
   ]
  },
  {
   "cell_type": "code",
   "execution_count": null,
   "metadata": {},
   "outputs": [],
   "source": []
  }
 ],
 "metadata": {
  "kernelspec": {
   "display_name": "Python 3",
   "language": "python",
   "name": "python3"
  },
  "language_info": {
   "codemirror_mode": {
    "name": "ipython",
    "version": 3
   },
   "file_extension": ".py",
   "mimetype": "text/x-python",
   "name": "python",
   "nbconvert_exporter": "python",
   "pygments_lexer": "ipython3",
   "version": "3.11.6"
  }
 },
 "nbformat": 4,
 "nbformat_minor": 2
}
