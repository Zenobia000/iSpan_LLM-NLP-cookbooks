{
 "cells": [
  {
   "cell_type": "markdown",
   "metadata": {
    "id": "AMHa-IJtZiln"
   },
   "source": [
    "這份 Notebook 進行 RAG 評估，包括合成評估資料\n"
   ]
  },
  {
   "cell_type": "markdown",
   "metadata": {},
   "source": [
    "if colab"
   ]
  },
  {
   "cell_type": "code",
   "execution_count": 11,
   "metadata": {
    "id": "xCOQuMBLsONg"
   },
   "outputs": [],
   "source": [
    "# from google.colab import userdata\n",
    "# openai_api_key = userdata.get('openai_api_key')"
   ]
  },
  {
   "cell_type": "code",
   "execution_count": 12,
   "metadata": {
    "colab": {
     "base_uri": "https://localhost:8080/"
    },
    "executionInfo": {
     "elapsed": 11856,
     "status": "ok",
     "timestamp": 1745937799283,
     "user": {
      "displayName": "張文鈿（ihower）",
      "userId": "16942569988483049654"
     },
     "user_tz": -480
    },
    "id": "yL3IqazqU9fG",
    "outputId": "098917f9-e84d-4d32-f0ac-8cf5b6fa1102"
   },
   "outputs": [],
   "source": [
    "# !pip install openai"
   ]
  },
  {
   "cell_type": "code",
   "execution_count": 13,
   "metadata": {
    "colab": {
     "base_uri": "https://localhost:8080/"
    },
    "executionInfo": {
     "elapsed": 13867,
     "status": "ok",
     "timestamp": 1745937813152,
     "user": {
      "displayName": "張文鈿（ihower）",
      "userId": "16942569988483049654"
     },
     "user_tz": -480
    },
    "id": "h1_bEqY-7utc",
    "outputId": "85bc20ce-d731-42c6-ecb0-349bc54a65c0"
   },
   "outputs": [],
   "source": [
    "# !pip install braintrust autoevals"
   ]
  },
  {
   "cell_type": "code",
   "execution_count": 1,
   "metadata": {},
   "outputs": [],
   "source": [
    "# Import necessary libraries\n",
    "## 設定 OpenAI API Key 變數\n",
    "from dotenv import load_dotenv\n",
    "import os\n",
    "\n",
    "# Load the environment variables from .env file\n",
    "load_dotenv()\n",
    "\n",
    "# Access the API key\n",
    "openai_api_key = os.getenv('OPENAI_API_KEY')\n",
    "braintrust_api_key = os.getenv('BRAINTRUST_API_KEY')\n"
   ]
  },
  {
   "cell_type": "code",
   "execution_count": 15,
   "metadata": {},
   "outputs": [],
   "source": [
    "from braintrust import init_logger, traced, wrap_openai, Eval\n",
    "from openai import OpenAI\n",
    "\n",
    "logger = init_logger(project=\"Course-202504\", api_key=braintrust_api_key)\n",
    "client = wrap_openai(OpenAI(api_key=openai_api_key))"
   ]
  },
  {
   "cell_type": "markdown",
   "metadata": {},
   "source": [
    "if colab "
   ]
  },
  {
   "cell_type": "code",
   "execution_count": 16,
   "metadata": {
    "id": "MMGl8Aby7wWl"
   },
   "outputs": [],
   "source": [
    "# braintrust_api_key = userdata.get('braintrust_api_key')\n",
    "\n",
    "# import os\n",
    "# os.environ['OPENAI_API_KEY'] = openai_api_key\n",
    "\n",
    "# from braintrust import init_logger, traced, wrap_openai, Eval\n",
    "# from openai import OpenAI\n",
    "\n",
    "# logger = init_logger(project=\"Course-202504\", api_key=braintrust_api_key)\n",
    "# client = wrap_openai(OpenAI(api_key=openai_api_key))\n"
   ]
  },
  {
   "cell_type": "markdown",
   "metadata": {
    "id": "vklqiGARdTI5"
   },
   "source": [
    "\n",
    "## 評估資料準備: 合成資料 Synthetic Data\n",
    "\n",
    "若要人工製作 dataset，雖然品質好，但是實在太太辛苦了，可以怎麼辦?\n",
    "\n",
    "可用合成 dataset 策略! 用 LLM 幫我們產生評估資料集\n",
    "\n",
    "我們用合成的，原理是:\n",
    "\n",
    "1. 針對要做 RAG 的文本先拆 chunks，也就是 contexts\n",
    "2. 針對 context 用 LLM 產生對應的 \"問題\" 和 \"參考答案\"\n",
    "\n",
    "more: https://ihower.tw/notes/%E6%8A%80%E8%A1%93%E7%AD%86%E8%A8%98-AI/Synthetic+Data+%E5%90%88%E6%88%90%E8%B3%87%E6%96%99"
   ]
  },
  {
   "cell_type": "code",
   "execution_count": 3,
   "metadata": {
    "colab": {
     "base_uri": "https://localhost:8080/"
    },
    "executionInfo": {
     "elapsed": 326,
     "status": "ok",
     "timestamp": 1745937871826,
     "user": {
      "displayName": "張文鈿（ihower）",
      "userId": "16942569988483049654"
     },
     "user_tz": -480
    },
    "id": "Ye2dzIfidgVX",
    "outputId": "5766203d-f382-4d3c-b4b7-1210dbd1ba7f"
   },
   "outputs": [
    {
     "name": "stdout",
     "output_type": "stream",
     "text": [
      "正在下載檔案: https://www.megabank.com.tw/-/media/mega/files/bank/personal/fund/bulletin/weekly-journal/market-analysis/114/1140224.pdf\n",
      "下載完成，已儲存為 1140224.pdf\n"
     ]
    }
   ],
   "source": [
    "import urllib.request\n",
    "\n",
    "url = \"https://www.megabank.com.tw/-/media/mega/files/bank/personal/fund/bulletin/weekly-journal/market-analysis/114/1140224.pdf\"\n",
    "output_path = \"1140224.pdf\"\n",
    "\n",
    "try:\n",
    "    print(f\"正在下載檔案: {url}\")\n",
    "    urllib.request.urlretrieve(url, output_path)\n",
    "    print(f\"下載完成，已儲存為 {output_path}\")\n",
    "except Exception as e:\n",
    "    print(f\"下載失敗: {e}\")\n",
    "\n",
    "# !wget https://www.megabank.com.tw/-/media/mega/files/bank/personal/fund/bulletin/weekly-journal/market-analysis/114/1140224.pdf"
   ]
  },
  {
   "cell_type": "code",
   "execution_count": 18,
   "metadata": {
    "colab": {
     "base_uri": "https://localhost:8080/"
    },
    "executionInfo": {
     "elapsed": 5758,
     "status": "ok",
     "timestamp": 1745937878437,
     "user": {
      "displayName": "張文鈿（ihower）",
      "userId": "16942569988483049654"
     },
     "user_tz": -480
    },
    "id": "Vjb4VEbz9ZDI",
    "outputId": "13f02696-36c2-4697-bf33-787843ded513"
   },
   "outputs": [
    {
     "name": "stdout",
     "output_type": "stream",
     "text": [
      "Looking in indexes: https://mirrors.aliyun.com/pypi/simple/\n",
      "Requirement already satisfied: pymupdf in c:\\users\\xdxd2\\appdata\\local\\programs\\python\\python311\\lib\\site-packages (1.25.5)\n"
     ]
    },
    {
     "name": "stderr",
     "output_type": "stream",
     "text": [
      "\n",
      "[notice] A new release of pip is available: 24.1.1 -> 25.1.1\n",
      "[notice] To update, run: python.exe -m pip install --upgrade pip\n"
     ]
    }
   ],
   "source": [
    "!pip install pymupdf"
   ]
  },
  {
   "cell_type": "code",
   "execution_count": 4,
   "metadata": {
    "id": "yxzGRyZQ8oFH"
   },
   "outputs": [],
   "source": [
    "import fitz # PyMuPDF library\n",
    "pages = fitz.open(\"1140224.pdf\")"
   ]
  },
  {
   "cell_type": "code",
   "execution_count": 16,
   "metadata": {
    "id": "x7KXZvn_AqdD"
   },
   "outputs": [],
   "source": [
    "from typing import List\n",
    "from pydantic import Field, BaseModel\n",
    "\n",
    "class QAPair(BaseModel):\n",
    "    reference: str = Field(..., description=\"The exact text segment from the original context that this Q&A is based on\")\n",
    "    question: str = Field(description=\"A single question about the content\")\n",
    "    answer: str = Field(..., description=\"Answer\")\n",
    "\n",
    "class QAPairs(BaseModel):\n",
    "    pairs: List[QAPair] = Field(..., description=\"List of question/answer pairs\")\n",
    "\n",
    "@traced\n",
    "def produce_questions(content):\n",
    "    completion = client.beta.chat.completions.parse(\n",
    "        model=\"gpt-4.1-mini\",\n",
    "        messages=[\n",
    "            {\n",
    "                \"role\": \"user\",\n",
    "                \"content\": f\"\"\"Please generate 2 question/answer pairs from the following text, focusing specifically on investment and personal finance topics.\n",
    "For each pair, provide a single question, a unique answer, and include the exact text segment from the original context that the Q&A is based on.\n",
    "\n",
    "IMPORTANT:\n",
    "1. Focus ONLY on investment, financial planning, wealth management, stock market, retirement planning, tax optimization, or other personal finance related topics.\n",
    "2. All questions and answers MUST be in Traditional Chinese (Taiwan).\n",
    "3. Use terminology and expressions commonly used in Taiwan's financial sector.\n",
    "4. If the context doesn't contain finance-related information, extract the most relevant aspects that could be applied to personal finance or investment decisions.\n",
    "5. For each Q&A pair, include the exact text from the original context that contains the information used for the Q&A. This should be copied verbatim from the input context.\n",
    "\n",
    "Context: <context>{content}</context>\"\"\",\n",
    "            }\n",
    "        ],\n",
    "        response_format=QAPairs\n",
    "    )\n",
    "\n",
    "    parsed_result = completion.choices[0].message.parsed\n",
    "    pairs = parsed_result.pairs\n",
    "    return pairs"
   ]
  },
  {
   "cell_type": "code",
   "execution_count": 18,
   "metadata": {
    "id": "r1sb1qzGF2J7"
   },
   "outputs": [],
   "source": [
    "x = produce_questions('兆豐銀行所做任何投資意見與市場分析結果，係依據資料製作當時情況進行判斷\\n惟可能因市場變化而變動，投資標的之價格與收益將隨時變動，亦不必然為未來績效表現')\n",
    "\n",
    "h = x[0].model_dump()"
   ]
  },
  {
   "cell_type": "code",
   "execution_count": 19,
   "metadata": {
    "colab": {
     "base_uri": "https://localhost:8080/"
    },
    "executionInfo": {
     "elapsed": 9,
     "status": "ok",
     "timestamp": 1745939670587,
     "user": {
      "displayName": "張文鈿（ihower）",
      "userId": "16942569988483049654"
     },
     "user_tz": -480
    },
    "id": "AR2hxPL2HQrH",
    "outputId": "007132af-ea58-4521-ecc4-af0355483d3a"
   },
   "outputs": [
    {
     "data": {
      "text/plain": [
       "{'reference': '兆豐銀行所做任何投資意見與市場分析結果，係依據資料製作當時情況進行判斷',\n",
       " 'question': '兆豐銀行投資意見的依據為何？',\n",
       " 'answer': '兆豐銀行提供的投資意見是根據當時資料情況進行分析和判斷的。',\n",
       " 'test': 1234}"
      ]
     },
     "execution_count": 19,
     "metadata": {},
     "output_type": "execute_result"
    }
   ],
   "source": [
    "h['test'] = 1234\n",
    "h"
   ]
  },
  {
   "cell_type": "code",
   "execution_count": 20,
   "metadata": {
    "colab": {
     "base_uri": "https://localhost:8080/"
    },
    "executionInfo": {
     "elapsed": 106553,
     "status": "ok",
     "timestamp": 1745939794496,
     "user": {
      "displayName": "張文鈿（ihower）",
      "userId": "16942569988483049654"
     },
     "user_tz": -480
    },
    "id": "PqeMB7IwBs7a",
    "outputId": "e7fdff42-258d-4d04-b650-d0cfd427f477"
   },
   "outputs": [
    {
     "name": "stdout",
     "output_type": "stream",
     "text": [
      "{'reference': '兆豐銀行所做任何投資意見與市場分析結果，係依據資料製作當時情況進行判斷\\n惟可能因市場變化而變動，投資標的之價格與收益將隨時變動，亦不必然為未來績效表現', 'question': '兆豐銀行提供的投資意見是否保證未來績效？', 'answer': '兆豐銀行的投資意見是基於當時資料與情況進行判斷，但因市場變化，投資標的價格與收益會隨時變動，故不保證未來績效表現。', 'page_index': 0}\n",
      "{'reference': '兆豐銀行所做任何投資意見與市場分析結果，係依據資料製作當時情況進行判斷\\n惟可能因市場變化而變動，投資標的之價格與收益將隨時變動，亦不必然為未來績效表現', 'question': '投資標的的價格與收益會受到什麼因素影響？', 'answer': '投資標的的價格與收益會因市場變化而隨時變動，因此投資者需注意市場風險可能帶來的影響。', 'page_index': 0}\n",
      "{'reference': '兆豐銀行所做任何投資意見與市場分析結果，係依據資料製作當時情況進行判斷\\n惟可能因市場變化而變動，投資標的之價格與收益將隨時變動，亦不必然為未來績效表現', 'question': '兆豐銀行在提供投資意見時，如何因應市場變化？', 'answer': '兆豐銀行的投資意見是根據當時情況與資料進行判斷，但因市場變化而可能調整，且投資標的的價格與收益會隨時變動，不保證未來績效。', 'page_index': 1}\n",
      "{'reference': '兆豐銀行所做任何投資意見與市場分析結果，係依據資料製作當時情況進行判斷\\n惟可能因市場變化而變動，投資標的之價格與收益將隨時變動，亦不必然為未來績效表現', 'question': '投資人應如何理解兆豐銀行的投資建議？', 'answer': '投資人應了解兆豐銀行的投資建議是基於當時資料製作，市場價格與收益會隨時變動，因此投資結果並不保證未來績效，需謹慎評估。', 'page_index': 1}\n",
      "{'reference': '3 市 場 焦 點 聚 焦 議 題 資 產 觀 點 市 場 回 顧 資料來源：Bloomberg，2025/2/21 全球主要股票指數(%) 過去1個月 漲跌幅% 過去1年 漲跌幅% 年初迄今 漲跌幅% MSCI AC世界指數 1.20% 16.93% 3.95% S&P 500指數 -0.60% 20.70% 2.24% 歐洲道瓊600指數 5.30% 12.79% 9.11% MSCI亞太不含日本指數 5.31% 15.02% 5.72% 日經225指數 -0.64% 1.35% -2.80% MSCI新興市場指數 6.12% 12.41% 6.68%', 'question': '請問根據2025年2月21日資料，過去一年哪個主要股票指數漲幅最高？', 'answer': '根據資料，S&P 500指數在過去一年漲幅最高，達20.70%。', 'page_index': 2}\n",
      "{'reference': '主要金融市場回顧 股票指數 過去1個月 漲跌幅% 過去1年 漲跌幅% 年初迄今 漲跌幅% MSCI AC世界指數 1.20% 16.93% 3.95% S&P 500指數 -0.60% 20.70% 2.24% 歐洲道瓊600指數 5.30% 12.79% 9.11% MSCI亞太不含日本指數 5.31% 15.02% 5.72% 日經225指數 -0.64% 1.35% -2.80% MSCI新興市場指數 6.12% 12.41% 6.68%', 'question': '2025年初以來，哪個股票指數表現最優異？', 'answer': '歐洲道瓊600指數年初迄今漲幅為9.11%，為資料中表現最優異的股票指數。', 'page_index': 2}\n",
      "{'reference': '兆豐銀行所做任何投資意見與市場分析結果，係依據資料製作當時情況進行判斷\\n惟可能因市場變化而變動，投資標的之價格與收益將隨時變動，亦不必然為未來績效表現', 'question': '兆豐銀行在提供投資建議時，如何提醒投資人關於市場風險？', 'answer': '兆豐銀行提醒投資人，投資意見與市場分析是根據當時資料判斷，但因市場變化快速，投資標的價格與收益會隨時變動，且不保證未來績效表現，需謹慎評估風險。', 'page_index': 3}\n",
      "{'reference': '台灣\\n出口訂單(年比)\\nJan\\n2.7%\\n-3.0 %\\n20.8%', 'question': '根據公布資料，台灣一月出口訂單的年增率為多少，對投資決策有何啟示？', 'answer': '台灣一月出口訂單年比為-3.0%，顯示出口訂單較去年同期減少，投資人應注意此可能反映經濟活動減緩，對相關產業股或外銷產業投資需審慎評估。', 'page_index': 3}\n",
      "{'reference': '美國\\n•\\n2月份服務業PMI初值49.7跌落至榮枯線下方，逾2年低點，加上消費者信心指數2月份降至\\n64.7，月比下降近10%，低於預期數據引爆經濟擔憂。\\n•\\n2月份美銀美林經理人調查報告顯示，最看好全球股和美股，對歐股的看好程度亦大幅提升，\\n認為價值股優於成長股，小型股優於大型股，看好銀行金融類股，美股高檔震盪，美國經濟\\n仍保持韌性，企業盈餘成長仍領先全球，建議投資人布局以美國優於其他國家。', 'question': '根據美銀美林經理人調查，投資人應如何調整股票投資組合以因應美國經濟現況？', 'answer': '投資人應以價值股優於成長股，小型股優於大型股為原則，並看好銀行金融類股，建議以美國股票為布局主軸，因美股經濟仍保持韌性且企業盈餘表現佳。', 'page_index': 4}\n",
      "{'reference': '中國\\n•\\n2月貸款市場報價利率(LPR)按兵不動，一年期報3.1%、五年期以上報3.6%；此外，人行行長\\n潘功勝表示，未來將實施更積極的財政政策和適度寬鬆的貨幣政策，持續推動中國經濟增長。\\n•\\n接棒DeepSeek AI熱潮，阿里巴巴財報展示AI相關產品業績高成長，AI概念帶動陸港股進入技\\n術性牛市，惟貿易戰風險仍大，建議投資人依風險程度逢回酌量衛星布局。', 'question': '中國最新經濟與股市展望中，投資人在面對AI產業和貿易戰風險時應如何操作？', 'answer': '面對中國積極的財政及適度寬鬆的貨幣政策，以及阿里巴巴AI產品高成長帶動技術性牛市，投資人應根據風險承受度，逢回調時酌量做衛星基金布局，同時留意貿易戰風險。', 'page_index': 4}\n",
      "{'reference': '建議投資人可鎖定在中短天期的投資等級債，在獲取穩定息收的同時，降低利率前景變化帶來的波動風險。', 'question': '在目前經濟及市場環境下，兆豐銀行對投資等級債券的建議是什麼？', 'answer': '兆豐銀行建議投資人可配置中短天期的投資等級債，以在獲取穩定收益的同時，減少因利率波動帶來的風險。', 'page_index': 5}\n",
      "{'reference': '2月份密西根大學消費者信心指數意外降至64.7(前月71.7)。2月份美國服務業PMI初值報49.7(前月52.9)，跌落至榮枯線下方，逾2年低點，反映了企業環境的不確定性增加，特別是政府削減開支和關稅問題，同時採購經理人還擔憂價格上漲和地緣政治風險，通膨憂慮揮之不去。', 'question': '美國最新的消費者信心指數及服務業PMI數據對投資人的意義為何？', 'answer': '消費者信心及服務業PMI均走低，顯示經濟前景不確定性增加，包含關稅及通膨風險，使投資人應審慎評估市場波動並調整投資策略。', 'page_index': 5}\n",
      "{'reference': '美股2025年獲利年增率可望維持雙位數：美股大型企業陸續公布財報，去年第4季標普500企業獲利預計將成長15.3%，2025年獲利年增率仍將維持雙位數成長，有利股市維持長線多頭格局。', 'question': '根據兆豐銀行的分析，2025年美股獲利年增率預期為何，對投資人有何意義？', 'answer': '2025年美股獲利年增率預期維持雙位數成長（約11.4%），這代表大型企業獲利增長強勁，有助於股市維持長線多頭格局，投資人可持續關注持股績效及長期投資機會。', 'page_index': 6}\n",
      "{'reference': '類股上以通訊服務(+32.2%)、金融(30%)、非必須消費技(+25.4%)、科技(+17.9%)等類股企業獲利成長性最高，但能源(-30.2%)與原物料(-2.9%)類股表現相對落後。', 'question': '依分析，目前哪幾個標普500類股的獲利增長性較佳，投資人應如何選股？', 'answer': '通訊服務(+32.2%)、金融(30%)、非必須消費技(+25.4%)及科技(+17.9%)類股獲利成長性較佳，投資人可考慮增加這些高成長類股的配置以掌握獲利成長機會，避免投資能源及原物料等相對落後的類股。', 'page_index': 6}\n",
      "{'reference': '八成經理人認為經濟不會衰退、聯準會將持續降息至少一次：2月份美銀美林經理人調查報告顯示，超過8成受訪經理人認為經濟不會衰退，近8成認為聯準會將持續降息至少一次。由於持續看好股市的表現，本月調查的現金水位降至3.5%，為2010年以來的最低水準。', 'question': '根據2月份美銀美林經理人調查，經理人對經濟前景及聯準會利率政策持何看法？', 'answer': '調查顯示超過八成經理人相信經濟不會衰退，且近八成認為聯準會將至少進行一次降息，反映出投資人對市場持續看好並降低現金持有比例至3.5%。', 'page_index': 7}\n",
      "{'reference': '經理人看好全球股和美股，偏好小型股、金融類股：受訪經理人認為股優於債，最看好全球股和美股，對歐股的看好程度亦大幅提升，認為價值股優於成長股，小型股優於大型股，看好銀行金融類股，債券方面則維持減碼。', 'question': '目前經理人對投資組合中股票與債券的配置偏好為何？', 'answer': '經理人傾向股票優於債券，特別看好全球及美國股票，偏好小型股與金融類股，並選擇價值股勝過成長股，同時減少債券部位。', 'page_index': 7}\n",
      "{'reference': '日本核心CPI連續第34個月高於央行設定的2%目標：日本食品價格與電費等能源價格上漲，推升1月消費者物價指數(CPI)\\n從去年12⽉的3.6%上升⾄4.0%，符合預期；核⼼CPI(不包括⽣鮮⾷品)從去年12⽉的3.0%上升至3.2%，⾼於市場預期的3.1%，連續第34個月高於央行所設定的2%目標。', 'question': '日本最近的核心消費者物價指數(CPI)上升代表對投資者有什麼意義？', 'answer': '日本核心CPI連續第34個月高於央行設定的2%目標，代表物價持續上升，可能引發日本央行貨幣政策收緊，投資者需關注央行利率變動，以調整投資組合避險通膨風險。', 'page_index': 8}\n",
      "{'reference': '日本央行於7月前升息機率超過80%：高於預期的CPI物價數據，增強央⾏對於通膨持穩在2%⽬標⽔平附近的信⼼，隔夜指數掉期顯示，市場認為日本央行7月前升息的可能性超過80%；彭博預期日本央⾏將在今年4月與7月各升息1碼，將⽬標利率上調⾄1.0%，日圓兌美元匯率可能從目前的150-160區間回升至140-150區間。', 'question': '根據市場預期，日本央行今年將如何調整利率，這對外匯投資人有何影響？', 'answer': '市場預期日本央行在4月與7月各升息1碼，將利率目標調升至1.0%，利率走高可能支撐日圓匯率回升至140-150區間，外匯投資人應留意日圓升值趨勢，適時調整持倉。', 'page_index': 8}\n",
      "{'reference': '預期2025年日本消費回暖推升實質GDP成長：統計10位日本經濟學家的預期，在剔除物價變動的影響後，預估2025年實質GDP年增長1.3%，其中個人消費將由-0.1%轉為正成長1.0%，個人消費的回暖將驅動經濟持續復甦。此外，日本的加薪幅度已經連續兩年超越通膨，這個趨勢有望延續到2025年的春鬥談判，加上日本政府為了緩解生活成本壓力，計劃推出的補貼措施，將有機會進一步刺激消費、推動經濟增長，並提升內需企業的獲利，有助日股後市表現。', 'question': '根據2025年日本經濟預期，投資日本股市有何潛在優勢？', 'answer': '2025年預計日本實質GDP將成長1.3%，個人消費由負轉正成長1.0%，且加薪幅度超越通膨，政府補貼措施刺激消費，將推動經濟增長及內需企業獲利，這有利於日本股票市場持續走強，投資日股具潛在優勢。', 'page_index': 9}\n",
      "{'reference': '日本GDP與經常帳盈餘表現不俗：日本2024年國內生產總值(GDP)達609兆日圓，名目GDP年成長2.9%、實質GDP年成長0.1%，不僅首次突破600兆日圓且實現連續4年正成長；此外，2024年日本經常收支順差超過29兆日圓亦創下歷史新高，年增率達29.5%。GDP與經常帳數字表現不俗，主要得益於日圓貶值帶動出口競爭力(尤其以半導體相關產業鏈與汽車出口表現強勁)、外國人到訪旅遊令服務收支上揚、外國投資海外匯兌收益提升等因素，共同驅動日本經濟成長動能。', 'question': '日本2024年經濟表現中，哪些因素有助提升出口競爭力及經常帳順差？', 'answer': '日本2024年GDP突破600兆日圓且連續4年正成長，經常帳順差創歷史新高29兆日圓，主因為日圓貶值提升出口競爭力，尤其半導體及汽車產業表現強勁，外國旅遊增加提高服務收支，以及外國投資帶來匯兌收益，共同推動經濟及經常帳盈餘成長。', 'page_index': 9}\n",
      "{'reference': '阿里巴巴AI業績佳，AI概念帶動陸港股走揚：阿里巴巴2024財年第三季(截至2024/12/31)營收年增8%，優於市場預期，阿里雲收入也重回雙位數成長，人工智慧相關產品連續6季保持3位數成長，提振市場對於中國AI前景的信心，加上國家主席習近平參加包含馬雲在內的民營企業座談會，展現官方支持民營部門的信號，支撐陸、港股走揚，上證指數週漲0.97%，恆生指數週漲3.79%。', 'question': '投資人在考慮布局中國市場科技股時，應如何評估AI產業發展對於股市的影響？', 'answer': '投資人應關注AI相關產品業績成長與官方支持信號，因AI概念持續推動陸港股上漲，但應選擇具AI概念且營收展望佳的科技股，並評估自身風險承受度，逢回酌量衛星布局，避免盲目追高。', 'page_index': 10}\n",
      "{'reference': '2月LPR維持不變，人行表示將強化政策力度：2月貸款市場報價利率(LPR)按兵不動，一年期報3.1%、五年期以上報3.6%；此外，人行行長潘功勝公開表示，未來將實施更加積極的財政政策和適度寬鬆的貨幣政策，持續推動中國經濟增長。', 'question': '中國人民銀行提出哪些貨幣政策對投資環境有影響？投資人應如何因應？', 'answer': '中國人民銀行將實施更加積極的財政政策與適度寬鬆貨幣政策，有利於支撐經濟增長與股市表現。投資人可留意政策帶來的資金流動性改善機會，適時調整資產配置以捕捉潛在收益。', 'page_index': 10}\n",
      "{'reference': '多家投行看好業績前景，股價預估仍有2成漲幅：摩根史坦利、瑞銀、美國銀行等多家大型投行持續看好輝達股價表現，彭博統計顯示，輝達股票12個月目標價達$174.4，相對當前股價仍有2成的報酬潛力，綜合買進評等比例達89.6%。', 'question': '為何多家投行看好輝達股價未來的表現？', 'answer': '多家投行看好輝達未來股價表現的原因是預估12個月目標價為每股174.4美元，較當前股價約有2成報酬潛力，且綜合買進評等比例高達89.6%，顯示市場對其成長前景持樂觀態度。', 'page_index': 11}\n",
      "{'reference': '科技巨頭資本支出維持高檔，預估輝達Q4財報表現不俗：Meta、微軟、谷歌、特斯拉及亞馬遜財報顯示，2025年合計資本支出預估高達3,310億美元，儘管DeepSeek展示低成本AI的可能性，但GPU訓練AI仍是最有效的方式。', 'question': '輝達的業績前景為何被看好？關鍵因素有哪些？', 'answer': '輝達業績被看好主要因為科技巨頭如Meta、微軟、谷歌、特斯拉及亞馬遜預計於2025年合計資本支出達3,310億美元，帶動對GPU的需求增加，而GPU仍是AI訓練最有效的工具，促進輝達財報表現穩健。', 'page_index': 11}\n",
      "{'reference': '投資者應把握利率尚處高位的投資好時機，以實現穩定的回報。', 'question': '根據文中，投資者應該如何把握當前利率水平進行投資？', 'answer': '投資者應把握利率尚處高位的投資好時機，以實現穩定的回報。', 'page_index': 12}\n",
      "{'reference': '依據過往經驗，在高殖利率水準進場投資並長期持有，報酬表現將相較過去長期平均略勝一籌，加上推估經濟軟著陸可能性高，信用利差有繼續收窄之勢，及利用債券固定配息的特性，投資回歸長期穩健的現金流策略，進而大幅增添其投資價值。', 'question': '文中提到在高殖利率水準投資並長期持有債券有何優勢？', 'answer': '在高殖利率水準進場投資並長期持有，報酬表現將較過去長期平均略勝，加上經濟軟著陸機率高及信用利差收窄，利用債券固定配息特性，可達成長期穩健的現金流策略並提升投資價值。', 'page_index': 12}\n",
      "{'reference': '短年期非投債，利率敏感度低：聯準會的降息有助固定收益資產，但降息幅度收斂，使長期資產波動加劇。短年期非投債存續期短，對利率變動的敏感度較低，相較於長債，投資者不必擔心利率上升影響債券價格。對於追求收益與風險平衡的投資者而言，鎖定短年期非投債，可在收取相對固定高息同時，控制投資風險，並捕捉到市場變動時機，有效在利率拐點前把握高息收入為主、資本利得為輔的原則，鎖定優質收益。', 'question': '為什麼投資者會考慮鎖定短年期非投資等級債券來平衡收益與風險？', 'answer': '因為短年期非投資等級債券存續期較短，利率敏感度低，投資者不需過度擔心利率上升對債券價格的影響，能在取得比較固定且較高息收的同時，控制投資風險，且能把握市場利率拐點前的收益機會。', 'page_index': 13}\n",
      "{'reference': '美元非投債違約率低於長期均值：美國經濟景氣基本面的向好，預估美元非投資等級債券的違約率有望降至1.3%，遠低於長期均值3.4%，反映出企業違約風險較低的優勢。而經濟軟著陸的預期也使短天期美元非投資等級債券具有持續的固定息收，並優於股市較劇烈的資產波動，成為累計總報酬的重要來源。', 'question': '目前預估美元非投資等級債券的違約率情況如何，對投資組合有何影響？', 'answer': '預估美元非投資等級債券的違約率將降至約1.3%，低於長期平均3.4%，顯示企業違約風險減低。這使短天期美元非投資等級債券能持續提供穩定的息收，且波動性低於股市，是累積總報酬的重要投資標的。', 'page_index': 13}\n",
      "{'reference': '受惠降息的題材 非投資等級債、投資等級債', 'question': '降息環境下，哪類債券標的較受投資人青睞？', 'answer': '在降息環境中，非投資等級債與投資等級債較受投資人青睞，因為降息有助於提升債券價格與收益。', 'page_index': 14}\n",
      "{'reference': '日股、台股、印度 Multi 多重資產組合拳 美股平衡型、複合債', 'question': '多重資產組合配置策略包含哪些市場或資產類別？', 'answer': '多重資產組合配置策略包含日股、台股、印度市場，以及美國平衡型股票與複合債券。', 'page_index': 14}\n",
      "{'reference': '本資料所載部分基金涉及非投資等級債，投資人投資以非投資等級債券為訴求之基金不宜占其投資組合過高之比重。基金經金管會核准，惟不表示絕無風險。由於非投資等級債券之信用評等未達投資等級或未經信用評等，且對利率變動的敏感度甚高，故本基金可能會因利率上升、市場流動性下降，或債券發行機構違約不支付本金、利息或破產而蒙受虧損。部分基金不適合無法承擔相關風險之投資人。基金經理公司以往之經理績效不保證基金之最低投資收益；基金經理公司除盡善良管理人之注意義務外不負責本基金之盈虧，亦不保證最低之收益，投資人申購前應詳閱基金公開說明書。', 'question': '什麼是非投資等級債券基金，為何部分投資人應避免將此類基金納入投資組合過高比例？', 'answer': '非投資等級債券基金投資於信用評等未達投資等級的債券，對利率變動高度敏感，且可能因發行機構違約或破產而導致虧損。因此，不建議無法承擔相關風險的投資人將此類基金在投資組合中占過高比重。基金績效不保證最低收益，投資前應詳閱公開說明書。', 'page_index': 15}\n",
      "{'reference': '基金配息率不代表基金報酬率，且過去配息率不代表未來配息率；基金淨值可能因市場因素而上下波動。投資人因不同時間進場，將有不同之投資績效，過去之績效亦不代表未來績效之保證。本資料如以基金過去績效進行模擬投資組合之報酬率時，僅為歷史資料模擬投資組合之結果，不代表本投資組合之實際報酬率及未來績效保證，不同時間進行模擬操作，其結果亦可能不同。', 'question': '基金的配息率與實際報酬率有何不同，投資人在評估基金績效時應注意什麼？', 'answer': '基金的配息率不等於報酬率，且過去配息率不代表未來配息率。基金淨值會因市場波動改變，投資人在不同時間買進，績效會有差異。過去績效無法保證未來表現，投資人應審慎評估基金投資風險，避免僅以過往配息率判斷績效。', 'page_index': 15}\n"
     ]
    }
   ],
   "source": [
    "dataset = []\n",
    "for idx, page in enumerate(pages):\n",
    "    context = page.get_text()\n",
    "    pairs = produce_questions(context)\n",
    "    for pair in pairs:\n",
    "      h = pair.model_dump()\n",
    "      h[\"page_index\"] = idx\n",
    "      print(h)\n",
    "      dataset.append(h)"
   ]
  },
  {
   "cell_type": "code",
   "execution_count": 21,
   "metadata": {
    "id": "TdhCzmY6D7n5"
   },
   "outputs": [],
   "source": [
    "eval_dataset = []\n",
    "for qa in dataset:\n",
    "    eval_dataset.append(\n",
    "        {\n",
    "            \"input\": qa['question'],\n",
    "            \"expected\": qa['answer'],\n",
    "            \"metadata\": {\n",
    "                \"reference\": qa['reference'],\n",
    "                'page_index': qa['page_index'],\n",
    "                'file_name': '1140224.pdf'\n",
    "            },\n",
    "        }\n",
    "    )"
   ]
  },
  {
   "cell_type": "markdown",
   "metadata": {
    "id": "_gLh8zTeG0XK"
   },
   "source": [
    "## Baseline (No RAG)"
   ]
  },
  {
   "cell_type": "code",
   "execution_count": 22,
   "metadata": {
    "id": "46N7YQNNG1m-"
   },
   "outputs": [],
   "source": [
    "def simple_qa(question):\n",
    "    completion = client.chat.completions.create(\n",
    "        model=\"gpt-4.1-mini\",\n",
    "        messages=[\n",
    "            {\n",
    "                \"role\": \"user\",\n",
    "                \"content\": question,\n",
    "            }\n",
    "        ],\n",
    "    )\n",
    "    return completion.choices[0].message.content"
   ]
  },
  {
   "cell_type": "code",
   "execution_count": 23,
   "metadata": {},
   "outputs": [
    {
     "data": {
      "text/plain": [
       "[{'input': '兆豐銀行提供的投資意見是否保證未來績效？',\n",
       "  'expected': '兆豐銀行的投資意見是基於當時資料與情況進行判斷，但因市場變化，投資標的價格與收益會隨時變動，故不保證未來績效表現。',\n",
       "  'metadata': {'reference': '兆豐銀行所做任何投資意見與市場分析結果，係依據資料製作當時情況進行判斷\\n惟可能因市場變化而變動，投資標的之價格與收益將隨時變動，亦不必然為未來績效表現',\n",
       "   'page_index': 0,\n",
       "   'file_name': '1140224.pdf'}},\n",
       " {'input': '投資標的的價格與收益會受到什麼因素影響？',\n",
       "  'expected': '投資標的的價格與收益會因市場變化而隨時變動，因此投資者需注意市場風險可能帶來的影響。',\n",
       "  'metadata': {'reference': '兆豐銀行所做任何投資意見與市場分析結果，係依據資料製作當時情況進行判斷\\n惟可能因市場變化而變動，投資標的之價格與收益將隨時變動，亦不必然為未來績效表現',\n",
       "   'page_index': 0,\n",
       "   'file_name': '1140224.pdf'}},\n",
       " {'input': '兆豐銀行在提供投資意見時，如何因應市場變化？',\n",
       "  'expected': '兆豐銀行的投資意見是根據當時情況與資料進行判斷，但因市場變化而可能調整，且投資標的的價格與收益會隨時變動，不保證未來績效。',\n",
       "  'metadata': {'reference': '兆豐銀行所做任何投資意見與市場分析結果，係依據資料製作當時情況進行判斷\\n惟可能因市場變化而變動，投資標的之價格與收益將隨時變動，亦不必然為未來績效表現',\n",
       "   'page_index': 1,\n",
       "   'file_name': '1140224.pdf'}},\n",
       " {'input': '投資人應如何理解兆豐銀行的投資建議？',\n",
       "  'expected': '投資人應了解兆豐銀行的投資建議是基於當時資料製作，市場價格與收益會隨時變動，因此投資結果並不保證未來績效，需謹慎評估。',\n",
       "  'metadata': {'reference': '兆豐銀行所做任何投資意見與市場分析結果，係依據資料製作當時情況進行判斷\\n惟可能因市場變化而變動，投資標的之價格與收益將隨時變動，亦不必然為未來績效表現',\n",
       "   'page_index': 1,\n",
       "   'file_name': '1140224.pdf'}},\n",
       " {'input': '請問根據2025年2月21日資料，過去一年哪個主要股票指數漲幅最高？',\n",
       "  'expected': '根據資料，S&P 500指數在過去一年漲幅最高，達20.70%。',\n",
       "  'metadata': {'reference': '3 市 場 焦 點 聚 焦 議 題 資 產 觀 點 市 場 回 顧 資料來源：Bloomberg，2025/2/21 全球主要股票指數(%) 過去1個月 漲跌幅% 過去1年 漲跌幅% 年初迄今 漲跌幅% MSCI AC世界指數 1.20% 16.93% 3.95% S&P 500指數 -0.60% 20.70% 2.24% 歐洲道瓊600指數 5.30% 12.79% 9.11% MSCI亞太不含日本指數 5.31% 15.02% 5.72% 日經225指數 -0.64% 1.35% -2.80% MSCI新興市場指數 6.12% 12.41% 6.68%',\n",
       "   'page_index': 2,\n",
       "   'file_name': '1140224.pdf'}},\n",
       " {'input': '2025年初以來，哪個股票指數表現最優異？',\n",
       "  'expected': '歐洲道瓊600指數年初迄今漲幅為9.11%，為資料中表現最優異的股票指數。',\n",
       "  'metadata': {'reference': '主要金融市場回顧 股票指數 過去1個月 漲跌幅% 過去1年 漲跌幅% 年初迄今 漲跌幅% MSCI AC世界指數 1.20% 16.93% 3.95% S&P 500指數 -0.60% 20.70% 2.24% 歐洲道瓊600指數 5.30% 12.79% 9.11% MSCI亞太不含日本指數 5.31% 15.02% 5.72% 日經225指數 -0.64% 1.35% -2.80% MSCI新興市場指數 6.12% 12.41% 6.68%',\n",
       "   'page_index': 2,\n",
       "   'file_name': '1140224.pdf'}},\n",
       " {'input': '兆豐銀行在提供投資建議時，如何提醒投資人關於市場風險？',\n",
       "  'expected': '兆豐銀行提醒投資人，投資意見與市場分析是根據當時資料判斷，但因市場變化快速，投資標的價格與收益會隨時變動，且不保證未來績效表現，需謹慎評估風險。',\n",
       "  'metadata': {'reference': '兆豐銀行所做任何投資意見與市場分析結果，係依據資料製作當時情況進行判斷\\n惟可能因市場變化而變動，投資標的之價格與收益將隨時變動，亦不必然為未來績效表現',\n",
       "   'page_index': 3,\n",
       "   'file_name': '1140224.pdf'}},\n",
       " {'input': '根據公布資料，台灣一月出口訂單的年增率為多少，對投資決策有何啟示？',\n",
       "  'expected': '台灣一月出口訂單年比為-3.0%，顯示出口訂單較去年同期減少，投資人應注意此可能反映經濟活動減緩，對相關產業股或外銷產業投資需審慎評估。',\n",
       "  'metadata': {'reference': '台灣\\n出口訂單(年比)\\nJan\\n2.7%\\n-3.0 %\\n20.8%',\n",
       "   'page_index': 3,\n",
       "   'file_name': '1140224.pdf'}},\n",
       " {'input': '根據美銀美林經理人調查，投資人應如何調整股票投資組合以因應美國經濟現況？',\n",
       "  'expected': '投資人應以價值股優於成長股，小型股優於大型股為原則，並看好銀行金融類股，建議以美國股票為布局主軸，因美股經濟仍保持韌性且企業盈餘表現佳。',\n",
       "  'metadata': {'reference': '美國\\n•\\n2月份服務業PMI初值49.7跌落至榮枯線下方，逾2年低點，加上消費者信心指數2月份降至\\n64.7，月比下降近10%，低於預期數據引爆經濟擔憂。\\n•\\n2月份美銀美林經理人調查報告顯示，最看好全球股和美股，對歐股的看好程度亦大幅提升，\\n認為價值股優於成長股，小型股優於大型股，看好銀行金融類股，美股高檔震盪，美國經濟\\n仍保持韌性，企業盈餘成長仍領先全球，建議投資人布局以美國優於其他國家。',\n",
       "   'page_index': 4,\n",
       "   'file_name': '1140224.pdf'}},\n",
       " {'input': '中國最新經濟與股市展望中，投資人在面對AI產業和貿易戰風險時應如何操作？',\n",
       "  'expected': '面對中國積極的財政及適度寬鬆的貨幣政策，以及阿里巴巴AI產品高成長帶動技術性牛市，投資人應根據風險承受度，逢回調時酌量做衛星基金布局，同時留意貿易戰風險。',\n",
       "  'metadata': {'reference': '中國\\n•\\n2月貸款市場報價利率(LPR)按兵不動，一年期報3.1%、五年期以上報3.6%；此外，人行行長\\n潘功勝表示，未來將實施更積極的財政政策和適度寬鬆的貨幣政策，持續推動中國經濟增長。\\n•\\n接棒DeepSeek AI熱潮，阿里巴巴財報展示AI相關產品業績高成長，AI概念帶動陸港股進入技\\n術性牛市，惟貿易戰風險仍大，建議投資人依風險程度逢回酌量衛星布局。',\n",
       "   'page_index': 4,\n",
       "   'file_name': '1140224.pdf'}},\n",
       " {'input': '在目前經濟及市場環境下，兆豐銀行對投資等級債券的建議是什麼？',\n",
       "  'expected': '兆豐銀行建議投資人可配置中短天期的投資等級債，以在獲取穩定收益的同時，減少因利率波動帶來的風險。',\n",
       "  'metadata': {'reference': '建議投資人可鎖定在中短天期的投資等級債，在獲取穩定息收的同時，降低利率前景變化帶來的波動風險。',\n",
       "   'page_index': 5,\n",
       "   'file_name': '1140224.pdf'}},\n",
       " {'input': '美國最新的消費者信心指數及服務業PMI數據對投資人的意義為何？',\n",
       "  'expected': '消費者信心及服務業PMI均走低，顯示經濟前景不確定性增加，包含關稅及通膨風險，使投資人應審慎評估市場波動並調整投資策略。',\n",
       "  'metadata': {'reference': '2月份密西根大學消費者信心指數意外降至64.7(前月71.7)。2月份美國服務業PMI初值報49.7(前月52.9)，跌落至榮枯線下方，逾2年低點，反映了企業環境的不確定性增加，特別是政府削減開支和關稅問題，同時採購經理人還擔憂價格上漲和地緣政治風險，通膨憂慮揮之不去。',\n",
       "   'page_index': 5,\n",
       "   'file_name': '1140224.pdf'}},\n",
       " {'input': '根據兆豐銀行的分析，2025年美股獲利年增率預期為何，對投資人有何意義？',\n",
       "  'expected': '2025年美股獲利年增率預期維持雙位數成長（約11.4%），這代表大型企業獲利增長強勁，有助於股市維持長線多頭格局，投資人可持續關注持股績效及長期投資機會。',\n",
       "  'metadata': {'reference': '美股2025年獲利年增率可望維持雙位數：美股大型企業陸續公布財報，去年第4季標普500企業獲利預計將成長15.3%，2025年獲利年增率仍將維持雙位數成長，有利股市維持長線多頭格局。',\n",
       "   'page_index': 6,\n",
       "   'file_name': '1140224.pdf'}},\n",
       " {'input': '依分析，目前哪幾個標普500類股的獲利增長性較佳，投資人應如何選股？',\n",
       "  'expected': '通訊服務(+32.2%)、金融(30%)、非必須消費技(+25.4%)及科技(+17.9%)類股獲利成長性較佳，投資人可考慮增加這些高成長類股的配置以掌握獲利成長機會，避免投資能源及原物料等相對落後的類股。',\n",
       "  'metadata': {'reference': '類股上以通訊服務(+32.2%)、金融(30%)、非必須消費技(+25.4%)、科技(+17.9%)等類股企業獲利成長性最高，但能源(-30.2%)與原物料(-2.9%)類股表現相對落後。',\n",
       "   'page_index': 6,\n",
       "   'file_name': '1140224.pdf'}},\n",
       " {'input': '根據2月份美銀美林經理人調查，經理人對經濟前景及聯準會利率政策持何看法？',\n",
       "  'expected': '調查顯示超過八成經理人相信經濟不會衰退，且近八成認為聯準會將至少進行一次降息，反映出投資人對市場持續看好並降低現金持有比例至3.5%。',\n",
       "  'metadata': {'reference': '八成經理人認為經濟不會衰退、聯準會將持續降息至少一次：2月份美銀美林經理人調查報告顯示，超過8成受訪經理人認為經濟不會衰退，近8成認為聯準會將持續降息至少一次。由於持續看好股市的表現，本月調查的現金水位降至3.5%，為2010年以來的最低水準。',\n",
       "   'page_index': 7,\n",
       "   'file_name': '1140224.pdf'}},\n",
       " {'input': '目前經理人對投資組合中股票與債券的配置偏好為何？',\n",
       "  'expected': '經理人傾向股票優於債券，特別看好全球及美國股票，偏好小型股與金融類股，並選擇價值股勝過成長股，同時減少債券部位。',\n",
       "  'metadata': {'reference': '經理人看好全球股和美股，偏好小型股、金融類股：受訪經理人認為股優於債，最看好全球股和美股，對歐股的看好程度亦大幅提升，認為價值股優於成長股，小型股優於大型股，看好銀行金融類股，債券方面則維持減碼。',\n",
       "   'page_index': 7,\n",
       "   'file_name': '1140224.pdf'}},\n",
       " {'input': '日本最近的核心消費者物價指數(CPI)上升代表對投資者有什麼意義？',\n",
       "  'expected': '日本核心CPI連續第34個月高於央行設定的2%目標，代表物價持續上升，可能引發日本央行貨幣政策收緊，投資者需關注央行利率變動，以調整投資組合避險通膨風險。',\n",
       "  'metadata': {'reference': '日本核心CPI連續第34個月高於央行設定的2%目標：日本食品價格與電費等能源價格上漲，推升1月消費者物價指數(CPI)\\n從去年12⽉的3.6%上升⾄4.0%，符合預期；核⼼CPI(不包括⽣鮮⾷品)從去年12⽉的3.0%上升至3.2%，⾼於市場預期的3.1%，連續第34個月高於央行所設定的2%目標。',\n",
       "   'page_index': 8,\n",
       "   'file_name': '1140224.pdf'}},\n",
       " {'input': '根據市場預期，日本央行今年將如何調整利率，這對外匯投資人有何影響？',\n",
       "  'expected': '市場預期日本央行在4月與7月各升息1碼，將利率目標調升至1.0%，利率走高可能支撐日圓匯率回升至140-150區間，外匯投資人應留意日圓升值趨勢，適時調整持倉。',\n",
       "  'metadata': {'reference': '日本央行於7月前升息機率超過80%：高於預期的CPI物價數據，增強央⾏對於通膨持穩在2%⽬標⽔平附近的信⼼，隔夜指數掉期顯示，市場認為日本央行7月前升息的可能性超過80%；彭博預期日本央⾏將在今年4月與7月各升息1碼，將⽬標利率上調⾄1.0%，日圓兌美元匯率可能從目前的150-160區間回升至140-150區間。',\n",
       "   'page_index': 8,\n",
       "   'file_name': '1140224.pdf'}},\n",
       " {'input': '根據2025年日本經濟預期，投資日本股市有何潛在優勢？',\n",
       "  'expected': '2025年預計日本實質GDP將成長1.3%，個人消費由負轉正成長1.0%，且加薪幅度超越通膨，政府補貼措施刺激消費，將推動經濟增長及內需企業獲利，這有利於日本股票市場持續走強，投資日股具潛在優勢。',\n",
       "  'metadata': {'reference': '預期2025年日本消費回暖推升實質GDP成長：統計10位日本經濟學家的預期，在剔除物價變動的影響後，預估2025年實質GDP年增長1.3%，其中個人消費將由-0.1%轉為正成長1.0%，個人消費的回暖將驅動經濟持續復甦。此外，日本的加薪幅度已經連續兩年超越通膨，這個趨勢有望延續到2025年的春鬥談判，加上日本政府為了緩解生活成本壓力，計劃推出的補貼措施，將有機會進一步刺激消費、推動經濟增長，並提升內需企業的獲利，有助日股後市表現。',\n",
       "   'page_index': 9,\n",
       "   'file_name': '1140224.pdf'}},\n",
       " {'input': '日本2024年經濟表現中，哪些因素有助提升出口競爭力及經常帳順差？',\n",
       "  'expected': '日本2024年GDP突破600兆日圓且連續4年正成長，經常帳順差創歷史新高29兆日圓，主因為日圓貶值提升出口競爭力，尤其半導體及汽車產業表現強勁，外國旅遊增加提高服務收支，以及外國投資帶來匯兌收益，共同推動經濟及經常帳盈餘成長。',\n",
       "  'metadata': {'reference': '日本GDP與經常帳盈餘表現不俗：日本2024年國內生產總值(GDP)達609兆日圓，名目GDP年成長2.9%、實質GDP年成長0.1%，不僅首次突破600兆日圓且實現連續4年正成長；此外，2024年日本經常收支順差超過29兆日圓亦創下歷史新高，年增率達29.5%。GDP與經常帳數字表現不俗，主要得益於日圓貶值帶動出口競爭力(尤其以半導體相關產業鏈與汽車出口表現強勁)、外國人到訪旅遊令服務收支上揚、外國投資海外匯兌收益提升等因素，共同驅動日本經濟成長動能。',\n",
       "   'page_index': 9,\n",
       "   'file_name': '1140224.pdf'}},\n",
       " {'input': '投資人在考慮布局中國市場科技股時，應如何評估AI產業發展對於股市的影響？',\n",
       "  'expected': '投資人應關注AI相關產品業績成長與官方支持信號，因AI概念持續推動陸港股上漲，但應選擇具AI概念且營收展望佳的科技股，並評估自身風險承受度，逢回酌量衛星布局，避免盲目追高。',\n",
       "  'metadata': {'reference': '阿里巴巴AI業績佳，AI概念帶動陸港股走揚：阿里巴巴2024財年第三季(截至2024/12/31)營收年增8%，優於市場預期，阿里雲收入也重回雙位數成長，人工智慧相關產品連續6季保持3位數成長，提振市場對於中國AI前景的信心，加上國家主席習近平參加包含馬雲在內的民營企業座談會，展現官方支持民營部門的信號，支撐陸、港股走揚，上證指數週漲0.97%，恆生指數週漲3.79%。',\n",
       "   'page_index': 10,\n",
       "   'file_name': '1140224.pdf'}},\n",
       " {'input': '中國人民銀行提出哪些貨幣政策對投資環境有影響？投資人應如何因應？',\n",
       "  'expected': '中國人民銀行將實施更加積極的財政政策與適度寬鬆貨幣政策，有利於支撐經濟增長與股市表現。投資人可留意政策帶來的資金流動性改善機會，適時調整資產配置以捕捉潛在收益。',\n",
       "  'metadata': {'reference': '2月LPR維持不變，人行表示將強化政策力度：2月貸款市場報價利率(LPR)按兵不動，一年期報3.1%、五年期以上報3.6%；此外，人行行長潘功勝公開表示，未來將實施更加積極的財政政策和適度寬鬆的貨幣政策，持續推動中國經濟增長。',\n",
       "   'page_index': 10,\n",
       "   'file_name': '1140224.pdf'}},\n",
       " {'input': '為何多家投行看好輝達股價未來的表現？',\n",
       "  'expected': '多家投行看好輝達未來股價表現的原因是預估12個月目標價為每股174.4美元，較當前股價約有2成報酬潛力，且綜合買進評等比例高達89.6%，顯示市場對其成長前景持樂觀態度。',\n",
       "  'metadata': {'reference': '多家投行看好業績前景，股價預估仍有2成漲幅：摩根史坦利、瑞銀、美國銀行等多家大型投行持續看好輝達股價表現，彭博統計顯示，輝達股票12個月目標價達$174.4，相對當前股價仍有2成的報酬潛力，綜合買進評等比例達89.6%。',\n",
       "   'page_index': 11,\n",
       "   'file_name': '1140224.pdf'}},\n",
       " {'input': '輝達的業績前景為何被看好？關鍵因素有哪些？',\n",
       "  'expected': '輝達業績被看好主要因為科技巨頭如Meta、微軟、谷歌、特斯拉及亞馬遜預計於2025年合計資本支出達3,310億美元，帶動對GPU的需求增加，而GPU仍是AI訓練最有效的工具，促進輝達財報表現穩健。',\n",
       "  'metadata': {'reference': '科技巨頭資本支出維持高檔，預估輝達Q4財報表現不俗：Meta、微軟、谷歌、特斯拉及亞馬遜財報顯示，2025年合計資本支出預估高達3,310億美元，儘管DeepSeek展示低成本AI的可能性，但GPU訓練AI仍是最有效的方式。',\n",
       "   'page_index': 11,\n",
       "   'file_name': '1140224.pdf'}},\n",
       " {'input': '根據文中，投資者應該如何把握當前利率水平進行投資？',\n",
       "  'expected': '投資者應把握利率尚處高位的投資好時機，以實現穩定的回報。',\n",
       "  'metadata': {'reference': '投資者應把握利率尚處高位的投資好時機，以實現穩定的回報。',\n",
       "   'page_index': 12,\n",
       "   'file_name': '1140224.pdf'}},\n",
       " {'input': '文中提到在高殖利率水準投資並長期持有債券有何優勢？',\n",
       "  'expected': '在高殖利率水準進場投資並長期持有，報酬表現將較過去長期平均略勝，加上經濟軟著陸機率高及信用利差收窄，利用債券固定配息特性，可達成長期穩健的現金流策略並提升投資價值。',\n",
       "  'metadata': {'reference': '依據過往經驗，在高殖利率水準進場投資並長期持有，報酬表現將相較過去長期平均略勝一籌，加上推估經濟軟著陸可能性高，信用利差有繼續收窄之勢，及利用債券固定配息的特性，投資回歸長期穩健的現金流策略，進而大幅增添其投資價值。',\n",
       "   'page_index': 12,\n",
       "   'file_name': '1140224.pdf'}},\n",
       " {'input': '為什麼投資者會考慮鎖定短年期非投資等級債券來平衡收益與風險？',\n",
       "  'expected': '因為短年期非投資等級債券存續期較短，利率敏感度低，投資者不需過度擔心利率上升對債券價格的影響，能在取得比較固定且較高息收的同時，控制投資風險，且能把握市場利率拐點前的收益機會。',\n",
       "  'metadata': {'reference': '短年期非投債，利率敏感度低：聯準會的降息有助固定收益資產，但降息幅度收斂，使長期資產波動加劇。短年期非投債存續期短，對利率變動的敏感度較低，相較於長債，投資者不必擔心利率上升影響債券價格。對於追求收益與風險平衡的投資者而言，鎖定短年期非投債，可在收取相對固定高息同時，控制投資風險，並捕捉到市場變動時機，有效在利率拐點前把握高息收入為主、資本利得為輔的原則，鎖定優質收益。',\n",
       "   'page_index': 13,\n",
       "   'file_name': '1140224.pdf'}},\n",
       " {'input': '目前預估美元非投資等級債券的違約率情況如何，對投資組合有何影響？',\n",
       "  'expected': '預估美元非投資等級債券的違約率將降至約1.3%，低於長期平均3.4%，顯示企業違約風險減低。這使短天期美元非投資等級債券能持續提供穩定的息收，且波動性低於股市，是累積總報酬的重要投資標的。',\n",
       "  'metadata': {'reference': '美元非投債違約率低於長期均值：美國經濟景氣基本面的向好，預估美元非投資等級債券的違約率有望降至1.3%，遠低於長期均值3.4%，反映出企業違約風險較低的優勢。而經濟軟著陸的預期也使短天期美元非投資等級債券具有持續的固定息收，並優於股市較劇烈的資產波動，成為累計總報酬的重要來源。',\n",
       "   'page_index': 13,\n",
       "   'file_name': '1140224.pdf'}},\n",
       " {'input': '降息環境下，哪類債券標的較受投資人青睞？',\n",
       "  'expected': '在降息環境中，非投資等級債與投資等級債較受投資人青睞，因為降息有助於提升債券價格與收益。',\n",
       "  'metadata': {'reference': '受惠降息的題材 非投資等級債、投資等級債',\n",
       "   'page_index': 14,\n",
       "   'file_name': '1140224.pdf'}},\n",
       " {'input': '多重資產組合配置策略包含哪些市場或資產類別？',\n",
       "  'expected': '多重資產組合配置策略包含日股、台股、印度市場，以及美國平衡型股票與複合債券。',\n",
       "  'metadata': {'reference': '日股、台股、印度 Multi 多重資產組合拳 美股平衡型、複合債',\n",
       "   'page_index': 14,\n",
       "   'file_name': '1140224.pdf'}},\n",
       " {'input': '什麼是非投資等級債券基金，為何部分投資人應避免將此類基金納入投資組合過高比例？',\n",
       "  'expected': '非投資等級債券基金投資於信用評等未達投資等級的債券，對利率變動高度敏感，且可能因發行機構違約或破產而導致虧損。因此，不建議無法承擔相關風險的投資人將此類基金在投資組合中占過高比重。基金績效不保證最低收益，投資前應詳閱公開說明書。',\n",
       "  'metadata': {'reference': '本資料所載部分基金涉及非投資等級債，投資人投資以非投資等級債券為訴求之基金不宜占其投資組合過高之比重。基金經金管會核准，惟不表示絕無風險。由於非投資等級債券之信用評等未達投資等級或未經信用評等，且對利率變動的敏感度甚高，故本基金可能會因利率上升、市場流動性下降，或債券發行機構違約不支付本金、利息或破產而蒙受虧損。部分基金不適合無法承擔相關風險之投資人。基金經理公司以往之經理績效不保證基金之最低投資收益；基金經理公司除盡善良管理人之注意義務外不負責本基金之盈虧，亦不保證最低之收益，投資人申購前應詳閱基金公開說明書。',\n",
       "   'page_index': 15,\n",
       "   'file_name': '1140224.pdf'}},\n",
       " {'input': '基金的配息率與實際報酬率有何不同，投資人在評估基金績效時應注意什麼？',\n",
       "  'expected': '基金的配息率不等於報酬率，且過去配息率不代表未來配息率。基金淨值會因市場波動改變，投資人在不同時間買進，績效會有差異。過去績效無法保證未來表現，投資人應審慎評估基金投資風險，避免僅以過往配息率判斷績效。',\n",
       "  'metadata': {'reference': '基金配息率不代表基金報酬率，且過去配息率不代表未來配息率；基金淨值可能因市場因素而上下波動。投資人因不同時間進場，將有不同之投資績效，過去之績效亦不代表未來績效之保證。本資料如以基金過去績效進行模擬投資組合之報酬率時，僅為歷史資料模擬投資組合之結果，不代表本投資組合之實際報酬率及未來績效保證，不同時間進行模擬操作，其結果亦可能不同。',\n",
       "   'page_index': 15,\n",
       "   'file_name': '1140224.pdf'}}]"
      ]
     },
     "execution_count": 23,
     "metadata": {},
     "output_type": "execute_result"
    }
   ],
   "source": [
    "eval_dataset"
   ]
  },
  {
   "cell_type": "code",
   "execution_count": 24,
   "metadata": {
    "colab": {
     "base_uri": "https://localhost:8080/"
    },
    "executionInfo": {
     "elapsed": 124,
     "status": "ok",
     "timestamp": 1745940858481,
     "user": {
      "displayName": "張文鈿（ihower）",
      "userId": "16942569988483049654"
     },
     "user_tz": -480
    },
    "id": "t6FmensVHkFn",
    "outputId": "268bc978-3dd7-46a6-e2c5-65a65ee51713"
   },
   "outputs": [
    {
     "name": "stderr",
     "output_type": "stream",
     "text": [
      "Experiment No RAG is running at https://www.braintrust.dev/app/ispan/p/Course-202504/experiments/No%20RAG\n",
      "`Eval()` was called from an async context. For better performance, it is recommended to use `await EvalAsync()` instead.\n"
     ]
    },
    {
     "data": {
      "text/plain": [
       "<Task pending name='Task-3' coro=<_EvalCommon.<locals>.run_to_completion() running at c:\\Users\\xdxd2\\AppData\\Local\\Programs\\Python\\Python311\\Lib\\site-packages\\braintrust\\framework.py:688>>"
      ]
     },
     "execution_count": 24,
     "metadata": {},
     "output_type": "execute_result"
    },
    {
     "name": "stderr",
     "output_type": "stream",
     "text": [
      "Course-202504 [experiment_name=No RAG] (data): 32it [00:00, 31994.69it/s]\n"
     ]
    },
    {
     "data": {
      "application/vnd.jupyter.widget-view+json": {
       "model_id": "fca408f966f54c929db7c9a874d0272b",
       "version_major": 2,
       "version_minor": 0
      },
      "text/plain": [
       "Course-202504 [experiment_name=No RAG] (tasks):   0%|          | 0/32 [00:00<?, ?it/s]"
      ]
     },
     "metadata": {},
     "output_type": "display_data"
    },
    {
     "name": "stderr",
     "output_type": "stream",
     "text": [
      "c:\\Users\\xdxd2\\AppData\\Local\\Programs\\Python\\Python311\\Lib\\functools.py:76: RuntimeWarning: coroutine 'produce_questions_main' was never awaited\n",
      "  return partial(update_wrapper, wrapped=wrapped,\n",
      "RuntimeWarning: Enable tracemalloc to get the object allocation traceback\n",
      "c:\\Users\\xdxd2\\AppData\\Local\\Programs\\Python\\Python311\\Lib\\functools.py:76: RuntimeWarning: coroutine 'AsyncBetaCompletionsV1Wrapper.parse' was never awaited\n",
      "  return partial(update_wrapper, wrapped=wrapped,\n",
      "RuntimeWarning: Enable tracemalloc to get the object allocation traceback\n"
     ]
    },
    {
     "name": "stdout",
     "output_type": "stream",
     "text": [
      "\n",
      "=========================SUMMARY=========================\n",
      "48.75% 'Factuality' score\n",
      "\n",
      "1751278937.17s start\n",
      "1751278952.14s end\n",
      "8.61s duration\n",
      "8.54s llm_duration\n",
      "33.06tok prompt_tokens\n",
      "466.03tok completion_tokens\n",
      "499.09tok total_tokens\n",
      "0.00$ estimated_cost\n",
      "0tok prompt_cached_tokens\n",
      "0tok prompt_cache_creation_tokens\n",
      "\n",
      "See results for No RAG at https://www.braintrust.dev/app/ispan/p/Course-202504/experiments/No%20RAG\n"
     ]
    }
   ],
   "source": [
    "import autoevals\n",
    "\n",
    "Eval(\n",
    "    name=\"Course-202504\",\n",
    "    experiment_name=\"No RAG\",\n",
    "    data=eval_dataset,\n",
    "    task=simple_qa,\n",
    "    scores=[autoevals.Factuality(model=\"gpt-4.1\")],\n",
    ")"
   ]
  },
  {
   "cell_type": "markdown",
   "metadata": {
    "id": "IVTDfiCgqumo"
   },
   "source": [
    "## Naive RAG\n",
    "\n",
    "我們用 braintrust 提供的 autoevals 套件中的內建評估 prompt: Factuality  https://github.com/braintrustdata/autoevals/blob/main/templates/factuality.yaml\n",
    "\n",
    "這讓 AI 拿你 task 的 output 和 dataset 中的 expected，比較兩個回答之間的事實內容差異，常見於自動評估問答或教學模型輸出的正確性。以下是詳細解釋：\n",
    "\n",
    "* (A)\t提交的回答是專家答案的子集合，且完全一致。（例：專家說 A+B+C，提交只說 A+C，但沒說錯）\n",
    "* (B)\t提交的回答是專家答案的超集合，也就是它包含更多細節，但與專家內容一致。（例：專家說 A+C，提交說 A+B+C+D）\n",
    "* (C)\t提交的回答與專家答案完全一樣，所有細節一致\n",
    "* (D)\t兩者有事實上的衝突或矛盾\n",
    "* (E)\t雖然兩者不完全一樣，但差異不影響事實正確性（可能是換句話說、順序不同等）\n",
    "\n",
    "\n",
    "* C 與 E 是「最理想」的狀態，得分是 1\n",
    "* B 比 A 更完整，分數略高。0.6 跟 0.4\n",
    "* D 是錯誤，得 0 分。\n",
    "\n",
    "\n"
   ]
  },
  {
   "cell_type": "code",
   "execution_count": null,
   "metadata": {
    "colab": {
     "base_uri": "https://localhost:8080/"
    },
    "executionInfo": {
     "elapsed": 20088,
     "status": "ok",
     "timestamp": 1745940348794,
     "user": {
      "displayName": "張文鈿（ihower）",
      "userId": "16942569988483049654"
     },
     "user_tz": -480
    },
    "id": "fDWcfXjiqdkG",
    "outputId": "29a38240-862c-495c-e4ab-0b1a49a8671a"
   },
   "outputs": [
    {
     "name": "stdout",
     "output_type": "stream",
     "text": [
      "Collecting chromadb\n",
      "  Downloading chromadb-1.0.7-cp39-abi3-manylinux_2_17_x86_64.manylinux2014_x86_64.whl.metadata (6.9 kB)\n",
      "Collecting build>=1.0.3 (from chromadb)\n",
      "  Downloading build-1.2.2.post1-py3-none-any.whl.metadata (6.5 kB)\n",
      "Requirement already satisfied: pydantic>=1.9 in /usr/local/lib/python3.11/dist-packages (from chromadb) (2.11.3)\n",
      "Collecting chroma-hnswlib==0.7.6 (from chromadb)\n",
      "  Downloading chroma_hnswlib-0.7.6-cp311-cp311-manylinux_2_17_x86_64.manylinux2014_x86_64.whl.metadata (252 bytes)\n",
      "Collecting fastapi==0.115.9 (from chromadb)\n",
      "  Downloading fastapi-0.115.9-py3-none-any.whl.metadata (27 kB)\n",
      "Collecting uvicorn>=0.18.3 (from uvicorn[standard]>=0.18.3->chromadb)\n",
      "  Downloading uvicorn-0.34.2-py3-none-any.whl.metadata (6.5 kB)\n",
      "Requirement already satisfied: numpy>=1.22.5 in /usr/local/lib/python3.11/dist-packages (from chromadb) (2.0.2)\n",
      "Collecting posthog>=2.4.0 (from chromadb)\n",
      "  Downloading posthog-4.0.1-py2.py3-none-any.whl.metadata (3.0 kB)\n",
      "Requirement already satisfied: typing-extensions>=4.5.0 in /usr/local/lib/python3.11/dist-packages (from chromadb) (4.13.2)\n",
      "Collecting onnxruntime>=1.14.1 (from chromadb)\n",
      "  Downloading onnxruntime-1.21.1-cp311-cp311-manylinux_2_27_x86_64.manylinux_2_28_x86_64.whl.metadata (4.5 kB)\n",
      "Requirement already satisfied: opentelemetry-api>=1.2.0 in /usr/local/lib/python3.11/dist-packages (from chromadb) (1.32.1)\n",
      "Collecting opentelemetry-exporter-otlp-proto-grpc>=1.2.0 (from chromadb)\n",
      "  Downloading opentelemetry_exporter_otlp_proto_grpc-1.32.1-py3-none-any.whl.metadata (2.5 kB)\n",
      "Collecting opentelemetry-instrumentation-fastapi>=0.41b0 (from chromadb)\n",
      "  Downloading opentelemetry_instrumentation_fastapi-0.53b1-py3-none-any.whl.metadata (2.2 kB)\n",
      "Requirement already satisfied: opentelemetry-sdk>=1.2.0 in /usr/local/lib/python3.11/dist-packages (from chromadb) (1.32.1)\n",
      "Requirement already satisfied: tokenizers>=0.13.2 in /usr/local/lib/python3.11/dist-packages (from chromadb) (0.21.1)\n",
      "Collecting pypika>=0.48.9 (from chromadb)\n",
      "  Downloading PyPika-0.48.9.tar.gz (67 kB)\n",
      "\u001b[2K     \u001b[90m━━━━━━━━━━━━━━━━━━━━━━━━━━━━━━━━━━━━━━━━\u001b[0m \u001b[32m67.3/67.3 kB\u001b[0m \u001b[31m5.2 MB/s\u001b[0m eta \u001b[36m0:00:00\u001b[0m\n",
      "\u001b[?25h  Installing build dependencies ... \u001b[?25l\u001b[?25hdone\n",
      "  Getting requirements to build wheel ... \u001b[?25l\u001b[?25hdone\n",
      "  Preparing metadata (pyproject.toml) ... \u001b[?25l\u001b[?25hdone\n",
      "Requirement already satisfied: tqdm>=4.65.0 in /usr/local/lib/python3.11/dist-packages (from chromadb) (4.67.1)\n",
      "Collecting overrides>=7.3.1 (from chromadb)\n",
      "  Downloading overrides-7.7.0-py3-none-any.whl.metadata (5.8 kB)\n",
      "Requirement already satisfied: importlib-resources in /usr/local/lib/python3.11/dist-packages (from chromadb) (6.5.2)\n",
      "Requirement already satisfied: grpcio>=1.58.0 in /usr/local/lib/python3.11/dist-packages (from chromadb) (1.71.0)\n",
      "Collecting bcrypt>=4.0.1 (from chromadb)\n",
      "  Downloading bcrypt-4.3.0-cp39-abi3-manylinux_2_34_x86_64.whl.metadata (10 kB)\n",
      "Requirement already satisfied: typer>=0.9.0 in /usr/local/lib/python3.11/dist-packages (from chromadb) (0.15.2)\n",
      "Collecting kubernetes>=28.1.0 (from chromadb)\n",
      "  Downloading kubernetes-32.0.1-py2.py3-none-any.whl.metadata (1.7 kB)\n",
      "Requirement already satisfied: tenacity>=8.2.3 in /usr/local/lib/python3.11/dist-packages (from chromadb) (9.1.2)\n",
      "Requirement already satisfied: pyyaml>=6.0.0 in /usr/local/lib/python3.11/dist-packages (from chromadb) (6.0.2)\n",
      "Collecting mmh3>=4.0.1 (from chromadb)\n",
      "  Downloading mmh3-5.1.0-cp311-cp311-manylinux_2_5_x86_64.manylinux1_x86_64.manylinux_2_17_x86_64.manylinux2014_x86_64.whl.metadata (16 kB)\n",
      "Requirement already satisfied: orjson>=3.9.12 in /usr/local/lib/python3.11/dist-packages (from chromadb) (3.10.16)\n",
      "Requirement already satisfied: httpx>=0.27.0 in /usr/local/lib/python3.11/dist-packages (from chromadb) (0.28.1)\n",
      "Requirement already satisfied: rich>=10.11.0 in /usr/local/lib/python3.11/dist-packages (from chromadb) (13.9.4)\n",
      "Requirement already satisfied: jsonschema>=4.19.0 in /usr/local/lib/python3.11/dist-packages (from chromadb) (4.23.0)\n",
      "Collecting starlette<0.46.0,>=0.40.0 (from fastapi==0.115.9->chromadb)\n",
      "  Downloading starlette-0.45.3-py3-none-any.whl.metadata (6.3 kB)\n",
      "Requirement already satisfied: packaging>=19.1 in /usr/local/lib/python3.11/dist-packages (from build>=1.0.3->chromadb) (24.2)\n",
      "Collecting pyproject_hooks (from build>=1.0.3->chromadb)\n",
      "  Downloading pyproject_hooks-1.2.0-py3-none-any.whl.metadata (1.3 kB)\n",
      "Requirement already satisfied: anyio in /usr/local/lib/python3.11/dist-packages (from httpx>=0.27.0->chromadb) (4.9.0)\n",
      "Requirement already satisfied: certifi in /usr/local/lib/python3.11/dist-packages (from httpx>=0.27.0->chromadb) (2025.1.31)\n",
      "Requirement already satisfied: httpcore==1.* in /usr/local/lib/python3.11/dist-packages (from httpx>=0.27.0->chromadb) (1.0.9)\n",
      "Requirement already satisfied: idna in /usr/local/lib/python3.11/dist-packages (from httpx>=0.27.0->chromadb) (3.10)\n",
      "Requirement already satisfied: h11>=0.16 in /usr/local/lib/python3.11/dist-packages (from httpcore==1.*->httpx>=0.27.0->chromadb) (0.16.0)\n",
      "Requirement already satisfied: attrs>=22.2.0 in /usr/local/lib/python3.11/dist-packages (from jsonschema>=4.19.0->chromadb) (25.3.0)\n",
      "Requirement already satisfied: jsonschema-specifications>=2023.03.6 in /usr/local/lib/python3.11/dist-packages (from jsonschema>=4.19.0->chromadb) (2025.4.1)\n",
      "Requirement already satisfied: referencing>=0.28.4 in /usr/local/lib/python3.11/dist-packages (from jsonschema>=4.19.0->chromadb) (0.36.2)\n",
      "Requirement already satisfied: rpds-py>=0.7.1 in /usr/local/lib/python3.11/dist-packages (from jsonschema>=4.19.0->chromadb) (0.24.0)\n",
      "Requirement already satisfied: six>=1.9.0 in /usr/local/lib/python3.11/dist-packages (from kubernetes>=28.1.0->chromadb) (1.17.0)\n",
      "Requirement already satisfied: python-dateutil>=2.5.3 in /usr/local/lib/python3.11/dist-packages (from kubernetes>=28.1.0->chromadb) (2.9.0.post0)\n",
      "Requirement already satisfied: google-auth>=1.0.1 in /usr/local/lib/python3.11/dist-packages (from kubernetes>=28.1.0->chromadb) (2.38.0)\n",
      "Requirement already satisfied: websocket-client!=0.40.0,!=0.41.*,!=0.42.*,>=0.32.0 in /usr/local/lib/python3.11/dist-packages (from kubernetes>=28.1.0->chromadb) (1.8.0)\n",
      "Requirement already satisfied: requests in /usr/local/lib/python3.11/dist-packages (from kubernetes>=28.1.0->chromadb) (2.32.3)\n",
      "Requirement already satisfied: requests-oauthlib in /usr/local/lib/python3.11/dist-packages (from kubernetes>=28.1.0->chromadb) (2.0.0)\n",
      "Requirement already satisfied: oauthlib>=3.2.2 in /usr/local/lib/python3.11/dist-packages (from kubernetes>=28.1.0->chromadb) (3.2.2)\n",
      "Requirement already satisfied: urllib3>=1.24.2 in /usr/local/lib/python3.11/dist-packages (from kubernetes>=28.1.0->chromadb) (2.4.0)\n",
      "Collecting durationpy>=0.7 (from kubernetes>=28.1.0->chromadb)\n",
      "  Downloading durationpy-0.9-py3-none-any.whl.metadata (338 bytes)\n",
      "Collecting coloredlogs (from onnxruntime>=1.14.1->chromadb)\n",
      "  Downloading coloredlogs-15.0.1-py2.py3-none-any.whl.metadata (12 kB)\n",
      "Requirement already satisfied: flatbuffers in /usr/local/lib/python3.11/dist-packages (from onnxruntime>=1.14.1->chromadb) (25.2.10)\n",
      "Requirement already satisfied: protobuf in /usr/local/lib/python3.11/dist-packages (from onnxruntime>=1.14.1->chromadb) (5.29.4)\n",
      "Requirement already satisfied: sympy in /usr/local/lib/python3.11/dist-packages (from onnxruntime>=1.14.1->chromadb) (1.13.1)\n",
      "Requirement already satisfied: deprecated>=1.2.6 in /usr/local/lib/python3.11/dist-packages (from opentelemetry-api>=1.2.0->chromadb) (1.2.18)\n",
      "Requirement already satisfied: importlib-metadata<8.7.0,>=6.0 in /usr/local/lib/python3.11/dist-packages (from opentelemetry-api>=1.2.0->chromadb) (8.6.1)\n",
      "Requirement already satisfied: googleapis-common-protos~=1.52 in /usr/local/lib/python3.11/dist-packages (from opentelemetry-exporter-otlp-proto-grpc>=1.2.0->chromadb) (1.70.0)\n",
      "Collecting opentelemetry-exporter-otlp-proto-common==1.32.1 (from opentelemetry-exporter-otlp-proto-grpc>=1.2.0->chromadb)\n",
      "  Downloading opentelemetry_exporter_otlp_proto_common-1.32.1-py3-none-any.whl.metadata (1.9 kB)\n",
      "Collecting opentelemetry-proto==1.32.1 (from opentelemetry-exporter-otlp-proto-grpc>=1.2.0->chromadb)\n",
      "  Downloading opentelemetry_proto-1.32.1-py3-none-any.whl.metadata (2.4 kB)\n",
      "Collecting opentelemetry-instrumentation-asgi==0.53b1 (from opentelemetry-instrumentation-fastapi>=0.41b0->chromadb)\n",
      "  Downloading opentelemetry_instrumentation_asgi-0.53b1-py3-none-any.whl.metadata (2.1 kB)\n",
      "Collecting opentelemetry-instrumentation==0.53b1 (from opentelemetry-instrumentation-fastapi>=0.41b0->chromadb)\n",
      "  Downloading opentelemetry_instrumentation-0.53b1-py3-none-any.whl.metadata (6.8 kB)\n",
      "Requirement already satisfied: opentelemetry-semantic-conventions==0.53b1 in /usr/local/lib/python3.11/dist-packages (from opentelemetry-instrumentation-fastapi>=0.41b0->chromadb) (0.53b1)\n",
      "Collecting opentelemetry-util-http==0.53b1 (from opentelemetry-instrumentation-fastapi>=0.41b0->chromadb)\n",
      "  Downloading opentelemetry_util_http-0.53b1-py3-none-any.whl.metadata (2.6 kB)\n",
      "Requirement already satisfied: wrapt<2.0.0,>=1.0.0 in /usr/local/lib/python3.11/dist-packages (from opentelemetry-instrumentation==0.53b1->opentelemetry-instrumentation-fastapi>=0.41b0->chromadb) (1.17.2)\n",
      "Collecting asgiref~=3.0 (from opentelemetry-instrumentation-asgi==0.53b1->opentelemetry-instrumentation-fastapi>=0.41b0->chromadb)\n",
      "  Downloading asgiref-3.8.1-py3-none-any.whl.metadata (9.3 kB)\n",
      "Collecting backoff>=1.10.0 (from posthog>=2.4.0->chromadb)\n",
      "  Downloading backoff-2.2.1-py3-none-any.whl.metadata (14 kB)\n",
      "Requirement already satisfied: distro>=1.5.0 in /usr/local/lib/python3.11/dist-packages (from posthog>=2.4.0->chromadb) (1.9.0)\n",
      "Requirement already satisfied: annotated-types>=0.6.0 in /usr/local/lib/python3.11/dist-packages (from pydantic>=1.9->chromadb) (0.7.0)\n",
      "Requirement already satisfied: pydantic-core==2.33.1 in /usr/local/lib/python3.11/dist-packages (from pydantic>=1.9->chromadb) (2.33.1)\n",
      "Requirement already satisfied: typing-inspection>=0.4.0 in /usr/local/lib/python3.11/dist-packages (from pydantic>=1.9->chromadb) (0.4.0)\n",
      "Requirement already satisfied: markdown-it-py>=2.2.0 in /usr/local/lib/python3.11/dist-packages (from rich>=10.11.0->chromadb) (3.0.0)\n",
      "Requirement already satisfied: pygments<3.0.0,>=2.13.0 in /usr/local/lib/python3.11/dist-packages (from rich>=10.11.0->chromadb) (2.19.1)\n",
      "Requirement already satisfied: huggingface-hub<1.0,>=0.16.4 in /usr/local/lib/python3.11/dist-packages (from tokenizers>=0.13.2->chromadb) (0.30.2)\n",
      "Requirement already satisfied: click>=8.0.0 in /usr/local/lib/python3.11/dist-packages (from typer>=0.9.0->chromadb) (8.1.8)\n",
      "Requirement already satisfied: shellingham>=1.3.0 in /usr/local/lib/python3.11/dist-packages (from typer>=0.9.0->chromadb) (1.5.4)\n",
      "Collecting httptools>=0.6.3 (from uvicorn[standard]>=0.18.3->chromadb)\n",
      "  Downloading httptools-0.6.4-cp311-cp311-manylinux_2_5_x86_64.manylinux1_x86_64.manylinux_2_17_x86_64.manylinux2014_x86_64.whl.metadata (3.6 kB)\n",
      "Requirement already satisfied: python-dotenv>=0.13 in /usr/local/lib/python3.11/dist-packages (from uvicorn[standard]>=0.18.3->chromadb) (1.1.0)\n",
      "Collecting uvloop!=0.15.0,!=0.15.1,>=0.14.0 (from uvicorn[standard]>=0.18.3->chromadb)\n",
      "  Downloading uvloop-0.21.0-cp311-cp311-manylinux_2_17_x86_64.manylinux2014_x86_64.whl.metadata (4.9 kB)\n",
      "Collecting watchfiles>=0.13 (from uvicorn[standard]>=0.18.3->chromadb)\n",
      "  Downloading watchfiles-1.0.5-cp311-cp311-manylinux_2_17_x86_64.manylinux2014_x86_64.whl.metadata (4.9 kB)\n",
      "Requirement already satisfied: websockets>=10.4 in /usr/local/lib/python3.11/dist-packages (from uvicorn[standard]>=0.18.3->chromadb) (15.0.1)\n",
      "Requirement already satisfied: cachetools<6.0,>=2.0.0 in /usr/local/lib/python3.11/dist-packages (from google-auth>=1.0.1->kubernetes>=28.1.0->chromadb) (5.5.2)\n",
      "Requirement already satisfied: pyasn1-modules>=0.2.1 in /usr/local/lib/python3.11/dist-packages (from google-auth>=1.0.1->kubernetes>=28.1.0->chromadb) (0.4.2)\n",
      "Requirement already satisfied: rsa<5,>=3.1.4 in /usr/local/lib/python3.11/dist-packages (from google-auth>=1.0.1->kubernetes>=28.1.0->chromadb) (4.9.1)\n",
      "Requirement already satisfied: filelock in /usr/local/lib/python3.11/dist-packages (from huggingface-hub<1.0,>=0.16.4->tokenizers>=0.13.2->chromadb) (3.18.0)\n",
      "Requirement already satisfied: fsspec>=2023.5.0 in /usr/local/lib/python3.11/dist-packages (from huggingface-hub<1.0,>=0.16.4->tokenizers>=0.13.2->chromadb) (2025.3.2)\n",
      "Requirement already satisfied: zipp>=3.20 in /usr/local/lib/python3.11/dist-packages (from importlib-metadata<8.7.0,>=6.0->opentelemetry-api>=1.2.0->chromadb) (3.21.0)\n",
      "Requirement already satisfied: mdurl~=0.1 in /usr/local/lib/python3.11/dist-packages (from markdown-it-py>=2.2.0->rich>=10.11.0->chromadb) (0.1.2)\n",
      "Requirement already satisfied: charset-normalizer<4,>=2 in /usr/local/lib/python3.11/dist-packages (from requests->kubernetes>=28.1.0->chromadb) (3.4.1)\n",
      "Requirement already satisfied: sniffio>=1.1 in /usr/local/lib/python3.11/dist-packages (from anyio->httpx>=0.27.0->chromadb) (1.3.1)\n",
      "Collecting humanfriendly>=9.1 (from coloredlogs->onnxruntime>=1.14.1->chromadb)\n",
      "  Downloading humanfriendly-10.0-py2.py3-none-any.whl.metadata (9.2 kB)\n",
      "Requirement already satisfied: mpmath<1.4,>=1.1.0 in /usr/local/lib/python3.11/dist-packages (from sympy->onnxruntime>=1.14.1->chromadb) (1.3.0)\n",
      "Requirement already satisfied: pyasn1<0.7.0,>=0.6.1 in /usr/local/lib/python3.11/dist-packages (from pyasn1-modules>=0.2.1->google-auth>=1.0.1->kubernetes>=28.1.0->chromadb) (0.6.1)\n",
      "Downloading chromadb-1.0.7-cp39-abi3-manylinux_2_17_x86_64.manylinux2014_x86_64.whl (18.3 MB)\n",
      "\u001b[2K   \u001b[90m━━━━━━━━━━━━━━━━━━━━━━━━━━━━━━━━━━━━━━━━\u001b[0m \u001b[32m18.3/18.3 MB\u001b[0m \u001b[31m62.4 MB/s\u001b[0m eta \u001b[36m0:00:00\u001b[0m\n",
      "\u001b[?25hDownloading chroma_hnswlib-0.7.6-cp311-cp311-manylinux_2_17_x86_64.manylinux2014_x86_64.whl (2.4 MB)\n",
      "\u001b[2K   \u001b[90m━━━━━━━━━━━━━━━━━━━━━━━━━━━━━━━━━━━━━━━━\u001b[0m \u001b[32m2.4/2.4 MB\u001b[0m \u001b[31m85.8 MB/s\u001b[0m eta \u001b[36m0:00:00\u001b[0m\n",
      "\u001b[?25hDownloading fastapi-0.115.9-py3-none-any.whl (94 kB)\n",
      "\u001b[2K   \u001b[90m━━━━━━━━━━━━━━━━━━━━━━━━━━━━━━━━━━━━━━━━\u001b[0m \u001b[32m94.9/94.9 kB\u001b[0m \u001b[31m8.6 MB/s\u001b[0m eta \u001b[36m0:00:00\u001b[0m\n",
      "\u001b[?25hDownloading bcrypt-4.3.0-cp39-abi3-manylinux_2_34_x86_64.whl (284 kB)\n",
      "\u001b[2K   \u001b[90m━━━━━━━━━━━━━━━━━━━━━━━━━━━━━━━━━━━━━━━━\u001b[0m \u001b[32m284.2/284.2 kB\u001b[0m \u001b[31m23.6 MB/s\u001b[0m eta \u001b[36m0:00:00\u001b[0m\n",
      "\u001b[?25hDownloading build-1.2.2.post1-py3-none-any.whl (22 kB)\n",
      "Downloading kubernetes-32.0.1-py2.py3-none-any.whl (2.0 MB)\n",
      "\u001b[2K   \u001b[90m━━━━━━━━━━━━━━━━━━━━━━━━━━━━━━━━━━━━━━━━\u001b[0m \u001b[32m2.0/2.0 MB\u001b[0m \u001b[31m70.9 MB/s\u001b[0m eta \u001b[36m0:00:00\u001b[0m\n",
      "\u001b[?25hDownloading mmh3-5.1.0-cp311-cp311-manylinux_2_5_x86_64.manylinux1_x86_64.manylinux_2_17_x86_64.manylinux2014_x86_64.whl (101 kB)\n",
      "\u001b[2K   \u001b[90m━━━━━━━━━━━━━━━━━━━━━━━━━━━━━━━━━━━━━━━━\u001b[0m \u001b[32m101.6/101.6 kB\u001b[0m \u001b[31m8.5 MB/s\u001b[0m eta \u001b[36m0:00:00\u001b[0m\n",
      "\u001b[?25hDownloading onnxruntime-1.21.1-cp311-cp311-manylinux_2_27_x86_64.manylinux_2_28_x86_64.whl (16.0 MB)\n",
      "\u001b[2K   \u001b[90m━━━━━━━━━━━━━━━━━━━━━━━━━━━━━━━━━━━━━━━━\u001b[0m \u001b[32m16.0/16.0 MB\u001b[0m \u001b[31m103.6 MB/s\u001b[0m eta \u001b[36m0:00:00\u001b[0m\n",
      "\u001b[?25hDownloading opentelemetry_exporter_otlp_proto_grpc-1.32.1-py3-none-any.whl (18 kB)\n",
      "Downloading opentelemetry_exporter_otlp_proto_common-1.32.1-py3-none-any.whl (18 kB)\n",
      "Downloading opentelemetry_proto-1.32.1-py3-none-any.whl (55 kB)\n",
      "\u001b[2K   \u001b[90m━━━━━━━━━━━━━━━━━━━━━━━━━━━━━━━━━━━━━━━━\u001b[0m \u001b[32m55.9/55.9 kB\u001b[0m \u001b[31m5.1 MB/s\u001b[0m eta \u001b[36m0:00:00\u001b[0m\n",
      "\u001b[?25hDownloading opentelemetry_instrumentation_fastapi-0.53b1-py3-none-any.whl (12 kB)\n",
      "Downloading opentelemetry_instrumentation-0.53b1-py3-none-any.whl (30 kB)\n",
      "Downloading opentelemetry_instrumentation_asgi-0.53b1-py3-none-any.whl (16 kB)\n",
      "Downloading opentelemetry_util_http-0.53b1-py3-none-any.whl (7.3 kB)\n",
      "Downloading overrides-7.7.0-py3-none-any.whl (17 kB)\n",
      "Downloading posthog-4.0.1-py2.py3-none-any.whl (92 kB)\n",
      "\u001b[2K   \u001b[90m━━━━━━━━━━━━━━━━━━━━━━━━━━━━━━━━━━━━━━━━\u001b[0m \u001b[32m92.0/92.0 kB\u001b[0m \u001b[31m7.2 MB/s\u001b[0m eta \u001b[36m0:00:00\u001b[0m\n",
      "\u001b[?25hDownloading uvicorn-0.34.2-py3-none-any.whl (62 kB)\n",
      "\u001b[2K   \u001b[90m━━━━━━━━━━━━━━━━━━━━━━━━━━━━━━━━━━━━━━━━\u001b[0m \u001b[32m62.5/62.5 kB\u001b[0m \u001b[31m6.2 MB/s\u001b[0m eta \u001b[36m0:00:00\u001b[0m\n",
      "\u001b[?25hDownloading backoff-2.2.1-py3-none-any.whl (15 kB)\n",
      "Downloading durationpy-0.9-py3-none-any.whl (3.5 kB)\n",
      "Downloading httptools-0.6.4-cp311-cp311-manylinux_2_5_x86_64.manylinux1_x86_64.manylinux_2_17_x86_64.manylinux2014_x86_64.whl (459 kB)\n",
      "\u001b[2K   \u001b[90m━━━━━━━━━━━━━━━━━━━━━━━━━━━━━━━━━━━━━━━━\u001b[0m \u001b[32m459.8/459.8 kB\u001b[0m \u001b[31m26.6 MB/s\u001b[0m eta \u001b[36m0:00:00\u001b[0m\n",
      "\u001b[?25hDownloading starlette-0.45.3-py3-none-any.whl (71 kB)\n",
      "\u001b[2K   \u001b[90m━━━━━━━━━━━━━━━━━━━━━━━━━━━━━━━━━━━━━━━━\u001b[0m \u001b[32m71.5/71.5 kB\u001b[0m \u001b[31m5.7 MB/s\u001b[0m eta \u001b[36m0:00:00\u001b[0m\n",
      "\u001b[?25hDownloading uvloop-0.21.0-cp311-cp311-manylinux_2_17_x86_64.manylinux2014_x86_64.whl (4.0 MB)\n",
      "\u001b[2K   \u001b[90m━━━━━━━━━━━━━━━━━━━━━━━━━━━━━━━━━━━━━━━━\u001b[0m \u001b[32m4.0/4.0 MB\u001b[0m \u001b[31m99.0 MB/s\u001b[0m eta \u001b[36m0:00:00\u001b[0m\n",
      "\u001b[?25hDownloading watchfiles-1.0.5-cp311-cp311-manylinux_2_17_x86_64.manylinux2014_x86_64.whl (454 kB)\n",
      "\u001b[2K   \u001b[90m━━━━━━━━━━━━━━━━━━━━━━━━━━━━━━━━━━━━━━━━\u001b[0m \u001b[32m454.8/454.8 kB\u001b[0m \u001b[31m31.0 MB/s\u001b[0m eta \u001b[36m0:00:00\u001b[0m\n",
      "\u001b[?25hDownloading coloredlogs-15.0.1-py2.py3-none-any.whl (46 kB)\n",
      "\u001b[2K   \u001b[90m━━━━━━━━━━━━━━━━━━━━━━━━━━━━━━━━━━━━━━━━\u001b[0m \u001b[32m46.0/46.0 kB\u001b[0m \u001b[31m3.4 MB/s\u001b[0m eta \u001b[36m0:00:00\u001b[0m\n",
      "\u001b[?25hDownloading pyproject_hooks-1.2.0-py3-none-any.whl (10 kB)\n",
      "Downloading asgiref-3.8.1-py3-none-any.whl (23 kB)\n",
      "Downloading humanfriendly-10.0-py2.py3-none-any.whl (86 kB)\n",
      "\u001b[2K   \u001b[90m━━━━━━━━━━━━━━━━━━━━━━━━━━━━━━━━━━━━━━━━\u001b[0m \u001b[32m86.8/86.8 kB\u001b[0m \u001b[31m7.5 MB/s\u001b[0m eta \u001b[36m0:00:00\u001b[0m\n",
      "\u001b[?25hBuilding wheels for collected packages: pypika\n",
      "  Building wheel for pypika (pyproject.toml) ... \u001b[?25l\u001b[?25hdone\n",
      "  Created wheel for pypika: filename=pypika-0.48.9-py2.py3-none-any.whl size=53800 sha256=2ce262040dcce4c502685ed88a5c68b5515d25af1ae1c771cabe3ba9568f26aa\n",
      "  Stored in directory: /root/.cache/pip/wheels/a3/01/bd/4c40ceb9d5354160cb186dcc153360f4ab7eb23e2b24daf96d\n",
      "Successfully built pypika\n",
      "Installing collected packages: pypika, durationpy, uvloop, uvicorn, pyproject_hooks, overrides, opentelemetry-util-http, opentelemetry-proto, mmh3, humanfriendly, httptools, chroma-hnswlib, bcrypt, backoff, asgiref, watchfiles, starlette, posthog, opentelemetry-exporter-otlp-proto-common, coloredlogs, build, onnxruntime, kubernetes, fastapi, opentelemetry-instrumentation, opentelemetry-instrumentation-asgi, opentelemetry-exporter-otlp-proto-grpc, opentelemetry-instrumentation-fastapi, chromadb\n",
      "Successfully installed asgiref-3.8.1 backoff-2.2.1 bcrypt-4.3.0 build-1.2.2.post1 chroma-hnswlib-0.7.6 chromadb-1.0.7 coloredlogs-15.0.1 durationpy-0.9 fastapi-0.115.9 httptools-0.6.4 humanfriendly-10.0 kubernetes-32.0.1 mmh3-5.1.0 onnxruntime-1.21.1 opentelemetry-exporter-otlp-proto-common-1.32.1 opentelemetry-exporter-otlp-proto-grpc-1.32.1 opentelemetry-instrumentation-0.53b1 opentelemetry-instrumentation-asgi-0.53b1 opentelemetry-instrumentation-fastapi-0.53b1 opentelemetry-proto-1.32.1 opentelemetry-util-http-0.53b1 overrides-7.7.0 posthog-4.0.1 pypika-0.48.9 pyproject_hooks-1.2.0 starlette-0.45.3 uvicorn-0.34.2 uvloop-0.21.0 watchfiles-1.0.5\n"
     ]
    }
   ],
   "source": [
    "!pip install chromadb"
   ]
  },
  {
   "cell_type": "code",
   "execution_count": null,
   "metadata": {
    "id": "A3jKBbb_qy1j"
   },
   "outputs": [],
   "source": [
    "import chromadb\n",
    "chroma_client = chromadb.Client()\n",
    "\n",
    "collection = chroma_client.create_collection(name=\"collection3\")"
   ]
  },
  {
   "cell_type": "code",
   "execution_count": null,
   "metadata": {
    "colab": {
     "base_uri": "https://localhost:8080/"
    },
    "executionInfo": {
     "elapsed": 2713,
     "status": "ok",
     "timestamp": 1745940369806,
     "user": {
      "displayName": "張文鈿（ihower）",
      "userId": "16942569988483049654"
     },
     "user_tz": -480
    },
    "id": "eRwY3hVsJ75w",
    "outputId": "7b7bbb6b-cb91-41dc-bbb6-9ac1c148f4f7"
   },
   "outputs": [
    {
     "name": "stdout",
     "output_type": "stream",
     "text": [
      "Requirement already satisfied: tiktoken in /usr/local/lib/python3.11/dist-packages (0.9.0)\n",
      "Requirement already satisfied: regex>=2022.1.18 in /usr/local/lib/python3.11/dist-packages (from tiktoken) (2024.11.6)\n",
      "Requirement already satisfied: requests>=2.26.0 in /usr/local/lib/python3.11/dist-packages (from tiktoken) (2.32.3)\n",
      "Requirement already satisfied: charset-normalizer<4,>=2 in /usr/local/lib/python3.11/dist-packages (from requests>=2.26.0->tiktoken) (3.4.1)\n",
      "Requirement already satisfied: idna<4,>=2.5 in /usr/local/lib/python3.11/dist-packages (from requests>=2.26.0->tiktoken) (3.10)\n",
      "Requirement already satisfied: urllib3<3,>=1.21.1 in /usr/local/lib/python3.11/dist-packages (from requests>=2.26.0->tiktoken) (2.4.0)\n",
      "Requirement already satisfied: certifi>=2017.4.17 in /usr/local/lib/python3.11/dist-packages (from requests>=2.26.0->tiktoken) (2025.1.31)\n"
     ]
    }
   ],
   "source": [
    "!pip install tiktoken"
   ]
  },
  {
   "cell_type": "code",
   "execution_count": null,
   "metadata": {
    "colab": {
     "base_uri": "https://localhost:8080/"
    },
    "executionInfo": {
     "elapsed": 3257,
     "status": "ok",
     "timestamp": 1745940395316,
     "user": {
      "displayName": "張文鈿（ihower）",
      "userId": "16942569988483049654"
     },
     "user_tz": -480
    },
    "id": "J2BflwoQKCRL",
    "outputId": "caf1ba9f-e7b9-4469-a44f-b1db3a721a28"
   },
   "outputs": [
    {
     "name": "stdout",
     "output_type": "stream",
     "text": [
      "Requirement already satisfied: langchain_text_splitters in /usr/local/lib/python3.11/dist-packages (0.3.8)\n",
      "Requirement already satisfied: langchain-core<1.0.0,>=0.3.51 in /usr/local/lib/python3.11/dist-packages (from langchain_text_splitters) (0.3.56)\n",
      "Requirement already satisfied: langsmith<0.4,>=0.1.125 in /usr/local/lib/python3.11/dist-packages (from langchain-core<1.0.0,>=0.3.51->langchain_text_splitters) (0.3.34)\n",
      "Requirement already satisfied: tenacity!=8.4.0,<10.0.0,>=8.1.0 in /usr/local/lib/python3.11/dist-packages (from langchain-core<1.0.0,>=0.3.51->langchain_text_splitters) (9.1.2)\n",
      "Requirement already satisfied: jsonpatch<2.0,>=1.33 in /usr/local/lib/python3.11/dist-packages (from langchain-core<1.0.0,>=0.3.51->langchain_text_splitters) (1.33)\n",
      "Requirement already satisfied: PyYAML>=5.3 in /usr/local/lib/python3.11/dist-packages (from langchain-core<1.0.0,>=0.3.51->langchain_text_splitters) (6.0.2)\n",
      "Requirement already satisfied: packaging<25,>=23.2 in /usr/local/lib/python3.11/dist-packages (from langchain-core<1.0.0,>=0.3.51->langchain_text_splitters) (24.2)\n",
      "Requirement already satisfied: typing-extensions>=4.7 in /usr/local/lib/python3.11/dist-packages (from langchain-core<1.0.0,>=0.3.51->langchain_text_splitters) (4.13.2)\n",
      "Requirement already satisfied: pydantic<3.0.0,>=2.5.2 in /usr/local/lib/python3.11/dist-packages (from langchain-core<1.0.0,>=0.3.51->langchain_text_splitters) (2.11.3)\n",
      "Requirement already satisfied: jsonpointer>=1.9 in /usr/local/lib/python3.11/dist-packages (from jsonpatch<2.0,>=1.33->langchain-core<1.0.0,>=0.3.51->langchain_text_splitters) (3.0.0)\n",
      "Requirement already satisfied: httpx<1,>=0.23.0 in /usr/local/lib/python3.11/dist-packages (from langsmith<0.4,>=0.1.125->langchain-core<1.0.0,>=0.3.51->langchain_text_splitters) (0.28.1)\n",
      "Requirement already satisfied: orjson<4.0.0,>=3.9.14 in /usr/local/lib/python3.11/dist-packages (from langsmith<0.4,>=0.1.125->langchain-core<1.0.0,>=0.3.51->langchain_text_splitters) (3.10.16)\n",
      "Requirement already satisfied: requests<3,>=2 in /usr/local/lib/python3.11/dist-packages (from langsmith<0.4,>=0.1.125->langchain-core<1.0.0,>=0.3.51->langchain_text_splitters) (2.32.3)\n",
      "Requirement already satisfied: requests-toolbelt<2.0.0,>=1.0.0 in /usr/local/lib/python3.11/dist-packages (from langsmith<0.4,>=0.1.125->langchain-core<1.0.0,>=0.3.51->langchain_text_splitters) (1.0.0)\n",
      "Requirement already satisfied: zstandard<0.24.0,>=0.23.0 in /usr/local/lib/python3.11/dist-packages (from langsmith<0.4,>=0.1.125->langchain-core<1.0.0,>=0.3.51->langchain_text_splitters) (0.23.0)\n",
      "Requirement already satisfied: annotated-types>=0.6.0 in /usr/local/lib/python3.11/dist-packages (from pydantic<3.0.0,>=2.5.2->langchain-core<1.0.0,>=0.3.51->langchain_text_splitters) (0.7.0)\n",
      "Requirement already satisfied: pydantic-core==2.33.1 in /usr/local/lib/python3.11/dist-packages (from pydantic<3.0.0,>=2.5.2->langchain-core<1.0.0,>=0.3.51->langchain_text_splitters) (2.33.1)\n",
      "Requirement already satisfied: typing-inspection>=0.4.0 in /usr/local/lib/python3.11/dist-packages (from pydantic<3.0.0,>=2.5.2->langchain-core<1.0.0,>=0.3.51->langchain_text_splitters) (0.4.0)\n",
      "Requirement already satisfied: anyio in /usr/local/lib/python3.11/dist-packages (from httpx<1,>=0.23.0->langsmith<0.4,>=0.1.125->langchain-core<1.0.0,>=0.3.51->langchain_text_splitters) (4.9.0)\n",
      "Requirement already satisfied: certifi in /usr/local/lib/python3.11/dist-packages (from httpx<1,>=0.23.0->langsmith<0.4,>=0.1.125->langchain-core<1.0.0,>=0.3.51->langchain_text_splitters) (2025.1.31)\n",
      "Requirement already satisfied: httpcore==1.* in /usr/local/lib/python3.11/dist-packages (from httpx<1,>=0.23.0->langsmith<0.4,>=0.1.125->langchain-core<1.0.0,>=0.3.51->langchain_text_splitters) (1.0.9)\n",
      "Requirement already satisfied: idna in /usr/local/lib/python3.11/dist-packages (from httpx<1,>=0.23.0->langsmith<0.4,>=0.1.125->langchain-core<1.0.0,>=0.3.51->langchain_text_splitters) (3.10)\n",
      "Requirement already satisfied: h11>=0.16 in /usr/local/lib/python3.11/dist-packages (from httpcore==1.*->httpx<1,>=0.23.0->langsmith<0.4,>=0.1.125->langchain-core<1.0.0,>=0.3.51->langchain_text_splitters) (0.16.0)\n",
      "Requirement already satisfied: charset-normalizer<4,>=2 in /usr/local/lib/python3.11/dist-packages (from requests<3,>=2->langsmith<0.4,>=0.1.125->langchain-core<1.0.0,>=0.3.51->langchain_text_splitters) (3.4.1)\n",
      "Requirement already satisfied: urllib3<3,>=1.21.1 in /usr/local/lib/python3.11/dist-packages (from requests<3,>=2->langsmith<0.4,>=0.1.125->langchain-core<1.0.0,>=0.3.51->langchain_text_splitters) (2.4.0)\n",
      "Requirement already satisfied: sniffio>=1.1 in /usr/local/lib/python3.11/dist-packages (from anyio->httpx<1,>=0.23.0->langsmith<0.4,>=0.1.125->langchain-core<1.0.0,>=0.3.51->langchain_text_splitters) (1.3.1)\n"
     ]
    }
   ],
   "source": [
    "!pip install langchain_text_splitters"
   ]
  },
  {
   "cell_type": "code",
   "execution_count": null,
   "metadata": {
    "id": "epGCyYfqKCef"
   },
   "outputs": [],
   "source": [
    "from langchain_text_splitters import RecursiveCharacterTextSplitter\n",
    "import tiktoken\n",
    "\n",
    "tokenizer = tiktoken.get_encoding(\"o200k_base\") # gpt-4o 是 o200k_base，之前版本 gpt-4-turbo 和 gpt-3.5-turbo 是 cl100k_base\n",
    "\n",
    "def length_function(text: str):\n",
    "    return len(tokenizer.encode(text))\n",
    "\n",
    "text_splitter = RecursiveCharacterTextSplitter(length_function=length_function, chunk_size=800, chunk_overlap=200, separators=[\n",
    "    \"\\n\\n\",\n",
    "    \"\\n\",\n",
    "    \" \",\n",
    "    \".\",\n",
    "    \",\",\n",
    "    \"\\u200b\",  # Zero-width space\n",
    "    \"\\uff0c\",  # Fullwidth comma ，\n",
    "    \"\\u3001\",  # Ideographic comma 、\n",
    "    \"\\uff0e\",  # Fullwidth full stop ．\n",
    "    \"\\u3002\",  # Ideographic full stop 。\n",
    "    \"\",\n",
    "])"
   ]
  },
  {
   "cell_type": "code",
   "execution_count": null,
   "metadata": {
    "id": "wSW3LjF1KP9O"
   },
   "outputs": [],
   "source": [
    "def get_embeddings(text):\n",
    "  response = client.embeddings.create(\n",
    "      input=text,\n",
    "      model=\"text-embedding-3-small\"\n",
    "  )\n",
    "\n",
    "  return response.data[0].embedding"
   ]
  },
  {
   "cell_type": "code",
   "execution_count": null,
   "metadata": {
    "id": "4-l78FFDKJSb"
   },
   "outputs": [],
   "source": [
    "for idx,page in enumerate(pages):\n",
    "  chunks = text_splitter.split_text(page.get_text())\n",
    "\n",
    "  collection.add(\n",
    "    documents = chunks,\n",
    "    embeddings = [ get_embeddings(chunk) for chunk in chunks ],\n",
    "    ids=[f\"doc-1-page-{idx}-chunk-{x}\" for x in range( len(chunks) ) ]\n",
    "  )"
   ]
  },
  {
   "cell_type": "code",
   "execution_count": null,
   "metadata": {
    "id": "OTwded8EKMCB"
   },
   "outputs": [],
   "source": [
    "from typing import List\n",
    "from pydantic import Field, BaseModel\n",
    "\n",
    "class QueryResult(BaseModel):\n",
    "    relevant_quotes: List[str]\n",
    "    answer: str\n",
    "    following_questions: List[str]\n",
    "\n",
    "@traced\n",
    "def ask_with_rag(question):\n",
    "  results = collection.query(\n",
    "      query_embeddings = get_embeddings(question),\n",
    "      # 可有 where 參數可針對上述的 metadatas 做過濾，例如日期、頁數等\n",
    "      n_results=10\n",
    "  )\n",
    "\n",
    "  documents = results['documents'][0]\n",
    "  context = '\\n'.join('* ' + doc for doc in documents)\n",
    "\n",
    "  user_prompt = f\"\"\"\n",
    "  I will provide you with a document and then ask you a question about it. Please respond following these steps:\n",
    "\n",
    "  <document>\n",
    "  {context}\n",
    "  </document>\n",
    "\n",
    "  Question: {question}\n",
    "\n",
    "  Please answer in the following format:\n",
    "\n",
    "  1. First, identify the most relevant quotes from the document that help answer the question and list them. Each quote should be relatively short.\n",
    "    If there are no relevant quotes, write \"No relevant quotes\".\n",
    "\n",
    "  2. Then, answer the question using facts from these quotes without directly referencing the content in your answer.\n",
    "\n",
    "  3. Finally, provide 3 related follow-up questions based on the original question and document content that would help explore the topic further.\n",
    "\n",
    "  If the document does not contain sufficient information to answer the question, please state this in the answer field, but still provide any relevant quotes (if available) and possible follow-up questions.\n",
    "  Please respond in Traditional Chinese (Taiwan).\n",
    "  \"\"\"\n",
    "\n",
    "  completion = client.beta.chat.completions.parse(\n",
    "      model=\"gpt-4.1-mini\",\n",
    "      messages=[\n",
    "          {\"role\": \"user\", \"content\": user_prompt},\n",
    "      ],\n",
    "      response_format=QueryResult\n",
    "  )\n",
    "\n",
    "  parsed_result = completion.choices[0].message.parsed\n",
    "  return parsed_result.answer"
   ]
  },
  {
   "cell_type": "code",
   "execution_count": null,
   "metadata": {
    "colab": {
     "base_uri": "https://localhost:8080/"
    },
    "executionInfo": {
     "elapsed": 96,
     "status": "ok",
     "timestamp": 1745940893024,
     "user": {
      "displayName": "張文鈿（ihower）",
      "userId": "16942569988483049654"
     },
     "user_tz": -480
    },
    "id": "wmwuQ1_wKYL2",
    "outputId": "a393f74b-f935-4f8e-ab8c-3d041c580bfd"
   },
   "outputs": [
    {
     "name": "stderr",
     "output_type": "stream",
     "text": [
      "Experiment Naive RAG-addfce82 is running at https://www.braintrust.dev/app/ihower/p/Course-202504/experiments/Naive%20RAG-addfce82\n"
     ]
    },
    {
     "data": {
      "text/plain": [
       "<Task pending name='Task-657' coro=<_EvalCommon.<locals>.run_to_completion() running at /usr/local/lib/python3.11/dist-packages/braintrust/framework.py:656>>"
      ]
     },
     "execution_count": 125,
     "metadata": {},
     "output_type": "execute_result"
    }
   ],
   "source": [
    "import autoevals\n",
    "\n",
    "Eval(\n",
    "    name=\"Course-202504\",\n",
    "    experiment_name=\"Naive RAG\",\n",
    "    data=eval_dataset,\n",
    "    task=ask_with_rag,\n",
    "    scores=[autoevals.Factuality(model=\"gpt-4.1\")],\n",
    ")"
   ]
  },
  {
   "cell_type": "markdown",
   "metadata": {
    "id": "tvY8TqHKMiBA"
   },
   "source": [
    "## 使用 Ragas 指標來做評估\n",
    "\n",
    "https://docs.ragas.io/en/stable/concepts/metrics/available_metrics/\n",
    "\n",
    "參考自 https://www.braintrust.dev/docs/cookbook/recipes/SimpleRagas"
   ]
  },
  {
   "cell_type": "code",
   "execution_count": null,
   "metadata": {
    "id": "_cvjpppiKymw"
   },
   "outputs": [],
   "source": [
    "@traced\n",
    "def fetch_top_k_relevant_sections(question):\n",
    "  results = collection.query(\n",
    "      query_embeddings = get_embeddings(question),\n",
    "      # 可有 where 參數可針對上述的 metadatas 做過濾，例如日期、頁數等\n",
    "      n_results=10\n",
    "  )\n",
    "\n",
    "  documents = results['documents'][0]\n",
    "  return documents\n",
    "\n",
    "@traced\n",
    "def generate_answer_from_docs(question, retrieved_content):\n",
    "  context = '\\n'.join('* ' + doc for doc in retrieved_content)\n",
    "\n",
    "  user_prompt = f\"\"\"\n",
    "  I will provide you with a document and then ask you a question about it. Please respond following these steps:\n",
    "\n",
    "  <document>\n",
    "  {context}\n",
    "  </document>\n",
    "\n",
    "  Question: {question}\n",
    "\n",
    "  Please answer in the following format:\n",
    "\n",
    "  1. First, identify the most relevant quotes from the document that help answer the question and list them. Each quote should be relatively short.\n",
    "    If there are no relevant quotes, write \"No relevant quotes\".\n",
    "\n",
    "  2. Then, answer the question using facts from these quotes without directly referencing the content in your answer.\n",
    "\n",
    "  3. Finally, provide 3 related follow-up questions based on the original question and document content that would help explore the topic further.\n",
    "\n",
    "  If the document does not contain sufficient information to answer the question, please state this in the answer field, but still provide any relevant quotes (if available) and possible follow-up questions.\n",
    "  Please respond in Traditional Chinese (Taiwan).\n",
    "  \"\"\"\n",
    "\n",
    "  completion = client.beta.chat.completions.parse(\n",
    "      model=\"gpt-4.1-mini\",\n",
    "      messages=[\n",
    "          {\"role\": \"user\", \"content\": user_prompt},\n",
    "      ],\n",
    "      response_format=QueryResult\n",
    "  )\n",
    "\n",
    "  parsed_result = completion.choices[0].message.parsed\n",
    "  return parsed_result\n",
    "\n",
    "@traced\n",
    "def generate_answer_e2e(question):\n",
    "  retrieved_content = fetch_top_k_relevant_sections(question)\n",
    "  result = generate_answer_from_docs(question, retrieved_content)\n",
    "\n",
    "  return { \"answer\": result.answer, \"retrieved_docs\": retrieved_content }"
   ]
  },
  {
   "cell_type": "code",
   "execution_count": null,
   "metadata": {
    "colab": {
     "base_uri": "https://localhost:8080/",
     "height": 503,
     "referenced_widgets": [
      "4b0b5ca9144e41b9995c8b9da371482b",
      "1aa49d6ef501404da5a232956d0a5f99",
      "fb81042b54e0478f92485f9e1d106455",
      "3ee2a995bdc64733966005e97e9a529e",
      "b6b4805917aa422289971b398e085b4d",
      "8e112fd580ce4b2f8fe39f495bd228c2",
      "775bc6de64654e9a98711e68a4175f27",
      "45234fba077b41699f1136faef5439ae",
      "204e960c689a47f9b46305b694483f4d",
      "482993413b9e4051abf5d2bf89d4bcf6",
      "ceacf60d07064fe28bcc72042f9c6ee3"
     ]
    },
    "executionInfo": {
     "elapsed": 112296,
     "status": "ok",
     "timestamp": 1745942587979,
     "user": {
      "displayName": "張文鈿（ihower）",
      "userId": "16942569988483049654"
     },
     "user_tz": -480
    },
    "id": "wadAU_mLM4Tq",
    "outputId": "577156b5-9783-4ca6-ecab-05986145dec5"
   },
   "outputs": [
    {
     "name": "stderr",
     "output_type": "stream",
     "text": [
      "Experiment Ragas is running at https://www.braintrust.dev/app/ihower/p/Course-202504/experiments/Ragas\n",
      "Course-202504 [experiment_name=Ragas] (data): 32it [00:00, 24092.21it/s]\n"
     ]
    },
    {
     "data": {
      "application/vnd.jupyter.widget-view+json": {
       "model_id": "4b0b5ca9144e41b9995c8b9da371482b",
       "version_major": 2,
       "version_minor": 0
      },
      "text/plain": [
       "Course-202504 [experiment_name=Ragas] (tasks):   0%|          | 0/32 [00:00<?, ?it/s]"
      ]
     },
     "metadata": {},
     "output_type": "display_data"
    },
    {
     "name": "stderr",
     "output_type": "stream",
     "text": [
      "Found exceptions for the following scorers: faithfulness [KeyError('verdict')]\n",
      "Found exceptions for the following scorers: faithfulness [KeyError('verdict')]\n",
      "Found exceptions for the following scorers: context_recall [TypeError(\"unsupported operand type(s) for +: 'int' and 'NoneType'\")]\n",
      "Found exceptions for the following scorers: faithfulness [KeyError('verdict')]\n",
      "Found exceptions for the following scorers: faithfulness [KeyError('verdict')]\n"
     ]
    },
    {
     "name": "stdout",
     "output_type": "stream",
     "text": [
      "\n",
      "=========================SUMMARY=========================\n",
      "Ragas compared to Naive RAG-addfce82:\n",
      "59.56% 'AnswerCorrectness' score\n",
      "100.00% 'ContextPrecision'  score\n",
      "97.31% 'ContextRecall'     score\n",
      "84.43% 'Faithfulness'      score\n",
      "\n",
      "1745942477.20s start\n",
      "1745942541.03s end\n",
      "55.08s (-12293.44%) 'duration'         \t(32 improvements, 0 regressions)\n",
      "3.08s (-52.22%) 'llm_duration'     \t(23 improvements, 9 regressions)\n",
      "5646.81tok (-) 'prompt_tokens'    \t(0 improvements, 0 regressions)\n",
      "407.78tok (+1003.12%) 'completion_tokens'\t(15 improvements, 16 regressions)\n",
      "6054.59tok (+1003.12%) 'total_tokens'     \t(15 improvements, 16 regressions)\n",
      "0.00$ (+00.00%) 'estimated_cost'   \t(8 improvements, 10 regressions)\n",
      "\n",
      "See results for Ragas at https://www.braintrust.dev/app/ihower/p/Course-202504/experiments/Ragas\n"
     ]
    }
   ],
   "source": [
    "from braintrust import EvalAsync\n",
    "\n",
    "from autoevals import AnswerCorrectness, ContextRecall, ContextPrecision, Faithfulness\n",
    "\n",
    "# Wrap ContextRecall() to propagate along the \"answer\" and \"context\" values separately\n",
    "async def context_recall(output, **kwargs):\n",
    "    return await ContextRecall(model=\"gpt-4.1\").eval_async(\n",
    "        output=output[\"answer\"], context=output[\"retrieved_docs\"], **kwargs\n",
    "    )\n",
    "\n",
    "async def context_precision(output, **kwargs):\n",
    "    return await ContextPrecision(model=\"gpt-4.1\").eval_async(\n",
    "        output=output[\"answer\"], context=output[\"retrieved_docs\"], **kwargs\n",
    "    )\n",
    "\n",
    "async def faithfulness(output, **kwargs):\n",
    "    return await Faithfulness(model=\"gpt-4.1\").eval_async(\n",
    "        output=output[\"answer\"], context=output[\"retrieved_docs\"], **kwargs\n",
    "    )\n",
    "\n",
    "async def answer_correctness(output, **kwargs):\n",
    "    return await AnswerCorrectness(model=\"gpt-4.1\").eval_async(output=output[\"answer\"], **kwargs)\n",
    "\n",
    "eval_result = await EvalAsync(\n",
    "    name=\"Course-202504\",\n",
    "    experiment_name=\"Ragas\",\n",
    "    data=eval_dataset,\n",
    "    task=generate_answer_e2e,\n",
    "    scores=[context_recall, context_precision, faithfulness, answer_correctness],\n",
    "    metadata=dict(model='gpt-4.1-mini', top_k=10),\n",
    ")"
   ]
  },
  {
   "cell_type": "code",
   "execution_count": null,
   "metadata": {
    "id": "g3-9nwULNrMp"
   },
   "outputs": [],
   "source": []
  }
 ],
 "metadata": {
  "colab": {
   "provenance": []
  },
  "kernelspec": {
   "display_name": "Python 3",
   "name": "python3"
  },
  "language_info": {
   "codemirror_mode": {
    "name": "ipython",
    "version": 3
   },
   "file_extension": ".py",
   "mimetype": "text/x-python",
   "name": "python",
   "nbconvert_exporter": "python",
   "pygments_lexer": "ipython3",
   "version": "3.11.9"
  },
  "widgets": {
   "application/vnd.jupyter.widget-state+json": {
    "1aa49d6ef501404da5a232956d0a5f99": {
     "model_module": "@jupyter-widgets/controls",
     "model_module_version": "1.5.0",
     "model_name": "HTMLModel",
     "state": {
      "_dom_classes": [],
      "_model_module": "@jupyter-widgets/controls",
      "_model_module_version": "1.5.0",
      "_model_name": "HTMLModel",
      "_view_count": null,
      "_view_module": "@jupyter-widgets/controls",
      "_view_module_version": "1.5.0",
      "_view_name": "HTMLView",
      "description": "",
      "description_tooltip": null,
      "layout": "IPY_MODEL_8e112fd580ce4b2f8fe39f495bd228c2",
      "placeholder": "​",
      "style": "IPY_MODEL_775bc6de64654e9a98711e68a4175f27",
      "value": "Course-202504 [experiment_name=Ragas] (tasks): 100%"
     }
    },
    "204e960c689a47f9b46305b694483f4d": {
     "model_module": "@jupyter-widgets/controls",
     "model_module_version": "1.5.0",
     "model_name": "ProgressStyleModel",
     "state": {
      "_model_module": "@jupyter-widgets/controls",
      "_model_module_version": "1.5.0",
      "_model_name": "ProgressStyleModel",
      "_view_count": null,
      "_view_module": "@jupyter-widgets/base",
      "_view_module_version": "1.2.0",
      "_view_name": "StyleView",
      "bar_color": null,
      "description_width": ""
     }
    },
    "3ee2a995bdc64733966005e97e9a529e": {
     "model_module": "@jupyter-widgets/controls",
     "model_module_version": "1.5.0",
     "model_name": "HTMLModel",
     "state": {
      "_dom_classes": [],
      "_model_module": "@jupyter-widgets/controls",
      "_model_module_version": "1.5.0",
      "_model_name": "HTMLModel",
      "_view_count": null,
      "_view_module": "@jupyter-widgets/controls",
      "_view_module_version": "1.5.0",
      "_view_name": "HTMLView",
      "description": "",
      "description_tooltip": null,
      "layout": "IPY_MODEL_482993413b9e4051abf5d2bf89d4bcf6",
      "placeholder": "​",
      "style": "IPY_MODEL_ceacf60d07064fe28bcc72042f9c6ee3",
      "value": " 32/32 [01:50&lt;00:00,  2.26s/it]"
     }
    },
    "45234fba077b41699f1136faef5439ae": {
     "model_module": "@jupyter-widgets/base",
     "model_module_version": "1.2.0",
     "model_name": "LayoutModel",
     "state": {
      "_model_module": "@jupyter-widgets/base",
      "_model_module_version": "1.2.0",
      "_model_name": "LayoutModel",
      "_view_count": null,
      "_view_module": "@jupyter-widgets/base",
      "_view_module_version": "1.2.0",
      "_view_name": "LayoutView",
      "align_content": null,
      "align_items": null,
      "align_self": null,
      "border": null,
      "bottom": null,
      "display": null,
      "flex": null,
      "flex_flow": null,
      "grid_area": null,
      "grid_auto_columns": null,
      "grid_auto_flow": null,
      "grid_auto_rows": null,
      "grid_column": null,
      "grid_gap": null,
      "grid_row": null,
      "grid_template_areas": null,
      "grid_template_columns": null,
      "grid_template_rows": null,
      "height": null,
      "justify_content": null,
      "justify_items": null,
      "left": null,
      "margin": null,
      "max_height": null,
      "max_width": null,
      "min_height": null,
      "min_width": null,
      "object_fit": null,
      "object_position": null,
      "order": null,
      "overflow": null,
      "overflow_x": null,
      "overflow_y": null,
      "padding": null,
      "right": null,
      "top": null,
      "visibility": null,
      "width": null
     }
    },
    "482993413b9e4051abf5d2bf89d4bcf6": {
     "model_module": "@jupyter-widgets/base",
     "model_module_version": "1.2.0",
     "model_name": "LayoutModel",
     "state": {
      "_model_module": "@jupyter-widgets/base",
      "_model_module_version": "1.2.0",
      "_model_name": "LayoutModel",
      "_view_count": null,
      "_view_module": "@jupyter-widgets/base",
      "_view_module_version": "1.2.0",
      "_view_name": "LayoutView",
      "align_content": null,
      "align_items": null,
      "align_self": null,
      "border": null,
      "bottom": null,
      "display": null,
      "flex": null,
      "flex_flow": null,
      "grid_area": null,
      "grid_auto_columns": null,
      "grid_auto_flow": null,
      "grid_auto_rows": null,
      "grid_column": null,
      "grid_gap": null,
      "grid_row": null,
      "grid_template_areas": null,
      "grid_template_columns": null,
      "grid_template_rows": null,
      "height": null,
      "justify_content": null,
      "justify_items": null,
      "left": null,
      "margin": null,
      "max_height": null,
      "max_width": null,
      "min_height": null,
      "min_width": null,
      "object_fit": null,
      "object_position": null,
      "order": null,
      "overflow": null,
      "overflow_x": null,
      "overflow_y": null,
      "padding": null,
      "right": null,
      "top": null,
      "visibility": null,
      "width": null
     }
    },
    "4b0b5ca9144e41b9995c8b9da371482b": {
     "model_module": "@jupyter-widgets/controls",
     "model_module_version": "1.5.0",
     "model_name": "HBoxModel",
     "state": {
      "_dom_classes": [],
      "_model_module": "@jupyter-widgets/controls",
      "_model_module_version": "1.5.0",
      "_model_name": "HBoxModel",
      "_view_count": null,
      "_view_module": "@jupyter-widgets/controls",
      "_view_module_version": "1.5.0",
      "_view_name": "HBoxView",
      "box_style": "",
      "children": [
       "IPY_MODEL_1aa49d6ef501404da5a232956d0a5f99",
       "IPY_MODEL_fb81042b54e0478f92485f9e1d106455",
       "IPY_MODEL_3ee2a995bdc64733966005e97e9a529e"
      ],
      "layout": "IPY_MODEL_b6b4805917aa422289971b398e085b4d"
     }
    },
    "775bc6de64654e9a98711e68a4175f27": {
     "model_module": "@jupyter-widgets/controls",
     "model_module_version": "1.5.0",
     "model_name": "DescriptionStyleModel",
     "state": {
      "_model_module": "@jupyter-widgets/controls",
      "_model_module_version": "1.5.0",
      "_model_name": "DescriptionStyleModel",
      "_view_count": null,
      "_view_module": "@jupyter-widgets/base",
      "_view_module_version": "1.2.0",
      "_view_name": "StyleView",
      "description_width": ""
     }
    },
    "8e112fd580ce4b2f8fe39f495bd228c2": {
     "model_module": "@jupyter-widgets/base",
     "model_module_version": "1.2.0",
     "model_name": "LayoutModel",
     "state": {
      "_model_module": "@jupyter-widgets/base",
      "_model_module_version": "1.2.0",
      "_model_name": "LayoutModel",
      "_view_count": null,
      "_view_module": "@jupyter-widgets/base",
      "_view_module_version": "1.2.0",
      "_view_name": "LayoutView",
      "align_content": null,
      "align_items": null,
      "align_self": null,
      "border": null,
      "bottom": null,
      "display": null,
      "flex": null,
      "flex_flow": null,
      "grid_area": null,
      "grid_auto_columns": null,
      "grid_auto_flow": null,
      "grid_auto_rows": null,
      "grid_column": null,
      "grid_gap": null,
      "grid_row": null,
      "grid_template_areas": null,
      "grid_template_columns": null,
      "grid_template_rows": null,
      "height": null,
      "justify_content": null,
      "justify_items": null,
      "left": null,
      "margin": null,
      "max_height": null,
      "max_width": null,
      "min_height": null,
      "min_width": null,
      "object_fit": null,
      "object_position": null,
      "order": null,
      "overflow": null,
      "overflow_x": null,
      "overflow_y": null,
      "padding": null,
      "right": null,
      "top": null,
      "visibility": null,
      "width": null
     }
    },
    "b6b4805917aa422289971b398e085b4d": {
     "model_module": "@jupyter-widgets/base",
     "model_module_version": "1.2.0",
     "model_name": "LayoutModel",
     "state": {
      "_model_module": "@jupyter-widgets/base",
      "_model_module_version": "1.2.0",
      "_model_name": "LayoutModel",
      "_view_count": null,
      "_view_module": "@jupyter-widgets/base",
      "_view_module_version": "1.2.0",
      "_view_name": "LayoutView",
      "align_content": null,
      "align_items": null,
      "align_self": null,
      "border": null,
      "bottom": null,
      "display": null,
      "flex": null,
      "flex_flow": null,
      "grid_area": null,
      "grid_auto_columns": null,
      "grid_auto_flow": null,
      "grid_auto_rows": null,
      "grid_column": null,
      "grid_gap": null,
      "grid_row": null,
      "grid_template_areas": null,
      "grid_template_columns": null,
      "grid_template_rows": null,
      "height": null,
      "justify_content": null,
      "justify_items": null,
      "left": null,
      "margin": null,
      "max_height": null,
      "max_width": null,
      "min_height": null,
      "min_width": null,
      "object_fit": null,
      "object_position": null,
      "order": null,
      "overflow": null,
      "overflow_x": null,
      "overflow_y": null,
      "padding": null,
      "right": null,
      "top": null,
      "visibility": null,
      "width": null
     }
    },
    "ceacf60d07064fe28bcc72042f9c6ee3": {
     "model_module": "@jupyter-widgets/controls",
     "model_module_version": "1.5.0",
     "model_name": "DescriptionStyleModel",
     "state": {
      "_model_module": "@jupyter-widgets/controls",
      "_model_module_version": "1.5.0",
      "_model_name": "DescriptionStyleModel",
      "_view_count": null,
      "_view_module": "@jupyter-widgets/base",
      "_view_module_version": "1.2.0",
      "_view_name": "StyleView",
      "description_width": ""
     }
    },
    "fb81042b54e0478f92485f9e1d106455": {
     "model_module": "@jupyter-widgets/controls",
     "model_module_version": "1.5.0",
     "model_name": "FloatProgressModel",
     "state": {
      "_dom_classes": [],
      "_model_module": "@jupyter-widgets/controls",
      "_model_module_version": "1.5.0",
      "_model_name": "FloatProgressModel",
      "_view_count": null,
      "_view_module": "@jupyter-widgets/controls",
      "_view_module_version": "1.5.0",
      "_view_name": "ProgressView",
      "bar_style": "success",
      "description": "",
      "description_tooltip": null,
      "layout": "IPY_MODEL_45234fba077b41699f1136faef5439ae",
      "max": 32,
      "min": 0,
      "orientation": "horizontal",
      "style": "IPY_MODEL_204e960c689a47f9b46305b694483f4d",
      "value": 32
     }
    }
   }
  }
 },
 "nbformat": 4,
 "nbformat_minor": 0
}
