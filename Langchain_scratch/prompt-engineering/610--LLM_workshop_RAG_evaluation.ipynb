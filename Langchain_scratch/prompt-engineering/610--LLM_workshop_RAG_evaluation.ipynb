{
 "cells": [
  {
   "cell_type": "markdown",
   "metadata": {
    "id": "AMHa-IJtZiln"
   },
   "source": [
    "這份 Notebook 進行 RAG 評估，包括合成評估資料\n"
   ]
  },
  {
   "cell_type": "code",
   "execution_count": 1,
   "metadata": {
    "id": "xCOQuMBLsONg"
   },
   "outputs": [],
   "source": [
    "# from google.colab import userdata\n",
    "# openai_api_key = userdata.get('openai_api_key')"
   ]
  },
  {
   "cell_type": "code",
   "execution_count": 2,
   "metadata": {
    "colab": {
     "base_uri": "https://localhost:8080/"
    },
    "executionInfo": {
     "elapsed": 11856,
     "status": "ok",
     "timestamp": 1745937799283,
     "user": {
      "displayName": "張文鈿（ihower）",
      "userId": "16942569988483049654"
     },
     "user_tz": -480
    },
    "id": "yL3IqazqU9fG",
    "outputId": "098917f9-e84d-4d32-f0ac-8cf5b6fa1102"
   },
   "outputs": [
    {
     "name": "stdout",
     "output_type": "stream",
     "text": [
      "Defaulting to user installation because normal site-packages is not writeable\n",
      "Requirement already satisfied: openai in /home/os-sunnie.gd.weng/.local/lib/python3.10/site-packages (1.74.0)\n",
      "Requirement already satisfied: anyio<5,>=3.5.0 in /home/os-sunnie.gd.weng/.local/lib/python3.10/site-packages (from openai) (4.9.0)\n",
      "Requirement already satisfied: distro<2,>=1.7.0 in /home/os-sunnie.gd.weng/.local/lib/python3.10/site-packages (from openai) (1.9.0)\n",
      "Requirement already satisfied: httpx<1,>=0.23.0 in /home/os-sunnie.gd.weng/.local/lib/python3.10/site-packages (from openai) (0.28.1)\n",
      "Requirement already satisfied: jiter<1,>=0.4.0 in /home/os-sunnie.gd.weng/.local/lib/python3.10/site-packages (from openai) (0.8.2)\n",
      "Requirement already satisfied: pydantic<3,>=1.9.0 in /home/os-sunnie.gd.weng/.local/lib/python3.10/site-packages (from openai) (2.11.7)\n",
      "Requirement already satisfied: sniffio in /home/os-sunnie.gd.weng/.local/lib/python3.10/site-packages (from openai) (1.3.1)\n",
      "Requirement already satisfied: tqdm>4 in /home/os-sunnie.gd.weng/.local/lib/python3.10/site-packages (from openai) (4.67.1)\n",
      "Requirement already satisfied: typing-extensions<5,>=4.11 in /usr/local/lib/python3.10/dist-packages (from openai) (4.12.2)\n",
      "Requirement already satisfied: exceptiongroup>=1.0.2 in /home/os-sunnie.gd.weng/.local/lib/python3.10/site-packages (from anyio<5,>=3.5.0->openai) (1.2.2)\n",
      "Requirement already satisfied: idna>=2.8 in /usr/local/lib/python3.10/dist-packages (from anyio<5,>=3.5.0->openai) (3.10)\n",
      "Requirement already satisfied: certifi in /usr/lib/python3/dist-packages (from httpx<1,>=0.23.0->openai) (2019.11.28)\n",
      "Requirement already satisfied: httpcore==1.* in /home/os-sunnie.gd.weng/.local/lib/python3.10/site-packages (from httpx<1,>=0.23.0->openai) (1.0.8)\n",
      "Requirement already satisfied: h11<0.15,>=0.13 in /home/os-sunnie.gd.weng/.local/lib/python3.10/site-packages (from httpcore==1.*->httpx<1,>=0.23.0->openai) (0.14.0)\n",
      "Requirement already satisfied: annotated-types>=0.6.0 in /home/os-sunnie.gd.weng/.local/lib/python3.10/site-packages (from pydantic<3,>=1.9.0->openai) (0.7.0)\n",
      "Requirement already satisfied: pydantic-core==2.33.2 in /home/os-sunnie.gd.weng/.local/lib/python3.10/site-packages (from pydantic<3,>=1.9.0->openai) (2.33.2)\n",
      "Requirement already satisfied: typing-inspection>=0.4.0 in /home/os-sunnie.gd.weng/.local/lib/python3.10/site-packages (from pydantic<3,>=1.9.0->openai) (0.4.0)\n",
      "Defaulting to user installation because normal site-packages is not writeable\n",
      "Requirement already satisfied: braintrust in /home/os-sunnie.gd.weng/.local/lib/python3.10/site-packages (0.1.6)\n",
      "Requirement already satisfied: autoevals in /home/os-sunnie.gd.weng/.local/lib/python3.10/site-packages (0.0.129)\n",
      "Requirement already satisfied: GitPython in /home/os-sunnie.gd.weng/.local/lib/python3.10/site-packages (from braintrust) (3.1.44)\n",
      "Requirement already satisfied: requests in /home/os-sunnie.gd.weng/.local/lib/python3.10/site-packages (from braintrust) (2.32.3)\n",
      "Requirement already satisfied: chevron in /home/os-sunnie.gd.weng/.local/lib/python3.10/site-packages (from braintrust) (0.14.0)\n",
      "Requirement already satisfied: tqdm in /home/os-sunnie.gd.weng/.local/lib/python3.10/site-packages (from braintrust) (4.67.1)\n",
      "Requirement already satisfied: exceptiongroup>=1.2.0 in /home/os-sunnie.gd.weng/.local/lib/python3.10/site-packages (from braintrust) (1.2.2)\n",
      "Requirement already satisfied: python-dotenv in /home/os-sunnie.gd.weng/.local/lib/python3.10/site-packages (from braintrust) (1.0.0)\n",
      "Requirement already satisfied: sseclient-py in /home/os-sunnie.gd.weng/.local/lib/python3.10/site-packages (from braintrust) (1.8.0)\n",
      "Requirement already satisfied: python-slugify in /home/os-sunnie.gd.weng/.local/lib/python3.10/site-packages (from braintrust) (8.0.4)\n",
      "Requirement already satisfied: typing_extensions>=4.1.0 in /usr/local/lib/python3.10/dist-packages (from braintrust) (4.12.2)\n",
      "Requirement already satisfied: polyleven in /home/os-sunnie.gd.weng/.local/lib/python3.10/site-packages (from autoevals) (0.9.0)\n",
      "Requirement already satisfied: pyyaml in /home/os-sunnie.gd.weng/.local/lib/python3.10/site-packages (from autoevals) (6.0.1)\n",
      "Requirement already satisfied: braintrust_core==0.0.59 in /home/os-sunnie.gd.weng/.local/lib/python3.10/site-packages (from autoevals) (0.0.59)\n",
      "Requirement already satisfied: jsonschema in /home/os-sunnie.gd.weng/.local/lib/python3.10/site-packages (from autoevals) (4.23.0)\n",
      "Requirement already satisfied: gitdb<5,>=4.0.1 in /home/os-sunnie.gd.weng/.local/lib/python3.10/site-packages (from GitPython->braintrust) (4.0.12)\n",
      "Requirement already satisfied: smmap<6,>=3.0.1 in /home/os-sunnie.gd.weng/.local/lib/python3.10/site-packages (from gitdb<5,>=4.0.1->GitPython->braintrust) (5.0.2)\n",
      "Requirement already satisfied: attrs>=22.2.0 in /home/os-sunnie.gd.weng/.local/lib/python3.10/site-packages (from jsonschema->autoevals) (25.3.0)\n",
      "Requirement already satisfied: jsonschema-specifications>=2023.03.6 in /home/os-sunnie.gd.weng/.local/lib/python3.10/site-packages (from jsonschema->autoevals) (2024.10.1)\n",
      "Requirement already satisfied: referencing>=0.28.4 in /home/os-sunnie.gd.weng/.local/lib/python3.10/site-packages (from jsonschema->autoevals) (0.36.2)\n",
      "Requirement already satisfied: rpds-py>=0.7.1 in /home/os-sunnie.gd.weng/.local/lib/python3.10/site-packages (from jsonschema->autoevals) (0.24.0)\n",
      "Requirement already satisfied: text-unidecode>=1.3 in /home/os-sunnie.gd.weng/.local/lib/python3.10/site-packages (from python-slugify->braintrust) (1.3)\n",
      "Requirement already satisfied: charset-normalizer<4,>=2 in /home/os-sunnie.gd.weng/.local/lib/python3.10/site-packages (from requests->braintrust) (3.4.1)\n",
      "Requirement already satisfied: idna<4,>=2.5 in /usr/local/lib/python3.10/dist-packages (from requests->braintrust) (3.10)\n",
      "Requirement already satisfied: urllib3<3,>=1.21.1 in /home/os-sunnie.gd.weng/.local/lib/python3.10/site-packages (from requests->braintrust) (2.4.0)\n",
      "Requirement already satisfied: certifi>=2017.4.17 in /usr/lib/python3/dist-packages (from requests->braintrust) (2019.11.28)\n",
      "Defaulting to user installation because normal site-packages is not writeable\n",
      "Requirement already satisfied: langsmith in /home/os-sunnie.gd.weng/.local/lib/python3.10/site-packages (0.3.31)\n",
      "Requirement already satisfied: httpx<1,>=0.23.0 in /home/os-sunnie.gd.weng/.local/lib/python3.10/site-packages (from langsmith) (0.28.1)\n",
      "Requirement already satisfied: orjson<4.0.0,>=3.9.14 in /home/os-sunnie.gd.weng/.local/lib/python3.10/site-packages (from langsmith) (3.10.16)\n",
      "Requirement already satisfied: packaging>=23.2 in /usr/local/lib/python3.10/dist-packages (from langsmith) (24.1)\n",
      "Requirement already satisfied: pydantic<3,>=1 in /home/os-sunnie.gd.weng/.local/lib/python3.10/site-packages (from langsmith) (2.11.7)\n",
      "Requirement already satisfied: requests<3,>=2 in /home/os-sunnie.gd.weng/.local/lib/python3.10/site-packages (from langsmith) (2.32.3)\n",
      "Requirement already satisfied: requests-toolbelt<2.0.0,>=1.0.0 in /home/os-sunnie.gd.weng/.local/lib/python3.10/site-packages (from langsmith) (1.0.0)\n",
      "Requirement already satisfied: zstandard<0.24.0,>=0.23.0 in /home/os-sunnie.gd.weng/.local/lib/python3.10/site-packages (from langsmith) (0.23.0)\n",
      "Requirement already satisfied: anyio in /home/os-sunnie.gd.weng/.local/lib/python3.10/site-packages (from httpx<1,>=0.23.0->langsmith) (4.9.0)\n",
      "Requirement already satisfied: certifi in /usr/lib/python3/dist-packages (from httpx<1,>=0.23.0->langsmith) (2019.11.28)\n",
      "Requirement already satisfied: httpcore==1.* in /home/os-sunnie.gd.weng/.local/lib/python3.10/site-packages (from httpx<1,>=0.23.0->langsmith) (1.0.8)\n",
      "Requirement already satisfied: idna in /usr/local/lib/python3.10/dist-packages (from httpx<1,>=0.23.0->langsmith) (3.10)\n",
      "Requirement already satisfied: h11<0.15,>=0.13 in /home/os-sunnie.gd.weng/.local/lib/python3.10/site-packages (from httpcore==1.*->httpx<1,>=0.23.0->langsmith) (0.14.0)\n",
      "Requirement already satisfied: annotated-types>=0.6.0 in /home/os-sunnie.gd.weng/.local/lib/python3.10/site-packages (from pydantic<3,>=1->langsmith) (0.7.0)\n",
      "Requirement already satisfied: pydantic-core==2.33.2 in /home/os-sunnie.gd.weng/.local/lib/python3.10/site-packages (from pydantic<3,>=1->langsmith) (2.33.2)\n",
      "Requirement already satisfied: typing-extensions>=4.12.2 in /usr/local/lib/python3.10/dist-packages (from pydantic<3,>=1->langsmith) (4.12.2)\n",
      "Requirement already satisfied: typing-inspection>=0.4.0 in /home/os-sunnie.gd.weng/.local/lib/python3.10/site-packages (from pydantic<3,>=1->langsmith) (0.4.0)\n",
      "Requirement already satisfied: charset-normalizer<4,>=2 in /home/os-sunnie.gd.weng/.local/lib/python3.10/site-packages (from requests<3,>=2->langsmith) (3.4.1)\n",
      "Requirement already satisfied: urllib3<3,>=1.21.1 in /home/os-sunnie.gd.weng/.local/lib/python3.10/site-packages (from requests<3,>=2->langsmith) (2.4.0)\n",
      "Requirement already satisfied: exceptiongroup>=1.0.2 in /home/os-sunnie.gd.weng/.local/lib/python3.10/site-packages (from anyio->httpx<1,>=0.23.0->langsmith) (1.2.2)\n",
      "Requirement already satisfied: sniffio>=1.1 in /home/os-sunnie.gd.weng/.local/lib/python3.10/site-packages (from anyio->httpx<1,>=0.23.0->langsmith) (1.3.1)\n",
      "Defaulting to user installation because normal site-packages is not writeable\n",
      "Requirement already satisfied: pymupdf in /home/os-sunnie.gd.weng/.local/lib/python3.10/site-packages (1.26.3)\n"
     ]
    }
   ],
   "source": [
    "!pip install openai\n",
    "!pip install braintrust autoevals\n",
    "!pip install langsmith\n",
    "!pip install pymupdf"
   ]
  },
  {
   "cell_type": "code",
   "execution_count": 3,
   "metadata": {},
   "outputs": [],
   "source": [
    "# 初始化 Braintrust 和 OpenAI 客戶端\n",
    "from braintrust import init_logger, traced, wrap_openai, Eval\n",
    "from openai import OpenAI\n",
    "from dotenv import load_dotenv\n",
    "import os\n",
    "\n",
    "# Load the environment variables from .env file\n",
    "load_dotenv()\n",
    "\n",
    "# Access the API key\n",
    "openai_api_key = os.getenv('OPENAI_API_KEY')\n",
    "braintrust_api_key = os.getenv('BRAINTRUST_API_KEY')\n",
    "\n",
    "# 初始化 Braintrust logger 和 OpenAI client\n",
    "logger = init_logger(project=\"Course-202504\", api_key=braintrust_api_key)\n",
    "client = wrap_openai(OpenAI(api_key=openai_api_key))\n"
   ]
  },
  {
   "cell_type": "markdown",
   "metadata": {},
   "source": [
    "## 如果使用 colab 的話，執行以下程式碼"
   ]
  },
  {
   "cell_type": "code",
   "execution_count": 4,
   "metadata": {
    "id": "MMGl8Aby7wWl"
   },
   "outputs": [],
   "source": [
    "# braintrust_api_key = userdata.get('braintrust_api_key')\n",
    "\n",
    "# import os\n",
    "# os.environ['OPENAI_API_KEY'] = openai_api_key\n",
    "\n",
    "# from braintrust import init_logger, traced, wrap_openai, Eval\n",
    "# from openai import OpenAI\n",
    "\n",
    "# logger = init_logger(project=\"Course-202504\", api_key=braintrust_api_key)\n",
    "# client = wrap_openai(OpenAI(api_key=openai_api_key))\n"
   ]
  },
  {
   "cell_type": "markdown",
   "metadata": {
    "id": "vklqiGARdTI5"
   },
   "source": [
    "\n",
    "## 評估資料準備: 合成資料 Synthetic Data\n",
    "\n",
    "若要人工製作 dataset，雖然品質好，但是實在太太辛苦了，可以怎麼辦?\n",
    "\n",
    "可用合成 dataset 策略! 用 LLM 幫我們產生評估資料集\n",
    "\n",
    "我們用合成的，原理是:\n",
    "\n",
    "1. 針對要做 RAG 的文本先拆 chunks，也就是 contexts\n",
    "2. 針對 context 用 LLM 產生對應的 \"問題\" 和 \"參考答案\"\n",
    "\n",
    "more: https://ihower.tw/notes/%E6%8A%80%E8%A1%93%E7%AD%86%E8%A8%98-AI/Synthetic+Data+%E5%90%88%E6%88%90%E8%B3%87%E6%96%99"
   ]
  },
  {
   "cell_type": "code",
   "execution_count": 5,
   "metadata": {
    "colab": {
     "base_uri": "https://localhost:8080/"
    },
    "executionInfo": {
     "elapsed": 326,
     "status": "ok",
     "timestamp": 1745937871826,
     "user": {
      "displayName": "張文鈿（ihower）",
      "userId": "16942569988483049654"
     },
     "user_tz": -480
    },
    "id": "Ye2dzIfidgVX",
    "outputId": "5766203d-f382-4d3c-b4b7-1210dbd1ba7f"
   },
   "outputs": [
    {
     "name": "stdout",
     "output_type": "stream",
     "text": [
      "--2025-07-07 16:09:50--  https://www.megabank.com.tw/-/media/mega/files/bank/personal/fund/bulletin/weekly-journal/market-analysis/114/1140224.pdf\n",
      "Resolving www.megabank.com.tw (www.megabank.com.tw)... 23.49.116.35\n",
      "Connecting to www.megabank.com.tw (www.megabank.com.tw)|23.49.116.35|:443... connected.\n",
      "HTTP request sent, awaiting response... 200 OK\n",
      "Length: 1852669 (1.8M) [application/pdf]\n",
      "Saving to: ‘1140224.pdf.2’\n",
      "\n",
      "1140224.pdf.2       100%[===================>]   1.77M  10.7MB/s    in 0.2s    \n",
      "\n",
      "2025-07-07 16:09:50 (10.7 MB/s) - ‘1140224.pdf.2’ saved [1852669/1852669]\n",
      "\n"
     ]
    }
   ],
   "source": [
    "!wget https://www.megabank.com.tw/-/media/mega/files/bank/personal/fund/bulletin/weekly-journal/market-analysis/114/1140224.pdf"
   ]
  },
  {
   "cell_type": "code",
   "execution_count": 6,
   "metadata": {
    "id": "yxzGRyZQ8oFH"
   },
   "outputs": [],
   "source": [
    "import fitz # PyMuPDF library\n",
    "pages = fitz.open(\"1140224.pdf\")"
   ]
  },
  {
   "cell_type": "code",
   "execution_count": 7,
   "metadata": {
    "id": "x7KXZvn_AqdD"
   },
   "outputs": [],
   "source": [
    "from typing import List\n",
    "from pydantic import Field, BaseModel\n",
    "\n",
    "class QAPair(BaseModel):\n",
    "    reference: str = Field(..., description=\"The exact text segment from the original context that this Q&A is based on\")\n",
    "    question: str = Field(description=\"A single question about the content\")\n",
    "    answer: str = Field(..., description=\"Answer\")\n",
    "\n",
    "class QAPairs(BaseModel):\n",
    "    pairs: List[QAPair] = Field(..., description=\"List of question/answer pairs\")\n",
    "\n",
    "@traced\n",
    "def produce_questions(content):\n",
    "    completion = client.beta.chat.completions.parse(\n",
    "        model=\"gpt-4.1-mini\",\n",
    "        messages=[\n",
    "            {\n",
    "                \"role\": \"user\",\n",
    "                \"content\": f\"\"\"Please generate 2 question/answer pairs from the following text, focusing specifically on investment and personal finance topics.\n",
    "                For each pair, provide a single question, a unique answer, and include the exact text segment from the original context that the Q&A is based on.\n",
    "\n",
    "                IMPORTANT:\n",
    "                1. Focus ONLY on investment, financial planning, wealth management, stock market, retirement planning, tax optimization, or other personal finance related topics.\n",
    "                2. All questions and answers MUST be in Traditional Chinese (Taiwan).\n",
    "                3. Use terminology and expressions commonly used in Taiwan's financial sector.\n",
    "                4. If the context doesn't contain finance-related information, extract the most relevant aspects that could be applied to personal finance or investment decisions.\n",
    "                5. For each Q&A pair, include the exact text from the original context that contains the information used for the Q&A. This should be copied verbatim from the input context.\n",
    "\n",
    "                Context: <context>{content}</context>\"\"\",\n",
    "            }\n",
    "        ],\n",
    "        response_format=QAPairs\n",
    "    )\n",
    "\n",
    "    parsed_result = completion.choices[0].message.parsed\n",
    "    pairs = parsed_result.pairs\n",
    "    return pairs"
   ]
  },
  {
   "cell_type": "code",
   "execution_count": 8,
   "metadata": {
    "colab": {
     "base_uri": "https://localhost:8080/"
    },
    "executionInfo": {
     "elapsed": 2734,
     "status": "ok",
     "timestamp": 1745939634612,
     "user": {
      "displayName": "張文鈿（ihower）",
      "userId": "16942569988483049654"
     },
     "user_tz": -480
    },
    "id": "cMHNfZEbFsgX",
    "outputId": "0fae6874-0f0f-4b87-941b-40dc3c547c65"
   },
   "outputs": [
    {
     "data": {
      "text/plain": [
       "[QAPair(reference='兆豐銀行所做任何投資意見與市場分析結果，係依據資料製作當時情況進行判斷', question='兆豐銀行提供的投資意見是基於什麼條件進行判斷的？', answer='兆豐銀行的投資意見與市場分析結果是根據當時可取得的資料狀況進行判斷。'),\n",
       " QAPair(reference='投資標的之價格與收益將隨時變動，亦不必然為未來績效表現', question='為什麼投資人的投資標的價格與收益會有所變動？', answer='因市場變化影響，投資標的的價格與收益會隨時變動，且不一定代表未來的績效表現。')]"
      ]
     },
     "execution_count": 8,
     "metadata": {},
     "output_type": "execute_result"
    }
   ],
   "source": [
    "x = produce_questions('兆豐銀行所做任何投資意見與市場分析結果，係依據資料製作當時情況進行判斷\\n惟可能因市場變化而變動，投資標的之價格與收益將隨時變動，亦不必然為未來績效表現')\n",
    "x"
   ]
  },
  {
   "cell_type": "code",
   "execution_count": 9,
   "metadata": {
    "id": "r1sb1qzGF2J7"
   },
   "outputs": [],
   "source": [
    "h = x[0].model_dump()"
   ]
  },
  {
   "cell_type": "code",
   "execution_count": 10,
   "metadata": {
    "colab": {
     "base_uri": "https://localhost:8080/"
    },
    "executionInfo": {
     "elapsed": 9,
     "status": "ok",
     "timestamp": 1745939670587,
     "user": {
      "displayName": "張文鈿（ihower）",
      "userId": "16942569988483049654"
     },
     "user_tz": -480
    },
    "id": "AR2hxPL2HQrH",
    "outputId": "007132af-ea58-4521-ecc4-af0355483d3a"
   },
   "outputs": [
    {
     "data": {
      "text/plain": [
       "{'reference': '兆豐銀行所做任何投資意見與市場分析結果，係依據資料製作當時情況進行判斷',\n",
       " 'question': '兆豐銀行提供的投資意見是基於什麼條件進行判斷的？',\n",
       " 'answer': '兆豐銀行的投資意見與市場分析結果是根據當時可取得的資料狀況進行判斷。',\n",
       " 'test': 1234}"
      ]
     },
     "execution_count": 10,
     "metadata": {},
     "output_type": "execute_result"
    }
   ],
   "source": [
    "h['test'] = 1234\n",
    "h"
   ]
  },
  {
   "cell_type": "code",
   "execution_count": 11,
   "metadata": {
    "colab": {
     "base_uri": "https://localhost:8080/"
    },
    "executionInfo": {
     "elapsed": 106553,
     "status": "ok",
     "timestamp": 1745939794496,
     "user": {
      "displayName": "張文鈿（ihower）",
      "userId": "16942569988483049654"
     },
     "user_tz": -480
    },
    "id": "PqeMB7IwBs7a",
    "outputId": "e7fdff42-258d-4d04-b650-d0cfd427f477"
   },
   "outputs": [
    {
     "name": "stdout",
     "output_type": "stream",
     "text": [
      "{'reference': '兆豐銀行所做任何投資意見與市場分析結果，係依據資料製作當時情況進行判斷\\n惟可能因市場變化而變動，投資標的之價格與收益將隨時變動，亦不必然為未來績效表現', 'question': '兆豐銀行如何說明其投資意見與市場分析結果的性質？', 'answer': '兆豐銀行的投資意見與市場分析結果是基於當時資料進行判斷，且可能因市場變化而隨時變動，投資標的的價格與收益不代表未來績效。', 'page_index': 0}\n",
      "{'reference': '財富管理處投顧小組\\n114年2月24日\\n投資研究週報\\n淨零轉型兆豐同行', 'question': '兆豐銀行財富管理處投顧小組的投資研究週報主要探討何種議題？', 'answer': '投資研究週報聚焦於淨零轉型，代表兆豐銀行關注環境永續與相關投資機會。', 'page_index': 0}\n",
      "{'reference': '兆豐銀行所做任何投資意見與市場分析結果，係依據資料製作當時情況進行判斷\\n惟可能因市場變化而變動，投資標的之價格與收益將隨時變動，亦不必然為未來績效表現', 'question': '兆豐銀行在提供投資意見時，有哪些風險提醒？', 'answer': '兆豐銀行提醒，其投資意見與市場分析是根據資料當時情況判斷，價格與收益會隨市場變動，且不保證未來績效。', 'page_index': 1}\n",
      "{'reference': '兆豐銀行所做任何投資意見與市場分析結果，係依據資料製作當時情況進行判斷\\n惟可能因市場變化而變動，投資標的之價格與收益將隨時變動，亦不必然為未來績效表現', 'question': '投資標的的價格與收益為何會隨時間波動？', 'answer': '因市場變化，投資標的之價格與收益會隨時變動，導致未來績效不一定與當時分析結果相同。', 'page_index': 1}\n",
      "{'reference': '兆豐銀行所做任何投資意見與市場分析結果，係依據資料製作當時情況進行判斷\\n惟可能因市場變化而變動，投資標的之價格與收益將隨時變動，亦不必然為未來績效表現', 'question': '在接受兆豐銀行的投資建議時，投資人應該注意什麼重要事項？', 'answer': '投資人應注意兆豐銀行的投資意見與市場分析是基於當時資料判斷，且投資標的價格與收益隨時可能因市場變動而改變，未來績效不保證。', 'page_index': 2}\n",
      "{'reference': '全球主要股票指數(%): MSCI AC世界指數 過去1個月漲跌幅 1.20%、過去1年漲跌幅 16.93%、年初迄今漲跌幅 3.95%', 'question': '根據兆豐銀行提供的資料，MSCI AC世界指數過去一年與年初以來的漲跌幅分別是多少？', 'answer': 'MSCI AC世界指數過去一年漲跌幅為16.93%，年初迄今漲跌幅為3.95%。', 'page_index': 2}\n",
      "{'reference': '投資標的之價格與收益將隨時變動，亦不必然為未來績效表現', 'question': '為何投資人須注意投資標的價格與收益變動？', 'answer': '因為投資標的的價格與收益會隨時變動，且過去表現不代表未來績效，因此投資人應隨時關注市場變化以調整投資策略。', 'page_index': 3}\n",
      "{'reference': '台灣 出口訂單(年比) Jan 2.7% -3.0 % 20.8%', 'question': '根據最新資料，台灣一月份出口訂單年比實際表現如何？', 'answer': '2025年一月份台灣出口訂單年比實際為-3.0%，低於市場預期的2.7%，顯示出口動能較弱，投資人應注意相關產業可能面臨壓力。', 'page_index': 3}\n",
      "{'reference': '美銀美林經理人調查報告顯示，最看好全球股和美股，對歐股的看好程度亦大幅提升，認為價值股優於成長股，小型股優於大型股，看好銀行金融類股，美股高檔震盪，美國經濟仍保持韌性，企業盈餘成長仍領先全球，建議投資人布局以美國優於其他國家。', 'question': '根據美銀美林經理人調查報告，投資人應如何布局股票市場？', 'answer': '調查報告建議投資人應優先布局美股，相較其他國家更具投資價值，並偏好價值股與銀行金融類股，以及小型股優於大型股。', 'page_index': 4}\n",
      "{'reference': '中國2月貸款市場報價利率(LPR)按兵不動，一年期報3.1%、五年期以上報3.6%；此外，人行行長潘功勝表示，未來將實施更積極的財政政策和適度寬鬆的貨幣政策，持續推動中國經濟增長。', 'question': '中國央行未來的財政與貨幣政策方向對投資人有何意義？', 'answer': '中國央行將推行更積極的財政政策及適度寬鬆貨幣政策，意味著政府將支持經濟成長，有助投資人判斷中國市場投資時機與風險管理。', 'page_index': 4}\n",
      "{'reference': '彭博預估，1月份PCE年增率將自前月的2.6%降至2.5%，核心PCE年增率將自前月的2.8%降至2.6%，儘管通膨數據有望維持下行，但預料市場將謹慎看待關稅風險，美債殖利率或維持高檔震盪，建議投資人可鎖定在中短天期的投資等級債，在獲取穩定息收的同時，降低利率前景變化帶來的波動風險。', 'question': '針對當前美國通膨趨勢及利率變動，投資人應如何調整債券部位以優化投資風險？', 'answer': '投資人可以鎖定中短天期的投資等級債券，透過獲取穩定息收來同時降低利率前景變化可能帶來的價格波動風險。', 'page_index': 5}\n",
      "{'reference': '2月份美國服務業PMI初值報49.7(前月52.9)，跌落至榮枯線下方，逾2年低點，反映了企業環境的不確定性增加，特別是政府削減開支和關稅問題，同時採購經理人還擔憂價格上漲和地緣政治風險，通膨憂慮揮之不去。', 'question': '美國服務業PMI跌破榮枯線及相關經濟不確定性，對個人投資者意味著什麼風險？', 'answer': '服務業PMI跌破榮枯線代表經濟活動放緩，加上政府削減開支及關稅風險，可能使市場波動增加，投資人須謹慎評估經濟風險，調整資產配置以規避地緣政治及通膨帶來的不利影響。', 'page_index': 5}\n",
      "{'reference': '美股2025年獲利年增率可望維持雙位數成長\\n•\\n美股2025年獲利年增率可望維持雙位數：美股大型企業陸續公布財報，去年第4季標普500企業獲利預計將成長15.3%，2025年獲利年增率仍將維持雙位數成長，有利股市維持長線多頭格局。', 'question': '根據兆豐銀行的市場觀點，美股標普500企業2025年的獲利年增率預計如何，有何投資意涵？', 'answer': '兆豐銀行指出，美股標普500企業2025年的獲利年增率可望維持雙位數成長，去年第4季獲利預計成長15.3%。這樣的獲利成長有利於股市維持長線多頭格局，有助投資人對美股長期投資信心。', 'page_index': 6}\n",
      "{'reference': '在類股上以通訊服務(+32.2%)、金融(30%)、非必須消費技(+25.4%)、科技(+17.9%)等類股企業獲利成長性最高，但能源(-30.2%)與原物料(-2.9%)類股表現相對落後。', 'question': '根據兆豐銀行報告，2024年底標普500企業獲利年增率預估中，哪些產業表現較佳？對個人投資人有何參考價值？', 'answer': '兆豐銀行指出，通訊服務(+32.2%)、金融(30%)、非必須消費科技(+25.4%)以及科技(+17.9%)類股獲利成長最高，而能源與原物料類股則落後。這意味著投資人若聚焦獲利成長強勁的產業，有助提高投資組合報酬率並分散風險。', 'page_index': 6}\n",
      "{'reference': '• 八成經理人認為經濟不會衰退、聯準會將持續降息至少一次：2月份美銀美林經理人調查報告顯示，超過8成受訪經理人認為經濟不會衰退，近8成認為聯準會將持續降息至少一次。由於持續看好股市的表現，本月調查的現金水位降至3.5%，為2010年以來的最低水準。', 'question': '根據美銀美林經理人調查，為何建議投資人降低現金水位至3.5％？', 'answer': '因為超過八成經理人認為經濟不會衰退，且聯準會將持續降息至少一次，因此看好股市表現，故建議降低現金水位，增加投資部位。', 'page_index': 7}\n",
      "{'reference': '• 經理人看好全球股和美股，偏好小型股、金融類股：受訪經理人認為股優於債，最看好全球股和美股，對歐股的看好程度亦大幅提升，認為價值股優於成長股，小型股優於大型股，看好銀行金融類股，債券方面則維持減碼。', 'question': '投資人應如何調整投資組合以符合經理人近期偏好？', 'answer': '應增加全球股及美股中的小型股與金融類股持股比例，並減碼債券部位，同時優先選擇價值股超過成長股的配置。', 'page_index': 7}\n",
      "{'reference': '日本核心CPI連續第34個月高於央行設定的2%目標：日本食品價格與電費等能源價格上漲，推升1月消費者物價指數(CPI)從去年12⽉的3.6%上升⾄4.0%，符合預期；核⼼CPI(不包括⽣鮮⾷品)從去年12⽉的3.0%上升至3.2%，⾼於市場預期的3.1%，連續第34個月高於央行所設定的2%目標。', 'question': '日本最近的核心消費者物價指數(CPI)表現如何，對投資人有何意義？', 'answer': '日本核心CPI已連續34個月高於央行2%的目標，代表通膨持續偏高，投資人應關注可能影響利率變動與貨幣政策，調整投資組合風險配置。', 'page_index': 8}\n",
      "{'reference': '日本央行於7月前升息機率超過80%：高於預期的CPI物價數據，增強央⾏對於通膨持穩在2%⽬標⽔平附近的信⼼，隔夜指數掉期顯示，市場認為日本央行7月前升息的可能性超過80%；彭博預期日本央⾏將在今年4月與7月各升息1碼，將⽬標利率上調⾄1.0%，日圓兌美元匯率可能從目前的150-160區間回升至140-150區間。', 'question': '日本央行預計升息，對股市及外匯投資者有何影響？', 'answer': '日本央行7月前升息機率超過80%，利率上調可能推升日圓匯率回升，投資者應留意外匯波動及利率調整對股票市場與外匯資產的影響，適度調整投資配置。', 'page_index': 8}\n",
      "{'reference': '預期2025年日本消費回暖推升實質GDP成長：統計10位日本經濟學家的預期，在剔除物價變動的影響後，預估2025年實質GDP年增長1.3%，其中個人消費將由-0.1%轉為正成長1.0%，個人消費的回暖將驅動經濟持續復甦。此外，日本的加薪幅度已經連續兩年超越通膨，這個趨勢有望延續到2025年的春鬥談判，加上日本政府為了緩解生活成本壓力，計劃推出的補貼措施，將有機會進一步刺激消費、推動經濟增長，並提升內需企業的獲利，有助日股後市表現。', 'question': '2025年日本經濟消費回暖的趨勢如何影響日本股市？', 'answer': '2025年日本個人消費由負成長轉為正成長，加上加薪幅度超越通膨及政府補貼措施，將刺激經濟增長與內需企業獲利，進而有助推升日股後市表現。', 'page_index': 9}\n",
      "{'reference': '日本GDP與經常帳盈餘表現不俗：日本2024年國內生產總值(GDP)達609兆日圓，名目GDP年成長2.9%、實質GDP年成長0.1%，不僅首次突破600兆日圓且實現連續4年正成長；此外，2024年日本經常收支順差超過29兆日圓亦創下歷史新高，年增率達29.5%。GDP與經常帳數字表現不俗，主要得益於日圓貶值帶動出口競爭力(尤其以半導體相關產業鏈與汽車出口表現強勁)、外國人到訪旅遊令服務收支上揚、外國投資海外匯兌收益提升等因素，共同驅動日本經濟成長動能。', 'question': '日本經濟成長的主要驅動因素有哪些，投資者應如何利用這些資訊？', 'answer': '日本2024年GDP與經常帳盈餘表現強勁，原因包括日圓貶值提升出口競爭力、半導體與汽車出口強勁、外國旅遊增加及海外匯兌收益提升。投資者可考慮配置相關產業與出口導向企業的股票，以掌握經濟成長帶來的投資機會。', 'page_index': 9}\n",
      "{'reference': '阿里巴巴2024財年第三季(截至2024/12/31)營收年增8%，優於市場預期，阿里雲收入也重回雙位數成長，人工智慧相關產品連續6季保持3位數成長，提振市場對於中國AI前景的信心，加上國家主席習近平參加包含馬雲在內的民營企業座談會，展現官方支持民營部門的信號，支撐陸、港股走揚，上證指數週漲0.97%，恆生指數週漲3.79%。', 'question': '投資人應如何看待阿里巴巴近期的營收表現以及其對陸港股市的影響？', 'answer': '阿里巴巴2024財年第三季營收年增8%，超出市場預期，且其AI產品連續6季保持三位數成長，這提振了市場對中國AI產業的信心，帶動陸港股指數上漲，投資人可聚焦具AI概念且營收展望佳的科技股作為投資標的。', 'page_index': 10}\n",
      "{'reference': '建議投資人評估自身風險承受度，逢回酌量衛星布局，選股不選市，並聚焦在具AI概念且營收展望佳的科技股。', 'question': '面對中國股市的技術性牛市與不確定因素，投資人在資產配置上應保持什麼樣的策略？', 'answer': '投資人應評估自身風險承受度，採取逢低分批買進的衛星配置策略，重點挑選具備AI概念且營收展望佳的科技股，避免盲目追漲指數，做到選股不選市。', 'page_index': 10}\n",
      "{'reference': '多家投行看好業績前景，股價預估仍有2成漲幅：摩根史坦利、瑞銀、美國銀行等多家大型投行持續看好輝達股價表現，彭博統計顯示，輝達股票12個月目標價達$174.4，相對當前股價仍有2成的報酬潛力，綜合買進評等比例達89.6%。', 'question': '根據多家大型投行的預測，輝達股票未來12個月的目標價是多少？', 'answer': '輝達股票未來12個月的目標價達174.4美元，相較當前股價約有2成的報酬潛力。', 'page_index': 11}\n",
      "{'reference': '輝達4Q24業績前瞻(單位：美元)......營收預估382.5億，經調整淨利預估209.8億，經調整每股盈餘預估0.84，年成長率分別為+73%、+63%、+63%。', 'question': '輝達2024年第4季預估的經調整淨利和每股盈餘是多少？', 'answer': '輝達2024年第4季經調整淨利預估為209.8億美元，每股盈餘預估為0.84美元。', 'page_index': 11}\n",
      "{'reference': '把握利率尚處高位的投資好時機，以實現穩定的回報。', 'question': '目前利率處於高位，投資者應該如何利用這種市場環境來管理投資組合？', 'answer': '投資者應把握利率尚處高位的投資好時機，利用高利率環境實現穩定的投資回報。', 'page_index': 12}\n",
      "{'reference': '美債殖利率歷史高位區，利好進場投資並長期持有：依據過往經驗，在高殖利率水準進場投資並長期持有，報酬表現將較過去長期平均略勝。', 'question': '在美國公債殖利率處於歷史高位時，投資策略應該為何？', 'answer': '應於高殖利率水準時進場投資並長期持有，以期報酬表現優於長期平均，並利用債券的固定配息特性，達成長期穩健現金流策略。', 'page_index': 12}\n",
      "{'reference': '短年期非投債，利率敏感度低：聯準會的降息有助固定收益資產，但降息幅度收斂，使長期資產波動加劇。短年期非投債存續期短，對利率變動的敏感度較低，相較於長債，投資者不必擔心利率上升影響債券價格。對於追求收益與風險平衡的投資者而言，鎖定短年期非投債，可在收取相對固定高息同時，控制投資風險，並捕捉到市場變動時機，有效在利率拐點前把握高息收入為主、資本利得為輔的原則，鎖定優質收益。', 'question': '為什麼投資者會考慮鎖定短年期非投資等級債券作為投資標的？', 'answer': '因為短年期非投資等級債券存續期短，對利率變動敏感度低，投資者能收取較固定的高息，同時控制風險，並把握市場變動時機，避免長期債券因利率上升而價格下跌。', 'page_index': 13}\n",
      "{'reference': '美元非投債違約率低於長期均值：美國經濟景氣基本面的向好，預估美元非投資等級債券的違約率有望降至1.3%，遠低於長期均值3.4%，反映出企業違約風險較低的優勢。而經濟軟著陸的預期也使短天期美元非投資等級債券具有持續的固定息收，並優於股市較劇烈的資產波動，成為累計總報酬的重要來源。', 'question': '美國短年期非投資等級債券的違約率預期如何，對投資人的意義為何？', 'answer': '預估美元非投資等級債券的違約率將降至1.3%，遠低於長期均值3.4%，表示企業違約風險較低，短年期美元非投資等級債券提供持續固定息收且波動小於股市，是累積總報酬的重要投資工具。', 'page_index': 13}\n",
      "{'reference': '美國科技股、價值股、小型股、公用事業Easing 受惠降息的題材 非投資等級債、投資等級債Asia 優選亞洲強國 日股、台股、印度Multi 多重資產組合拳 美國平衡型、複合債2025Q1 配置策略', 'question': '根據市場焦點中的內容，投資者在2025年第一季應如何進行多重資產配置？', 'answer': '根據市場焦點內容，投資者在2025年第一季應採用多重資產組合策略，包含美國科技股、價值股、小型股、公用事業，並受惠於降息題材，同時配置非投資等級債與投資等級債，優選亞洲強國如日本、台灣及印度股票，以及美國平衡型與複合債券，以實現資產多元分散。', 'page_index': 14}\n",
      "{'reference': '兆豐銀行所做任何投資意見與市場分析結果，係依據資料製作當時情況進行判斷 惟可能因市場變化而變動，投資標的之價格與收益將隨時變動，亦不必然為未來績效表現', 'question': '為何兆豐銀行提醒投資者注意其投資建議可能隨市場變動？', 'answer': '兆豐銀行提醒投資者，其投資意見與市場分析基於當時資料判斷，但因市場時刻變動，投資標的價格與收益也隨之波動，因此這些建議不保證未來績效，投資者應注意風險及市場不確定性。', 'page_index': 14}\n",
      "{'reference': '本資料提及之經濟走勢預測不必然代表基金之績效，基金投資風險請詳閱基金公開說明書。', 'question': '在投資基金時，為何投資人需要參考基金公開說明書？', 'answer': '因為經濟走勢預測不一定代表基金績效，投資人須透過基金公開說明書了解基金投資風險及相關資訊，才能做出審慎的投資決策。', 'page_index': 15}\n",
      "{'reference': '本資料所載部分基金涉及非投資等級債，投資人投資以非投資等級債券為訴求之基金不宜占其投資組合過高之比重。基金經金管會核准，惟不表示絕無風險。由於非投資等級債券之信用評等未達投資等級或未經信用評等，且對利率變動的敏感度甚高，故本基金可能會因利率上升、市場流動性下降，或債券發行機構違約不支付本金、利息或破產而蒙受虧損。部分基金不適合無法承擔相關風險之投資人。基金經理公司以往之經理績效不保證基金之最低投資收益；基金經理公司除盡善良管理人之注意義務外不負責本基金之盈虧，亦不保證最低之收益，投資人申購前應詳閱基金公開說明書。', 'question': '為何非投資等級債基金不適合所有投資人？', 'answer': '因為非投資等級債信用評等較低且對利率變動敏感，可能因利率上升、市場流動性降低或發行機構違約而導致虧損；故此類基金風險較高，且基金經理不保證最低收益，投資人應審慎評估自身風險承受能力。', 'page_index': 15}\n"
     ]
    }
   ],
   "source": [
    "dataset = []\n",
    "for idx, page in enumerate(pages):\n",
    "    context = page.get_text()\n",
    "    pairs = produce_questions(context)\n",
    "    for pair in pairs:\n",
    "      h = pair.model_dump()\n",
    "      h[\"page_index\"] = idx\n",
    "      print(h)\n",
    "      dataset.append(h)"
   ]
  },
  {
   "cell_type": "code",
   "execution_count": 12,
   "metadata": {
    "id": "TdhCzmY6D7n5"
   },
   "outputs": [],
   "source": [
    "eval_dataset = []\n",
    "for qa in dataset:\n",
    "    eval_dataset.append(\n",
    "        {\n",
    "            \"input\": qa['question'],\n",
    "            \"expected\": qa['answer'],\n",
    "            \"metadata\": {\n",
    "                \"reference\": qa['reference'],\n",
    "                'page_index': qa['page_index'],\n",
    "                'file_name': '1140224.pdf'\n",
    "            },\n",
    "        }\n",
    "    )"
   ]
  },
  {
   "cell_type": "code",
   "execution_count": 13,
   "metadata": {},
   "outputs": [
    {
     "data": {
      "text/plain": [
       "[{'input': '兆豐銀行如何說明其投資意見與市場分析結果的性質？',\n",
       "  'expected': '兆豐銀行的投資意見與市場分析結果是基於當時資料進行判斷，且可能因市場變化而隨時變動，投資標的的價格與收益不代表未來績效。',\n",
       "  'metadata': {'reference': '兆豐銀行所做任何投資意見與市場分析結果，係依據資料製作當時情況進行判斷\\n惟可能因市場變化而變動，投資標的之價格與收益將隨時變動，亦不必然為未來績效表現',\n",
       "   'page_index': 0,\n",
       "   'file_name': '1140224.pdf'}},\n",
       " {'input': '兆豐銀行財富管理處投顧小組的投資研究週報主要探討何種議題？',\n",
       "  'expected': '投資研究週報聚焦於淨零轉型，代表兆豐銀行關注環境永續與相關投資機會。',\n",
       "  'metadata': {'reference': '財富管理處投顧小組\\n114年2月24日\\n投資研究週報\\n淨零轉型兆豐同行',\n",
       "   'page_index': 0,\n",
       "   'file_name': '1140224.pdf'}},\n",
       " {'input': '兆豐銀行在提供投資意見時，有哪些風險提醒？',\n",
       "  'expected': '兆豐銀行提醒，其投資意見與市場分析是根據資料當時情況判斷，價格與收益會隨市場變動，且不保證未來績效。',\n",
       "  'metadata': {'reference': '兆豐銀行所做任何投資意見與市場分析結果，係依據資料製作當時情況進行判斷\\n惟可能因市場變化而變動，投資標的之價格與收益將隨時變動，亦不必然為未來績效表現',\n",
       "   'page_index': 1,\n",
       "   'file_name': '1140224.pdf'}},\n",
       " {'input': '投資標的的價格與收益為何會隨時間波動？',\n",
       "  'expected': '因市場變化，投資標的之價格與收益會隨時變動，導致未來績效不一定與當時分析結果相同。',\n",
       "  'metadata': {'reference': '兆豐銀行所做任何投資意見與市場分析結果，係依據資料製作當時情況進行判斷\\n惟可能因市場變化而變動，投資標的之價格與收益將隨時變動，亦不必然為未來績效表現',\n",
       "   'page_index': 1,\n",
       "   'file_name': '1140224.pdf'}},\n",
       " {'input': '在接受兆豐銀行的投資建議時，投資人應該注意什麼重要事項？',\n",
       "  'expected': '投資人應注意兆豐銀行的投資意見與市場分析是基於當時資料判斷，且投資標的價格與收益隨時可能因市場變動而改變，未來績效不保證。',\n",
       "  'metadata': {'reference': '兆豐銀行所做任何投資意見與市場分析結果，係依據資料製作當時情況進行判斷\\n惟可能因市場變化而變動，投資標的之價格與收益將隨時變動，亦不必然為未來績效表現',\n",
       "   'page_index': 2,\n",
       "   'file_name': '1140224.pdf'}},\n",
       " {'input': '根據兆豐銀行提供的資料，MSCI AC世界指數過去一年與年初以來的漲跌幅分別是多少？',\n",
       "  'expected': 'MSCI AC世界指數過去一年漲跌幅為16.93%，年初迄今漲跌幅為3.95%。',\n",
       "  'metadata': {'reference': '全球主要股票指數(%): MSCI AC世界指數 過去1個月漲跌幅 1.20%、過去1年漲跌幅 16.93%、年初迄今漲跌幅 3.95%',\n",
       "   'page_index': 2,\n",
       "   'file_name': '1140224.pdf'}},\n",
       " {'input': '為何投資人須注意投資標的價格與收益變動？',\n",
       "  'expected': '因為投資標的的價格與收益會隨時變動，且過去表現不代表未來績效，因此投資人應隨時關注市場變化以調整投資策略。',\n",
       "  'metadata': {'reference': '投資標的之價格與收益將隨時變動，亦不必然為未來績效表現',\n",
       "   'page_index': 3,\n",
       "   'file_name': '1140224.pdf'}},\n",
       " {'input': '根據最新資料，台灣一月份出口訂單年比實際表現如何？',\n",
       "  'expected': '2025年一月份台灣出口訂單年比實際為-3.0%，低於市場預期的2.7%，顯示出口動能較弱，投資人應注意相關產業可能面臨壓力。',\n",
       "  'metadata': {'reference': '台灣 出口訂單(年比) Jan 2.7% -3.0 % 20.8%',\n",
       "   'page_index': 3,\n",
       "   'file_name': '1140224.pdf'}},\n",
       " {'input': '根據美銀美林經理人調查報告，投資人應如何布局股票市場？',\n",
       "  'expected': '調查報告建議投資人應優先布局美股，相較其他國家更具投資價值，並偏好價值股與銀行金融類股，以及小型股優於大型股。',\n",
       "  'metadata': {'reference': '美銀美林經理人調查報告顯示，最看好全球股和美股，對歐股的看好程度亦大幅提升，認為價值股優於成長股，小型股優於大型股，看好銀行金融類股，美股高檔震盪，美國經濟仍保持韌性，企業盈餘成長仍領先全球，建議投資人布局以美國優於其他國家。',\n",
       "   'page_index': 4,\n",
       "   'file_name': '1140224.pdf'}},\n",
       " {'input': '中國央行未來的財政與貨幣政策方向對投資人有何意義？',\n",
       "  'expected': '中國央行將推行更積極的財政政策及適度寬鬆貨幣政策，意味著政府將支持經濟成長，有助投資人判斷中國市場投資時機與風險管理。',\n",
       "  'metadata': {'reference': '中國2月貸款市場報價利率(LPR)按兵不動，一年期報3.1%、五年期以上報3.6%；此外，人行行長潘功勝表示，未來將實施更積極的財政政策和適度寬鬆的貨幣政策，持續推動中國經濟增長。',\n",
       "   'page_index': 4,\n",
       "   'file_name': '1140224.pdf'}},\n",
       " {'input': '針對當前美國通膨趨勢及利率變動，投資人應如何調整債券部位以優化投資風險？',\n",
       "  'expected': '投資人可以鎖定中短天期的投資等級債券，透過獲取穩定息收來同時降低利率前景變化可能帶來的價格波動風險。',\n",
       "  'metadata': {'reference': '彭博預估，1月份PCE年增率將自前月的2.6%降至2.5%，核心PCE年增率將自前月的2.8%降至2.6%，儘管通膨數據有望維持下行，但預料市場將謹慎看待關稅風險，美債殖利率或維持高檔震盪，建議投資人可鎖定在中短天期的投資等級債，在獲取穩定息收的同時，降低利率前景變化帶來的波動風險。',\n",
       "   'page_index': 5,\n",
       "   'file_name': '1140224.pdf'}},\n",
       " {'input': '美國服務業PMI跌破榮枯線及相關經濟不確定性，對個人投資者意味著什麼風險？',\n",
       "  'expected': '服務業PMI跌破榮枯線代表經濟活動放緩，加上政府削減開支及關稅風險，可能使市場波動增加，投資人須謹慎評估經濟風險，調整資產配置以規避地緣政治及通膨帶來的不利影響。',\n",
       "  'metadata': {'reference': '2月份美國服務業PMI初值報49.7(前月52.9)，跌落至榮枯線下方，逾2年低點，反映了企業環境的不確定性增加，特別是政府削減開支和關稅問題，同時採購經理人還擔憂價格上漲和地緣政治風險，通膨憂慮揮之不去。',\n",
       "   'page_index': 5,\n",
       "   'file_name': '1140224.pdf'}},\n",
       " {'input': '根據兆豐銀行的市場觀點，美股標普500企業2025年的獲利年增率預計如何，有何投資意涵？',\n",
       "  'expected': '兆豐銀行指出，美股標普500企業2025年的獲利年增率可望維持雙位數成長，去年第4季獲利預計成長15.3%。這樣的獲利成長有利於股市維持長線多頭格局，有助投資人對美股長期投資信心。',\n",
       "  'metadata': {'reference': '美股2025年獲利年增率可望維持雙位數成長\\n•\\n美股2025年獲利年增率可望維持雙位數：美股大型企業陸續公布財報，去年第4季標普500企業獲利預計將成長15.3%，2025年獲利年增率仍將維持雙位數成長，有利股市維持長線多頭格局。',\n",
       "   'page_index': 6,\n",
       "   'file_name': '1140224.pdf'}},\n",
       " {'input': '根據兆豐銀行報告，2024年底標普500企業獲利年增率預估中，哪些產業表現較佳？對個人投資人有何參考價值？',\n",
       "  'expected': '兆豐銀行指出，通訊服務(+32.2%)、金融(30%)、非必須消費科技(+25.4%)以及科技(+17.9%)類股獲利成長最高，而能源與原物料類股則落後。這意味著投資人若聚焦獲利成長強勁的產業，有助提高投資組合報酬率並分散風險。',\n",
       "  'metadata': {'reference': '在類股上以通訊服務(+32.2%)、金融(30%)、非必須消費技(+25.4%)、科技(+17.9%)等類股企業獲利成長性最高，但能源(-30.2%)與原物料(-2.9%)類股表現相對落後。',\n",
       "   'page_index': 6,\n",
       "   'file_name': '1140224.pdf'}},\n",
       " {'input': '根據美銀美林經理人調查，為何建議投資人降低現金水位至3.5％？',\n",
       "  'expected': '因為超過八成經理人認為經濟不會衰退，且聯準會將持續降息至少一次，因此看好股市表現，故建議降低現金水位，增加投資部位。',\n",
       "  'metadata': {'reference': '• 八成經理人認為經濟不會衰退、聯準會將持續降息至少一次：2月份美銀美林經理人調查報告顯示，超過8成受訪經理人認為經濟不會衰退，近8成認為聯準會將持續降息至少一次。由於持續看好股市的表現，本月調查的現金水位降至3.5%，為2010年以來的最低水準。',\n",
       "   'page_index': 7,\n",
       "   'file_name': '1140224.pdf'}},\n",
       " {'input': '投資人應如何調整投資組合以符合經理人近期偏好？',\n",
       "  'expected': '應增加全球股及美股中的小型股與金融類股持股比例，並減碼債券部位，同時優先選擇價值股超過成長股的配置。',\n",
       "  'metadata': {'reference': '• 經理人看好全球股和美股，偏好小型股、金融類股：受訪經理人認為股優於債，最看好全球股和美股，對歐股的看好程度亦大幅提升，認為價值股優於成長股，小型股優於大型股，看好銀行金融類股，債券方面則維持減碼。',\n",
       "   'page_index': 7,\n",
       "   'file_name': '1140224.pdf'}},\n",
       " {'input': '日本最近的核心消費者物價指數(CPI)表現如何，對投資人有何意義？',\n",
       "  'expected': '日本核心CPI已連續34個月高於央行2%的目標，代表通膨持續偏高，投資人應關注可能影響利率變動與貨幣政策，調整投資組合風險配置。',\n",
       "  'metadata': {'reference': '日本核心CPI連續第34個月高於央行設定的2%目標：日本食品價格與電費等能源價格上漲，推升1月消費者物價指數(CPI)從去年12⽉的3.6%上升⾄4.0%，符合預期；核⼼CPI(不包括⽣鮮⾷品)從去年12⽉的3.0%上升至3.2%，⾼於市場預期的3.1%，連續第34個月高於央行所設定的2%目標。',\n",
       "   'page_index': 8,\n",
       "   'file_name': '1140224.pdf'}},\n",
       " {'input': '日本央行預計升息，對股市及外匯投資者有何影響？',\n",
       "  'expected': '日本央行7月前升息機率超過80%，利率上調可能推升日圓匯率回升，投資者應留意外匯波動及利率調整對股票市場與外匯資產的影響，適度調整投資配置。',\n",
       "  'metadata': {'reference': '日本央行於7月前升息機率超過80%：高於預期的CPI物價數據，增強央⾏對於通膨持穩在2%⽬標⽔平附近的信⼼，隔夜指數掉期顯示，市場認為日本央行7月前升息的可能性超過80%；彭博預期日本央⾏將在今年4月與7月各升息1碼，將⽬標利率上調⾄1.0%，日圓兌美元匯率可能從目前的150-160區間回升至140-150區間。',\n",
       "   'page_index': 8,\n",
       "   'file_name': '1140224.pdf'}},\n",
       " {'input': '2025年日本經濟消費回暖的趨勢如何影響日本股市？',\n",
       "  'expected': '2025年日本個人消費由負成長轉為正成長，加上加薪幅度超越通膨及政府補貼措施，將刺激經濟增長與內需企業獲利，進而有助推升日股後市表現。',\n",
       "  'metadata': {'reference': '預期2025年日本消費回暖推升實質GDP成長：統計10位日本經濟學家的預期，在剔除物價變動的影響後，預估2025年實質GDP年增長1.3%，其中個人消費將由-0.1%轉為正成長1.0%，個人消費的回暖將驅動經濟持續復甦。此外，日本的加薪幅度已經連續兩年超越通膨，這個趨勢有望延續到2025年的春鬥談判，加上日本政府為了緩解生活成本壓力，計劃推出的補貼措施，將有機會進一步刺激消費、推動經濟增長，並提升內需企業的獲利，有助日股後市表現。',\n",
       "   'page_index': 9,\n",
       "   'file_name': '1140224.pdf'}},\n",
       " {'input': '日本經濟成長的主要驅動因素有哪些，投資者應如何利用這些資訊？',\n",
       "  'expected': '日本2024年GDP與經常帳盈餘表現強勁，原因包括日圓貶值提升出口競爭力、半導體與汽車出口強勁、外國旅遊增加及海外匯兌收益提升。投資者可考慮配置相關產業與出口導向企業的股票，以掌握經濟成長帶來的投資機會。',\n",
       "  'metadata': {'reference': '日本GDP與經常帳盈餘表現不俗：日本2024年國內生產總值(GDP)達609兆日圓，名目GDP年成長2.9%、實質GDP年成長0.1%，不僅首次突破600兆日圓且實現連續4年正成長；此外，2024年日本經常收支順差超過29兆日圓亦創下歷史新高，年增率達29.5%。GDP與經常帳數字表現不俗，主要得益於日圓貶值帶動出口競爭力(尤其以半導體相關產業鏈與汽車出口表現強勁)、外國人到訪旅遊令服務收支上揚、外國投資海外匯兌收益提升等因素，共同驅動日本經濟成長動能。',\n",
       "   'page_index': 9,\n",
       "   'file_name': '1140224.pdf'}},\n",
       " {'input': '投資人應如何看待阿里巴巴近期的營收表現以及其對陸港股市的影響？',\n",
       "  'expected': '阿里巴巴2024財年第三季營收年增8%，超出市場預期，且其AI產品連續6季保持三位數成長，這提振了市場對中國AI產業的信心，帶動陸港股指數上漲，投資人可聚焦具AI概念且營收展望佳的科技股作為投資標的。',\n",
       "  'metadata': {'reference': '阿里巴巴2024財年第三季(截至2024/12/31)營收年增8%，優於市場預期，阿里雲收入也重回雙位數成長，人工智慧相關產品連續6季保持3位數成長，提振市場對於中國AI前景的信心，加上國家主席習近平參加包含馬雲在內的民營企業座談會，展現官方支持民營部門的信號，支撐陸、港股走揚，上證指數週漲0.97%，恆生指數週漲3.79%。',\n",
       "   'page_index': 10,\n",
       "   'file_name': '1140224.pdf'}},\n",
       " {'input': '面對中國股市的技術性牛市與不確定因素，投資人在資產配置上應保持什麼樣的策略？',\n",
       "  'expected': '投資人應評估自身風險承受度，採取逢低分批買進的衛星配置策略，重點挑選具備AI概念且營收展望佳的科技股，避免盲目追漲指數，做到選股不選市。',\n",
       "  'metadata': {'reference': '建議投資人評估自身風險承受度，逢回酌量衛星布局，選股不選市，並聚焦在具AI概念且營收展望佳的科技股。',\n",
       "   'page_index': 10,\n",
       "   'file_name': '1140224.pdf'}},\n",
       " {'input': '根據多家大型投行的預測，輝達股票未來12個月的目標價是多少？',\n",
       "  'expected': '輝達股票未來12個月的目標價達174.4美元，相較當前股價約有2成的報酬潛力。',\n",
       "  'metadata': {'reference': '多家投行看好業績前景，股價預估仍有2成漲幅：摩根史坦利、瑞銀、美國銀行等多家大型投行持續看好輝達股價表現，彭博統計顯示，輝達股票12個月目標價達$174.4，相對當前股價仍有2成的報酬潛力，綜合買進評等比例達89.6%。',\n",
       "   'page_index': 11,\n",
       "   'file_name': '1140224.pdf'}},\n",
       " {'input': '輝達2024年第4季預估的經調整淨利和每股盈餘是多少？',\n",
       "  'expected': '輝達2024年第4季經調整淨利預估為209.8億美元，每股盈餘預估為0.84美元。',\n",
       "  'metadata': {'reference': '輝達4Q24業績前瞻(單位：美元)......營收預估382.5億，經調整淨利預估209.8億，經調整每股盈餘預估0.84，年成長率分別為+73%、+63%、+63%。',\n",
       "   'page_index': 11,\n",
       "   'file_name': '1140224.pdf'}},\n",
       " {'input': '目前利率處於高位，投資者應該如何利用這種市場環境來管理投資組合？',\n",
       "  'expected': '投資者應把握利率尚處高位的投資好時機，利用高利率環境實現穩定的投資回報。',\n",
       "  'metadata': {'reference': '把握利率尚處高位的投資好時機，以實現穩定的回報。',\n",
       "   'page_index': 12,\n",
       "   'file_name': '1140224.pdf'}},\n",
       " {'input': '在美國公債殖利率處於歷史高位時，投資策略應該為何？',\n",
       "  'expected': '應於高殖利率水準時進場投資並長期持有，以期報酬表現優於長期平均，並利用債券的固定配息特性，達成長期穩健現金流策略。',\n",
       "  'metadata': {'reference': '美債殖利率歷史高位區，利好進場投資並長期持有：依據過往經驗，在高殖利率水準進場投資並長期持有，報酬表現將較過去長期平均略勝。',\n",
       "   'page_index': 12,\n",
       "   'file_name': '1140224.pdf'}},\n",
       " {'input': '為什麼投資者會考慮鎖定短年期非投資等級債券作為投資標的？',\n",
       "  'expected': '因為短年期非投資等級債券存續期短，對利率變動敏感度低，投資者能收取較固定的高息，同時控制風險，並把握市場變動時機，避免長期債券因利率上升而價格下跌。',\n",
       "  'metadata': {'reference': '短年期非投債，利率敏感度低：聯準會的降息有助固定收益資產，但降息幅度收斂，使長期資產波動加劇。短年期非投債存續期短，對利率變動的敏感度較低，相較於長債，投資者不必擔心利率上升影響債券價格。對於追求收益與風險平衡的投資者而言，鎖定短年期非投債，可在收取相對固定高息同時，控制投資風險，並捕捉到市場變動時機，有效在利率拐點前把握高息收入為主、資本利得為輔的原則，鎖定優質收益。',\n",
       "   'page_index': 13,\n",
       "   'file_name': '1140224.pdf'}},\n",
       " {'input': '美國短年期非投資等級債券的違約率預期如何，對投資人的意義為何？',\n",
       "  'expected': '預估美元非投資等級債券的違約率將降至1.3%，遠低於長期均值3.4%，表示企業違約風險較低，短年期美元非投資等級債券提供持續固定息收且波動小於股市，是累積總報酬的重要投資工具。',\n",
       "  'metadata': {'reference': '美元非投債違約率低於長期均值：美國經濟景氣基本面的向好，預估美元非投資等級債券的違約率有望降至1.3%，遠低於長期均值3.4%，反映出企業違約風險較低的優勢。而經濟軟著陸的預期也使短天期美元非投資等級債券具有持續的固定息收，並優於股市較劇烈的資產波動，成為累計總報酬的重要來源。',\n",
       "   'page_index': 13,\n",
       "   'file_name': '1140224.pdf'}},\n",
       " {'input': '根據市場焦點中的內容，投資者在2025年第一季應如何進行多重資產配置？',\n",
       "  'expected': '根據市場焦點內容，投資者在2025年第一季應採用多重資產組合策略，包含美國科技股、價值股、小型股、公用事業，並受惠於降息題材，同時配置非投資等級債與投資等級債，優選亞洲強國如日本、台灣及印度股票，以及美國平衡型與複合債券，以實現資產多元分散。',\n",
       "  'metadata': {'reference': '美國科技股、價值股、小型股、公用事業Easing 受惠降息的題材 非投資等級債、投資等級債Asia 優選亞洲強國 日股、台股、印度Multi 多重資產組合拳 美國平衡型、複合債2025Q1 配置策略',\n",
       "   'page_index': 14,\n",
       "   'file_name': '1140224.pdf'}},\n",
       " {'input': '為何兆豐銀行提醒投資者注意其投資建議可能隨市場變動？',\n",
       "  'expected': '兆豐銀行提醒投資者，其投資意見與市場分析基於當時資料判斷，但因市場時刻變動，投資標的價格與收益也隨之波動，因此這些建議不保證未來績效，投資者應注意風險及市場不確定性。',\n",
       "  'metadata': {'reference': '兆豐銀行所做任何投資意見與市場分析結果，係依據資料製作當時情況進行判斷 惟可能因市場變化而變動，投資標的之價格與收益將隨時變動，亦不必然為未來績效表現',\n",
       "   'page_index': 14,\n",
       "   'file_name': '1140224.pdf'}},\n",
       " {'input': '在投資基金時，為何投資人需要參考基金公開說明書？',\n",
       "  'expected': '因為經濟走勢預測不一定代表基金績效，投資人須透過基金公開說明書了解基金投資風險及相關資訊，才能做出審慎的投資決策。',\n",
       "  'metadata': {'reference': '本資料提及之經濟走勢預測不必然代表基金之績效，基金投資風險請詳閱基金公開說明書。',\n",
       "   'page_index': 15,\n",
       "   'file_name': '1140224.pdf'}},\n",
       " {'input': '為何非投資等級債基金不適合所有投資人？',\n",
       "  'expected': '因為非投資等級債信用評等較低且對利率變動敏感，可能因利率上升、市場流動性降低或發行機構違約而導致虧損；故此類基金風險較高，且基金經理不保證最低收益，投資人應審慎評估自身風險承受能力。',\n",
       "  'metadata': {'reference': '本資料所載部分基金涉及非投資等級債，投資人投資以非投資等級債券為訴求之基金不宜占其投資組合過高之比重。基金經金管會核准，惟不表示絕無風險。由於非投資等級債券之信用評等未達投資等級或未經信用評等，且對利率變動的敏感度甚高，故本基金可能會因利率上升、市場流動性下降，或債券發行機構違約不支付本金、利息或破產而蒙受虧損。部分基金不適合無法承擔相關風險之投資人。基金經理公司以往之經理績效不保證基金之最低投資收益；基金經理公司除盡善良管理人之注意義務外不負責本基金之盈虧，亦不保證最低之收益，投資人申購前應詳閱基金公開說明書。',\n",
       "   'page_index': 15,\n",
       "   'file_name': '1140224.pdf'}}]"
      ]
     },
     "execution_count": 13,
     "metadata": {},
     "output_type": "execute_result"
    }
   ],
   "source": [
    "eval_dataset"
   ]
  },
  {
   "cell_type": "markdown",
   "metadata": {
    "id": "_gLh8zTeG0XK"
   },
   "source": [
    "## Baseline (No RAG)"
   ]
  },
  {
   "cell_type": "code",
   "execution_count": 14,
   "metadata": {
    "id": "46N7YQNNG1m-"
   },
   "outputs": [],
   "source": [
    "def simple_qa(question):\n",
    "    completion = client.chat.completions.create(\n",
    "        model=\"gpt-4.1-mini\",\n",
    "        messages=[\n",
    "            {\n",
    "                \"role\": \"user\",\n",
    "                \"content\": question,\n",
    "            }\n",
    "        ],\n",
    "    )\n",
    "    return completion.choices[0].message.content"
   ]
  },
  {
   "cell_type": "code",
   "execution_count": 15,
   "metadata": {
    "colab": {
     "base_uri": "https://localhost:8080/"
    },
    "executionInfo": {
     "elapsed": 124,
     "status": "ok",
     "timestamp": 1745940858481,
     "user": {
      "displayName": "張文鈿（ihower）",
      "userId": "16942569988483049654"
     },
     "user_tz": -480
    },
    "id": "t6FmensVHkFn",
    "outputId": "268bc978-3dd7-46a6-e2c5-65a65ee51713"
   },
   "outputs": [
    {
     "name": "stderr",
     "output_type": "stream",
     "text": [
      "Experiment No RAG is running at https://www.braintrust.dev/app/ispan/p/20250707-eval/experiments/No%20RAG\n",
      "`Eval()` was called from an async context. For better performance, it is recommended to use `await EvalAsync()` instead.\n"
     ]
    },
    {
     "data": {
      "text/plain": [
       "<Task pending name='Task-5' coro=<_EvalCommon.<locals>.run_to_completion() running at /home/os-sunnie.gd.weng/.local/lib/python3.10/site-packages/braintrust/framework.py:688>>"
      ]
     },
     "execution_count": 15,
     "metadata": {},
     "output_type": "execute_result"
    },
    {
     "name": "stderr",
     "output_type": "stream",
     "text": [
      "20250707-eval [experiment_name=No RAG] (data): 32it [00:00, 66313.11it/s]\n"
     ]
    },
    {
     "data": {
      "application/vnd.jupyter.widget-view+json": {
       "model_id": "1a1530ad113c488b80fe36455d864207",
       "version_major": 2,
       "version_minor": 0
      },
      "text/plain": [
       "20250707-eval [experiment_name=No RAG] (tasks):   0%|          | 0/32 [00:00<?, ?it/s]"
      ]
     },
     "metadata": {},
     "output_type": "display_data"
    },
    {
     "name": "stdout",
     "output_type": "stream",
     "text": [
      "\n",
      "=========================SUMMARY=========================\n",
      "45.00% 'Factuality' score\n",
      "\n",
      "1751875914.46s start\n",
      "1751875935.71s end\n",
      "13.27s duration\n",
      "8.39s llm_duration\n",
      "33.34tok prompt_tokens\n",
      "423.97tok completion_tokens\n",
      "457.31tok total_tokens\n",
      "0.00$ estimated_cost\n",
      "0tok prompt_cached_tokens\n",
      "0tok prompt_cache_creation_tokens\n",
      "\n",
      "See results for No RAG at https://www.braintrust.dev/app/ispan/p/20250707-eval/experiments/No%20RAG\n"
     ]
    }
   ],
   "source": [
    "import autoevals\n",
    "\n",
    "Eval(\n",
    "    name=\"20250707-eval\",\n",
    "    experiment_name=\"No RAG\",\n",
    "    data=eval_dataset,\n",
    "    task=simple_qa,\n",
    "    scores=[autoevals.Factuality(model=\"gpt-4.1\")],\n",
    ")"
   ]
  },
  {
   "cell_type": "markdown",
   "metadata": {
    "id": "IVTDfiCgqumo"
   },
   "source": [
    "## Naive RAG\n",
    "\n",
    "我們用 braintrust 提供的 autoevals 套件中的內建評估 prompt: Factuality  https://github.com/braintrustdata/autoevals/blob/main/templates/factuality.yaml\n",
    "\n",
    "這讓 AI 拿你 task 的 output 和 dataset 中的 expected，比較兩個回答之間的事實內容差異，常見於自動評估問答或教學模型輸出的正確性。以下是詳細解釋：\n",
    "\n",
    "* (A)\t提交的回答是專家答案的子集合，且完全一致。（例：專家說 A+B+C，提交只說 A+C，但沒說錯）\n",
    "* (B)\t提交的回答是專家答案的超集合，也就是它包含更多細節，但與專家內容一致。（例：專家說 A+C，提交說 A+B+C+D）\n",
    "* (C)\t提交的回答與專家答案完全一樣，所有細節一致\n",
    "* (D)\t兩者有事實上的衝突或矛盾\n",
    "* (E)\t雖然兩者不完全一樣，但差異不影響事實正確性（可能是換句話說、順序不同等）\n",
    "\n",
    "----\n",
    "* C 與 E 是「最理想」的狀態，得分是 1\n",
    "* B 比 A 更完整，分數略高。0.6 跟 0.4\n",
    "* D 是錯誤，得 0 分。\n",
    "\n",
    "\n"
   ]
  },
  {
   "cell_type": "code",
   "execution_count": 16,
   "metadata": {
    "colab": {
     "base_uri": "https://localhost:8080/"
    },
    "executionInfo": {
     "elapsed": 20088,
     "status": "ok",
     "timestamp": 1745940348794,
     "user": {
      "displayName": "張文鈿（ihower）",
      "userId": "16942569988483049654"
     },
     "user_tz": -480
    },
    "id": "fDWcfXjiqdkG",
    "outputId": "29a38240-862c-495c-e4ab-0b1a49a8671a"
   },
   "outputs": [],
   "source": [
    "# !pip install chromadb"
   ]
  },
  {
   "cell_type": "code",
   "execution_count": 17,
   "metadata": {},
   "outputs": [
    {
     "name": "stdout",
     "output_type": "stream",
     "text": [
      "Successfully overridden sqlite3 with pysqlite3\n",
      "現有的 collections:\n",
      "\\n刪除失敗: Collection collection1 does not exist.\n",
      "\\n刪除後的 collections:\n"
     ]
    }
   ],
   "source": [
    "\n",
    "# Try to fix SQLite compatibility for ChromaDB\n",
    "import sys\n",
    "try:\n",
    "    # Try to override sqlite3 with pysqlite3\n",
    "    import pysqlite3\n",
    "    sys.modules['sqlite3'] = pysqlite3\n",
    "    print(\"Successfully overridden sqlite3 with pysqlite3\")\n",
    "except ImportError:\n",
    "    print(\"pysqlite3 not available, using system sqlite3\")\n",
    "    pass\n",
    "\n",
    "import chromadb\n",
    "# Use EphemeralClient which is more compatible\n",
    "chroma_client = chromadb.EphemeralClient()\n",
    "\n",
    "# 如何刪除已創建的 collection\n",
    "\n",
    "# 1. 查看所有現有的 collections\n",
    "print(\"現有的 collections:\")\n",
    "collections = chroma_client.list_collections()\n",
    "for col in collections:\n",
    "    print(f\"- {col.name}\")\n",
    "\n",
    "# 2. 刪除特定的 collection\n",
    "try:\n",
    "    chroma_client.delete_collection(name=\"collection1\")\n",
    "    print(\"\\\\n成功刪除 collection1\")\n",
    "except Exception as e:\n",
    "    print(f\"\\\\n刪除失敗: {e}\")\n",
    "\n",
    "# 3. 再次查看所有 collections 確認是否已刪除\n",
    "print(\"\\\\n刪除後的 collections:\")\n",
    "collections = chroma_client.list_collections()\n",
    "for col in collections:\n",
    "    print(f\"- {col.name}\")\n",
    "    \n",
    "# 4. 重新創建 collection（如果需要）\n",
    "collection = chroma_client.create_collection(name=\"collection1\")\n",
    "\n"
   ]
  },
  {
   "cell_type": "code",
   "execution_count": 18,
   "metadata": {
    "colab": {
     "base_uri": "https://localhost:8080/"
    },
    "executionInfo": {
     "elapsed": 2713,
     "status": "ok",
     "timestamp": 1745940369806,
     "user": {
      "displayName": "張文鈿（ihower）",
      "userId": "16942569988483049654"
     },
     "user_tz": -480
    },
    "id": "eRwY3hVsJ75w",
    "outputId": "7b7bbb6b-cb91-41dc-bbb6-9ac1c148f4f7"
   },
   "outputs": [
    {
     "name": "stdout",
     "output_type": "stream",
     "text": [
      "Defaulting to user installation because normal site-packages is not writeable\n",
      "Requirement already satisfied: tiktoken in /home/os-sunnie.gd.weng/.local/lib/python3.10/site-packages (0.9.0)\n",
      "Requirement already satisfied: regex>=2022.1.18 in /home/os-sunnie.gd.weng/.local/lib/python3.10/site-packages (from tiktoken) (2024.11.6)\n",
      "Requirement already satisfied: requests>=2.26.0 in /home/os-sunnie.gd.weng/.local/lib/python3.10/site-packages (from tiktoken) (2.32.3)\n",
      "Requirement already satisfied: charset-normalizer<4,>=2 in /home/os-sunnie.gd.weng/.local/lib/python3.10/site-packages (from requests>=2.26.0->tiktoken) (3.4.1)\n",
      "Requirement already satisfied: idna<4,>=2.5 in /usr/local/lib/python3.10/dist-packages (from requests>=2.26.0->tiktoken) (3.10)\n",
      "Requirement already satisfied: urllib3<3,>=1.21.1 in /home/os-sunnie.gd.weng/.local/lib/python3.10/site-packages (from requests>=2.26.0->tiktoken) (2.4.0)\n",
      "Requirement already satisfied: certifi>=2017.4.17 in /usr/lib/python3/dist-packages (from requests>=2.26.0->tiktoken) (2019.11.28)\n"
     ]
    }
   ],
   "source": [
    "!pip install tiktoken"
   ]
  },
  {
   "cell_type": "code",
   "execution_count": 19,
   "metadata": {
    "colab": {
     "base_uri": "https://localhost:8080/"
    },
    "executionInfo": {
     "elapsed": 3257,
     "status": "ok",
     "timestamp": 1745940395316,
     "user": {
      "displayName": "張文鈿（ihower）",
      "userId": "16942569988483049654"
     },
     "user_tz": -480
    },
    "id": "J2BflwoQKCRL",
    "outputId": "caf1ba9f-e7b9-4469-a44f-b1db3a721a28"
   },
   "outputs": [
    {
     "name": "stdout",
     "output_type": "stream",
     "text": [
      "Defaulting to user installation because normal site-packages is not writeable\n",
      "Requirement already satisfied: langchain_text_splitters in /home/os-sunnie.gd.weng/.local/lib/python3.10/site-packages (0.3.8)\n",
      "Requirement already satisfied: langchain-core<1.0.0,>=0.3.51 in /home/os-sunnie.gd.weng/.local/lib/python3.10/site-packages (from langchain_text_splitters) (0.3.63)\n",
      "Requirement already satisfied: langsmith<0.4,>=0.1.126 in /home/os-sunnie.gd.weng/.local/lib/python3.10/site-packages (from langchain-core<1.0.0,>=0.3.51->langchain_text_splitters) (0.3.31)\n",
      "Requirement already satisfied: tenacity!=8.4.0,<10.0.0,>=8.1.0 in /home/os-sunnie.gd.weng/.local/lib/python3.10/site-packages (from langchain-core<1.0.0,>=0.3.51->langchain_text_splitters) (8.2.3)\n",
      "Requirement already satisfied: jsonpatch<2.0,>=1.33 in /home/os-sunnie.gd.weng/.local/lib/python3.10/site-packages (from langchain-core<1.0.0,>=0.3.51->langchain_text_splitters) (1.33)\n",
      "Requirement already satisfied: PyYAML>=5.3 in /home/os-sunnie.gd.weng/.local/lib/python3.10/site-packages (from langchain-core<1.0.0,>=0.3.51->langchain_text_splitters) (6.0.1)\n",
      "Requirement already satisfied: packaging<25,>=23.2 in /usr/local/lib/python3.10/dist-packages (from langchain-core<1.0.0,>=0.3.51->langchain_text_splitters) (24.1)\n",
      "Requirement already satisfied: typing-extensions>=4.7 in /usr/local/lib/python3.10/dist-packages (from langchain-core<1.0.0,>=0.3.51->langchain_text_splitters) (4.12.2)\n",
      "Requirement already satisfied: pydantic>=2.7.4 in /home/os-sunnie.gd.weng/.local/lib/python3.10/site-packages (from langchain-core<1.0.0,>=0.3.51->langchain_text_splitters) (2.11.7)\n",
      "Requirement already satisfied: jsonpointer>=1.9 in /home/os-sunnie.gd.weng/.local/lib/python3.10/site-packages (from jsonpatch<2.0,>=1.33->langchain-core<1.0.0,>=0.3.51->langchain_text_splitters) (3.0.0)\n",
      "Requirement already satisfied: httpx<1,>=0.23.0 in /home/os-sunnie.gd.weng/.local/lib/python3.10/site-packages (from langsmith<0.4,>=0.1.126->langchain-core<1.0.0,>=0.3.51->langchain_text_splitters) (0.28.1)\n",
      "Requirement already satisfied: orjson<4.0.0,>=3.9.14 in /home/os-sunnie.gd.weng/.local/lib/python3.10/site-packages (from langsmith<0.4,>=0.1.126->langchain-core<1.0.0,>=0.3.51->langchain_text_splitters) (3.10.16)\n",
      "Requirement already satisfied: requests<3,>=2 in /home/os-sunnie.gd.weng/.local/lib/python3.10/site-packages (from langsmith<0.4,>=0.1.126->langchain-core<1.0.0,>=0.3.51->langchain_text_splitters) (2.32.3)\n",
      "Requirement already satisfied: requests-toolbelt<2.0.0,>=1.0.0 in /home/os-sunnie.gd.weng/.local/lib/python3.10/site-packages (from langsmith<0.4,>=0.1.126->langchain-core<1.0.0,>=0.3.51->langchain_text_splitters) (1.0.0)\n",
      "Requirement already satisfied: zstandard<0.24.0,>=0.23.0 in /home/os-sunnie.gd.weng/.local/lib/python3.10/site-packages (from langsmith<0.4,>=0.1.126->langchain-core<1.0.0,>=0.3.51->langchain_text_splitters) (0.23.0)\n",
      "Requirement already satisfied: anyio in /home/os-sunnie.gd.weng/.local/lib/python3.10/site-packages (from httpx<1,>=0.23.0->langsmith<0.4,>=0.1.126->langchain-core<1.0.0,>=0.3.51->langchain_text_splitters) (4.9.0)\n",
      "Requirement already satisfied: certifi in /usr/lib/python3/dist-packages (from httpx<1,>=0.23.0->langsmith<0.4,>=0.1.126->langchain-core<1.0.0,>=0.3.51->langchain_text_splitters) (2019.11.28)\n",
      "Requirement already satisfied: httpcore==1.* in /home/os-sunnie.gd.weng/.local/lib/python3.10/site-packages (from httpx<1,>=0.23.0->langsmith<0.4,>=0.1.126->langchain-core<1.0.0,>=0.3.51->langchain_text_splitters) (1.0.8)\n",
      "Requirement already satisfied: idna in /usr/local/lib/python3.10/dist-packages (from httpx<1,>=0.23.0->langsmith<0.4,>=0.1.126->langchain-core<1.0.0,>=0.3.51->langchain_text_splitters) (3.10)\n",
      "Requirement already satisfied: h11<0.15,>=0.13 in /home/os-sunnie.gd.weng/.local/lib/python3.10/site-packages (from httpcore==1.*->httpx<1,>=0.23.0->langsmith<0.4,>=0.1.126->langchain-core<1.0.0,>=0.3.51->langchain_text_splitters) (0.14.0)\n",
      "Requirement already satisfied: annotated-types>=0.6.0 in /home/os-sunnie.gd.weng/.local/lib/python3.10/site-packages (from pydantic>=2.7.4->langchain-core<1.0.0,>=0.3.51->langchain_text_splitters) (0.7.0)\n",
      "Requirement already satisfied: pydantic-core==2.33.2 in /home/os-sunnie.gd.weng/.local/lib/python3.10/site-packages (from pydantic>=2.7.4->langchain-core<1.0.0,>=0.3.51->langchain_text_splitters) (2.33.2)\n",
      "Requirement already satisfied: typing-inspection>=0.4.0 in /home/os-sunnie.gd.weng/.local/lib/python3.10/site-packages (from pydantic>=2.7.4->langchain-core<1.0.0,>=0.3.51->langchain_text_splitters) (0.4.0)\n",
      "Requirement already satisfied: charset-normalizer<4,>=2 in /home/os-sunnie.gd.weng/.local/lib/python3.10/site-packages (from requests<3,>=2->langsmith<0.4,>=0.1.126->langchain-core<1.0.0,>=0.3.51->langchain_text_splitters) (3.4.1)\n",
      "Requirement already satisfied: urllib3<3,>=1.21.1 in /home/os-sunnie.gd.weng/.local/lib/python3.10/site-packages (from requests<3,>=2->langsmith<0.4,>=0.1.126->langchain-core<1.0.0,>=0.3.51->langchain_text_splitters) (2.4.0)\n",
      "Requirement already satisfied: exceptiongroup>=1.0.2 in /home/os-sunnie.gd.weng/.local/lib/python3.10/site-packages (from anyio->httpx<1,>=0.23.0->langsmith<0.4,>=0.1.126->langchain-core<1.0.0,>=0.3.51->langchain_text_splitters) (1.2.2)\n",
      "Requirement already satisfied: sniffio>=1.1 in /home/os-sunnie.gd.weng/.local/lib/python3.10/site-packages (from anyio->httpx<1,>=0.23.0->langsmith<0.4,>=0.1.126->langchain-core<1.0.0,>=0.3.51->langchain_text_splitters) (1.3.1)\n"
     ]
    }
   ],
   "source": [
    "!pip install langchain_text_splitters"
   ]
  },
  {
   "cell_type": "code",
   "execution_count": 20,
   "metadata": {
    "id": "epGCyYfqKCef"
   },
   "outputs": [],
   "source": [
    "from langchain_text_splitters import RecursiveCharacterTextSplitter\n",
    "import tiktoken\n",
    "\n",
    "tokenizer = tiktoken.get_encoding(\"o200k_base\") # gpt-4o 是 o200k_base，之前版本 gpt-4-turbo 和 gpt-3.5-turbo 是 cl100k_base\n",
    "\n",
    "def length_function(text: str):\n",
    "    return len(tokenizer.encode(text))\n",
    "\n",
    "text_splitter = RecursiveCharacterTextSplitter(length_function=length_function, chunk_size=800, chunk_overlap=200, separators=[\n",
    "    \"\\n\\n\",\n",
    "    \"\\n\",\n",
    "    \" \",\n",
    "    \".\",\n",
    "    \",\",\n",
    "    \"\\u200b\",  # Zero-width space\n",
    "    \"\\uff0c\",  # Fullwidth comma ，\n",
    "    \"\\u3001\",  # Ideographic comma 、\n",
    "    \"\\uff0e\",  # Fullwidth full stop ．\n",
    "    \"\\u3002\",  # Ideographic full stop 。\n",
    "    \"\",\n",
    "])"
   ]
  },
  {
   "cell_type": "code",
   "execution_count": 21,
   "metadata": {
    "id": "wSW3LjF1KP9O"
   },
   "outputs": [],
   "source": [
    "def get_embeddings(text):\n",
    "  response = client.embeddings.create(\n",
    "      input=text,\n",
    "      model=\"text-embedding-3-small\"\n",
    "  )\n",
    "\n",
    "  return response.data[0].embedding"
   ]
  },
  {
   "cell_type": "code",
   "execution_count": 22,
   "metadata": {
    "id": "4-l78FFDKJSb"
   },
   "outputs": [],
   "source": [
    "for idx,page in enumerate(pages):\n",
    "  chunks = text_splitter.split_text(page.get_text())\n",
    "\n",
    "  collection.add(\n",
    "    documents = chunks,\n",
    "    embeddings = [ get_embeddings(chunk) for chunk in chunks ],\n",
    "    ids=[f\"doc-1-page-{idx}-chunk-{x}\" for x in range( len(chunks) ) ],\n",
    "    metadatas=[{\"page\": idx, \"chunk\": x} for x in range( len(chunks) ) ]\n",
    "  )\n"
   ]
  },
  {
   "cell_type": "code",
   "execution_count": 23,
   "metadata": {},
   "outputs": [
    {
     "name": "stdout",
     "output_type": "stream",
     "text": [
      "前幾筆資料預覽：\n",
      "IDs: ['doc-1-page-0-chunk-0', 'doc-1-page-1-chunk-0', 'doc-1-page-2-chunk-0', 'doc-1-page-2-chunk-1', 'doc-1-page-3-chunk-0', 'doc-1-page-4-chunk-0', 'doc-1-page-5-chunk-0', 'doc-1-page-6-chunk-0', 'doc-1-page-7-chunk-0', 'doc-1-page-8-chunk-0']\n",
      "Documents: ['兆豐銀行所做任何投資意見與市場分析結果，係依據資料製作當時情況進行判斷\\n惟可能因市場變化而變動，投資標的之價格與收益將隨時變動，亦不必然為未來績效表現\\n1\\n財富管理處投顧小組\\n114年2月24日\\n投資研究週報\\n淨零轉型兆豐同行', '兆豐銀行所做任何投資意見與市場分析結果，係依據資料製作當時情況進行判斷\\n惟可能因市場變化而變動，投資標的之價格與收益將隨時變動，亦不必然為未來績效表現\\n2\\n市場回顧\\n市場焦點\\n聚焦議題\\n資產觀點\\n一\\n二\\n三\\n四\\n內容大綱', '兆豐銀行所做任何投資意見與市場分析結果，係依據資料製作當時情況進行判斷\\n惟可能因市場變化而變動，投資標的之價格與收益將隨時變動，亦不必然為未來績效表現\\n3\\n市\\n場\\n焦\\n點\\n聚\\n焦\\n議\\n題\\n資\\n產\\n觀\\n點\\n市\\n場\\n回\\n顧\\n資料來源：Bloomberg，2025/2/21\\n全球主要股票指數(%)\\n全球主要債券指數(%)\\n全球主要商品指數(%)\\n全球主要匯率(%)\\n主要金融市場回顧\\n股票指數\\n過去1個月\\n漲跌幅%\\n過去1年\\n漲跌幅%\\n年初迄今\\n漲跌幅%\\nMSCI AC世界指數\\n1.20%\\n16.93%\\n3.95%\\nS&P 500指數\\n-0.60%\\n20.70%\\n2.24%\\n歐洲道瓊600指數\\n5.30%\\n12.79%\\n9.11%\\nMSCI亞太不含日本指數\\n5.31%\\n15.02%\\n5.72%\\n日經225指數\\n-0.64%\\n1.35%\\n-2.80%\\nMSCI新興市場指數\\n6.12%\\n12.41%\\n6.68%\\n漲跌幅\\n週漲跌幅%\\n-1.10%\\n-1.66%\\n0.26%\\n1.51%\\n-0.95%\\n1.96%\\n債券市場\\n過去1個月\\n漲跌幅%\\n過去1年\\n漲跌幅%\\n年初迄今\\n漲跌幅%\\n全球政府公債指數\\n1.53%\\n1.28%\\n1.71%\\n全球投資等級債指數\\n1.40%\\n5.10%\\n1.67%\\n全球非投資等級債指數\\n1.02%\\n9.50%\\n1.91%\\n美國非投資等級債指數\\n0.49%\\n10.10%\\n1.61%\\n亞洲非投資等級債指數\\n1.85%\\n12.55%\\n2.24%\\nJPM新興市場債指數\\n1.45%\\n9.50%\\n2.05%\\n漲跌幅\\n週漲跌幅%\\n0.18%\\n0.07%\\n-0.06%\\n-0.02%\\n0.16%\\n0.03%\\n商品市場\\n過去1個月\\n漲跌幅%\\n過去1年\\n漲跌幅%\\n年初迄今\\n漲跌幅%\\nCRB指數\\n0.76%\\n13.58%\\n4.89%\\n布蘭特原油\\n-6.13%\\n-10.36%\\n-0.28%\\n金價\\n7.95%\\n44.63%\\n12.41%\\n銅價\\n5.04%\\n17.68%\\n13.25%\\n小麥\\n5.59%\\n1.16%\\n6.98%\\n波羅的海\\n5.71%\\n-41.47%\\n-1.60%\\n漲跌幅\\n週漲跌幅%\\n-0.28%', '-0.02%\\n0.16%\\n0.03%\\n商品市場\\n過去1個月\\n漲跌幅%\\n過去1年\\n漲跌幅%\\n年初迄今\\n漲跌幅%\\nCRB指數\\n0.76%\\n13.58%\\n4.89%\\n布蘭特原油\\n-6.13%\\n-10.36%\\n-0.28%\\n金價\\n7.95%\\n44.63%\\n12.41%\\n銅價\\n5.04%\\n17.68%\\n13.25%\\n小麥\\n5.59%\\n1.16%\\n6.98%\\n波羅的海\\n5.71%\\n-41.47%\\n-1.60%\\n漲跌幅\\n週漲跌幅%\\n-0.28%\\n-0.41%\\n1.86%\\n-2.24%\\n-1.67%\\n23.86%\\n外匯\\n過去1個月\\n漲跌幅%\\n過去1年\\n漲跌幅%\\n年初迄今\\n漲跌幅%\\n歐元\\n1.01%\\n-3.18%\\n0.43%\\n日圓\\n4.30%\\n0.49%\\n4.83%\\n英鎊\\n3.13%\\n0.08%\\n0.65%\\n在岸人民幣\\n0.18%\\n-0.85%\\n0.71%\\n南非幣\\n1.40%\\n2.73%\\n2.26%\\n澳幣\\n2.14%\\n-3.06%\\n2.30%\\n美元指數\\n-1.34%\\n2.51%\\n-1.73%\\n漲跌幅\\n週漲跌幅%\\n-0.32%\\n2.00%\\n0.37%\\n0.07%\\n0.02%\\n0.08%\\n-0.09%', '兆豐銀行所做任何投資意見與市場分析結果，係依據資料製作當時情況進行判斷\\n惟可能因市場變化而變動，投資標的之價格與收益將隨時變動，亦不必然為未來績效表現\\n4\\n市\\n場\\n焦\\n點\\n聚\\n焦\\n議\\n題\\n資\\n產\\n觀\\n點\\n市\\n場\\n回\\n顧\\n資料來源：Bloomberg，2025/2/21\\n上週經濟數據\\n國家\\n項目\\n資料期間\\n市場預期\\n實際公布\\n前值\\n日本\\nGDP年化經季調(季比)\\n4Q P\\n1.10%\\n2.80%\\n1.20%\\n日本\\n出口(年比)\\nJan\\n7.70%\\n7.20%\\n2.80%\\n歐元區\\n消費者信心指數初值\\nFeb P\\n-14.0\\n-14.0\\n-14.2\\n台灣\\n出口訂單(年比)\\nJan\\n2.7%\\n-3.0 %\\n20.8%\\n美國\\n密西根大學市場氣氛終值\\nFeb F\\n67.8\\n64.7\\n67.8\\n日本\\n全國消費者物價指數年比\\nJan\\n4.00%\\n4.00%\\n3.60%\\n美/歐/日\\n製造業PMI 初值\\nFeb P\\n51.40 / 47.00 / --\\n51.60 / 47.30 / 48.90\\n51.20 / 46.60 / 48.70\\n美/歐/日\\n服務業PMI 初值\\nFeb P\\n53.00 / 51.50 / --\\n49.70 / 50.70 / 53.10\\n52.90 / 51.30 / 53.00\\n本週經濟數據\\n日期\\n國家\\n項目\\n資料期間\\n市場預期\\n前值\\n2/21\\n日本\\n工業生產(月比) 初值\\nJan P\\n-1.00%\\n-0.20%\\n2/24\\n歐元區\\nCPI(年比) 終值\\nJan F\\n2.50%\\n2.50%\\n2/25\\n美國\\n經濟諮詢委員會消費者信心\\nFeb\\n102.7\\n104.1\\n2/26\\n美國\\nGDP年化(季比)\\n4Q S\\n2.30%\\n2.30%\\n2/28\\n美國\\n個人消費支出物價指數(年比)\\nJan\\n2.50%\\n2.60%\\n2/28\\n日本\\n東京消費者物價指數(年比)\\nFeb\\n3.20%\\n3.40%\\n2/28\\n日本\\n零售銷售(月比)\\nJan\\n0.50%\\n-0.80%\\n3/1\\n中國\\n官方製造業PMI\\nFeb\\n50.0\\n49.1\\n主要經濟數據', '兆豐銀行所做任何投資意見與市場分析結果，係依據資料製作當時情況進行判斷\\n惟可能因市場變化而變動，投資標的之價格與收益將隨時變動，亦不必然為未來績效表現\\n5\\n市\\n場\\n焦\\n點\\n聚\\n焦\\n議\\n題\\n資\\n產\\n觀\\n點\\n市\\n場\\n回\\n顧\\n市場焦點\\n經濟數據拖累美股，本週關注PCE數據及輝達財報\\n美國\\n•\\n2月份服務業PMI初值49.7跌落至榮枯線下方，逾2年低點，加上消費者信心指數2月份降至\\n64.7，月比下降近10%，低於預期數據引爆經濟擔憂。\\n•\\n2月份美銀美林經理人調查報告顯示，最看好全球股和美股，對歐股的看好程度亦大幅提升，\\n認為價值股優於成長股，小型股優於大型股，看好銀行金融類股，美股高檔震盪，美國經濟\\n仍保持韌性，企業盈餘成長仍領先全球，建議投資人布局以美國優於其他國家。\\n日本\\n•\\n日本2024年GDP與經常帳數字表現不俗，主要得益於日圓貶值帶動出口競爭力、外國人到訪\\n旅遊令服務收支上揚、外國投資海外匯兌收益提升等因素，共同驅動日本經濟成長動能。\\n•\\n預估2025年實質GDP年增長1.3%，其中個人消費的回暖將驅動經濟持續復甦，加上日本政府\\n為了緩解生活成本壓力，計劃推出的補貼措施，將有機會進一步刺激消費、推動經濟增長，\\n並提升內需企業的獲利，有助日股後市表現。\\n中國\\n•\\n2月貸款市場報價利率(LPR)按兵不動，一年期報3.1%、五年期以上報3.6%；此外，人行行長\\n潘功勝表示，未來將實施更積極的財政政策和適度寬鬆的貨幣政策，持續推動中國經濟增長。\\n•\\n接棒DeepSeek AI熱潮，阿里巴巴財報展示AI相關產品業績高成長，AI概念帶動陸港股進入技\\n術性牛市，惟貿易戰風險仍大，建議投資人依風險程度逢回酌量衛星布局。', '兆豐銀行所做任何投資意見與市場分析結果，係依據資料製作當時情況進行判斷\\n惟可能因市場變化而變動，投資標的之價格與收益將隨時變動，亦不必然為未來績效表現\\n6\\n市\\n場\\n焦\\n點\\n聚\\n焦\\n議\\n題\\n資\\n產\\n觀\\n點\\n市\\n場\\n回\\n顧\\n美國服務業PMI、消費者信心低於預期數據引發經濟擔憂\\n•\\n數據引發投資者對經濟前景擔憂：2月份密西根大學消費者信心指數意外降至64.7(前月71.7)。2月份美國服務業PMI初\\n值報49.7(前月52.9)，跌落至榮枯線下方，逾2年低點，反映了企業環境的不確定性增加，特別是政府削減開支和關稅問\\n題，同時採購經理人還擔憂價格上漲和地緣政治風險，通膨憂慮揮之不去。\\n•\\n展望：本週重點關注個人消費支出物價指數(PCE) ，彭博預估，1月份PCE年增率將自前月的2.6%降至2.5%，核心PCE年\\n增率將自前月的2.8%降至2.6%，儘管通膨數據有望維持下行，但預料市場將謹慎看待關稅風險，美債殖利率或維持高檔\\n震盪，建議投資人可鎖定在中短天期的投資等級債，在獲取穩定息收的同時，降低利率前景變化帶來的波動風險。\\n資料來源：密大消費者調查，2025.2.22。\\n密大消費者信心調查\\n資料來源：S&P Global PMI，2025.2.22。\\nS&P GLOBAL 採購經理人指數一覽\\n服務業投入價格\\n製造業產出價格\\n製造業投入價格\\n服務收費\\nICS 初值\\nICS 修正', '兆豐銀行所做任何投資意見與市場分析結果，係依據資料製作當時情況進行判斷\\n惟可能因市場變化而變動，投資標的之價格與收益將隨時變動，亦不必然為未來績效表現\\n7\\n市\\n場\\n焦\\n點\\n聚\\n焦\\n議\\n題\\n資\\n產\\n觀\\n點\\n市\\n場\\n回\\n顧\\n美股2025年獲利年增率可望維持雙位數成長\\n•\\n美股2025年獲利年增率可望維持雙位數：美股大型企業陸續公布財報，去年第4季標普500企業獲利預計將成長\\n15.3%，2025年獲利年增率仍將維持雙位數成長，有利股市維持長線多頭格局。\\n•\\n獲利成長仍是股市支撐的重要關鍵：在類股上以通訊服務(+32.2%)、金融(30%)、非必須消費技(+25.4%)、科技\\n(+17.9%)等類股企業獲利成長性最高，但能源(-30.2%)與原物料(-2.9%)類股表現相對落後。\\n•\\n留意市場波動性變大：川普關稅議題上話題不斷，包含對加墨中、鋼鋁、汽車課徵關稅以及課徵「對等關稅」，雖然\\n目前看起來是以關稅作為談判手段，但不免仍是對市場帶來一定的波動。\\n標普500指數營收和企業獲利年增率預估(%)\\n各產業2024年Q4企業獲利年增率預估(%)\\n-30.2%\\n-2.9%\\n0.9%\\n7.7%\\n10.2%\\n12.4%\\n14.1%\\n15.3%\\n17.9%\\n25.4%\\n30.0%\\n32.2%\\n能源\\n原物料\\n必須消費\\n工業\\n公用事業\\n房地產\\n醫療保健\\n標普500指數\\n科技\\n非必須消費\\n金融\\n通訊服務\\n資料來源：I/B/E/S，2025.2.14\\n資料來源：I/B/E/S，2025.2.14\\n3.9%\\n5.5%\\n5.5%\\n4.9%\\n4.3%\\n4.4%\\n5.0%\\n5.9%\\n6.6%\\n8.2%\\n13.2%\\n9.1%\\n15.3%\\n8.5%\\n10.5%\\n12.6%\\n12.7%\\n17.2%\\nQ1\\nQ2\\nQ3\\nQ4\\nQ1\\nQ2\\nQ3\\nQ4\\nQ1\\n2024年\\n2025年\\n2026年\\n營收YoY\\n獲利YoY\\n2024年：11.5%\\n2025年：11.4%', '兆豐銀行所做任何投資意見與市場分析結果，係依據資料製作當時情況進行判斷\\n惟可能因市場變化而變動，投資標的之價格與收益將隨時變動，亦不必然為未來績效表現\\n8\\n市\\n場\\n焦\\n點\\n聚\\n焦\\n議\\n題\\n資\\n產\\n觀\\n點\\n市\\n場\\n回\\n顧\\n經理人看好全球股和美股，偏好小型股、金融類股\\n•\\n八成經理人認為經濟不會衰退、聯準會將持續降息至少一次：2月份美銀美林經理人調查報告顯示，超過8成受訪經理\\n人認為經濟不會衰退，近8成認為聯準會將持續降息至少一次。由於持續看好股市的表現，本月調查的現金水位降至\\n3.5%，為2010年以來的最低水準。\\n•\\n經理人看好全球股和美股，偏好小型股、金融類股：受訪經理人認為股優於債，最看好全球股和美股，對歐股的看好\\n程度亦大幅提升，認為價值股優於成長股，小型股優於大型股，看好銀行金融類股，債券方面則維持減碼。做多科技\\n七雄與做多美元處於最擁擠交易前兩名。全球貿易戰引發經濟衰退攀升為最擔憂的三大尾端風險之首，其次為通膨導\\n致聯準會升息。最可能拖累市場表現的主要因素是全球貿易戰，其次是殖利率攀升。最可能激勵市場表現的因素，則\\n為中國經濟的加速成長，其次為AI 生產力提升。\\n•\\n建議：美股高檔震盪，在美國經濟仍保持韌性，企業盈餘成長仍領先全球，川普政策又以美國優先，持續看好美股中\\n長期發展，美股漲勢有望從科技七雄擴大至其他股票及產業，建議投資人布局以美國優於其他國家。\\n最可能拖累市場表現的因素\\n資料來源：美銀美林證券，富蘭克林投顧整理，2025.2\\n最可能影響市場表現的尾端風險\\n最擁擠交易前三名\\n風險\\n比重\\n全球貿易戰引發經濟衰退\\n39%\\n通膨導致聯準會升息\\n31%\\nAI泡沫\\n13%\\n最擁擠交易\\n比重\\n做多科技七雄\\n56%\\n做多美元\\n17%\\n做多加密貨幣\\n13%\\n風險\\n全球貿易戰\\n殖利率攀升', '兆豐銀行所做任何投資意見與市場分析結果，係依據資料製作當時情況進行判斷\\n惟可能因市場變化而變動，投資標的之價格與收益將隨時變動，亦不必然為未來績效表現\\n9\\n市\\n場\\n焦\\n點\\n聚\\n焦\\n議\\n題\\n資\\n產\\n觀\\n點\\n市\\n場\\n回\\n顧\\n日本CPI數據超預期，7月前升息機率超過80%\\n資料來源：Bloomberg，2025.2.21\\n•\\n日本核心CPI連續第34個月高於央行設定的2%目標：日本食品價格與電費等能源價格上漲，推升1月消費者物價指數(CPI)\\n從去年12⽉的3.6%上升⾄4.0%，符合預期；核⼼CPI(不包括⽣鮮⾷品)從去年12⽉的3.0%上升至3.2%，⾼於市場預期的\\n3.1%，連續第34個月高於央行所設定的2%目標。\\n•\\n日本央行於7月前升息機率超過80%：高於預期的CPI物價數據，增強央⾏對於通膨持穩在2%⽬標⽔平附近的信⼼，隔夜指\\n數掉期顯示，市場認為日本央行7月前升息的可能性超過80%；彭博預期日本央⾏將在今年4月與7月各升息1碼，將⽬標利\\n率上調⾄1.0%，日圓兌美元匯率可能從目前的150-160區間回升至140-150區間。\\n日本央行利率走勢與預估\\n資料來源：Bloomberg，2025.1.27\\n日本央行2%通膨目標\\n■CPI (所有項目)\\n■CPI (不含生鮮食品後)\\n■CPI (不含生鮮食品與能源)\\n彭博預估\\n日本央行利率\\n走勢\\n日本消費者物價指數CPI)數據']\n",
      "Metadatas: [{'chunk': 0, 'page': 0}, {'chunk': 0, 'page': 1}, {'chunk': 0, 'page': 2}, {'chunk': 1, 'page': 2}, {'chunk': 0, 'page': 3}, {'chunk': 0, 'page': 4}, {'chunk': 0, 'page': 5}, {'chunk': 0, 'page': 6}, {'chunk': 0, 'page': 7}, {'chunk': 0, 'page': 8}]\n"
     ]
    }
   ],
   "source": [
    "preview = collection.peek()\n",
    "print(\"前幾筆資料預覽：\")\n",
    "print(f\"IDs: {preview['ids']}\")\n",
    "print(f\"Documents: {preview['documents']}\")\n",
    "print(f\"Metadatas: {preview['metadatas']}\")"
   ]
  },
  {
   "cell_type": "code",
   "execution_count": 24,
   "metadata": {
    "id": "OTwded8EKMCB"
   },
   "outputs": [],
   "source": [
    "from typing import List\n",
    "from pydantic import Field, BaseModel\n",
    "\n",
    "class QueryResult(BaseModel):\n",
    "    relevant_quotes: List[str]\n",
    "    answer: str\n",
    "    following_questions: List[str]\n",
    "\n",
    "@traced\n",
    "def ask_with_rag(question):\n",
    "    results = collection.query(\n",
    "        query_embeddings = get_embeddings(question),\n",
    "        # 可有 where 參數可針對上述的 metadatas 做過濾，例如日期、頁數等\n",
    "        n_results=10\n",
    "    )\n",
    "\n",
    "    documents = results['documents'][0]\n",
    "    context = '\\n'.join('* ' + doc for doc in documents)\n",
    "\n",
    "    user_prompt = f\"\"\"\n",
    "    I will provide you with a document and then ask you a question about it. Please respond following these steps:\n",
    "\n",
    "    <document>\n",
    "    {context}\n",
    "    </document>\n",
    "\n",
    "    Question: {question}\n",
    "\n",
    "    Please answer in the following format:\n",
    "\n",
    "    1. First, identify the most relevant quotes from the document that help answer the question and list them. Each quote should be relatively short.\n",
    "        If there are no relevant quotes, write \"No relevant quotes\".\n",
    "\n",
    "    2. Then, answer the question using facts from these quotes without directly referencing the content in your answer.\n",
    "\n",
    "    3. Finally, provide 3 related follow-up questions based on the original question and document content that would help explore the topic further.\n",
    "\n",
    "    If the document does not contain sufficient information to answer the question, please state this in the answer field, but still provide any relevant quotes (if available) and possible follow-up questions.\n",
    "    Please respond in Traditional Chinese (Taiwan).\n",
    "    \"\"\"\n",
    "\n",
    "    completion = client.beta.chat.completions.parse(\n",
    "        model=\"gpt-4.1-mini\",\n",
    "        messages=[\n",
    "            {\"role\": \"user\", \"content\": user_prompt},\n",
    "        ],\n",
    "        response_format=QueryResult\n",
    "    )\n",
    "\n",
    "    parsed_result = completion.choices[0].message.parsed\n",
    "    return parsed_result.answer"
   ]
  },
  {
   "cell_type": "code",
   "execution_count": null,
   "metadata": {
    "colab": {
     "base_uri": "https://localhost:8080/"
    },
    "executionInfo": {
     "elapsed": 96,
     "status": "ok",
     "timestamp": 1745940893024,
     "user": {
      "displayName": "張文鈿（ihower）",
      "userId": "16942569988483049654"
     },
     "user_tz": -480
    },
    "id": "wmwuQ1_wKYL2",
    "outputId": "a393f74b-f935-4f8e-ab8c-3d041c580bfd"
   },
   "outputs": [
    {
     "name": "stderr",
     "output_type": "stream",
     "text": [
      "Experiment Naive RAG is running at https://www.braintrust.dev/app/ispan/p/20250707-eval/experiments/Naive%20RAG\n"
     ]
    },
    {
     "data": {
      "text/plain": [
       "<Task pending name='Task-102' coro=<_EvalCommon.<locals>.run_to_completion() running at /home/os-sunnie.gd.weng/.local/lib/python3.10/site-packages/braintrust/framework.py:688>>"
      ]
     },
     "execution_count": 25,
     "metadata": {},
     "output_type": "execute_result"
    },
    {
     "name": "stderr",
     "output_type": "stream",
     "text": [
      "20250707-eval [experiment_name=Naive RAG] (data): 32it [00:00, 55438.96it/s]\n"
     ]
    },
    {
     "data": {
      "application/vnd.jupyter.widget-view+json": {
       "model_id": "6b6c8ddcab174e0e84edffe900a430e3",
       "version_major": 2,
       "version_minor": 0
      },
      "text/plain": [
       "20250707-eval [experiment_name=Naive RAG] (tasks):   0%|          | 0/32 [00:00<?, ?it/s]"
      ]
     },
     "metadata": {},
     "output_type": "display_data"
    },
    {
     "name": "stdout",
     "output_type": "stream",
     "text": [
      "\n",
      "=========================SUMMARY=========================\n",
      "Naive RAG compared to No RAG:\n",
      "58.75% (+13.75%) 'Factuality' score\t(9 improvements, 2 regressions)\n",
      "\n",
      "1751875931.54s start\n",
      "1751875949.34s end\n",
      "10.92s (-235.21%) 'duration'                    \t(18 improvements, 14 regressions)\n",
      "3.51s (-488.05%) 'llm_duration'                \t(29 improvements, 3 regressions)\n",
      "5556.12tok (+552278.12%) 'prompt_tokens'               \t(0 improvements, 32 regressions)\n",
      "412.66tok (-1131.25%) 'completion_tokens'           \t(16 improvements, 15 regressions)\n",
      "5968.78tok (+551146.88%) 'total_tokens'                \t(0 improvements, 32 regressions)\n",
      "0.00$ (+00.20%) 'estimated_cost'              \t(0 improvements, 32 regressions)\n",
      "476tok (+47600.00%) 'prompt_cached_tokens'        \t(9 improvements, 0 regressions)\n",
      "0tok (-) 'prompt_cache_creation_tokens'\t(0 improvements, 0 regressions)\n",
      "\n",
      "See results for Naive RAG at https://www.braintrust.dev/app/ispan/p/20250707-eval/experiments/Naive%20RAG\n"
     ]
    }
   ],
   "source": [
    "import autoevals\n",
    "\n",
    "Eval(\n",
    "    name=\"20250707-eval\",\n",
    "    experiment_name=\"Naive RAG\",\n",
    "    data=eval_dataset,\n",
    "    task=ask_with_rag,\n",
    "    scores=[autoevals.Factuality(model=\"gpt-4.1\")],\n",
    ")\n"
   ]
  },
  {
   "cell_type": "markdown",
   "metadata": {
    "id": "tvY8TqHKMiBA"
   },
   "source": [
    "## 使用 Ragas 指標來做評估\n",
    "\n",
    "https://docs.ragas.io/en/stable/concepts/metrics/available_metrics/\n",
    "\n",
    "參考自 https://www.braintrust.dev/docs/cookbook/recipes/SimpleRagas\n",
    "\n",
    "# Ragas Metrics Overview\n",
    "\n",
    "本文件整理了 Ragas 提供的所有指標，包含描述及適合的場景。\n",
    "\n",
    "# Ragas Metrics with Real Cases\n",
    "\n",
    "本文件整理了 Ragas 的指標，包含描述、適合場景以及具體案例。\n",
    "\n",
    "| **分類**                   | **指標名稱**                     | **描述**                                                                                     | **適合場景**                                                                 | **實際案例**                                                                 |\n",
    "|----------------------------|----------------------------------|---------------------------------------------------------------------------------------------|------------------------------------------------------------------------------|------------------------------------------------------------------------------|\n",
    "| **Retrieval Augmented Generation** | Context Precision             | 評估檢索到的上下文是否精準。                                                                | RAG 工作流中需要檢測檢索準確性的場景。                                       | 在法律文件檢索中，檢測是否檢索到了與案件相關的條款。                         |\n",
    "|                            | Context Recall                 | 評估檢索到的上下文是否完整。                                                                | RAG 工作流中需要檢測檢索完整性的場景。                                       | 在醫學文獻檢索中，檢測是否覆蓋了所有相關的研究。                             |\n",
    "|                            | Context Entities Recall        | 評估檢索上下文中的實體是否被正確覆蓋。                                                      | 需要檢測實體覆蓋率的場景。                                                   | 在金融報告中，檢測是否覆蓋了所有公司名及相關指標。                           |\n",
    "|                            | Noise Sensitivity              | 評估模型對噪音的敏感程度。                                                                  | 測試模型在噪音環境下的穩定性。                                               | 測試模型在含有拼寫錯誤或不相關信息的查詢中的表現。                            |\n",
    "|                            | Response Relevancy             | 評估模型生成的回應是否與上下文相關。                                                        | 需要檢測回應相關性的場景。                                                   | 在客服場景中，檢測回答是否與客戶問題相關。                                   |\n",
    "|                            | Faithfulness                   | 評估模型生成的回應是否忠實於上下文。                                                        | 測試模型回應的準確性和忠實性。                                               | 在技術支持場景中，檢測回答是否忠實於技術文檔。                               |\n",
    "|                            | Multimodal Faithfulness        | 評估多模態回應是否忠實於上下文。                                                            | 涉及多模態輸入的場景。                                                       | 在包含圖像和文本的醫療診斷場景中，檢測診斷是否基於正確的輸入。               |\n",
    "|                            | Multimodal Relevance           | 評估多模態回應是否與上下文相關。                                                            | 涉及多模態輸入的場景。                                                       | 在電子商務場景中，檢測推薦的商品是否與圖片及描述相關。                       |\n",
    "| **Nvidia Metrics**         | Answer Accuracy                | 評估回答是否準確。                                                                          | 需要檢測回答正確性的場景。                                                   | 在問答系統中，檢測回答是否正確，如「地球的直徑是多少？」                     |\n",
    "|                            | Context Relevance              | 評估上下文是否與用戶查詢相關。                                                              | 測試上下文相關性。                                                           | 在新聞檢索場景中，檢測提供的新聞是否與查詢主題相關。                         |\n",
    "|                            | Response Groundedness          | 評估生成的回應是否基於檢索到的上下文。                                                      | 測試回應是否依賴檢索結果的場景。                                             | 在學術文獻生成場景中，檢測摘要是否基於檢索到的文獻。                         |\n",
    "| **Agentic Workflows**      | Topic Adherence                | 評估模型是否遵守指定的主題。                                                                | 測試模型在特定主題下的表現。                                                 | 在教育場景中，檢測生成的課程內容是否符合指定主題。                           |\n",
    "|                            | Tool Call Accuracy             | 評估模型使用工具的準確性。                                                                  | 涉及工具調用的場景。                                                         | 在數據分析場景中，檢測模型是否正確調用統計工具進行分析。                     |\n",
    "|                            | Agent Goal Accuracy            | 評估代理是否達成指定目標。                                                                  | 測試代理目標完成情況。                                                       | 在自動化客服場景中，檢測代理是否成功解決客戶問題。                           |\n",
    "| **Natural Language Comparison** | Factual Correctness           | 評估回應是否事實正確。                                                                      | 測試事實性和準確性。                                                         | 在百科問答場景中，檢測回答是否符合事實，如「愛因斯坦的出生年份是？」          |\n",
    "|                            | Semantic Similarity            | 評估回應與目標文本的語義相似度。                                                            | 檢測語義相似性的場景。                                                       | 在翻譯場景中，檢測翻譯文本是否與原文語義一致。                               |\n",
    "|                            | Non LLM String Similarity      | 使用非 LLM 方法評估字串相似度。                                                             | 需要快速檢測字串相似度的場景。                                               | 在文檔比對中，檢測兩份文檔的字串相似度。                                     |\n",
    "|                            | BLEU Score                     | 使用 BLEU 方法評估文本相似度。                                                              | 文本生成任務中檢測相似度。                                                   | 在機器翻譯場景中，檢測生成翻譯的質量。                                       |\n",
    "|                            | ROUGE Score                    | 使用 ROUGE 方法評估文本相似度。                                                             | 文本生成任務中檢測相似度。                                                   | 在摘要生成場景中，檢測生成摘要的質量。                                       |\n",
    "|                            | String Presence                | 檢測特定字串是否存在。                                                                      | 需要檢測特定字串的場景。                                                     | 在法律合同生成場景中，檢測是否包含必要條款。                                 |\n",
    "|                            | Exact Match                    | 評估回應是否與目標文本完全匹配。                                                            | 需要檢測完全匹配的場景。                                                     | 在數據表格生成場景中，檢測生成的表格是否與目標表格一致。                     |\n",
    "| **SQL**                    | Execution based Datacompy Score | 基於執行結果評估 SQL 查詢的準確性。                                                         | 測試 SQL 查詢結果是否準確。                                                  | 在數據庫查詢場景中，檢測查詢結果是否正確。                                   |\n",
    "|                            | SQL Query Equivalence          | 評估 SQL 查詢是否語義等價。                                                                 | 測試 SQL 語義等價性。                                                        | 在數據遷移場景中，檢測新舊查詢是否語義一致。                                 |\n",
    "| **General Purpose**        | Aspect Critic                  | 根據指定維度評估模型表現。                                                                  | 自定義評估維度的場景。                                                       | 在產品評論生成場景中，檢測是否符合指定的評論維度。                           |\n",
    "|                            | Simple Criteria Scoring        | 根據簡單標準評分。                                                                          | 快速評估模型表現的場景。                                                     | 在快速測試場景中，檢測生成文本是否符合基本要求。                             |\n",
    "|                            | Rubrics Based Scoring          | 使用特定標準評估模型表現。                                                                  | 自定義標準的場景。                                                           | 在教育場景中，根據打分標準評估學生回答。                                     |\n",
    "|                            | Instance Specific Rubrics Scoring | 根據特定實例的標準評估模型表現。                                                            | 需要針對特定實例進行評估的場景。                                             | 在客製化場景中，根據客戶需求評估生成結果。                                   |\n",
    "| **Other Tasks**            | Summarization                  | 評估摘要生成的質量。                                                                        | 測試文本摘要生成的場景。                                                     | 在新聞摘要生成場景中，檢測摘要是否準確且全面。                               |\n",
    "\n",
    "此表格補充了實際案例，幫助理解各指標的應用方式及其在不同場景中的具體使用情況。"
   ]
  },
  {
   "cell_type": "code",
   "execution_count": 27,
   "metadata": {
    "id": "_cvjpppiKymw"
   },
   "outputs": [],
   "source": [
    "@traced\n",
    "def fetch_top_k_relevant_sections(question):\n",
    "  results = collection.query(\n",
    "      query_embeddings = get_embeddings(question),\n",
    "      # 可有 where 參數可針對上述的 metadatas 做過濾，例如日期、頁數等\n",
    "      n_results=10\n",
    "  )\n",
    "\n",
    "  documents = results['documents'][0]\n",
    "  return documents\n",
    "\n",
    "@traced\n",
    "def generate_answer_from_docs(question, retrieved_content):\n",
    "  context = '\\n'.join('* ' + doc for doc in retrieved_content)\n",
    "\n",
    "  user_prompt = f\"\"\"\n",
    "  I will provide you with a document and then ask you a question about it. Please respond following these steps:\n",
    "\n",
    "  <document>\n",
    "  {context}\n",
    "  </document>\n",
    "\n",
    "  Question: {question}\n",
    "\n",
    "  Please answer in the following format:\n",
    "\n",
    "  1. First, identify the most relevant quotes from the document that help answer the question and list them. Each quote should be relatively short.\n",
    "    If there are no relevant quotes, write \"No relevant quotes\".\n",
    "\n",
    "  2. Then, answer the question using facts from these quotes without directly referencing the content in your answer.\n",
    "\n",
    "  3. Finally, provide 3 related follow-up questions based on the original question and document content that would help explore the topic further.\n",
    "\n",
    "  If the document does not contain sufficient information to answer the question, please state this in the answer field, but still provide any relevant quotes (if available) and possible follow-up questions.\n",
    "  Please respond in Traditional Chinese (Taiwan).\n",
    "  \"\"\"\n",
    "\n",
    "  completion = client.beta.chat.completions.parse(\n",
    "      model=\"gpt-4.1-mini\",\n",
    "      messages=[\n",
    "          {\"role\": \"user\", \"content\": user_prompt},\n",
    "      ],\n",
    "      response_format=QueryResult\n",
    "  )\n",
    "\n",
    "  parsed_result = completion.choices[0].message.parsed\n",
    "  return parsed_result\n",
    "\n",
    "@traced\n",
    "def generate_answer_e2e(question):\n",
    "  retrieved_content = fetch_top_k_relevant_sections(question)\n",
    "  result = generate_answer_from_docs(question, retrieved_content)\n",
    "\n",
    "  return { \"answer\": result.answer, \"retrieved_docs\": retrieved_content }"
   ]
  },
  {
   "cell_type": "code",
   "execution_count": 28,
   "metadata": {
    "colab": {
     "base_uri": "https://localhost:8080/",
     "height": 503,
     "referenced_widgets": [
      "4b0b5ca9144e41b9995c8b9da371482b",
      "1aa49d6ef501404da5a232956d0a5f99",
      "fb81042b54e0478f92485f9e1d106455",
      "3ee2a995bdc64733966005e97e9a529e",
      "b6b4805917aa422289971b398e085b4d",
      "8e112fd580ce4b2f8fe39f495bd228c2",
      "775bc6de64654e9a98711e68a4175f27",
      "45234fba077b41699f1136faef5439ae",
      "204e960c689a47f9b46305b694483f4d",
      "482993413b9e4051abf5d2bf89d4bcf6",
      "ceacf60d07064fe28bcc72042f9c6ee3"
     ]
    },
    "executionInfo": {
     "elapsed": 112296,
     "status": "ok",
     "timestamp": 1745942587979,
     "user": {
      "displayName": "張文鈿（ihower）",
      "userId": "16942569988483049654"
     },
     "user_tz": -480
    },
    "id": "wadAU_mLM4Tq",
    "outputId": "577156b5-9783-4ca6-ecab-05986145dec5"
   },
   "outputs": [
    {
     "name": "stderr",
     "output_type": "stream",
     "text": [
      "Experiment Ragas is running at https://www.braintrust.dev/app/ispan/p/Course-202504/experiments/Ragas\n",
      "Course-202504 [experiment_name=Ragas] (data): 32it [00:00, 71203.04it/s]\n"
     ]
    },
    {
     "data": {
      "application/vnd.jupyter.widget-view+json": {
       "model_id": "e0fcaa224f814a9bbe3b5404f615becd",
       "version_major": 2,
       "version_minor": 0
      },
      "text/plain": [
       "Course-202504 [experiment_name=Ragas] (tasks):   0%|          | 0/32 [00:00<?, ?it/s]"
      ]
     },
     "metadata": {},
     "output_type": "display_data"
    },
    {
     "name": "stderr",
     "output_type": "stream",
     "text": [
      "Found exceptions for the following scorers: faithfulness [KeyError('verdict')]\n",
      "Found exceptions for the following scorers: faithfulness [KeyError('verdict')]\n",
      "Found exceptions for the following scorers: faithfulness [KeyError('verdict')]\n",
      "Found exceptions for the following scorers: context_recall [TypeError(\"unsupported operand type(s) for +: 'int' and 'NoneType'\")]\n",
      "Found exceptions for the following scorers: faithfulness [KeyError('verdict')]\n",
      "Found exceptions for the following scorers: faithfulness [KeyError('verdict')]\n"
     ]
    },
    {
     "name": "stdout",
     "output_type": "stream",
     "text": [
      "\n",
      "=========================SUMMARY=========================\n",
      "Ragas compared to Naive RAG:\n",
      "62.33% 'AnswerCorrectness' score\n",
      "100.00% 'ContextPrecision'  score\n",
      "88.71% 'ContextRecall'     score\n",
      "87.12% 'Faithfulness'      score\n",
      "\n",
      "1751875935.79s start\n",
      "1751875967.86s end\n",
      "19.74s duration\n",
      "4.21s llm_duration\n",
      "5556.12tok prompt_tokens\n",
      "409.28tok completion_tokens\n",
      "5965.41tok total_tokens\n",
      "0.00$ estimated_cost\n",
      "216tok prompt_cached_tokens\n",
      "0tok prompt_cache_creation_tokens\n",
      "\n",
      "See results for Ragas at https://www.braintrust.dev/app/ispan/p/Course-202504/experiments/Ragas\n"
     ]
    }
   ],
   "source": [
    "from braintrust import EvalAsync\n",
    "\n",
    "from autoevals import AnswerCorrectness, ContextRecall, ContextPrecision, Faithfulness\n",
    "\n",
    "# Wrap ContextRecall() to propagate along the \"answer\" and \"context\" values separately\n",
    "async def context_recall(output, **kwargs):\n",
    "    return await ContextRecall(model=\"gpt-4.1\").eval_async(\n",
    "        output=output[\"answer\"], context=output[\"retrieved_docs\"], **kwargs\n",
    "    )\n",
    "\n",
    "async def context_precision(output, **kwargs):\n",
    "    return await ContextPrecision(model=\"gpt-4.1\").eval_async(\n",
    "        output=output[\"answer\"], context=output[\"retrieved_docs\"], **kwargs\n",
    "    )\n",
    "\n",
    "async def faithfulness(output, **kwargs):\n",
    "    return await Faithfulness(model=\"gpt-4.1\").eval_async(\n",
    "        output=output[\"answer\"], context=output[\"retrieved_docs\"], **kwargs\n",
    "    )\n",
    "\n",
    "async def answer_correctness(output, **kwargs):\n",
    "    return await AnswerCorrectness(model=\"gpt-4.1\").eval_async(output=output[\"answer\"], **kwargs)\n",
    "\n",
    "eval_result = await EvalAsync(\n",
    "    name=\"Course-202504\",\n",
    "    experiment_name=\"Ragas\",\n",
    "    data=eval_dataset,\n",
    "    task=generate_answer_e2e,\n",
    "    scores=[context_recall, context_precision, faithfulness, answer_correctness],\n",
    "    metadata=dict(model='gpt-4.1-mini', top_k=10),\n",
    ")"
   ]
  },
  {
   "cell_type": "code",
   "execution_count": null,
   "metadata": {
    "id": "g3-9nwULNrMp"
   },
   "outputs": [],
   "source": []
  }
 ],
 "metadata": {
  "colab": {
   "provenance": []
  },
  "kernelspec": {
   "display_name": "Python 3",
   "name": "python3"
  },
  "language_info": {
   "codemirror_mode": {
    "name": "ipython",
    "version": 3
   },
   "file_extension": ".py",
   "mimetype": "text/x-python",
   "name": "python",
   "nbconvert_exporter": "python",
   "pygments_lexer": "ipython3",
   "version": "3.10.17"
  },
  "widgets": {
   "application/vnd.jupyter.widget-state+json": {
    "1aa49d6ef501404da5a232956d0a5f99": {
     "model_module": "@jupyter-widgets/controls",
     "model_module_version": "1.5.0",
     "model_name": "HTMLModel",
     "state": {
      "_dom_classes": [],
      "_model_module": "@jupyter-widgets/controls",
      "_model_module_version": "1.5.0",
      "_model_name": "HTMLModel",
      "_view_count": null,
      "_view_module": "@jupyter-widgets/controls",
      "_view_module_version": "1.5.0",
      "_view_name": "HTMLView",
      "description": "",
      "description_tooltip": null,
      "layout": "IPY_MODEL_8e112fd580ce4b2f8fe39f495bd228c2",
      "placeholder": "​",
      "style": "IPY_MODEL_775bc6de64654e9a98711e68a4175f27",
      "value": "Course-202504 [experiment_name=Ragas] (tasks): 100%"
     }
    },
    "204e960c689a47f9b46305b694483f4d": {
     "model_module": "@jupyter-widgets/controls",
     "model_module_version": "1.5.0",
     "model_name": "ProgressStyleModel",
     "state": {
      "_model_module": "@jupyter-widgets/controls",
      "_model_module_version": "1.5.0",
      "_model_name": "ProgressStyleModel",
      "_view_count": null,
      "_view_module": "@jupyter-widgets/base",
      "_view_module_version": "1.2.0",
      "_view_name": "StyleView",
      "bar_color": null,
      "description_width": ""
     }
    },
    "3ee2a995bdc64733966005e97e9a529e": {
     "model_module": "@jupyter-widgets/controls",
     "model_module_version": "1.5.0",
     "model_name": "HTMLModel",
     "state": {
      "_dom_classes": [],
      "_model_module": "@jupyter-widgets/controls",
      "_model_module_version": "1.5.0",
      "_model_name": "HTMLModel",
      "_view_count": null,
      "_view_module": "@jupyter-widgets/controls",
      "_view_module_version": "1.5.0",
      "_view_name": "HTMLView",
      "description": "",
      "description_tooltip": null,
      "layout": "IPY_MODEL_482993413b9e4051abf5d2bf89d4bcf6",
      "placeholder": "​",
      "style": "IPY_MODEL_ceacf60d07064fe28bcc72042f9c6ee3",
      "value": " 32/32 [01:50&lt;00:00,  2.26s/it]"
     }
    },
    "45234fba077b41699f1136faef5439ae": {
     "model_module": "@jupyter-widgets/base",
     "model_module_version": "1.2.0",
     "model_name": "LayoutModel",
     "state": {
      "_model_module": "@jupyter-widgets/base",
      "_model_module_version": "1.2.0",
      "_model_name": "LayoutModel",
      "_view_count": null,
      "_view_module": "@jupyter-widgets/base",
      "_view_module_version": "1.2.0",
      "_view_name": "LayoutView",
      "align_content": null,
      "align_items": null,
      "align_self": null,
      "border": null,
      "bottom": null,
      "display": null,
      "flex": null,
      "flex_flow": null,
      "grid_area": null,
      "grid_auto_columns": null,
      "grid_auto_flow": null,
      "grid_auto_rows": null,
      "grid_column": null,
      "grid_gap": null,
      "grid_row": null,
      "grid_template_areas": null,
      "grid_template_columns": null,
      "grid_template_rows": null,
      "height": null,
      "justify_content": null,
      "justify_items": null,
      "left": null,
      "margin": null,
      "max_height": null,
      "max_width": null,
      "min_height": null,
      "min_width": null,
      "object_fit": null,
      "object_position": null,
      "order": null,
      "overflow": null,
      "overflow_x": null,
      "overflow_y": null,
      "padding": null,
      "right": null,
      "top": null,
      "visibility": null,
      "width": null
     }
    },
    "482993413b9e4051abf5d2bf89d4bcf6": {
     "model_module": "@jupyter-widgets/base",
     "model_module_version": "1.2.0",
     "model_name": "LayoutModel",
     "state": {
      "_model_module": "@jupyter-widgets/base",
      "_model_module_version": "1.2.0",
      "_model_name": "LayoutModel",
      "_view_count": null,
      "_view_module": "@jupyter-widgets/base",
      "_view_module_version": "1.2.0",
      "_view_name": "LayoutView",
      "align_content": null,
      "align_items": null,
      "align_self": null,
      "border": null,
      "bottom": null,
      "display": null,
      "flex": null,
      "flex_flow": null,
      "grid_area": null,
      "grid_auto_columns": null,
      "grid_auto_flow": null,
      "grid_auto_rows": null,
      "grid_column": null,
      "grid_gap": null,
      "grid_row": null,
      "grid_template_areas": null,
      "grid_template_columns": null,
      "grid_template_rows": null,
      "height": null,
      "justify_content": null,
      "justify_items": null,
      "left": null,
      "margin": null,
      "max_height": null,
      "max_width": null,
      "min_height": null,
      "min_width": null,
      "object_fit": null,
      "object_position": null,
      "order": null,
      "overflow": null,
      "overflow_x": null,
      "overflow_y": null,
      "padding": null,
      "right": null,
      "top": null,
      "visibility": null,
      "width": null
     }
    },
    "4b0b5ca9144e41b9995c8b9da371482b": {
     "model_module": "@jupyter-widgets/controls",
     "model_module_version": "1.5.0",
     "model_name": "HBoxModel",
     "state": {
      "_dom_classes": [],
      "_model_module": "@jupyter-widgets/controls",
      "_model_module_version": "1.5.0",
      "_model_name": "HBoxModel",
      "_view_count": null,
      "_view_module": "@jupyter-widgets/controls",
      "_view_module_version": "1.5.0",
      "_view_name": "HBoxView",
      "box_style": "",
      "children": [
       "IPY_MODEL_1aa49d6ef501404da5a232956d0a5f99",
       "IPY_MODEL_fb81042b54e0478f92485f9e1d106455",
       "IPY_MODEL_3ee2a995bdc64733966005e97e9a529e"
      ],
      "layout": "IPY_MODEL_b6b4805917aa422289971b398e085b4d"
     }
    },
    "775bc6de64654e9a98711e68a4175f27": {
     "model_module": "@jupyter-widgets/controls",
     "model_module_version": "1.5.0",
     "model_name": "DescriptionStyleModel",
     "state": {
      "_model_module": "@jupyter-widgets/controls",
      "_model_module_version": "1.5.0",
      "_model_name": "DescriptionStyleModel",
      "_view_count": null,
      "_view_module": "@jupyter-widgets/base",
      "_view_module_version": "1.2.0",
      "_view_name": "StyleView",
      "description_width": ""
     }
    },
    "8e112fd580ce4b2f8fe39f495bd228c2": {
     "model_module": "@jupyter-widgets/base",
     "model_module_version": "1.2.0",
     "model_name": "LayoutModel",
     "state": {
      "_model_module": "@jupyter-widgets/base",
      "_model_module_version": "1.2.0",
      "_model_name": "LayoutModel",
      "_view_count": null,
      "_view_module": "@jupyter-widgets/base",
      "_view_module_version": "1.2.0",
      "_view_name": "LayoutView",
      "align_content": null,
      "align_items": null,
      "align_self": null,
      "border": null,
      "bottom": null,
      "display": null,
      "flex": null,
      "flex_flow": null,
      "grid_area": null,
      "grid_auto_columns": null,
      "grid_auto_flow": null,
      "grid_auto_rows": null,
      "grid_column": null,
      "grid_gap": null,
      "grid_row": null,
      "grid_template_areas": null,
      "grid_template_columns": null,
      "grid_template_rows": null,
      "height": null,
      "justify_content": null,
      "justify_items": null,
      "left": null,
      "margin": null,
      "max_height": null,
      "max_width": null,
      "min_height": null,
      "min_width": null,
      "object_fit": null,
      "object_position": null,
      "order": null,
      "overflow": null,
      "overflow_x": null,
      "overflow_y": null,
      "padding": null,
      "right": null,
      "top": null,
      "visibility": null,
      "width": null
     }
    },
    "b6b4805917aa422289971b398e085b4d": {
     "model_module": "@jupyter-widgets/base",
     "model_module_version": "1.2.0",
     "model_name": "LayoutModel",
     "state": {
      "_model_module": "@jupyter-widgets/base",
      "_model_module_version": "1.2.0",
      "_model_name": "LayoutModel",
      "_view_count": null,
      "_view_module": "@jupyter-widgets/base",
      "_view_module_version": "1.2.0",
      "_view_name": "LayoutView",
      "align_content": null,
      "align_items": null,
      "align_self": null,
      "border": null,
      "bottom": null,
      "display": null,
      "flex": null,
      "flex_flow": null,
      "grid_area": null,
      "grid_auto_columns": null,
      "grid_auto_flow": null,
      "grid_auto_rows": null,
      "grid_column": null,
      "grid_gap": null,
      "grid_row": null,
      "grid_template_areas": null,
      "grid_template_columns": null,
      "grid_template_rows": null,
      "height": null,
      "justify_content": null,
      "justify_items": null,
      "left": null,
      "margin": null,
      "max_height": null,
      "max_width": null,
      "min_height": null,
      "min_width": null,
      "object_fit": null,
      "object_position": null,
      "order": null,
      "overflow": null,
      "overflow_x": null,
      "overflow_y": null,
      "padding": null,
      "right": null,
      "top": null,
      "visibility": null,
      "width": null
     }
    },
    "ceacf60d07064fe28bcc72042f9c6ee3": {
     "model_module": "@jupyter-widgets/controls",
     "model_module_version": "1.5.0",
     "model_name": "DescriptionStyleModel",
     "state": {
      "_model_module": "@jupyter-widgets/controls",
      "_model_module_version": "1.5.0",
      "_model_name": "DescriptionStyleModel",
      "_view_count": null,
      "_view_module": "@jupyter-widgets/base",
      "_view_module_version": "1.2.0",
      "_view_name": "StyleView",
      "description_width": ""
     }
    },
    "fb81042b54e0478f92485f9e1d106455": {
     "model_module": "@jupyter-widgets/controls",
     "model_module_version": "1.5.0",
     "model_name": "FloatProgressModel",
     "state": {
      "_dom_classes": [],
      "_model_module": "@jupyter-widgets/controls",
      "_model_module_version": "1.5.0",
      "_model_name": "FloatProgressModel",
      "_view_count": null,
      "_view_module": "@jupyter-widgets/controls",
      "_view_module_version": "1.5.0",
      "_view_name": "ProgressView",
      "bar_style": "success",
      "description": "",
      "description_tooltip": null,
      "layout": "IPY_MODEL_45234fba077b41699f1136faef5439ae",
      "max": 32,
      "min": 0,
      "orientation": "horizontal",
      "style": "IPY_MODEL_204e960c689a47f9b46305b694483f4d",
      "value": 32
     }
    }
   }
  }
 },
 "nbformat": 4,
 "nbformat_minor": 0
}
