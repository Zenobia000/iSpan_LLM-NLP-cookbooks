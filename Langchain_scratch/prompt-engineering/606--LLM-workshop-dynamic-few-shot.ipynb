{
 "cells": [
  {
   "cell_type": "markdown",
   "metadata": {
    "id": "ipM8KJFKqNzm"
   },
   "source": [
    "這份 Notebook 示範 Dynamic Few shot prompting 技巧，題目是: 書籍分類\n",
    "\n",
    "我們透過 embeddings 找到最相似的範例當作 few-shot, 效果應會比 colab 206 中使用 random few-shot 更優秀。\n"
   ]
  },
  {
   "cell_type": "code",
   "execution_count": null,
   "metadata": {
    "id": "Dv4vtAG3BROK"
   },
   "outputs": [],
   "source": [
    "# from google.colab import userdata\n",
    "# openai_api_key = userdata.get('openai_api_key')"
   ]
  },
  {
   "cell_type": "code",
   "execution_count": 1,
   "metadata": {
    "id": "a3NK2xs9BoYJ"
   },
   "outputs": [],
   "source": [
    "import requests\n",
    "import json\n",
    "from pprint import pp"
   ]
  },
  {
   "cell_type": "code",
   "execution_count": 2,
   "metadata": {},
   "outputs": [],
   "source": [
    "# Import necessary libraries\n",
    "## 設定 OpenAI API Key 變數\n",
    "from dotenv import load_dotenv\n",
    "import os\n",
    "\n",
    "# Load the environment variables from .env file\n",
    "load_dotenv()\n",
    "\n",
    "# Access the API key\n",
    "openai_api_key = os.getenv('OPENAI_API_KEY')\n"
   ]
  },
  {
   "cell_type": "code",
   "execution_count": 3,
   "metadata": {
    "id": "nhsOfhS3QL_x"
   },
   "outputs": [],
   "source": [
    "def get_completion(messages, model=\"gpt-4.1-mini\", temperature=0, max_completion_tokens=4000, logit_bias=None):\n",
    "  payload = { \"model\": model, \"temperature\": temperature, \"messages\": messages, \"max_completion_tokens\": max_completion_tokens }\n",
    "  if logit_bias:\n",
    "    payload[\"logit_bias\"] = logit_bias\n",
    "\n",
    "  headers = { \"Authorization\": f'Bearer {openai_api_key}', \"Content-Type\": \"application/json\" }\n",
    "  response = requests.post('https://api.openai.com/v1/chat/completions', headers = headers, data = json.dumps(payload) )\n",
    "  obj = json.loads(response.text)\n",
    "  if response.status_code == 200 :\n",
    "    return obj[\"choices\"][0][\"message\"][\"content\"]\n",
    "  else :\n",
    "    return obj[\"error\"]"
   ]
  },
  {
   "cell_type": "markdown",
   "metadata": {
    "id": "gArNDBjYX6kK"
   },
   "source": [
    "用來分類的話，可以用更好的 embedding 模型"
   ]
  },
  {
   "cell_type": "code",
   "execution_count": 4,
   "metadata": {
    "id": "ZWq1k0gFBqZU"
   },
   "outputs": [],
   "source": [
    "def get_embeddings(input, dimensions = 3072, model=\"text-embedding-3-large\"):\n",
    "  payload = { \"input\": input, \"model\": model, \"dimensions\": dimensions }\n",
    "  headers = { \"Authorization\": f'Bearer {openai_api_key}', \"Content-Type\": \"application/json\" }\n",
    "  response = requests.post('https://api.openai.com/v1/embeddings', headers = headers, data = json.dumps(payload) )\n",
    "  obj = json.loads(response.text)\n",
    "  if response.status_code == 200 :\n",
    "    return obj[\"data\"][0][\"embedding\"]\n",
    "  else :\n",
    "    return obj[\"error\"]"
   ]
  },
  {
   "cell_type": "markdown",
   "metadata": {
    "id": "socKFfblQTGd"
   },
   "source": [
    "# 準備向量資料庫\n",
    "\n",
    "裡面會放 few-shot 要用的參考標準範例"
   ]
  },
  {
   "cell_type": "code",
   "execution_count": 8,
   "metadata": {
    "colab": {
     "base_uri": "https://localhost:8080/"
    },
    "executionInfo": {
     "elapsed": 35689,
     "status": "ok",
     "timestamp": 1745917052517,
     "user": {
      "displayName": "張文鈿（ihower）",
      "userId": "16942569988483049654"
     },
     "user_tz": -480
    },
    "id": "XkMuo8HcaIIn",
    "outputId": "1753bb24-315e-429b-9027-aebd891bd439"
   },
   "outputs": [
    {
     "name": "stdout",
     "output_type": "stream",
     "text": [
      "Defaulting to user installation because normal site-packages is not writeable\n",
      "Requirement already satisfied: chromadb in /home/os-sunnie.gd.weng/.local/lib/python3.10/site-packages (0.5.23)\n",
      "Requirement already satisfied: build>=1.0.3 in /home/os-sunnie.gd.weng/.local/lib/python3.10/site-packages (from chromadb) (1.2.2.post1)\n",
      "Requirement already satisfied: pydantic>=1.9 in /home/os-sunnie.gd.weng/.local/lib/python3.10/site-packages (from chromadb) (2.11.7)\n",
      "Requirement already satisfied: chroma-hnswlib==0.7.6 in /home/os-sunnie.gd.weng/.local/lib/python3.10/site-packages (from chromadb) (0.7.6)\n",
      "Requirement already satisfied: fastapi>=0.95.2 in /home/os-sunnie.gd.weng/.local/lib/python3.10/site-packages (from chromadb) (0.115.9)\n",
      "Requirement already satisfied: uvicorn>=0.18.3 in /usr/local/lib/python3.10/dist-packages (from uvicorn[standard]>=0.18.3->chromadb) (0.32.0)\n",
      "Requirement already satisfied: numpy>=1.22.5 in /home/os-sunnie.gd.weng/.local/lib/python3.10/site-packages (from chromadb) (1.24.3)\n",
      "Requirement already satisfied: posthog>=2.4.0 in /home/os-sunnie.gd.weng/.local/lib/python3.10/site-packages (from chromadb) (3.25.0)\n",
      "Requirement already satisfied: typing_extensions>=4.5.0 in /usr/local/lib/python3.10/dist-packages (from chromadb) (4.12.2)\n",
      "Requirement already satisfied: onnxruntime>=1.14.1 in /home/os-sunnie.gd.weng/.local/lib/python3.10/site-packages (from chromadb) (1.22.0)\n",
      "Requirement already satisfied: opentelemetry-api>=1.2.0 in /home/os-sunnie.gd.weng/.local/lib/python3.10/site-packages (from chromadb) (1.34.0)\n",
      "Requirement already satisfied: opentelemetry-exporter-otlp-proto-grpc>=1.2.0 in /home/os-sunnie.gd.weng/.local/lib/python3.10/site-packages (from chromadb) (1.34.0)\n",
      "Requirement already satisfied: opentelemetry-instrumentation-fastapi>=0.41b0 in /home/os-sunnie.gd.weng/.local/lib/python3.10/site-packages (from chromadb) (0.55b0)\n",
      "Requirement already satisfied: opentelemetry-sdk>=1.2.0 in /home/os-sunnie.gd.weng/.local/lib/python3.10/site-packages (from chromadb) (1.34.0)\n",
      "Requirement already satisfied: tokenizers<=0.20.3,>=0.13.2 in /home/os-sunnie.gd.weng/.local/lib/python3.10/site-packages (from chromadb) (0.20.3)\n",
      "Requirement already satisfied: pypika>=0.48.9 in /home/os-sunnie.gd.weng/.local/lib/python3.10/site-packages (from chromadb) (0.48.9)\n",
      "Requirement already satisfied: tqdm>=4.65.0 in /home/os-sunnie.gd.weng/.local/lib/python3.10/site-packages (from chromadb) (4.67.1)\n",
      "Requirement already satisfied: overrides>=7.3.1 in /home/os-sunnie.gd.weng/.local/lib/python3.10/site-packages (from chromadb) (7.7.0)\n",
      "Requirement already satisfied: importlib-resources in /home/os-sunnie.gd.weng/.local/lib/python3.10/site-packages (from chromadb) (6.5.2)\n",
      "Requirement already satisfied: grpcio>=1.58.0 in /home/os-sunnie.gd.weng/.local/lib/python3.10/site-packages (from chromadb) (1.67.1)\n",
      "Requirement already satisfied: bcrypt>=4.0.1 in /home/os-sunnie.gd.weng/.local/lib/python3.10/site-packages (from chromadb) (4.3.0)\n",
      "Requirement already satisfied: typer>=0.9.0 in /home/os-sunnie.gd.weng/.local/lib/python3.10/site-packages (from chromadb) (0.16.0)\n",
      "Requirement already satisfied: kubernetes>=28.1.0 in /home/os-sunnie.gd.weng/.local/lib/python3.10/site-packages (from chromadb) (32.0.1)\n",
      "Requirement already satisfied: tenacity>=8.2.3 in /home/os-sunnie.gd.weng/.local/lib/python3.10/site-packages (from chromadb) (8.2.3)\n",
      "Requirement already satisfied: PyYAML>=6.0.0 in /home/os-sunnie.gd.weng/.local/lib/python3.10/site-packages (from chromadb) (6.0.1)\n",
      "Requirement already satisfied: mmh3>=4.0.1 in /home/os-sunnie.gd.weng/.local/lib/python3.10/site-packages (from chromadb) (5.1.0)\n",
      "Requirement already satisfied: orjson>=3.9.12 in /home/os-sunnie.gd.weng/.local/lib/python3.10/site-packages (from chromadb) (3.10.16)\n",
      "Requirement already satisfied: httpx>=0.27.0 in /home/os-sunnie.gd.weng/.local/lib/python3.10/site-packages (from chromadb) (0.28.1)\n",
      "Requirement already satisfied: rich>=10.11.0 in /home/os-sunnie.gd.weng/.local/lib/python3.10/site-packages (from chromadb) (13.9.4)\n",
      "Requirement already satisfied: huggingface-hub<1.0,>=0.16.4 in /home/os-sunnie.gd.weng/.local/lib/python3.10/site-packages (from tokenizers<=0.20.3,>=0.13.2->chromadb) (0.30.2)\n",
      "Requirement already satisfied: filelock in /home/os-sunnie.gd.weng/.local/lib/python3.10/site-packages (from huggingface-hub<1.0,>=0.16.4->tokenizers<=0.20.3,>=0.13.2->chromadb) (3.18.0)\n",
      "Requirement already satisfied: fsspec>=2023.5.0 in /home/os-sunnie.gd.weng/.local/lib/python3.10/site-packages (from huggingface-hub<1.0,>=0.16.4->tokenizers<=0.20.3,>=0.13.2->chromadb) (2025.3.2)\n",
      "Requirement already satisfied: packaging>=20.9 in /usr/local/lib/python3.10/dist-packages (from huggingface-hub<1.0,>=0.16.4->tokenizers<=0.20.3,>=0.13.2->chromadb) (24.1)\n",
      "Requirement already satisfied: requests in /home/os-sunnie.gd.weng/.local/lib/python3.10/site-packages (from huggingface-hub<1.0,>=0.16.4->tokenizers<=0.20.3,>=0.13.2->chromadb) (2.32.3)\n",
      "Requirement already satisfied: pyproject_hooks in /home/os-sunnie.gd.weng/.local/lib/python3.10/site-packages (from build>=1.0.3->chromadb) (1.2.0)\n",
      "Requirement already satisfied: tomli>=1.1.0 in /home/os-sunnie.gd.weng/.local/lib/python3.10/site-packages (from build>=1.0.3->chromadb) (2.2.1)\n",
      "Requirement already satisfied: starlette<0.46.0,>=0.40.0 in /usr/local/lib/python3.10/dist-packages (from fastapi>=0.95.2->chromadb) (0.41.2)\n",
      "Requirement already satisfied: annotated-types>=0.6.0 in /home/os-sunnie.gd.weng/.local/lib/python3.10/site-packages (from pydantic>=1.9->chromadb) (0.7.0)\n",
      "Requirement already satisfied: pydantic-core==2.33.2 in /home/os-sunnie.gd.weng/.local/lib/python3.10/site-packages (from pydantic>=1.9->chromadb) (2.33.2)\n",
      "Requirement already satisfied: typing-inspection>=0.4.0 in /home/os-sunnie.gd.weng/.local/lib/python3.10/site-packages (from pydantic>=1.9->chromadb) (0.4.0)\n",
      "Requirement already satisfied: anyio<5,>=3.4.0 in /home/os-sunnie.gd.weng/.local/lib/python3.10/site-packages (from starlette<0.46.0,>=0.40.0->fastapi>=0.95.2->chromadb) (4.9.0)\n",
      "Requirement already satisfied: exceptiongroup>=1.0.2 in /home/os-sunnie.gd.weng/.local/lib/python3.10/site-packages (from anyio<5,>=3.4.0->starlette<0.46.0,>=0.40.0->fastapi>=0.95.2->chromadb) (1.2.2)\n",
      "Requirement already satisfied: idna>=2.8 in /usr/local/lib/python3.10/dist-packages (from anyio<5,>=3.4.0->starlette<0.46.0,>=0.40.0->fastapi>=0.95.2->chromadb) (3.10)\n",
      "Requirement already satisfied: sniffio>=1.1 in /home/os-sunnie.gd.weng/.local/lib/python3.10/site-packages (from anyio<5,>=3.4.0->starlette<0.46.0,>=0.40.0->fastapi>=0.95.2->chromadb) (1.3.1)\n",
      "Requirement already satisfied: certifi in /usr/lib/python3/dist-packages (from httpx>=0.27.0->chromadb) (2019.11.28)\n",
      "Requirement already satisfied: httpcore==1.* in /home/os-sunnie.gd.weng/.local/lib/python3.10/site-packages (from httpx>=0.27.0->chromadb) (1.0.8)\n",
      "Requirement already satisfied: h11<0.15,>=0.13 in /home/os-sunnie.gd.weng/.local/lib/python3.10/site-packages (from httpcore==1.*->httpx>=0.27.0->chromadb) (0.14.0)\n",
      "Requirement already satisfied: six>=1.9.0 in /usr/local/lib/python3.10/dist-packages (from kubernetes>=28.1.0->chromadb) (1.16.0)\n",
      "Requirement already satisfied: python-dateutil>=2.5.3 in /home/os-sunnie.gd.weng/.local/lib/python3.10/site-packages (from kubernetes>=28.1.0->chromadb) (2.8.2)\n",
      "Requirement already satisfied: google-auth>=1.0.1 in /home/os-sunnie.gd.weng/.local/lib/python3.10/site-packages (from kubernetes>=28.1.0->chromadb) (2.40.2)\n",
      "Requirement already satisfied: websocket-client!=0.40.0,!=0.41.*,!=0.42.*,>=0.32.0 in /home/os-sunnie.gd.weng/.local/lib/python3.10/site-packages (from kubernetes>=28.1.0->chromadb) (1.8.0)\n",
      "Requirement already satisfied: requests-oauthlib in /home/os-sunnie.gd.weng/.local/lib/python3.10/site-packages (from kubernetes>=28.1.0->chromadb) (2.0.0)\n",
      "Requirement already satisfied: oauthlib>=3.2.2 in /home/os-sunnie.gd.weng/.local/lib/python3.10/site-packages (from kubernetes>=28.1.0->chromadb) (3.2.2)\n",
      "Requirement already satisfied: urllib3>=1.24.2 in /home/os-sunnie.gd.weng/.local/lib/python3.10/site-packages (from kubernetes>=28.1.0->chromadb) (2.4.0)\n",
      "Requirement already satisfied: durationpy>=0.7 in /home/os-sunnie.gd.weng/.local/lib/python3.10/site-packages (from kubernetes>=28.1.0->chromadb) (0.10)\n",
      "Requirement already satisfied: cachetools<6.0,>=2.0.0 in /home/os-sunnie.gd.weng/.local/lib/python3.10/site-packages (from google-auth>=1.0.1->kubernetes>=28.1.0->chromadb) (5.5.2)\n",
      "Requirement already satisfied: pyasn1-modules>=0.2.1 in /usr/lib/python3/dist-packages (from google-auth>=1.0.1->kubernetes>=28.1.0->chromadb) (0.2.1)\n",
      "Requirement already satisfied: rsa<5,>=3.1.4 in /home/os-sunnie.gd.weng/.local/lib/python3.10/site-packages (from google-auth>=1.0.1->kubernetes>=28.1.0->chromadb) (4.9.1)\n",
      "Requirement already satisfied: pyasn1>=0.1.3 in /usr/lib/python3/dist-packages (from rsa<5,>=3.1.4->google-auth>=1.0.1->kubernetes>=28.1.0->chromadb) (0.4.2)\n",
      "Requirement already satisfied: coloredlogs in /home/os-sunnie.gd.weng/.local/lib/python3.10/site-packages (from onnxruntime>=1.14.1->chromadb) (15.0.1)\n",
      "Requirement already satisfied: flatbuffers in /home/os-sunnie.gd.weng/.local/lib/python3.10/site-packages (from onnxruntime>=1.14.1->chromadb) (25.2.10)\n",
      "Requirement already satisfied: protobuf in /home/os-sunnie.gd.weng/.local/lib/python3.10/site-packages (from onnxruntime>=1.14.1->chromadb) (5.29.5)\n",
      "Requirement already satisfied: sympy in /home/os-sunnie.gd.weng/.local/lib/python3.10/site-packages (from onnxruntime>=1.14.1->chromadb) (1.13.1)\n",
      "Requirement already satisfied: importlib-metadata<8.8.0,>=6.0 in /home/os-sunnie.gd.weng/.local/lib/python3.10/site-packages (from opentelemetry-api>=1.2.0->chromadb) (8.7.0)\n",
      "Requirement already satisfied: zipp>=3.20 in /usr/local/lib/python3.10/dist-packages (from importlib-metadata<8.8.0,>=6.0->opentelemetry-api>=1.2.0->chromadb) (3.20.2)\n",
      "Requirement already satisfied: googleapis-common-protos~=1.52 in /home/os-sunnie.gd.weng/.local/lib/python3.10/site-packages (from opentelemetry-exporter-otlp-proto-grpc>=1.2.0->chromadb) (1.70.0)\n",
      "Requirement already satisfied: opentelemetry-exporter-otlp-proto-common==1.34.0 in /home/os-sunnie.gd.weng/.local/lib/python3.10/site-packages (from opentelemetry-exporter-otlp-proto-grpc>=1.2.0->chromadb) (1.34.0)\n",
      "Requirement already satisfied: opentelemetry-proto==1.34.0 in /home/os-sunnie.gd.weng/.local/lib/python3.10/site-packages (from opentelemetry-exporter-otlp-proto-grpc>=1.2.0->chromadb) (1.34.0)\n",
      "Requirement already satisfied: opentelemetry-semantic-conventions==0.55b0 in /home/os-sunnie.gd.weng/.local/lib/python3.10/site-packages (from opentelemetry-sdk>=1.2.0->chromadb) (0.55b0)\n",
      "Requirement already satisfied: opentelemetry-instrumentation-asgi==0.55b0 in /home/os-sunnie.gd.weng/.local/lib/python3.10/site-packages (from opentelemetry-instrumentation-fastapi>=0.41b0->chromadb) (0.55b0)\n",
      "Requirement already satisfied: opentelemetry-instrumentation==0.55b0 in /home/os-sunnie.gd.weng/.local/lib/python3.10/site-packages (from opentelemetry-instrumentation-fastapi>=0.41b0->chromadb) (0.55b0)\n",
      "Requirement already satisfied: opentelemetry-util-http==0.55b0 in /home/os-sunnie.gd.weng/.local/lib/python3.10/site-packages (from opentelemetry-instrumentation-fastapi>=0.41b0->chromadb) (0.55b0)\n",
      "Requirement already satisfied: wrapt<2.0.0,>=1.0.0 in /home/os-sunnie.gd.weng/.local/lib/python3.10/site-packages (from opentelemetry-instrumentation==0.55b0->opentelemetry-instrumentation-fastapi>=0.41b0->chromadb) (1.17.2)\n",
      "Requirement already satisfied: asgiref~=3.0 in /home/os-sunnie.gd.weng/.local/lib/python3.10/site-packages (from opentelemetry-instrumentation-asgi==0.55b0->opentelemetry-instrumentation-fastapi>=0.41b0->chromadb) (3.8.1)\n",
      "Requirement already satisfied: monotonic>=1.5 in /usr/lib/python3/dist-packages (from posthog>=2.4.0->chromadb) (1.5)\n",
      "Requirement already satisfied: backoff>=1.10.0 in /home/os-sunnie.gd.weng/.local/lib/python3.10/site-packages (from posthog>=2.4.0->chromadb) (2.2.1)\n",
      "Requirement already satisfied: distro>=1.5.0 in /home/os-sunnie.gd.weng/.local/lib/python3.10/site-packages (from posthog>=2.4.0->chromadb) (1.9.0)\n",
      "Requirement already satisfied: charset-normalizer<4,>=2 in /home/os-sunnie.gd.weng/.local/lib/python3.10/site-packages (from requests->huggingface-hub<1.0,>=0.16.4->tokenizers<=0.20.3,>=0.13.2->chromadb) (3.4.1)\n",
      "Requirement already satisfied: markdown-it-py>=2.2.0 in /home/os-sunnie.gd.weng/.local/lib/python3.10/site-packages (from rich>=10.11.0->chromadb) (3.0.0)\n",
      "Requirement already satisfied: pygments<3.0.0,>=2.13.0 in /home/os-sunnie.gd.weng/.local/lib/python3.10/site-packages (from rich>=10.11.0->chromadb) (2.19.1)\n",
      "Requirement already satisfied: mdurl~=0.1 in /home/os-sunnie.gd.weng/.local/lib/python3.10/site-packages (from markdown-it-py>=2.2.0->rich>=10.11.0->chromadb) (0.1.2)\n",
      "Requirement already satisfied: click>=8.0.0 in /home/os-sunnie.gd.weng/.local/lib/python3.10/site-packages (from typer>=0.9.0->chromadb) (8.2.1)\n",
      "Requirement already satisfied: shellingham>=1.3.0 in /home/os-sunnie.gd.weng/.local/lib/python3.10/site-packages (from typer>=0.9.0->chromadb) (1.5.4)\n",
      "Requirement already satisfied: httptools>=0.5.0 in /home/os-sunnie.gd.weng/.local/lib/python3.10/site-packages (from uvicorn[standard]>=0.18.3->chromadb) (0.6.4)\n",
      "Requirement already satisfied: python-dotenv>=0.13 in /home/os-sunnie.gd.weng/.local/lib/python3.10/site-packages (from uvicorn[standard]>=0.18.3->chromadb) (1.0.0)\n",
      "Requirement already satisfied: uvloop!=0.15.0,!=0.15.1,>=0.14.0 in /home/os-sunnie.gd.weng/.local/lib/python3.10/site-packages (from uvicorn[standard]>=0.18.3->chromadb) (0.21.0)\n",
      "Requirement already satisfied: watchfiles>=0.13 in /home/os-sunnie.gd.weng/.local/lib/python3.10/site-packages (from uvicorn[standard]>=0.18.3->chromadb) (1.0.5)\n",
      "Requirement already satisfied: websockets>=10.4 in /home/os-sunnie.gd.weng/.local/lib/python3.10/site-packages (from uvicorn[standard]>=0.18.3->chromadb) (14.2)\n",
      "Requirement already satisfied: humanfriendly>=9.1 in /home/os-sunnie.gd.weng/.local/lib/python3.10/site-packages (from coloredlogs->onnxruntime>=1.14.1->chromadb) (10.0)\n",
      "Requirement already satisfied: mpmath<1.4,>=1.1.0 in /home/os-sunnie.gd.weng/.local/lib/python3.10/site-packages (from sympy->onnxruntime>=1.14.1->chromadb) (1.3.0)\n"
     ]
    }
   ],
   "source": [
    "!pip install chromadb"
   ]
  },
  {
   "cell_type": "code",
   "execution_count": 5,
   "metadata": {
    "id": "m-s27s3FaNJy"
   },
   "outputs": [
    {
     "name": "stdout",
     "output_type": "stream",
     "text": [
      "Successfully overridden sqlite3 with pysqlite3\n"
     ]
    }
   ],
   "source": [
    "# Try to fix SQLite compatibility for ChromaDB\n",
    "import sys\n",
    "try:\n",
    "    # Try to override sqlite3 with pysqlite3\n",
    "    import pysqlite3\n",
    "    sys.modules['sqlite3'] = pysqlite3\n",
    "    print(\"Successfully overridden sqlite3 with pysqlite3\")\n",
    "except ImportError:\n",
    "    print(\"pysqlite3 not available, using system sqlite3\")\n",
    "    pass\n",
    "\n",
    "import chromadb\n",
    "# Disable telemetry to avoid warning messages\n",
    "chromadb.configure(anonymized_telemetry=False)\n",
    "\n",
    "# Use EphemeralClient which is more compatible\n",
    "chroma_client = chromadb.EphemeralClient()\n",
    "\n",
    "collection = chroma_client.create_collection(name=\"collection1\")"
   ]
  },
  {
   "cell_type": "code",
   "execution_count": 7,
   "metadata": {},
   "outputs": [
    {
     "name": "stdout",
     "output_type": "stream",
     "text": [
      "現有的 collections:\n",
      "- collection1\n",
      "\\n成功刪除 collection1\n",
      "\\n刪除後的 collections:\n"
     ]
    }
   ],
   "source": [
    "# 如何刪除已創建的 collection\n",
    "\n",
    "# 1. 查看所有現有的 collections\n",
    "print(\"現有的 collections:\")\n",
    "collections = chroma_client.list_collections()\n",
    "for col in collections:\n",
    "    print(f\"- {col.name}\")\n",
    "\n",
    "# 2. 刪除特定的 collection\n",
    "try:\n",
    "    chroma_client.delete_collection(name=\"collection1\")\n",
    "    print(\"\\\\n成功刪除 collection1\")\n",
    "except Exception as e:\n",
    "    print(f\"\\\\n刪除失敗: {e}\")\n",
    "\n",
    "# 3. 再次查看所有 collections 確認是否已刪除\n",
    "print(\"\\\\n刪除後的 collections:\")\n",
    "collections = chroma_client.list_collections()\n",
    "for col in collections:\n",
    "    print(f\"- {col.name}\")\n",
    "    \n",
    "# 4. 重新創建 collection（如果需要）\n",
    "collection = chroma_client.create_collection(name=\"collection1\")\n"
   ]
  },
  {
   "cell_type": "code",
   "execution_count": 8,
   "metadata": {
    "id": "cw6v5hlXaSdz"
   },
   "outputs": [],
   "source": [
    "url = \"https://ihower.tw/data/books-dataset-107.csv\"\n",
    "response = requests.get(url)"
   ]
  },
  {
   "cell_type": "code",
   "execution_count": 9,
   "metadata": {
    "id": "dnSEidBGadu8"
   },
   "outputs": [],
   "source": [
    "import pandas as pd\n",
    "from io import StringIO\n",
    "df = pd.read_csv(StringIO(response.text))"
   ]
  },
  {
   "cell_type": "code",
   "execution_count": 11,
   "metadata": {
    "colab": {
     "base_uri": "https://localhost:8080/",
     "height": 423
    },
    "executionInfo": {
     "elapsed": 373,
     "status": "ok",
     "timestamp": 1745917057493,
     "user": {
      "displayName": "張文鈿（ihower）",
      "userId": "16942569988483049654"
     },
     "user_tz": -480
    },
    "id": "6elgdaERcbyh",
    "outputId": "b80516da-c75c-4799-f6e5-debdf92f9b63"
   },
   "outputs": [
    {
     "data": {
      "text/html": [
       "<div>\n",
       "<style scoped>\n",
       "    .dataframe tbody tr th:only-of-type {\n",
       "        vertical-align: middle;\n",
       "    }\n",
       "\n",
       "    .dataframe tbody tr th {\n",
       "        vertical-align: top;\n",
       "    }\n",
       "\n",
       "    .dataframe thead th {\n",
       "        text-align: right;\n",
       "    }\n",
       "</style>\n",
       "<table border=\"1\" class=\"dataframe\">\n",
       "  <thead>\n",
       "    <tr style=\"text-align: right;\">\n",
       "      <th></th>\n",
       "      <th>title</th>\n",
       "      <th>description</th>\n",
       "      <th>category</th>\n",
       "    </tr>\n",
       "  </thead>\n",
       "  <tbody>\n",
       "    <tr>\n",
       "      <th>0</th>\n",
       "      <td>Python 程式設計與實例應用  2/e</td>\n",
       "      <td>本書簡介\\r\\n　　《Python程式設計與實例應用》是一本Python程式教學指南，適合所...</td>\n",
       "      <td>程式語言</td>\n",
       "    </tr>\n",
       "    <tr>\n",
       "      <th>1</th>\n",
       "      <td>選擇權商品模型化導論：使用 Python 語言 (附光碟)</td>\n",
       "      <td>⊙以Python解決數學概念問題，掌握衍生性商品（如選擇權商品）模型化。\\r\\n⊙理論與實作...</td>\n",
       "      <td>程式語言</td>\n",
       "    </tr>\n",
       "    <tr>\n",
       "      <th>2</th>\n",
       "      <td>從零開始學 Python 程式設計 (第三版修訂版)(適用 Python 3.10 以上)(...</td>\n",
       "      <td>\\r\\n\\tPython入門經典好書，暢銷回饋中！\\r\\n\\t\\r\\n\\t【本書特色】\\r\\...</td>\n",
       "      <td>程式語言</td>\n",
       "    </tr>\n",
       "    <tr>\n",
       "      <th>3</th>\n",
       "      <td>人工智慧 Python 程式設計</td>\n",
       "      <td>張教授為國立聯合大學客家研究學院文化創意與數位行銷學系的教授，長期投身於AI與數位工具的教學...</td>\n",
       "      <td>程式語言</td>\n",
       "    </tr>\n",
       "    <tr>\n",
       "      <th>4</th>\n",
       "      <td>Python + ChatGPT 零基礎 + 高效率學程式設計與運算思維  4/e</td>\n",
       "      <td>\\r\\n\\r\\nPython + ChatGPT\\r\\n\\r\\n零基礎 + 高效率\\r\\n...</td>\n",
       "      <td>程式語言</td>\n",
       "    </tr>\n",
       "    <tr>\n",
       "      <th>...</th>\n",
       "      <td>...</td>\n",
       "      <td>...</td>\n",
       "      <td>...</td>\n",
       "    </tr>\n",
       "    <tr>\n",
       "      <th>102</th>\n",
       "      <td>電腦軟體設計丙級技能檢定學術科｜使用 C#</td>\n",
       "      <td>依據勞動部勞動力發展署技能檢定中心最新學術科試題規劃解題\\r\\n\\r\\n術科篇\\r\\n＊最新...</td>\n",
       "      <td>考試認證</td>\n",
       "    </tr>\n",
       "    <tr>\n",
       "      <th>103</th>\n",
       "      <td>讀一遍就記得的唐詩課</td>\n",
       "      <td>一堂點閱破百萬的唐詩課視頻\\r\\n學生譽為「夢想中的國文老師」\\r\\n十二種人生意境主題，全...</td>\n",
       "      <td>其他</td>\n",
       "    </tr>\n",
       "    <tr>\n",
       "      <th>104</th>\n",
       "      <td>家傳</td>\n",
       "      <td>十二年之前，\\r\\n\\r\\n一套四冊的《傳家》登場，\\r\\n\\r\\n為華人父母打造給下一代的...</td>\n",
       "      <td>其他</td>\n",
       "    </tr>\n",
       "    <tr>\n",
       "      <th>105</th>\n",
       "      <td>圖解 Java 物件導向程式語言</td>\n",
       "      <td>●簡潔精要，易於快速理解與掌握程式技巧\\r\\n●兼顧運算思維與實用技巧，提高學習效果\\r\\n...</td>\n",
       "      <td>程式語言</td>\n",
       "    </tr>\n",
       "    <tr>\n",
       "      <th>106</th>\n",
       "      <td>普林斯頓計算機公開課（原書第2版）</td>\n",
       "      <td>從1999年開始，作者在普林斯頓大學開設了一門名為“我們世界中的計算機”的課程（COS 10...</td>\n",
       "      <td>程式語言</td>\n",
       "    </tr>\n",
       "  </tbody>\n",
       "</table>\n",
       "<p>107 rows × 3 columns</p>\n",
       "</div>"
      ],
      "text/plain": [
       "                                                 title  \\\n",
       "0                                Python 程式設計與實例應用  2/e   \n",
       "1                        選擇權商品模型化導論：使用 Python 語言 (附光碟)   \n",
       "2    從零開始學 Python 程式設計 (第三版修訂版)(適用 Python 3.10 以上)(...   \n",
       "3                                     人工智慧 Python 程式設計   \n",
       "4            Python + ChatGPT 零基礎 + 高效率學程式設計與運算思維  4/e   \n",
       "..                                                 ...   \n",
       "102                              電腦軟體設計丙級技能檢定學術科｜使用 C#   \n",
       "103                                         讀一遍就記得的唐詩課   \n",
       "104                                                 家傳   \n",
       "105                                   圖解 Java 物件導向程式語言   \n",
       "106                                  普林斯頓計算機公開課（原書第2版）   \n",
       "\n",
       "                                           description category  \n",
       "0    本書簡介\\r\\n　　《Python程式設計與實例應用》是一本Python程式教學指南，適合所...     程式語言  \n",
       "1    ⊙以Python解決數學概念問題，掌握衍生性商品（如選擇權商品）模型化。\\r\\n⊙理論與實作...     程式語言  \n",
       "2    \\r\\n\\tPython入門經典好書，暢銷回饋中！\\r\\n\\t\\r\\n\\t【本書特色】\\r\\...     程式語言  \n",
       "3    張教授為國立聯合大學客家研究學院文化創意與數位行銷學系的教授，長期投身於AI與數位工具的教學...     程式語言  \n",
       "4     \\r\\n\\r\\nPython + ChatGPT\\r\\n\\r\\n零基礎 + 高效率\\r\\n...     程式語言  \n",
       "..                                                 ...      ...  \n",
       "102  依據勞動部勞動力發展署技能檢定中心最新學術科試題規劃解題\\r\\n\\r\\n術科篇\\r\\n＊最新...     考試認證  \n",
       "103  一堂點閱破百萬的唐詩課視頻\\r\\n學生譽為「夢想中的國文老師」\\r\\n十二種人生意境主題，全...       其他  \n",
       "104  十二年之前，\\r\\n\\r\\n一套四冊的《傳家》登場，\\r\\n\\r\\n為華人父母打造給下一代的...       其他  \n",
       "105  ●簡潔精要，易於快速理解與掌握程式技巧\\r\\n●兼顧運算思維與實用技巧，提高學習效果\\r\\n...     程式語言  \n",
       "106  從1999年開始，作者在普林斯頓大學開設了一門名為“我們世界中的計算機”的課程（COS 10...     程式語言  \n",
       "\n",
       "[107 rows x 3 columns]"
      ]
     },
     "execution_count": 11,
     "metadata": {},
     "output_type": "execute_result"
    }
   ],
   "source": [
    "df"
   ]
  },
  {
   "cell_type": "markdown",
   "metadata": {
    "id": "QoWO-l9AXMTt"
   },
   "source": [
    "將參考資料放入向量資訊庫:"
   ]
  },
  {
   "cell_type": "code",
   "execution_count": null,
   "metadata": {
    "id": "KajoPp38aPOb"
   },
   "outputs": [],
   "source": [
    "for index, row in df.iterrows():\n",
    "  # 這是要索引的內容\n",
    "  index_text = f\"\"\"\n",
    "  書名: ```{row[\"title\"]}```\n",
    "  描述: ```{str(row[\"description\"])[0:50]}```\n",
    "  \"\"\"\n",
    "\n",
    "  # 這是對應的文字內容\n",
    "  doc_text = f\"\"\"\n",
    "  書名: ```{row[\"title\"]}```\n",
    "  描述: ```{row[\"description\"]}```\n",
    "  分類: {str(row[\"category\"])[0:50]}\n",
    "  \"\"\"\n",
    "\n",
    "  collection.add(\n",
    "    documents = doc_text,\n",
    "    embeddings = get_embeddings(index_text),\n",
    "    ids=f\"book-{index}\"\n",
    "  )\n",
    "\n"
   ]
  },
  {
   "cell_type": "markdown",
   "metadata": {
    "id": "8jlmZFpedMzl"
   },
   "source": [
    "## Dynamic(kNN) few-shot prompting"
   ]
  },
  {
   "cell_type": "markdown",
   "metadata": {
    "id": "hpYaG3eEXZg7"
   },
   "source": [
    "載入要分類的書籍資料"
   ]
  },
  {
   "cell_type": "code",
   "execution_count": 13,
   "metadata": {
    "id": "ZHObXTsdK6Rb"
   },
   "outputs": [],
   "source": [
    "url = \"https://ihower.tw/data/books-dataset-33.csv\"\n",
    "response = requests.get(url)\n",
    "\n",
    "import pandas as pd\n",
    "from io import StringIO\n",
    "df2 = pd.read_csv(StringIO(response.text))"
   ]
  },
  {
   "cell_type": "markdown",
   "metadata": {
    "id": "J-hhK0RkXeII"
   },
   "source": [
    "逐筆跑分類預測"
   ]
  },
  {
   "cell_type": "code",
   "execution_count": 14,
   "metadata": {},
   "outputs": [
    {
     "data": {
      "text/html": [
       "<div>\n",
       "<style scoped>\n",
       "    .dataframe tbody tr th:only-of-type {\n",
       "        vertical-align: middle;\n",
       "    }\n",
       "\n",
       "    .dataframe tbody tr th {\n",
       "        vertical-align: top;\n",
       "    }\n",
       "\n",
       "    .dataframe thead th {\n",
       "        text-align: right;\n",
       "    }\n",
       "</style>\n",
       "<table border=\"1\" class=\"dataframe\">\n",
       "  <thead>\n",
       "    <tr style=\"text-align: right;\">\n",
       "      <th></th>\n",
       "      <th>title</th>\n",
       "      <th>description</th>\n",
       "      <th>category</th>\n",
       "    </tr>\n",
       "  </thead>\n",
       "  <tbody>\n",
       "    <tr>\n",
       "      <th>0</th>\n",
       "      <td>絕對會 Python 用場! 驚人的程式妙用</td>\n",
       "      <td>✨　想不到Python還可以這麼玩!? ✨\\r\\n\\r\\n✨　用天馬行空的範例 讓你陷入Py...</td>\n",
       "      <td>程式語言</td>\n",
       "    </tr>\n",
       "    <tr>\n",
       "      <th>1</th>\n",
       "      <td>AI世代必備！Python × ChatGPT 高效率工作術：從網路爬蟲到辦公室自動化超實務</td>\n",
       "      <td>最全面的 ChatGPT × Python 應用手冊！\\r\\n\\r\\n \\r\\n\\r\\nAI...</td>\n",
       "      <td>程式語言</td>\n",
       "    </tr>\n",
       "    <tr>\n",
       "      <th>2</th>\n",
       "      <td>Python 風格徹底研究｜超詳實、好理解的 Python 必學主題 (Dead Simpl...</td>\n",
       "      <td>多位Python官方社群的大神技術審校和推薦\\r\\n教您寫出Python風格的專業程式碼\\r...</td>\n",
       "      <td>程式語言</td>\n",
       "    </tr>\n",
       "    <tr>\n",
       "      <th>3</th>\n",
       "      <td>Python 大數據專案 X 工程 X 產品 資料工程師的升級攻略  2/e</td>\n",
       "      <td>★☆★☆★ 獨家解析知名大數據專案，FinMind，帶你一窺大數據產品的發展過程，打造專屬個...</td>\n",
       "      <td>程式語言</td>\n",
       "    </tr>\n",
       "    <tr>\n",
       "      <th>4</th>\n",
       "      <td>AI 時代的管理數學：使用 R語言實作</td>\n",
       "      <td>如果你主要關注統計分析、數據可視化、線性代數、初等微積分，\\r\\n\\r\\n \\r\\n\\r\\n...</td>\n",
       "      <td>人工智慧</td>\n",
       "    </tr>\n",
       "    <tr>\n",
       "      <th>5</th>\n",
       "      <td>史上最強 Python 入門邁向頂尖高手之路王者歸來  3/e (全彩印刷)</td>\n",
       "      <td>天瓏購書獨家贈送習題解答\\r\\n\\r\\n史上最強\\r\\n\\r\\nPython入門\\r\\n\\r...</td>\n",
       "      <td>程式語言</td>\n",
       "    </tr>\n",
       "    <tr>\n",
       "      <th>6</th>\n",
       "      <td>AI世代：從政治哲學反思人工智慧的衝擊</td>\n",
       "      <td>人臉辨識、數位威權、同溫層效應……\\r\\n科技是中立的嗎？\\r\\n科技真的能帶來更好的未來嗎...</td>\n",
       "      <td>人工智慧</td>\n",
       "    </tr>\n",
       "    <tr>\n",
       "      <th>7</th>\n",
       "      <td>電子商務與 ChatGPT：物聯網 ‧ KOL直播 ‧ 區塊鏈‧  社群行銷 ‧ 大數據 ‧...</td>\n",
       "      <td>\\r\\n\\t電子商務是利用網路進行銷售或交換產品與服務，並達到降低成本要求的現代化經營模式，...</td>\n",
       "      <td>物聯網 IoT</td>\n",
       "    </tr>\n",
       "    <tr>\n",
       "      <th>8</th>\n",
       "      <td>權力與進步：科技變革與共享繁榮之間的千年辯證</td>\n",
       "      <td>全球獨家中文版！《金融時報》年度選書\\r\\n\\r\\n關心AI時代人類命運的必讀之作\\r\\n\\...</td>\n",
       "      <td>人工智慧</td>\n",
       "    </tr>\n",
       "    <tr>\n",
       "      <th>9</th>\n",
       "      <td>電腦軟體設計丙級技能檢定學術科｜適用 C++ (第三版)</td>\n",
       "      <td>依據勞動部勞動力發展署技能檢定中心最新啟用之學術科試題規劃解題\\r\\n\\r\\n術科篇\\r\\n...</td>\n",
       "      <td>考試認證</td>\n",
       "    </tr>\n",
       "    <tr>\n",
       "      <th>10</th>\n",
       "      <td>LangChain 開發手冊 -- OpenAI × LCEL 表達式 × Agent 自動...</td>\n",
       "      <td>\\r\\n內容介紹:\\r\\n\\r\\n整合大型語言模型能力開發應用程式已成為一股不可阻擋的趨勢 ...</td>\n",
       "      <td>資料庫</td>\n",
       "    </tr>\n",
       "    <tr>\n",
       "      <th>11</th>\n",
       "      <td>Power Automate 自動化大全：串接 Excel、ChatGPT、SQL 指令，打...</td>\n",
       "      <td>\\r\\n內容介紹:\\r\\n\\r\\n \\r\\n\\r\\n\\r\\n「同事下班壓線交報告 苦了你還要...</td>\n",
       "      <td>Data Science</td>\n",
       "    </tr>\n",
       "    <tr>\n",
       "      <th>12</th>\n",
       "      <td>科技巨頭的演算法大揭祕：資料科學家必讀的資料科學與機器學習實戰筆記（iThome鐵人賽系列書...</td>\n",
       "      <td>【專業推薦】\\r\\n「本書非常有結構地介紹現在科技巨頭賴以維生的各種推薦與媒合演算法。內容由...</td>\n",
       "      <td>Data Science</td>\n",
       "    </tr>\n",
       "    <tr>\n",
       "      <th>13</th>\n",
       "      <td>AI 時代從基本功下手 - 深入電腦底層運作原理</td>\n",
       "      <td>☆★341張圖例，一次弄懂電腦底層運作的原理★☆\\r\\n\\r\\n☆★重點說明作業系統、處理程...</td>\n",
       "      <td>人工智慧</td>\n",
       "    </tr>\n",
       "    <tr>\n",
       "      <th>14</th>\n",
       "      <td>軟體測試實務 : 業界成功案例與高效實踐 [ I ]</td>\n",
       "      <td>🌟 國內第一本 『軟體測試』 跨業界團隊合著大作 🌟\\r\\n\\r\\n\\r\\n本書提供讀者能夠...</td>\n",
       "      <td>軟體測試</td>\n",
       "    </tr>\n",
       "    <tr>\n",
       "      <th>15</th>\n",
       "      <td>全棧測試｜交付高品質軟體的實務指南 (Full Stack Testing: A Pract...</td>\n",
       "      <td>「Gayathri的書能為團隊帶來測試的全面性觀點。」\\r\\n-Neal Ford\\r\\nT...</td>\n",
       "      <td>軟體工程</td>\n",
       "    </tr>\n",
       "    <tr>\n",
       "      <th>16</th>\n",
       "      <td>產品經理全方位敏捷實踐：從活用 Scrum 到強化 PM 心理素質， 成為 AI 無法取代的...</td>\n",
       "      <td>前進高薪科技業必備！\\r\\n\\r\\n \\r\\n\\r\\n快速掌握「產品經理通識」和「Scrum...</td>\n",
       "      <td>人工智慧</td>\n",
       "    </tr>\n",
       "    <tr>\n",
       "      <th>17</th>\n",
       "      <td>未來數位科技活用大全：從 AI 協作、程式設計、資訊安全到大數據分析</td>\n",
       "      <td>AI 浪潮來襲，不掌握，就等著被淹沒！\\r\\n\\r\\n本書內容範圍極廣，涵蓋了從 AI 協作...</td>\n",
       "      <td>人工智慧</td>\n",
       "    </tr>\n",
       "    <tr>\n",
       "      <th>18</th>\n",
       "      <td>安全上網 智能時代的風險與自我保護</td>\n",
       "      <td>有沒有留意自己每天上網的時間是多少？據統計，全球的網絡使用者平均上網時間近七小時，即除了...</td>\n",
       "      <td>資訊安全</td>\n",
       "    </tr>\n",
       "    <tr>\n",
       "      <th>19</th>\n",
       "      <td>創意設計專題實作 - 最新版 - 附 MOSME 行動學習一點通：評量．ZTC專題中心</td>\n",
       "      <td>1.提供僅需按部就班，即可順利完成專題的PIPE-A流程與模組。\\r\\n2.說明PIPE-A...</td>\n",
       "      <td>網頁設計</td>\n",
       "    </tr>\n",
       "    <tr>\n",
       "      <th>20</th>\n",
       "      <td>文科生也可以輕鬆學會 Web Scraper 網路爬蟲與 Power Automate X ...</td>\n",
       "      <td>不用動手寫程式，讓Web Scraper爬蟲 X Power Automate自動化工具幫你...</td>\n",
       "      <td>Data Science</td>\n",
       "    </tr>\n",
       "    <tr>\n",
       "      <th>21</th>\n",
       "      <td>未來藝世界：AI 繪圖新旅程</td>\n",
       "      <td>跨越科技與藝術的界限，我們邀請你共同踏上由AI揭示的藝術探索新境界。《Arts Styl...</td>\n",
       "      <td>人工智慧</td>\n",
       "    </tr>\n",
       "    <tr>\n",
       "      <th>22</th>\n",
       "      <td>電子商務與 ChatGPT：物聯網 ‧ KOL直播 ‧ 區塊鏈‧  社群行銷 ‧ 大數據 ‧...</td>\n",
       "      <td>\\r\\n\\t電子商務是利用網路進行銷售或交換產品與服務，並達到降低成本要求的現代化經營模式，...</td>\n",
       "      <td>物聯網 IoT</td>\n",
       "    </tr>\n",
       "    <tr>\n",
       "      <th>23</th>\n",
       "      <td>改變人類未來的七大科技革命：AI 人工智慧、區塊鏈、VR/AR、機器人學、物聯網、雲端運算、元宇宙</td>\n",
       "      <td>★給對充滿問號的自己一個瞭解未來趨勢的勇氣書★\\r\\n★給學習成為世界主人的未來人才★\\r\\...</td>\n",
       "      <td>人工智慧</td>\n",
       "    </tr>\n",
       "    <tr>\n",
       "      <th>24</th>\n",
       "      <td>AI + AIoT 概論：寫給大學生看的 AI 通識學習</td>\n",
       "      <td>專業推薦!! (依姓名筆畫排序)\\r\\n謝邦昌 輔仁大學副校長\\r\\n劉力瑜 台灣大學農藝學...</td>\n",
       "      <td>物聯網 IoT</td>\n",
       "    </tr>\n",
       "    <tr>\n",
       "      <th>25</th>\n",
       "      <td>快速上手智慧健康照護  2/e</td>\n",
       "      <td>\\r\\n\\t\\r\\n\\t\\t\\r\\n\\t\\t\\t隨著醫療技術快速發展，公共衛生環境不斷改善，...</td>\n",
       "      <td>人工智慧</td>\n",
       "    </tr>\n",
       "    <tr>\n",
       "      <th>26</th>\n",
       "      <td>ESP32 微處理機實習與物聯網應用含 AMA Fundamentals Level 先進微...</td>\n",
       "      <td>1.全書共83個範例，清楚解說各種用法\\r\\n2.單晶片實習之硬體、邏輯及演算法\\r\\n3....</td>\n",
       "      <td>物聯網 IoT</td>\n",
       "    </tr>\n",
       "    <tr>\n",
       "      <th>27</th>\n",
       "      <td>丙級室內配線技能檢定術科解析 (2024最新版)(附丙級室配學科題本及多媒體光碟)</td>\n",
       "      <td>NaN</td>\n",
       "      <td>考試認證</td>\n",
       "    </tr>\n",
       "    <tr>\n",
       "      <th>28</th>\n",
       "      <td>單一級照顧服務員技能檢定學術科完全攻略 (2023最新版)(附學科測驗卷)</td>\n",
       "      <td>本書特色\\r\\n\\r\\n1.應考須知、術科操作與提示、學科題庫與題解三大篇，讓你輕鬆拿分。\\...</td>\n",
       "      <td>考試認證</td>\n",
       "    </tr>\n",
       "    <tr>\n",
       "      <th>29</th>\n",
       "      <td>電腦軟體設計丙級技能檢定學術科｜使用 C#</td>\n",
       "      <td>依據勞動部勞動力發展署技能檢定中心最新學術科試題規劃解題\\r\\n\\r\\n術科篇\\r\\n＊最新...</td>\n",
       "      <td>考試認證</td>\n",
       "    </tr>\n",
       "    <tr>\n",
       "      <th>30</th>\n",
       "      <td>舞動倉頡輸入法  7/e</td>\n",
       "      <td>早期中文打字是一門專業的技術，如今電腦為中文打字帶來巨大的變革，以往需要給打字行才能製作的文...</td>\n",
       "      <td>其他</td>\n",
       "    </tr>\n",
       "    <tr>\n",
       "      <th>31</th>\n",
       "      <td>圖解 Java 物件導向程式語言</td>\n",
       "      <td>●簡潔精要，易於快速理解與掌握程式技巧\\r\\n●兼顧運算思維與實用技巧，提高學習效果\\r\\n...</td>\n",
       "      <td>程式語言</td>\n",
       "    </tr>\n",
       "    <tr>\n",
       "      <th>32</th>\n",
       "      <td>電腦如何學會思考？更新人類理解現實方式的「數位現實理論」</td>\n",
       "      <td>洞悉電腦如何運作\\r\\n開啟人類對於現實的全新理解！\\r\\n\\r\\n\\r\\n　　早至萊布尼茨...</td>\n",
       "      <td>人工智慧</td>\n",
       "    </tr>\n",
       "  </tbody>\n",
       "</table>\n",
       "</div>"
      ],
      "text/plain": [
       "                                                title  \\\n",
       "0                              絕對會 Python 用場! 驚人的程式妙用   \n",
       "1      AI世代必備！Python × ChatGPT 高效率工作術：從網路爬蟲到辦公室自動化超實務   \n",
       "2   Python 風格徹底研究｜超詳實、好理解的 Python 必學主題 (Dead Simpl...   \n",
       "3              Python 大數據專案 X 工程 X 產品 資料工程師的升級攻略  2/e   \n",
       "4                                 AI 時代的管理數學：使用 R語言實作   \n",
       "5              史上最強 Python 入門邁向頂尖高手之路王者歸來  3/e (全彩印刷)   \n",
       "6                                 AI世代：從政治哲學反思人工智慧的衝擊   \n",
       "7   電子商務與 ChatGPT：物聯網 ‧ KOL直播 ‧ 區塊鏈‧  社群行銷 ‧ 大數據 ‧...   \n",
       "8                              權力與進步：科技變革與共享繁榮之間的千年辯證   \n",
       "9                        電腦軟體設計丙級技能檢定學術科｜適用 C++ (第三版)   \n",
       "10  LangChain 開發手冊 -- OpenAI × LCEL 表達式 × Agent 自動...   \n",
       "11  Power Automate 自動化大全：串接 Excel、ChatGPT、SQL 指令，打...   \n",
       "12  科技巨頭的演算法大揭祕：資料科學家必讀的資料科學與機器學習實戰筆記（iThome鐵人賽系列書...   \n",
       "13                           AI 時代從基本功下手 - 深入電腦底層運作原理   \n",
       "14                         軟體測試實務 : 業界成功案例與高效實踐 [ I ]   \n",
       "15  全棧測試｜交付高品質軟體的實務指南 (Full Stack Testing: A Pract...   \n",
       "16  產品經理全方位敏捷實踐：從活用 Scrum 到強化 PM 心理素質， 成為 AI 無法取代的...   \n",
       "17                 未來數位科技活用大全：從 AI 協作、程式設計、資訊安全到大數據分析   \n",
       "18                                  安全上網 智能時代的風險與自我保護   \n",
       "19        創意設計專題實作 - 最新版 - 附 MOSME 行動學習一點通：評量．ZTC專題中心   \n",
       "20  文科生也可以輕鬆學會 Web Scraper 網路爬蟲與 Power Automate X ...   \n",
       "21                                     未來藝世界：AI 繪圖新旅程   \n",
       "22  電子商務與 ChatGPT：物聯網 ‧ KOL直播 ‧ 區塊鏈‧  社群行銷 ‧ 大數據 ‧...   \n",
       "23  改變人類未來的七大科技革命：AI 人工智慧、區塊鏈、VR/AR、機器人學、物聯網、雲端運算、元宇宙   \n",
       "24                       AI + AIoT 概論：寫給大學生看的 AI 通識學習   \n",
       "25                                    快速上手智慧健康照護  2/e   \n",
       "26  ESP32 微處理機實習與物聯網應用含 AMA Fundamentals Level 先進微...   \n",
       "27          丙級室內配線技能檢定術科解析 (2024最新版)(附丙級室配學科題本及多媒體光碟)   \n",
       "28              單一級照顧服務員技能檢定學術科完全攻略 (2023最新版)(附學科測驗卷)   \n",
       "29                              電腦軟體設計丙級技能檢定學術科｜使用 C#   \n",
       "30                                       舞動倉頡輸入法  7/e   \n",
       "31                                   圖解 Java 物件導向程式語言   \n",
       "32                       電腦如何學會思考？更新人類理解現實方式的「數位現實理論」   \n",
       "\n",
       "                                          description      category  \n",
       "0   ✨　想不到Python還可以這麼玩!? ✨\\r\\n\\r\\n✨　用天馬行空的範例 讓你陷入Py...          程式語言  \n",
       "1   最全面的 ChatGPT × Python 應用手冊！\\r\\n\\r\\n \\r\\n\\r\\nAI...          程式語言  \n",
       "2   多位Python官方社群的大神技術審校和推薦\\r\\n教您寫出Python風格的專業程式碼\\r...          程式語言  \n",
       "3   ★☆★☆★ 獨家解析知名大數據專案，FinMind，帶你一窺大數據產品的發展過程，打造專屬個...          程式語言  \n",
       "4   如果你主要關注統計分析、數據可視化、線性代數、初等微積分，\\r\\n\\r\\n \\r\\n\\r\\n...          人工智慧  \n",
       "5   天瓏購書獨家贈送習題解答\\r\\n\\r\\n史上最強\\r\\n\\r\\nPython入門\\r\\n\\r...          程式語言  \n",
       "6   人臉辨識、數位威權、同溫層效應……\\r\\n科技是中立的嗎？\\r\\n科技真的能帶來更好的未來嗎...          人工智慧  \n",
       "7   \\r\\n\\t電子商務是利用網路進行銷售或交換產品與服務，並達到降低成本要求的現代化經營模式，...       物聯網 IoT  \n",
       "8   全球獨家中文版！《金融時報》年度選書\\r\\n\\r\\n關心AI時代人類命運的必讀之作\\r\\n\\...          人工智慧  \n",
       "9   依據勞動部勞動力發展署技能檢定中心最新啟用之學術科試題規劃解題\\r\\n\\r\\n術科篇\\r\\n...          考試認證  \n",
       "10  \\r\\n內容介紹:\\r\\n\\r\\n整合大型語言模型能力開發應用程式已成為一股不可阻擋的趨勢 ...           資料庫  \n",
       "11  \\r\\n內容介紹:\\r\\n\\r\\n \\r\\n\\r\\n\\r\\n「同事下班壓線交報告 苦了你還要...  Data Science  \n",
       "12  【專業推薦】\\r\\n「本書非常有結構地介紹現在科技巨頭賴以維生的各種推薦與媒合演算法。內容由...  Data Science  \n",
       "13  ☆★341張圖例，一次弄懂電腦底層運作的原理★☆\\r\\n\\r\\n☆★重點說明作業系統、處理程...          人工智慧  \n",
       "14  🌟 國內第一本 『軟體測試』 跨業界團隊合著大作 🌟\\r\\n\\r\\n\\r\\n本書提供讀者能夠...          軟體測試  \n",
       "15  「Gayathri的書能為團隊帶來測試的全面性觀點。」\\r\\n-Neal Ford\\r\\nT...          軟體工程  \n",
       "16  前進高薪科技業必備！\\r\\n\\r\\n \\r\\n\\r\\n快速掌握「產品經理通識」和「Scrum...          人工智慧  \n",
       "17  AI 浪潮來襲，不掌握，就等著被淹沒！\\r\\n\\r\\n本書內容範圍極廣，涵蓋了從 AI 協作...          人工智慧  \n",
       "18  　　有沒有留意自己每天上網的時間是多少？據統計，全球的網絡使用者平均上網時間近七小時，即除了...          資訊安全  \n",
       "19  1.提供僅需按部就班，即可順利完成專題的PIPE-A流程與模組。\\r\\n2.說明PIPE-A...          網頁設計  \n",
       "20  不用動手寫程式，讓Web Scraper爬蟲 X Power Automate自動化工具幫你...  Data Science  \n",
       "21  　　跨越科技與藝術的界限，我們邀請你共同踏上由AI揭示的藝術探索新境界。《Arts Styl...          人工智慧  \n",
       "22  \\r\\n\\t電子商務是利用網路進行銷售或交換產品與服務，並達到降低成本要求的現代化經營模式，...       物聯網 IoT  \n",
       "23  ★給對充滿問號的自己一個瞭解未來趨勢的勇氣書★\\r\\n★給學習成為世界主人的未來人才★\\r\\...          人工智慧  \n",
       "24  專業推薦!! (依姓名筆畫排序)\\r\\n謝邦昌 輔仁大學副校長\\r\\n劉力瑜 台灣大學農藝學...       物聯網 IoT  \n",
       "25  \\r\\n\\t\\r\\n\\t\\t\\r\\n\\t\\t\\t隨著醫療技術快速發展，公共衛生環境不斷改善，...          人工智慧  \n",
       "26  1.全書共83個範例，清楚解說各種用法\\r\\n2.單晶片實習之硬體、邏輯及演算法\\r\\n3....       物聯網 IoT  \n",
       "27                                                NaN          考試認證  \n",
       "28  本書特色\\r\\n\\r\\n1.應考須知、術科操作與提示、學科題庫與題解三大篇，讓你輕鬆拿分。\\...          考試認證  \n",
       "29  依據勞動部勞動力發展署技能檢定中心最新學術科試題規劃解題\\r\\n\\r\\n術科篇\\r\\n＊最新...          考試認證  \n",
       "30  早期中文打字是一門專業的技術，如今電腦為中文打字帶來巨大的變革，以往需要給打字行才能製作的文...            其他  \n",
       "31  ●簡潔精要，易於快速理解與掌握程式技巧\\r\\n●兼顧運算思維與實用技巧，提高學習效果\\r\\n...          程式語言  \n",
       "32  洞悉電腦如何運作\\r\\n開啟人類對於現實的全新理解！\\r\\n\\r\\n\\r\\n　　早至萊布尼茨...          人工智慧  "
      ]
     },
     "execution_count": 14,
     "metadata": {},
     "output_type": "execute_result"
    }
   ],
   "source": [
    "df2"
   ]
  },
  {
   "cell_type": "code",
   "execution_count": null,
   "metadata": {
    "id": "jKdMZ14ick9k"
   },
   "outputs": [
    {
     "name": "stdout",
     "output_type": "stream",
     "text": [
      "['\\n  書名: ```Python 工匠｜案例、技巧與開發實戰```\\n  描述: ```‧基礎程式設計素養與Python高級技巧的結合\\r\\n‧內容深入Python語言核心，精心挑選必要知識點\\r\\n‧透過有趣的「案例故事」表達有用的程式設計概念\\r\\n\\r\\n「本書致力於幫助大家寫出清晰易懂、層次分明的程式碼，既保障了軟體品質，又能為工程師累積良好的個人口碑。如同寫得一手好文章，寫得一手好程式碼也會獲得同行的尊重。」\\r\\n—黨受輝，騰訊IEG技術運營部助理總經理\\r\\n\\r\\n「本書描述了一些Python新手(甚至老手)會犯的錯誤，小到變數取名，大到程式結構，由淺入深、面面俱到。這是一本不可多得的實用好書，書中的很多技巧不僅適用於Python，使用其他程式設計語言的讀者也能受益良多。」\\r\\n—賴信濤，Shopee SRE\\r\\n\\r\\n「這不是一本語法書，而是一本關於專案實戰的書。它試圖告訴讀者：如何正確選擇和使用Python語言的各種特性，寫出執行速度更快、bug更少、易測試並且易維護的程式。」\\r\\n—@laike9m，「捕蛇者說」主播、Cyberbrain作者、Google工程師\\r\\n\\r\\n\\r\\n本書從專案實戰角度出發，透過剖析核心知識、展示經典案例與總結實用技巧，幫助讀者系統化掌握Python，寫好程式，做```\\n  分類: 程式語言\\n  ', '\\n  書名: ```Python 程式設計與實例應用  2/e```\\n  描述: ```本書簡介\\r\\n\\u3000\\u3000《Python程式設計與實例應用》是一本Python程式教學指南，適合所有工程領域的學生、自學者和專業人士，使用Python程式語言進行複雜計算和撰寫應用程式。本書以程式範例舉例說明，並解釋所有Python程式設計基本的理論概念，因此透過閱讀本書可以提高問題解決及程式設計等能力。\\r\\n\\r\\n\\u3000\\u3000本書第二版除保留原有的清晰寫作風格與舉例說明的特點之外，同時增加了新的章節、章末專案、附錄專案以及教學元素。此外，所有程式都經過全面更新，以確保與Python最新版本的相容性。\\r\\n\\r\\n第二版主要特色\\r\\n\\r\\n\\r\\n\\t新增加三個章節，分別介紹GUI圖形介面和使用Tkinter進行Python程式設計、MySQL資料庫以及例外處理。\\r\\n\\t新增加程式專案，包括：圖書庫存管理、員工資料庫管理等。\\r\\n\\t專為教學設計：超過180道選擇題、超過220道是非題、超過90道練習題、100個程式設計作業。\\r\\n\\r\\n```\\n  分類: 程式語言\\n  ', '\\n  書名: ```史上最強 Python 入門邁向頂尖高手之路王者歸來  3/e (全彩印刷)```\\n  描述: ```天瓏購書獨家贈送習題解答\\r\\n\\r\\n史上最強\\r\\n\\r\\nPython入門\\r\\n\\r\\n邁向頂尖高手之路\\r\\n\\r\\n王者歸來\\r\\n\\r\\n第3版(全彩印刷)\\r\\n\\r\\n\\xa0\\r\\n\\r\\n內容簡介\\r\\n\\r\\n★★★★★【內容最紮實、應用最廣】【40個主題】★★★★★\\r\\n\\r\\n★★★★★【程式實例最多】【約1280個Python實例】★★★★★\\r\\n\\r\\n★★★★★【18大類Python潛在應用】★★★★★\\r\\n\\r\\n★★★★★【400個是非題、選擇題】【280個習題實作題】★★★★★\\r\\n\\r\\n\\xa0\\xa0\\xa0 \\r\\n\\r\\n\\xa0\\xa0\\xa0 相較於第2版，第3版更增加Python深入解析、多執行緒、多媒體應用，機器人程式設計、同時使用更細緻的實例，增加下列知識：\\r\\n\\r\\n☆ 最新Python語法精神、效能發揮極致\\r\\n\\r\\n★ 徹底研究迭代器(iterator)、yield\\r\\n\\r\\n☆ 增加2D和3D動畫\\r\\n\\r\\n★ 傳送、接收與分析電子郵件\\r\\n\\r\\n☆ 發送會員信件與未繳會費的會員信件\\r\\n\\r\\n★ 多執行緒的應用 - 網路爬蟲、下載YouTube影片\\r\\n\\r\\n☆ ffmpeg支援影音檔案轉換\\r\\n\\r\\n★ 不同語言的文字、語音翻譯\\r\\n\\r\\n☆ AI股市數據分析，繪製與計算股票買賣點\\r\\n```\\n  分類: 程式語言\\n  ']\n",
      "['\\n  書名: ```Python + ChatGPT 零基礎 + 高效率學程式設計與運算思維  4/e```\\n  描述: ```\\xa0\\r\\n\\r\\nPython + ChatGPT\\r\\n\\r\\n零基礎 + 高效率\\r\\n\\r\\n學程式設計與運算思維\\r\\n\\r\\n第4版\\r\\n\\r\\n內容簡介\\r\\n\\r\\n★★★★★【前一版是國內第1本ChatGPT輔助學習Python】★★★★★\\r\\n\\r\\n★★★★★【Google Colab + Python Shell環境解說】★★★★★\\r\\n\\r\\n★★★★★【前一版是國內第1本用ChatGPT語言模型】★★★★★\\r\\n\\r\\n★★★★★【設計線上AI客服和Emoji機器人程式】★★★★★\\r\\n\\r\\n★★★★★【前一版是國內第1本講解設計Pythonic程式★★★★★\\r\\n\\r\\n\\xa0\\r\\n\\r\\n本書特色如下：\\r\\n\\r\\n相較於第3版，第4版新增與修訂下列內容：\\r\\n\\r\\n☆ 增加ChatGPT處理除錯(Debug)、程式註解、重構和重寫程式的應用。\\r\\n\\r\\n★ 更完整的解說機器學習知識的觀念。\\r\\n\\r\\n☆ 用「gpt-4」語言模型設計「線上AI客服中心」和「Emoji翻譯機器人」。\\r\\n\\r\\n★ 提供「Google Colab的ipynb檔案」與「一般的py檔案」兩種程式。\\r\\n\\r\\n☆ 小細節修訂約50處。\\r\\n\\r\\n本書用約700個一般實例與程式實例，同時使用Ch```\\n  分類: 程式語言\\n  ', '\\n  書名: ```入門首選 Python 程式設計與 ChatGPT 應用 - 最新版 - 附 MOSME 行動學習一點通：評量．加值```\\n  描述: ```從零開始，學習程式語言概念\\r\\n著重Python基本語法與資料擷取與分析\\r\\n實作演練，有趣且充足的範例實作\\r\\n沒有程式基礎也能輕鬆上手\\r\\n結合ChatGPT提高程式設計效率\\r\\n```\\n  分類: 程式語言\\n  ', '\\n  書名: ```[精準活用祕笈] 超實用！ChatGPT 與 Excel 必備省時函數的巧妙運用：利用 AI 提高數據整理與統計運算分析```\\n  描述: ```本書特色\\r\\n📢快速了解公式及函數重要知識點\\r\\n📢熟悉學術、生活及職場應用的必備函數\\r\\n📢方便查詢函數功能、語法、參數與實例\\r\\n📢除了傳統函數外，也介紹最新版函數\\r\\n📢提供大量應用實例，有助提昇工作效率\\r\\n📢實戰ChatGPT大師級函數提示技巧與範例\\r\\n\\r\\n本書整理大數據、人資、行政、總務、業務、會計、生管、財務、企宣、公務員、市場調查、銷售管理、產品研發…等商務應用、資料分析的重要函數。為了方便每一位讀者操作學習，所有實例都附有原始的範例檔案，並提供執行結果檔案。\\r\\n\\r\\n在章節架構的安排上，第一章先介紹公式與函數的重要知識點，從第二章到第八章則介紹各種類別的實用函數，包括數值運算、邏輯、統計、資料取得、日期、時間、字串、財務、會計、資料驗證、資訊、查閱與參照等。所有介紹的函數都有對應的實例教學，而且每一個函數的介紹安排，包括功能說明、通用語法、引數解說、實作前的範例檔案、操作過程及實作後的成果展示。\\r\\n\\r\\n第九章包含了幾個完整的商務綜合範例，例如職訓練成績計算排名和查詢、現金流量表等。\\r\\n\\r\\n此外，本書還新增了「實戰ChatGPT大師級函數提示技巧與範例」精彩單元，內容包括：\\r\\n➤人工```\\n  分類: 人工智慧\\n  ']\n",
      "['\\n  書名: ```Python 工匠｜案例、技巧與開發實戰```\\n  描述: ```‧基礎程式設計素養與Python高級技巧的結合\\r\\n‧內容深入Python語言核心，精心挑選必要知識點\\r\\n‧透過有趣的「案例故事」表達有用的程式設計概念\\r\\n\\r\\n「本書致力於幫助大家寫出清晰易懂、層次分明的程式碼，既保障了軟體品質，又能為工程師累積良好的個人口碑。如同寫得一手好文章，寫得一手好程式碼也會獲得同行的尊重。」\\r\\n—黨受輝，騰訊IEG技術運營部助理總經理\\r\\n\\r\\n「本書描述了一些Python新手(甚至老手)會犯的錯誤，小到變數取名，大到程式結構，由淺入深、面面俱到。這是一本不可多得的實用好書，書中的很多技巧不僅適用於Python，使用其他程式設計語言的讀者也能受益良多。」\\r\\n—賴信濤，Shopee SRE\\r\\n\\r\\n「這不是一本語法書，而是一本關於專案實戰的書。它試圖告訴讀者：如何正確選擇和使用Python語言的各種特性，寫出執行速度更快、bug更少、易測試並且易維護的程式。」\\r\\n—@laike9m，「捕蛇者說」主播、Cyberbrain作者、Google工程師\\r\\n\\r\\n\\r\\n本書從專案實戰角度出發，透過剖析核心知識、展示經典案例與總結實用技巧，幫助讀者系統化掌握Python，寫好程式，做```\\n  分類: 程式語言\\n  ', '\\n  書名: ```從零開始學 Python 程式設計 (第三版修訂版)(適用 Python 3.10 以上)(暢銷回饋版)```\\n  描述: ```\\r\\n\\tPython入門經典好書，暢銷回饋中！\\r\\n\\t\\r\\n\\t【本書特色】\\r\\n\\t▶認識 Python 這個簡潔的程式語言，理論與實作並行\\r\\n\\t▶每個章節有豐富的範例，配合 Python Shell 的互動交談，更能得心應手\\r\\n\\t▶手把手導引，由函式出發，並學習物件導向的封裝、繼承和多型三大技術\\r\\n\\t▶課後評量使思考與操作並兼，可追蹤學習成效\\r\\n\\t\\r\\n\\t【本書簡介】\\r\\n\\t學習一個程式語言，Python 的簡潔、明瞭能讓初學者快速上手。一個簡單的，雖然 Python IDLE 環境很陽春，但有不錯的除錯功能，而附帶的 Visual Studio Code 可以讓我們在學習中擁有意外之喜。簡單的敘述可以在 Python Shell 這個互動交談模式獲得解答。除了 Python 的內建模組，也一起認識第三方套件的詞雲、Pyinstaller。由於 Python 能討論的內容非常豐富，本書僅能就初學者讓大家認識 Python 語言的魅力，透過本書做通盤性認識，全書重要主題如下：\\r\\n\\t\\r\\n\\t•Python 異想世界\\r\\n\\t•Python 基本語法\\r\\n\\t•運算子與條件選擇\\r\\n\\t•廻圈控制\\r\\n\\t•序列型別和字```\\n  分類: 程式語言\\n  ', '\\n  書名: ```史上最強 Python 入門邁向頂尖高手之路王者歸來  3/e (全彩印刷)```\\n  描述: ```天瓏購書獨家贈送習題解答\\r\\n\\r\\n史上最強\\r\\n\\r\\nPython入門\\r\\n\\r\\n邁向頂尖高手之路\\r\\n\\r\\n王者歸來\\r\\n\\r\\n第3版(全彩印刷)\\r\\n\\r\\n\\xa0\\r\\n\\r\\n內容簡介\\r\\n\\r\\n★★★★★【內容最紮實、應用最廣】【40個主題】★★★★★\\r\\n\\r\\n★★★★★【程式實例最多】【約1280個Python實例】★★★★★\\r\\n\\r\\n★★★★★【18大類Python潛在應用】★★★★★\\r\\n\\r\\n★★★★★【400個是非題、選擇題】【280個習題實作題】★★★★★\\r\\n\\r\\n\\xa0\\xa0\\xa0 \\r\\n\\r\\n\\xa0\\xa0\\xa0 相較於第2版，第3版更增加Python深入解析、多執行緒、多媒體應用，機器人程式設計、同時使用更細緻的實例，增加下列知識：\\r\\n\\r\\n☆ 最新Python語法精神、效能發揮極致\\r\\n\\r\\n★ 徹底研究迭代器(iterator)、yield\\r\\n\\r\\n☆ 增加2D和3D動畫\\r\\n\\r\\n★ 傳送、接收與分析電子郵件\\r\\n\\r\\n☆ 發送會員信件與未繳會費的會員信件\\r\\n\\r\\n★ 多執行緒的應用 - 網路爬蟲、下載YouTube影片\\r\\n\\r\\n☆ ffmpeg支援影音檔案轉換\\r\\n\\r\\n★ 不同語言的文字、語音翻譯\\r\\n\\r\\n☆ AI股市數據分析，繪製與計算股票買賣點\\r\\n```\\n  分類: 程式語言\\n  ']\n",
      "['\\n  書名: ```Python 大數據專案 X 工程 X 產品 資料工程師的升級攻略  2/e```\\n  描述: ```★☆★☆★ 獨家解析知名大數據專案，FinMind，帶你一窺大數據產品的發展過程，打造專屬個人的大數據 Side Project、作品、產品 ★☆★☆★\\r\\n\\r\\n\\xa0\\r\\n\\r\\n本書承襲第一版的精彩內容，分享在 Github 獲得 1900 stars 的大數據 Side Project，並幫助讀者從 0 開始，打造專屬個人的大數據 Side Project。\\r\\n\\r\\n\\xa0\\r\\n\\r\\n精彩收錄：\\r\\n\\r\\n\\xa0\\r\\n\\r\\n【資料工程】\\r\\n\\r\\n○ 使用分散式技術，RabbitMQ、Flower、Celery，收集證交所、櫃買中心、期交所等股市資訊。\\r\\n\\r\\n○ 使用 Docker、FastAPI 架設 RESTful API 服務。\\r\\n\\r\\n○ 使用 Docker Swarm 架設分散式服務，包含爬蟲、RESTful API、資料庫 MySQL、RabbitMQ 等服務。\\r\\n\\r\\n○ 使用雲端服務，一個月 5 美金，且免費提供 100 美金額度。\\r\\n\\r\\n○ 一站式管理多台分散式機器。\\r\\n\\r\\n○ 使用業界等級的，分散式 Airflow。\\r\\n\\r\\n\\xa0\\r\\n\\r\\n【產品迭代】\\r\\n\\r\\n○ 單元測試 Unit Test 介紹，包含爬蟲```\\n  分類: 程式語言\\n  ', '\\n  書名: ```PYTHON 程式設計 ─ 數據分析與深度學習  2/e```\\n  描述: ```\\u3000\\u3000本書自初版發行後，許多新的技術、平台與應用，又有不少改變。為了因應資訊領域和 Python 實務應用上的需求，本書進行大幅度的改版，並加入許多新的題材與應用範例。\\r\\n\\r\\n\\u3000\\u3000做為學習程式設計與人工智慧應用的語言，Python 讓使用者專注於解決問題，不需要花很多時間去搞清楚語言本身的結構和規則，近年來在人工智慧與機器學習的應用也越來越廣泛。\\r\\n\\r\\n\\u3000\\u3000此回內容增加人工智慧與深度學習的應用，並加強了人工智慧、機器學習與數據分析技術這二者關係的連結。除了 Scikit-learn 工具之外，本書新增 Tensorflow 和 Keras，使用簡單的範例引導讀者學習人工智慧與深度學習。內容包括人工智慧的簡介，以及機器學習原理和 Python 深度學習範例，讓讀者瞭解如何運用 Python，進行程式撰寫與基本深度學習應用。\\r\\n\\r\\n\\u3000\\u3000本書的內容相當豐富，不僅包含 Python 程式設計基礎，還涵蓋 Python 多種套件應用，而且在人工智慧與機器學習、深度學習都有不少的實務範例，是學習 Python 程式設計與機器學習應用的最佳入門用書。\\r\\n```\\n  分類: 程式語言\\n  ', '\\n  書名: ```Python 工匠｜案例、技巧與開發實戰```\\n  描述: ```‧基礎程式設計素養與Python高級技巧的結合\\r\\n‧內容深入Python語言核心，精心挑選必要知識點\\r\\n‧透過有趣的「案例故事」表達有用的程式設計概念\\r\\n\\r\\n「本書致力於幫助大家寫出清晰易懂、層次分明的程式碼，既保障了軟體品質，又能為工程師累積良好的個人口碑。如同寫得一手好文章，寫得一手好程式碼也會獲得同行的尊重。」\\r\\n—黨受輝，騰訊IEG技術運營部助理總經理\\r\\n\\r\\n「本書描述了一些Python新手(甚至老手)會犯的錯誤，小到變數取名，大到程式結構，由淺入深、面面俱到。這是一本不可多得的實用好書，書中的很多技巧不僅適用於Python，使用其他程式設計語言的讀者也能受益良多。」\\r\\n—賴信濤，Shopee SRE\\r\\n\\r\\n「這不是一本語法書，而是一本關於專案實戰的書。它試圖告訴讀者：如何正確選擇和使用Python語言的各種特性，寫出執行速度更快、bug更少、易測試並且易維護的程式。」\\r\\n—@laike9m，「捕蛇者說」主播、Cyberbrain作者、Google工程師\\r\\n\\r\\n\\r\\n本書從專案實戰角度出發，透過剖析核心知識、展示經典案例與總結實用技巧，幫助讀者系統化掌握Python，寫好程式，做```\\n  分類: 程式語言\\n  ']\n",
      "['\\n  書名: ```AI 時代 Math 元年 - 用 Python 全精通統計及機率```\\n  描述: ```全書分為以下幾個部分：\\r\\n\\r\\n統計學：機率、高斯、隨機、頻率派開始談起，包括統計描述、古典機率模型、離散隨機變數、離散分佈、連續隨機變數及連續分佈一直到高斯部分，包括了一元、二元、多元、條件高斯分佈，中間也提到最重要的斜方差矩陣。\\r\\n\\r\\n再來的部分說明了隨機，包括了隨機變數，蒙地卡羅、頻率派統計、機率密度。\\r\\n\\r\\n接下來說明了貝氏定理部分，包括貝氏分類、進階貝氏分類、貝氏推斷入門及進階以及馬可夫鏈蒙地卡羅。\\r\\n\\r\\n最後一部分則以橢圓為主，包括了馬氏距離、線性迴歸及主成分分析，搭配本書系其它書籍，相信AI的數學，對你來說只會是開心而不是阻礙。\\r\\n\\r\\n\\xa0\\r\\n\\r\\n\\r\\n\\t宇宙的語言是數學，數學的精華是機率，機率的表達是統計！\\r\\n\\t機器學習、深度學習、人工智慧，控制系統都覆蓋的機率統計基礎\\r\\n\\t統計描述方法：描述、推斷、圖、差、位、距、值、度、變\\r\\n\\t古典機率、條件機率、全機率理論\\r\\n\\t離散變數、離散分佈、連續隨機變數\\r\\n\\t一元、二元、多元、條件高斯分佈、斜方差矩陣\\r\\n\\t隨機變數函式、蒙地卡羅模擬\\r\\n\\t頻率派統計、機率密度、機率質量\\r\\n\\t貝氏定理、貝氏分類、貝氏推斷、馬可夫鏈\\r\\n\\t馬氏距離、線性```\\n  分類: 程式語言\\n  ', '\\n  書名: ```最強 AI 投資分析：打造自己的股市顧問機器人，股票趨勢分析×年報解讀×選股推薦×風險管理```\\n  描述: ```\\r\\n內容介紹:\\r\\n\\r\\n\\xa0\\r\\n\\r\\n▌第一本 AI 投資專書 ▌\\r\\n\\r\\n\\xa0\\r\\n\\r\\n▌大型語言模型加持！▌\\r\\n\\r\\n\\xa0\\r\\n\\r\\n▌建構自己的股票／年報分析機器人 ▌\\r\\n\\r\\n\\xa0\\r\\n\\r\\n▌讓 AI 變成股市分析的神器 ▌\\r\\n\\r\\n\\r\\n\\r\\n在這數位資訊的創新時代 AI 與大型語言模型 LLM 已經徹底改變了投資業界的遊戲規則。過往需要仰賴投資團隊花費大量時間來解讀各種財務報表、進行分析的複雜工作 現在只需要一個人、一台電腦就能完成。對於小散戶而言 AI 能幫助我們自動化分析 挖掘出報表中隱藏的關鍵資訊 成為對抗市場主力的重要武器！本書將帶您：\\r\\n\\r\\n◆ 【建立正確的投資觀念】：還在聽股市名嘴胡扯瞎扯嗎？本書將從基礎的投資理論起手 帶領讀者建立正確的投資觀念 從基本面分析到技術面分析 並進一步探討 AI 在股票投資中的定位 助你洞悉多面向分析的重要性。\\r\\n\\r\\n◆ 【Python 雲端環境開發】：程式開發對你來說是場夢魘嗎？本書將所有程式部署在雲端環境中 免除本地環境配置的複雜度 一鍵就能輕鬆運行、進入 Python 股票分析的世界。\\r\\n\\r\\n◆ 【AI 股票趨勢分析】：在買賣股票的過程中 一般人常常會被情緒```\\n  分類: 人工智慧\\n  ', '\\n  書名: ```科技巨頭的演算法大揭祕：資料科學家必讀的資料科學與機器學習實戰筆記（iThome鐵人賽系列書）【軟精裝】```\\n  描述: ```【專業推薦】\\r\\n「本書非常有結構地介紹現在科技巨頭賴以維生的各種推薦與媒合演算法。內容由淺入深地討論這些科技巨頭如何使用海量數據來揣度人心，闡釋為何看似相同的推薦與媒合問題在不同公司卻有本家家難念的經。」\\r\\n\\r\\n─ 黃從仁，國立臺灣大學心理學系模型建構與資訊學實驗室\\r\\n\\r\\n\\r\\n\\r\\n【本書特色】\\r\\n\\r\\n學習頂尖公司的演算法與資料科學，啟發AI創新應用！\\r\\n完整蒐集頂尖科技公司的演算法，學習AI世界的經驗精華！\\r\\n全面解析及整理頂尖科技公司的機器學習模型，借鏡打造AI創新路徑！\\r\\n\\r\\n\\r\\n\\r\\n♚瞭解資料科學：說明資料科學概念，深入淺出演算法\\r\\n♚掌握實例應用：學習科技公司技術，掌握各種應用場景\\r\\n♚運用實戰案例：涵蓋各種機器學習模型來打造實用功能\\r\\n♚清楚內容編排：針對所需主題閱讀，充分理解演算法概念\\r\\n\\r\\n【內容簡介】\\r\\n本書內容改編自第14屆iThome鐵人賽AI&amp; Data組的冠軍系列文章《那些在科技公司和App背後的資料科學》。你是否好奇全球頂尖的科技公司是如何利用資料科學打造出創新且成功的產品呢？本書將會深入介紹Spotify、Meta、Netflix、Uber和Airb```\\n  分類: Data Science\\n  ']\n",
      "['\\n  書名: ```史上最強 Python 入門邁向頂尖高手之路王者歸來  3/e (全彩印刷)```\\n  描述: ```天瓏購書獨家贈送習題解答\\r\\n\\r\\n史上最強\\r\\n\\r\\nPython入門\\r\\n\\r\\n邁向頂尖高手之路\\r\\n\\r\\n王者歸來\\r\\n\\r\\n第3版(全彩印刷)\\r\\n\\r\\n\\xa0\\r\\n\\r\\n內容簡介\\r\\n\\r\\n★★★★★【內容最紮實、應用最廣】【40個主題】★★★★★\\r\\n\\r\\n★★★★★【程式實例最多】【約1280個Python實例】★★★★★\\r\\n\\r\\n★★★★★【18大類Python潛在應用】★★★★★\\r\\n\\r\\n★★★★★【400個是非題、選擇題】【280個習題實作題】★★★★★\\r\\n\\r\\n\\xa0\\xa0\\xa0 \\r\\n\\r\\n\\xa0\\xa0\\xa0 相較於第2版，第3版更增加Python深入解析、多執行緒、多媒體應用，機器人程式設計、同時使用更細緻的實例，增加下列知識：\\r\\n\\r\\n☆ 最新Python語法精神、效能發揮極致\\r\\n\\r\\n★ 徹底研究迭代器(iterator)、yield\\r\\n\\r\\n☆ 增加2D和3D動畫\\r\\n\\r\\n★ 傳送、接收與分析電子郵件\\r\\n\\r\\n☆ 發送會員信件與未繳會費的會員信件\\r\\n\\r\\n★ 多執行緒的應用 - 網路爬蟲、下載YouTube影片\\r\\n\\r\\n☆ ffmpeg支援影音檔案轉換\\r\\n\\r\\n★ 不同語言的文字、語音翻譯\\r\\n\\r\\n☆ AI股市數據分析，繪製與計算股票買賣點\\r\\n```\\n  分類: 程式語言\\n  ', '\\n  書名: ```從零開始學 Python 程式設計 (第三版修訂版)(適用 Python 3.10 以上)(暢銷回饋版)```\\n  描述: ```\\r\\n\\tPython入門經典好書，暢銷回饋中！\\r\\n\\t\\r\\n\\t【本書特色】\\r\\n\\t▶認識 Python 這個簡潔的程式語言，理論與實作並行\\r\\n\\t▶每個章節有豐富的範例，配合 Python Shell 的互動交談，更能得心應手\\r\\n\\t▶手把手導引，由函式出發，並學習物件導向的封裝、繼承和多型三大技術\\r\\n\\t▶課後評量使思考與操作並兼，可追蹤學習成效\\r\\n\\t\\r\\n\\t【本書簡介】\\r\\n\\t學習一個程式語言，Python 的簡潔、明瞭能讓初學者快速上手。一個簡單的，雖然 Python IDLE 環境很陽春，但有不錯的除錯功能，而附帶的 Visual Studio Code 可以讓我們在學習中擁有意外之喜。簡單的敘述可以在 Python Shell 這個互動交談模式獲得解答。除了 Python 的內建模組，也一起認識第三方套件的詞雲、Pyinstaller。由於 Python 能討論的內容非常豐富，本書僅能就初學者讓大家認識 Python 語言的魅力，透過本書做通盤性認識，全書重要主題如下：\\r\\n\\t\\r\\n\\t•Python 異想世界\\r\\n\\t•Python 基本語法\\r\\n\\t•運算子與條件選擇\\r\\n\\t•廻圈控制\\r\\n\\t•序列型別和字```\\n  分類: 程式語言\\n  ', '\\n  書名: ```Python 工匠｜案例、技巧與開發實戰```\\n  描述: ```‧基礎程式設計素養與Python高級技巧的結合\\r\\n‧內容深入Python語言核心，精心挑選必要知識點\\r\\n‧透過有趣的「案例故事」表達有用的程式設計概念\\r\\n\\r\\n「本書致力於幫助大家寫出清晰易懂、層次分明的程式碼，既保障了軟體品質，又能為工程師累積良好的個人口碑。如同寫得一手好文章，寫得一手好程式碼也會獲得同行的尊重。」\\r\\n—黨受輝，騰訊IEG技術運營部助理總經理\\r\\n\\r\\n「本書描述了一些Python新手(甚至老手)會犯的錯誤，小到變數取名，大到程式結構，由淺入深、面面俱到。這是一本不可多得的實用好書，書中的很多技巧不僅適用於Python，使用其他程式設計語言的讀者也能受益良多。」\\r\\n—賴信濤，Shopee SRE\\r\\n\\r\\n「這不是一本語法書，而是一本關於專案實戰的書。它試圖告訴讀者：如何正確選擇和使用Python語言的各種特性，寫出執行速度更快、bug更少、易測試並且易維護的程式。」\\r\\n—@laike9m，「捕蛇者說」主播、Cyberbrain作者、Google工程師\\r\\n\\r\\n\\r\\n本書從專案實戰角度出發，透過剖析核心知識、展示經典案例與總結實用技巧，幫助讀者系統化掌握Python，寫好程式，做```\\n  分類: 程式語言\\n  ']\n",
      "['\\n  書名: ```改變人類未來的七大科技革命：AI 人工智慧、區塊鏈、VR/AR、機器人學、物聯網、雲端運算、元宇宙```\\n  描述: ```★給對充滿問號的自己一個瞭解未來趨勢的勇氣書★\\r\\n★給學習成為世界主人的未來人才★\\r\\n\\r\\n\\r\\n\\u3000\\u3000你是不是在2021年末上映的知電影續集《駭客任務：復活》情節中看過基奴李維身穿「Manus VR 數據手套、光學動作捕捉系統」進行精準的捕捉動作。由於手部是非常精細的動作因此需要使用「Manus VR 數據手套」才能夠精準套用動作的數據；而在1992年元宇宙被提出來以前，就有電影「電子世界爭霸戰」出現過類似元宇宙的概念，隨後相繼上映的1999年「駭客任務」、「異次元駭客、2009年「夏日大作戰」、2016年「聖朱尼佩洛」、2018年「一級玩家」等都有提出元宇宙的相關概念。\\r\\n\\r\\n\\u3000\\u3000當這世界在演變的過程中，傳統事業以及行銷經營的手法，面臨「絕路」是預料中的事，只是這幾年因為新冠疫情讓這時間更提早了一些！\\r\\n\\r\\n\\u3000\\u3000更令人驚訝的是，已經超前進入數位世界的人們，在疫情期間瞬間增長了數倍，那些數位世界的人已經快速移居到全新的「網路新都市」中，如果現在仍滿足於舊有世界的成就，未來形成兩個世界巨大的差距即將到來……\\r\\n\\r\\n\\u3000\\u3000閱讀本書七大科技的內容，才能企劃新的商業模式，為垂死的商業注入新的想像力，```\\n  分類: 人工智慧\\n  ', '\\n  書名: ```改變人類未來的七大科技革命：AI 人工智慧、區塊鏈、VR/AR、機器人學、物聯網、雲端運算、元宇宙```\\n  描述: ```★給對充滿問號的自己一個瞭解未來趨勢的勇氣書★\\r\\n★給學習成為世界主人的未來人才★\\r\\n\\r\\n\\r\\n\\u3000\\u3000你是不是在2021年末上映的知電影續集《駭客任務：復活》情節中看過基奴李維身穿「Manus VR 數據手套、光學動作捕捉系統」進行精準的捕捉動作。由於手部是非常精細的動作因此需要使用「Manus VR 數據手套」才能夠精準套用動作的數據；而在1992年元宇宙被提出來以前，就有電影「電子世界爭霸戰」出現過類似元宇宙的概念，隨後相繼上映的1999年「駭客任務」、「異次元駭客、2009年「夏日大作戰」、2016年「聖朱尼佩洛」、2018年「一級玩家」等都有提出元宇宙的相關概念。\\r\\n\\r\\n\\u3000\\u3000當這世界在演變的過程中，傳統事業以及行銷經營的手法，面臨「絕路」是預料中的事，只是這幾年因為新冠疫情讓這時間更提早了一些！\\r\\n\\r\\n\\u3000\\u3000更令人驚訝的是，已經超前進入數位世界的人們，在疫情期間瞬間增長了數倍，那些數位世界的人已經快速移居到全新的「網路新都市」中，如果現在仍滿足於舊有世界的成就，未來形成兩個世界巨大的差距即將到來……\\r\\n\\r\\n\\u3000\\u3000閱讀本書七大科技的內容，才能企劃新的商業模式，為垂死的商業注入新的想像力，```\\n  分類: 人工智慧\\n  ', '\\n  書名: ```AI生成時代的工作革命：洞悉開始自主學習的AI將引爆的連續變革，在企業壽命縮短的大趨勢下提早掌握延長個人職涯的邏輯、能力與策略```\\n  描述: ```\\u3000\\u3000「不是AI搶走了我們的工作，而是那些精通AI應用的人正在奪走我們的工作！」──Nvidia CEO 黃仁勳\\r\\n\\r\\n\\xa0\\r\\n\\r\\n\\u3000\\u3000韓國企業最推崇的科技趨勢專家尹惠植，運用27年來累積豐厚的趨勢預測能力，為難以預測的未來，歸納出簡明路徑，幫助工作者在產業趨勢、工作型態、個人職務面臨前所未有的變革前，提早掌握AI生成時代的競爭優勢。\\r\\n\\r\\n\\xa0\\r\\n\\r\\n\\u3000\\u3000AI發展飛速，從機器學習到深度學習，再到引起全球企業爭相投入。\\r\\n\\r\\n\\xa0\\r\\n\\r\\n\\u3000\\u3000引爆AI發展的ChatGPT是什麼？將帶來什麼樣的改變？ ChatGPT展示了超越人類的寫作能力和創造力，是一種新服務，讓人們能用聊天的方式詢問AI 自己有興趣的問題並展開對話。\\r\\n\\r\\n\\xa0\\r\\n\\r\\n\\u3000\\u3000隨著ChatGPT出現與普及，未來將新增6900萬個工作機會，自ChatGPT問世以來，全球每天都有數百種新的AI技術應用湧現。\\r\\n\\r\\n\\xa0\\r\\n\\r\\n\\u3000\\u3000掌握世界主流趨勢，就能預見未來，擬定面向未來的新職涯策略，了解關於AI的基礎知識，恐懼就會變成希望。\\r\\n\\r\\n\\u3000\\r\\n\\r\\n\\u3000\\u3000由引領韓國大型企業成功變革的科技趨勢專家，從三個部分帶領大家從了解基礎到實際應用，學習如何```\\n  分類: 人工智慧\\n  ']\n",
      "['\\n  書名: ```電子商務與 ChatGPT：物聯網 ‧ KOL直播 ‧ 區塊鏈‧  社群行銷 ‧ 大數據 ‧ 智慧商務```\\n  描述: ```\\r\\n\\t電子商務是利用網路進行銷售或交換產品與服務，並達到降低成本要求的現代化經營模式，隨著資訊科技進步與網路交易平台流程的改善，無國界、零時差的電商模式早已成為產品銷售的新契機。\\r\\n\\t\\r\\n\\t本書為學習電子商務與網路行銷實務和理論兼備的實用教材，相關主題及重要觀念皆完整且詳實地說明，並以「焦點專題」的專欄形式介紹熱門議題案例，包括：跨境電商、群眾募資、直播帶貨、大數據、區塊鏈與比特幣、智慧商務、企業電子化、供應鏈管理、博客來CRM、行動學習、SEO、OBS直播工具、創用CC授權…等，可讓讀者在輕鬆的狀態下獲取重要新知。\\r\\n\\t\\r\\n\\t此外，也加入了由OpenAI推出的ChatGPT聊天機器人內容：ChatGPT在電商領域提供AI客服、語言翻譯、行銷內容創作等應用，協助將YouTube影片轉檔，並活用GPT-4寫文案等。\\r\\n\\t\\r\\n\\t【本書特色】\\r\\n\\t✔內容淺顯且全面地說明電子商務必須要懂的資訊，輕鬆理解EC精要\\r\\n\\t✔呼應各章主題，嚴選熱門國內外知名案例，焦點專題實用解析\\r\\n\\t✔運用簡潔圖表取代抽象敘述，引導讀者快速吸收重要知識點\\r\\n\\t✔貼心叮嚀TIPS、章末問題討論，強化學習回顧及深入思考\\r```\\n  分類: 物聯網 IoT\\n  ', '\\n  書名: ```ChatGPT 網路行銷：利用爆紅 AI 工具，創造精準又吸睛的網路商機```\\n  描述: ```了解網路、選對工具，掌握關鍵影響力，創造流量密碼活絡網路買氣\\r\\n\\r\\n本書以輕鬆入門的方式，系統化地介紹網路行銷的重要知識與行銷工具，亮點資訊包括：網路行銷4P、網路STP策略規劃、網路廣告、Email行銷、EDM行銷、病毒式行銷、飢餓行銷、行動裝置線上服務平台、App行銷、行動支付、電商網站製作、UI/UX、社群行銷、YouTube行銷、微電影行銷、大數據行銷、全通路攻略、擴增實境(AR)行銷、虛擬實境(VR)行銷、智慧家電行銷、ChatGPT在行銷領域的應用、GPT-4撰寫行銷文、AI寫FB(或IG、Google、短影片)文案、利用ChatGPT發想企劃案、SEO、關鍵字廣告、網紅行銷…等。\\r\\n\\r\\n為了讓讀者能接觸較實務的網路行銷工具，書中也安排了「專題演練」單元，例如手遊行銷的SWOT分析、網路行銷的量化指標、店家LINE官方帳號行銷、Google Sites網站設計、Instagram視覺化行銷、直播帶貨、實戰大數據與Power BI、製作觸及率翻倍的短影片、Google我的商家、Google Analytics數據分析。重點特色如下：\\r\\n☑架構簡潔，結合淺顯概念，最佳入門首選\\r```\\n  分類: 人工智慧\\n  ', '\\n  書名: ```[精準活用祕笈] 超實用！ChatGPT 與 Excel 必備省時函數的巧妙運用：利用 AI 提高數據整理與統計運算分析```\\n  描述: ```本書特色\\r\\n📢快速了解公式及函數重要知識點\\r\\n📢熟悉學術、生活及職場應用的必備函數\\r\\n📢方便查詢函數功能、語法、參數與實例\\r\\n📢除了傳統函數外，也介紹最新版函數\\r\\n📢提供大量應用實例，有助提昇工作效率\\r\\n📢實戰ChatGPT大師級函數提示技巧與範例\\r\\n\\r\\n本書整理大數據、人資、行政、總務、業務、會計、生管、財務、企宣、公務員、市場調查、銷售管理、產品研發…等商務應用、資料分析的重要函數。為了方便每一位讀者操作學習，所有實例都附有原始的範例檔案，並提供執行結果檔案。\\r\\n\\r\\n在章節架構的安排上，第一章先介紹公式與函數的重要知識點，從第二章到第八章則介紹各種類別的實用函數，包括數值運算、邏輯、統計、資料取得、日期、時間、字串、財務、會計、資料驗證、資訊、查閱與參照等。所有介紹的函數都有對應的實例教學，而且每一個函數的介紹安排，包括功能說明、通用語法、引數解說、實作前的範例檔案、操作過程及實作後的成果展示。\\r\\n\\r\\n第九章包含了幾個完整的商務綜合範例，例如職訓練成績計算排名和查詢、現金流量表等。\\r\\n\\r\\n此外，本書還新增了「實戰ChatGPT大師級函數提示技巧與範例」精彩單元，內容包括：\\r\\n➤人工```\\n  分類: 人工智慧\\n  ']\n",
      "['\\n  書名: ```改變人類未來的七大科技革命：AI 人工智慧、區塊鏈、VR/AR、機器人學、物聯網、雲端運算、元宇宙```\\n  描述: ```★給對充滿問號的自己一個瞭解未來趨勢的勇氣書★\\r\\n★給學習成為世界主人的未來人才★\\r\\n\\r\\n\\r\\n\\u3000\\u3000你是不是在2021年末上映的知電影續集《駭客任務：復活》情節中看過基奴李維身穿「Manus VR 數據手套、光學動作捕捉系統」進行精準的捕捉動作。由於手部是非常精細的動作因此需要使用「Manus VR 數據手套」才能夠精準套用動作的數據；而在1992年元宇宙被提出來以前，就有電影「電子世界爭霸戰」出現過類似元宇宙的概念，隨後相繼上映的1999年「駭客任務」、「異次元駭客、2009年「夏日大作戰」、2016年「聖朱尼佩洛」、2018年「一級玩家」等都有提出元宇宙的相關概念。\\r\\n\\r\\n\\u3000\\u3000當這世界在演變的過程中，傳統事業以及行銷經營的手法，面臨「絕路」是預料中的事，只是這幾年因為新冠疫情讓這時間更提早了一些！\\r\\n\\r\\n\\u3000\\u3000更令人驚訝的是，已經超前進入數位世界的人們，在疫情期間瞬間增長了數倍，那些數位世界的人已經快速移居到全新的「網路新都市」中，如果現在仍滿足於舊有世界的成就，未來形成兩個世界巨大的差距即將到來……\\r\\n\\r\\n\\u3000\\u3000閱讀本書七大科技的內容，才能企劃新的商業模式，為垂死的商業注入新的想像力，```\\n  分類: 人工智慧\\n  ', '\\n  書名: ```改變人類未來的七大科技革命：AI 人工智慧、區塊鏈、VR/AR、機器人學、物聯網、雲端運算、元宇宙```\\n  描述: ```★給對充滿問號的自己一個瞭解未來趨勢的勇氣書★\\r\\n★給學習成為世界主人的未來人才★\\r\\n\\r\\n\\r\\n\\u3000\\u3000你是不是在2021年末上映的知電影續集《駭客任務：復活》情節中看過基奴李維身穿「Manus VR 數據手套、光學動作捕捉系統」進行精準的捕捉動作。由於手部是非常精細的動作因此需要使用「Manus VR 數據手套」才能夠精準套用動作的數據；而在1992年元宇宙被提出來以前，就有電影「電子世界爭霸戰」出現過類似元宇宙的概念，隨後相繼上映的1999年「駭客任務」、「異次元駭客、2009年「夏日大作戰」、2016年「聖朱尼佩洛」、2018年「一級玩家」等都有提出元宇宙的相關概念。\\r\\n\\r\\n\\u3000\\u3000當這世界在演變的過程中，傳統事業以及行銷經營的手法，面臨「絕路」是預料中的事，只是這幾年因為新冠疫情讓這時間更提早了一些！\\r\\n\\r\\n\\u3000\\u3000更令人驚訝的是，已經超前進入數位世界的人們，在疫情期間瞬間增長了數倍，那些數位世界的人已經快速移居到全新的「網路新都市」中，如果現在仍滿足於舊有世界的成就，未來形成兩個世界巨大的差距即將到來……\\r\\n\\r\\n\\u3000\\u3000閱讀本書七大科技的內容，才能企劃新的商業模式，為垂死的商業注入新的想像力，```\\n  分類: 人工智慧\\n  ', '\\n  書名: ```哈佛商業評論推薦必讀AI趨勢```\\n  描述: ```\\u3000\\u3000一本掌握人工智慧商業新價值\\r\\n\\u3000\\u3000利用AI轉型，將是新時代企業的成功關鍵\\r\\n\\r\\n\\u3000\\u3000全球最具指標性的管理雜誌《哈佛商業評論》精選文章\\r\\n\\u3000\\u3000幫助經理人全方位了解AI趨勢、應用範圍與商業潛力\\r\\n\\r\\n\\u3000\\u3000隨著ChatGPT引爆AI應用的無限可能，企業也進入AI轉型戰。當生成式AI顛覆商業遊戲規則，帶領組織AI轉型，學會與AI共事，才能不被市場淘汰。\\r\\n\\r\\n\\u3000\\u3000本書收錄《哈佛商業評論》近期探討AI最重要的文章，從經營、行銷、轉型、人力資源、產品定價等各個面向探討所有經理人必須了解的AI趨勢，包括：\\r\\n\\r\\n\\u3000\\u3000．ChatGPT如何改變機器與人類協作的工作方式\\r\\n\\u3000\\u3000．正確應用AI行銷的方法\\r\\n\\u3000\\u3000．成功採用機器學習的策略\\r\\n\\u3000\\u3000．利用演算法為產品定價有什麼問題\\r\\n\\u3000\\u3000．聰明使用機器人的策略\\r\\n\\u3000\\u3000．如何培養員工的「數位心態」，加速企業轉型\\r\\n\\u3000\\u3000．啟動AI轉型萬無一失的方法\\r\\n\\u3000\\u3000．降低AI產品帶來的道德風險\\r\\n\\u3000\\u3000．人工智慧啟動的新市場與新商戰模式\\r\\n\\r\\n\\u3000\\u3000無論是資深經理人、企業領導人或新創企業家，都能在這本書中找到AI趨勢影響商業的關鍵思維，本書將引領你與團隊探索AI的前瞻可能，將事```\\n  分類: 人工智慧\\n  ']\n",
      "['\\n  書名: ```電腦軟體設計丙級技能檢定學術科｜使用 C#```\\n  描述: ```依據勞動部勞動力發展署技能檢定中心最新學術科試題規劃解題\\r\\n\\r\\n術科篇\\r\\n＊最新術科試題：\\r\\n術科第一套試題：程式語言(C#)基本指令操作1060301~1060305 五題。\\r\\n術科第二套試題：程式語言(C#)應用程式設計1060306~1060308 三題。\\r\\n\\r\\n學科篇\\r\\n＊最新公告學科試題單選題509題。\\r\\n＊學科共同科目，90006職業安全衛生/90007工作倫理與職業道德/90008環境保護/90009節能減碳共同科目共400題；90011資訊相關職類共用工作項目119題。\\r\\n\\r\\n本書特色\\r\\n＊術科內容撰寫循序漸進，帶領讀者認識C#，解題前的「快速入門」，初學者也能輕鬆學習。\\r\\n＊術科題目，解說詳盡。精簡的程式實作範例，讓讀者輕鬆學會C#程式語法，寫出結構化C#程式。\\r\\n＊學科試題含電腦概論、程式設計、資訊職類共同工作項目，附有難題解析。\\r\\n＊詳讀章節內容，熟悉指令、語法、資料結構及邏輯，反覆練習即能通過考試取得證照。\\r\\n\\r\\n\\r\\n\\r\\n\\r\\n\\xa0\\r\\n```\\n  分類: 考試認證\\n  ', '\\n  書名: ```電腦硬體裝修丙級檢定學術科解題教本 (第三版)｜Windows 10 + Ubuntu 18```\\n  描述: ```◆本書依據勞動部勞動力發展署技能檢定中心最新公告，電腦硬體裝修丙級術科試題撰寫。\\r\\n\\r\\n術科篇：113年啟用術科試題\\r\\n1.針對電腦硬體裝修丙級技能檢定的術科試題，做詳盡的操作步驟解說，並說明術科檢定評分重點及考試策略。\\r\\n2.引導您完成檢定「各站題目要求及操作」與「個人電腦拆裝及故障點檢測」，讓考生考試作答時輕易得分。\\r\\n3.圖解式教學，循序漸進，鉅細靡遺，為技術士檢定或電腦組裝DIY的最佳自修教材。\\r\\n4.軟體環境安裝與設定使用作業系統以Windows 10/Ubuntu 18編寫。\\r\\n5.Ubuntu安裝速度較快且簡易，協助考生能更順利安裝，完成考題需求。\\r\\n\\r\\n學科篇：\\r\\n1.完整學科試題707題，輔以難題解析，協助考生理解。\\r\\n2.包含90006職業安全衛生/90007工作倫理與職業道德/90008環境保護/90009節能減碳共同科目400題；90011資訊相關職類共用工作項目119題。\\r\\n\\r\\n教學影片，掃描書中QRCode即可觀看：\\r\\n★術科第一站-硬體拆裝影片\\r\\n★術科第二站-Windows 10安裝及設定\\r\\n★術科第二站-Ubuntu 18安裝及設定\\r\\n\\r\\n附錄：\\r\\n★```\\n  分類: 考試認證\\n  ', '\\n  書名: ```升科大四技－程式設計實習總複習 (2024最新版)```\\n  描述: ```本書特色\\r\\n\\r\\n1.重點整理\\r\\n將各章節重點以條例式敘述，使同學能在最短的時間內，以最簡單的方法充分而有效的掌握研讀重點及命題方向，以收事半功倍之效。\\r\\n2.範例講解\\r\\n文字說明佐以圖解，以期對題目的完全解析、充分理解。\\r\\n3.學生練習\\r\\n同學在研讀範例後能立即練習。\\r\\n4.精選試題及歷屆試題\\r\\n依各章節範圍分類，擷取類題及近年重要升學考試歷屆試題之代表題型，部份題目融入素養題型，精簡扼要，期使讀者掌握命題要訣，金榜題名。\\r\\n\\r\\n內容簡介\\r\\n\\r\\n一、本書是根據中華民國一○七年教育部發布之十二年國民基本教育技術型高級中等學校群科課程綱要－電機與電子群「程式設計實習」課程標準，經擷取各版本教科書精華，融合筆者多年輔導升學經驗，精心編輯而成。\\r\\n二、每一章節皆有老師講解與學生練習，且依各章節範圍分類，擷取近年來的精選試題，並附有詳解，可供同學多方練習並迅速吸收。配合新課程方針，以簡單的說明，使同學有效率的學習。\\r\\n```\\n  分類: 程式語言\\n  ']\n",
      "['\\n  書名: ```LangChain 開發手冊 -- OpenAI × LCEL 表達式 × Agent 自動化流程 × RAG 擴展模型知識 × 圖形資料庫 × LangSmith 除錯工具```\\n  描述: ```\\r\\n內容介紹:\\r\\n\\r\\n整合大型語言模型能力開發應用程式已成為一股不可阻擋的趨勢 利用 LangChain 框架可以快速開發讓使用者透過自然語言就能自動化處理任務的應用程式 大大提高工作效率。LangChain 解決了開發過程中與語言模型溝通必須撰寫大量複雜程式碼的問題 透過模板機制可以隨時將額外的資訊填補到提示中 利用工具機制可以讓模型使用我們所撰寫的外部函式 更提供有許多現成的工具節省開發者重新發明輪子的時間 還可透過 Agent 機制整合上述功能 讓你的程式變成自主決策、自動運作的代理機器人。LangChain 還提供有 RAG 機制與串接圖形資料庫的功能 讓你可以擴展模型知識 解放限制。\\r\\n\\r\\n|善用模板化機制彈性增、修提示內容 讓模型生成正確結果|\\r\\n\\r\\n客製具有彈性的提示模板 根據不同情境替換部分提示內容 讓模型依據提示模板回覆結果。本書會介紹 LangChain 的提示模板機制彈性替換部分提示內容的方式 也會展示在模板中嵌入函式替換即時時間 讓模型知道現在的時空背景。\\r\\n\\r\\n|深入輸出內容解析器 |\\r\\n\\r\\n輸出內容解析器可以讓模型以指定格式的資料結構傳回結果 不論是 JSO```\\n  分類: 資料庫\\n  ', '\\n  書名: ```最強 AI 投資分析：打造自己的股市顧問機器人，股票趨勢分析×年報解讀×選股推薦×風險管理```\\n  描述: ```\\r\\n內容介紹:\\r\\n\\r\\n\\xa0\\r\\n\\r\\n▌第一本 AI 投資專書 ▌\\r\\n\\r\\n\\xa0\\r\\n\\r\\n▌大型語言模型加持！▌\\r\\n\\r\\n\\xa0\\r\\n\\r\\n▌建構自己的股票／年報分析機器人 ▌\\r\\n\\r\\n\\xa0\\r\\n\\r\\n▌讓 AI 變成股市分析的神器 ▌\\r\\n\\r\\n\\r\\n\\r\\n在這數位資訊的創新時代 AI 與大型語言模型 LLM 已經徹底改變了投資業界的遊戲規則。過往需要仰賴投資團隊花費大量時間來解讀各種財務報表、進行分析的複雜工作 現在只需要一個人、一台電腦就能完成。對於小散戶而言 AI 能幫助我們自動化分析 挖掘出報表中隱藏的關鍵資訊 成為對抗市場主力的重要武器！本書將帶您：\\r\\n\\r\\n◆ 【建立正確的投資觀念】：還在聽股市名嘴胡扯瞎扯嗎？本書將從基礎的投資理論起手 帶領讀者建立正確的投資觀念 從基本面分析到技術面分析 並進一步探討 AI 在股票投資中的定位 助你洞悉多面向分析的重要性。\\r\\n\\r\\n◆ 【Python 雲端環境開發】：程式開發對你來說是場夢魘嗎？本書將所有程式部署在雲端環境中 免除本地環境配置的複雜度 一鍵就能輕鬆運行、進入 Python 股票分析的世界。\\r\\n\\r\\n◆ 【AI 股票趨勢分析】：在買賣股票的過程中 一般人常常會被情緒```\\n  分類: 人工智慧\\n  ', '\\n  書名: ```Power Automate 自動化大全：串接 Excel、ChatGPT、SQL 指令，打造報表處理、網路爬蟲、資料分析超高效流程```\\n  描述: ```\\r\\n內容介紹:\\r\\n\\r\\n\\xa0\\r\\n\\r\\n\\r\\n「同事下班壓線交報告 苦了你還要加班一份份貼到 Excel 彙總交出去...」\\r\\n「周年慶到處收集對手的促銷資訊 不斷複製、貼上 做到有點懷疑人生...」\\r\\n「每天收不完的 Email 要篩出報價單另存、轉寄真麻煩 不小心忘了改檔名還要從茫茫郵件中挖出來...」\\r\\n\\r\\n以往這些日常瑣事只能自己解決 比較有經驗的人可能懂得找 IT 部門幫忙寫程式自動處理。\\r\\n現在你不用再自己默默承擔 也不用拜託別人 統統交給 Power Automate 就搞定了！\\r\\n\\r\\n\\r\\n\\r\\nPower Automate 是微軟強力推廣的自動化工具 不須撰寫程式就可以完成各種自動化的流程作業。本書是市面上最完整的 Power Automate 專書 教導你如何善用各種內建功能 搭配 Excel、ChatGPT 和 SQL 查詢語法 將日常工作打造成簡便的自動化程序。全書共收錄【超過 100 個】日常操作應用例，工作上常遇到的各種重複、單調的作業，現在統統幫你轉化為自動執行的程序。\\r\\n\\r\\n◆ 用日期和代號幫不同業務的報表重新命名\\r\\n◆ 自動統計、篩選出不同業務區的季報表\\r\\n◆ 將總```\\n  分類: Data Science\\n  ']\n",
      "['\\n  書名: ```Power Automate 自動化大全：串接 Excel、ChatGPT、SQL 指令，打造報表處理、網路爬蟲、資料分析超高效流程```\\n  描述: ```\\r\\n內容介紹:\\r\\n\\r\\n\\xa0\\r\\n\\r\\n\\r\\n「同事下班壓線交報告 苦了你還要加班一份份貼到 Excel 彙總交出去...」\\r\\n「周年慶到處收集對手的促銷資訊 不斷複製、貼上 做到有點懷疑人生...」\\r\\n「每天收不完的 Email 要篩出報價單另存、轉寄真麻煩 不小心忘了改檔名還要從茫茫郵件中挖出來...」\\r\\n\\r\\n以往這些日常瑣事只能自己解決 比較有經驗的人可能懂得找 IT 部門幫忙寫程式自動處理。\\r\\n現在你不用再自己默默承擔 也不用拜託別人 統統交給 Power Automate 就搞定了！\\r\\n\\r\\n\\r\\n\\r\\nPower Automate 是微軟強力推廣的自動化工具 不須撰寫程式就可以完成各種自動化的流程作業。本書是市面上最完整的 Power Automate 專書 教導你如何善用各種內建功能 搭配 Excel、ChatGPT 和 SQL 查詢語法 將日常工作打造成簡便的自動化程序。全書共收錄【超過 100 個】日常操作應用例，工作上常遇到的各種重複、單調的作業，現在統統幫你轉化為自動執行的程序。\\r\\n\\r\\n◆ 用日期和代號幫不同業務的報表重新命名\\r\\n◆ 自動統計、篩選出不同業務區的季報表\\r\\n◆ 將總```\\n  分類: Data Science\\n  ', '\\n  書名: ```文科生也可以輕鬆學會 Web Scraper 網路爬蟲與 Power Automate X Excel 大數據分析```\\n  描述: ```不用動手寫程式，讓Web Scraper爬蟲 X Power Automate自動化工具幫你搞定！\\r\\n•\\u3000活用ChatGPT學習網路爬蟲、大數據分析和辦公室自動化\\r\\n•\\u3000ChatGPT學習SQL語法，建立高效率Excel資料處理術\\r\\n\\r\\n⭐️ Web Scraper是第一名Chrome擴充功能的爬蟲工具，不用撰寫程式碼，就可以建立CSS選擇器的網站爬取地圖從網站擷取資料，本書不只教你利用內建視覺化工具輕鬆爬取Web網站，更能夠使用ChatGPT學習HTML標籤+CSS選擇器，並了解各種網站巡覽結構。\\r\\n\\r\\n⭐️ Power Automate Desktop自動化工具，可以建立流程來執行一系列動作，輕鬆打造Windows應用程式和Excel自動化，來提高辦公室的工作效率，不只如此，再搭配書中使用ChatGPT學習SQL語法後，我們更可以整合Power Automate Desktop + SQL建立高效率的Excel資料處理。\\r\\n```\\n  分類: Data Science\\n  ', '\\n  書名: ```IBM 部長強力推薦的 Excel 商用技巧：用大數據分析商品、達成預算、美化報告的70個絕招！(暢銷限定版)```\\n  描述: ```★全圖示╳全解說\\r\\n無論是大數據、物聯網，\\r\\n還是推特、臉書上沒秩序的發文，\\r\\n你都能用超強的Excel技巧，\\r\\n0.1秒內看穿獲利契機，做出最佳決策！\\r\\n\\r\\n\\r\\n\\u3000\\u3000‧每次用Excel製作圖表總搞得頭昏眼花，難道沒有輕鬆有效的方法？\\r\\n\\u3000\\u3000‧怎樣學會「商業分析」的專業技能，看透大量繁雜的資料和數據？\\r\\n\\u3000\\u3000‧如何解讀Excel資料做出結論，讓簡報充滿說服力，導出好決策？\\r\\n\\r\\n\\u3000\\u3000AI時代來臨，商務情報、社群網站、電子郵件……全球資訊量暴增，唯有掌握資訊，才能在商戰中勝出。因此，不論是大企業還是小公司，不論是主管還是員工，學會Excel商用技巧，活用大數據和資料，就可以成為「數據智慧型」的公司和人才！\\r\\n\\u3000\\r\\n\\u3000\\u3000★★日本IBM部長，親自傳授Excel商用技巧\\r\\n\\u3000\\u3000本書作者加藤昌生，曾擔任日本IBM商業分析部門的培訓部長，他精通企業管理系統、商業資料分析、AI與IoE/IoT，時常幫助企業經營者或管理幹部解決難題。過去在一次工作會面中，受到APPLE創辦人賈伯斯的鼓勵期許：「要成為全球認可的商務人士。」\\r\\n\\r\\n\\u3000\\u3000為了讓大家也成為全球認可的商務人士，加藤昌生特別傳授70個Excel```\\n  分類: Data Science\\n  ']\n",
      "['\\n  書名: ```科技巨頭的演算法大揭祕：資料科學家必讀的資料科學與機器學習實戰筆記（iThome鐵人賽系列書）【軟精裝】```\\n  描述: ```【專業推薦】\\r\\n「本書非常有結構地介紹現在科技巨頭賴以維生的各種推薦與媒合演算法。內容由淺入深地討論這些科技巨頭如何使用海量數據來揣度人心，闡釋為何看似相同的推薦與媒合問題在不同公司卻有本家家難念的經。」\\r\\n\\r\\n─ 黃從仁，國立臺灣大學心理學系模型建構與資訊學實驗室\\r\\n\\r\\n\\r\\n\\r\\n【本書特色】\\r\\n\\r\\n學習頂尖公司的演算法與資料科學，啟發AI創新應用！\\r\\n完整蒐集頂尖科技公司的演算法，學習AI世界的經驗精華！\\r\\n全面解析及整理頂尖科技公司的機器學習模型，借鏡打造AI創新路徑！\\r\\n\\r\\n\\r\\n\\r\\n♚瞭解資料科學：說明資料科學概念，深入淺出演算法\\r\\n♚掌握實例應用：學習科技公司技術，掌握各種應用場景\\r\\n♚運用實戰案例：涵蓋各種機器學習模型來打造實用功能\\r\\n♚清楚內容編排：針對所需主題閱讀，充分理解演算法概念\\r\\n\\r\\n【內容簡介】\\r\\n本書內容改編自第14屆iThome鐵人賽AI&amp; Data組的冠軍系列文章《那些在科技公司和App背後的資料科學》。你是否好奇全球頂尖的科技公司是如何利用資料科學打造出創新且成功的產品呢？本書將會深入介紹Spotify、Meta、Netflix、Uber和Airb```\\n  分類: Data Science\\n  ', '\\n  書名: ```哈佛商業評論推薦必讀AI趨勢```\\n  描述: ```\\u3000\\u3000一本掌握人工智慧商業新價值\\r\\n\\u3000\\u3000利用AI轉型，將是新時代企業的成功關鍵\\r\\n\\r\\n\\u3000\\u3000全球最具指標性的管理雜誌《哈佛商業評論》精選文章\\r\\n\\u3000\\u3000幫助經理人全方位了解AI趨勢、應用範圍與商業潛力\\r\\n\\r\\n\\u3000\\u3000隨著ChatGPT引爆AI應用的無限可能，企業也進入AI轉型戰。當生成式AI顛覆商業遊戲規則，帶領組織AI轉型，學會與AI共事，才能不被市場淘汰。\\r\\n\\r\\n\\u3000\\u3000本書收錄《哈佛商業評論》近期探討AI最重要的文章，從經營、行銷、轉型、人力資源、產品定價等各個面向探討所有經理人必須了解的AI趨勢，包括：\\r\\n\\r\\n\\u3000\\u3000．ChatGPT如何改變機器與人類協作的工作方式\\r\\n\\u3000\\u3000．正確應用AI行銷的方法\\r\\n\\u3000\\u3000．成功採用機器學習的策略\\r\\n\\u3000\\u3000．利用演算法為產品定價有什麼問題\\r\\n\\u3000\\u3000．聰明使用機器人的策略\\r\\n\\u3000\\u3000．如何培養員工的「數位心態」，加速企業轉型\\r\\n\\u3000\\u3000．啟動AI轉型萬無一失的方法\\r\\n\\u3000\\u3000．降低AI產品帶來的道德風險\\r\\n\\u3000\\u3000．人工智慧啟動的新市場與新商戰模式\\r\\n\\r\\n\\u3000\\u3000無論是資深經理人、企業領導人或新創企業家，都能在這本書中找到AI趨勢影響商業的關鍵思維，本書將引領你與團隊探索AI的前瞻可能，將事```\\n  分類: 人工智慧\\n  ', '\\n  書名: ```最強 AI 投資分析：打造自己的股市顧問機器人，股票趨勢分析×年報解讀×選股推薦×風險管理```\\n  描述: ```\\r\\n內容介紹:\\r\\n\\r\\n\\xa0\\r\\n\\r\\n▌第一本 AI 投資專書 ▌\\r\\n\\r\\n\\xa0\\r\\n\\r\\n▌大型語言模型加持！▌\\r\\n\\r\\n\\xa0\\r\\n\\r\\n▌建構自己的股票／年報分析機器人 ▌\\r\\n\\r\\n\\xa0\\r\\n\\r\\n▌讓 AI 變成股市分析的神器 ▌\\r\\n\\r\\n\\r\\n\\r\\n在這數位資訊的創新時代 AI 與大型語言模型 LLM 已經徹底改變了投資業界的遊戲規則。過往需要仰賴投資團隊花費大量時間來解讀各種財務報表、進行分析的複雜工作 現在只需要一個人、一台電腦就能完成。對於小散戶而言 AI 能幫助我們自動化分析 挖掘出報表中隱藏的關鍵資訊 成為對抗市場主力的重要武器！本書將帶您：\\r\\n\\r\\n◆ 【建立正確的投資觀念】：還在聽股市名嘴胡扯瞎扯嗎？本書將從基礎的投資理論起手 帶領讀者建立正確的投資觀念 從基本面分析到技術面分析 並進一步探討 AI 在股票投資中的定位 助你洞悉多面向分析的重要性。\\r\\n\\r\\n◆ 【Python 雲端環境開發】：程式開發對你來說是場夢魘嗎？本書將所有程式部署在雲端環境中 免除本地環境配置的複雜度 一鍵就能輕鬆運行、進入 Python 股票分析的世界。\\r\\n\\r\\n◆ 【AI 股票趨勢分析】：在買賣股票的過程中 一般人常常會被情緒```\\n  分類: 人工智慧\\n  ']\n",
      "['\\n  書名: ```電腦如何學會思考？更新人類理解現實方式的「數位現實理論」```\\n  描述: ```洞悉電腦如何運作\\r\\n開啟人類對於現實的全新理解！\\r\\n\\r\\n\\r\\n\\u3000\\u3000早至萊布尼茨（Leibnitz）時代，哲學家就一直提出「該如何為人類心智與電腦建造橋梁」的問題，像是：物質與精神之間的關係是什麼？電腦能像我們這樣思考和感知嗎？而創造出「會思考的機器」，一直以來都是電腦學家的目標。\\r\\n\\r\\n\\u3000\\u3000喬治．湯納（George Towner）因為實際從事設計電腦（在蘋果電腦工作多年）的工作，開啟了在知識論上的追尋，他在《電腦如何學會思考》一書中，發表了針對電腦模仿人類生命進行的三十年研究結果，透過思索解決人類知識相關的哲學問題，對於人類知識如何建構有了全新的理解。\\r\\n\\r\\n\\u3000\\u3000生命透過建構數位現實來理解存在\\r\\n\\r\\n\\u3000\\u3000湯納指出：電腦實際上是設計成像人類一樣行事，專門為了幫助我們完成人類任務而創建的。然而，和人類的生命不同之處，在於電腦的操作可以被我們詳細分析。透過瞭解並解析電腦在設計過程中，電腦工程師如何將類比世界轉換成數位現實的每一個設計決策，有意識地將人類理解現實的方式融入設計中，他得出：人類所理解的現實，根本上來說都是數位現實（此即「數位現實理論」，簡稱DR理論）。\\r\\n\\r\\n\\u3000\\u3000我們都知道電腦最擅```\\n  分類: 人工智慧\\n  ', '\\n  書名: ```電腦如何學會思考？更新人類理解現實方式的「數位現實理論」```\\n  描述: ```洞悉電腦如何運作\\r\\n開啟人類對於現實的全新理解！\\r\\n\\r\\n\\r\\n\\u3000\\u3000早至萊布尼茨（Leibnitz）時代，哲學家就一直提出「該如何為人類心智與電腦建造橋梁」的問題，像是：物質與精神之間的關係是什麼？電腦能像我們這樣思考和感知嗎？而創造出「會思考的機器」，一直以來都是電腦學家的目標。\\r\\n\\r\\n\\u3000\\u3000喬治．湯納（George Towner）因為實際從事設計電腦（在蘋果電腦工作多年）的工作，開啟了在知識論上的追尋，他在《電腦如何學會思考》一書中，發表了針對電腦模仿人類生命進行的三十年研究結果，透過思索解決人類知識相關的哲學問題，對於人類知識如何建構有了全新的理解。\\r\\n\\r\\n\\u3000\\u3000生命透過建構數位現實來理解存在\\r\\n\\r\\n\\u3000\\u3000湯納指出：電腦實際上是設計成像人類一樣行事，專門為了幫助我們完成人類任務而創建的。然而，和人類的生命不同之處，在於電腦的操作可以被我們詳細分析。透過瞭解並解析電腦在設計過程中，電腦工程師如何將類比世界轉換成數位現實的每一個設計決策，有意識地將人類理解現實的方式融入設計中，他得出：人類所理解的現實，根本上來說都是數位現實（此即「數位現實理論」，簡稱DR理論）。\\r\\n\\r\\n\\u3000\\u3000我們都知道電腦最擅```\\n  分類: 人工智慧\\n  ', '\\n  書名: ```AI 時代必讀！一看就懂的程式語言思維課：機器人陪你養成演算腦，在遊戲中建立核心數位素養！```\\n  描述: ```程式設計納入108課綱，學習任何程式語言都要需要的運算思維！\\r\\n\\r\\n寫程式就像寫作文，學會單字語法不代表就能寫出好文章。\\r\\n但如果能先了解程式設計背後的思維與邏輯，\\r\\n不管以後使用哪種程式語言，都能運用自如，順利完成任務，一生受用。\\r\\n\\r\\n\\r\\n對目前及未來的世代而言，學習如何寫程式已經是跟語文、數學、藝術一樣的基礎能力。在生活中，電腦可以幫忙掃地、洗衣、煮飯；在工作上，除了工商業界，電腦應用還擴及到設計、傳播、藝術等領域，與每個人緊密連結，因此不論處於什麼年齡，我們都應該及早擁有操作電腦的工具及知識，並建立起跟電腦一起工作的自信。\\r\\n\\r\\n你是不是想學程式語言卻不知從何開始？別擔心，你不需要急著弄懂Java、Python、Ruby這些程式語言到底有什麼不同，即使不熟悉電腦的操作也沒關係。這本書將一步一步拆解程式設計師的思考模式，帶領你從故事及遊戲中尋找規則，學會以同樣的方式解決問題。對於不懂電腦的人來說，看到「迴圈」、「條件陳述式」、「運算子」、「變數」這些令人摸不著頭緒的專用術語就夠令人害怕的了，不過這些概念其實透過骰子或撲克牌遊戲就可以輕鬆學會並理解。\\r\\n\\r\\n當你擁有如程式設計師一般```\\n  分類: 人工智慧\\n  ']\n",
      "['\\n  書名: ```軟體測試實務 : 業界成功案例與高效實踐 [ I ]```\\n  描述: ```🌟 國內第一本 『軟體測試』 跨業界團隊合著大作 🌟\\r\\n\\r\\n\\r\\n本書提供讀者能夠「參考業界成功經驗，快速實踐軟體測試」，不論您是軟體測試新手或是有經驗的開發人員皆適合閱讀。\\r\\n\\r\\n【本書特色】\\r\\n✪ 業界專家介紹最需要與最可行的實踐經驗。\\r\\n✪ 介紹引導入門的思緒脈絡、竅門要領、起手式作法。\\r\\n✪ 每個主題精煉於一個專章，充實且精華，易於理解吸收。\\r\\n\\r\\n【本書可以幫助您了解】\\r\\n✔ 測試者個人視角：軟體測試職涯上會面臨的問題、任務與軟硬技能。\\r\\n✔ 開發團隊視角：自組織敏捷團隊、測試流程、測試團隊建立、測試任務執行與團隊角色間合作。\\r\\n✔ 技術視角：產品開發期間的自動化測試框架與案例，以及上線後的測試右移實務現場。\\r\\n✔ 治理與管理視角：數位轉型上推動軟體品質提升的框架。\\r\\n\\r\\n⏩本書更多精彩內容，請至 https://sites.google.com/view/swtesting網站閱讀！\\r\\n```\\n  分類: 軟體測試\\n  ', '\\n  書名: ```軟體測試實務 : 業界成功案例與高效實踐 [ II ]```\\n  描述: ```🌟 國內第一本 『軟體測試』 跨業界團隊合著大作 🌟\\r\\n\\r\\n\\r\\n本書提供讀者能夠「參考業界成功經驗，快速實踐軟體測試」，不論您是軟體測試新手或是有經驗的開發人員皆適合閱讀。\\r\\n\\r\\n【本書特色】\\r\\n✪ 業界專家介紹最需要與最可行的實踐經驗。\\r\\n✪ 介紹引導入門的思緒脈絡、竅門要領、起手式作法。\\r\\n✪ 每個主題精煉於一個專章，充實且精華，易於理解吸收。\\r\\n\\r\\n【本書可以幫助您了解】\\r\\n✔ 效能測試：Web Service、Web APP、Desktop APP的效能測試作法，以及敏捷化的效能測試實施方式。\\r\\n✔ 整合測試：以第三方服務間高度耦合為例來介紹整合測試的實務要領。\\r\\n✔ 多媒體測試：應用程式中多媒體內容的常見問題與測試手法。\\r\\n✔ 安全測試：安全軟體開發各階段實踐原則、Web APP與Mobile APP安全檢測、以及個資檢測要領與優化。\\r\\n\\r\\n⏩本書更多精彩內容，請至 https://sites.google.com/view/swtesting網站閱讀！\\r\\n```\\n  分類: 軟體測試\\n  ', '\\n  書名: ```軟體測試實務 : 業界成功案例與高效實踐 [ I ] +  [ II ] (雙書合購)```\\n  描述: ```nan```\\n  分類: 軟體測試\\n  ']\n",
      "['\\n  書名: ```全棧測試｜交付高品質軟體的實務指南 (Full Stack Testing: A Practical Guide for Delivering High Quality Software)```\\n  描述: ```「Gayathri的書能為團隊帶來測試的全面性觀點。」\\r\\n-Neal Ford\\r\\nThoughtworks總監/架構師/Meme Wrangler《軟體架構：困難部分》作者\\r\\n\\r\\n「Gayathri的書應該出現在所有寫軟體(以及測軟體)的人桌上。」\\r\\n-Saleem Siddiqui\\r\\n《Test-Driven Development學習手冊》作者\\r\\n\\r\\n對任何想產出高品質軟體的組織而言，測試都是不可迴避的課題，本書中，我們提供了10種不同類型的測試工具，為軟體開發與品質工程師帶來一站式的測試指南，您將會了解到測試的策略、概念、實踐等知識，並將這些知識使用在網頁或手機應用的開發與測試階段。\\r\\n\\r\\n作者Gayathri Mohan為讀者準備了40種以上可以立即上手的測試工具，不論是測試新手或老手，都可以將這些技巧應用在測試工作上，藉此增進軟體的性能、安全性、與可用性(accessibility)。本書涵蓋的測試手法包括探索性測試、自動化測試、跨功能測試(cross-functional testing)、資料測試、手機端測試等，此外讀者還可以認識到該如何將這些測試整合進CI(contin```\\n  分類: 軟體工程\\n  ', '\\n  書名: ```軟體測試實務 : 業界成功案例與高效實踐 [ II ]```\\n  描述: ```🌟 國內第一本 『軟體測試』 跨業界團隊合著大作 🌟\\r\\n\\r\\n\\r\\n本書提供讀者能夠「參考業界成功經驗，快速實踐軟體測試」，不論您是軟體測試新手或是有經驗的開發人員皆適合閱讀。\\r\\n\\r\\n【本書特色】\\r\\n✪ 業界專家介紹最需要與最可行的實踐經驗。\\r\\n✪ 介紹引導入門的思緒脈絡、竅門要領、起手式作法。\\r\\n✪ 每個主題精煉於一個專章，充實且精華，易於理解吸收。\\r\\n\\r\\n【本書可以幫助您了解】\\r\\n✔ 效能測試：Web Service、Web APP、Desktop APP的效能測試作法，以及敏捷化的效能測試實施方式。\\r\\n✔ 整合測試：以第三方服務間高度耦合為例來介紹整合測試的實務要領。\\r\\n✔ 多媒體測試：應用程式中多媒體內容的常見問題與測試手法。\\r\\n✔ 安全測試：安全軟體開發各階段實踐原則、Web APP與Mobile APP安全檢測、以及個資檢測要領與優化。\\r\\n\\r\\n⏩本書更多精彩內容，請至 https://sites.google.com/view/swtesting網站閱讀！\\r\\n```\\n  分類: 軟體測試\\n  ', '\\n  書名: ```軟體測試實務 : 業界成功案例與高效實踐 [ I ]```\\n  描述: ```🌟 國內第一本 『軟體測試』 跨業界團隊合著大作 🌟\\r\\n\\r\\n\\r\\n本書提供讀者能夠「參考業界成功經驗，快速實踐軟體測試」，不論您是軟體測試新手或是有經驗的開發人員皆適合閱讀。\\r\\n\\r\\n【本書特色】\\r\\n✪ 業界專家介紹最需要與最可行的實踐經驗。\\r\\n✪ 介紹引導入門的思緒脈絡、竅門要領、起手式作法。\\r\\n✪ 每個主題精煉於一個專章，充實且精華，易於理解吸收。\\r\\n\\r\\n【本書可以幫助您了解】\\r\\n✔ 測試者個人視角：軟體測試職涯上會面臨的問題、任務與軟硬技能。\\r\\n✔ 開發團隊視角：自組織敏捷團隊、測試流程、測試團隊建立、測試任務執行與團隊角色間合作。\\r\\n✔ 技術視角：產品開發期間的自動化測試框架與案例，以及上線後的測試右移實務現場。\\r\\n✔ 治理與管理視角：數位轉型上推動軟體品質提升的框架。\\r\\n\\r\\n⏩本書更多精彩內容，請至 https://sites.google.com/view/swtesting網站閱讀！\\r\\n```\\n  分類: 軟體測試\\n  ']\n",
      "['\\n  書名: ```產品經理全方位敏捷實踐：從活用 Scrum 到強化 PM 心理素質， 成為 AI 無法取代的產品負責人（iThome鐵人賽系列書）【軟精裝】```\\n  描述: ```前進高薪科技業必備！\\r\\n\\r\\n\\xa0\\r\\n\\r\\n快速掌握「產品經理通識」和「Scrum 敏捷開發」\\r\\n\\r\\n\\r\\n\\r\\n本書內容改編自第 14 屆 iThome 鐵人賽 Agile 組優選系列文章《我們與敏捷的距離－30 天上手產品敏捷專案管理》。全書圍繞在「產品開發敏捷化」這個關鍵核心，帶領讀者了解產品思維、敏捷開發、Scrum 方法以及培養敏捷心理素質等重要主題。本書目標是幫助有志成為優秀產品經理的你，深入學習如何擁有產品思維，實踐敏捷開發以及掌握產品規劃能力，成為 AI 無法取代的產品負責人。\\r\\n\\r\\n\\r\\n本書重點特色\\r\\n● 透過豐富實戰案例，快速掌握產品經理職涯中必學的重要知識點與核心通識。\\r\\n● 從零開始學會敏捷開發與 Scrum 方法，即使沒寫過程式、不是工程師背景也能輕鬆理解。\\r\\n● 面對敏捷專案的高度不確定性，從心理學的角度提出可實踐的具體方法，讓你提升心理素質、打造敏捷體質，並能夠幫助團隊培養應對模糊環境的能力。\\r\\n● 活學活用，獨家一人敏捷術！分享如何將敏捷方法改造成最符合自己的型態，靈活地應用於工作與日常生活中。\\r\\n● 「敏捷災難現場錦囊」專欄：提供在實務上可能會遇到的問題錦囊妙計```\\n  分類: 人工智慧\\n  ', '\\n  書名: ```全棧測試｜交付高品質軟體的實務指南 (Full Stack Testing: A Practical Guide for Delivering High Quality Software)```\\n  描述: ```「Gayathri的書能為團隊帶來測試的全面性觀點。」\\r\\n-Neal Ford\\r\\nThoughtworks總監/架構師/Meme Wrangler《軟體架構：困難部分》作者\\r\\n\\r\\n「Gayathri的書應該出現在所有寫軟體(以及測軟體)的人桌上。」\\r\\n-Saleem Siddiqui\\r\\n《Test-Driven Development學習手冊》作者\\r\\n\\r\\n對任何想產出高品質軟體的組織而言，測試都是不可迴避的課題，本書中，我們提供了10種不同類型的測試工具，為軟體開發與品質工程師帶來一站式的測試指南，您將會了解到測試的策略、概念、實踐等知識，並將這些知識使用在網頁或手機應用的開發與測試階段。\\r\\n\\r\\n作者Gayathri Mohan為讀者準備了40種以上可以立即上手的測試工具，不論是測試新手或老手，都可以將這些技巧應用在測試工作上，藉此增進軟體的性能、安全性、與可用性(accessibility)。本書涵蓋的測試手法包括探索性測試、自動化測試、跨功能測試(cross-functional testing)、資料測試、手機端測試等，此外讀者還可以認識到該如何將這些測試整合進CI(contin```\\n  分類: 軟體工程\\n  ', '\\n  書名: ```當數位轉型碰上生成式AI：臺灣150家企業轉型的策略性思維和變革實務```\\n  描述: ```做賺錢的AI，帶動企業革新\\r\\n\\r\\n從8大議題、12個本土產業案例認識——\\r\\n● 提升市場競爭力不得不做的事，不轉型會後悔的事\\r\\n● 轉型的數位工具、技術與創新思維\\r\\n● 新商業模式能創造的新產品、服務、通路與願景\\r\\n\\r\\n寫給\\r\\n● 中小企業主、企業經理\\r\\n● 產業上下游廠商、廠長\\r\\n● 數位行銷、業務、資訊技術人士\\r\\n\\r\\n\\r\\n數位轉型正攻占企業主的待辦事項，看似進行得如火如荼，但是為什麼轉型障礙仍然非常高？因為老闆想要做的是「會賺錢的AI」。\\r\\n本書從企業主的心態出發，說明如何做讓公司賺錢的數位轉型，帶動業務革新。\\r\\n作者輔導過150家以上的本土優良中小企業成功轉型，從豐富經驗中提煉出最符合臺灣產業的數位轉型實務，願為企業奠定永續經營的基石。\\r\\n\\r\\n內容特色：\\r\\n● 數位轉型怎麼做才對？從心態、資源、人力到環境，逐步說明推動產業數位轉型的重要觀念和施行順序。\\r\\n● 規劃具產業特色的轉型：從8個主題探討12種產業的轉型痛點，為不同企業體質調製策略方向、數位工具與發展願景。\\r\\n● 重新定義商業模式、營運流程、客戶體驗，協助企業提升競爭力，找到創造營收的全新方法。\\r\\n● 以本土產業為例，更接```\\n  分類: 人工智慧\\n  ']\n",
      "['\\n  書名: ```改變人類未來的七大科技革命：AI 人工智慧、區塊鏈、VR/AR、機器人學、物聯網、雲端運算、元宇宙```\\n  描述: ```★給對充滿問號的自己一個瞭解未來趨勢的勇氣書★\\r\\n★給學習成為世界主人的未來人才★\\r\\n\\r\\n\\r\\n\\u3000\\u3000你是不是在2021年末上映的知電影續集《駭客任務：復活》情節中看過基奴李維身穿「Manus VR 數據手套、光學動作捕捉系統」進行精準的捕捉動作。由於手部是非常精細的動作因此需要使用「Manus VR 數據手套」才能夠精準套用動作的數據；而在1992年元宇宙被提出來以前，就有電影「電子世界爭霸戰」出現過類似元宇宙的概念，隨後相繼上映的1999年「駭客任務」、「異次元駭客、2009年「夏日大作戰」、2016年「聖朱尼佩洛」、2018年「一級玩家」等都有提出元宇宙的相關概念。\\r\\n\\r\\n\\u3000\\u3000當這世界在演變的過程中，傳統事業以及行銷經營的手法，面臨「絕路」是預料中的事，只是這幾年因為新冠疫情讓這時間更提早了一些！\\r\\n\\r\\n\\u3000\\u3000更令人驚訝的是，已經超前進入數位世界的人們，在疫情期間瞬間增長了數倍，那些數位世界的人已經快速移居到全新的「網路新都市」中，如果現在仍滿足於舊有世界的成就，未來形成兩個世界巨大的差距即將到來……\\r\\n\\r\\n\\u3000\\u3000閱讀本書七大科技的內容，才能企劃新的商業模式，為垂死的商業注入新的想像力，```\\n  分類: 人工智慧\\n  ', '\\n  書名: ```改變人類未來的七大科技革命：AI 人工智慧、區塊鏈、VR/AR、機器人學、物聯網、雲端運算、元宇宙```\\n  描述: ```★給對充滿問號的自己一個瞭解未來趨勢的勇氣書★\\r\\n★給學習成為世界主人的未來人才★\\r\\n\\r\\n\\r\\n\\u3000\\u3000你是不是在2021年末上映的知電影續集《駭客任務：復活》情節中看過基奴李維身穿「Manus VR 數據手套、光學動作捕捉系統」進行精準的捕捉動作。由於手部是非常精細的動作因此需要使用「Manus VR 數據手套」才能夠精準套用動作的數據；而在1992年元宇宙被提出來以前，就有電影「電子世界爭霸戰」出現過類似元宇宙的概念，隨後相繼上映的1999年「駭客任務」、「異次元駭客、2009年「夏日大作戰」、2016年「聖朱尼佩洛」、2018年「一級玩家」等都有提出元宇宙的相關概念。\\r\\n\\r\\n\\u3000\\u3000當這世界在演變的過程中，傳統事業以及行銷經營的手法，面臨「絕路」是預料中的事，只是這幾年因為新冠疫情讓這時間更提早了一些！\\r\\n\\r\\n\\u3000\\u3000更令人驚訝的是，已經超前進入數位世界的人們，在疫情期間瞬間增長了數倍，那些數位世界的人已經快速移居到全新的「網路新都市」中，如果現在仍滿足於舊有世界的成就，未來形成兩個世界巨大的差距即將到來……\\r\\n\\r\\n\\u3000\\u3000閱讀本書七大科技的內容，才能企劃新的商業模式，為垂死的商業注入新的想像力，```\\n  分類: 人工智慧\\n  ', '\\n  書名: ```CYBERSEC 2024 臺灣資安年鑑─AI資安2024 徹底剖析生成式AI資安攻防態勢```\\n  描述: ```【本書簡介】\\r\\n掌握近期企業重大資安事故以及資安防禦觀念，有助於企業了解即將面對的各種挑戰以及如何因應。\\r\\n\\r\\n【推薦序】\\r\\n◎面對詭譎多變的網路威脅態勢，每個人該做的事情，是積極、持續認識這些資安風險與各種資安事故，以便當下能夠充分因應各種可能發生的狀況。──李宗翰∕iThome電腦報週刊副總編輯\\r\\n\\r\\n\\xa0\\r\\n\\r\\n【內容試讀】\\r\\n◎這些年網路威脅加劇，資安人力卻總是補不滿，如何翻轉攻防不對稱的局勢是資安發展重心，而AI應用正是大家期待已久的技術。\\r\\n回顧2023年生成式AI應用成形與爆發，資安界憂心攻擊者的技術門檻大幅降低，能發動更大規模且複雜的攻擊。但是，水能覆舟，亦能載舟，生成式AI同樣有助於資安，催生出新的防護作法。\\r\\n儘管通用生成式AI問題持續受探討，AI監理規範也正持續發展，像是建立AI風險驗測方法，評估AI生命週期的資訊與資料安全需求，以及2023年下半的種種指引與立法，雖然確保生成式AI的安全性很重要，不過，鎖定領域專屬的局部應用，也已經是重要的發展方向。\\r\\n基本上，資安業者採用AI/ML提升本身產品與服務的能力，早就已經不是新鮮事，甚至越來越多廠商強調，他們發展的資安```\\n  分類: 資訊安全\\n  ']\n",
      "['\\n  書名: ```安全上網 智能時代的風險與自我保護```\\n  描述: ```\\u3000\\u3000有沒有留意自己每天上網的時間是多少？據統計，全球的網絡使用者平均上網時間近七小時，即除了休息時間外，接近一半時間都在上網！互聯網平台比父母更了解你，這已是不爭的事實。\\r\\n\\r\\n\\xa0\\r\\n\\r\\n\\u3000\\u3000互聯網發展得越成熟，我們在參與所有互聯網活動時留下的足跡便越多。要發展互聯網，就需要了解所有互聯網使用者的背景、喜好、習慣，甚至期望。我們在求Google大神幫忙時，其實我們亦在幫助它收集數據。不同的免費社交平台為我們帶來方便，但你有否想過，免費的事，代價往往最高？\\xa0\\r\\n\\r\\n\\xa0\\r\\n\\r\\n\\u3000\\u3000在現實世界中，大家會有意識如何保護個人資料，免被第三方未經授權使用。但在人工智能及大數據急速發展的時代，所有事情「互聯網化」後，你又是否懂得保護自己？\\xa0\\r\\n\\r\\n\\xa0\\r\\n\\r\\n\\u3000\\u3000除了保護個人身份，保持健康也十分重要，電腦和人一樣也會受病毒威脅，先了解惡意軟件、電腦病毒和駭客的定義及其特性，再針對個別項目作出應對措施，那麼即使遇到類似情況，亦可自己動手作診斷，甚至修復系統。\\r\\n\\r\\n\\xa0\\r\\n\\r\\n\\u3000\\u3000多了解網絡風險及自我保護方法，做一個精明的互聯網使用者，時刻緊記：關於你的個人資料保護，你都有選擇權！\\r\\n\\xa0\\r\\n\\r\\n本書特色\\xa0```\\n  分類: 資訊安全\\n  ', '\\n  書名: ```Web Tracking 的資安攻擊與防禦策略：淺析當代瀏覽器的隱私議題 （iThome鐵人賽系列書）【軟精裝】```\\n  描述: ```隱匿卻無所不在的隱私威脅\\r\\n\\r\\n\\xa0\\r\\n\\r\\n從 Web Tracking 技術的攻擊、防禦、歷史發展，\\r\\n探討當代瀏覽器最重要的隱私議題之一\\r\\n\\r\\n\\r\\n\\r\\n本書內容改編自第14 屆 iThome 鐵人賽 Security 組冠軍系列文章《天羅地網：淺談 Web Tracking 的過去、現在、未來》。內容涵蓋 Web Tracking 相關技術的基礎、實際案例， 以及未來發展。Web Tracking 意指「在不同情境中重新識別使用者，而且技術上無須使用者的期待或同意」。常見的相關技術包含 Cookie 與 Browser Fingerprinting 等。藉由 Web Tracking，追蹤者可以暗中記錄使用者的行為，推斷其偏好及傾向，以預測或甚至操弄使用者的行為。Web Tracking 相關技術無疑是當今網路生態中最具有隱私侵犯性的技術。\\r\\n\\r\\n\\r\\n▇ 正常功能如何濫用於隱私侵害，以及如何防禦\\r\\n\\r\\nWeb Tracking 技術的一大特色在於，其所使用的瀏覽器功能大多不是一開始便設計於追蹤使用者，然而因為一些設計上的缺陷或預料之外的利用方式，使得這些功能可以被濫用於追蹤使用者。當```\\n  分類: 資訊安全\\n  ', '\\n  書名: ```小型網路資訊安全｜給網管人員的正經指南 (Cybersecurity for Small Networks)```\\n  描述: ```這本書是一本簡明扼要的指南，無論你使用的是Linux、Windows還是macOS，都可以藉此提升網路安全性。\\r\\n\\r\\n跟著書中專案逐步演練，你會學到強化安全性的核心技術，像是如何繪製網路架構圖、追蹤裝置狀態、同時辨識出可能意味著攻擊事件的不尋常動作。你會探索各種可以消除弱點的做法，同時防範對於行動裝置、桌上型電腦、甚至是物聯網端點的不請自來存取動作。你還會學到如何實作自訂備份策略，以及如何偵測、防範和抑制惡意軟體或勒索軟體的攻擊。\\r\\n\\r\\n至於技術面，你還會學到：\\r\\n‧使用和設定像是pfSense和iptables之類的防火牆，藉以過濾網路流量\\r\\n‧建立網路分段計畫，以便按照風險程度分隔裝置，並管理使用者存取，以及設置無線認證\\r\\n‧在網路中部署OpenVPN或Wireguard，以便加密和保護網路通訊\\r\\n‧使用Squid代理伺服器來掩護個人或商務資料，同時控制網頁流量\\r\\n‧實作流量存取點(traffic access point，TAP)以便捕捉和分析網路流量，並建置Security Onion監控設備，用來警示可疑動作\\r\\n\\r\\n無論是菜鳥或是老兵，本書都能提供必要的工具和知識，讓你為網路```\\n  分類: 資訊安全\\n  ']\n",
      "['\\n  書名: ```創意設計專題實作 - 最新版 - 附 MOSME 行動學習一點通：評量．ZTC專題中心```\\n  描述: ```1.提供僅需按部就班，即可順利完成專題的PIPE-A流程與模組。\\r\\n2.說明PIPE-A每個模組的核心目標，提供實際範例，以迅速掌握關鍵點。\\r\\n3.針對書面、網頁及口頭簡報等專題呈現的方式，提供理論及實務技巧，發揮特色及精神。\\r\\n4.提供專題製作所需完整的撰寫與評量表格，讓師生在理論及實務過程中，培養創新思考模式。\\r\\n5.提供ZTC數位內容與專題中心平臺，可觀摩各類型專題內容，提升專題實作學習成果的整體表現。\\r\\n6.配合競賽主題而製作的專題研究，可以作為比賽及升學之作品集使用。作品除大多數為比賽得獎之作外，也提供其它優秀作品參考。\\r\\n7.培養學生主動找資料及分析問題、解決問題的能力，並學習它人成功之經驗。\\r\\n8.本專題製作宗旨為實務配合理論呈現，訓練學生獨立思考能力，提升專業知識之應用，針對具延續性質之議題，提出不同方法或改進之作法。\\r\\n9.激發設計領域學生對專題製作之興趣與創造力，打造全國設計領域專題製作師生交流平台，並鼓勵學生未來投入設計相關領域之研究。\\r\\n\\r\\n★MOSME 行動學習一點通功能：\\r\\n使用「MOSME 行動學習一點通」，登入會員與書籍序號後，可線上練習本書題目，並搭配```\\n  分類: 網頁設計\\n  ', '\\n  書名: ```ESP32 微處理機實習與物聯網應用含 AMA Fundamentals Level 先進微控制器應用認證 - 最新版(第四版) - 附 MOSME 行動學習一點通：評量．加值```\\n  描述: ```1.全書共83個範例，清楚解說各種用法\\r\\n2.單晶片實習之硬體、邏輯及演算法\\r\\n3.利用聲、光、螢幕、動力輸出\\r\\n4.應用各種感測器感知現實世界\\r\\n5.涵蓋常見網路規格：藍牙、Wi-Fi、LoRa\\r\\n6.適用 Arduino IDE 1.8 版以及 2.0 版\\r\\n```\\n  分類: 物聯網 IoT\\n  ', '\\n  書名: ```ESP32 微處理機實習與物聯網應用含 AMA Fundamentals Level 先進微控制器應用認證 - 最新版(第四版) - 附 MOSME 行動學習一點通：評量．加值```\\n  描述: ```1.全書共83個範例，清楚解說各種用法\\r\\n2.單晶片實習之硬體、邏輯及演算法\\r\\n3.利用聲、光、螢幕、動力輸出\\r\\n4.應用各種感測器感知現實世界\\r\\n5.涵蓋常見網路規格：藍牙、Wi-Fi、LoRa\\r\\n6.適用 Arduino IDE 1.8 版以及 2.0 版\\r\\n```\\n  分類: 物聯網 IoT\\n  ']\n",
      "['\\n  書名: ```文科生也可以輕鬆學會 Web Scraper 網路爬蟲與 Power Automate X Excel 大數據分析```\\n  描述: ```不用動手寫程式，讓Web Scraper爬蟲 X Power Automate自動化工具幫你搞定！\\r\\n•\\u3000活用ChatGPT學習網路爬蟲、大數據分析和辦公室自動化\\r\\n•\\u3000ChatGPT學習SQL語法，建立高效率Excel資料處理術\\r\\n\\r\\n⭐️ Web Scraper是第一名Chrome擴充功能的爬蟲工具，不用撰寫程式碼，就可以建立CSS選擇器的網站爬取地圖從網站擷取資料，本書不只教你利用內建視覺化工具輕鬆爬取Web網站，更能夠使用ChatGPT學習HTML標籤+CSS選擇器，並了解各種網站巡覽結構。\\r\\n\\r\\n⭐️ Power Automate Desktop自動化工具，可以建立流程來執行一系列動作，輕鬆打造Windows應用程式和Excel自動化，來提高辦公室的工作效率，不只如此，再搭配書中使用ChatGPT學習SQL語法後，我們更可以整合Power Automate Desktop + SQL建立高效率的Excel資料處理。\\r\\n```\\n  分類: Data Science\\n  ', '\\n  書名: ```Power Automate 自動化大全：串接 Excel、ChatGPT、SQL 指令，打造報表處理、網路爬蟲、資料分析超高效流程```\\n  描述: ```\\r\\n內容介紹:\\r\\n\\r\\n\\xa0\\r\\n\\r\\n\\r\\n「同事下班壓線交報告 苦了你還要加班一份份貼到 Excel 彙總交出去...」\\r\\n「周年慶到處收集對手的促銷資訊 不斷複製、貼上 做到有點懷疑人生...」\\r\\n「每天收不完的 Email 要篩出報價單另存、轉寄真麻煩 不小心忘了改檔名還要從茫茫郵件中挖出來...」\\r\\n\\r\\n以往這些日常瑣事只能自己解決 比較有經驗的人可能懂得找 IT 部門幫忙寫程式自動處理。\\r\\n現在你不用再自己默默承擔 也不用拜託別人 統統交給 Power Automate 就搞定了！\\r\\n\\r\\n\\r\\n\\r\\nPower Automate 是微軟強力推廣的自動化工具 不須撰寫程式就可以完成各種自動化的流程作業。本書是市面上最完整的 Power Automate 專書 教導你如何善用各種內建功能 搭配 Excel、ChatGPT 和 SQL 查詢語法 將日常工作打造成簡便的自動化程序。全書共收錄【超過 100 個】日常操作應用例，工作上常遇到的各種重複、單調的作業，現在統統幫你轉化為自動執行的程序。\\r\\n\\r\\n◆ 用日期和代號幫不同業務的報表重新命名\\r\\n◆ 自動統計、篩選出不同業務區的季報表\\r\\n◆ 將總```\\n  分類: Data Science\\n  ', '\\n  書名: ```IBM 部長強力推薦的 Excel 商用技巧：用大數據分析商品、達成預算、美化報告的70個絕招！(暢銷限定版)```\\n  描述: ```★全圖示╳全解說\\r\\n無論是大數據、物聯網，\\r\\n還是推特、臉書上沒秩序的發文，\\r\\n你都能用超強的Excel技巧，\\r\\n0.1秒內看穿獲利契機，做出最佳決策！\\r\\n\\r\\n\\r\\n\\u3000\\u3000‧每次用Excel製作圖表總搞得頭昏眼花，難道沒有輕鬆有效的方法？\\r\\n\\u3000\\u3000‧怎樣學會「商業分析」的專業技能，看透大量繁雜的資料和數據？\\r\\n\\u3000\\u3000‧如何解讀Excel資料做出結論，讓簡報充滿說服力，導出好決策？\\r\\n\\r\\n\\u3000\\u3000AI時代來臨，商務情報、社群網站、電子郵件……全球資訊量暴增，唯有掌握資訊，才能在商戰中勝出。因此，不論是大企業還是小公司，不論是主管還是員工，學會Excel商用技巧，活用大數據和資料，就可以成為「數據智慧型」的公司和人才！\\r\\n\\u3000\\r\\n\\u3000\\u3000★★日本IBM部長，親自傳授Excel商用技巧\\r\\n\\u3000\\u3000本書作者加藤昌生，曾擔任日本IBM商業分析部門的培訓部長，他精通企業管理系統、商業資料分析、AI與IoE/IoT，時常幫助企業經營者或管理幹部解決難題。過去在一次工作會面中，受到APPLE創辦人賈伯斯的鼓勵期許：「要成為全球認可的商務人士。」\\r\\n\\r\\n\\u3000\\u3000為了讓大家也成為全球認可的商務人士，加藤昌生特別傳授70個Excel```\\n  分類: Data Science\\n  ']\n",
      "['\\n  書名: ```未來藝世界：AI 繪圖新旅程```\\n  描述: ```\\u3000\\u3000跨越科技與藝術的界限，我們邀請你共同踏上由AI揭示的藝術探索新境界。《Arts Styles of the Future：A Non-Technical Introduction g 》是一本為讀者打開AI與藝術交織世界大門的指南。在輕鬆易懂的語境中，本書向讀者展現生成式AI在藝術創作上無窮的可能性，並且所有精彩繪圖作品，都由知名的AI繪圖工具Midjourney創作。\\r\\n\\r\\n\\u3000\\u3000本書從AI對食物描繪的創新觀點出發，漸進式地導引讀者進入AI在動物描繪、肖像藝術，甚至時尚與室內設計領域的突破性實踐。你將有機會欣賞到機械風格、超寫實的環境描繪，到抽象表現主義與線條藝術等多元風格的混搭。此外，AI如何巧妙地以藝術的形式，生動展現城市氣溫與交通工具的美學，也將淋漓盡致地呈現在你眼前。\\r\\n\\r\\n\\u3000\\u3000在書的後半部分，我們顛覆傳統框架，以AI的獨特視角敘述全新的故事，喚醒讀者內在的童趣，並以多元風格描繪對永續發展目標(SDGs)的詮釋。在最終章節，本書展現了AI在藝術領域無邊際的應用，從印章、戒指、彩繪玻璃風格，到立體紙藝，甚至延伸至iPhone、UI/UX設計等多種應用。\\r\\n\\r\\n\\u3000\\u3000《Arts ```\\n  分類: 人工智慧\\n  ', '\\n  書名: ```改變人類未來的七大科技革命：AI 人工智慧、區塊鏈、VR/AR、機器人學、物聯網、雲端運算、元宇宙```\\n  描述: ```★給對充滿問號的自己一個瞭解未來趨勢的勇氣書★\\r\\n★給學習成為世界主人的未來人才★\\r\\n\\r\\n\\r\\n\\u3000\\u3000你是不是在2021年末上映的知電影續集《駭客任務：復活》情節中看過基奴李維身穿「Manus VR 數據手套、光學動作捕捉系統」進行精準的捕捉動作。由於手部是非常精細的動作因此需要使用「Manus VR 數據手套」才能夠精準套用動作的數據；而在1992年元宇宙被提出來以前，就有電影「電子世界爭霸戰」出現過類似元宇宙的概念，隨後相繼上映的1999年「駭客任務」、「異次元駭客、2009年「夏日大作戰」、2016年「聖朱尼佩洛」、2018年「一級玩家」等都有提出元宇宙的相關概念。\\r\\n\\r\\n\\u3000\\u3000當這世界在演變的過程中，傳統事業以及行銷經營的手法，面臨「絕路」是預料中的事，只是這幾年因為新冠疫情讓這時間更提早了一些！\\r\\n\\r\\n\\u3000\\u3000更令人驚訝的是，已經超前進入數位世界的人們，在疫情期間瞬間增長了數倍，那些數位世界的人已經快速移居到全新的「網路新都市」中，如果現在仍滿足於舊有世界的成就，未來形成兩個世界巨大的差距即將到來……\\r\\n\\r\\n\\u3000\\u3000閱讀本書七大科技的內容，才能企劃新的商業模式，為垂死的商業注入新的想像力，```\\n  分類: 人工智慧\\n  ', '\\n  書名: ```改變人類未來的七大科技革命：AI 人工智慧、區塊鏈、VR/AR、機器人學、物聯網、雲端運算、元宇宙```\\n  描述: ```★給對充滿問號的自己一個瞭解未來趨勢的勇氣書★\\r\\n★給學習成為世界主人的未來人才★\\r\\n\\r\\n\\r\\n\\u3000\\u3000你是不是在2021年末上映的知電影續集《駭客任務：復活》情節中看過基奴李維身穿「Manus VR 數據手套、光學動作捕捉系統」進行精準的捕捉動作。由於手部是非常精細的動作因此需要使用「Manus VR 數據手套」才能夠精準套用動作的數據；而在1992年元宇宙被提出來以前，就有電影「電子世界爭霸戰」出現過類似元宇宙的概念，隨後相繼上映的1999年「駭客任務」、「異次元駭客、2009年「夏日大作戰」、2016年「聖朱尼佩洛」、2018年「一級玩家」等都有提出元宇宙的相關概念。\\r\\n\\r\\n\\u3000\\u3000當這世界在演變的過程中，傳統事業以及行銷經營的手法，面臨「絕路」是預料中的事，只是這幾年因為新冠疫情讓這時間更提早了一些！\\r\\n\\r\\n\\u3000\\u3000更令人驚訝的是，已經超前進入數位世界的人們，在疫情期間瞬間增長了數倍，那些數位世界的人已經快速移居到全新的「網路新都市」中，如果現在仍滿足於舊有世界的成就，未來形成兩個世界巨大的差距即將到來……\\r\\n\\r\\n\\u3000\\u3000閱讀本書七大科技的內容，才能企劃新的商業模式，為垂死的商業注入新的想像力，```\\n  分類: 人工智慧\\n  ']\n",
      "['\\n  書名: ```電子商務與 ChatGPT：物聯網 ‧ KOL直播 ‧ 區塊鏈‧  社群行銷 ‧ 大數據 ‧ 智慧商務```\\n  描述: ```\\r\\n\\t電子商務是利用網路進行銷售或交換產品與服務，並達到降低成本要求的現代化經營模式，隨著資訊科技進步與網路交易平台流程的改善，無國界、零時差的電商模式早已成為產品銷售的新契機。\\r\\n\\t\\r\\n\\t本書為學習電子商務與網路行銷實務和理論兼備的實用教材，相關主題及重要觀念皆完整且詳實地說明，並以「焦點專題」的專欄形式介紹熱門議題案例，包括：跨境電商、群眾募資、直播帶貨、大數據、區塊鏈與比特幣、智慧商務、企業電子化、供應鏈管理、博客來CRM、行動學習、SEO、OBS直播工具、創用CC授權…等，可讓讀者在輕鬆的狀態下獲取重要新知。\\r\\n\\t\\r\\n\\t此外，也加入了由OpenAI推出的ChatGPT聊天機器人內容：ChatGPT在電商領域提供AI客服、語言翻譯、行銷內容創作等應用，協助將YouTube影片轉檔，並活用GPT-4寫文案等。\\r\\n\\t\\r\\n\\t【本書特色】\\r\\n\\t✔內容淺顯且全面地說明電子商務必須要懂的資訊，輕鬆理解EC精要\\r\\n\\t✔呼應各章主題，嚴選熱門國內外知名案例，焦點專題實用解析\\r\\n\\t✔運用簡潔圖表取代抽象敘述，引導讀者快速吸收重要知識點\\r\\n\\t✔貼心叮嚀TIPS、章末問題討論，強化學習回顧及深入思考\\r```\\n  分類: 物聯網 IoT\\n  ', '\\n  書名: ```ChatGPT 網路行銷：利用爆紅 AI 工具，創造精準又吸睛的網路商機```\\n  描述: ```了解網路、選對工具，掌握關鍵影響力，創造流量密碼活絡網路買氣\\r\\n\\r\\n本書以輕鬆入門的方式，系統化地介紹網路行銷的重要知識與行銷工具，亮點資訊包括：網路行銷4P、網路STP策略規劃、網路廣告、Email行銷、EDM行銷、病毒式行銷、飢餓行銷、行動裝置線上服務平台、App行銷、行動支付、電商網站製作、UI/UX、社群行銷、YouTube行銷、微電影行銷、大數據行銷、全通路攻略、擴增實境(AR)行銷、虛擬實境(VR)行銷、智慧家電行銷、ChatGPT在行銷領域的應用、GPT-4撰寫行銷文、AI寫FB(或IG、Google、短影片)文案、利用ChatGPT發想企劃案、SEO、關鍵字廣告、網紅行銷…等。\\r\\n\\r\\n為了讓讀者能接觸較實務的網路行銷工具，書中也安排了「專題演練」單元，例如手遊行銷的SWOT分析、網路行銷的量化指標、店家LINE官方帳號行銷、Google Sites網站設計、Instagram視覺化行銷、直播帶貨、實戰大數據與Power BI、製作觸及率翻倍的短影片、Google我的商家、Google Analytics數據分析。重點特色如下：\\r\\n☑架構簡潔，結合淺顯概念，最佳入門首選\\r```\\n  分類: 人工智慧\\n  ', '\\n  書名: ```[精準活用祕笈] 超實用！ChatGPT 與 Excel 必備省時函數的巧妙運用：利用 AI 提高數據整理與統計運算分析```\\n  描述: ```本書特色\\r\\n📢快速了解公式及函數重要知識點\\r\\n📢熟悉學術、生活及職場應用的必備函數\\r\\n📢方便查詢函數功能、語法、參數與實例\\r\\n📢除了傳統函數外，也介紹最新版函數\\r\\n📢提供大量應用實例，有助提昇工作效率\\r\\n📢實戰ChatGPT大師級函數提示技巧與範例\\r\\n\\r\\n本書整理大數據、人資、行政、總務、業務、會計、生管、財務、企宣、公務員、市場調查、銷售管理、產品研發…等商務應用、資料分析的重要函數。為了方便每一位讀者操作學習，所有實例都附有原始的範例檔案，並提供執行結果檔案。\\r\\n\\r\\n在章節架構的安排上，第一章先介紹公式與函數的重要知識點，從第二章到第八章則介紹各種類別的實用函數，包括數值運算、邏輯、統計、資料取得、日期、時間、字串、財務、會計、資料驗證、資訊、查閱與參照等。所有介紹的函數都有對應的實例教學，而且每一個函數的介紹安排，包括功能說明、通用語法、引數解說、實作前的範例檔案、操作過程及實作後的成果展示。\\r\\n\\r\\n第九章包含了幾個完整的商務綜合範例，例如職訓練成績計算排名和查詢、現金流量表等。\\r\\n\\r\\n此外，本書還新增了「實戰ChatGPT大師級函數提示技巧與範例」精彩單元，內容包括：\\r\\n➤人工```\\n  分類: 人工智慧\\n  ']\n",
      "['\\n  書名: ```改變人類未來的七大科技革命：AI 人工智慧、區塊鏈、VR/AR、機器人學、物聯網、雲端運算、元宇宙```\\n  描述: ```★給對充滿問號的自己一個瞭解未來趨勢的勇氣書★\\r\\n★給學習成為世界主人的未來人才★\\r\\n\\r\\n\\r\\n\\u3000\\u3000你是不是在2021年末上映的知電影續集《駭客任務：復活》情節中看過基奴李維身穿「Manus VR 數據手套、光學動作捕捉系統」進行精準的捕捉動作。由於手部是非常精細的動作因此需要使用「Manus VR 數據手套」才能夠精準套用動作的數據；而在1992年元宇宙被提出來以前，就有電影「電子世界爭霸戰」出現過類似元宇宙的概念，隨後相繼上映的1999年「駭客任務」、「異次元駭客、2009年「夏日大作戰」、2016年「聖朱尼佩洛」、2018年「一級玩家」等都有提出元宇宙的相關概念。\\r\\n\\r\\n\\u3000\\u3000當這世界在演變的過程中，傳統事業以及行銷經營的手法，面臨「絕路」是預料中的事，只是這幾年因為新冠疫情讓這時間更提早了一些！\\r\\n\\r\\n\\u3000\\u3000更令人驚訝的是，已經超前進入數位世界的人們，在疫情期間瞬間增長了數倍，那些數位世界的人已經快速移居到全新的「網路新都市」中，如果現在仍滿足於舊有世界的成就，未來形成兩個世界巨大的差距即將到來……\\r\\n\\r\\n\\u3000\\u3000閱讀本書七大科技的內容，才能企劃新的商業模式，為垂死的商業注入新的想像力，```\\n  分類: 人工智慧\\n  ', '\\n  書名: ```改變人類未來的七大科技革命：AI 人工智慧、區塊鏈、VR/AR、機器人學、物聯網、雲端運算、元宇宙```\\n  描述: ```★給對充滿問號的自己一個瞭解未來趨勢的勇氣書★\\r\\n★給學習成為世界主人的未來人才★\\r\\n\\r\\n\\r\\n\\u3000\\u3000你是不是在2021年末上映的知電影續集《駭客任務：復活》情節中看過基奴李維身穿「Manus VR 數據手套、光學動作捕捉系統」進行精準的捕捉動作。由於手部是非常精細的動作因此需要使用「Manus VR 數據手套」才能夠精準套用動作的數據；而在1992年元宇宙被提出來以前，就有電影「電子世界爭霸戰」出現過類似元宇宙的概念，隨後相繼上映的1999年「駭客任務」、「異次元駭客、2009年「夏日大作戰」、2016年「聖朱尼佩洛」、2018年「一級玩家」等都有提出元宇宙的相關概念。\\r\\n\\r\\n\\u3000\\u3000當這世界在演變的過程中，傳統事業以及行銷經營的手法，面臨「絕路」是預料中的事，只是這幾年因為新冠疫情讓這時間更提早了一些！\\r\\n\\r\\n\\u3000\\u3000更令人驚訝的是，已經超前進入數位世界的人們，在疫情期間瞬間增長了數倍，那些數位世界的人已經快速移居到全新的「網路新都市」中，如果現在仍滿足於舊有世界的成就，未來形成兩個世界巨大的差距即將到來……\\r\\n\\r\\n\\u3000\\u3000閱讀本書七大科技的內容，才能企劃新的商業模式，為垂死的商業注入新的想像力，```\\n  分類: 人工智慧\\n  ', '\\n  書名: ```元宇宙與計算機概論: Web 3.0 ╳ 人工智慧 ╳ 區塊鏈 ╳ VR/AR ╳ 數位分身 ╳ 虛擬展廳含MCT元宇宙應用國際認證-Metaverse Comprehensive Capability(Specialist Level、Expert Level) - 最新版 - 附 MOSME 行動學習一點通：評量．詳解．擴增```\\n  描述: ```1.完整整合元宇宙與Ｗeb 3.0相關技術，一次徹底了解元宇宙架構相關應用與服務。\\r\\n2.結合實務範例與實作單元，讓元宇宙與Ｗeb 3.0不再只是抽象概念。\\r\\n3.每個單元均收錄Youtube相關說明影片，擴大讀者視野，吸收多元觀點。\\r\\n4.盧希鵬教授指導 與元宇宙四大名師點出相關技術與發展。\\r\\n5.結合MCT元宇宙應用國際認證：涵蓋MCT認證考試範疇，可學習知能並奠定考證的能力。\\r\\n6.模擬試題：課後習題結合MCT認證，可自我檢視學習成效並協助讀者通過認證考試。\\r\\n```\\n  分類: 人工智慧\\n  ']\n",
      "['\\n  書名: ```AI + AIoT 概論：寫給大學生看的 AI 通識學習```\\n  描述: ```專業推薦!! (依姓名筆畫排序)\\r\\n謝邦昌 輔仁大學副校長\\r\\n劉力瑜 台灣大學農藝學系教授\\r\\n張順教 臺灣科技大學企業管理系教授\\r\\n張智星 玉山金控科技長\\r\\n翁仕明 臺北護理健康大學語言治療與聽力學系副教授\\r\\n袁千雯 台灣師範大學圖書資訊學研究所助理教授\\r\\n邱詩雯 台灣師範大學國語教學中心研發組組長\\r\\n林翠娟 全家便利商店數位轉型部副本部長\\r\\n林玲如 台灣金融科技協會監事\\r\\n李家岩 台灣大學資訊管理系教授\\r\\n\\r\\n蔡宗翰教授與裴有恆老師致力於AI與AIoT的教學研究及服務，本書乃探討人工智慧的概念、類型、技術和應用，是一本相當棒的AI入門書籍。看完此書您一定會有AI的任督二脈被打通的舒暢感覺，看官不妨屏氣凝神好好邁向AI的新時代。\\r\\n------天主教輔仁大學副校長 謝邦昌 教授\\r\\n\\r\\n這是一本國內少有針對人工智慧教學的科普著作。適合給入門的讀者提供基礎的人工智慧知識，也適合作為學校科普教學用的書籍。作者累積多年在人工智慧的產業實務經驗，希望藉由人工智慧理論基礎及產業應用，讓讀者可以在短時間內熟悉此一領域。讓人工智慧知識不再是高不可攀，可以飛入平常百姓之家。\\r\\n------臺灣科技大學企```\\n  分類: 物聯網 IoT\\n  ', '\\n  書名: ```哈佛商業評論推薦必讀AI趨勢```\\n  描述: ```\\u3000\\u3000一本掌握人工智慧商業新價值\\r\\n\\u3000\\u3000利用AI轉型，將是新時代企業的成功關鍵\\r\\n\\r\\n\\u3000\\u3000全球最具指標性的管理雜誌《哈佛商業評論》精選文章\\r\\n\\u3000\\u3000幫助經理人全方位了解AI趨勢、應用範圍與商業潛力\\r\\n\\r\\n\\u3000\\u3000隨著ChatGPT引爆AI應用的無限可能，企業也進入AI轉型戰。當生成式AI顛覆商業遊戲規則，帶領組織AI轉型，學會與AI共事，才能不被市場淘汰。\\r\\n\\r\\n\\u3000\\u3000本書收錄《哈佛商業評論》近期探討AI最重要的文章，從經營、行銷、轉型、人力資源、產品定價等各個面向探討所有經理人必須了解的AI趨勢，包括：\\r\\n\\r\\n\\u3000\\u3000．ChatGPT如何改變機器與人類協作的工作方式\\r\\n\\u3000\\u3000．正確應用AI行銷的方法\\r\\n\\u3000\\u3000．成功採用機器學習的策略\\r\\n\\u3000\\u3000．利用演算法為產品定價有什麼問題\\r\\n\\u3000\\u3000．聰明使用機器人的策略\\r\\n\\u3000\\u3000．如何培養員工的「數位心態」，加速企業轉型\\r\\n\\u3000\\u3000．啟動AI轉型萬無一失的方法\\r\\n\\u3000\\u3000．降低AI產品帶來的道德風險\\r\\n\\u3000\\u3000．人工智慧啟動的新市場與新商戰模式\\r\\n\\r\\n\\u3000\\u3000無論是資深經理人、企業領導人或新創企業家，都能在這本書中找到AI趨勢影響商業的關鍵思維，本書將引領你與團隊探索AI的前瞻可能，將事```\\n  分類: 人工智慧\\n  ', '\\n  書名: ```人工智慧 Python 程式設計```\\n  描述: ```張教授為國立聯合大學客家研究學院文化創意與數位行銷學系的教授，長期投身於AI與數位工具的教學與研究，參與了教育部人工智慧技術及應用領域課程計畫，以及教育部數位人文創新人才培育計畫，致力於推動人文社會學生程式設計、數位工具應用與人工智慧。\\r\\n近年來更關注人工智慧在客家領域的創新應用，尤其在自然語言生成、語音辨識、語音合成領域。\\r\\n為了引導人文學生能夠認識AI、親近AI、應用AI，本書分為第一部：從「零階：no coding 學AI」認識AI 基本概念，透過AI遊戲的圖像、語言、圖像的體驗，了解大數據、機器學習、深度學習等概念，開啟對AI 應用的想像力；第二部分：認識Python 的基本概念、歷史與應用；第三部分：聊天機器人，聚焦自然語言，帶領人文學科的學生能夠走入自然語言模型開發，從自然語言概念，到大數據爬蟲、翻譯系統、語音合成和辨識技術專案實作，最後進入「高階：自然語言模型訓練」，整合剖析本人利用深度學習技術開發臺灣客語翻譯系統和設計客語聊天機器人「阿知牯」的經驗。\\r\\n本書適合來自人文社會科學背景、對人工智慧感興趣的讀者，也適合資訊科技專業的學生和專家。\\r\\n本人身為客家人，也在聯大客家```\\n  分類: 程式語言\\n  ']\n",
      "['\\n  書名: ```快速上手智慧健康照護  2/e```\\n  描述: ```\\r\\n\\t\\r\\n\\t\\t\\r\\n\\t\\t\\t隨著醫療技術快速發展，公共衛生環境不斷改善，高齡「超、老、快」是不可逆的趨勢，在預期壽命不斷提高的情況下，有品質的走過健康、亞健康、衰落、失能、重病到臨終的過程是人們不斷在追求的。然而，藉由雲端、物聯網、大數據、人工智慧技術形成智慧健康照護，從個人、居家再延伸至社區建立起友善健康的照護環境，讓老化不再是難以面對的問題。\\r\\n\\t\\t\\t本書內容涵蓋現今最熱門的資訊科技發展與健康照護運用，在健康管理、長期照顧與醫療管理各層面的基礎概念上，以淺顯易懂的文字與豐富的圖文資料，帶領讀者快速進入智慧健康照護的世界。並透過循序漸進的方式介紹智慧科技的發展、架構、技術、應用與挑戰，結合照護服務場域實際案例，帶領讀者了解健康照護與科技領域最新的觀念與實務上的應用。\\r\\n\\t\\t\\r\\n\\t\\t\\r\\n\\t\\t\\t※書籍推薦人\\r\\n\\t\\t\\t國立臺北護理健康大學 謝楠楨校長\\r\\n\\t\\t\\t神腦國際 賴勁麟董事長\\r\\n\\t\\t\\t臺北市立聯合醫院神經內科／失智症中心 劉建良主任\\r\\n\\t\\t\\t誠摯推薦\\r\\n\\t\\t\\r\\n\\t\\t\\r\\n\\t\\t\\t※推薦文\\r\\n\\t\\t\\t推薦序\\r\\n\\t\\t\\t\\r\\n\\t\\t\\t在這個資訊科技快速成長的年代裡，物聯網早已成為一門極為重要的發展技術，```\\n  分類: 人工智慧\\n  ', '\\n  書名: ```快速上手智慧健康照護  2/e```\\n  描述: ```\\r\\n\\t\\r\\n\\t\\t\\r\\n\\t\\t\\t隨著醫療技術快速發展，公共衛生環境不斷改善，高齡「超、老、快」是不可逆的趨勢，在預期壽命不斷提高的情況下，有品質的走過健康、亞健康、衰落、失能、重病到臨終的過程是人們不斷在追求的。然而，藉由雲端、物聯網、大數據、人工智慧技術形成智慧健康照護，從個人、居家再延伸至社區建立起友善健康的照護環境，讓老化不再是難以面對的問題。\\r\\n\\t\\t\\t本書內容涵蓋現今最熱門的資訊科技發展與健康照護運用，在健康管理、長期照顧與醫療管理各層面的基礎概念上，以淺顯易懂的文字與豐富的圖文資料，帶領讀者快速進入智慧健康照護的世界。並透過循序漸進的方式介紹智慧科技的發展、架構、技術、應用與挑戰，結合照護服務場域實際案例，帶領讀者了解健康照護與科技領域最新的觀念與實務上的應用。\\r\\n\\t\\t\\r\\n\\t\\t\\r\\n\\t\\t\\t※書籍推薦人\\r\\n\\t\\t\\t國立臺北護理健康大學 謝楠楨校長\\r\\n\\t\\t\\t神腦國際 賴勁麟董事長\\r\\n\\t\\t\\t臺北市立聯合醫院神經內科／失智症中心 劉建良主任\\r\\n\\t\\t\\t誠摯推薦\\r\\n\\t\\t\\r\\n\\t\\t\\r\\n\\t\\t\\t※推薦文\\r\\n\\t\\t\\t推薦序\\r\\n\\t\\t\\t\\r\\n\\t\\t\\t在這個資訊科技快速成長的年代裡，物聯網早已成為一門極為重要的發展技術，```\\n  分類: 人工智慧\\n  ', '\\n  書名: ```AI + AIoT 概論：寫給大學生看的 AI 通識學習```\\n  描述: ```專業推薦!! (依姓名筆畫排序)\\r\\n謝邦昌 輔仁大學副校長\\r\\n劉力瑜 台灣大學農藝學系教授\\r\\n張順教 臺灣科技大學企業管理系教授\\r\\n張智星 玉山金控科技長\\r\\n翁仕明 臺北護理健康大學語言治療與聽力學系副教授\\r\\n袁千雯 台灣師範大學圖書資訊學研究所助理教授\\r\\n邱詩雯 台灣師範大學國語教學中心研發組組長\\r\\n林翠娟 全家便利商店數位轉型部副本部長\\r\\n林玲如 台灣金融科技協會監事\\r\\n李家岩 台灣大學資訊管理系教授\\r\\n\\r\\n蔡宗翰教授與裴有恆老師致力於AI與AIoT的教學研究及服務，本書乃探討人工智慧的概念、類型、技術和應用，是一本相當棒的AI入門書籍。看完此書您一定會有AI的任督二脈被打通的舒暢感覺，看官不妨屏氣凝神好好邁向AI的新時代。\\r\\n------天主教輔仁大學副校長 謝邦昌 教授\\r\\n\\r\\n這是一本國內少有針對人工智慧教學的科普著作。適合給入門的讀者提供基礎的人工智慧知識，也適合作為學校科普教學用的書籍。作者累積多年在人工智慧的產業實務經驗，希望藉由人工智慧理論基礎及產業應用，讓讀者可以在短時間內熟悉此一領域。讓人工智慧知識不再是高不可攀，可以飛入平常百姓之家。\\r\\n------臺灣科技大學企```\\n  分類: 物聯網 IoT\\n  ']\n",
      "['\\n  書名: ```ESP32 微處理機實習與物聯網應用含 AMA Fundamentals Level 先進微控制器應用認證 - 最新版(第四版) - 附 MOSME 行動學習一點通：評量．加值```\\n  描述: ```1.全書共83個範例，清楚解說各種用法\\r\\n2.單晶片實習之硬體、邏輯及演算法\\r\\n3.利用聲、光、螢幕、動力輸出\\r\\n4.應用各種感測器感知現實世界\\r\\n5.涵蓋常見網路規格：藍牙、Wi-Fi、LoRa\\r\\n6.適用 Arduino IDE 1.8 版以及 2.0 版\\r\\n```\\n  分類: 物聯網 IoT\\n  ', '\\n  書名: ```ESP32 微處理機實習與物聯網應用含 AMA Fundamentals Level 先進微控制器應用認證 - 最新版(第四版) - 附 MOSME 行動學習一點通：評量．加值```\\n  描述: ```1.全書共83個範例，清楚解說各種用法\\r\\n2.單晶片實習之硬體、邏輯及演算法\\r\\n3.利用聲、光、螢幕、動力輸出\\r\\n4.應用各種感測器感知現實世界\\r\\n5.涵蓋常見網路規格：藍牙、Wi-Fi、LoRa\\r\\n6.適用 Arduino IDE 1.8 版以及 2.0 版\\r\\n```\\n  分類: 物聯網 IoT\\n  ', '\\n  書名: ```物聯網 DEF```\\n  描述: ```《物聯網DEF》一書以臺大電機系「物聯網應用系統專題」課程與實作教材為基礎，著重部署（Deployment）、賦能（Enablement）及實踐（Fulfillment）等實務應用議題，歷經3年反覆修正後編撰而成。\\r\\n\\r\\n本書參照「網宇實體系統」（Cyber-Physical System，簡稱CPS）架構，涵蓋其中的感測控制（Connected Things）、網路傳輸（Conversion）、虛實統合（Cyber）、辨識認知（Cognition）及永續進化（Continuity）五大層次，並從計算機（Computing）、通訊（Communication）與控制（Control）3C為基礎。全書配合學期課程共6章，逐步引導學習者由物端到雲端，進行全端系統開發、設備部署與組態管理、物聯網與資通安全、室內定位系統與定位服務，以及無人導引載具應用實作等各重大研究議題，最後搭配專題實作範例，以強化實作學習經驗與延伸應用能力。\\r\\n\\r\\n本書特色\\r\\n\\r\\n1. 從技術理論基礎入門，以步驟搭配圖表方式，帶領學習者逐步掌握資網通技術應用重點。\\r\\n2. 各章學習重點與實作技巧連貫，充分讓學習者反覆操作體```\\n  分類: 物聯網 IoT\\n  ']\n",
      "['\\n  書名: ```丙級建築製圖應用－手繪項技能檢定學術科題庫解析 (2023最新版)(附學科測驗卷)```\\n  描述: ```nan```\\n  分類: 考試認證\\n  ', '\\n  書名: ```丙級工業電子技能檢定學科題庫解析 (2023最新版)(附學科測驗卷)```\\n  描述: ```本書特色\\r\\n\\r\\n1.本書依勞發署技檢中心最新公告試題撰寫而成，題題皆有精闢解析\\r\\n2.作者累積多年教學經驗編寫而成，讓考生明瞭試題之用意，融會所學進而提升學科檢定通過率\\r\\n3.本書細分為工作項目與檢定評量，可讓考生充分練習\\r\\n\\r\\n內容簡介\\r\\n\\r\\n本書依勞發署技檢中心最新公告試題撰寫而成，而本書作者累積十多年來教授工業電子丙級學、術科的經驗來看，學科部分因公告試題並無詳解，考生閱讀及記憶時非常痛苦，因而著手將題庫試題每題都完成詳解，讓學生明瞭題庫試題考出之用意，讓考生能事半功倍，融會所學進而提升學科檢定通過率。\\r\\n```\\n  分類: 考試認證\\n  ', '\\n  書名: ```電腦硬體裝修丙級檢定學術科解題教本 (第三版)｜Windows 10 + Ubuntu 18```\\n  描述: ```◆本書依據勞動部勞動力發展署技能檢定中心最新公告，電腦硬體裝修丙級術科試題撰寫。\\r\\n\\r\\n術科篇：113年啟用術科試題\\r\\n1.針對電腦硬體裝修丙級技能檢定的術科試題，做詳盡的操作步驟解說，並說明術科檢定評分重點及考試策略。\\r\\n2.引導您完成檢定「各站題目要求及操作」與「個人電腦拆裝及故障點檢測」，讓考生考試作答時輕易得分。\\r\\n3.圖解式教學，循序漸進，鉅細靡遺，為技術士檢定或電腦組裝DIY的最佳自修教材。\\r\\n4.軟體環境安裝與設定使用作業系統以Windows 10/Ubuntu 18編寫。\\r\\n5.Ubuntu安裝速度較快且簡易，協助考生能更順利安裝，完成考題需求。\\r\\n\\r\\n學科篇：\\r\\n1.完整學科試題707題，輔以難題解析，協助考生理解。\\r\\n2.包含90006職業安全衛生/90007工作倫理與職業道德/90008環境保護/90009節能減碳共同科目400題；90011資訊相關職類共用工作項目119題。\\r\\n\\r\\n教學影片，掃描書中QRCode即可觀看：\\r\\n★術科第一站-硬體拆裝影片\\r\\n★術科第二站-Windows 10安裝及設定\\r\\n★術科第二站-Ubuntu 18安裝及設定\\r\\n\\r\\n附錄：\\r\\n★```\\n  分類: 考試認證\\n  ']\n",
      "['\\n  書名: ```技術士技能檢定 門市服務丙級｜學科 & 術科第一站筆試```\\n  描述: ```本書依據勞動部勞動力發展署技能檢定中心公告門市服務丙級試題進行解題，內容包含學科、術科第一站-筆試。\\r\\n\\r\\n學科篇\\r\\n★最新公告學科試題622題，部分試題輔以解析說明，協助考生了解試題內容，針對學科輕鬆準備並建立正確觀念。\\r\\n★含113啟用之90006職業安全衛生、90007工作倫理與職業道德、90008環境保護、90009節能減碳學科共同科目共400題。\\r\\n\\r\\n術科篇第一站-筆試：\\r\\n★測試項目五大題型：1、門市管理作業 2、櫃檯管理作業 3、清潔管理作業 4、門市管理表報 5、POS相關帳表\\r\\n★最簡潔明確的答題內容，無須冗長背誦，協助考生完成檢定作答，輕鬆通過筆試測驗。\\r\\n\\xa0\\r\\n```\\n  分類: 考試認證\\n  ', '\\n  書名: ```丙級工業電子技能檢定學科題庫解析 (2023最新版)(附學科測驗卷)```\\n  描述: ```本書特色\\r\\n\\r\\n1.本書依勞發署技檢中心最新公告試題撰寫而成，題題皆有精闢解析\\r\\n2.作者累積多年教學經驗編寫而成，讓考生明瞭試題之用意，融會所學進而提升學科檢定通過率\\r\\n3.本書細分為工作項目與檢定評量，可讓考生充分練習\\r\\n\\r\\n內容簡介\\r\\n\\r\\n本書依勞發署技檢中心最新公告試題撰寫而成，而本書作者累積十多年來教授工業電子丙級學、術科的經驗來看，學科部分因公告試題並無詳解，考生閱讀及記憶時非常痛苦，因而著手將題庫試題每題都完成詳解，讓學生明瞭題庫試題考出之用意，讓考生能事半功倍，融會所學進而提升學科檢定通過率。\\r\\n```\\n  分類: 考試認證\\n  ', '\\n  書名: ```新時代 技能檢定共用項 - 職業安全衛生、工作倫理與職業道德、環境保護、節能減碳學科參考資料 - 最新版(第八版) - 附MOSME行動學習一點通：評量```\\n  描述: ```1.依勞動部最新公告學科共用項參考資料編輯。\\r\\n2.「職業安全衛生」關乎勞工的生命安全、環境公安的保障以及工作的順利有效達成，為工作安全的最佳屏障。\\r\\n3.「工作倫理與職業道德」展現各職類級別的精神與職業靈魂，為職業之精神主幹。\\r\\n4.「環境保護」及「節能減碳」建立正確觀念，達到地球之永續經營。\\r\\n5.勞動部特訂定為職類共通項，訂定共用規範，不分級別，各職類學科題庫抽題比例各項各佔5%，合計20%。\\r\\n6.各職類之級別依抽題比例，共用工作項目學科題庫所佔分數：\\r\\n\\u3000(1)丙級、單一級:各共用工作項目4題5分，共計16題、總分20分。\\r\\n\\u3000(2)乙級、甲級:各共用工作項目4題4分，共計16題、總分16分。\\r\\n7.附贈「MOSME 行動學習一點通」線上測驗，可重複測驗練習，加強檢定實力，實用超值。\\r\\n```\\n  分類: 考試認證\\n  ']\n",
      "['\\n  書名: ```電腦軟體設計丙級技能檢定學術科｜使用 C#```\\n  描述: ```依據勞動部勞動力發展署技能檢定中心最新學術科試題規劃解題\\r\\n\\r\\n術科篇\\r\\n＊最新術科試題：\\r\\n術科第一套試題：程式語言(C#)基本指令操作1060301~1060305 五題。\\r\\n術科第二套試題：程式語言(C#)應用程式設計1060306~1060308 三題。\\r\\n\\r\\n學科篇\\r\\n＊最新公告學科試題單選題509題。\\r\\n＊學科共同科目，90006職業安全衛生/90007工作倫理與職業道德/90008環境保護/90009節能減碳共同科目共400題；90011資訊相關職類共用工作項目119題。\\r\\n\\r\\n本書特色\\r\\n＊術科內容撰寫循序漸進，帶領讀者認識C#，解題前的「快速入門」，初學者也能輕鬆學習。\\r\\n＊術科題目，解說詳盡。精簡的程式實作範例，讓讀者輕鬆學會C#程式語法，寫出結構化C#程式。\\r\\n＊學科試題含電腦概論、程式設計、資訊職類共同工作項目，附有難題解析。\\r\\n＊詳讀章節內容，熟悉指令、語法、資料結構及邏輯，反覆練習即能通過考試取得證照。\\r\\n\\r\\n\\r\\n\\r\\n\\r\\n\\xa0\\r\\n```\\n  分類: 考試認證\\n  ', '\\n  書名: ```電腦硬體裝修丙級檢定學術科解題教本 (第三版)｜Windows 10 + Ubuntu 18```\\n  描述: ```◆本書依據勞動部勞動力發展署技能檢定中心最新公告，電腦硬體裝修丙級術科試題撰寫。\\r\\n\\r\\n術科篇：113年啟用術科試題\\r\\n1.針對電腦硬體裝修丙級技能檢定的術科試題，做詳盡的操作步驟解說，並說明術科檢定評分重點及考試策略。\\r\\n2.引導您完成檢定「各站題目要求及操作」與「個人電腦拆裝及故障點檢測」，讓考生考試作答時輕易得分。\\r\\n3.圖解式教學，循序漸進，鉅細靡遺，為技術士檢定或電腦組裝DIY的最佳自修教材。\\r\\n4.軟體環境安裝與設定使用作業系統以Windows 10/Ubuntu 18編寫。\\r\\n5.Ubuntu安裝速度較快且簡易，協助考生能更順利安裝，完成考題需求。\\r\\n\\r\\n學科篇：\\r\\n1.完整學科試題707題，輔以難題解析，協助考生理解。\\r\\n2.包含90006職業安全衛生/90007工作倫理與職業道德/90008環境保護/90009節能減碳共同科目400題；90011資訊相關職類共用工作項目119題。\\r\\n\\r\\n教學影片，掃描書中QRCode即可觀看：\\r\\n★術科第一站-硬體拆裝影片\\r\\n★術科第二站-Windows 10安裝及設定\\r\\n★術科第二站-Ubuntu 18安裝及設定\\r\\n\\r\\n附錄：\\r\\n★```\\n  分類: 考試認證\\n  ', '\\n  書名: ```升科大四技－程式設計實習總複習 (2024最新版)```\\n  描述: ```本書特色\\r\\n\\r\\n1.重點整理\\r\\n將各章節重點以條例式敘述，使同學能在最短的時間內，以最簡單的方法充分而有效的掌握研讀重點及命題方向，以收事半功倍之效。\\r\\n2.範例講解\\r\\n文字說明佐以圖解，以期對題目的完全解析、充分理解。\\r\\n3.學生練習\\r\\n同學在研讀範例後能立即練習。\\r\\n4.精選試題及歷屆試題\\r\\n依各章節範圍分類，擷取類題及近年重要升學考試歷屆試題之代表題型，部份題目融入素養題型，精簡扼要，期使讀者掌握命題要訣，金榜題名。\\r\\n\\r\\n內容簡介\\r\\n\\r\\n一、本書是根據中華民國一○七年教育部發布之十二年國民基本教育技術型高級中等學校群科課程綱要－電機與電子群「程式設計實習」課程標準，經擷取各版本教科書精華，融合筆者多年輔導升學經驗，精心編輯而成。\\r\\n二、每一章節皆有老師講解與學生練習，且依各章節範圍分類，擷取近年來的精選試題，並附有詳解，可供同學多方練習並迅速吸收。配合新課程方針，以簡單的說明，使同學有效率的學習。\\r\\n```\\n  分類: 程式語言\\n  ']\n",
      "['\\n  書名: ```舞動倉頡輸入法  7/e```\\n  描述: ```早期中文打字是一門專業的技術，如今電腦為中文打字帶來巨大的變革，以往需要給打字行才能製作的文件，現在幾乎任何一個小學以上的學生，只要配合適當的文書處理軟體，相信都可以製作列印出精美的文件。\\r\\n\\r\\n在還沒學習任何一種中文輸入法之前，相信大家一定都是使用注音輸入法來輸入中文，其原因不外乎就是認為要學習其他輸入法可能太難了。一般注音輸入法的取碼數目不超過四個，但是由於注音的同音字太多，因此常會造成輸入錯誤，或是因為選字而無法加快打字的速度。雖然目前的新注音或自然等輸入法，利用詞庫的對應減少重覆字的問題，可是使用者還是必須要會念才有辦法輸入，因此使用上也可說是具有某種程度的不方便。\\r\\n\\r\\n一般而言中文輸入必須滿足「看到字就可直接取碼」、「字碼重覆性小」、「輸入的碼數要少」、「簡單易學」等幾項需求。倉頡輸入法是目前最流行的拆字形輸入法之一，由於它的中文取碼數目不超過五個，同碼的字也不會太多，當然新倉頡也有詞庫可以減少重覆字的發生，更重要的是只要看到字形就可以取出倉頡碼，因此也算是相當容易學習。\\r\\n\\r\\n倉頡輸入法在所有中文電腦系統中都可以使用，換句話說，它是一種跨平台的中文輸入法。另外，倉頡輸入法```\\n  分類: 其他\\n  ', '\\n  書名: ```舞動 Access 資料庫管理 (舊名: 易習 Access 2013 資料庫管理)```\\n  描述: ```範例式教學步步導引，觀念詳解輕鬆學習\\r\\n\\r\\n\\xa0\\r\\n\\r\\nAccess是個簡易但卻功能強大的資料庫應用軟體，本書即由淺入深告訴您如何開發出一進銷存管理系統，此系統是針對國內精品服飾業所設計，但仍適合其他行業的進銷存管理。\\r\\n\\r\\n其中較特別的是，對於精品服飾業者，每年都有所謂的換季大拍賣，供應商會將折數逐次降低(例如5折、4折、3折等)，遇此狀況時，您只要輸入品牌及調降的折數，庫存中所有該品牌的產品將自動依指定的折數調降。本書除了附上一完整的進銷存管理系統外，對於系統中的各程式都有完整的介紹，所以您還可以針對此系統依您的需要加以適度的調整及擴充。\\r\\n\\r\\n\\xa0\\r\\n\\r\\n◎ 認識資料庫及資料庫管理系統\\r\\n\\r\\n◎ 資料表的結構及建立方法\\r\\n\\r\\n◎ 資料表中的記錄的新增、修改、刪除\\r\\n\\r\\n◎ 認識關聯式資料庫及資料表間關聯的建立\\r\\n\\r\\n◎ 表單的設計方法、由表單編輯資料\\r\\n\\r\\n◎ 資料的查詢、動態查詢\\r\\n\\r\\n◎ 各式報表的製作、加上合計欄位\\r\\n\\r\\n◎ 切換表單的製作\\r\\n\\r\\n◎ 使用巨集\\r\\n```\\n  分類: 資料庫\\n  ', '\\n  書名: ```資料處理(概要)  9/e (適用: 高普考．地方政府特考．各類特考．升等升資)```\\n  描述: ```（電子）資料處理（概要）之各命題大綱，橫跨計算機概（論／要）、資訊管理（概要）、資料庫（管理與）應用、資料（結構／通訊）、資訊系統與分析等等科目的知識。本書係為坊間最新、最完整的資料處理相關科目之公務人員考試用書，各章末附有112~100年間相關國考試題供讀者演練，期能幫助考生鑑往知來、瞭解命題核心及趨勢；期詳讀本書後，定能在試場上得心應手、一舉高上！本書特色如下：\\r\\n一、收錄近十年（電子）資料處理（概要）等相關考試的試題，進行撰寫、分類並歸納其詳實的解析內容。\\r\\n二、本書用字遣詞相當具有親和力，易於您理解相關知識，進而融會貫通。\\r\\n三、高度同質性之考題的解析說明，充分被歸納至各章各節當中，讓您短時間內即可掌握歷屆考題的解題精髓。\\r\\n四、本書對於存在語意、語法、觀念上和理論上之謬誤的考題，皆提供額外的解說，以便您能吸收最為正確的相關知識。\\r\\n```\\n  分類: Data Science\\n  ']\n",
      "['\\n  書名: ```圖解 Java 物件導向程式語言```\\n  描述: ```●簡潔精要，易於快速理解與掌握程式技巧\\r\\n●兼顧運算思維與實用技巧，提高學習效果\\r\\n●透過範例引導學習，提供全方位學習體驗\\r\\n●適應性內容編排，滿足初學與進階學習路徑\\r\\n●提供全面知識，著重程式運作原理和邏輯思維\\r\\n\\r\\n一、扎實的Java程式語言基礎。包含Java最新的語法規則介紹，並有相關系統開發的觀念，搭配圖形解說，快速掌握物件導向Java程式設計的概念與技巧。\\r\\n二、提供程式開發工具的輔助。本書搭配詳細的開發工具介紹，提供讀者透過工具來幫助學習，降低學習負荷，提升學習效率。\\r\\n三、涵蓋豐富的程式範例。本書包含超過250個程式範例，提供豐富的實作練習。對於程式邏輯需要特別注意的部分，本書提供逐行解釋，以加強學習印象。\\r\\n```\\n  分類: 程式語言\\n  ', '\\n  書名: ```升科大四技－程式設計實習總複習 (2024最新版)```\\n  描述: ```本書特色\\r\\n\\r\\n1.重點整理\\r\\n將各章節重點以條例式敘述，使同學能在最短的時間內，以最簡單的方法充分而有效的掌握研讀重點及命題方向，以收事半功倍之效。\\r\\n2.範例講解\\r\\n文字說明佐以圖解，以期對題目的完全解析、充分理解。\\r\\n3.學生練習\\r\\n同學在研讀範例後能立即練習。\\r\\n4.精選試題及歷屆試題\\r\\n依各章節範圍分類，擷取類題及近年重要升學考試歷屆試題之代表題型，部份題目融入素養題型，精簡扼要，期使讀者掌握命題要訣，金榜題名。\\r\\n\\r\\n內容簡介\\r\\n\\r\\n一、本書是根據中華民國一○七年教育部發布之十二年國民基本教育技術型高級中等學校群科課程綱要－電機與電子群「程式設計實習」課程標準，經擷取各版本教科書精華，融合筆者多年輔導升學經驗，精心編輯而成。\\r\\n二、每一章節皆有老師講解與學生練習，且依各章節範圍分類，擷取近年來的精選試題，並附有詳解，可供同學多方練習並迅速吸收。配合新課程方針，以簡單的說明，使同學有效率的學習。\\r\\n```\\n  分類: 程式語言\\n  ', '\\n  書名: ```AI 時代必讀！一看就懂的程式語言思維課：機器人陪你養成演算腦，在遊戲中建立核心數位素養！```\\n  描述: ```程式設計納入108課綱，學習任何程式語言都要需要的運算思維！\\r\\n\\r\\n寫程式就像寫作文，學會單字語法不代表就能寫出好文章。\\r\\n但如果能先了解程式設計背後的思維與邏輯，\\r\\n不管以後使用哪種程式語言，都能運用自如，順利完成任務，一生受用。\\r\\n\\r\\n\\r\\n對目前及未來的世代而言，學習如何寫程式已經是跟語文、數學、藝術一樣的基礎能力。在生活中，電腦可以幫忙掃地、洗衣、煮飯；在工作上，除了工商業界，電腦應用還擴及到設計、傳播、藝術等領域，與每個人緊密連結，因此不論處於什麼年齡，我們都應該及早擁有操作電腦的工具及知識，並建立起跟電腦一起工作的自信。\\r\\n\\r\\n你是不是想學程式語言卻不知從何開始？別擔心，你不需要急著弄懂Java、Python、Ruby這些程式語言到底有什麼不同，即使不熟悉電腦的操作也沒關係。這本書將一步一步拆解程式設計師的思考模式，帶領你從故事及遊戲中尋找規則，學會以同樣的方式解決問題。對於不懂電腦的人來說，看到「迴圈」、「條件陳述式」、「運算子」、「變數」這些令人摸不著頭緒的專用術語就夠令人害怕的了，不過這些概念其實透過骰子或撲克牌遊戲就可以輕鬆學會並理解。\\r\\n\\r\\n當你擁有如程式設計師一般```\\n  分類: 人工智慧\\n  ']\n",
      "['\\n  書名: ```電腦如何學會思考？更新人類理解現實方式的「數位現實理論」```\\n  描述: ```洞悉電腦如何運作\\r\\n開啟人類對於現實的全新理解！\\r\\n\\r\\n\\r\\n\\u3000\\u3000早至萊布尼茨（Leibnitz）時代，哲學家就一直提出「該如何為人類心智與電腦建造橋梁」的問題，像是：物質與精神之間的關係是什麼？電腦能像我們這樣思考和感知嗎？而創造出「會思考的機器」，一直以來都是電腦學家的目標。\\r\\n\\r\\n\\u3000\\u3000喬治．湯納（George Towner）因為實際從事設計電腦（在蘋果電腦工作多年）的工作，開啟了在知識論上的追尋，他在《電腦如何學會思考》一書中，發表了針對電腦模仿人類生命進行的三十年研究結果，透過思索解決人類知識相關的哲學問題，對於人類知識如何建構有了全新的理解。\\r\\n\\r\\n\\u3000\\u3000生命透過建構數位現實來理解存在\\r\\n\\r\\n\\u3000\\u3000湯納指出：電腦實際上是設計成像人類一樣行事，專門為了幫助我們完成人類任務而創建的。然而，和人類的生命不同之處，在於電腦的操作可以被我們詳細分析。透過瞭解並解析電腦在設計過程中，電腦工程師如何將類比世界轉換成數位現實的每一個設計決策，有意識地將人類理解現實的方式融入設計中，他得出：人類所理解的現實，根本上來說都是數位現實（此即「數位現實理論」，簡稱DR理論）。\\r\\n\\r\\n\\u3000\\u3000我們都知道電腦最擅```\\n  分類: 人工智慧\\n  ', '\\n  書名: ```電腦如何學會思考？更新人類理解現實方式的「數位現實理論」```\\n  描述: ```洞悉電腦如何運作\\r\\n開啟人類對於現實的全新理解！\\r\\n\\r\\n\\r\\n\\u3000\\u3000早至萊布尼茨（Leibnitz）時代，哲學家就一直提出「該如何為人類心智與電腦建造橋梁」的問題，像是：物質與精神之間的關係是什麼？電腦能像我們這樣思考和感知嗎？而創造出「會思考的機器」，一直以來都是電腦學家的目標。\\r\\n\\r\\n\\u3000\\u3000喬治．湯納（George Towner）因為實際從事設計電腦（在蘋果電腦工作多年）的工作，開啟了在知識論上的追尋，他在《電腦如何學會思考》一書中，發表了針對電腦模仿人類生命進行的三十年研究結果，透過思索解決人類知識相關的哲學問題，對於人類知識如何建構有了全新的理解。\\r\\n\\r\\n\\u3000\\u3000生命透過建構數位現實來理解存在\\r\\n\\r\\n\\u3000\\u3000湯納指出：電腦實際上是設計成像人類一樣行事，專門為了幫助我們完成人類任務而創建的。然而，和人類的生命不同之處，在於電腦的操作可以被我們詳細分析。透過瞭解並解析電腦在設計過程中，電腦工程師如何將類比世界轉換成數位現實的每一個設計決策，有意識地將人類理解現實的方式融入設計中，他得出：人類所理解的現實，根本上來說都是數位現實（此即「數位現實理論」，簡稱DR理論）。\\r\\n\\r\\n\\u3000\\u3000我們都知道電腦最擅```\\n  分類: 人工智慧\\n  ', '\\n  書名: ```AI 時代必讀！一看就懂的程式語言思維課：機器人陪你養成演算腦，在遊戲中建立核心數位素養！```\\n  描述: ```程式設計納入108課綱，學習任何程式語言都要需要的運算思維！\\r\\n\\r\\n寫程式就像寫作文，學會單字語法不代表就能寫出好文章。\\r\\n但如果能先了解程式設計背後的思維與邏輯，\\r\\n不管以後使用哪種程式語言，都能運用自如，順利完成任務，一生受用。\\r\\n\\r\\n\\r\\n對目前及未來的世代而言，學習如何寫程式已經是跟語文、數學、藝術一樣的基礎能力。在生活中，電腦可以幫忙掃地、洗衣、煮飯；在工作上，除了工商業界，電腦應用還擴及到設計、傳播、藝術等領域，與每個人緊密連結，因此不論處於什麼年齡，我們都應該及早擁有操作電腦的工具及知識，並建立起跟電腦一起工作的自信。\\r\\n\\r\\n你是不是想學程式語言卻不知從何開始？別擔心，你不需要急著弄懂Java、Python、Ruby這些程式語言到底有什麼不同，即使不熟悉電腦的操作也沒關係。這本書將一步一步拆解程式設計師的思考模式，帶領你從故事及遊戲中尋找規則，學會以同樣的方式解決問題。對於不懂電腦的人來說，看到「迴圈」、「條件陳述式」、「運算子」、「變數」這些令人摸不著頭緒的專用術語就夠令人害怕的了，不過這些概念其實透過骰子或撲克牌遊戲就可以輕鬆學會並理解。\\r\\n\\r\\n當你擁有如程式設計師一般```\\n  分類: 人工智慧\\n  ']\n"
     ]
    }
   ],
   "source": [
    "for index, row in df2.iterrows():\n",
    "  # 找最相似的3筆範例\n",
    "  query_text = f\"\"\"\n",
    "  書名: ```{row[\"title\"]}```\n",
    "  描述: ```{row[\"description\"]}```\n",
    "  \"\"\"\n",
    "\n",
    "  results = collection.query(\n",
    "    query_embeddings = get_embeddings(query_text),\n",
    "    n_results=3\n",
    "  )\n",
    "\n",
    "  examples = results['documents'][0]\n",
    "\n",
    "  print(examples)\n",
    "\n",
    "  context = '\\n'.join('----\\n' + example for example in examples)\n",
    "  # ------\n",
    "\n",
    "  messages = [\n",
    "        {\n",
    "          \"role\": \"system\",\n",
    "          \"content\":  \"請根據以下書籍資訊，選擇最適合的技能分類。只需要回傳完整分類名稱，不要回傳其他文字，分類只能在以下選一個: 程式語言,Data Science,人工智慧,分散式架構,系統開發,行動軟體開發,資料庫,資訊科學,軟體架構,軟體測試,軟體工程,資訊安全,網站開發,前端開發,架站軟體,網頁設計,Adobe 軟體應用,Office 系列,遊戲開發設計,UI/UX,雲端運算,區塊鏈與金融科技,物聯網 IoT,商業管理類,電子電路電機類,嵌入式系統,視覺影音設計,考試認證,數學,微軟技術,MAC OS 蘋果電腦,其他,兒童專區,製圖軟體應用,語言學習,國家考試,職涯發展,Java,理工類,網路通訊,量子電腦\"\n",
    "        },\n",
    "        {\n",
    "            \"role\": \"user\",\n",
    "            \"content\": context\n",
    "        },\n",
    "        {\n",
    "            \"role\": \"user\",\n",
    "            \"content\": f\"\"\"\n",
    "            書名: ```{row['title']}```\n",
    "            描述: ```{str(row['description'])[0:50]}```\n",
    "            分類:\"\"\"\n",
    "        }\n",
    "    ]\n",
    "\n",
    "  response = get_completion(messages, model=\"gpt-3.5-turbo\")\n",
    "  df2.at[index, 'predict2'] = response\n"
   ]
  },
  {
   "cell_type": "code",
   "execution_count": 17,
   "metadata": {
    "colab": {
     "base_uri": "https://localhost:8080/"
    },
    "executionInfo": {
     "elapsed": 12,
     "status": "ok",
     "timestamp": 1745917155013,
     "user": {
      "displayName": "張文鈿（ihower）",
      "userId": "16942569988483049654"
     },
     "user_tz": -480
    },
    "id": "5BLMTqstfKan",
    "outputId": "d7cb7278-c8bc-44e3-d054-69b629530988"
   },
   "outputs": [
    {
     "name": "stdout",
     "output_type": "stream",
     "text": [
      "準確率: 66.67%\n"
     ]
    }
   ],
   "source": [
    "# 計算兩個欄位一致的筆數\n",
    "correct_predictions2 = (df2['category'] == df2['predict2']).sum()\n",
    "\n",
    "# 計算準確率\n",
    "accuracy2 = correct_predictions2 / len(df2)\n",
    "\n",
    "print(f\"準確率: {accuracy2:.2%}\")"
   ]
  },
  {
   "cell_type": "markdown",
   "metadata": {
    "id": "-Ks3yc8383-v"
   },
   "source": [
    "## Dynamic few-shot 的補充案例"
   ]
  },
  {
   "cell_type": "code",
   "execution_count": null,
   "metadata": {},
   "outputs": [],
   "source": [
    "# 如果需要安裝 LangSmith 來使用 traced 功能\n",
    "# !pip install langsmith\n"
   ]
  },
  {
   "cell_type": "markdown",
   "metadata": {
    "id": "jmvEniUbln0l"
   },
   "source": [
    "## 案例\n",
    "\n",
    "* https://www.microsoft.com/en-us/research/blog/the-power-of-prompting/\n",
    "* Medprompt+ 還用了 logprobs 參數 來判斷答案的信心指數，推薦 OpenAI 這個 cookbook: https://cookbook.openai.com/examples/using_logprobs\n",
    "* https://python.langchain.com/docs/modules/model_io/prompts/example_selector_types/similarity\n",
    "* https://github.com/microsoft/promptbase\n",
    "\n",
    "## Next\n",
    "\n",
    "1. 放入向量資料庫的 examples 需要人工好好整理過成為黃金範例\n",
    "2. 檢索出來的 examples 可再使用 MMR 挑選，以增加多樣性 diverse。因為如果範例出來全部都是同一種分類就比較沒有參考價值了。極端的說，如果向量資料庫裡面有重複的資料，那麼就會撈出重複的資料，透過 MMR 可以排除掉非常相似的內容。\n",
    "\n",
    "* https://medium.com/tech-that-works/maximal-marginal-relevance-to-rerank-results-in-unsupervised-keyphrase-extraction-22d95015c7c5\n",
    "* https://python.langchain.com/docs/modules/model_io/prompts/example_selector_types/mmr"
   ]
  },
  {
   "cell_type": "code",
   "execution_count": null,
   "metadata": {
    "id": "OjAppe2-QCqd"
   },
   "outputs": [],
   "source": []
  }
 ],
 "metadata": {
  "colab": {
   "authorship_tag": "ABX9TyPKQ5V1wnIFv23AkqaiQmPV",
   "provenance": [
    {
     "file_id": "1Je8-cnWc5j3Cl9Eol06hCKO02zvsvvie",
     "timestamp": 1708581499451
    }
   ]
  },
  "kernelspec": {
   "display_name": "Python 3",
   "name": "python3"
  },
  "language_info": {
   "codemirror_mode": {
    "name": "ipython",
    "version": 3
   },
   "file_extension": ".py",
   "mimetype": "text/x-python",
   "name": "python",
   "nbconvert_exporter": "python",
   "pygments_lexer": "ipython3",
   "version": "3.10.17"
  }
 },
 "nbformat": 4,
 "nbformat_minor": 0
}
