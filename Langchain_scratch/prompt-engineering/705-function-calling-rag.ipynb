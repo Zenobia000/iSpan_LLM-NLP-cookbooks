{
 "cells": [
  {
   "cell_type": "markdown",
   "metadata": {
    "id": "GXvqaTwsyw1-"
   },
   "source": [
    "## 這份 Notebook 示範在 Conversational 連續對話的場景，使用 function calling\n",
    "\n",
    "到目前為止的範例，使用外部工具時，例如 RAG, Agent 等，並沒有考慮用戶多輪對話，UI 其實只有提供用戶單一輸入框。\n",
    "\n",
    "當變成多輪對話場景，UI 變成對話框時，有新的需求:\n",
    "\n",
    "1. 外部工具需要的參數，需要參考對話紀錄\n",
    "2. 用戶不總是需要使用外部工具\n",
    "\n",
    "這需求我們可以用 function calling 來解決!"
   ]
  },
  {
   "cell_type": "code",
   "execution_count": null,
   "metadata": {
    "id": "v5FFEhIpTZ24"
   },
   "outputs": [],
   "source": [
    "# from google.colab import userdata\n",
    "# openai_api_key = userdata.get('openai_api_key')"
   ]
  },
  {
   "cell_type": "code",
   "execution_count": 5,
   "metadata": {},
   "outputs": [],
   "source": [
    "# Import necessary libraries\n",
    "## 設定 OpenAI API Key 變數\n",
    "from dotenv import load_dotenv\n",
    "import os\n",
    "\n",
    "# Load the environment variables from .env file\n",
    "load_dotenv()\n",
    "\n",
    "# Access the API key\n",
    "openai_api_key = os.getenv('OPENAI_API_KEY')\n"
   ]
  },
  {
   "cell_type": "code",
   "execution_count": 6,
   "metadata": {
    "id": "LzeCS0bITgng"
   },
   "outputs": [],
   "source": [
    "import requests\n",
    "import json\n",
    "from pprint import pp"
   ]
  },
  {
   "cell_type": "code",
   "execution_count": 7,
   "metadata": {
    "id": "FI2DnaHepfub"
   },
   "outputs": [],
   "source": [
    "def get_embeddings(input, dimensions = 1536, model=\"text-embedding-3-small\"):\n",
    "  payload = { \"input\": input, \"model\": model, \"dimensions\": dimensions }\n",
    "  headers = { \"Authorization\": f'Bearer {openai_api_key}', \"Content-Type\": \"application/json\" }\n",
    "  response = requests.post('https://api.openai.com/v1/embeddings', headers = headers, data = json.dumps(payload) )\n",
    "  obj = json.loads(response.text)\n",
    "  if response.status_code == 200 :\n",
    "    return obj[\"data\"][0][\"embedding\"]\n",
    "  else :\n",
    "    return obj[\"error\"]"
   ]
  },
  {
   "cell_type": "code",
   "execution_count": 8,
   "metadata": {
    "id": "otWbb8RvTjf5"
   },
   "outputs": [],
   "source": [
    "def get_completion(messages, model=\"gpt-4-turbo-preview\", temperature=0, max_tokens=300, tools=None, tool_choice=None):\n",
    "  payload = { \"model\": model, \"temperature\": temperature, \"messages\": messages, \"max_tokens\": max_tokens }\n",
    "  if tools:\n",
    "    payload[\"tools\"] = tools\n",
    "  if tool_choice:\n",
    "    payload[\"tool_choice\"] = tool_choice\n",
    "\n",
    "  headers = { \"Authorization\": f'Bearer {openai_api_key}', \"Content-Type\": \"application/json\" }\n",
    "  response = requests.post('https://api.openai.com/v1/chat/completions', headers = headers, data = json.dumps(payload) )\n",
    "  obj = json.loads(response.text)\n",
    "  print(f\"   response: {obj}\")\n",
    "  if response.status_code == 200 :\n",
    "    return obj[\"choices\"][0][\"message\"] # 改成回傳上一層 message 物件\n",
    "  else :\n",
    "    return obj[\"error\"]"
   ]
  },
  {
   "cell_type": "markdown",
   "metadata": {
    "id": "EWckaw5mgLvc"
   },
   "source": [
    "## 準備 RAG 要用的向量資料"
   ]
  },
  {
   "cell_type": "code",
   "execution_count": 6,
   "metadata": {
    "colab": {
     "base_uri": "https://localhost:8080/"
    },
    "executionInfo": {
     "elapsed": 5,
     "status": "ok",
     "timestamp": 1709657071329,
     "user": {
      "displayName": "張文鈿（ihower）",
      "userId": "16942569988483049654"
     },
     "user_tz": -480
    },
    "id": "yARF9CoSozGb",
    "outputId": "1e45813f-a813-4b2a-8d43-40fb21ad1347"
   },
   "outputs": [
    {
     "name": "stdout",
     "output_type": "stream",
     "text": [
      "--2025-07-25 11:21:08--  https://www.megabank.com.tw/-/media/mega/files/bank/personal/fund/bulletin/weekly-journal/market-analysis/113/1130219.pdf\n",
      "Resolving www.megabank.com.tw (www.megabank.com.tw)... 23.49.116.35\n",
      "Connecting to www.megabank.com.tw (www.megabank.com.tw)|23.49.116.35|:443... connected.\n",
      "HTTP request sent, awaiting response... 200 OK\n",
      "Length: 1798350 (1.7M) [application/pdf]\n",
      "Saving to: ‘1130219.pdf’\n",
      "\n",
      "1130219.pdf         100%[===================>]   1.71M  1.55MB/s    in 1.1s    \n",
      "\n",
      "2025-07-25 11:21:10 (1.55 MB/s) - ‘1130219.pdf’ saved [1798350/1798350]\n",
      "\n"
     ]
    }
   ],
   "source": [
    "!wget https://www.megabank.com.tw/-/media/mega/files/bank/personal/fund/bulletin/weekly-journal/market-analysis/113/1130219.pdf"
   ]
  },
  {
   "cell_type": "code",
   "execution_count": null,
   "metadata": {
    "colab": {
     "base_uri": "https://localhost:8080/"
    },
    "executionInfo": {
     "elapsed": 14734,
     "status": "ok",
     "timestamp": 1709657086061,
     "user": {
      "displayName": "張文鈿（ihower）",
      "userId": "16942569988483049654"
     },
     "user_tz": -480
    },
    "id": "FJ6mtmk4o69S",
    "outputId": "87cdc7c2-e7de-4b8d-bc7a-71c60695deb7"
   },
   "outputs": [
    {
     "name": "stdout",
     "output_type": "stream",
     "text": [
      "Collecting pypdf\n",
      "  Downloading pypdf-4.1.0-py3-none-any.whl (286 kB)\n",
      "\u001b[2K     \u001b[90m━━━━━━━━━━━━━━━━━━━━━━━━━━━━━━━━━━━━━━━━\u001b[0m \u001b[32m286.1/286.1 kB\u001b[0m \u001b[31m5.1 MB/s\u001b[0m eta \u001b[36m0:00:00\u001b[0m\n",
      "\u001b[?25hInstalling collected packages: pypdf\n",
      "Successfully installed pypdf-4.1.0\n"
     ]
    }
   ],
   "source": [
    "!pip install pypdf"
   ]
  },
  {
   "cell_type": "code",
   "execution_count": 9,
   "metadata": {
    "colab": {
     "base_uri": "https://localhost:8080/",
     "height": 52
    },
    "executionInfo": {
     "elapsed": 9,
     "status": "ok",
     "timestamp": 1709657086061,
     "user": {
      "displayName": "張文鈿（ihower）",
      "userId": "16942569988483049654"
     },
     "user_tz": -480
    },
    "id": "ANzBxnXko-Tl",
    "outputId": "b5fc8acf-9764-47f3-856c-15189f5aacfc"
   },
   "outputs": [
    {
     "data": {
      "text/plain": [
       "'本資料純屬參考性質，兆豐商銀不作任何保證與承諾。上述資料，任何人因信賴此資料而做出或改變決策，本身須承擔一切風險，報告資料並無做出\\n買賣任何內文所涉及之證券建議、誘導及鼓勵相關交易。\\n本資料純屬參考性質，兆豐商銀不作任何保證與承諾。上述資料，任何人因信賴此資料而做出或改變決策，本身須承擔一切風險，報告資料並無做出\\n買賣任何內文所涉及之證券建議、誘導及鼓勵相關交易。 1\\n財富管理處 投顧小組\\n113年2月19日\\n投資研究週報'"
      ]
     },
     "execution_count": 9,
     "metadata": {},
     "output_type": "execute_result"
    }
   ],
   "source": [
    "from pypdf import PdfReader\n",
    "\n",
    "reader = PdfReader(\"1130219.pdf\")\n",
    "number_of_pages = len(reader.pages)\n",
    "page = reader.pages[0]\n",
    "text = page.extract_text()\n",
    "text"
   ]
  },
  {
   "cell_type": "code",
   "execution_count": null,
   "metadata": {
    "colab": {
     "base_uri": "https://localhost:8080/"
    },
    "executionInfo": {
     "elapsed": 39834,
     "status": "ok",
     "timestamp": 1709657125888,
     "user": {
      "displayName": "張文鈿（ihower）",
      "userId": "16942569988483049654"
     },
     "user_tz": -480
    },
    "id": "Eei9K8qvpLQS",
    "outputId": "0c7c1b9c-4d0c-4e28-88c1-195ec776fdef"
   },
   "outputs": [
    {
     "name": "stdout",
     "output_type": "stream",
     "text": [
      "Collecting chromadb\n",
      "  Downloading chromadb-0.4.24-py3-none-any.whl (525 kB)\n",
      "\u001b[2K     \u001b[90m━━━━━━━━━━━━━━━━━━━━━━━━━━━━━━━━━━━━━━━━\u001b[0m \u001b[32m525.5/525.5 kB\u001b[0m \u001b[31m5.6 MB/s\u001b[0m eta \u001b[36m0:00:00\u001b[0m\n",
      "\u001b[?25hRequirement already satisfied: build>=1.0.3 in /usr/local/lib/python3.10/dist-packages (from chromadb) (1.0.3)\n",
      "Requirement already satisfied: requests>=2.28 in /usr/local/lib/python3.10/dist-packages (from chromadb) (2.31.0)\n",
      "Requirement already satisfied: pydantic>=1.9 in /usr/local/lib/python3.10/dist-packages (from chromadb) (2.6.3)\n",
      "Collecting chroma-hnswlib==0.7.3 (from chromadb)\n",
      "  Downloading chroma_hnswlib-0.7.3-cp310-cp310-manylinux_2_17_x86_64.manylinux2014_x86_64.whl (2.4 MB)\n",
      "\u001b[2K     \u001b[90m━━━━━━━━━━━━━━━━━━━━━━━━━━━━━━━━━━━━━━━━\u001b[0m \u001b[32m2.4/2.4 MB\u001b[0m \u001b[31m12.7 MB/s\u001b[0m eta \u001b[36m0:00:00\u001b[0m\n",
      "\u001b[?25hCollecting fastapi>=0.95.2 (from chromadb)\n",
      "  Downloading fastapi-0.110.0-py3-none-any.whl (92 kB)\n",
      "\u001b[2K     \u001b[90m━━━━━━━━━━━━━━━━━━━━━━━━━━━━━━━━━━━━━━━━\u001b[0m \u001b[32m92.1/92.1 kB\u001b[0m \u001b[31m12.6 MB/s\u001b[0m eta \u001b[36m0:00:00\u001b[0m\n",
      "\u001b[?25hCollecting uvicorn[standard]>=0.18.3 (from chromadb)\n",
      "  Downloading uvicorn-0.27.1-py3-none-any.whl (60 kB)\n",
      "\u001b[2K     \u001b[90m━━━━━━━━━━━━━━━━━━━━━━━━━━━━━━━━━━━━━━━━\u001b[0m \u001b[32m60.8/60.8 kB\u001b[0m \u001b[31m7.3 MB/s\u001b[0m eta \u001b[36m0:00:00\u001b[0m\n",
      "\u001b[?25hRequirement already satisfied: numpy>=1.22.5 in /usr/local/lib/python3.10/dist-packages (from chromadb) (1.25.2)\n",
      "Collecting posthog>=2.4.0 (from chromadb)\n",
      "  Downloading posthog-3.5.0-py2.py3-none-any.whl (41 kB)\n",
      "\u001b[2K     \u001b[90m━━━━━━━━━━━━━━━━━━━━━━━━━━━━━━━━━━━━━━━━\u001b[0m \u001b[32m41.3/41.3 kB\u001b[0m \u001b[31m5.3 MB/s\u001b[0m eta \u001b[36m0:00:00\u001b[0m\n",
      "\u001b[?25hRequirement already satisfied: typing-extensions>=4.5.0 in /usr/local/lib/python3.10/dist-packages (from chromadb) (4.10.0)\n",
      "Collecting pulsar-client>=3.1.0 (from chromadb)\n",
      "  Downloading pulsar_client-3.4.0-cp310-cp310-manylinux_2_17_x86_64.manylinux2014_x86_64.whl (5.4 MB)\n",
      "\u001b[2K     \u001b[90m━━━━━━━━━━━━━━━━━━━━━━━━━━━━━━━━━━━━━━━━\u001b[0m \u001b[32m5.4/5.4 MB\u001b[0m \u001b[31m24.1 MB/s\u001b[0m eta \u001b[36m0:00:00\u001b[0m\n",
      "\u001b[?25hCollecting onnxruntime>=1.14.1 (from chromadb)\n",
      "  Downloading onnxruntime-1.17.1-cp310-cp310-manylinux_2_27_x86_64.manylinux_2_28_x86_64.whl (6.8 MB)\n",
      "\u001b[2K     \u001b[90m━━━━━━━━━━━━━━━━━━━━━━━━━━━━━━━━━━━━━━━━\u001b[0m \u001b[32m6.8/6.8 MB\u001b[0m \u001b[31m36.9 MB/s\u001b[0m eta \u001b[36m0:00:00\u001b[0m\n",
      "\u001b[?25hCollecting opentelemetry-api>=1.2.0 (from chromadb)\n",
      "  Downloading opentelemetry_api-1.23.0-py3-none-any.whl (58 kB)\n",
      "\u001b[2K     \u001b[90m━━━━━━━━━━━━━━━━━━━━━━━━━━━━━━━━━━━━━━━━\u001b[0m \u001b[32m58.4/58.4 kB\u001b[0m \u001b[31m7.3 MB/s\u001b[0m eta \u001b[36m0:00:00\u001b[0m\n",
      "\u001b[?25hCollecting opentelemetry-exporter-otlp-proto-grpc>=1.2.0 (from chromadb)\n",
      "  Downloading opentelemetry_exporter_otlp_proto_grpc-1.23.0-py3-none-any.whl (18 kB)\n",
      "Collecting opentelemetry-instrumentation-fastapi>=0.41b0 (from chromadb)\n",
      "  Downloading opentelemetry_instrumentation_fastapi-0.44b0-py3-none-any.whl (11 kB)\n",
      "Collecting opentelemetry-sdk>=1.2.0 (from chromadb)\n",
      "  Downloading opentelemetry_sdk-1.23.0-py3-none-any.whl (105 kB)\n",
      "\u001b[2K     \u001b[90m━━━━━━━━━━━━━━━━━━━━━━━━━━━━━━━━━━━━━━━━\u001b[0m \u001b[32m105.7/105.7 kB\u001b[0m \u001b[31m12.9 MB/s\u001b[0m eta \u001b[36m0:00:00\u001b[0m\n",
      "\u001b[?25hRequirement already satisfied: tokenizers>=0.13.2 in /usr/local/lib/python3.10/dist-packages (from chromadb) (0.15.2)\n",
      "Collecting pypika>=0.48.9 (from chromadb)\n",
      "  Downloading PyPika-0.48.9.tar.gz (67 kB)\n",
      "\u001b[2K     \u001b[90m━━━━━━━━━━━━━━━━━━━━━━━━━━━━━━━━━━━━━━━━\u001b[0m \u001b[32m67.3/67.3 kB\u001b[0m \u001b[31m8.6 MB/s\u001b[0m eta \u001b[36m0:00:00\u001b[0m\n",
      "\u001b[?25h  Installing build dependencies ... \u001b[?25l\u001b[?25hdone\n",
      "  Getting requirements to build wheel ... \u001b[?25l\u001b[?25hdone\n",
      "  Preparing metadata (pyproject.toml) ... \u001b[?25l\u001b[?25hdone\n",
      "Requirement already satisfied: tqdm>=4.65.0 in /usr/local/lib/python3.10/dist-packages (from chromadb) (4.66.2)\n",
      "Collecting overrides>=7.3.1 (from chromadb)\n",
      "  Downloading overrides-7.7.0-py3-none-any.whl (17 kB)\n",
      "Requirement already satisfied: importlib-resources in /usr/local/lib/python3.10/dist-packages (from chromadb) (6.1.2)\n",
      "Requirement already satisfied: grpcio>=1.58.0 in /usr/local/lib/python3.10/dist-packages (from chromadb) (1.62.0)\n",
      "Collecting bcrypt>=4.0.1 (from chromadb)\n",
      "  Downloading bcrypt-4.1.2-cp39-abi3-manylinux_2_28_x86_64.whl (698 kB)\n",
      "\u001b[2K     \u001b[90m━━━━━━━━━━━━━━━━━━━━━━━━━━━━━━━━━━━━━━━━\u001b[0m \u001b[32m698.9/698.9 kB\u001b[0m \u001b[31m10.1 MB/s\u001b[0m eta \u001b[36m0:00:00\u001b[0m\n",
      "\u001b[?25hRequirement already satisfied: typer>=0.9.0 in /usr/local/lib/python3.10/dist-packages (from chromadb) (0.9.0)\n",
      "Collecting kubernetes>=28.1.0 (from chromadb)\n",
      "  Downloading kubernetes-29.0.0-py2.py3-none-any.whl (1.6 MB)\n",
      "\u001b[2K     \u001b[90m━━━━━━━━━━━━━━━━━━━━━━━━━━━━━━━━━━━━━━━━\u001b[0m \u001b[32m1.6/1.6 MB\u001b[0m \u001b[31m42.9 MB/s\u001b[0m eta \u001b[36m0:00:00\u001b[0m\n",
      "\u001b[?25hRequirement already satisfied: tenacity>=8.2.3 in /usr/local/lib/python3.10/dist-packages (from chromadb) (8.2.3)\n",
      "Requirement already satisfied: PyYAML>=6.0.0 in /usr/local/lib/python3.10/dist-packages (from chromadb) (6.0.1)\n",
      "Collecting mmh3>=4.0.1 (from chromadb)\n",
      "  Downloading mmh3-4.1.0-cp310-cp310-manylinux_2_5_x86_64.manylinux1_x86_64.manylinux_2_17_x86_64.manylinux2014_x86_64.whl (67 kB)\n",
      "\u001b[2K     \u001b[90m━━━━━━━━━━━━━━━━━━━━━━━━━━━━━━━━━━━━━━━━\u001b[0m \u001b[32m67.6/67.6 kB\u001b[0m \u001b[31m9.6 MB/s\u001b[0m eta \u001b[36m0:00:00\u001b[0m\n",
      "\u001b[?25hCollecting orjson>=3.9.12 (from chromadb)\n",
      "  Downloading orjson-3.9.15-cp310-cp310-manylinux_2_17_x86_64.manylinux2014_x86_64.whl (138 kB)\n",
      "\u001b[2K     \u001b[90m━━━━━━━━━━━━━━━━━━━━━━━━━━━━━━━━━━━━━━━━\u001b[0m \u001b[32m138.5/138.5 kB\u001b[0m \u001b[31m18.1 MB/s\u001b[0m eta \u001b[36m0:00:00\u001b[0m\n",
      "\u001b[?25hRequirement already satisfied: packaging>=19.0 in /usr/local/lib/python3.10/dist-packages (from build>=1.0.3->chromadb) (23.2)\n",
      "Requirement already satisfied: pyproject_hooks in /usr/local/lib/python3.10/dist-packages (from build>=1.0.3->chromadb) (1.0.0)\n",
      "Requirement already satisfied: tomli>=1.1.0 in /usr/local/lib/python3.10/dist-packages (from build>=1.0.3->chromadb) (2.0.1)\n",
      "Collecting starlette<0.37.0,>=0.36.3 (from fastapi>=0.95.2->chromadb)\n",
      "  Downloading starlette-0.36.3-py3-none-any.whl (71 kB)\n",
      "\u001b[2K     \u001b[90m━━━━━━━━━━━━━━━━━━━━━━━━━━━━━━━━━━━━━━━━\u001b[0m \u001b[32m71.5/71.5 kB\u001b[0m \u001b[31m8.6 MB/s\u001b[0m eta \u001b[36m0:00:00\u001b[0m\n",
      "\u001b[?25hRequirement already satisfied: certifi>=14.05.14 in /usr/local/lib/python3.10/dist-packages (from kubernetes>=28.1.0->chromadb) (2024.2.2)\n",
      "Requirement already satisfied: six>=1.9.0 in /usr/local/lib/python3.10/dist-packages (from kubernetes>=28.1.0->chromadb) (1.16.0)\n",
      "Requirement already satisfied: python-dateutil>=2.5.3 in /usr/local/lib/python3.10/dist-packages (from kubernetes>=28.1.0->chromadb) (2.8.2)\n",
      "Requirement already satisfied: google-auth>=1.0.1 in /usr/local/lib/python3.10/dist-packages (from kubernetes>=28.1.0->chromadb) (2.27.0)\n",
      "Requirement already satisfied: websocket-client!=0.40.0,!=0.41.*,!=0.42.*,>=0.32.0 in /usr/local/lib/python3.10/dist-packages (from kubernetes>=28.1.0->chromadb) (1.7.0)\n",
      "Requirement already satisfied: requests-oauthlib in /usr/local/lib/python3.10/dist-packages (from kubernetes>=28.1.0->chromadb) (1.3.1)\n",
      "Requirement already satisfied: oauthlib>=3.2.2 in /usr/local/lib/python3.10/dist-packages (from kubernetes>=28.1.0->chromadb) (3.2.2)\n",
      "Requirement already satisfied: urllib3>=1.24.2 in /usr/local/lib/python3.10/dist-packages (from kubernetes>=28.1.0->chromadb) (2.0.7)\n",
      "Collecting coloredlogs (from onnxruntime>=1.14.1->chromadb)\n",
      "  Downloading coloredlogs-15.0.1-py2.py3-none-any.whl (46 kB)\n",
      "\u001b[2K     \u001b[90m━━━━━━━━━━━━━━━━━━━━━━━━━━━━━━━━━━━━━━━━\u001b[0m \u001b[32m46.0/46.0 kB\u001b[0m \u001b[31m6.9 MB/s\u001b[0m eta \u001b[36m0:00:00\u001b[0m\n",
      "\u001b[?25hRequirement already satisfied: flatbuffers in /usr/local/lib/python3.10/dist-packages (from onnxruntime>=1.14.1->chromadb) (23.5.26)\n",
      "Requirement already satisfied: protobuf in /usr/local/lib/python3.10/dist-packages (from onnxruntime>=1.14.1->chromadb) (3.20.3)\n",
      "Requirement already satisfied: sympy in /usr/local/lib/python3.10/dist-packages (from onnxruntime>=1.14.1->chromadb) (1.12)\n",
      "Collecting deprecated>=1.2.6 (from opentelemetry-api>=1.2.0->chromadb)\n",
      "  Downloading Deprecated-1.2.14-py2.py3-none-any.whl (9.6 kB)\n",
      "Collecting importlib-metadata<7.0,>=6.0 (from opentelemetry-api>=1.2.0->chromadb)\n",
      "  Downloading importlib_metadata-6.11.0-py3-none-any.whl (23 kB)\n",
      "Requirement already satisfied: googleapis-common-protos~=1.52 in /usr/local/lib/python3.10/dist-packages (from opentelemetry-exporter-otlp-proto-grpc>=1.2.0->chromadb) (1.62.0)\n",
      "Collecting opentelemetry-exporter-otlp-proto-common==1.23.0 (from opentelemetry-exporter-otlp-proto-grpc>=1.2.0->chromadb)\n",
      "  Downloading opentelemetry_exporter_otlp_proto_common-1.23.0-py3-none-any.whl (17 kB)\n",
      "Collecting opentelemetry-proto==1.23.0 (from opentelemetry-exporter-otlp-proto-grpc>=1.2.0->chromadb)\n",
      "  Downloading opentelemetry_proto-1.23.0-py3-none-any.whl (50 kB)\n",
      "\u001b[2K     \u001b[90m━━━━━━━━━━━━━━━━━━━━━━━━━━━━━━━━━━━━━━━━\u001b[0m \u001b[32m50.8/50.8 kB\u001b[0m \u001b[31m6.7 MB/s\u001b[0m eta \u001b[36m0:00:00\u001b[0m\n",
      "\u001b[?25hCollecting opentelemetry-instrumentation-asgi==0.44b0 (from opentelemetry-instrumentation-fastapi>=0.41b0->chromadb)\n",
      "  Downloading opentelemetry_instrumentation_asgi-0.44b0-py3-none-any.whl (14 kB)\n",
      "Collecting opentelemetry-instrumentation==0.44b0 (from opentelemetry-instrumentation-fastapi>=0.41b0->chromadb)\n",
      "  Downloading opentelemetry_instrumentation-0.44b0-py3-none-any.whl (28 kB)\n",
      "Collecting opentelemetry-semantic-conventions==0.44b0 (from opentelemetry-instrumentation-fastapi>=0.41b0->chromadb)\n",
      "  Downloading opentelemetry_semantic_conventions-0.44b0-py3-none-any.whl (36 kB)\n",
      "Collecting opentelemetry-util-http==0.44b0 (from opentelemetry-instrumentation-fastapi>=0.41b0->chromadb)\n",
      "  Downloading opentelemetry_util_http-0.44b0-py3-none-any.whl (6.9 kB)\n",
      "Requirement already satisfied: setuptools>=16.0 in /usr/local/lib/python3.10/dist-packages (from opentelemetry-instrumentation==0.44b0->opentelemetry-instrumentation-fastapi>=0.41b0->chromadb) (67.7.2)\n",
      "Requirement already satisfied: wrapt<2.0.0,>=1.0.0 in /usr/local/lib/python3.10/dist-packages (from opentelemetry-instrumentation==0.44b0->opentelemetry-instrumentation-fastapi>=0.41b0->chromadb) (1.14.1)\n",
      "Collecting asgiref~=3.0 (from opentelemetry-instrumentation-asgi==0.44b0->opentelemetry-instrumentation-fastapi>=0.41b0->chromadb)\n",
      "  Downloading asgiref-3.7.2-py3-none-any.whl (24 kB)\n",
      "Collecting monotonic>=1.5 (from posthog>=2.4.0->chromadb)\n",
      "  Downloading monotonic-1.6-py2.py3-none-any.whl (8.2 kB)\n",
      "Collecting backoff>=1.10.0 (from posthog>=2.4.0->chromadb)\n",
      "  Downloading backoff-2.2.1-py3-none-any.whl (15 kB)\n",
      "Requirement already satisfied: annotated-types>=0.4.0 in /usr/local/lib/python3.10/dist-packages (from pydantic>=1.9->chromadb) (0.6.0)\n",
      "Requirement already satisfied: pydantic-core==2.16.3 in /usr/local/lib/python3.10/dist-packages (from pydantic>=1.9->chromadb) (2.16.3)\n",
      "Requirement already satisfied: charset-normalizer<4,>=2 in /usr/local/lib/python3.10/dist-packages (from requests>=2.28->chromadb) (3.3.2)\n",
      "Requirement already satisfied: idna<4,>=2.5 in /usr/local/lib/python3.10/dist-packages (from requests>=2.28->chromadb) (3.6)\n",
      "Requirement already satisfied: huggingface_hub<1.0,>=0.16.4 in /usr/local/lib/python3.10/dist-packages (from tokenizers>=0.13.2->chromadb) (0.20.3)\n",
      "Requirement already satisfied: click<9.0.0,>=7.1.1 in /usr/local/lib/python3.10/dist-packages (from typer>=0.9.0->chromadb) (8.1.7)\n",
      "Collecting h11>=0.8 (from uvicorn[standard]>=0.18.3->chromadb)\n",
      "  Downloading h11-0.14.0-py3-none-any.whl (58 kB)\n",
      "\u001b[2K     \u001b[90m━━━━━━━━━━━━━━━━━━━━━━━━━━━━━━━━━━━━━━━━\u001b[0m \u001b[32m58.3/58.3 kB\u001b[0m \u001b[31m7.5 MB/s\u001b[0m eta \u001b[36m0:00:00\u001b[0m\n",
      "\u001b[?25hCollecting httptools>=0.5.0 (from uvicorn[standard]>=0.18.3->chromadb)\n",
      "  Downloading httptools-0.6.1-cp310-cp310-manylinux_2_5_x86_64.manylinux1_x86_64.manylinux_2_17_x86_64.manylinux2014_x86_64.whl (341 kB)\n",
      "\u001b[2K     \u001b[90m━━━━━━━━━━━━━━━━━━━━━━━━━━━━━━━━━━━━━━━━\u001b[0m \u001b[32m341.4/341.4 kB\u001b[0m \u001b[31m36.0 MB/s\u001b[0m eta \u001b[36m0:00:00\u001b[0m\n",
      "\u001b[?25hCollecting python-dotenv>=0.13 (from uvicorn[standard]>=0.18.3->chromadb)\n",
      "  Downloading python_dotenv-1.0.1-py3-none-any.whl (19 kB)\n",
      "Collecting uvloop!=0.15.0,!=0.15.1,>=0.14.0 (from uvicorn[standard]>=0.18.3->chromadb)\n",
      "  Downloading uvloop-0.19.0-cp310-cp310-manylinux_2_17_x86_64.manylinux2014_x86_64.whl (3.4 MB)\n",
      "\u001b[2K     \u001b[90m━━━━━━━━━━━━━━━━━━━━━━━━━━━━━━━━━━━━━━━━\u001b[0m \u001b[32m3.4/3.4 MB\u001b[0m \u001b[31m54.4 MB/s\u001b[0m eta \u001b[36m0:00:00\u001b[0m\n",
      "\u001b[?25hCollecting watchfiles>=0.13 (from uvicorn[standard]>=0.18.3->chromadb)\n",
      "  Downloading watchfiles-0.21.0-cp310-cp310-manylinux_2_17_x86_64.manylinux2014_x86_64.whl (1.3 MB)\n",
      "\u001b[2K     \u001b[90m━━━━━━━━━━━━━━━━━━━━━━━━━━━━━━━━━━━━━━━━\u001b[0m \u001b[32m1.3/1.3 MB\u001b[0m \u001b[31m51.7 MB/s\u001b[0m eta \u001b[36m0:00:00\u001b[0m\n",
      "\u001b[?25hCollecting websockets>=10.4 (from uvicorn[standard]>=0.18.3->chromadb)\n",
      "  Downloading websockets-12.0-cp310-cp310-manylinux_2_5_x86_64.manylinux1_x86_64.manylinux_2_17_x86_64.manylinux2014_x86_64.whl (130 kB)\n",
      "\u001b[2K     \u001b[90m━━━━━━━━━━━━━━━━━━━━━━━━━━━━━━━━━━━━━━━━\u001b[0m \u001b[32m130.2/130.2 kB\u001b[0m \u001b[31m15.9 MB/s\u001b[0m eta \u001b[36m0:00:00\u001b[0m\n",
      "\u001b[?25hRequirement already satisfied: cachetools<6.0,>=2.0.0 in /usr/local/lib/python3.10/dist-packages (from google-auth>=1.0.1->kubernetes>=28.1.0->chromadb) (5.3.3)\n",
      "Requirement already satisfied: pyasn1-modules>=0.2.1 in /usr/local/lib/python3.10/dist-packages (from google-auth>=1.0.1->kubernetes>=28.1.0->chromadb) (0.3.0)\n",
      "Requirement already satisfied: rsa<5,>=3.1.4 in /usr/local/lib/python3.10/dist-packages (from google-auth>=1.0.1->kubernetes>=28.1.0->chromadb) (4.9)\n",
      "Requirement already satisfied: filelock in /usr/local/lib/python3.10/dist-packages (from huggingface_hub<1.0,>=0.16.4->tokenizers>=0.13.2->chromadb) (3.13.1)\n",
      "Requirement already satisfied: fsspec>=2023.5.0 in /usr/local/lib/python3.10/dist-packages (from huggingface_hub<1.0,>=0.16.4->tokenizers>=0.13.2->chromadb) (2023.6.0)\n",
      "Requirement already satisfied: zipp>=0.5 in /usr/local/lib/python3.10/dist-packages (from importlib-metadata<7.0,>=6.0->opentelemetry-api>=1.2.0->chromadb) (3.17.0)\n",
      "Requirement already satisfied: anyio<5,>=3.4.0 in /usr/local/lib/python3.10/dist-packages (from starlette<0.37.0,>=0.36.3->fastapi>=0.95.2->chromadb) (3.7.1)\n",
      "Collecting humanfriendly>=9.1 (from coloredlogs->onnxruntime>=1.14.1->chromadb)\n",
      "  Downloading humanfriendly-10.0-py2.py3-none-any.whl (86 kB)\n",
      "\u001b[2K     \u001b[90m━━━━━━━━━━━━━━━━━━━━━━━━━━━━━━━━━━━━━━━━\u001b[0m \u001b[32m86.8/86.8 kB\u001b[0m \u001b[31m9.8 MB/s\u001b[0m eta \u001b[36m0:00:00\u001b[0m\n",
      "\u001b[?25hRequirement already satisfied: mpmath>=0.19 in /usr/local/lib/python3.10/dist-packages (from sympy->onnxruntime>=1.14.1->chromadb) (1.3.0)\n",
      "Requirement already satisfied: sniffio>=1.1 in /usr/local/lib/python3.10/dist-packages (from anyio<5,>=3.4.0->starlette<0.37.0,>=0.36.3->fastapi>=0.95.2->chromadb) (1.3.1)\n",
      "Requirement already satisfied: exceptiongroup in /usr/local/lib/python3.10/dist-packages (from anyio<5,>=3.4.0->starlette<0.37.0,>=0.36.3->fastapi>=0.95.2->chromadb) (1.2.0)\n",
      "Requirement already satisfied: pyasn1<0.6.0,>=0.4.6 in /usr/local/lib/python3.10/dist-packages (from pyasn1-modules>=0.2.1->google-auth>=1.0.1->kubernetes>=28.1.0->chromadb) (0.5.1)\n",
      "Building wheels for collected packages: pypika\n",
      "  Building wheel for pypika (pyproject.toml) ... \u001b[?25l\u001b[?25hdone\n",
      "  Created wheel for pypika: filename=PyPika-0.48.9-py2.py3-none-any.whl size=53723 sha256=8932625cf2f89f4b195944327463abb22a31f88d0e89ee0c6b3d71c86644bd61\n",
      "  Stored in directory: /root/.cache/pip/wheels/e1/26/51/d0bffb3d2fd82256676d7ad3003faea3bd6dddc9577af665f4\n",
      "Successfully built pypika\n",
      "Installing collected packages: pypika, monotonic, mmh3, websockets, uvloop, python-dotenv, pulsar-client, overrides, orjson, opentelemetry-util-http, opentelemetry-semantic-conventions, opentelemetry-proto, importlib-metadata, humanfriendly, httptools, h11, deprecated, chroma-hnswlib, bcrypt, backoff, asgiref, watchfiles, uvicorn, starlette, posthog, opentelemetry-exporter-otlp-proto-common, opentelemetry-api, coloredlogs, opentelemetry-sdk, opentelemetry-instrumentation, onnxruntime, kubernetes, fastapi, opentelemetry-instrumentation-asgi, opentelemetry-exporter-otlp-proto-grpc, opentelemetry-instrumentation-fastapi, chromadb\n",
      "  Attempting uninstall: importlib-metadata\n",
      "    Found existing installation: importlib-metadata 7.0.1\n",
      "    Uninstalling importlib-metadata-7.0.1:\n",
      "      Successfully uninstalled importlib-metadata-7.0.1\n",
      "Successfully installed asgiref-3.7.2 backoff-2.2.1 bcrypt-4.1.2 chroma-hnswlib-0.7.3 chromadb-0.4.24 coloredlogs-15.0.1 deprecated-1.2.14 fastapi-0.110.0 h11-0.14.0 httptools-0.6.1 humanfriendly-10.0 importlib-metadata-6.11.0 kubernetes-29.0.0 mmh3-4.1.0 monotonic-1.6 onnxruntime-1.17.1 opentelemetry-api-1.23.0 opentelemetry-exporter-otlp-proto-common-1.23.0 opentelemetry-exporter-otlp-proto-grpc-1.23.0 opentelemetry-instrumentation-0.44b0 opentelemetry-instrumentation-asgi-0.44b0 opentelemetry-instrumentation-fastapi-0.44b0 opentelemetry-proto-1.23.0 opentelemetry-sdk-1.23.0 opentelemetry-semantic-conventions-0.44b0 opentelemetry-util-http-0.44b0 orjson-3.9.15 overrides-7.7.0 posthog-3.5.0 pulsar-client-3.4.0 pypika-0.48.9 python-dotenv-1.0.1 starlette-0.36.3 uvicorn-0.27.1 uvloop-0.19.0 watchfiles-0.21.0 websockets-12.0\n"
     ]
    }
   ],
   "source": [
    "!pip install chromadb"
   ]
  },
  {
   "cell_type": "code",
   "execution_count": 47,
   "metadata": {
    "id": "HHG3fJg3pVc2"
   },
   "outputs": [
    {
     "name": "stderr",
     "output_type": "stream",
     "text": [
      "Failed to send telemetry event ClientStartEvent: module 'chromadb' has no attribute 'get_settings'\n",
      "Failed to send telemetry event ClientCreateCollectionEvent: module 'chromadb' has no attribute 'get_settings'\n"
     ]
    }
   ],
   "source": [
    "# sitecustomize.py\n",
    "import pysqlite3\n",
    "import sys\n",
    "# 將標準 sqlite3 module 全部改為 pysqlite3\n",
    "sys.modules['sqlite3'] = pysqlite3\n",
    "\n",
    "\n",
    "import chromadb\n",
    "chroma_client = chromadb.Client()\n",
    "\n",
    "chroma_client.delete_collection(name=\"collection2\")\n",
    "collection = chroma_client.create_collection(name=\"collection2\")\n"
   ]
  },
  {
   "cell_type": "code",
   "execution_count": 48,
   "metadata": {
    "id": "AHsAy2MJpY-X"
   },
   "outputs": [
    {
     "name": "stderr",
     "output_type": "stream",
     "text": [
      "Failed to send telemetry event CollectionAddEvent: module 'chromadb' has no attribute 'get_settings'\n"
     ]
    }
   ],
   "source": [
    "for index, page in enumerate(reader.pages):\n",
    "  chunk = page.extract_text()\n",
    "\n",
    "  collection.add(\n",
    "    documents = [chunk],\n",
    "    embeddings = [ get_embeddings(chunk) ] ,\n",
    "    metadatas = [ { \"date\": \"2024年2月20日\" , \"filename\": \"1130219.pdf\" } ],\n",
    "    ids=[f\"doc-1-{index}\" ]\n",
    "  )"
   ]
  },
  {
   "cell_type": "markdown",
   "metadata": {
    "id": "jSJEb0rigRCR"
   },
   "source": [
    "## RAG tool 方法"
   ]
  },
  {
   "cell_type": "code",
   "execution_count": 13,
   "metadata": {
    "id": "BpRNWzotMddR"
   },
   "outputs": [],
   "source": [
    "def search_knowledgebase(query):\n",
    "  results = collection.query(\n",
    "      query_embeddings = get_embeddings(query),\n",
    "      n_results=3\n",
    "  )\n",
    "  context = '\\n'.join('* ' + doc for doc in results['documents'][0])\n",
    "  return context"
   ]
  },
  {
   "cell_type": "markdown",
   "metadata": {
    "id": "sTSeC3UUAxde"
   },
   "source": [
    "## 使用 function calling"
   ]
  },
  {
   "cell_type": "code",
   "execution_count": 14,
   "metadata": {
    "id": "XHOcpxfSTxzX"
   },
   "outputs": [],
   "source": [
    "available_tools = {\n",
    "  \"search_knowledgebase\": search_knowledgebase,\n",
    "}\n",
    "\n",
    "def get_completion_with_function_execution(messages, model=\"gpt-4-turbo-preview\", temperature=0, max_tokens=4096, tools=None, tool_choice=None):\n",
    "  print(f\"called prompt: {messages}\")\n",
    "  response = get_completion(messages, model=model, temperature=temperature, max_tokens=max_tokens, tools=tools,tool_choice=tool_choice)\n",
    "\n",
    "  if response.get(\"tool_calls\"): # 或用 response 裡面的 finish_reason 判斷也行\n",
    "    messages.append(response)\n",
    "\n",
    "    # ------ 呼叫函數，這裡改成執行多 tool_calls (可以改成平行處理，目前用簡單的迴圈)\n",
    "    for tool_call in response[\"tool_calls\"]:\n",
    "      function_name = tool_call[\"function\"][\"name\"]\n",
    "      function_args = json.loads(tool_call[\"function\"][\"arguments\"])\n",
    "      function_to_call = available_tools[function_name]\n",
    "\n",
    "      print(f\"   called function {function_name} with {function_args}\")\n",
    "      function_response = function_to_call(**function_args)\n",
    "      messages.append(\n",
    "          {\n",
    "              \"tool_call_id\": tool_call[\"id\"], # 多了 toll_call_id\n",
    "              \"role\": \"tool\",\n",
    "              \"name\": function_name,\n",
    "              \"content\": function_response,\n",
    "          }\n",
    "      )\n",
    "\n",
    "    # 進行遞迴呼叫\n",
    "    return get_completion_with_function_execution(messages, model=model, temperature=temperature, max_tokens=max_tokens, tools=tools,tool_choice=tool_choice)\n",
    "\n",
    "  else:\n",
    "    return response # response[\"content\"]\n"
   ]
  },
  {
   "cell_type": "markdown",
   "metadata": {
    "id": "Be3kmESvQjvi"
   },
   "source": [
    "## 連續對話時，會根據上下文推導出需要的 RAG query 字串"
   ]
  },
  {
   "cell_type": "code",
   "execution_count": 15,
   "metadata": {
    "colab": {
     "base_uri": "https://localhost:8080/"
    },
    "executionInfo": {
     "elapsed": 33546,
     "status": "ok",
     "timestamp": 1709657170415,
     "user": {
      "displayName": "張文鈿（ihower）",
      "userId": "16942569988483049654"
     },
     "user_tz": -480
    },
    "id": "Ug54F5HQUzJP",
    "outputId": "42fa02dd-937c-4bb8-d060-e8c060f1400f"
   },
   "outputs": [
    {
     "name": "stdout",
     "output_type": "stream",
     "text": [
      "called prompt: [{'role': 'system', 'content': \"\\nYou are a finance/investment specialist. You will use the search tool to find relavent knowlege articles to create the answer.\\nBeing smart in your research. If the search does not come back with the answer, rephrase the question and try again.\\nReview the result of the search and use it to guide your next search if needed.\\nIf the question is complex, break down to smaller search steps and find the answer in multiple steps.\\nAnswer ONLY with the facts from the search tool. If there isn't enough information, say you don't know. Do not generate answers that don't use the sources below. If asking a clarifying question to the user would help, ask the question.\\nEach source has a name followed by colon and the actual information, always include the source name for each fact you use in the response. Use square brakets to reference the source, e.g. [info1.txt]. Don't combine sources, list each source separately, e.g. [info1.txt][info2.pdf].\\nIf the user is asking for information that is not related to finance/investment domain, say it's not your area of expertise.\\n\"}, {'role': 'user', 'content': '請問美國經濟如何?'}]\n",
      "   response: {'id': 'chatcmpl-Bx3Wqjg3CvqOgblM3cFleVtcznyzV', 'object': 'chat.completion', 'created': 1753414616, 'model': 'gpt-4-0125-preview', 'choices': [{'index': 0, 'message': {'role': 'assistant', 'content': None, 'tool_calls': [{'id': 'call_IgQ9GV9dfZis3D8v4iyxaRYR', 'type': 'function', 'function': {'name': 'search_knowledgebase', 'arguments': '{\"query\":\"US economy overview\"}'}}], 'refusal': None, 'annotations': []}, 'logprobs': None, 'finish_reason': 'tool_calls'}], 'usage': {'prompt_tokens': 316, 'completion_tokens': 18, 'total_tokens': 334, 'prompt_tokens_details': {'cached_tokens': 0, 'audio_tokens': 0}, 'completion_tokens_details': {'reasoning_tokens': 0, 'audio_tokens': 0, 'accepted_prediction_tokens': 0, 'rejected_prediction_tokens': 0}}, 'service_tier': 'default', 'system_fingerprint': None}\n",
      "   called function search_knowledgebase with {'query': 'US economy overview'}\n"
     ]
    },
    {
     "name": "stderr",
     "output_type": "stream",
     "text": [
      "Failed to send telemetry event CollectionQueryEvent: module 'chromadb' has no attribute 'get_settings'\n"
     ]
    },
    {
     "name": "stdout",
     "output_type": "stream",
     "text": [
      "called prompt: [{'role': 'system', 'content': \"\\nYou are a finance/investment specialist. You will use the search tool to find relavent knowlege articles to create the answer.\\nBeing smart in your research. If the search does not come back with the answer, rephrase the question and try again.\\nReview the result of the search and use it to guide your next search if needed.\\nIf the question is complex, break down to smaller search steps and find the answer in multiple steps.\\nAnswer ONLY with the facts from the search tool. If there isn't enough information, say you don't know. Do not generate answers that don't use the sources below. If asking a clarifying question to the user would help, ask the question.\\nEach source has a name followed by colon and the actual information, always include the source name for each fact you use in the response. Use square brakets to reference the source, e.g. [info1.txt]. Don't combine sources, list each source separately, e.g. [info1.txt][info2.pdf].\\nIf the user is asking for information that is not related to finance/investment domain, say it's not your area of expertise.\\n\"}, {'role': 'user', 'content': '請問美國經濟如何?'}, {'role': 'assistant', 'content': None, 'tool_calls': [{'id': 'call_IgQ9GV9dfZis3D8v4iyxaRYR', 'type': 'function', 'function': {'name': 'search_knowledgebase', 'arguments': '{\"query\":\"US economy overview\"}'}}], 'refusal': None, 'annotations': []}, {'tool_call_id': 'call_IgQ9GV9dfZis3D8v4iyxaRYR', 'role': 'tool', 'name': 'search_knowledgebase', 'content': '* 本資料純屬參考性質，兆豐商銀不作任何保證與承諾。上述資料，任何人因信賴此資料而做出或改變決策，本身須承擔一切風險，報告資料並無做出\\n買賣任何內文所涉及之證券建議、誘導及鼓勵相關交易。 4\\n主要經濟數據市\\n場\\n回\\n顧\\n市\\n場\\n焦\\n點\\n聚\\n焦\\n議\\n題\\n資\\n產\\n觀\\n點\\n上週經濟數據\\n國家 項目 資料期間 市場預期 實際公布 前值\\n日本 GDP年化季比 2023 Q4 1.23% -0.40% -3.30%\\n美國 零售銷售(月比) Jan -0.24% -0.80% 0.40%\\n美國 工業生產(月比) Jan 0.23% -0.10% 0.00%\\n美國 PPI(年比) Jan 0.61% 0.90% 1.00%\\n美國 核心PPI(年比) Jan 1.65% 2.00% 1.70%\\n美國 密大消費者信心指數 Feb 79.89 79.60 79.00\\n本週經濟數據\\n日期 國家 項目 資料期間 市場預期 前值\\n2/21 日本 出口(年比) Jan 10.86% 9.70%\\n2/21 日本 工具機訂單(年比) Jan F -- -14.10%\\n2/22 美/歐/日 製造業PMI初值 Feb P 50.55 / 47.12 / -- 50.70 / 46.60 / 48.00\\n2/22 美/歐/日 服務業PMI初值 Feb P 52.37 / 48.73 / -- 52.50 / 48.40 / 53.10\\n2/22 美國 成屋銷售 (月比) Jan 4.92% -1.00%\\n2/22 歐元區 CPI(年比) Jan F 2.80% 2.80%\\n2/22 歐元區 CPI核心(年比) Jan F 3.30% 3.30%\\n2/22 美國 首次申請失業救濟金人數 17-Feb 216.83k 212.00k\\n資料來源:Bloomberg，2024.2.16，投顧小組整理。\\n* 本資料純屬參考性質，兆豐商銀不作任何保證與承諾。上述資料，任何人因信賴此資料而做出或改變決策，本身須承擔一切風險，報告資料並無做出\\n買賣任何內文所涉及之證券建議、誘導及鼓勵相關交易。\\n美國通膨高於預期 壓抑美股樂觀氛圍\\n8\\n• 通膨高於預期：因住房及醫療等服務價格上升抵銷商品價格下滑的影響 ，1月消費者物價指數(CPI)年增率自3.4%下滑至\\n3.1%，核心CPI年增率持平於3.9%，1月生產者物價指數(PPI)年增0.9%，雖較上月下滑，但受服務業成本大增影響，核\\n心PPI年升2%遠高於預期，2月密西根大學調查消費者對未來1年的通膨預期初值升至3.0%，令聯準會降息時程再添變數。\\n• 零售銷售及工業生產不如預期： 因淡季效應、寒冷天氣阻礙外出購物意願，1月零售銷售月減0.8%，為近10個月最低，\\n年增率下滑至0.65%，同時1月工業生產月減0.1%，亦較前月有所惡化，不過，上週初領失業救濟金人數降至21.2萬，大\\n幅低於市場預期，顯示就業市場仍強勁，給予消費動能支撐，2月密西根大學消費者信心指數升至79.6，連3個月上揚。\\n• 美股展望：儘管通膨降溫速度不如預期，但扣除通膨後的實質利率仍高，給予聯準會充足的降息空間，短線雖因市場調\\n整降息預期、科技股累積不小漲幅而有所震盪 ，受惠基本面強勁及AI題材助攻，美股可望維持多頭格局，逢回仍可分批\\n佈局。\\n市\\n場\\n回\\n顧\\n市\\n場\\n焦\\n點\\n聚\\n焦\\n議\\n題\\n美國通膨降溫速度不如預期 美國零售銷售與工業生產\\n%\\n資料來源:Bloomberg,2024.2.16\\n資\\n產\\n觀\\n點\\n%\\n%\\n%\\n資料來源:Bloomberg,2024.2.16\\n* 本資料純屬參考性質，兆豐商銀不作任何保證與承諾。上述資料，任何人因信賴此資料而做出或改變決策，本身須承擔一切風險，報告資料並無做出\\n買賣任何內文所涉及之證券建議、誘導及鼓勵相關交易。\\n歐盟下修經濟成長預估 ECB總裁告誡不應倉促降息\\n資料來源:Bloomberg,2024.2.16\\n9\\n• 歐盟下調歐元區今明年經濟成長及通膨預估： 歐盟執委會將今年歐元區的經濟成長預期由1.2%下調至0.8%、明年經濟成\\n長預期自1.6%下調至1.5%，並預警地緣政治緊張恐使經濟不確定性升高 ，亦將今年通膨預期從3.2%下調至2.7%、明年\\n維持在2.2%不變，反映能源大宗商品價格下降，及升息使經濟動能減弱的影響。\\n• 歐洲央行總裁拉加德告誡不應倉促降息： 歐洲央行總裁拉加德表示，薪資攀升對通膨構成越來越大的驅動力 ，不應該倉\\n促降息，決策者需要更多的證據，確保通膨能回到2%的目標，並表示官員們將在未來幾個月敲定新的貨幣政策框架，市\\n場預估降息時點落在6月份。\\n• 展望：受家庭購買力被侵蝕、緊縮政策、成員國撤回部分振興經濟的財政措施 、和外部需求持續下跌等因素影響 ，歐元\\n區經濟前景不佳，加上中東及紅海局勢不穩增添通膨不確定性，基本面不利歐股表現。\\n市\\n場\\n回\\n顧\\n市\\n場\\n焦\\n點\\n聚\\n焦\\n議\\n題\\n資\\n產\\n觀\\n點\\n歐盟下修今明年歐元區經濟成長預估 歐洲央行降息預估(存款利率)\\n最新預估 2023/11預估\\n歐盟 IMF OECD\\n2024 0.8% 0.9% 0.6%\\n2025 1.5% 1.7% 1.3%\\n0.8% 1.5%\\n資料來源:EU,Bloomberg,2024.2.16\\n(%)\\n(碼)'}]\n",
      "   response: {'id': 'chatcmpl-Bx3WtJQ98oCbIXTsRLPeF2wKs9tTR', 'object': 'chat.completion', 'created': 1753414619, 'model': 'gpt-4-0125-preview', 'choices': [{'index': 0, 'message': {'role': 'assistant', 'content': '美國經濟目前面臨一些挑戰，包括通膨高於預期和零售銷售及工業生產不如預期的情況。1月份，消費者物價指數(CPI)年增率從3.4%下滑至3.1%，而核心CPI年增率保持在3.9%。同時，生產者物價指數(PPI)年增0.9%，核心PPI年增2%，這反映了服務業成本大幅上升的影響。此外，2月份密西根大學的消費者信心指數略有上升至79.6，顯示消費者信心有所改善。然而，1月份零售銷售月減0.8%，為近10個月最低，工業生產也月減0.1%，顯示經濟活動有所放緩。儘管如此，初領失業救濟金人數降至21.2萬，顯示就業市場仍然強勁。美股市場展望方面，儘管通膨降溫速度不如預期，但基本面強勁及AI題材的助攻，預期美股可望維持多頭格局[資料來源:Bloomberg，2024.2.16]。', 'refusal': None, 'annotations': []}, 'logprobs': None, 'finish_reason': 'stop'}], 'usage': {'prompt_tokens': 2946, 'completion_tokens': 416, 'total_tokens': 3362, 'prompt_tokens_details': {'cached_tokens': 0, 'audio_tokens': 0}, 'completion_tokens_details': {'reasoning_tokens': 0, 'audio_tokens': 0, 'accepted_prediction_tokens': 0, 'rejected_prediction_tokens': 0}}, 'service_tier': 'default', 'system_fingerprint': None}\n",
      "------ 最後結果:\n",
      "{'role': 'assistant',\n",
      " 'content': '美國經濟目前面臨一些挑戰，包括通膨高於預期和零售銷售及工業生產不如預期的情況。1月份，消費者物價指數(CPI)年增率從3.4%下滑至3.1%，而核心CPI年增率保持在3.9%。同時，生產者物價指數(PPI)年增0.9%，核心PPI年增2%，這反映了服務業成本大幅上升的影響。此外，2月份密西根大學的消費者信心指數略有上升至79.6，顯示消費者信心有所改善。然而，1月份零售銷售月減0.8%，為近10個月最低，工業生產也月減0.1%，顯示經濟活動有所放緩。儘管如此，初領失業救濟金人數降至21.2萬，顯示就業市場仍然強勁。美股市場展望方面，儘管通膨降溫速度不如預期，但基本面強勁及AI題材的助攻，預期美股可望維持多頭格局[資料來源:Bloomberg，2024.2.16]。',\n",
      " 'refusal': None,\n",
      " 'annotations': []}\n"
     ]
    }
   ],
   "source": [
    "user_messages = [\n",
    "{\"role\": \"system\", \"content\": \"\"\"\n",
    "You are a finance/investment specialist. You will use the search tool to find relavent knowlege articles to create the answer.\n",
    "Being smart in your research. If the search does not come back with the answer, rephrase the question and try again.\n",
    "Review the result of the search and use it to guide your next search if needed.\n",
    "If the question is complex, break down to smaller search steps and find the answer in multiple steps.\n",
    "Answer ONLY with the facts from the search tool. If there isn't enough information, say you don't know. Do not generate answers that don't use the sources below. If asking a clarifying question to the user would help, ask the question.\n",
    "Each source has a name followed by colon and the actual information, always include the source name for each fact you use in the response. Use square brakets to reference the source, e.g. [info1.txt]. Don't combine sources, list each source separately, e.g. [info1.txt][info2.pdf].\n",
    "If the user is asking for information that is not related to finance/investment domain, say it's not your area of expertise.\n",
    "\"\"\"},\n",
    "                 {\"role\": \"user\", \"content\": \"請問美國經濟如何?\"}\n",
    "]\n",
    "tools = [{ \"type\": \"function\",\n",
    "           \"function\": {\n",
    "              \"name\": \"search_knowledgebase\",\n",
    "              \"description\": \"Searches the knowledge base for an answer to the user's question\",\n",
    "              \"parameters\": {\n",
    "                \"type\": \"object\",\n",
    "                  \"properties\": {\n",
    "                    \"query\": { \"type\": \"string\", \"description\": \"The search query to use to search the knowledge base\" }\n",
    "                  },\n",
    "                \"required\": [\"query\"]\n",
    "              },\n",
    "            }\n",
    "         }]\n",
    "\n",
    "response = get_completion_with_function_execution(user_messages, tools=tools)\n",
    "\n",
    "print(\"------ 最後結果:\")\n",
    "pp(response)"
   ]
  },
  {
   "cell_type": "code",
   "execution_count": 16,
   "metadata": {
    "colab": {
     "base_uri": "https://localhost:8080/"
    },
    "executionInfo": {
     "elapsed": 20554,
     "status": "ok",
     "timestamp": 1709657355976,
     "user": {
      "displayName": "張文鈿（ihower）",
      "userId": "16942569988483049654"
     },
     "user_tz": -480
    },
    "id": "L0AJqxoE-WgK",
    "outputId": "a1b894e9-4ef3-4db6-b0ab-ea95f7158aa5"
   },
   "outputs": [
    {
     "name": "stdout",
     "output_type": "stream",
     "text": [
      "called prompt: [{'role': 'system', 'content': \"\\nYou are a finance/investment specialist. You will use the search tool to find relavent knowlege articles to create the answer.\\nBeing smart in your research. If the search does not come back with the answer, rephrase the question and try again.\\nReview the result of the search and use it to guide your next search if needed.\\nIf the question is complex, break down to smaller search steps and find the answer in multiple steps.\\nAnswer ONLY with the facts from the search tool. If there isn't enough information, say you don't know. Do not generate answers that don't use the sources below. If asking a clarifying question to the user would help, ask the question.\\nEach source has a name followed by colon and the actual information, always include the source name for each fact you use in the response. Use square brakets to reference the source, e.g. [info1.txt]. Don't combine sources, list each source separately, e.g. [info1.txt][info2.pdf].\\nIf the user is asking for information that is not related to finance/investment domain, say it's not your area of expertise.\\n\"}, {'role': 'user', 'content': '請問美國經濟如何?'}, {'role': 'assistant', 'content': None, 'tool_calls': [{'id': 'call_IgQ9GV9dfZis3D8v4iyxaRYR', 'type': 'function', 'function': {'name': 'search_knowledgebase', 'arguments': '{\"query\":\"US economy overview\"}'}}], 'refusal': None, 'annotations': []}, {'tool_call_id': 'call_IgQ9GV9dfZis3D8v4iyxaRYR', 'role': 'tool', 'name': 'search_knowledgebase', 'content': '* 本資料純屬參考性質，兆豐商銀不作任何保證與承諾。上述資料，任何人因信賴此資料而做出或改變決策，本身須承擔一切風險，報告資料並無做出\\n買賣任何內文所涉及之證券建議、誘導及鼓勵相關交易。 4\\n主要經濟數據市\\n場\\n回\\n顧\\n市\\n場\\n焦\\n點\\n聚\\n焦\\n議\\n題\\n資\\n產\\n觀\\n點\\n上週經濟數據\\n國家 項目 資料期間 市場預期 實際公布 前值\\n日本 GDP年化季比 2023 Q4 1.23% -0.40% -3.30%\\n美國 零售銷售(月比) Jan -0.24% -0.80% 0.40%\\n美國 工業生產(月比) Jan 0.23% -0.10% 0.00%\\n美國 PPI(年比) Jan 0.61% 0.90% 1.00%\\n美國 核心PPI(年比) Jan 1.65% 2.00% 1.70%\\n美國 密大消費者信心指數 Feb 79.89 79.60 79.00\\n本週經濟數據\\n日期 國家 項目 資料期間 市場預期 前值\\n2/21 日本 出口(年比) Jan 10.86% 9.70%\\n2/21 日本 工具機訂單(年比) Jan F -- -14.10%\\n2/22 美/歐/日 製造業PMI初值 Feb P 50.55 / 47.12 / -- 50.70 / 46.60 / 48.00\\n2/22 美/歐/日 服務業PMI初值 Feb P 52.37 / 48.73 / -- 52.50 / 48.40 / 53.10\\n2/22 美國 成屋銷售 (月比) Jan 4.92% -1.00%\\n2/22 歐元區 CPI(年比) Jan F 2.80% 2.80%\\n2/22 歐元區 CPI核心(年比) Jan F 3.30% 3.30%\\n2/22 美國 首次申請失業救濟金人數 17-Feb 216.83k 212.00k\\n資料來源:Bloomberg，2024.2.16，投顧小組整理。\\n* 本資料純屬參考性質，兆豐商銀不作任何保證與承諾。上述資料，任何人因信賴此資料而做出或改變決策，本身須承擔一切風險，報告資料並無做出\\n買賣任何內文所涉及之證券建議、誘導及鼓勵相關交易。\\n美國通膨高於預期 壓抑美股樂觀氛圍\\n8\\n• 通膨高於預期：因住房及醫療等服務價格上升抵銷商品價格下滑的影響 ，1月消費者物價指數(CPI)年增率自3.4%下滑至\\n3.1%，核心CPI年增率持平於3.9%，1月生產者物價指數(PPI)年增0.9%，雖較上月下滑，但受服務業成本大增影響，核\\n心PPI年升2%遠高於預期，2月密西根大學調查消費者對未來1年的通膨預期初值升至3.0%，令聯準會降息時程再添變數。\\n• 零售銷售及工業生產不如預期： 因淡季效應、寒冷天氣阻礙外出購物意願，1月零售銷售月減0.8%，為近10個月最低，\\n年增率下滑至0.65%，同時1月工業生產月減0.1%，亦較前月有所惡化，不過，上週初領失業救濟金人數降至21.2萬，大\\n幅低於市場預期，顯示就業市場仍強勁，給予消費動能支撐，2月密西根大學消費者信心指數升至79.6，連3個月上揚。\\n• 美股展望：儘管通膨降溫速度不如預期，但扣除通膨後的實質利率仍高，給予聯準會充足的降息空間，短線雖因市場調\\n整降息預期、科技股累積不小漲幅而有所震盪 ，受惠基本面強勁及AI題材助攻，美股可望維持多頭格局，逢回仍可分批\\n佈局。\\n市\\n場\\n回\\n顧\\n市\\n場\\n焦\\n點\\n聚\\n焦\\n議\\n題\\n美國通膨降溫速度不如預期 美國零售銷售與工業生產\\n%\\n資料來源:Bloomberg,2024.2.16\\n資\\n產\\n觀\\n點\\n%\\n%\\n%\\n資料來源:Bloomberg,2024.2.16\\n* 本資料純屬參考性質，兆豐商銀不作任何保證與承諾。上述資料，任何人因信賴此資料而做出或改變決策，本身須承擔一切風險，報告資料並無做出\\n買賣任何內文所涉及之證券建議、誘導及鼓勵相關交易。\\n歐盟下修經濟成長預估 ECB總裁告誡不應倉促降息\\n資料來源:Bloomberg,2024.2.16\\n9\\n• 歐盟下調歐元區今明年經濟成長及通膨預估： 歐盟執委會將今年歐元區的經濟成長預期由1.2%下調至0.8%、明年經濟成\\n長預期自1.6%下調至1.5%，並預警地緣政治緊張恐使經濟不確定性升高 ，亦將今年通膨預期從3.2%下調至2.7%、明年\\n維持在2.2%不變，反映能源大宗商品價格下降，及升息使經濟動能減弱的影響。\\n• 歐洲央行總裁拉加德告誡不應倉促降息： 歐洲央行總裁拉加德表示，薪資攀升對通膨構成越來越大的驅動力 ，不應該倉\\n促降息，決策者需要更多的證據，確保通膨能回到2%的目標，並表示官員們將在未來幾個月敲定新的貨幣政策框架，市\\n場預估降息時點落在6月份。\\n• 展望：受家庭購買力被侵蝕、緊縮政策、成員國撤回部分振興經濟的財政措施 、和外部需求持續下跌等因素影響 ，歐元\\n區經濟前景不佳，加上中東及紅海局勢不穩增添通膨不確定性，基本面不利歐股表現。\\n市\\n場\\n回\\n顧\\n市\\n場\\n焦\\n點\\n聚\\n焦\\n議\\n題\\n資\\n產\\n觀\\n點\\n歐盟下修今明年歐元區經濟成長預估 歐洲央行降息預估(存款利率)\\n最新預估 2023/11預估\\n歐盟 IMF OECD\\n2024 0.8% 0.9% 0.6%\\n2025 1.5% 1.7% 1.3%\\n0.8% 1.5%\\n資料來源:EU,Bloomberg,2024.2.16\\n(%)\\n(碼)'}, {'role': 'assistant', 'content': '美國經濟目前面臨一些挑戰，包括通膨高於預期和零售銷售及工業生產不如預期的情況。1月份，消費者物價指數(CPI)年增率從3.4%下滑至3.1%，而核心CPI年增率保持在3.9%。同時，生產者物價指數(PPI)年增0.9%，核心PPI年增2%，這反映了服務業成本大幅上升的影響。此外，2月份密西根大學的消費者信心指數略有上升至79.6，顯示消費者信心有所改善。然而，1月份零售銷售月減0.8%，為近10個月最低，工業生產也月減0.1%，顯示經濟活動有所放緩。儘管如此，初領失業救濟金人數降至21.2萬，顯示就業市場仍然強勁。美股市場展望方面，儘管通膨降溫速度不如預期，但基本面強勁及AI題材的助攻，預期美股可望維持多頭格局[資料來源:Bloomberg，2024.2.16]。', 'refusal': None, 'annotations': []}, {'role': 'user', 'content': '那中國呢?'}]\n",
      "   response: {'id': 'chatcmpl-Bx3XY1shQu8V5t7PKOvqoFucTU2XR', 'object': 'chat.completion', 'created': 1753414660, 'model': 'gpt-4-0125-preview', 'choices': [{'index': 0, 'message': {'role': 'assistant', 'content': None, 'tool_calls': [{'id': 'call_9CDYEwQFWtbluwUuT6m8EtWF', 'type': 'function', 'function': {'name': 'search_knowledgebase', 'arguments': '{\"query\":\"China economy overview\"}'}}], 'refusal': None, 'annotations': []}, 'logprobs': None, 'finish_reason': 'tool_calls'}], 'usage': {'prompt_tokens': 3377, 'completion_tokens': 18, 'total_tokens': 3395, 'prompt_tokens_details': {'cached_tokens': 0, 'audio_tokens': 0}, 'completion_tokens_details': {'reasoning_tokens': 0, 'audio_tokens': 0, 'accepted_prediction_tokens': 0, 'rejected_prediction_tokens': 0}}, 'service_tier': 'default', 'system_fingerprint': None}\n",
      "   called function search_knowledgebase with {'query': 'China economy overview'}\n",
      "called prompt: [{'role': 'system', 'content': \"\\nYou are a finance/investment specialist. You will use the search tool to find relavent knowlege articles to create the answer.\\nBeing smart in your research. If the search does not come back with the answer, rephrase the question and try again.\\nReview the result of the search and use it to guide your next search if needed.\\nIf the question is complex, break down to smaller search steps and find the answer in multiple steps.\\nAnswer ONLY with the facts from the search tool. If there isn't enough information, say you don't know. Do not generate answers that don't use the sources below. If asking a clarifying question to the user would help, ask the question.\\nEach source has a name followed by colon and the actual information, always include the source name for each fact you use in the response. Use square brakets to reference the source, e.g. [info1.txt]. Don't combine sources, list each source separately, e.g. [info1.txt][info2.pdf].\\nIf the user is asking for information that is not related to finance/investment domain, say it's not your area of expertise.\\n\"}, {'role': 'user', 'content': '請問美國經濟如何?'}, {'role': 'assistant', 'content': None, 'tool_calls': [{'id': 'call_IgQ9GV9dfZis3D8v4iyxaRYR', 'type': 'function', 'function': {'name': 'search_knowledgebase', 'arguments': '{\"query\":\"US economy overview\"}'}}], 'refusal': None, 'annotations': []}, {'tool_call_id': 'call_IgQ9GV9dfZis3D8v4iyxaRYR', 'role': 'tool', 'name': 'search_knowledgebase', 'content': '* 本資料純屬參考性質，兆豐商銀不作任何保證與承諾。上述資料，任何人因信賴此資料而做出或改變決策，本身須承擔一切風險，報告資料並無做出\\n買賣任何內文所涉及之證券建議、誘導及鼓勵相關交易。 4\\n主要經濟數據市\\n場\\n回\\n顧\\n市\\n場\\n焦\\n點\\n聚\\n焦\\n議\\n題\\n資\\n產\\n觀\\n點\\n上週經濟數據\\n國家 項目 資料期間 市場預期 實際公布 前值\\n日本 GDP年化季比 2023 Q4 1.23% -0.40% -3.30%\\n美國 零售銷售(月比) Jan -0.24% -0.80% 0.40%\\n美國 工業生產(月比) Jan 0.23% -0.10% 0.00%\\n美國 PPI(年比) Jan 0.61% 0.90% 1.00%\\n美國 核心PPI(年比) Jan 1.65% 2.00% 1.70%\\n美國 密大消費者信心指數 Feb 79.89 79.60 79.00\\n本週經濟數據\\n日期 國家 項目 資料期間 市場預期 前值\\n2/21 日本 出口(年比) Jan 10.86% 9.70%\\n2/21 日本 工具機訂單(年比) Jan F -- -14.10%\\n2/22 美/歐/日 製造業PMI初值 Feb P 50.55 / 47.12 / -- 50.70 / 46.60 / 48.00\\n2/22 美/歐/日 服務業PMI初值 Feb P 52.37 / 48.73 / -- 52.50 / 48.40 / 53.10\\n2/22 美國 成屋銷售 (月比) Jan 4.92% -1.00%\\n2/22 歐元區 CPI(年比) Jan F 2.80% 2.80%\\n2/22 歐元區 CPI核心(年比) Jan F 3.30% 3.30%\\n2/22 美國 首次申請失業救濟金人數 17-Feb 216.83k 212.00k\\n資料來源:Bloomberg，2024.2.16，投顧小組整理。\\n* 本資料純屬參考性質，兆豐商銀不作任何保證與承諾。上述資料，任何人因信賴此資料而做出或改變決策，本身須承擔一切風險，報告資料並無做出\\n買賣任何內文所涉及之證券建議、誘導及鼓勵相關交易。\\n美國通膨高於預期 壓抑美股樂觀氛圍\\n8\\n• 通膨高於預期：因住房及醫療等服務價格上升抵銷商品價格下滑的影響 ，1月消費者物價指數(CPI)年增率自3.4%下滑至\\n3.1%，核心CPI年增率持平於3.9%，1月生產者物價指數(PPI)年增0.9%，雖較上月下滑，但受服務業成本大增影響，核\\n心PPI年升2%遠高於預期，2月密西根大學調查消費者對未來1年的通膨預期初值升至3.0%，令聯準會降息時程再添變數。\\n• 零售銷售及工業生產不如預期： 因淡季效應、寒冷天氣阻礙外出購物意願，1月零售銷售月減0.8%，為近10個月最低，\\n年增率下滑至0.65%，同時1月工業生產月減0.1%，亦較前月有所惡化，不過，上週初領失業救濟金人數降至21.2萬，大\\n幅低於市場預期，顯示就業市場仍強勁，給予消費動能支撐，2月密西根大學消費者信心指數升至79.6，連3個月上揚。\\n• 美股展望：儘管通膨降溫速度不如預期，但扣除通膨後的實質利率仍高，給予聯準會充足的降息空間，短線雖因市場調\\n整降息預期、科技股累積不小漲幅而有所震盪 ，受惠基本面強勁及AI題材助攻，美股可望維持多頭格局，逢回仍可分批\\n佈局。\\n市\\n場\\n回\\n顧\\n市\\n場\\n焦\\n點\\n聚\\n焦\\n議\\n題\\n美國通膨降溫速度不如預期 美國零售銷售與工業生產\\n%\\n資料來源:Bloomberg,2024.2.16\\n資\\n產\\n觀\\n點\\n%\\n%\\n%\\n資料來源:Bloomberg,2024.2.16\\n* 本資料純屬參考性質，兆豐商銀不作任何保證與承諾。上述資料，任何人因信賴此資料而做出或改變決策，本身須承擔一切風險，報告資料並無做出\\n買賣任何內文所涉及之證券建議、誘導及鼓勵相關交易。\\n歐盟下修經濟成長預估 ECB總裁告誡不應倉促降息\\n資料來源:Bloomberg,2024.2.16\\n9\\n• 歐盟下調歐元區今明年經濟成長及通膨預估： 歐盟執委會將今年歐元區的經濟成長預期由1.2%下調至0.8%、明年經濟成\\n長預期自1.6%下調至1.5%，並預警地緣政治緊張恐使經濟不確定性升高 ，亦將今年通膨預期從3.2%下調至2.7%、明年\\n維持在2.2%不變，反映能源大宗商品價格下降，及升息使經濟動能減弱的影響。\\n• 歐洲央行總裁拉加德告誡不應倉促降息： 歐洲央行總裁拉加德表示，薪資攀升對通膨構成越來越大的驅動力 ，不應該倉\\n促降息，決策者需要更多的證據，確保通膨能回到2%的目標，並表示官員們將在未來幾個月敲定新的貨幣政策框架，市\\n場預估降息時點落在6月份。\\n• 展望：受家庭購買力被侵蝕、緊縮政策、成員國撤回部分振興經濟的財政措施 、和外部需求持續下跌等因素影響 ，歐元\\n區經濟前景不佳，加上中東及紅海局勢不穩增添通膨不確定性，基本面不利歐股表現。\\n市\\n場\\n回\\n顧\\n市\\n場\\n焦\\n點\\n聚\\n焦\\n議\\n題\\n資\\n產\\n觀\\n點\\n歐盟下修今明年歐元區經濟成長預估 歐洲央行降息預估(存款利率)\\n最新預估 2023/11預估\\n歐盟 IMF OECD\\n2024 0.8% 0.9% 0.6%\\n2025 1.5% 1.7% 1.3%\\n0.8% 1.5%\\n資料來源:EU,Bloomberg,2024.2.16\\n(%)\\n(碼)'}, {'role': 'assistant', 'content': '美國經濟目前面臨一些挑戰，包括通膨高於預期和零售銷售及工業生產不如預期的情況。1月份，消費者物價指數(CPI)年增率從3.4%下滑至3.1%，而核心CPI年增率保持在3.9%。同時，生產者物價指數(PPI)年增0.9%，核心PPI年增2%，這反映了服務業成本大幅上升的影響。此外，2月份密西根大學的消費者信心指數略有上升至79.6，顯示消費者信心有所改善。然而，1月份零售銷售月減0.8%，為近10個月最低，工業生產也月減0.1%，顯示經濟活動有所放緩。儘管如此，初領失業救濟金人數降至21.2萬，顯示就業市場仍然強勁。美股市場展望方面，儘管通膨降溫速度不如預期，但基本面強勁及AI題材的助攻，預期美股可望維持多頭格局[資料來源:Bloomberg，2024.2.16]。', 'refusal': None, 'annotations': []}, {'role': 'user', 'content': '那中國呢?'}, {'role': 'assistant', 'content': None, 'tool_calls': [{'id': 'call_9CDYEwQFWtbluwUuT6m8EtWF', 'type': 'function', 'function': {'name': 'search_knowledgebase', 'arguments': '{\"query\":\"China economy overview\"}'}}], 'refusal': None, 'annotations': []}, {'tool_call_id': 'call_9CDYEwQFWtbluwUuT6m8EtWF', 'role': 'tool', 'name': 'search_knowledgebase', 'content': '* 本資料純屬參考性質，兆豐商銀不作任何保證與承諾。上述資料，任何人因信賴此資料而做出或改變決策，本身須承擔一切風險，報告資料並無做出\\n買賣任何內文所涉及之證券建議、誘導及鼓勵相關交易。\\n預期中國央行下調貸款市場報價利率(LPR)刺激經濟\\n資料來源：中國國家統計局，中國央行，中國外匯交易中心，Bloomberg，2024.2.18\\n11本資料純屬參考性質，兆豐商銀不作任何保證與承諾。上述資料，任何人因信賴此資料而做出或改變決策，本身須承擔一切風險，報告資料並無做出\\n買賣任何內文所涉及之證券建議、誘導及鼓勵相關交易。\\n• 中國1月CPI下降0.8%，連續4個月處於通縮區域：中國1月CPI下跌0.8%，連續第4個月處於通縮區間，創下全球金融\\n危機之後、2009年以來的最大降幅。彭博預期，中國央行將採取更多措施對抗通縮，並為正遭受房地產、市場信心低\\n迷和製造業萎縮的經濟現況托底。\\n• 預期中國央行下調貸款市場報價利率(LPR)刺激經濟：2/18中國央行開展了5,000億元人民幣的1年期MLF操作，利率維\\n持在2.5%不變，不過市場對後續政策寬鬆仍抱有期待，部分投研機構預期2/20中國貸款市場報價利率(LPR)有望調降，\\n較低的利率有利於對抗通縮並刺激消費和投資。至於中國基本面是否回穩仍待時間檢驗，短期展望保守看待。\\n市\\n場\\n回\\n顧\\n市\\n場\\n焦\\n點\\n聚\\n焦\\n議\\n題\\n資\\n產\\n觀\\n點\\n中國貸款市場報價利率(LPR)\\n資料來源：Bloomberg，2024.2.16\\n1年期LPR\\n5年期LPR\\n1年期MLF\\n中國1年期中期借貸便利利率(MLF)與通膨(CPI)\\n通膨(CPI)\\n1年期中期\\n借貸便利利率(MLF)\\n* 本資料純屬參考性質，兆豐商銀不作任何保證與承諾。上述資料，任何人因信賴此資料而做出或改變決策，本身須承擔一切風險，報告資料並無做出\\n買賣任何內文所涉及之證券建議、誘導及鼓勵相關交易。 5\\n債券市場\\n市場焦點\\n降息預期削減，美股揮別連續五週漲勢\\n市\\n場\\n回\\n顧\\n市\\n場\\n焦\\n點\\n聚\\n焦\\n議\\n題\\n資\\n產\\n觀\\n點\\n• 1月份美國非投資級債的違約率下降至 2.1%，為2023年7月以來新低水準，摩根大通預估今\\n年隨著聯準會可能降息，企業資金壓力有所緩解，2024年違約率可下降至2.8%的水準。\\n• 隨著聯準會即將降息的消息加持下，品質優異且評價面具吸引力的投資級債獲得資金青睞，\\n1月份流入投資級債的資金量接近300億美金，為過去五年1月份平均值的2.3倍。\\n成熟市場\\n台股\\n• 儘管通膨降溫速度不如預期 ，但扣除通膨後的實質利率仍高 ，給予聯準會充足的降息空間 ，\\n短線雖因市場調整降息預期 、科技股累積不小漲幅而有所震盪 ，受惠基本面強勁及AI題材\\n助攻，美股可望維持多頭格局，逢回仍可分批佈局。\\n• 歐元區經濟前景不佳，加上中東及紅海局勢不穩增添通膨不確定性 ，基本面不利歐股表現。\\n• 全球AI供應鏈戰略價值水漲船高 ，摩根士丹利看好台積電不論是技術 、成本結構與定價能\\n力，台積電都優於同業，因此將其目標價由698元上調至758元。\\n• 根據QIC對於49家台灣半導體供應鏈廠商的研究 ，展望未來10年，台灣半導體供應鏈廠商\\n市值可望從目前的249億美元，於2033年成長10倍至2,577億美元。\\n* 本資料純屬參考性質，兆豐商銀不作任何保證與承諾。上述資料，任何人因信賴此資料而做出或改變決策，本身須承擔一切風險，報告資料並無做出\\n買賣任何內文所涉及之證券建議、誘導及鼓勵相關交易。 4\\n主要經濟數據市\\n場\\n回\\n顧\\n市\\n場\\n焦\\n點\\n聚\\n焦\\n議\\n題\\n資\\n產\\n觀\\n點\\n上週經濟數據\\n國家 項目 資料期間 市場預期 實際公布 前值\\n日本 GDP年化季比 2023 Q4 1.23% -0.40% -3.30%\\n美國 零售銷售(月比) Jan -0.24% -0.80% 0.40%\\n美國 工業生產(月比) Jan 0.23% -0.10% 0.00%\\n美國 PPI(年比) Jan 0.61% 0.90% 1.00%\\n美國 核心PPI(年比) Jan 1.65% 2.00% 1.70%\\n美國 密大消費者信心指數 Feb 79.89 79.60 79.00\\n本週經濟數據\\n日期 國家 項目 資料期間 市場預期 前值\\n2/21 日本 出口(年比) Jan 10.86% 9.70%\\n2/21 日本 工具機訂單(年比) Jan F -- -14.10%\\n2/22 美/歐/日 製造業PMI初值 Feb P 50.55 / 47.12 / -- 50.70 / 46.60 / 48.00\\n2/22 美/歐/日 服務業PMI初值 Feb P 52.37 / 48.73 / -- 52.50 / 48.40 / 53.10\\n2/22 美國 成屋銷售 (月比) Jan 4.92% -1.00%\\n2/22 歐元區 CPI(年比) Jan F 2.80% 2.80%\\n2/22 歐元區 CPI核心(年比) Jan F 3.30% 3.30%\\n2/22 美國 首次申請失業救濟金人數 17-Feb 216.83k 212.00k\\n資料來源:Bloomberg，2024.2.16，投顧小組整理。'}]\n",
      "   response: {'id': 'chatcmpl-Bx3XcQYl1PnXDDH72euvFr50akxEE', 'object': 'chat.completion', 'created': 1753414664, 'model': 'gpt-4-0125-preview', 'choices': [{'index': 0, 'message': {'role': 'assistant', 'content': '中國經濟目前面臨通縮壓力，1月份的消費者物價指數(CPI)下降了0.8%，這是連續第四個月處於通縮區域，並且是自2009年全球金融危機以來的最大降幅。為了對抗通縮並刺激經濟，預期中國央行將下調貸款市場報價利率(LPR)。此外，中國央行已經進行了5,000億元人民幣的1年期中期借貸便利(MLF)操作，利率維持在2.5%不變，顯示出對後續政策寬鬆的期待。然而，中國經濟基本面是否回穩仍需時間來檢驗，短期展望保持保守[資料來源：中國國家統計局，中國央行，中國外匯交易中心，Bloomberg，2024.2.18]。', 'refusal': None, 'annotations': []}, 'logprobs': None, 'finish_reason': 'stop'}], 'usage': {'prompt_tokens': 5977, 'completion_tokens': 331, 'total_tokens': 6308, 'prompt_tokens_details': {'cached_tokens': 0, 'audio_tokens': 0}, 'completion_tokens_details': {'reasoning_tokens': 0, 'audio_tokens': 0, 'accepted_prediction_tokens': 0, 'rejected_prediction_tokens': 0}}, 'service_tier': 'default', 'system_fingerprint': None}\n",
      "------ 最後結果:\n",
      "{'role': 'assistant',\n",
      " 'content': '中國經濟目前面臨通縮壓力，1月份的消費者物價指數(CPI)下降了0.8%，這是連續第四個月處於通縮區域，並且是自2009年全球金融危機以來的最大降幅。為了對抗通縮並刺激經濟，預期中國央行將下調貸款市場報價利率(LPR)。此外，中國央行已經進行了5,000億元人民幣的1年期中期借貸便利(MLF)操作，利率維持在2.5%不變，顯示出對後續政策寬鬆的期待。然而，中國經濟基本面是否回穩仍需時間來檢驗，短期展望保持保守[資料來源：中國國家統計局，中國央行，中國外匯交易中心，Bloomberg，2024.2.18]。',\n",
      " 'refusal': None,\n",
      " 'annotations': []}\n"
     ]
    }
   ],
   "source": [
    "user_messages.append(response)\n",
    "user_messages.append( {\"role\": \"user\", \"content\": \"那中國呢?\"} )\n",
    "\n",
    "response = get_completion_with_function_execution(user_messages, tools=tools)\n",
    "\n",
    "print(\"------ 最後結果:\")\n",
    "pp(response)\n"
   ]
  },
  {
   "cell_type": "markdown",
   "metadata": {
    "id": "5oSGifRxDT1Q"
   },
   "source": [
    "相比在 RAG 案例中，我們直接將用戶 query 去查詢\n",
    "\n",
    "在連續對話的場景，function calling 會根據上下文，去調整適合的 query 字串。\n",
    "\n",
    "補充問題: 如果不用 function calling，我們可以怎麼設計 prompt 去做到一樣的效果?"
   ]
  },
  {
   "cell_type": "markdown",
   "metadata": {
    "id": "BD0Lbao4wl66"
   },
   "source": [
    "## 挑戰題: 若同時問多個問題，可以自動拆多次 function 呼叫"
   ]
  },
  {
   "cell_type": "code",
   "execution_count": 20,
   "metadata": {
    "colab": {
     "base_uri": "https://localhost:8080/"
    },
    "executionInfo": {
     "elapsed": 54470,
     "status": "ok",
     "timestamp": 1709657284761,
     "user": {
      "displayName": "張文鈿（ihower）",
      "userId": "16942569988483049654"
     },
     "user_tz": -480
    },
    "id": "HMYJ7ynmwiHB",
    "outputId": "d7f3be61-0093-4ab5-d0cb-33397469411d"
   },
   "outputs": [
    {
     "name": "stdout",
     "output_type": "stream",
     "text": [
      "called prompt: [{'role': 'system', 'content': \"\\nYou are a finance/investment specialist. You will use the search tool to find relavent knowlege articles to create the answer.\\nBeing smart in your research. If the search does not come back with the answer, rephrase the question and try again.\\nReview the result of the search and use it to guide your next search if needed.\\nIf the question is complex, break down to smaller search steps and find the answer in multiple steps.\\nAnswer ONLY with the facts from the search tool. If there isn't enough information, say you don't know. Do not generate answers that don't use the sources below. If asking a clarifying question to the user would help, ask the question.\\nEach source has a name followed by colon and the actual information, always include the source name for each fact you use in the response. Use square brakets to reference the source, e.g. [info1.txt]. Don't combine sources, list each source separately, e.g. [info1.txt][info2.pdf].\\nIf the user is asking for information that is not related to finance/investment domain, say it's not your area of expertise.\\n\"}, {'role': 'user', 'content': '請問美國通膨和歐洲經濟情況'}]\n",
      "   response: {'id': 'chatcmpl-Bx49vaDZqxsE7Pq2NryDMv0xhlkuY', 'object': 'chat.completion', 'created': 1753417039, 'model': 'gpt-4-0125-preview', 'choices': [{'index': 0, 'message': {'role': 'assistant', 'content': None, 'tool_calls': [{'id': 'call_Z4LDFNsrQ3bBcKXl5XdYQW1m', 'type': 'function', 'function': {'name': 'search_knowledgebase', 'arguments': '{\"query\": \"US inflation\"}'}}, {'id': 'call_Kiljm5BE9TIZWTigHsMAXeQX', 'type': 'function', 'function': {'name': 'search_knowledgebase', 'arguments': '{\"query\": \"Europe economic situation\"}'}}], 'refusal': None, 'annotations': []}, 'logprobs': None, 'finish_reason': 'tool_calls'}], 'usage': {'prompt_tokens': 325, 'completion_tokens': 50, 'total_tokens': 375, 'prompt_tokens_details': {'cached_tokens': 0, 'audio_tokens': 0}, 'completion_tokens_details': {'reasoning_tokens': 0, 'audio_tokens': 0, 'accepted_prediction_tokens': 0, 'rejected_prediction_tokens': 0}}, 'service_tier': 'default', 'system_fingerprint': None}\n",
      "   called function search_knowledgebase with {'query': 'US inflation'}\n",
      "   called function search_knowledgebase with {'query': 'Europe economic situation'}\n",
      "called prompt: [{'role': 'system', 'content': \"\\nYou are a finance/investment specialist. You will use the search tool to find relavent knowlege articles to create the answer.\\nBeing smart in your research. If the search does not come back with the answer, rephrase the question and try again.\\nReview the result of the search and use it to guide your next search if needed.\\nIf the question is complex, break down to smaller search steps and find the answer in multiple steps.\\nAnswer ONLY with the facts from the search tool. If there isn't enough information, say you don't know. Do not generate answers that don't use the sources below. If asking a clarifying question to the user would help, ask the question.\\nEach source has a name followed by colon and the actual information, always include the source name for each fact you use in the response. Use square brakets to reference the source, e.g. [info1.txt]. Don't combine sources, list each source separately, e.g. [info1.txt][info2.pdf].\\nIf the user is asking for information that is not related to finance/investment domain, say it's not your area of expertise.\\n\"}, {'role': 'user', 'content': '請問美國通膨和歐洲經濟情況'}, {'role': 'assistant', 'content': None, 'tool_calls': [{'id': 'call_Z4LDFNsrQ3bBcKXl5XdYQW1m', 'type': 'function', 'function': {'name': 'search_knowledgebase', 'arguments': '{\"query\": \"US inflation\"}'}}, {'id': 'call_Kiljm5BE9TIZWTigHsMAXeQX', 'type': 'function', 'function': {'name': 'search_knowledgebase', 'arguments': '{\"query\": \"Europe economic situation\"}'}}], 'refusal': None, 'annotations': []}, {'tool_call_id': 'call_Z4LDFNsrQ3bBcKXl5XdYQW1m', 'role': 'tool', 'name': 'search_knowledgebase', 'content': '* 本資料純屬參考性質，兆豐商銀不作任何保證與承諾。上述資料，任何人因信賴此資料而做出或改變決策，本身須承擔一切風險，報告資料並無做出\\n買賣任何內文所涉及之證券建議、誘導及鼓勵相關交易。\\n美國通膨高於預期 壓抑美股樂觀氛圍\\n8\\n• 通膨高於預期：因住房及醫療等服務價格上升抵銷商品價格下滑的影響 ，1月消費者物價指數(CPI)年增率自3.4%下滑至\\n3.1%，核心CPI年增率持平於3.9%，1月生產者物價指數(PPI)年增0.9%，雖較上月下滑，但受服務業成本大增影響，核\\n心PPI年升2%遠高於預期，2月密西根大學調查消費者對未來1年的通膨預期初值升至3.0%，令聯準會降息時程再添變數。\\n• 零售銷售及工業生產不如預期： 因淡季效應、寒冷天氣阻礙外出購物意願，1月零售銷售月減0.8%，為近10個月最低，\\n年增率下滑至0.65%，同時1月工業生產月減0.1%，亦較前月有所惡化，不過，上週初領失業救濟金人數降至21.2萬，大\\n幅低於市場預期，顯示就業市場仍強勁，給予消費動能支撐，2月密西根大學消費者信心指數升至79.6，連3個月上揚。\\n• 美股展望：儘管通膨降溫速度不如預期，但扣除通膨後的實質利率仍高，給予聯準會充足的降息空間，短線雖因市場調\\n整降息預期、科技股累積不小漲幅而有所震盪 ，受惠基本面強勁及AI題材助攻，美股可望維持多頭格局，逢回仍可分批\\n佈局。\\n市\\n場\\n回\\n顧\\n市\\n場\\n焦\\n點\\n聚\\n焦\\n議\\n題\\n美國通膨降溫速度不如預期 美國零售銷售與工業生產\\n%\\n資料來源:Bloomberg,2024.2.16\\n資\\n產\\n觀\\n點\\n%\\n%\\n%\\n資料來源:Bloomberg,2024.2.16\\n* 本資料純屬參考性質，兆豐商銀不作任何保證與承諾。上述資料，任何人因信賴此資料而做出或改變決策，本身須承擔一切風險，報告資料並無做出\\n買賣任何內文所涉及之證券建議、誘導及鼓勵相關交易。 4\\n主要經濟數據市\\n場\\n回\\n顧\\n市\\n場\\n焦\\n點\\n聚\\n焦\\n議\\n題\\n資\\n產\\n觀\\n點\\n上週經濟數據\\n國家 項目 資料期間 市場預期 實際公布 前值\\n日本 GDP年化季比 2023 Q4 1.23% -0.40% -3.30%\\n美國 零售銷售(月比) Jan -0.24% -0.80% 0.40%\\n美國 工業生產(月比) Jan 0.23% -0.10% 0.00%\\n美國 PPI(年比) Jan 0.61% 0.90% 1.00%\\n美國 核心PPI(年比) Jan 1.65% 2.00% 1.70%\\n美國 密大消費者信心指數 Feb 79.89 79.60 79.00\\n本週經濟數據\\n日期 國家 項目 資料期間 市場預期 前值\\n2/21 日本 出口(年比) Jan 10.86% 9.70%\\n2/21 日本 工具機訂單(年比) Jan F -- -14.10%\\n2/22 美/歐/日 製造業PMI初值 Feb P 50.55 / 47.12 / -- 50.70 / 46.60 / 48.00\\n2/22 美/歐/日 服務業PMI初值 Feb P 52.37 / 48.73 / -- 52.50 / 48.40 / 53.10\\n2/22 美國 成屋銷售 (月比) Jan 4.92% -1.00%\\n2/22 歐元區 CPI(年比) Jan F 2.80% 2.80%\\n2/22 歐元區 CPI核心(年比) Jan F 3.30% 3.30%\\n2/22 美國 首次申請失業救濟金人數 17-Feb 216.83k 212.00k\\n資料來源:Bloomberg，2024.2.16，投顧小組整理。\\n* 本資料純屬參考性質，兆豐商銀不作任何保證與承諾。上述資料，任何人因信賴此資料而做出或改變決策，本身須承擔一切風險，報告資料並無做出\\n買賣任何內文所涉及之證券建議、誘導及鼓勵相關交易。\\n日本經濟意外陷入衰退 日銀續維持寬鬆\\n資料來源:Bloomberg,2024.2.15\\n12\\n• 內需不振，日本經濟陷入技術性衰退： 2023年第四季GDP季增年率萎縮0.4%，前一季度修正後為萎縮3.3%，其中私人\\n消費及商業投資分別較上季下滑0.2%及0.1%，淨出口季增0.2%，因知識產權使用費與服務收入，為唯一正貢獻項目。\\n• 通膨可持續性不足 ，日本央行尚難退出寬鬆 ，日圓弱勢：去年12月實質薪資年比為-1.9%，連續21個月負成長，家庭支\\n出在通膨壓力下年減2.5%，1月東京核心CPI(不含食品)回落至1.6%，令人失望的薪資、消費和通膨數據，使日本央行對\\n取消負利率政策保持耐心，由於市場普遍預期，今年春季勞資談判(春鬥)薪資調幅有望高於去年的3.6%，創31年新高，\\n預估最快4月將是政策轉向時點，短線日圓偏弱。\\n市\\n場\\n回\\n顧\\n市\\n場\\n焦\\n點\\n聚\\n焦\\n議\\n題\\n資\\n產\\n觀\\n點\\n日本春鬥調薪幅度有望創31年新高日本經濟連二季萎縮\\n3.88%\\n1.0% 1.5%\\n-1.9%\\n5.0%\\n-2.7%\\n4.6%\\n-0.8%\\n1.7%\\n4.4% 4.0%\\n-3.3%\\n-0.4%\\nQ1 Q2 Q3 Q4 Q1 Q2 Q3 Q4 Q1 Q2 Q3 Q4\\n2021 2022 2023'}, {'tool_call_id': 'call_Kiljm5BE9TIZWTigHsMAXeQX', 'role': 'tool', 'name': 'search_knowledgebase', 'content': '* 本資料純屬參考性質，兆豐商銀不作任何保證與承諾。上述資料，任何人因信賴此資料而做出或改變決策，本身須承擔一切風險，報告資料並無做出\\n買賣任何內文所涉及之證券建議、誘導及鼓勵相關交易。\\n歐盟下修經濟成長預估 ECB總裁告誡不應倉促降息\\n資料來源:Bloomberg,2024.2.16\\n9\\n• 歐盟下調歐元區今明年經濟成長及通膨預估： 歐盟執委會將今年歐元區的經濟成長預期由1.2%下調至0.8%、明年經濟成\\n長預期自1.6%下調至1.5%，並預警地緣政治緊張恐使經濟不確定性升高 ，亦將今年通膨預期從3.2%下調至2.7%、明年\\n維持在2.2%不變，反映能源大宗商品價格下降，及升息使經濟動能減弱的影響。\\n• 歐洲央行總裁拉加德告誡不應倉促降息： 歐洲央行總裁拉加德表示，薪資攀升對通膨構成越來越大的驅動力 ，不應該倉\\n促降息，決策者需要更多的證據，確保通膨能回到2%的目標，並表示官員們將在未來幾個月敲定新的貨幣政策框架，市\\n場預估降息時點落在6月份。\\n• 展望：受家庭購買力被侵蝕、緊縮政策、成員國撤回部分振興經濟的財政措施 、和外部需求持續下跌等因素影響 ，歐元\\n區經濟前景不佳，加上中東及紅海局勢不穩增添通膨不確定性，基本面不利歐股表現。\\n市\\n場\\n回\\n顧\\n市\\n場\\n焦\\n點\\n聚\\n焦\\n議\\n題\\n資\\n產\\n觀\\n點\\n歐盟下修今明年歐元區經濟成長預估 歐洲央行降息預估(存款利率)\\n最新預估 2023/11預估\\n歐盟 IMF OECD\\n2024 0.8% 0.9% 0.6%\\n2025 1.5% 1.7% 1.3%\\n0.8% 1.5%\\n資料來源:EU,Bloomberg,2024.2.16\\n(%)\\n(碼)\\n* 本資料純屬參考性質，兆豐商銀不作任何保證與承諾。上述資料，任何人因信賴此資料而做出或改變決策，本身須承擔一切風險，報告資料並無做出\\n買賣任何內文所涉及之證券建議、誘導及鼓勵相關交易。\\n主要金融市場回顧\\n資料來源:Bloomberg，2024.2.16投顧小組整理。\\n全球主要股票指數(%) 全球主要債券指數(%)\\n全球主要商品指數(%) 全球主要匯率(%)\\n市\\n場\\n回\\n顧\\n市\\n場\\n焦\\n點\\n聚\\n焦\\n議\\n題\\n資\\n產\\n觀\\n點\\n3\\n股票指數 過去1個月\\n漲跌幅%\\n過去1年\\n漲跌幅%\\n年初迄今\\n漲跌幅%\\nMSCI AC世界指數 4.35% 15.76% 3.20%\\nS&P 500指數 5.03% 22.37% 4.94%\\n歐洲道瓊600指數 3.92% 5.66% 2.63%\\nMSCI亞太不含日本指數 3.86% -2.73% -1.28%\\n日經225指數 8.05% 38.96% 15.01%\\nMSCI新興市場指數 3.73% 0.50% -0.73%\\n漲跌幅\\n週漲跌幅%\\n0.31%\\n-0.42%\\n1.39%\\n1.98%\\n4.31%\\n2.08%\\n債券市場 過去1個月\\n漲跌幅%\\n過去1年\\n漲跌幅%\\n年初迄今\\n漲跌幅%\\n全球政府公債指數 -1.77% -0.55% -3.87%\\n全球投資等級債指數 -0.85% 5.46% -2.16%\\n全球非投資等級債指數 0.34% 10.11% -0.12%\\n美國非投資等級債指數 0.22% 10.43% -0.18%\\n亞洲非投資等級債指數 1.62% -0.10% 3.84%\\nJPM新興市場債指數 0.02% 7.51% -1.40%\\n漲跌幅\\n週漲跌幅%\\n-0.40%\\n-0.34%\\n-0.15%\\n-0.38%\\n0.45%\\n-0.06%\\n商品市場 過去1個月\\n漲跌幅%\\n過去1年\\n漲跌幅%\\n年初迄今\\n漲跌幅%\\nCRB指數 3.14% 0.87% 3.32%\\n布蘭特原油 6.62% -1.96% 8.35%\\n金價 -1.35% 9.54% -2.39%\\n銅價 1.91% -7.18% -1.34%\\n小麥 -3.69% -26.73% -10.75%\\n波羅的海 21.60% 203.77% -23.11%\\n漲跌幅\\n週漲跌幅%\\n-0.64%\\n1.56%\\n-0.53%\\n4.26%\\n-6.07%\\n4.21%\\n外匯 過去1個月\\n漲跌幅%\\n過去1年\\n漲跌幅%\\n年初迄今\\n漲跌幅%\\n歐元 -0.96% 0.66% -2.37%\\n日圓 -2.42% -12.15% -6.50%\\n英鎊 -0.21% 4.54% -1.01%\\n在岸人民幣 -0.08% -4.90% -1.32%\\n南非幣 0.07% -4.50% -2.84%\\n澳幣 -1.05% -5.58% -4.13%\\n美元指數 0.89% 0.40% 2.90%\\n漲跌幅\\n週漲跌幅%\\n-0.06%\\n-0.62%\\n-0.21%\\n0.00%\\n0.74%\\n0.11%\\n0.16%\\n休市\\n* 本資料純屬參考性質，兆豐商銀不作任何保證與承諾。上述資料，任何人因信賴此資料而做出或改變決策，本身須承擔一切風險，報告資料並無做出\\n買賣任何內文所涉及之證券建議、誘導及鼓勵相關交易。\\n日本經濟意外陷入衰退 日銀續維持寬鬆\\n資料來源:Bloomberg,2024.2.15\\n12\\n• 內需不振，日本經濟陷入技術性衰退： 2023年第四季GDP季增年率萎縮0.4%，前一季度修正後為萎縮3.3%，其中私人\\n消費及商業投資分別較上季下滑0.2%及0.1%，淨出口季增0.2%，因知識產權使用費與服務收入，為唯一正貢獻項目。\\n• 通膨可持續性不足 ，日本央行尚難退出寬鬆 ，日圓弱勢：去年12月實質薪資年比為-1.9%，連續21個月負成長，家庭支\\n出在通膨壓力下年減2.5%，1月東京核心CPI(不含食品)回落至1.6%，令人失望的薪資、消費和通膨數據，使日本央行對\\n取消負利率政策保持耐心，由於市場普遍預期，今年春季勞資談判(春鬥)薪資調幅有望高於去年的3.6%，創31年新高，\\n預估最快4月將是政策轉向時點，短線日圓偏弱。\\n市\\n場\\n回\\n顧\\n市\\n場\\n焦\\n點\\n聚\\n焦\\n議\\n題\\n資\\n產\\n觀\\n點\\n日本春鬥調薪幅度有望創31年新高日本經濟連二季萎縮\\n3.88%\\n1.0% 1.5%\\n-1.9%\\n5.0%\\n-2.7%\\n4.6%\\n-0.8%\\n1.7%\\n4.4% 4.0%\\n-3.3%\\n-0.4%\\nQ1 Q2 Q3 Q4 Q1 Q2 Q3 Q4 Q1 Q2 Q3 Q4\\n2021 2022 2023'}]\n",
      "   response: {'id': 'chatcmpl-Bx4A20N1usmpPMU5heRD3c5xQOgDz', 'object': 'chat.completion', 'created': 1753417046, 'model': 'gpt-4-0125-preview', 'choices': [{'index': 0, 'message': {'role': 'assistant', 'content': '美國通膨情況顯示，1月消費者物價指數(CPI)年增率從3.4%下滑至3.1%，核心CPI年增率持平於3.9%。1月生產者物價指數(PPI)年增0.9%，雖然較上月下滑，但受到服務業成本大幅增加的影響，核心PPI年增率2%遠高於預期。此外，1月零售銷售月減0.8%，為近10個月最低，年增率下滑至0.65%。1月工業生產月減0.1%，亦較前月惡化。不過，初領失業救濟金人數降至21.2萬，大幅低於市場預期，顯示就業市場仍然強勁，給予消費動能支撐。2月密西根大學消費者信心指數上升至79.6，較3個月前上揚。儘管通膨降溫速度不如預期，但扣除通膨後的實質利率仍然較高，給予聯準會充足的降息空間，短線美股因市場調整降息預期、科技股累積不小跌幅而有所震盪，但受惠於基本面強勁及AI題材助攻，美股可望維持多頭格局，逢回可分批佈局[Bloomberg,2024.2.16]。\\n\\n歐洲經濟情況方面，歐盟下調了歐元區今年的經濟成長預期，從1.2%下調至0.8%，明年的經濟成長預期從1.6%下調至1.5%，並預警地緣政治緊張可能增加經濟不確定性。此外，今年的通膨預期從3.2%下調至2.7%，明年維持在2.2%不變，反映能源大宗商品價格下跌及升息影響經濟動能減弱。歐洲中央銀行總裁拉加德表示，薪資上漲對通膨構成越來越大的驅動力，不應該急於降息，決策者需要更多證據以確保通膨能回到2%的目標，並表示官員們將在未來幾個月確定新的貨幣政策框架，市場預期降息時點落在6月份。展望來看，受到家庭購買力被侵蝕、緊縮政策、成員國撤回部分刺激經濟的財政措施、以及外部需求持續下降等因素影響，歐元區經濟前景不佳，加上中東及紅海局勢不穩增加通膨不確定性，基本面不利歐股表現[Bloomberg,2024.2.16]。', 'refusal': None, 'annotations': []}, 'logprobs': None, 'finish_reason': 'stop'}], 'usage': {'prompt_tokens': 10917, 'completion_tokens': 989, 'total_tokens': 11906, 'prompt_tokens_details': {'cached_tokens': 0, 'audio_tokens': 0}, 'completion_tokens_details': {'reasoning_tokens': 0, 'audio_tokens': 0, 'accepted_prediction_tokens': 0, 'rejected_prediction_tokens': 0}}, 'service_tier': 'default', 'system_fingerprint': None}\n",
      "------ 最後結果:\n",
      "{'role': 'assistant',\n",
      " 'content': '美國通膨情況顯示，1月消費者物價指數(CPI)年增率從3.4%下滑至3.1%，核心CPI年增率持平於3.9%。1月生產者物價指數(PPI)年增0.9%，雖然較上月下滑，但受到服務業成本大幅增加的影響，核心PPI年增率2%遠高於預期。此外，1月零售銷售月減0.8%，為近10個月最低，年增率下滑至0.65%。1月工業生產月減0.1%，亦較前月惡化。不過，初領失業救濟金人數降至21.2萬，大幅低於市場預期，顯示就業市場仍然強勁，給予消費動能支撐。2月密西根大學消費者信心指數上升至79.6，較3個月前上揚。儘管通膨降溫速度不如預期，但扣除通膨後的實質利率仍然較高，給予聯準會充足的降息空間，短線美股因市場調整降息預期、科技股累積不小跌幅而有所震盪，但受惠於基本面強勁及AI題材助攻，美股可望維持多頭格局，逢回可分批佈局[Bloomberg,2024.2.16]。\\n'\n",
      "            '\\n'\n",
      "            '歐洲經濟情況方面，歐盟下調了歐元區今年的經濟成長預期，從1.2%下調至0.8%，明年的經濟成長預期從1.6%下調至1.5%，並預警地緣政治緊張可能增加經濟不確定性。此外，今年的通膨預期從3.2%下調至2.7%，明年維持在2.2%不變，反映能源大宗商品價格下跌及升息影響經濟動能減弱。歐洲中央銀行總裁拉加德表示，薪資上漲對通膨構成越來越大的驅動力，不應該急於降息，決策者需要更多證據以確保通膨能回到2%的目標，並表示官員們將在未來幾個月確定新的貨幣政策框架，市場預期降息時點落在6月份。展望來看，受到家庭購買力被侵蝕、緊縮政策、成員國撤回部分刺激經濟的財政措施、以及外部需求持續下降等因素影響，歐元區經濟前景不佳，加上中東及紅海局勢不穩增加通膨不確定性，基本面不利歐股表現[Bloomberg,2024.2.16]。',\n",
      " 'refusal': None,\n",
      " 'annotations': []}\n"
     ]
    }
   ],
   "source": [
    "user_messages = [\n",
    "{\"role\": \"system\", \"content\": \"\"\"\n",
    "You are a finance/investment specialist. You will use the search tool to find relavent knowlege articles to create the answer.\n",
    "Being smart in your research. If the search does not come back with the answer, rephrase the question and try again.\n",
    "Review the result of the search and use it to guide your next search if needed.\n",
    "If the question is complex, break down to smaller search steps and find the answer in multiple steps.\n",
    "Answer ONLY with the facts from the search tool. If there isn't enough information, say you don't know. Do not generate answers that don't use the sources below. If asking a clarifying question to the user would help, ask the question.\n",
    "Each source has a name followed by colon and the actual information, always include the source name for each fact you use in the response. Use square brakets to reference the source, e.g. [info1.txt]. Don't combine sources, list each source separately, e.g. [info1.txt][info2.pdf].\n",
    "If the user is asking for information that is not related to finance/investment domain, say it's not your area of expertise.\n",
    "\"\"\"},\n",
    "                 {\"role\": \"user\", \"content\": \"請問美國通膨和歐洲經濟情況\"}\n",
    "]\n",
    "tools = [{ \"type\": \"function\",\n",
    "           \"function\": {\n",
    "              \"name\": \"search_knowledgebase\",\n",
    "              \"description\": \"Searches the knowledge base for an answer to the user's question\",\n",
    "              \"parameters\": {\n",
    "                \"type\": \"object\",\n",
    "                  \"properties\": {\n",
    "                    \"query\": { \"type\": \"string\", \"description\": \"The search query to use to search the knowledge base\" }\n",
    "                  },\n",
    "                \"required\": [\"query\"]\n",
    "              },\n",
    "            }\n",
    "         }]\n",
    "\n",
    "response = get_completion_with_function_execution(user_messages, tools=tools)\n",
    "\n",
    "print(\"------ 最後結果:\")\n",
    "pp(response)\n",
    "\n"
   ]
  },
  {
   "cell_type": "markdown",
   "metadata": {
    "id": "SWLRenpBxOWC"
   },
   "source": [
    "## 挑戰題: 有依賴性的問題，可以自動連續追問嗎?\n",
    "\n",
    "這種題型有難度不容易成功，很常判斷成上述情況變成平行 function calling，而不會循序 :("
   ]
  },
  {
   "cell_type": "code",
   "execution_count": null,
   "metadata": {
    "colab": {
     "base_uri": "https://localhost:8080/"
    },
    "executionInfo": {
     "elapsed": 29475,
     "status": "ok",
     "timestamp": 1709660904932,
     "user": {
      "displayName": "張文鈿（ihower）",
      "userId": "16942569988483049654"
     },
     "user_tz": -480
    },
    "id": "k4X7k1-Bwucx",
    "outputId": "e8bc4a9f-94a4-4bc7-f194-38977210159f"
   },
   "outputs": [
    {
     "name": "stdout",
     "output_type": "stream",
     "text": [
      "called prompt: [{'role': 'system', 'content': \"\\nYou are a finance/investment specialist. You will use the search tool to find relavent knowlege articles to create the answer.\\nBeing smart in your research. If the search does not come back with the answer, rephrase the question and try again.\\nReview the result of the search and use it to guide your next search if needed.\\nIf the question is complex, break down to smaller search steps and find the answer in multiple steps.\\nAnswer ONLY with the facts from the search tool. If there isn't enough information, say you don't know. Do not generate answers that don't use the sources below. If asking a clarifying question to the user would help, ask the question.\\nEach source has a name followed by colon and the actual information, always include the source name for each fact you use in the response. Use square brakets to reference the source, e.g. [info1.txt]. Don't combine sources, list each source separately, e.g. [info1.txt][info2.pdf].\\nIf the user is asking for information that is not related to finance/investment domain, say it's not your area of expertise.\\n\"}, {'role': 'user', 'content': '1.請問台灣最具戰略價值的是什麼供應鏈? 2.此供應鏈在中國市場將表現如何?'}]\n",
      "   response: {'id': 'chatcmpl-8zTBL13nYUnH4c315clgEML7YPOmZ', 'object': 'chat.completion', 'created': 1709660875, 'model': 'gpt-4-0125-preview', 'choices': [{'index': 0, 'message': {'role': 'assistant', 'content': None, 'tool_calls': [{'id': 'call_IH4kiVLgrRTYhFhWhF0Edc7S', 'type': 'function', 'function': {'name': 'search_knowledgebase', 'arguments': '{\"query\": \"Taiwan most strategic supply chain\"}'}}, {'id': 'call_Tc6QmgyNls1q9YjhwEVcjaVx', 'type': 'function', 'function': {'name': 'search_knowledgebase', 'arguments': '{\"query\": \"Taiwan supply chain performance in China market\"}'}}]}, 'logprobs': None, 'finish_reason': 'tool_calls'}], 'usage': {'prompt_tokens': 358, 'completion_tokens': 59, 'total_tokens': 417}, 'system_fingerprint': 'fp_00ceb2df5b'}\n",
      "   called function search_knowledgebase with {'query': 'Taiwan most strategic supply chain'}\n",
      "   called function search_knowledgebase with {'query': 'Taiwan supply chain performance in China market'}\n",
      "called prompt: [{'role': 'system', 'content': \"\\nYou are a finance/investment specialist. You will use the search tool to find relavent knowlege articles to create the answer.\\nBeing smart in your research. If the search does not come back with the answer, rephrase the question and try again.\\nReview the result of the search and use it to guide your next search if needed.\\nIf the question is complex, break down to smaller search steps and find the answer in multiple steps.\\nAnswer ONLY with the facts from the search tool. If there isn't enough information, say you don't know. Do not generate answers that don't use the sources below. If asking a clarifying question to the user would help, ask the question.\\nEach source has a name followed by colon and the actual information, always include the source name for each fact you use in the response. Use square brakets to reference the source, e.g. [info1.txt]. Don't combine sources, list each source separately, e.g. [info1.txt][info2.pdf].\\nIf the user is asking for information that is not related to finance/investment domain, say it's not your area of expertise.\\n\"}, {'role': 'user', 'content': '1.請問台灣最具戰略價值的是什麼供應鏈? 2.此供應鏈在中國市場將表現如何?'}, {'role': 'assistant', 'content': None, 'tool_calls': [{'id': 'call_IH4kiVLgrRTYhFhWhF0Edc7S', 'type': 'function', 'function': {'name': 'search_knowledgebase', 'arguments': '{\"query\": \"Taiwan most strategic supply chain\"}'}}, {'id': 'call_Tc6QmgyNls1q9YjhwEVcjaVx', 'type': 'function', 'function': {'name': 'search_knowledgebase', 'arguments': '{\"query\": \"Taiwan supply chain performance in China market\"}'}}]}, {'tool_call_id': 'call_IH4kiVLgrRTYhFhWhF0Edc7S', 'role': 'tool', 'name': 'search_knowledgebase', 'content': '* 本資料純屬參考性質，兆豐商銀不作任何保證與承諾。上述資料，任何人因信賴此資料而做出或改變決策，本身須承擔一切風險，報告資料並無做出\\n買賣任何內文所涉及之證券建議、誘導及鼓勵相關交易。5債券市場市場焦點\\n降息預期削減，美股揮別連續五週漲勢市\\n場\\n回\\n顧\\n市\\n場\\n焦\\n點\\n聚\\n焦\\n議\\n題\\n資\\n產\\n觀\\n點•1月份美國非投資級債的違約率下降至 2.1%，為2023 年7月以來新低水準 ，摩根大通預估今\\n年隨著聯準會可能降息 ，企業資金壓力有所緩解 ，2024 年違約率可下降至 2.8%的水準 。\\n•隨著聯準會即將降息的消息加持下 ，品質優異且評價面具吸引力的投資級債獲得資金青睞 ，\\n1月份流入投資級債的資金量接近 300億美金 ，為過去五年 1月份平均值的 2.3倍。\\n成熟市場\\n台股•儘管通膨降溫速度不如預期 ，但扣除通膨後的實質利率仍高 ，給予聯準會充足的降息空間 ，\\n短線雖因市場調整降息預期 、科技股累積不小漲幅而有所震盪 ，受惠基本面強勁及 AI題材\\n助攻 ，美股可望維持多頭格局 ，逢回仍可分批佈局 。\\n•歐元區經濟前景不佳 ，加上中東及紅海局勢不穩增添通膨不確定性 ，基本面不利歐股表現 。\\n•全球AI供應鏈戰略價值水漲船高 ，摩根士丹利看好台積電不論是技術 、成本結構與定價能\\n力，台積電都優於同業 ，因此將其目標價由 698元上調至 758元。\\n•根據QIC對於49家台灣半導體供應鏈廠商的研究 ，展望未來 10年，台灣半導體供應鏈廠商\\n市值可望從目前的 249億美元 ，於2033 年成長 10倍至2,577億美元 。\\n* 本資料純屬參考性質，兆豐商銀不作任何保證與承諾。上述資料，任何人因信賴此資料而做出或改變決策，本身須承擔一切風險，報告資料並無做出\\n買賣任何內文所涉及之證券建議、誘導及鼓勵相關交易。台股龍年開紅盤 AI供應鏈預計加速催生台灣的護國群山\\n資料來源：各家投行， 2024.2.16\\n10•台積電助攻台股創新高： 春節休市期間 ，台積電 ADR上漲近 1成，帶動台積電開春首個交易日股價跳漲 ，助攻加權指數創\\n下歷史新高 18,725點，隨後漲幅收斂 ，農曆年後第 1週加權指數上漲 2.82%。全球AI供應鏈戰略價值水漲船高 ，摩根士丹\\n利看好台積電不論是技術 、成本結構與定價能力 ，台積電都優於同業 ，因此將其目標價由 698元上調至 758元。\\n•AI供應鏈預計加速催生台灣的護國群山： 調研機構 Gartner指出，去年全球半導體市場銷售年衰退 10.9%，但受到 AI產業\\n蓬勃發展 ，加上手機 、PC等應用復甦 ，預估今年半導體市場銷售額將成長至 6,240億美元，年增16.8%。台股中，AI、半\\n導體佔比將近 6成，根據QIC對於49家台灣半導體供應鏈廠商的研究 ，展望未來 10年，台灣半導體供應鏈廠商市值可望從\\n目前的 249億美元，於2033年成長 10倍至2,577億美元。市\\n場\\n回\\n顧\\n市\\n場\\n焦\\n點\\n聚\\n焦\\n議\\n題\\n資\\n產\\n觀\\n點投行對台積電 未來 12個月目標價 全球半導體市場銷售額與年成長\\n單位：\\n台幣元摩根\\n大通高盛 美銀摩根\\n士丹利瑞銀 花旗\\n評等優於\\n大盤買進 買進優於\\n大盤買進 買進\\n未來\\n12個月\\n目標價770 760 760 758 750 720\\n均值 753\\n資料來源： Gartner，2023.12598 600 \\n534 624 721 27.1%\\n0.2%\\n-10.9%16.8% 15.5%\\n-15%-10%-5%0%5%10%15%20%25%30%\\n450500550600650700750\\n2021 2022 2023 2024 2025半導體銷售額 (十億美元 ) 年成長\\n* 本資料純屬參考性質，兆豐商銀不作任何保證與承諾。上述資料，任何人因信賴此資料而做出或改變決策，本身須承擔一切風險，報告資料並無做出\\n買賣任何內文所涉及之證券建議、誘導及鼓勵相關交易。預期中國央行下調貸款市場報價利率 (LPR) 刺激經濟\\n資料來源 ：中國國家統計局，中國央行，中國外匯交易中心， Bloomberg ，2024.2.18\\n11本資料純屬參考性質，兆豐商銀不作任何保證與承諾。上述資料，任何人因信賴此資料而做出或改變決策，本身須承擔一切風險，報告資料並無做出\\n買賣任何內文所涉及之證券建議、誘導及鼓勵相關交易。•中國1月CPI下降0.8% ，連續 4個月處於通縮區域： 中國1月CPI下跌0.8%，連續第 4個月處於通縮區間，創下全球金融\\n危機之後、 2009年以來的最大降幅。彭博預期，中國央行將採取更多措施對抗通縮，並為正遭受房地產、市場信心低\\n迷和製造業萎縮的經濟現況托底。\\n•預期中國央行下調貸款市場報價利率 (LPR) 刺激經濟 ：2/18中國央行開展了 5,000億元人民幣 的1年期MLF操作，利率維\\n持在2.5%不變，不過市場對後續政策寬鬆仍抱有期待， 部分投研機構預期 2/20中國貸款市場報價利率 (LPR)有望調降，\\n較低的利率有利於對抗通縮並刺激消費和投資。至於中國基本面是否回穩仍待時間檢驗，短期展望保守看待。市\\n場\\n回\\n顧\\n市\\n場\\n焦\\n點\\n聚\\n焦\\n議\\n題\\n資\\n產\\n觀\\n點中國貸款市場報價利率 (LPR)\\n資料來源 ：Bloomberg ，2024.2.16\\n1年期 LPR5年期 LPR\\n1年期 MLF中國 1年期中期借貸便利利率 (MLF) 與通膨 (CPI)\\n通膨 (CPI)1年期中期\\n借貸便利利率 (MLF)'}, {'tool_call_id': 'call_Tc6QmgyNls1q9YjhwEVcjaVx', 'role': 'tool', 'name': 'search_knowledgebase', 'content': '* 本資料純屬參考性質，兆豐商銀不作任何保證與承諾。上述資料，任何人因信賴此資料而做出或改變決策，本身須承擔一切風險，報告資料並無做出\\n買賣任何內文所涉及之證券建議、誘導及鼓勵相關交易。5債券市場市場焦點\\n降息預期削減，美股揮別連續五週漲勢市\\n場\\n回\\n顧\\n市\\n場\\n焦\\n點\\n聚\\n焦\\n議\\n題\\n資\\n產\\n觀\\n點•1月份美國非投資級債的違約率下降至 2.1%，為2023 年7月以來新低水準 ，摩根大通預估今\\n年隨著聯準會可能降息 ，企業資金壓力有所緩解 ，2024 年違約率可下降至 2.8%的水準 。\\n•隨著聯準會即將降息的消息加持下 ，品質優異且評價面具吸引力的投資級債獲得資金青睞 ，\\n1月份流入投資級債的資金量接近 300億美金 ，為過去五年 1月份平均值的 2.3倍。\\n成熟市場\\n台股•儘管通膨降溫速度不如預期 ，但扣除通膨後的實質利率仍高 ，給予聯準會充足的降息空間 ，\\n短線雖因市場調整降息預期 、科技股累積不小漲幅而有所震盪 ，受惠基本面強勁及 AI題材\\n助攻 ，美股可望維持多頭格局 ，逢回仍可分批佈局 。\\n•歐元區經濟前景不佳 ，加上中東及紅海局勢不穩增添通膨不確定性 ，基本面不利歐股表現 。\\n•全球AI供應鏈戰略價值水漲船高 ，摩根士丹利看好台積電不論是技術 、成本結構與定價能\\n力，台積電都優於同業 ，因此將其目標價由 698元上調至 758元。\\n•根據QIC對於49家台灣半導體供應鏈廠商的研究 ，展望未來 10年，台灣半導體供應鏈廠商\\n市值可望從目前的 249億美元 ，於2033 年成長 10倍至2,577億美元 。\\n* 本資料純屬參考性質，兆豐商銀不作任何保證與承諾。上述資料，任何人因信賴此資料而做出或改變決策，本身須承擔一切風險，報告資料並無做出\\n買賣任何內文所涉及之證券建議、誘導及鼓勵相關交易。台股龍年開紅盤 AI供應鏈預計加速催生台灣的護國群山\\n資料來源：各家投行， 2024.2.16\\n10•台積電助攻台股創新高： 春節休市期間 ，台積電 ADR上漲近 1成，帶動台積電開春首個交易日股價跳漲 ，助攻加權指數創\\n下歷史新高 18,725點，隨後漲幅收斂 ，農曆年後第 1週加權指數上漲 2.82%。全球AI供應鏈戰略價值水漲船高 ，摩根士丹\\n利看好台積電不論是技術 、成本結構與定價能力 ，台積電都優於同業 ，因此將其目標價由 698元上調至 758元。\\n•AI供應鏈預計加速催生台灣的護國群山： 調研機構 Gartner指出，去年全球半導體市場銷售年衰退 10.9%，但受到 AI產業\\n蓬勃發展 ，加上手機 、PC等應用復甦 ，預估今年半導體市場銷售額將成長至 6,240億美元，年增16.8%。台股中，AI、半\\n導體佔比將近 6成，根據QIC對於49家台灣半導體供應鏈廠商的研究 ，展望未來 10年，台灣半導體供應鏈廠商市值可望從\\n目前的 249億美元，於2033年成長 10倍至2,577億美元。市\\n場\\n回\\n顧\\n市\\n場\\n焦\\n點\\n聚\\n焦\\n議\\n題\\n資\\n產\\n觀\\n點投行對台積電 未來 12個月目標價 全球半導體市場銷售額與年成長\\n單位：\\n台幣元摩根\\n大通高盛 美銀摩根\\n士丹利瑞銀 花旗\\n評等優於\\n大盤買進 買進優於\\n大盤買進 買進\\n未來\\n12個月\\n目標價770 760 760 758 750 720\\n均值 753\\n資料來源： Gartner，2023.12598 600 \\n534 624 721 27.1%\\n0.2%\\n-10.9%16.8% 15.5%\\n-15%-10%-5%0%5%10%15%20%25%30%\\n450500550600650700750\\n2021 2022 2023 2024 2025半導體銷售額 (十億美元 ) 年成長\\n* 本資料純屬參考性質，兆豐商銀不作任何保證與承諾。上述資料，任何人因信賴此資料而做出或改變決策，本身須承擔一切風險，報告資料並無做出\\n買賣任何內文所涉及之證券建議、誘導及鼓勵相關交易。預期中國央行下調貸款市場報價利率 (LPR) 刺激經濟\\n資料來源 ：中國國家統計局，中國央行，中國外匯交易中心， Bloomberg ，2024.2.18\\n11本資料純屬參考性質，兆豐商銀不作任何保證與承諾。上述資料，任何人因信賴此資料而做出或改變決策，本身須承擔一切風險，報告資料並無做出\\n買賣任何內文所涉及之證券建議、誘導及鼓勵相關交易。•中國1月CPI下降0.8% ，連續 4個月處於通縮區域： 中國1月CPI下跌0.8%，連續第 4個月處於通縮區間，創下全球金融\\n危機之後、 2009年以來的最大降幅。彭博預期，中國央行將採取更多措施對抗通縮，並為正遭受房地產、市場信心低\\n迷和製造業萎縮的經濟現況托底。\\n•預期中國央行下調貸款市場報價利率 (LPR) 刺激經濟 ：2/18中國央行開展了 5,000億元人民幣 的1年期MLF操作，利率維\\n持在2.5%不變，不過市場對後續政策寬鬆仍抱有期待， 部分投研機構預期 2/20中國貸款市場報價利率 (LPR)有望調降，\\n較低的利率有利於對抗通縮並刺激消費和投資。至於中國基本面是否回穩仍待時間檢驗，短期展望保守看待。市\\n場\\n回\\n顧\\n市\\n場\\n焦\\n點\\n聚\\n焦\\n議\\n題\\n資\\n產\\n觀\\n點中國貸款市場報價利率 (LPR)\\n資料來源 ：Bloomberg ，2024.2.16\\n1年期 LPR5年期 LPR\\n1年期 MLF中國 1年期中期借貸便利利率 (MLF) 與通膨 (CPI)\\n通膨 (CPI)1年期中期\\n借貸便利利率 (MLF)'}]\n",
      "   response: {'id': 'chatcmpl-8zTBQLhJpApHhzN3zo7kw70TFtp5M', 'object': 'chat.completion', 'created': 1709660880, 'model': 'gpt-4-0125-preview', 'choices': [{'index': 0, 'message': {'role': 'assistant', 'content': '1. 台灣最具戰略價值的供應鏈是半導體供應鏈。根據QIC對於49家台灣半導體供應鏈廠商的研究，展望未來10年，台灣半導體供應鏈廠商市值可望從目前的249億美元，於2033年成長10倍至2,577億美元[info1.txt]。\\n\\n2. 關於台灣供應鏈在中國市場的表現，目前沒有找到直接相關的資訊。不過，中國1月CPI下降0.8%，連續第4個月處於通縮區間，顯示中國經濟面臨壓力。中國中央銀行預計將採取更多措施對抗通縮，並為受房地產、市場信心低迷和製造業萎縮的經濟現狀提供支持[info2.txt]。這可能對於台灣供應鏈在中國市場的表現產生影響，但具體情況需進一步分析。'}, 'logprobs': None, 'finish_reason': 'stop'}], 'usage': {'prompt_tokens': 12763, 'completion_tokens': 392, 'total_tokens': 13155}, 'system_fingerprint': 'fp_70b2088885'}\n",
      "------ 最後結果:\n",
      "{'role': 'assistant',\n",
      " 'content': '1. '\n",
      "            '台灣最具戰略價值的供應鏈是半導體供應鏈。根據QIC對於49家台灣半導體供應鏈廠商的研究，展望未來10年，台灣半導體供應鏈廠商市值可望從目前的249億美元，於2033年成長10倍至2,577億美元[info1.txt]。\\n'\n",
      "            '\\n'\n",
      "            '2. '\n",
      "            '關於台灣供應鏈在中國市場的表現，目前沒有找到直接相關的資訊。不過，中國1月CPI下降0.8%，連續第4個月處於通縮區間，顯示中國經濟面臨壓力。中國中央銀行預計將採取更多措施對抗通縮，並為受房地產、市場信心低迷和製造業萎縮的經濟現狀提供支持[info2.txt]。這可能對於台灣供應鏈在中國市場的表現產生影響，但具體情況需進一步分析。'}\n"
     ]
    }
   ],
   "source": [
    "user_messages = [\n",
    "{\"role\": \"system\", \"content\": \"\"\"\n",
    "You are a finance/investment specialist. You will use the search tool to find relavent knowlege articles to create the answer.\n",
    "Being smart in your research. If the search does not come back with the answer, rephrase the question and try again.\n",
    "Review the result of the search and use it to guide your next search if needed.\n",
    "If the question is complex, break down to smaller search steps and find the answer in multiple steps.\n",
    "Answer ONLY with the facts from the search tool. If there isn't enough information, say you don't know. Do not generate answers that don't use the sources below. If asking a clarifying question to the user would help, ask the question.\n",
    "Each source has a name followed by colon and the actual information, always include the source name for each fact you use in the response. Use square brakets to reference the source, e.g. [info1.txt]. Don't combine sources, list each source separately, e.g. [info1.txt][info2.pdf].\n",
    "If the user is asking for information that is not related to finance/investment domain, say it's not your area of expertise.\n",
    "\"\"\"},\n",
    "                 {\"role\": \"user\", \"content\": \"1.請問台灣最具戰略價值的是什麼供應鏈? 2.此供應鏈在中國市場將表現如何?\"}\n",
    "]\n",
    "tools = [{ \"type\": \"function\",\n",
    "           \"function\": {\n",
    "              \"name\": \"search_knowledgebase\",\n",
    "              \"description\": \"Searches the knowledge base for an answer to the user's question\",\n",
    "              \"parameters\": {\n",
    "                \"type\": \"object\",\n",
    "                  \"properties\": {\n",
    "                    \"query\": { \"type\": \"string\", \"description\": \"The search query to use to search the knowledge base\" }\n",
    "                  },\n",
    "                \"required\": [\"query\"]\n",
    "              },\n",
    "            }\n",
    "         }]\n",
    "\n",
    "response = get_completion_with_function_execution(user_messages, tools=tools)\n",
    "\n",
    "print(\"------ 最後結果:\")\n",
    "pp(response)\n"
   ]
  },
  {
   "cell_type": "markdown",
   "metadata": {
    "id": "RwBY9p_80eh9"
   },
   "source": [
    "### 以下是可能做法的實驗(不是很穩定，有時無法順利再次觸發 function calling)\n",
    "\n",
    "思路是讓 GPT 幫我判斷哪些子問題沒有依賴性:有依賴性的問題，就再次觸發下一輪的 function calling 改寫新的子問題，直到所有子問題都透過 RAG 查到資料。\n",
    "\n",
    "歡迎有興趣的同學幫忙改進 prompting"
   ]
  },
  {
   "cell_type": "code",
   "execution_count": 31,
   "metadata": {
    "executionInfo": {
     "elapsed": 2,
     "status": "ok",
     "timestamp": 1709661365438,
     "user": {
      "displayName": "張文鈿（ihower）",
      "userId": "16942569988483049654"
     },
     "user_tz": -480
    },
    "id": "tsPIefyOu5fT"
   },
   "outputs": [],
   "source": [
    "from pydantic import BaseModel, Field\n",
    "from typing import List"
   ]
  },
  {
   "cell_type": "code",
   "execution_count": 32,
   "metadata": {
    "executionInfo": {
     "elapsed": 5,
     "status": "ok",
     "timestamp": 1709661966636,
     "user": {
      "displayName": "張文鈿（ihower）",
      "userId": "16942569988483049654"
     },
     "user_tz": -480
    },
    "id": "TYGJkDBfuriy"
   },
   "outputs": [],
   "source": [
    "class Question(BaseModel):\n",
    "    subquestion: str = Field(description=\"The question decomposited as much as possible\")\n",
    "    dependency: bool = Field(description=\"Does this subquestion depend on previous subquestion\") # 這個子問題是否有依賴性\n",
    "\n",
    "class QueryPlan(BaseModel):\n",
    "    root_question: str = Field(description=\"The root question that the user asked\")\n",
    "    plan: List[Question] = Field(description=\"The plan to answer the root question and its sub-questions\")\n"
   ]
  },
  {
   "cell_type": "code",
   "execution_count": 37,
   "metadata": {
    "colab": {
     "base_uri": "https://localhost:8080/"
    },
    "executionInfo": {
     "elapsed": 639,
     "status": "ok",
     "timestamp": 1709661969241,
     "user": {
      "displayName": "張文鈿（ihower）",
      "userId": "16942569988483049654"
     },
     "user_tz": -480
    },
    "id": "G4DXPbZ5wseM",
    "outputId": "9ceb852d-6a7a-4ea4-bd74-0a7298a564ae"
   },
   "outputs": [
    {
     "data": {
      "text/plain": [
       "{'$defs': {'Question': {'properties': {'subquestion': {'description': 'The question decomposited as much as possible',\n",
       "     'title': 'Subquestion',\n",
       "     'type': 'string'},\n",
       "    'dependency': {'description': 'Does this subquestion depend on previous subquestion',\n",
       "     'title': 'Dependency',\n",
       "     'type': 'boolean'}},\n",
       "   'required': ['subquestion', 'dependency'],\n",
       "   'title': 'Question',\n",
       "   'type': 'object'}},\n",
       " 'properties': {'root_question': {'description': 'The root question that the user asked',\n",
       "   'title': 'Root Question',\n",
       "   'type': 'string'},\n",
       "  'plan': {'description': 'The plan to answer the root question and its sub-questions',\n",
       "   'items': {'$ref': '#/$defs/Question'},\n",
       "   'title': 'Plan',\n",
       "   'type': 'array'}},\n",
       " 'required': ['root_question', 'plan'],\n",
       " 'title': 'QueryPlan',\n",
       " 'type': 'object'}"
      ]
     },
     "execution_count": 37,
     "metadata": {},
     "output_type": "execute_result"
    }
   ],
   "source": [
    "QueryPlan.model_json_schema()"
   ]
  },
  {
   "cell_type": "code",
   "execution_count": 49,
   "metadata": {
    "executionInfo": {
     "elapsed": 428,
     "status": "ok",
     "timestamp": 1709662823924,
     "user": {
      "displayName": "張文鈿（ihower）",
      "userId": "16942569988483049654"
     },
     "user_tz": -480
    },
    "id": "Aw4y2JDPvCcG"
   },
   "outputs": [],
   "source": [
    "def search_knowledgebase_v2(root_question, plan):\n",
    "  context = f\"There are {len(plan)} subquesitons:\"\n",
    "  for i, subquestion in enumerate(plan):\n",
    "    if (not subquestion[\"dependency\"]) or (i == 0):\n",
    "      print(f\"RAG query: {subquestion['subquestion']}\")\n",
    "\n",
    "      context += f\"\\n ### Sub-Question {i}: {subquestion['subquestion']} ### \\n\"\n",
    "      results = collection.query(\n",
    "        query_embeddings = get_embeddings(subquestion[\"subquestion\"]),\n",
    "        n_results=1\n",
    "      )\n",
    "      context += '\\n'.join('* ' + doc for doc in results['documents'][0])\n",
    "    else:\n",
    "       context += f\"\\n ### Sub-Question {i}: {subquestion['subquestion']} ### \\n RE-WRITE this subquestion and call search_knowledgebase_v2 function again \\n\" # 如果有依賴性，就先不查詢\n",
    "\n",
    "  return context"
   ]
  },
  {
   "cell_type": "code",
   "execution_count": 50,
   "metadata": {
    "executionInfo": {
     "elapsed": 4,
     "status": "ok",
     "timestamp": 1709662824535,
     "user": {
      "displayName": "張文鈿（ihower）",
      "userId": "16942569988483049654"
     },
     "user_tz": -480
    },
    "id": "6Dilzf5ZvD0s"
   },
   "outputs": [],
   "source": [
    "available_tools = {\n",
    "  \"search_knowledgebase_v2\": search_knowledgebase_v2,\n",
    "}"
   ]
  },
  {
   "cell_type": "code",
   "execution_count": 38,
   "metadata": {
    "colab": {
     "base_uri": "https://localhost:8080/"
    },
    "executionInfo": {
     "elapsed": 51593,
     "status": "ok",
     "timestamp": 1709662931932,
     "user": {
      "displayName": "張文鈿（ihower）",
      "userId": "16942569988483049654"
     },
     "user_tz": -480
    },
    "id": "hb2NncP-vLQN",
    "outputId": "fd25ca24-a298-4bde-a172-fda829302db1"
   },
   "outputs": [
    {
     "name": "stdout",
     "output_type": "stream",
     "text": [
      "called prompt: [{'role': 'system', 'content': \"\\nYou are a finance/investment specialist. You will use the search tool to find relavent knowlege articles to create the answer.\\nBeing smart in your research. If the search does not come back with the answer, rephrase the question and try again.\\nReview the result of the search and use it to guide your next search if needed.\\n\\nIf the question is complex, decompose a question into subquestions.\\n\\nAnswer ONLY with the facts from the search tool. If there isn't enough information, say you don't know. Do not generate answers that don't use the sources below. If asking a clarifying question to the user would help, ask the question.\\nEach source has a name followed by colon and the actual information, always include the source name for each fact you use in the response. Use square brakets to reference the source, e.g. [info1.txt]. Don't combine sources, list each source separately, e.g. [info1.txt][info2.pdf].\\nIf the user is asking for information that is not related to finance/investment domain, say it's not your area of expertise.\\n\"}, {'role': 'user', 'content': '請問台灣最具戰略價值的是什麼供應鏈? 此供應鏈在中國市場將表現如何?'}]\n",
      "   response: {'id': 'chatcmpl-Bx5DmIAiGBb9yew3DrOgA9W2bOWGC', 'object': 'chat.completion', 'created': 1753421122, 'model': 'gpt-4-0125-preview', 'choices': [{'index': 0, 'message': {'role': 'assistant', 'content': None, 'tool_calls': [{'id': 'call_vSHWRfnReOpkmSwcSTJjMdAM', 'type': 'function', 'function': {'name': 'search_knowledgebase_v2', 'arguments': '{\"root_question\":\"請問台灣最具戰略價值的是什麼供應鏈? 此供應鏈在中國市場將表現如何?\",\"plan\":[{\"subquestion\":\"What is Taiwan\\'s most strategically valuable supply chain?\",\"dependency\":false},{\"subquestion\":\"How will this supply chain perform in the Chinese market?\",\"dependency\":true}]}'}}], 'refusal': None, 'annotations': []}, 'logprobs': None, 'finish_reason': 'tool_calls'}], 'usage': {'prompt_tokens': 425, 'completion_tokens': 112, 'total_tokens': 537, 'prompt_tokens_details': {'cached_tokens': 0, 'audio_tokens': 0}, 'completion_tokens_details': {'reasoning_tokens': 0, 'audio_tokens': 0, 'accepted_prediction_tokens': 0, 'rejected_prediction_tokens': 0}}, 'service_tier': 'default', 'system_fingerprint': None}\n",
      "   called function search_knowledgebase_v2 with {'root_question': '請問台灣最具戰略價值的是什麼供應鏈? 此供應鏈在中國市場將表現如何?', 'plan': [{'subquestion': \"What is Taiwan's most strategically valuable supply chain?\", 'dependency': False}, {'subquestion': 'How will this supply chain perform in the Chinese market?', 'dependency': True}]}\n",
      "   RAG query: What is Taiwan's most strategically valuable supply chain?\n",
      "called prompt: [{'role': 'system', 'content': \"\\nYou are a finance/investment specialist. You will use the search tool to find relavent knowlege articles to create the answer.\\nBeing smart in your research. If the search does not come back with the answer, rephrase the question and try again.\\nReview the result of the search and use it to guide your next search if needed.\\n\\nIf the question is complex, decompose a question into subquestions.\\n\\nAnswer ONLY with the facts from the search tool. If there isn't enough information, say you don't know. Do not generate answers that don't use the sources below. If asking a clarifying question to the user would help, ask the question.\\nEach source has a name followed by colon and the actual information, always include the source name for each fact you use in the response. Use square brakets to reference the source, e.g. [info1.txt]. Don't combine sources, list each source separately, e.g. [info1.txt][info2.pdf].\\nIf the user is asking for information that is not related to finance/investment domain, say it's not your area of expertise.\\n\"}, {'role': 'user', 'content': '請問台灣最具戰略價值的是什麼供應鏈? 此供應鏈在中國市場將表現如何?'}, {'role': 'assistant', 'content': None, 'tool_calls': [{'id': 'call_vSHWRfnReOpkmSwcSTJjMdAM', 'type': 'function', 'function': {'name': 'search_knowledgebase_v2', 'arguments': '{\"root_question\":\"請問台灣最具戰略價值的是什麼供應鏈? 此供應鏈在中國市場將表現如何?\",\"plan\":[{\"subquestion\":\"What is Taiwan\\'s most strategically valuable supply chain?\",\"dependency\":false},{\"subquestion\":\"How will this supply chain perform in the Chinese market?\",\"dependency\":true}]}'}}], 'refusal': None, 'annotations': []}, {'tool_call_id': 'call_vSHWRfnReOpkmSwcSTJjMdAM', 'role': 'tool', 'name': 'search_knowledgebase_v2', 'content': \"There are 2 subquesitons:\\n ### Sub-Question 0: What is Taiwan's most strategically valuable supply chain? ### \\n* 本資料純屬參考性質，兆豐商銀不作任何保證與承諾。上述資料，任何人因信賴此資料而做出或改變決策，本身須承擔一切風險，報告資料並無做出\\n買賣任何內文所涉及之證券建議、誘導及鼓勵相關交易。 5\\n債券市場\\n市場焦點\\n降息預期削減，美股揮別連續五週漲勢\\n市\\n場\\n回\\n顧\\n市\\n場\\n焦\\n點\\n聚\\n焦\\n議\\n題\\n資\\n產\\n觀\\n點\\n• 1月份美國非投資級債的違約率下降至 2.1%，為2023年7月以來新低水準，摩根大通預估今\\n年隨著聯準會可能降息，企業資金壓力有所緩解，2024年違約率可下降至2.8%的水準。\\n• 隨著聯準會即將降息的消息加持下，品質優異且評價面具吸引力的投資級債獲得資金青睞，\\n1月份流入投資級債的資金量接近300億美金，為過去五年1月份平均值的2.3倍。\\n成熟市場\\n台股\\n• 儘管通膨降溫速度不如預期 ，但扣除通膨後的實質利率仍高 ，給予聯準會充足的降息空間 ，\\n短線雖因市場調整降息預期 、科技股累積不小漲幅而有所震盪 ，受惠基本面強勁及AI題材\\n助攻，美股可望維持多頭格局，逢回仍可分批佈局。\\n• 歐元區經濟前景不佳，加上中東及紅海局勢不穩增添通膨不確定性 ，基本面不利歐股表現。\\n• 全球AI供應鏈戰略價值水漲船高 ，摩根士丹利看好台積電不論是技術 、成本結構與定價能\\n力，台積電都優於同業，因此將其目標價由698元上調至758元。\\n• 根據QIC對於49家台灣半導體供應鏈廠商的研究 ，展望未來10年，台灣半導體供應鏈廠商\\n市值可望從目前的249億美元，於2033年成長10倍至2,577億美元。\\n ### Sub-Question 1: How will this supply chain perform in the Chinese market? ### \\n RE-WRITE this subquestion and call search_knowledgebase_v2 function again \\n\"}]\n",
      "   response: {'id': 'chatcmpl-Bx5DvzuxjTgHuYiJpDxnKOUhy0aBm', 'object': 'chat.completion', 'created': 1753421131, 'model': 'gpt-4-0125-preview', 'choices': [{'index': 0, 'message': {'role': 'assistant', 'content': \"Taiwan's most strategically valuable supply chain is its semiconductor supply chain. According to research by QIC on 49 Taiwanese semiconductor supply chain manufacturers, the market value of these companies is expected to grow tenfold from the current $249 billion to $2,577 billion by 2033. Morgan Stanley highlights the strategic value of the global AI supply chain, noting that TSMC (Taiwan Semiconductor Manufacturing Company) excels in technology, cost structure, and pricing capabilities compared to its competitors, leading to an upward revision of its target price from 698 to 758 [info1.txt].\", 'refusal': None, 'annotations': []}, 'logprobs': None, 'finish_reason': 'stop'}], 'usage': {'prompt_tokens': 1513, 'completion_tokens': 120, 'total_tokens': 1633, 'prompt_tokens_details': {'cached_tokens': 0, 'audio_tokens': 0}, 'completion_tokens_details': {'reasoning_tokens': 0, 'audio_tokens': 0, 'accepted_prediction_tokens': 0, 'rejected_prediction_tokens': 0}}, 'service_tier': 'default', 'system_fingerprint': None}\n",
      "------ 最後結果:\n",
      "{'role': 'assistant',\n",
      " 'content': \"Taiwan's most strategically valuable supply chain is its \"\n",
      "            'semiconductor supply chain. According to research by QIC on 49 '\n",
      "            'Taiwanese semiconductor supply chain manufacturers, the market '\n",
      "            'value of these companies is expected to grow tenfold from the '\n",
      "            'current $249 billion to $2,577 billion by 2033. Morgan Stanley '\n",
      "            'highlights the strategic value of the global AI supply chain, '\n",
      "            'noting that TSMC (Taiwan Semiconductor Manufacturing Company) '\n",
      "            'excels in technology, cost structure, and pricing capabilities '\n",
      "            'compared to its competitors, leading to an upward revision of its '\n",
      "            'target price from 698 to 758 [info1.txt].',\n",
      " 'refusal': None,\n",
      " 'annotations': []}\n"
     ]
    }
   ],
   "source": [
    "user_messages = [\n",
    "{\"role\": \"system\", \"content\": \"\"\"\n",
    "You are a finance/investment specialist. You will use the search tool to find relavent knowlege articles to create the answer.\n",
    "Being smart in your research. If the search does not come back with the answer, rephrase the question and try again.\n",
    "Review the result of the search and use it to guide your next search if needed.\n",
    "\n",
    "If the question is complex, decompose a question into subquestions.\n",
    "\n",
    "Answer ONLY with the facts from the search tool. If there isn't enough information, say you don't know. Do not generate answers that don't use the sources below. If asking a clarifying question to the user would help, ask the question.\n",
    "Each source has a name followed by colon and the actual information, always include the source name for each fact you use in the response. Use square brakets to reference the source, e.g. [info1.txt]. Don't combine sources, list each source separately, e.g. [info1.txt][info2.pdf].\n",
    "If the user is asking for information that is not related to finance/investment domain, say it's not your area of expertise.\n",
    "\"\"\"},\n",
    "   {\"role\": \"user\", \"content\": \"請問台灣最具戰略價值的是什麼供應鏈? 此供應鏈在中國市場將表現如何?\"}\n",
    "]\n",
    "tools = [{ \"type\": \"function\",\n",
    "           \"function\": {\n",
    "              \"name\": \"search_knowledgebase_v2\",\n",
    "              \"description\": \"Searches the knowledge base for an answer to the user's question\",\n",
    "              \"parameters\": QueryPlan.model_json_schema(),\n",
    "            }\n",
    "         }]\n",
    "\n",
    "response = get_completion_with_function_execution(user_messages, model=\"gpt-4-turbo-preview\", tools=tools)\n",
    "\n",
    "print(\"------ 最後結果:\")\n",
    "pp(response)"
   ]
  },
  {
   "cell_type": "markdown",
   "metadata": {
    "id": "-y4cmX-el809"
   },
   "source": [
    "## 挑戰題: 來做摘要\n",
    "\n",
    "你會發現 RAG 不會做摘要... XD"
   ]
  },
  {
   "cell_type": "code",
   "execution_count": 39,
   "metadata": {
    "colab": {
     "base_uri": "https://localhost:8080/"
    },
    "executionInfo": {
     "elapsed": 2234,
     "status": "ok",
     "timestamp": 1709658615024,
     "user": {
      "displayName": "張文鈿（ihower）",
      "userId": "16942569988483049654"
     },
     "user_tz": -480
    },
    "id": "7egCNon-l-Sw",
    "outputId": "a040e931-743a-43f1-83a7-7f237564b036"
   },
   "outputs": [
    {
     "name": "stdout",
     "output_type": "stream",
     "text": [
      "called prompt: [{'role': 'system', 'content': \"\\nYou are a finance/investment specialist. You will use the search tool to find relavent knowlege articles to create the answer.\\nBeing smart in your research. If the search does not come back with the answer, rephrase the question and try again.\\nReview the result of the search and use it to guide your next search if needed.\\nIf the question is complex, break down to smaller search steps and find the answer in multiple steps.\\nAnswer ONLY with the facts from the search tool. If there isn't enough information, say you don't know. Do not generate answers that don't use the sources below. If asking a clarifying question to the user would help, ask the question.\\nEach source has a name followed by colon and the actual information, always include the source name for each fact you use in the response. Use square brakets to reference the source, e.g. [info1.txt]. Don't combine sources, list each source separately, e.g. [info1.txt][info2.pdf].\\nIf the user is asking for information that is not related to finance/investment domain, say it's not your area of expertise.\\n\"}, {'role': 'user', 'content': '請問這PDF在講什麼?'}]\n",
      "   response: {'id': 'chatcmpl-Bx5fsOa6h7LoaqPrpfpjsd11Odhyc', 'object': 'chat.completion', 'created': 1753422864, 'model': 'gpt-4-0125-preview', 'choices': [{'index': 0, 'message': {'role': 'assistant', 'content': \"I'm sorry, but I can't directly analyze or interpret PDF content without more specific information or the ability to directly access the content of the PDF. If you have specific questions or topics related to finance or investment that are mentioned in the PDF, feel free to ask, and I can provide information or insights based on my knowledge base.\", 'refusal': None, 'annotations': []}, 'logprobs': None, 'finish_reason': 'stop'}], 'usage': {'prompt_tokens': 317, 'completion_tokens': 68, 'total_tokens': 385, 'prompt_tokens_details': {'cached_tokens': 0, 'audio_tokens': 0}, 'completion_tokens_details': {'reasoning_tokens': 0, 'audio_tokens': 0, 'accepted_prediction_tokens': 0, 'rejected_prediction_tokens': 0}}, 'service_tier': 'default', 'system_fingerprint': None}\n",
      "------ 最後結果:\n",
      "{'role': 'assistant',\n",
      " 'content': \"I'm sorry, but I can't directly analyze or interpret PDF content \"\n",
      "            'without more specific information or the ability to directly '\n",
      "            'access the content of the PDF. If you have specific questions or '\n",
      "            'topics related to finance or investment that are mentioned in the '\n",
      "            'PDF, feel free to ask, and I can provide information or insights '\n",
      "            'based on my knowledge base.',\n",
      " 'refusal': None,\n",
      " 'annotations': []}\n"
     ]
    }
   ],
   "source": [
    "user_messages = [\n",
    "{\"role\": \"system\", \"content\": \"\"\"\n",
    "You are a finance/investment specialist. You will use the search tool to find relavent knowlege articles to create the answer.\n",
    "Being smart in your research. If the search does not come back with the answer, rephrase the question and try again.\n",
    "Review the result of the search and use it to guide your next search if needed.\n",
    "If the question is complex, break down to smaller search steps and find the answer in multiple steps.\n",
    "Answer ONLY with the facts from the search tool. If there isn't enough information, say you don't know. Do not generate answers that don't use the sources below. If asking a clarifying question to the user would help, ask the question.\n",
    "Each source has a name followed by colon and the actual information, always include the source name for each fact you use in the response. Use square brakets to reference the source, e.g. [info1.txt]. Don't combine sources, list each source separately, e.g. [info1.txt][info2.pdf].\n",
    "If the user is asking for information that is not related to finance/investment domain, say it's not your area of expertise.\n",
    "\"\"\"},\n",
    "                 {\"role\": \"user\", \"content\": \"請問這PDF在講什麼?\"}\n",
    "]\n",
    "tools = [{ \"type\": \"function\",\n",
    "           \"function\": {\n",
    "              \"name\": \"search_knowledgebase\",\n",
    "              \"description\": \"Searches the knowledge base for an answer to the user's question\",\n",
    "              \"parameters\": {\n",
    "                \"type\": \"object\",\n",
    "                  \"properties\": {\n",
    "                    \"query\": { \"type\": \"string\", \"description\": \"The search query to use to search the knowledge base\" }\n",
    "                  },\n",
    "                \"required\": [\"query\"]\n",
    "              },\n",
    "            }\n",
    "         }]\n",
    "\n",
    "response = get_completion_with_function_execution(user_messages, tools=tools)\n",
    "\n",
    "print(\"------ 最後結果:\")\n",
    "pp(response)"
   ]
  },
  {
   "cell_type": "markdown",
   "metadata": {
    "id": "55nDAoBpoLIM"
   },
   "source": [
    "針對摘要任務，我們得另外提供摘要 tool 才做得對"
   ]
  },
  {
   "cell_type": "code",
   "execution_count": 61,
   "metadata": {
    "id": "kY-r9KDcmMk3"
   },
   "outputs": [],
   "source": [
    "# TODO: 這個 summarize 只是示範，我們可以用之前教的長摘要處理方式來做\n",
    "def summarize(document_name):\n",
    "  text = page.extract_text()\n",
    "  print(text)\n",
    "  messages = [{ \"role\": \"user\", \"content\": f\"摘要以下文件 <text>\\n {text} \\n</text>\"}]\n",
    "  response = get_completion(messages, model=\"gpt-3.5-turbo\")\n",
    "  return response[\"content\"]"
   ]
  },
  {
   "cell_type": "code",
   "execution_count": 62,
   "metadata": {
    "id": "xoPxRsBomCEk"
   },
   "outputs": [],
   "source": [
    "available_tools = {\n",
    "  \"search_knowledgebase\": search_knowledgebase,\n",
    "  \"summarize\": summarize\n",
    "}"
   ]
  },
  {
   "cell_type": "code",
   "execution_count": 75,
   "metadata": {
    "colab": {
     "base_uri": "https://localhost:8080/"
    },
    "executionInfo": {
     "elapsed": 27262,
     "status": "ok",
     "timestamp": 1709659300014,
     "user": {
      "displayName": "張文鈿（ihower）",
      "userId": "16942569988483049654"
     },
     "user_tz": -480
    },
    "id": "Hfk-wNRPnMCa",
    "outputId": "8f23a73a-fcec-4f54-d209-7150b3a0f2cf"
   },
   "outputs": [
    {
     "name": "stdout",
     "output_type": "stream",
     "text": [
      "called prompt: [{'role': 'system', 'content': \"\\nYou are a finance/investment specialist. You will use the search tool to find relavent knowlege articles to create the answer.\\nBeing smart in your research. If the search does not come back with the answer, rephrase the question and try again.\\nReview the result of the search and use it to guide your next search if needed.\\nIf the question is complex, break down to smaller search steps and find the answer in multiple steps.\\nAnswer ONLY with the facts from the search tool. If there isn't enough information, say you don't know. Do not generate answers that don't use the sources below. If asking a clarifying question to the user would help, ask the question.\\nEach source has a name followed by colon and the actual information, always include the source name for each fact you use in the response. Use square brakets to reference the source, e.g. [info1.txt]. Don't combine sources, list each source separately, e.g. [info1.txt][info2.pdf].\\nIf the user is asking for information that is not related to finance/investment domain, say it's not your area of expertise.\\n\"}, {'role': 'user', 'content': '基於 1130219.pdf 主要經濟數據 的表格資訊並摘要'}]\n",
      "   response: {'id': 'chatcmpl-Bx8fwbbG3d78Zu6FPXSitmSoYe5YU', 'object': 'chat.completion', 'created': 1753434400, 'model': 'gpt-4-0125-preview', 'choices': [{'index': 0, 'message': {'role': 'assistant', 'content': None, 'tool_calls': [{'id': 'call_ux2QyBbb41YdPgvAHa9vIKrX', 'type': 'function', 'function': {'name': 'summarize', 'arguments': '{\"document_name\":\"1130219\"}'}}], 'refusal': None, 'annotations': []}, 'logprobs': None, 'finish_reason': 'tool_calls'}], 'usage': {'prompt_tokens': 358, 'completion_tokens': 18, 'total_tokens': 376, 'prompt_tokens_details': {'cached_tokens': 0, 'audio_tokens': 0}, 'completion_tokens_details': {'reasoning_tokens': 0, 'audio_tokens': 0, 'accepted_prediction_tokens': 0, 'rejected_prediction_tokens': 0}}, 'service_tier': 'default', 'system_fingerprint': None}\n",
      "   called function summarize with {'document_name': '1130219'}\n",
      "本資料純屬參考性質，兆豐商銀不作任何保證與承諾。上述資料，任何人因信賴此資料而做出或改變決策，本身須承擔一切風險，報告資料並無做出\n",
      "買賣任何內文所涉及之證券建議、誘導及鼓勵相關交易。\n",
      "1. 本資料內容僅供內部同仁及客戶參考，非作為任何金融商品或服務之購買或銷售之推介，不得視為買賣有價證券或其他金融商品之要約或要約之引誘。\n",
      "2. 本資料提及之經濟走勢預測不必然代表基金之績效，基金投資風險請詳閱基金公開說明書。\n",
      "3. 基金經理公司以往之經理績效不保證基金之最低投資收益；基金經理公司除盡善良管理人之注意義務外，不負責本基金之盈虧，亦不保證最低之收益 ，投資人申購\n",
      "前應詳閱基金公開說明書。\n",
      "4. 本資料所載內容如涉及商品資訊 ，商品相關資訊仍以經核可之條款及文宣 (DM)為主，本行網站已備有公開說明書可供查閱基金應負擔之費用及相關投資風險 。投\n",
      "資人申購基金係持有基金受益憑證，而非本資料提及之投資資產或標的。\n",
      "5. 本資料所載內容取自本公司相信可靠之資料來源，且為特定日期之判斷，本公司不保證其即時性、精確性及完整性，亦不提供或嘗試遊說客戶做為投資之判斷依據。\n",
      "資料內容邇後若有變更，本公司將不做預告或主動更新。投資人於決策時應審慎衡量本身風險，如因信賴本資料內容而做出或改變投資決策，須自行承擔結果，本\n",
      "公司及本公司所屬員工，均不負任何損害賠償及其他法律上之責任。\n",
      "6. 本資料內容之著作權屬兆豐銀行所有，禁止就所載資料任何形式之抄襲、引用或轉載。\n",
      "7. 本資料所載部分基金涉及非投資等級債，投資人投資以非投資等級債券為訴求之基金不宜占其投資組合過高之比重 。基金經金管會核准，惟不表示絕無風險。由於\n",
      "非投資等級債券之信用評等未達投資等級或未經信用評等，且對利率變動的敏感度甚高，故本基金可能會因利率上升、市場流動性下降，或債券發行機構違約不支\n",
      "付本金、利息或破產而蒙受虧損。部分基金不適合無法承擔相關風險之投資人。基金經理公司以往之經理績效不保證基金之最低投資收益；基金經理公司除盡善良\n",
      "管理人之注意義務外不負責本基金之盈虧，亦不保證最低之收益，投資人申購前應詳閱基金公開說明書。\n",
      "8. 基金年化配息率計算公式：每單位配息金額 ÷除息日前一日之淨值×一年配息次數×100%。「年化配息率」為估算值。當月配息率計算公式：每單位配息金額 ÷除\n",
      "息日前一日之淨值×100%。\n",
      "9. 基金配息率不代表基金報酬率，且過去配息率不代表未來配息率；基金淨值可能因市場因素而上下波動。投資人因不同時間進場，將有不同之投資績效，過去之績\n",
      "效亦不代表未來績效之保證。本資料如以基金過去績效進行模擬投資組合之報酬率時，僅為歷史資料模擬投資組合之結果，不代表本投資組合之實際報酬率及未來\n",
      "績效保證，不同時間進行模擬操作，其結果亦可能不同。\n",
      "10. 部分基金配息前未先扣除應負擔之相關費用。基金的配息可能由基金的收益或本金中支付。任何涉及由本金支出的部份，可能導致原始投資金額減損。各基金由本\n",
      "金支付配息之相關資料，投資人可至各投信基金公司及總代理人網站查詢。\n",
      "11. 屬基金資訊觀測站ESG基金專區所列之基金，有關基金之ESG資訊，投資人應於申購前詳閱基金公開說明書或投資人須知所載之基金所有特色或目標等資訊。\n",
      "警 語\n",
      "   response: {'id': 'chatcmpl-Bx8fyKUG2DKJEzNueGFuSsfoipkjd', 'object': 'chat.completion', 'created': 1753434402, 'model': 'gpt-3.5-turbo-0125', 'choices': [{'index': 0, 'message': {'role': 'assistant', 'content': '本文件提供了有關投資基金的資訊，包括投資風險、基金經理公司的責任、基金配息率計算公式、過去績效不代表未來績效等內容。文件強調投資人應詳細閱讀基金公開說明書，並自行承擔投資決策所帶來的風險。此外，文件還提到基金配息可能由基金收益或本金中支付，並提醒投資人注意基金的ESG資訊。最後，文件警告投資人應謹慎評估投資風險，並強調過去績效不代表未來績效的保證。', 'refusal': None, 'annotations': []}, 'logprobs': None, 'finish_reason': 'stop'}], 'usage': {'prompt_tokens': 1827, 'completion_tokens': 237, 'total_tokens': 2064, 'prompt_tokens_details': {'cached_tokens': 0, 'audio_tokens': 0}, 'completion_tokens_details': {'reasoning_tokens': 0, 'audio_tokens': 0, 'accepted_prediction_tokens': 0, 'rejected_prediction_tokens': 0}}, 'service_tier': 'default', 'system_fingerprint': None}\n",
      "called prompt: [{'role': 'system', 'content': \"\\nYou are a finance/investment specialist. You will use the search tool to find relavent knowlege articles to create the answer.\\nBeing smart in your research. If the search does not come back with the answer, rephrase the question and try again.\\nReview the result of the search and use it to guide your next search if needed.\\nIf the question is complex, break down to smaller search steps and find the answer in multiple steps.\\nAnswer ONLY with the facts from the search tool. If there isn't enough information, say you don't know. Do not generate answers that don't use the sources below. If asking a clarifying question to the user would help, ask the question.\\nEach source has a name followed by colon and the actual information, always include the source name for each fact you use in the response. Use square brakets to reference the source, e.g. [info1.txt]. Don't combine sources, list each source separately, e.g. [info1.txt][info2.pdf].\\nIf the user is asking for information that is not related to finance/investment domain, say it's not your area of expertise.\\n\"}, {'role': 'user', 'content': '基於 1130219.pdf 主要經濟數據 的表格資訊並摘要'}, {'role': 'assistant', 'content': None, 'tool_calls': [{'id': 'call_ux2QyBbb41YdPgvAHa9vIKrX', 'type': 'function', 'function': {'name': 'summarize', 'arguments': '{\"document_name\":\"1130219\"}'}}], 'refusal': None, 'annotations': []}, {'tool_call_id': 'call_ux2QyBbb41YdPgvAHa9vIKrX', 'role': 'tool', 'name': 'summarize', 'content': '本文件提供了有關投資基金的資訊，包括投資風險、基金經理公司的責任、基金配息率計算公式、過去績效不代表未來績效等內容。文件強調投資人應詳細閱讀基金公開說明書，並自行承擔投資決策所帶來的風險。此外，文件還提到基金配息可能由基金收益或本金中支付，並提醒投資人注意基金的ESG資訊。最後，文件警告投資人應謹慎評估投資風險，並強調過去績效不代表未來績效的保證。'}]\n",
      "   response: {'id': 'chatcmpl-Bx8g2LA8GbfMYRCHjA5rt5JRgIqnK', 'object': 'chat.completion', 'created': 1753434406, 'model': 'gpt-4-0125-preview', 'choices': [{'index': 0, 'message': {'role': 'assistant', 'content': '本文件提供了有關投資基金的資訊，包括投資風險、基金經理公司的責任、基金配息率計算公式、過去績效不代表未來績效等內容。文件強調投資人應詳細閱讀基金公開說明書，並自行承擔投資決策所帶來的風險。此外，文件還提到基金配息可能由基金收益或本金中支付，並提醒投資人注意基金的ESG資訊。最後，文件警告投資人應謹慎評估投資風險，並強調過去績效不代表未來績效的保證。', 'refusal': None, 'annotations': []}, 'logprobs': None, 'finish_reason': 'stop'}], 'usage': {'prompt_tokens': 622, 'completion_tokens': 238, 'total_tokens': 860, 'prompt_tokens_details': {'cached_tokens': 0, 'audio_tokens': 0}, 'completion_tokens_details': {'reasoning_tokens': 0, 'audio_tokens': 0, 'accepted_prediction_tokens': 0, 'rejected_prediction_tokens': 0}}, 'service_tier': 'default', 'system_fingerprint': None}\n",
      "------ 最後結果:\n",
      "{'role': 'assistant',\n",
      " 'content': '本文件提供了有關投資基金的資訊，包括投資風險、基金經理公司的責任、基金配息率計算公式、過去績效不代表未來績效等內容。文件強調投資人應詳細閱讀基金公開說明書，並自行承擔投資決策所帶來的風險。此外，文件還提到基金配息可能由基金收益或本金中支付，並提醒投資人注意基金的ESG資訊。最後，文件警告投資人應謹慎評估投資風險，並強調過去績效不代表未來績效的保證。',\n",
      " 'refusal': None,\n",
      " 'annotations': []}\n"
     ]
    }
   ],
   "source": [
    "user_messages = [\n",
    "{\"role\": \"system\", \"content\": \"\"\"\n",
    "You are a finance/investment specialist. You will use the search tool to find relavent knowlege articles to create the answer.\n",
    "Being smart in your research. If the search does not come back with the answer, rephrase the question and try again.\n",
    "Review the result of the search and use it to guide your next search if needed.\n",
    "If the question is complex, break down to smaller search steps and find the answer in multiple steps.\n",
    "Answer ONLY with the facts from the search tool. If there isn't enough information, say you don't know. Do not generate answers that don't use the sources below. If asking a clarifying question to the user would help, ask the question.\n",
    "Each source has a name followed by colon and the actual information, always include the source name for each fact you use in the response. Use square brakets to reference the source, e.g. [info1.txt]. Don't combine sources, list each source separately, e.g. [info1.txt][info2.pdf].\n",
    "If the user is asking for information that is not related to finance/investment domain, say it's not your area of expertise.\n",
    "\"\"\"},\n",
    "                 {\"role\": \"user\", \"content\": \"基於 1130219.pdf 主要經濟數據 的表格資訊並摘要\"}\n",
    "]\n",
    "tools = [{ \"type\": \"function\",\n",
    "           \"function\": {\n",
    "              \"name\": \"search_knowledgebase\",\n",
    "              \"description\": \"Searches the knowledge base for an answer to the user's question\",\n",
    "              \"parameters\": {\n",
    "                \"type\": \"object\",\n",
    "                  \"properties\": {\n",
    "                    \"query\": { \"type\": \"string\", \"description\": \"The search query to use to search the knowledge base\" }\n",
    "                  },\n",
    "                \"required\": [\"query\"]\n",
    "              },\n",
    "            }\n",
    "         },\n",
    "         { \"type\": \"function\",\n",
    "           \"function\": {\n",
    "              \"name\": \"summarize\",\n",
    "              \"description\": \"summarize document\",\n",
    "              \"parameters\": {\n",
    "                \"type\": \"object\",\n",
    "                  \"properties\": {\n",
    "                    \"document_name\": { \"type\": \"string\", \"description\": \"1130219\" } # TODO: 如果有多份文件，需要讓用戶能夠描述他是要摘要哪一份問題或段落\n",
    "                  }\n",
    "              },\n",
    "            }\n",
    "         }\n",
    "         ]\n",
    "\n",
    "\n",
    "response = get_completion_with_function_execution(user_messages, tools=tools)\n",
    "\n",
    "print(\"------ 最後結果:\")\n",
    "pp(response)\n"
   ]
  },
  {
   "cell_type": "code",
   "execution_count": null,
   "metadata": {},
   "outputs": [],
   "source": []
  }
 ],
 "metadata": {
  "colab": {
   "authorship_tag": "ABX9TyPMA7o2zj7igBw0TBwYDron",
   "provenance": []
  },
  "kernelspec": {
   "display_name": "Python 3",
   "name": "python3"
  },
  "language_info": {
   "codemirror_mode": {
    "name": "ipython",
    "version": 3
   },
   "file_extension": ".py",
   "mimetype": "text/x-python",
   "name": "python",
   "nbconvert_exporter": "python",
   "pygments_lexer": "ipython3",
   "version": "3.10.17"
  }
 },
 "nbformat": 4,
 "nbformat_minor": 0
}
