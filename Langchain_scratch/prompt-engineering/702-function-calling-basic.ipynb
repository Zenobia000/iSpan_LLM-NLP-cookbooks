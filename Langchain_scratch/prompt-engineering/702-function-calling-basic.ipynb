{
 "cells": [
  {
   "cell_type": "markdown",
   "metadata": {
    "id": "Bzhq29sorhBf"
   },
   "source": [
    "這份 Notebook 示範 OpenAI Function Calling 基本用法\n"
   ]
  },
  {
   "cell_type": "code",
   "execution_count": 4,
   "metadata": {
    "id": "1L63izpsSw2W"
   },
   "outputs": [],
   "source": [
    "# from google.colab import userdata\n",
    "# openai_api_key = userdata.get('openai_api_key')"
   ]
  },
  {
   "cell_type": "code",
   "execution_count": 5,
   "metadata": {},
   "outputs": [],
   "source": [
    "# Import necessary libraries\n",
    "## 設定 OpenAI API Key 變數\n",
    "from dotenv import load_dotenv\n",
    "import os\n",
    "\n",
    "# Load the environment variables from .env file\n",
    "load_dotenv()\n",
    "\n",
    "# Access the API key\n",
    "openai_api_key = os.getenv('OPENAI_API_KEY')\n"
   ]
  },
  {
   "cell_type": "code",
   "execution_count": 6,
   "metadata": {
    "id": "zJ4ODL_Pr-2s"
   },
   "outputs": [],
   "source": [
    "import requests\n",
    "import json\n",
    "from pprint import pp"
   ]
  },
  {
   "cell_type": "code",
   "execution_count": 7,
   "metadata": {
    "executionInfo": {
     "elapsed": 274,
     "status": "ok",
     "timestamp": 1708506214563,
     "user": {
      "displayName": "張文鈿（ihower）",
      "userId": "16942569988483049654"
     },
     "user_tz": -480
    },
    "id": "Sjb2kdSasC6b"
   },
   "outputs": [],
   "source": [
    "def get_completion(messages, model=\"gpt-3.5-turbo\", temperature=0, max_tokens=1000, tools=None, tool_choice=None):\n",
    "  payload = { \"model\": model, \"temperature\": temperature, \"messages\": messages, \"max_tokens\": max_tokens }\n",
    "  if tools:\n",
    "    payload[\"tools\"] = tools\n",
    "  if tool_choice:\n",
    "    payload[\"tool_choice\"] = tool_choice\n",
    "\n",
    "  headers = { \"Authorization\": f'Bearer {openai_api_key}', \"Content-Type\": \"application/json\" }\n",
    "  response = requests.post('https://api.openai.com/v1/chat/completions', headers = headers, data = json.dumps(payload) )\n",
    "  obj = json.loads(response.text)\n",
    "\n",
    "  if response.status_code == 200 :\n",
    "    return obj[\"choices\"][0][\"message\"] # 改成回傳上一層 message 物件\n",
    "  else :\n",
    "    return obj[\"error\"]"
   ]
  },
  {
   "cell_type": "markdown",
   "metadata": {
    "id": "PSS9lD9WvBoS"
   },
   "source": [
    "## 基本的完整流程\n",
    "\n",
    "出自官方案例 https://openai.com/blog/function-calling-and-other-api-updates"
   ]
  },
  {
   "cell_type": "markdown",
   "metadata": {
    "id": "GfsQNPcwIVgS"
   },
   "source": [
    "## Step 1\n",
    "\n",
    "發出 Prompt 請求，附上你有的 function 規格"
   ]
  },
  {
   "cell_type": "code",
   "execution_count": 8,
   "metadata": {
    "executionInfo": {
     "elapsed": 3,
     "status": "ok",
     "timestamp": 1708506215602,
     "user": {
      "displayName": "張文鈿（ihower）",
      "userId": "16942569988483049654"
     },
     "user_tz": -480
    },
    "id": "H-vofKZKsP5u"
   },
   "outputs": [],
   "source": [
    "def get_current_weather(location, unit=\"fahrenheit\"):\n",
    "    \"\"\"Get the current weather in a given location\"\"\"\n",
    "    weather_info = {\n",
    "        \"location\": location,\n",
    "        \"temperature\": \"72\",\n",
    "        \"unit\": unit,\n",
    "        \"forecast\": [\"sunny\", \"windy\"],\n",
    "    }\n",
    "    return json.dumps(weather_info)\n"
   ]
  },
  {
   "cell_type": "code",
   "execution_count": 9,
   "metadata": {
    "colab": {
     "base_uri": "https://localhost:8080/"
    },
    "executionInfo": {
     "elapsed": 1421,
     "status": "ok",
     "timestamp": 1708506218157,
     "user": {
      "displayName": "張文鈿（ihower）",
      "userId": "16942569988483049654"
     },
     "user_tz": -480
    },
    "id": "EwnNFtCDscO0",
    "outputId": "e66ca672-e4e8-484a-9371-e0ea7e08c263"
   },
   "outputs": [
    {
     "name": "stdout",
     "output_type": "stream",
     "text": [
      "{'role': 'assistant',\n",
      " 'content': None,\n",
      " 'tool_calls': [{'id': 'call_K4qiWN1FiQBZYUYjjFVEdMOx',\n",
      "                 'type': 'function',\n",
      "                 'function': {'name': 'get_current_weather',\n",
      "                              'arguments': '{\"location\":\"Taipei, Taiwan\"}'}}],\n",
      " 'refusal': None,\n",
      " 'annotations': []}\n"
     ]
    }
   ],
   "source": [
    "messages = [{\"role\": \"user\", \"content\": \"今天台北市的天氣如何?\"}]\n",
    "tools = [\n",
    "    {\n",
    "        \"type\": \"function\",\n",
    "        \"function\": {\n",
    "            \"name\": \"get_current_weather\",\n",
    "            \"description\": \"Get the current weather in a given location\",\n",
    "            \"parameters\": {\n",
    "                \"type\": \"object\",\n",
    "                \"properties\": {\n",
    "                    \"location\": {\n",
    "                        \"type\": \"string\",\n",
    "                        \"description\": \"The city and state, e.g. San Francisco, CA\",\n",
    "                    },\n",
    "                    \"unit\": {\"type\": \"string\", \"enum\": [\"celsius\", \"fahrenheit\"]},\n",
    "                },\n",
    "                \"required\": [\"location\"],\n",
    "            },\n",
    "        },\n",
    "    }\n",
    "]\n",
    "\n",
    "response = get_completion(messages, tools=tools)\n",
    "pp(response)"
   ]
  },
  {
   "cell_type": "markdown",
   "metadata": {
    "id": "tXX7DzKiI_PP"
   },
   "source": [
    "## Step 2\n",
    "\n",
    "你實際呼叫 get_current_weather 方法，帶有參數 location，得到一個結果"
   ]
  },
  {
   "cell_type": "code",
   "execution_count": 10,
   "metadata": {
    "colab": {
     "base_uri": "https://localhost:8080/"
    },
    "executionInfo": {
     "elapsed": 302,
     "status": "ok",
     "timestamp": 1708506221365,
     "user": {
      "displayName": "張文鈿（ihower）",
      "userId": "16942569988483049654"
     },
     "user_tz": -480
    },
    "id": "h4_X9yiztHI2",
    "outputId": "9b11eb10-bced-4fc7-ef64-0fd029310e94"
   },
   "outputs": [
    {
     "name": "stdout",
     "output_type": "stream",
     "text": [
      "('{\"location\": \"Taipei, Taiwan\", \"temperature\": \"72\", \"unit\": null, '\n",
      " '\"forecast\": [\"sunny\", \"windy\"]}')\n"
     ]
    }
   ],
   "source": [
    "# 把 AI 的回覆加到對話歷史紀錄\n",
    "messages.append(response)\n",
    "\n",
    "# 函數名稱與函數物件的對應\n",
    "available_functions = {\n",
    "  \"get_current_weather\": get_current_weather,\n",
    "}\n",
    "\n",
    "# response 若有 function_call，表示 GPT 要我呼叫函數\n",
    "if response.get(\"tool_calls\"):\n",
    "  for tool_call in response.get(\"tool_calls\"):\n",
    "    # GPT 要我執行哪一個函數\n",
    "    function_name = tool_call[\"function\"][\"name\"]\n",
    "\n",
    "    # 函數物件\n",
    "    fuction_to_call = available_functions[function_name]\n",
    "\n",
    "    # 擷取出函式的參數\n",
    "    function_args = json.loads(tool_call[\"function\"][\"arguments\"])\n",
    "\n",
    "    # 實際呼叫函數\n",
    "    function_response = fuction_to_call(\n",
    "      function_args.get(\"location\"),\n",
    "      unit=function_args.get(\"unit\"),\n",
    "    )\n",
    "\n",
    "    # 把函數的回傳結果，塞回對話紀錄，角色是 tool\n",
    "    messages.append(\n",
    "        {\n",
    "            \"tool_call_id\": tool_call[\"id\"],\n",
    "            \"role\": \"tool\",\n",
    "            \"name\": function_name,\n",
    "            \"content\": function_response,\n",
    "        }\n",
    "    )\n",
    "\n",
    "    pp(function_response)"
   ]
  },
  {
   "cell_type": "markdown",
   "metadata": {
    "id": "86fCoTYnJG8Q"
   },
   "source": [
    "## Step 3\n",
    "\n",
    " 再次呼叫 OpenAI API，此時 messages 裡面有三個訊息: user, assistant 和 function 結果:"
   ]
  },
  {
   "cell_type": "code",
   "execution_count": 11,
   "metadata": {
    "colab": {
     "base_uri": "https://localhost:8080/"
    },
    "executionInfo": {
     "elapsed": 3,
     "status": "ok",
     "timestamp": 1708506224973,
     "user": {
      "displayName": "張文鈿（ihower）",
      "userId": "16942569988483049654"
     },
     "user_tz": -480
    },
    "id": "GXEet3pstA0m",
    "outputId": "8d3e3b3f-8fb8-488b-c342-66dac145b1ed"
   },
   "outputs": [
    {
     "name": "stdout",
     "output_type": "stream",
     "text": [
      "[{'role': 'user', 'content': '今天台北市的天氣如何?'},\n",
      " {'role': 'assistant',\n",
      "  'content': None,\n",
      "  'tool_calls': [{'id': 'call_K4qiWN1FiQBZYUYjjFVEdMOx',\n",
      "                  'type': 'function',\n",
      "                  'function': {'name': 'get_current_weather',\n",
      "                               'arguments': '{\"location\":\"Taipei, Taiwan\"}'}}],\n",
      "  'refusal': None,\n",
      "  'annotations': []},\n",
      " {'tool_call_id': 'call_K4qiWN1FiQBZYUYjjFVEdMOx',\n",
      "  'role': 'tool',\n",
      "  'name': 'get_current_weather',\n",
      "  'content': '{\"location\": \"Taipei, Taiwan\", \"temperature\": \"72\", \"unit\": '\n",
      "             'null, \"forecast\": [\"sunny\", \"windy\"]}'}]\n"
     ]
    }
   ],
   "source": [
    "pp(messages)"
   ]
  },
  {
   "cell_type": "code",
   "execution_count": 12,
   "metadata": {
    "colab": {
     "base_uri": "https://localhost:8080/"
    },
    "executionInfo": {
     "elapsed": 1647,
     "status": "ok",
     "timestamp": 1708506228249,
     "user": {
      "displayName": "張文鈿（ihower）",
      "userId": "16942569988483049654"
     },
     "user_tz": -480
    },
    "id": "tye0GzBSuUFl",
    "outputId": "d283572e-28f5-4b10-9819-e8b22c7b873e"
   },
   "outputs": [
    {
     "name": "stdout",
     "output_type": "stream",
     "text": [
      "{'role': 'assistant',\n",
      " 'content': '今天台北市的天氣為晴天，有微風，氣溫為攝氏 72 度。祝您有個愉快的一天！',\n",
      " 'refusal': None,\n",
      " 'annotations': []}\n"
     ]
    }
   ],
   "source": [
    "response = get_completion(messages)\n",
    "pp(response)"
   ]
  },
  {
   "cell_type": "markdown",
   "metadata": {
    "id": "tG8fLar7KhQ4"
   },
   "source": [
    "## 換一個問題試看看\n",
    "\n",
    "如果問題沒有需要呼叫 function 呢?"
   ]
  },
  {
   "cell_type": "code",
   "execution_count": 13,
   "metadata": {
    "colab": {
     "base_uri": "https://localhost:8080/"
    },
    "executionInfo": {
     "elapsed": 4907,
     "status": "ok",
     "timestamp": 1708506234482,
     "user": {
      "displayName": "張文鈿（ihower）",
      "userId": "16942569988483049654"
     },
     "user_tz": -480
    },
    "id": "xYORnHVbu-ly",
    "outputId": "3fd79abc-4513-4670-b2ba-aedc44b9e9ac"
   },
   "outputs": [
    {
     "name": "stdout",
     "output_type": "stream",
     "text": [
      "{'role': 'assistant',\n",
      " 'content': '在蔚藍的天空下\\n'\n",
      "            '陽光灑在肩頭\\n'\n",
      "            '微風輕拂臉龐\\n'\n",
      "            '溫暖如春的懷抱\\n'\n",
      "            '\\n'\n",
      "            '雲朵悠悠飄過\\n'\n",
      "            '像是天空的畫布\\n'\n",
      "            '彩虹穿越雨霧\\n'\n",
      "            '帶來希望的訊息\\n'\n",
      "            '\\n'\n",
      "            '雨滴輕輕落下\\n'\n",
      "            '清澈如心靈的歌\\n'\n",
      "            '大地滿溢生機\\n'\n",
      "            '讓我們感受自然的美好\\n'\n",
      "            '\\n'\n",
      "            '無論晴天或雨天\\n'\n",
      "            '天氣總是變幻莫測\\n'\n",
      "            '但在每一刻裡\\n'\n",
      "            '都能感受到生命的溫暖與美麗',\n",
      " 'refusal': None,\n",
      " 'annotations': []}\n"
     ]
    }
   ],
   "source": [
    "messages = [{\"role\": \"user\", \"content\": \"寫一首關於天氣的詩\"}]\n",
    "\n",
    "response = get_completion(messages, tools=tools)\n",
    "pp(response)"
   ]
  },
  {
   "cell_type": "markdown",
   "metadata": {
    "id": "e4qzC1xRKsOw"
   },
   "source": [
    "回傳的 response 裡面就沒有 tool_calls"
   ]
  },
  {
   "cell_type": "markdown",
   "metadata": {
    "id": "waEgGDevvmQk"
   },
   "source": [
    "## Fake function 用法: 擷取 metadata\n",
    "\n",
    "透過一個 fake function，目的是拿結構化的 function 參數"
   ]
  },
  {
   "cell_type": "code",
   "execution_count": 14,
   "metadata": {
    "colab": {
     "base_uri": "https://localhost:8080/"
    },
    "executionInfo": {
     "elapsed": 1250,
     "status": "ok",
     "timestamp": 1708506242161,
     "user": {
      "displayName": "張文鈿（ihower）",
      "userId": "16942569988483049654"
     },
     "user_tz": -480
    },
    "id": "3RFZdn2mvn2F",
    "outputId": "eaea2b5b-538b-4977-ef0d-810e542db892"
   },
   "outputs": [
    {
     "name": "stdout",
     "output_type": "stream",
     "text": [
      "{'role': 'assistant',\n",
      " 'content': None,\n",
      " 'tool_calls': [{'id': 'call_4vmB62Oh3ztdHuNgKUN4Nojp',\n",
      "                 'type': 'function',\n",
      "                 'function': {'name': 'information_extraction',\n",
      "                              'arguments': '{\"company_name\":\"台積電\",\"report_date\":\"2023/5/1\"}'}}],\n",
      " 'refusal': None,\n",
      " 'annotations': []}\n"
     ]
    }
   ],
   "source": [
    "messages = [\n",
    "  {\"role\": \"user\", \"content\": \"台積電 2023/5/1 的法說會資料 blah blah blah blah\"}\n",
    "]\n",
    "\n",
    "tools = [\n",
    "    {\n",
    "        \"type\": \"function\",\n",
    "        \"function\": {\n",
    "            \"name\": \"information_extraction\",\n",
    "            \"description\": \"Extracts the relevant information from the passage.\",\n",
    "            \"parameters\": {\n",
    "                \"type\": \"object\",\n",
    "                \"properties\": {\n",
    "                    \"company_name\": {\n",
    "                        \"type\": \"string\",\n",
    "                        \"description\": \"報告中的公司名稱\",\n",
    "                    },\n",
    "                    \"report_date\": {\n",
    "                        \"type\": \"string\",\n",
    "                        \"description\": \"報告中的日期\"\n",
    "                    },\n",
    "                }\n",
    "            },\n",
    "        },\n",
    "    }\n",
    "]\n",
    "\n",
    "# 這個 tool_choice 參數可以要求 GPT 一定要執行某個函數，預設是 auto 讓 GPT 自行判斷\n",
    "tool_choice =  {\"type\": \"function\", \"function\": {\"name\": \"information_extraction\"}}\n",
    "\n",
    "response = get_completion(messages, tools=tools, tool_choice=tool_choice)\n",
    "pp(response)"
   ]
  },
  {
   "cell_type": "code",
   "execution_count": 15,
   "metadata": {
    "colab": {
     "base_uri": "https://localhost:8080/"
    },
    "executionInfo": {
     "elapsed": 448,
     "status": "ok",
     "timestamp": 1708506245840,
     "user": {
      "displayName": "張文鈿（ihower）",
      "userId": "16942569988483049654"
     },
     "user_tz": -480
    },
    "id": "Qs9YyvqQwnkp",
    "outputId": "7ad29026-606a-4803-ee1e-703739a7f613"
   },
   "outputs": [
    {
     "name": "stdout",
     "output_type": "stream",
     "text": [
      "{'company_name': '台積電', 'report_date': '2023/5/1'}\n"
     ]
    }
   ],
   "source": [
    "metadata = json.loads(response[\"tool_calls\"][0][\"function\"][\"arguments\"])\n",
    "pp(metadata)"
   ]
  },
  {
   "cell_type": "markdown",
   "metadata": {
    "id": "dyn5mjMy2Fah"
   },
   "source": [
    "不過在 JSON mode 這功能出了之後，就算不用 function calling 我們也可以拿到 JSON 格式\n",
    "\n",
    "所以似乎不一定要用 function calling 這招來擷取 metadata 了，看哪一種可以更節省 tokens 數"
   ]
  },
  {
   "cell_type": "markdown",
   "metadata": {
    "id": "EdE5Yq2aqWwF"
   },
   "source": [
    "### 使用 Google Search 工具"
   ]
  },
  {
   "cell_type": "code",
   "execution_count": 16,
   "metadata": {
    "colab": {
     "base_uri": "https://localhost:8080/"
    },
    "executionInfo": {
     "elapsed": 9449,
     "status": "ok",
     "timestamp": 1708505902939,
     "user": {
      "displayName": "張文鈿（ihower）",
      "userId": "16942569988483049654"
     },
     "user_tz": -480
    },
    "id": "cJIrIjD4odGK",
    "outputId": "2d66b8d1-0a1d-4800-c4f5-7cfce592ae4e"
   },
   "outputs": [
    {
     "name": "stdout",
     "output_type": "stream",
     "text": [
      "Defaulting to user installation because normal site-packages is not writeable\n",
      "Collecting googlesearch-python\n",
      "  Downloading googlesearch_python-1.3.0-py3-none-any.whl.metadata (3.4 kB)\n",
      "Requirement already satisfied: beautifulsoup4>=4.9 in /home/os-sunnie.gd.weng/.local/lib/python3.10/site-packages (from googlesearch-python) (4.13.4)\n",
      "Requirement already satisfied: requests>=2.20 in /home/os-sunnie.gd.weng/.local/lib/python3.10/site-packages (from googlesearch-python) (2.32.3)\n",
      "Requirement already satisfied: soupsieve>1.2 in /usr/lib/python3/dist-packages (from beautifulsoup4>=4.9->googlesearch-python) (1.9.5)\n",
      "Requirement already satisfied: typing-extensions>=4.0.0 in /usr/local/lib/python3.10/dist-packages (from beautifulsoup4>=4.9->googlesearch-python) (4.12.2)\n",
      "Requirement already satisfied: charset-normalizer<4,>=2 in /home/os-sunnie.gd.weng/.local/lib/python3.10/site-packages (from requests>=2.20->googlesearch-python) (3.4.1)\n",
      "Requirement already satisfied: idna<4,>=2.5 in /usr/local/lib/python3.10/dist-packages (from requests>=2.20->googlesearch-python) (3.10)\n",
      "Requirement already satisfied: urllib3<3,>=1.21.1 in /home/os-sunnie.gd.weng/.local/lib/python3.10/site-packages (from requests>=2.20->googlesearch-python) (2.4.0)\n",
      "Requirement already satisfied: certifi>=2017.4.17 in /home/os-sunnie.gd.weng/.local/lib/python3.10/site-packages (from requests>=2.20->googlesearch-python) (2025.6.15)\n",
      "Downloading googlesearch_python-1.3.0-py3-none-any.whl (5.6 kB)\n",
      "Installing collected packages: googlesearch-python\n",
      "Successfully installed googlesearch-python-1.3.0\n"
     ]
    }
   ],
   "source": [
    "# 這是非官方的 google 爬蟲\n",
    "!pip install googlesearch-python\n",
    "\n",
    "# 若要用官方 JSON API https://developers.google.com/custom-search/v1/overview?hl=zh-tw (有 API key 需付費但有免費額度)"
   ]
  },
  {
   "cell_type": "code",
   "execution_count": 17,
   "metadata": {
    "id": "opm815zzohCc"
   },
   "outputs": [],
   "source": [
    "from googlesearch import search"
   ]
  },
  {
   "cell_type": "code",
   "execution_count": 18,
   "metadata": {
    "id": "VMhpFjfxplAW"
   },
   "outputs": [],
   "source": [
    "def google_search(keyword):\n",
    "  content = \"\"\n",
    "  for item in search(keyword, advanced=True, num_results=5, lang='zh-tw'):\n",
    "    content += f\"Title: {item.title}\\n Description: {item.description}\\n\\n\"\n",
    "  return content"
   ]
  },
  {
   "cell_type": "code",
   "execution_count": 19,
   "metadata": {
    "colab": {
     "base_uri": "https://localhost:8080/"
    },
    "executionInfo": {
     "elapsed": 1063,
     "status": "ok",
     "timestamp": 1708506251209,
     "user": {
      "displayName": "張文鈿（ihower）",
      "userId": "16942569988483049654"
     },
     "user_tz": -480
    },
    "id": "H5De7ITQqOnY",
    "outputId": "2cca5032-d97a-4707-d05e-8547335a8b7d"
   },
   "outputs": [
    {
     "name": "stdout",
     "output_type": "stream",
     "text": [
      "{'role': 'assistant',\n",
      " 'content': None,\n",
      " 'tool_calls': [{'id': 'call_0oySOCYWLSH5pM1uxa9m1Ry7',\n",
      "                 'type': 'function',\n",
      "                 'function': {'name': 'google_search',\n",
      "                              'arguments': '{\"keyword\":\"台北天氣\"}'}}],\n",
      " 'refusal': None,\n",
      " 'annotations': []}\n"
     ]
    }
   ],
   "source": [
    "messages = [{\"role\": \"user\", \"content\": \"今天台北天氣如何?\"}]\n",
    "\n",
    "tools = [\n",
    "    {\n",
    "        \"type\": \"function\",\n",
    "        \"function\": {\n",
    "            \"name\": \"google_search\",\n",
    "            \"description\": \"搜尋最新的資訊\",\n",
    "            \"parameters\": {\n",
    "                \"type\": \"object\",\n",
    "                \"properties\": {\n",
    "                    \"keyword\": {\n",
    "                        \"type\": \"string\",\n",
    "                        \"description\": \"搜尋關鍵字\",\n",
    "                    }\n",
    "                },\n",
    "                \"required\": [\"keyword\"],\n",
    "            },\n",
    "        },\n",
    "    }\n",
    "]\n",
    "\n",
    "response = get_completion(messages, tools=tools)\n",
    "pp(response)"
   ]
  },
  {
   "cell_type": "code",
   "execution_count": 20,
   "metadata": {
    "colab": {
     "base_uri": "https://localhost:8080/"
    },
    "executionInfo": {
     "elapsed": 1,
     "status": "ok",
     "timestamp": 1708506252398,
     "user": {
      "displayName": "張文鈿（ihower）",
      "userId": "16942569988483049654"
     },
     "user_tz": -480
    },
    "id": "TH3Q4sYOqkxr",
    "outputId": "4eed3bb7-8d40-4328-d621-71677f2bdd66"
   },
   "outputs": [
    {
     "name": "stdout",
     "output_type": "stream",
     "text": [
      "{'keyword': '台北天氣'}\n"
     ]
    }
   ],
   "source": [
    "metadata = json.loads(response[\"tool_calls\"][0][\"function\"][\"arguments\"])\n",
    "pp(metadata)"
   ]
  },
  {
   "cell_type": "code",
   "execution_count": 21,
   "metadata": {
    "colab": {
     "base_uri": "https://localhost:8080/"
    },
    "executionInfo": {
     "elapsed": 610,
     "status": "ok",
     "timestamp": 1708506253007,
     "user": {
      "displayName": "張文鈿（ihower）",
      "userId": "16942569988483049654"
     },
     "user_tz": -480
    },
    "id": "PzLWJBwBqs4f",
    "outputId": "006833af-4b90-42f6-fc23-398c7a3eb8eb"
   },
   "outputs": [
    {
     "name": "stdout",
     "output_type": "stream",
     "text": [
      "('Title: \\n'\n",
      " ' Description: /\\n'\n",
      " '\\n'\n",
      " 'Title: 臺北市- 縣市預報| 交通部中央氣象署\\n'\n",
      " ' Description:  今日白天 陰陣雨或雷雨 26 - 2979 - 84降雨機率90%舒適至悶熱; 今晚明晨 多雲時陰陣雨或雷雨 26 - '\n",
      " '2879 - 82降雨機率70%舒適至悶熱; 明日白天 陰時多雲短暫陣雨或雷雨\\xa0... \\n'\n",
      " '\\n'\n",
      " 'Title: 臺北市, 台北市, 臺灣三日天氣預報 - AccuWeather\\n'\n",
      " ' Description:  空氣品質對大多數人來說很理想；享受您的正常戶外活動吧。 過敏展望. 檢視全部 · 灰塵與微粒 極高 此位置\\xa0'\n",
      " '... \\n'\n",
      " '\\n'\n",
      " 'Title: 臺北市信義區- 鄉鎮預報| 交通部中央氣象署\\n'\n",
      " ' Description:  臺北市信義區 · 72小時預報 一週溫度曲線 一週體感溫度曲線 過去 24小時 · 72小時預報 一週預報 過去24小時 '\n",
      " '· 臺北市信義區即時影像 · 天氣圖資 · 臺北市附近旅遊景點天氣連結. \\n'\n",
      " '\\n'\n",
      " 'Title: 東榮, 臺北市10 天天氣預報 - The Weather Channel\\n'\n",
      " ' Description:  10 日天氣-東榮, 臺北市. 截至08:15 CST 為止. 今日. 30°/26°. 99%. 白天. 30°. '\n",
      " '99%. 西北西17 km/h. 雨。 高溫30°C。 10 到15 公里/小時的西北西風。 \\n'\n",
      " '\\n')\n"
     ]
    }
   ],
   "source": [
    "messages.append(response)\n",
    "available_functions = {\n",
    "  \"google_search\": google_search,\n",
    "}\n",
    "\n",
    "\n",
    "if response.get(\"tool_calls\"):\n",
    "  for tool_call in response.get(\"tool_calls\"):\n",
    "    function_name = tool_call[\"function\"][\"name\"]\n",
    "    fuction_to_call = available_functions[function_name]\n",
    "    function_args = json.loads(tool_call[\"function\"][\"arguments\"])\n",
    "    function_response = fuction_to_call(**function_args)\n",
    "\n",
    "    messages.append(\n",
    "        {\n",
    "            \"tool_call_id\": tool_call[\"id\"],\n",
    "            \"role\": \"tool\",\n",
    "            \"name\": function_name,\n",
    "            \"content\": function_response,\n",
    "        }\n",
    "    )\n",
    "\n",
    "    pp(function_response)"
   ]
  },
  {
   "cell_type": "code",
   "execution_count": 22,
   "metadata": {
    "colab": {
     "base_uri": "https://localhost:8080/"
    },
    "executionInfo": {
     "elapsed": 4435,
     "status": "ok",
     "timestamp": 1708506257721,
     "user": {
      "displayName": "張文鈿（ihower）",
      "userId": "16942569988483049654"
     },
     "user_tz": -480
    },
    "id": "gBcsRLx0rF0b",
    "outputId": "c9c0e2e0-740e-490f-b555-c65b95126c76"
   },
   "outputs": [
    {
     "name": "stdout",
     "output_type": "stream",
     "text": [
      "{'role': 'assistant',\n",
      " 'content': '根據中央氣象局的資料，今天台北白天陰天，有陣雨或雷雨，氣溫介於26至29度之間，降雨機率高達90%。今晚至明晨多雲時陰，仍有陣雨或雷雨，氣溫約26至28度，降雨機率為70%。明天白天則是陰時多雲，可能會有短暫陣雨或雷雨。整體來說，天氣悶熱舒適，請注意保暖和攜帶雨具。',\n",
      " 'refusal': None,\n",
      " 'annotations': []}\n"
     ]
    }
   ],
   "source": [
    "response = get_completion(messages)\n",
    "pp(response)"
   ]
  },
  {
   "cell_type": "code",
   "execution_count": null,
   "metadata": {
    "id": "E1Naioba6IWR"
   },
   "outputs": [],
   "source": []
  }
 ],
 "metadata": {
  "colab": {
   "authorship_tag": "ABX9TyNdyUZgHgoFcVZ7l6CMtquS",
   "provenance": []
  },
  "kernelspec": {
   "display_name": "Python 3",
   "name": "python3"
  },
  "language_info": {
   "codemirror_mode": {
    "name": "ipython",
    "version": 3
   },
   "file_extension": ".py",
   "mimetype": "text/x-python",
   "name": "python",
   "nbconvert_exporter": "python",
   "pygments_lexer": "ipython3",
   "version": "3.10.17"
  }
 },
 "nbformat": 4,
 "nbformat_minor": 0
}
