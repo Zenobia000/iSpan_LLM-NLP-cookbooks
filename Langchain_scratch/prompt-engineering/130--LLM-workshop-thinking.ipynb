{
 "cells": [
  {
   "cell_type": "code",
   "execution_count": null,
   "metadata": {
    "executionInfo": {
     "elapsed": 1094,
     "status": "ok",
     "timestamp": 1745674944385,
     "user": {
      "displayName": "張文鈿（ihower）",
      "userId": "16942569988483049654"
     },
     "user_tz": -480
    },
    "id": "2JGM_y4U4zEq"
   },
   "outputs": [],
   "source": [
    "# from google.colab import userdata\n",
    "# openai_api_key = userdata.get('openai_api_key')"
   ]
  },
  {
   "cell_type": "code",
   "execution_count": 1,
   "metadata": {
    "executionInfo": {
     "elapsed": 116,
     "status": "ok",
     "timestamp": 1745674944503,
     "user": {
      "displayName": "張文鈿（ihower）",
      "userId": "16942569988483049654"
     },
     "user_tz": -480
    },
    "id": "tOke8FNz4zev"
   },
   "outputs": [],
   "source": [
    "import requests\n",
    "import json\n",
    "from pprint import pp"
   ]
  },
  {
   "cell_type": "code",
   "execution_count": 2,
   "metadata": {},
   "outputs": [],
   "source": [
    "# Import necessary libraries\n",
    "## 設定 OpenAI API Key 變數\n",
    "from dotenv import load_dotenv\n",
    "import os\n",
    "\n",
    "# Load the environment variables from .env file\n",
    "load_dotenv()\n",
    "\n",
    "# Access the API key\n",
    "openai_api_key = os.getenv('openai_api_key')"
   ]
  },
  {
   "cell_type": "code",
   "execution_count": 3,
   "metadata": {
    "executionInfo": {
     "elapsed": 8,
     "status": "ok",
     "timestamp": 1745674944510,
     "user": {
      "displayName": "張文鈿（ihower）",
      "userId": "16942569988483049654"
     },
     "user_tz": -480
    },
    "id": "L0kZuSAn416t"
   },
   "outputs": [],
   "source": [
    "def get_completion(messages, model=\"gpt-4.1-nano\", reasoning_effort=None):\n",
    "  payload = { \"model\": model, \"messages\": messages }\n",
    "\n",
    "  if reasoning_effort:\n",
    "    payload[\"reasoning_effort\"] = reasoning_effort\n",
    "\n",
    "  headers = { \"Authorization\": f'Bearer {openai_api_key}', \"Content-Type\": \"application/json\" }\n",
    "  response = requests.post('https://api.openai.com/v1/chat/completions', headers = headers, data = json.dumps(payload) )\n",
    "  obj = json.loads(response.text)\n",
    "  if response.status_code == 200 :\n",
    "    return obj # obj[\"choices\"][0][\"message\"][\"content\"]\n",
    "  else :\n",
    "    return obj[\"error\"]"
   ]
  },
  {
   "cell_type": "markdown",
   "metadata": {
    "id": "-tW4M5s6k0u6"
   },
   "source": [
    "## 使用推理模型"
   ]
  },
  {
   "cell_type": "markdown",
   "metadata": {
    "id": "D0WQFveHio5G"
   },
   "source": [
    "注意: o 系列不支援 temperature 參數"
   ]
  },
  {
   "cell_type": "code",
   "execution_count": 5,
   "metadata": {
    "colab": {
     "base_uri": "https://localhost:8080/"
    },
    "executionInfo": {
     "elapsed": 2171,
     "status": "ok",
     "timestamp": 1745674957274,
     "user": {
      "displayName": "張文鈿（ihower）",
      "userId": "16942569988483049654"
     },
     "user_tz": -480
    },
    "id": "Hdmd33Ew44LJ",
    "outputId": "485e9f4c-b87e-4a37-a9c1-ca096a80ba76"
   },
   "outputs": [
    {
     "data": {
      "text/plain": [
       "{'id': 'chatcmpl-Bt6PuwWhhrqulbsmsJFaGlNcgjjv7',\n",
       " 'object': 'chat.completion',\n",
       " 'created': 1752472406,\n",
       " 'model': 'o4-mini-2025-04-16',\n",
       " 'choices': [{'index': 0,\n",
       "   'message': {'role': 'assistant',\n",
       "    'content': '你可以按下面這個順序操作：  \\n\\n1. 把開關A（以下為標示，實際可任意命名）打開，等約５分鐘，讓燈泡充分發熱。  \\n2. ５分鐘後，把開關A關掉，立即把開關B打開，然後立刻進房間。  \\n\\n進到房間後，你會看到三盞燈的情況：  \\n- 那盞「亮着」的燈，必然是開關B控制的。  \\n- 那盞「暗着但摸起來燙手」的燈，是剛才開了５分鐘又關掉的開關A控制的。  \\n- 剩下那盞「既不亮也不燙」的燈，就是開關C控制的。  \\n\\n如此，一次進房就能對應出三個開關與三盞燈的對應關係。',\n",
       "    'refusal': None,\n",
       "    'annotations': []},\n",
       "   'finish_reason': 'stop'}],\n",
       " 'usage': {'prompt_tokens': 99,\n",
       "  'completion_tokens': 291,\n",
       "  'total_tokens': 390,\n",
       "  'prompt_tokens_details': {'cached_tokens': 0, 'audio_tokens': 0},\n",
       "  'completion_tokens_details': {'reasoning_tokens': 64,\n",
       "   'audio_tokens': 0,\n",
       "   'accepted_prediction_tokens': 0,\n",
       "   'rejected_prediction_tokens': 0}},\n",
       " 'service_tier': 'default',\n",
       " 'system_fingerprint': None}"
      ]
     },
     "execution_count": 5,
     "metadata": {},
     "output_type": "execute_result"
    }
   ],
   "source": [
    "user_message = \"房間裡有三盞燈外面有三個開關。你站在房間外，看不到燈的狀態。你可以隨意操作開關（開或關），也可以進房間檢查一次燈的情形，但只能進去一次。請問：你該怎麼操作，才能判斷每個開關對應哪一盞燈？\"\n",
    "\n",
    "messages = [\n",
    "    {\n",
    "        \"role\": \"user\",\n",
    "        \"content\": user_message\n",
    "    }\n",
    "]\n",
    "\n",
    "response2 = get_completion(messages, model=\"o4-mini\", reasoning_effort=\"low\") # medium, high\n",
    "response2\n",
    "\n"
   ]
  },
  {
   "cell_type": "code",
   "execution_count": 14,
   "metadata": {},
   "outputs": [
    {
     "name": "stdout",
     "output_type": "stream",
     "text": [
      "你可以按下面這個順序操作：  \n",
      "\n",
      "1. 把開關A（以下為標示，實際可任意命名）打開，等約５分鐘，讓燈泡充分發熱。  \n",
      "2. ５分鐘後，把開關A關掉，立即把開關B打開，然後立刻進房間。  \n",
      "\n",
      "進到房間後，你會看到三盞燈的情況：  \n",
      "- 那盞「亮着」的燈，必然是開關B控制的。  \n",
      "- 那盞「暗着但摸起來燙手」的燈，是剛才開了５分鐘又關掉的開關A控制的。  \n",
      "- 剩下那盞「既不亮也不燙」的燈，就是開關C控制的。  \n",
      "\n",
      "如此，一次進房就能對應出三個開關與三盞燈的對應關係。\n"
     ]
    }
   ],
   "source": [
    "print(response2[\"choices\"][0][\"message\"][\"content\"])"
   ]
  },
  {
   "cell_type": "markdown",
   "metadata": {
    "id": "_lBqAO_3jjYa"
   },
   "source": [
    "## OpenAI 不給你看完整的 raw reasoning tokens，但 reasoning_tokens 也是要算錢的\n",
    "\n",
    "* ChatGPT 上的那個 CoT 過程是摘要過的，非原本的 CoT tokens\n",
    "* API 說也有開放推理摘要了，但需要組織認證以及用新的 Responses API https://platform.openai.com/docs/guides/reasoning?api-mode=responses#reasoning-summaries\n"
   ]
  },
  {
   "cell_type": "markdown",
   "metadata": {
    "id": "PRSRwOfBEAmu"
   },
   "source": [
    "## 試試有公開 thinking 過程的模型: DeepSeek R1"
   ]
  },
  {
   "cell_type": "code",
   "execution_count": null,
   "metadata": {
    "executionInfo": {
     "elapsed": 457,
     "status": "ok",
     "timestamp": 1745675110891,
     "user": {
      "displayName": "張文鈿（ihower）",
      "userId": "16942569988483049654"
     },
     "user_tz": -480
    },
    "id": "DWqNeSRdDino"
   },
   "outputs": [],
   "source": [
    "# from google.colab import userdata\n",
    "# deepseek_api_key = userdata.get('deepseek_api_key')\n"
   ]
  },
  {
   "cell_type": "code",
   "execution_count": 22,
   "metadata": {},
   "outputs": [],
   "source": [
    "# Import necessary libraries\n",
    "## 設定 OpenAI API Key 變數\n",
    "from dotenv import load_dotenv\n",
    "import os\n",
    "\n",
    "# Load the environment variables from .env file\n",
    "load_dotenv()\n",
    "\n",
    "# Access the API key\n",
    "deepseek_api_key = os.getenv('deepseek_api_key')\n"
   ]
  },
  {
   "cell_type": "code",
   "execution_count": 19,
   "metadata": {
    "executionInfo": {
     "elapsed": 6,
     "status": "ok",
     "timestamp": 1745675111787,
     "user": {
      "displayName": "張文鈿（ihower）",
      "userId": "16942569988483049654"
     },
     "user_tz": -480
    },
    "id": "09NQJAZ0DqK6"
   },
   "outputs": [],
   "source": [
    "def get_deepseek_completion(messages, model=\"deepseek-reasoner\"):\n",
    "  payload = { \"model\": model, \"messages\": messages }\n",
    "\n",
    "  headers = { \"Authorization\": f'Bearer {deepseek_api_key}', \"Content-Type\": \"application/json\" }\n",
    "  response = requests.post('https://api.deepseek.com/v1/chat/completions', headers = headers, data = json.dumps(payload) )\n",
    "  obj = json.loads(response.text)\n",
    "  if response.status_code == 200 :\n",
    "    return obj # obj[\"choices\"][0][\"message\"][\"content\"]\n",
    "  else :\n",
    "    return obj[\"error\"]"
   ]
  },
  {
   "cell_type": "code",
   "execution_count": 23,
   "metadata": {
    "colab": {
     "base_uri": "https://localhost:8080/"
    },
    "executionInfo": {
     "elapsed": 80383,
     "status": "ok",
     "timestamp": 1745675200644,
     "user": {
      "displayName": "張文鈿（ihower）",
      "userId": "16942569988483049654"
     },
     "user_tz": -480
    },
    "id": "5ZEPtFTkD48J",
    "outputId": "15db8522-4485-43e5-8aef-7893597ccc64"
   },
   "outputs": [
    {
     "data": {
      "text/plain": [
       "{'id': '4ae13271-103d-4993-8a7e-de4c301f4bd8',\n",
       " 'object': 'chat.completion',\n",
       " 'created': 1752473777,\n",
       " 'model': 'deepseek-reasoner',\n",
       " 'choices': [{'index': 0,\n",
       "   'message': {'role': 'assistant',\n",
       "    'content': '要判斷每個開關對應哪一盞燈，你只能進房間一次，因此需要利用燈泡的狀態（亮、滅但熱、滅但冷）來區分。燈泡在亮過後會變熱，冷卻需要時間，這提供了第三種狀態（滅但熱）。以下是操作步驟：\\n\\n1. **準備階段（在房間外操作開關）**：\\n   - 將三個開關標記為開關 A、開關 B 和開關 C（以便區分）。\\n   - 先確保所有開關都處於「關」的位置，等待約 5 分鐘，讓所有燈泡完全冷卻（這確保初始狀態一致）。\\n\\n2. **操作開關順序**：\\n   - 打開開關 A，保持開啟狀態約 5 分鐘（讓對應的燈泡變熱）。\\n   - 5 分鐘後，關掉開關 A。\\n   - 立即打開開關 B（不要等待）。\\n   - 保持開關 C 始終關閉（從未動過）。\\n   - 操作完成後，立即進房間檢查（避免燈泡冷卻）。\\n\\n3. **進房間檢查燈泡狀態**：\\n   - 觀察燈泡的三種狀態：\\n     - **亮的燈**：對應開關 B（因為開關 B 被打開，燈泡亮著）。\\n     - **滅但熱的燈**（用手觸摸確認溫度）：對應開關 A（因為開關 A 被打開過一段時間，燈泡變熱，然後關掉）。\\n     - **滅但冷的燈**：對應開關 C（因為開關 C 從未開啟，燈泡未亮過，保持冷卻）。\\n\\n### 為什麼這樣有效？\\n- 開關 B 控制的燈泡是亮的，因為你剛打開開關 B。\\n- 開關 A 控制的燈泡是滅但熱的，因為它被打開過 5 分鐘，熱量尚未散失。\\n- 開關 C 控制的燈泡是滅但冷的，因為它從未被開啟，沒有熱量產生。\\n- 這樣，三種狀態（亮、滅熱、滅冷）正好對應三個開關，讓你只進房間一次就能判斷所有對應關係。\\n\\n### 注意事項：\\n- **時間控制**：等待 5 分鐘是為了讓燈泡充分加熱（適用於白熾燈等會發熱的燈泡；如果是 LED 燈，可能不適用，但此謎題通常假設傳統燈泡）。\\n- **立即進房間**：關掉開關 A 後立即打開開關 B 並進房間，是為了確保開關 A 的燈泡還來不及冷卻。\\n- **開關標記**：開關必須事先標記（如 A、B、C），以便進房間後能對應燈泡狀態。燈泡在房間內可依位置區分（如左、中、右）。\\n\\n這個方法可靠且只需進房間一次，就能完整判斷每個開關與燈泡的對應關係。',\n",
       "    'reasoning_content': '首先，問題是：房間裡有三盞燈，外面有三個開關。我看不到燈的狀態，只能操作開關。我可以隨意開關這些開關，然後進房間檢查一次燈的情形。目標是判斷每個開關對應哪一盞燈。\\n\\n關鍵是：我只能進房間一次，所以我必須在進房間之前，通過操作開關來創造一些狀態，讓我能從燈的狀態推斷出哪個開關控制哪盞燈。\\n\\n燈的狀態只有兩種：亮或滅。但因為我只能進一次房間，我需要更多資訊來區分三個開關。\\n\\n所以，我必須利用時間或溫度來創造第三種狀態。燈泡在關掉後，如果剛亮過，會是熱的；如果沒亮過，是冷的。這樣，燈泡就有三種狀態：亮、滅但熱、滅但冷。\\n\\n這是一個經典謎題的標準解法。讓我回想一下。\\n\\n步驟應該是：\\n\\n1. 先打開第一個開關，讓它開著一段時間。\\n\\n2. 然後關掉第一個開關，並立即打開第二個開關。\\n\\n3. 不要動第三個開關，讓它保持關閉。\\n\\n4. 然後進房間檢查燈。\\n\\n現在，當我進房間時：\\n\\n- 如果一盞燈是亮的，那它一定是由第二個開關控制的，因為我剛剛打開了第二個開關。\\n\\n- 如果一盞燈是滅的但熱的，那它是由第一個開關控制的，因為我打開過它一段時間，然後關掉，所以它還熱。\\n\\n- 如果一盞燈是滅的但冷的，那它是由第三個開關控制的，因為我從未動過第三個開關，所以它從沒亮過，是冷的。\\n\\n這樣，我就能區分所有三個開關對應的燈。\\n\\n我需要確保第一個開關打開的時間足夠長，讓燈泡變熱。通常，幾分鐘就夠了，讓燈泡溫熱。\\n\\n操作順序：\\n\\n- 標記開關為 A、B、C，對應燈 X、Y、Z，但我不需要知道燈的名字，只需要找出對應。\\n\\n- 打開開關 A，等待 5 分鐘（讓燈泡變熱）。\\n\\n- 關掉開關 A。\\n\\n- 立即打開開關 B。\\n\\n- 現在，開關 A 關、開關 B 開、開關 C 關（假設初始狀態都關）。\\n\\n- 進房間。\\n\\n檢查燈：\\n\\n- 亮著的燈：對應開關 B。\\n\\n- 滅著但熱的燈：對應開關 A。\\n\\n- 滅著但冷的燈：對應開關 C。\\n\\n完美。\\n\\n如果開關初始狀態不明，但問題說我可以隨意操作開關，所以我應該先確保所有開關都在關閉狀態，然後開始實驗。\\n\\n問題沒有指定初始狀態，所以我最好先關掉所有開關，然後開始。\\n\\n但關掉所有開關可能不必要，因為我可以直接操作。\\n\\n為了安全起見，我可以先關掉所有開關，等待幾分鐘，讓燈泡冷卻，然後開始實驗。\\n\\n但問題沒有說燈泡初始狀態，所以我假設燈泡是冷的。\\n\\n在標準解法中，我們假設開始時所有燈泡都是冷的。\\n\\n所以，步驟：\\n\\n1. 關掉所有三個開關，等待幾分鐘，讓燈泡冷卻（如果之前亮過）。這確保所有燈泡初始都是冷的。\\n\\n但問題沒有說我必須等待冷卻，所以也許可以省略，但為了可靠，最好這樣做。\\n\\n實際上，在謎題中，通常假設燈泡是冷的開始。\\n\\n但為了完整，我應該包括冷卻步驟。\\n\\n在回答中，我可以說：首先，確保所有開關都關閉，等待幾分鐘讓燈泡冷卻。\\n\\n然後：\\n\\n- 打開開關 1，等待 5 分鐘。\\n\\n- 關掉開關 1。\\n\\n- 打開開關 2。\\n\\n- 立即進房間。\\n\\n現在，燈的狀態：\\n\\n- 亮的燈：由開關 2 控制。\\n\\n- 滅但熱的燈：由開關 1 控制（因為剛亮過）。\\n\\n- 滅但冷的燈：由開關 3 控制（從未亮過）。\\n\\n這樣，每個開關都對應到一個燈。\\n\\n我需要指定開關和燈的標籤。\\n\\n在操作時，我可以稱開關為左、中、右，或開關 A、B、C，但進房間後，燈可能沒有標籤，所以我需要根據狀態識別。\\n\\n進房間後，我看到三盞燈，一盞亮、一盞滅熱、一盞滅冷。\\n\\n然後，我根據狀態分配開關。\\n\\n開關 2 控制亮的燈，開關 1 控制滅熱的燈，開關 3 控制滅冷的燈。\\n\\n開關的順序是我定義的。\\n\\n在回答中，我應該描述操作，而不指定開關名稱，因為開關可能沒有標籤。\\n\\n問題說\"三個開關\"，我必須判斷每個開關對應哪一盞燈，所以開關是可區分的，燈也是可區分的。\\n\\n開關在外面，我可以標記它們，比如開關 A、B、C。\\n\\n燈在房間裡，我進房間後可以觀察它們的位置，比如左燈、中燈、右燈。\\n\\n所以，通過操作，我可以知道開關 A 控制哪個燈，等等。\\n\\n在解法中，我操作特定開關。\\n\\n所以，在描述時，我可以說：將三個開關標記為開關 1、2、3。\\n\\n然後操作：\\n\\n- 打開開關 1，等待 5 分鐘。\\n\\n- 關掉開關 1。\\n\\n- 打開開關 2。\\n\\n- 立即進房間。\\n\\n進房間後：\\n\\n- 觀察哪盞燈是亮的：它由開關 2 控制。\\n\\n- 觸摸滅著的燈：哪盞是熱的，它由開關 1 控制。\\n\\n- 哪盞是冷的，它由開關 3 控制。\\n\\n這樣，我就知道每個開關對應的燈。\\n\\n\"立即進房間\"是為了確保開關 1 控制的燈還熱，沒有冷卻。\\n\\n在關掉開關 1 和打開開關 2 後，馬上進房間，這樣時間短，燈泡不會冷卻太多。\\n\\n開關 2 打開後燈應該立即亮，但燈泡加熱需要一點時間，但既然我打開開關 2 後馬上進，燈泡可能還沒熱，但因為它是亮的，我不需要摸它，亮著的燈一定是開關 2 控制。\\n\\n對於開關 1 控制的燈，它是滅的但熱的，因為我等待了 5 分鐘，它熱了，然後關掉，所以它應該還熱。\\n\\n開關 3 從沒開過，所以冷。\\n\\n所以，應該沒問題。\\n\\n另一點：燈泡類型。假設是白熾燈，因為會發熱；如果是 LED 燈，可能不會熱，但這個謎題傳統上是白熾燈。\\n\\n問題說\"燈\"，沒有指定，但一般假設是會發熱的燈泡。\\n\\n在謎題中，通常這樣假設。\\n\\n所以，我認為這個解法是正確的。\\n\\n現在，總結答案。'},\n",
       "   'logprobs': None,\n",
       "   'finish_reason': 'stop'}],\n",
       " 'usage': {'prompt_tokens': 71,\n",
       "  'completion_tokens': 2253,\n",
       "  'total_tokens': 2324,\n",
       "  'prompt_tokens_details': {'cached_tokens': 0},\n",
       "  'completion_tokens_details': {'reasoning_tokens': 1592},\n",
       "  'prompt_cache_hit_tokens': 0,\n",
       "  'prompt_cache_miss_tokens': 71},\n",
       " 'system_fingerprint': 'fp_393bca965e_prod0623_fp8_kvcache'}"
      ]
     },
     "execution_count": 23,
     "metadata": {},
     "output_type": "execute_result"
    }
   ],
   "source": [
    "user_message = \"房間裡有三盞燈外面有三個開關。你站在房間外，看不到燈的狀態。你可以隨意操作開關（開或關），也可以進房間檢查一次燈的情形，但只能進去一次。請問：你該怎麼操作，才能判斷每個開關對應哪一盞燈？\"\n",
    "\n",
    "messages = [\n",
    "    {\n",
    "        \"role\": \"user\",\n",
    "        \"content\": user_message\n",
    "    }\n",
    "]\n",
    "\n",
    "response6 = get_deepseek_completion(messages)\n",
    "response6"
   ]
  },
  {
   "cell_type": "code",
   "execution_count": 24,
   "metadata": {
    "colab": {
     "base_uri": "https://localhost:8080/"
    },
    "executionInfo": {
     "elapsed": 154,
     "status": "ok",
     "timestamp": 1745400293506,
     "user": {
      "displayName": "張文鈿（ihower）",
      "userId": "16942569988483049654"
     },
     "user_tz": -480
    },
    "id": "UfICnFm-EYae",
    "outputId": "b3c64324-f4df-4846-c3f6-ee4ecfdf0b21"
   },
   "outputs": [
    {
     "name": "stdout",
     "output_type": "stream",
     "text": [
      "首先，問題是：房間裡有三盞燈，外面有三個開關。我看不到燈的狀態，只能操作開關。我可以隨意開關這些開關，然後進房間檢查一次燈的情形。目標是判斷每個開關對應哪一盞燈。\n",
      "\n",
      "關鍵是：我只能進房間一次，所以我必須在進房間之前，通過操作開關來創造一些狀態，讓我能從燈的狀態推斷出哪個開關控制哪盞燈。\n",
      "\n",
      "燈的狀態只有兩種：亮或滅。但因為我只能進一次房間，我需要更多資訊來區分三個開關。\n",
      "\n",
      "所以，我必須利用時間或溫度來創造第三種狀態。燈泡在關掉後，如果剛亮過，會是熱的；如果沒亮過，是冷的。這樣，燈泡就有三種狀態：亮、滅但熱、滅但冷。\n",
      "\n",
      "這是一個經典謎題的標準解法。讓我回想一下。\n",
      "\n",
      "步驟應該是：\n",
      "\n",
      "1. 先打開第一個開關，讓它開著一段時間。\n",
      "\n",
      "2. 然後關掉第一個開關，並立即打開第二個開關。\n",
      "\n",
      "3. 不要動第三個開關，讓它保持關閉。\n",
      "\n",
      "4. 然後進房間檢查燈。\n",
      "\n",
      "現在，當我進房間時：\n",
      "\n",
      "- 如果一盞燈是亮的，那它一定是由第二個開關控制的，因為我剛剛打開了第二個開關。\n",
      "\n",
      "- 如果一盞燈是滅的但熱的，那它是由第一個開關控制的，因為我打開過它一段時間，然後關掉，所以它還熱。\n",
      "\n",
      "- 如果一盞燈是滅的但冷的，那它是由第三個開關控制的，因為我從未動過第三個開關，所以它從沒亮過，是冷的。\n",
      "\n",
      "這樣，我就能區分所有三個開關對應的燈。\n",
      "\n",
      "我需要確保第一個開關打開的時間足夠長，讓燈泡變熱。通常，幾分鐘就夠了，讓燈泡溫熱。\n",
      "\n",
      "操作順序：\n",
      "\n",
      "- 標記開關為 A、B、C，對應燈 X、Y、Z，但我不需要知道燈的名字，只需要找出對應。\n",
      "\n",
      "- 打開開關 A，等待 5 分鐘（讓燈泡變熱）。\n",
      "\n",
      "- 關掉開關 A。\n",
      "\n",
      "- 立即打開開關 B。\n",
      "\n",
      "- 現在，開關 A 關、開關 B 開、開關 C 關（假設初始狀態都關）。\n",
      "\n",
      "- 進房間。\n",
      "\n",
      "檢查燈：\n",
      "\n",
      "- 亮著的燈：對應開關 B。\n",
      "\n",
      "- 滅著但熱的燈：對應開關 A。\n",
      "\n",
      "- 滅著但冷的燈：對應開關 C。\n",
      "\n",
      "完美。\n",
      "\n",
      "如果開關初始狀態不明，但問題說我可以隨意操作開關，所以我應該先確保所有開關都在關閉狀態，然後開始實驗。\n",
      "\n",
      "問題沒有指定初始狀態，所以我最好先關掉所有開關，然後開始。\n",
      "\n",
      "但關掉所有開關可能不必要，因為我可以直接操作。\n",
      "\n",
      "為了安全起見，我可以先關掉所有開關，等待幾分鐘，讓燈泡冷卻，然後開始實驗。\n",
      "\n",
      "但問題沒有說燈泡初始狀態，所以我假設燈泡是冷的。\n",
      "\n",
      "在標準解法中，我們假設開始時所有燈泡都是冷的。\n",
      "\n",
      "所以，步驟：\n",
      "\n",
      "1. 關掉所有三個開關，等待幾分鐘，讓燈泡冷卻（如果之前亮過）。這確保所有燈泡初始都是冷的。\n",
      "\n",
      "但問題沒有說我必須等待冷卻，所以也許可以省略，但為了可靠，最好這樣做。\n",
      "\n",
      "實際上，在謎題中，通常假設燈泡是冷的開始。\n",
      "\n",
      "但為了完整，我應該包括冷卻步驟。\n",
      "\n",
      "在回答中，我可以說：首先，確保所有開關都關閉，等待幾分鐘讓燈泡冷卻。\n",
      "\n",
      "然後：\n",
      "\n",
      "- 打開開關 1，等待 5 分鐘。\n",
      "\n",
      "- 關掉開關 1。\n",
      "\n",
      "- 打開開關 2。\n",
      "\n",
      "- 立即進房間。\n",
      "\n",
      "現在，燈的狀態：\n",
      "\n",
      "- 亮的燈：由開關 2 控制。\n",
      "\n",
      "- 滅但熱的燈：由開關 1 控制（因為剛亮過）。\n",
      "\n",
      "- 滅但冷的燈：由開關 3 控制（從未亮過）。\n",
      "\n",
      "這樣，每個開關都對應到一個燈。\n",
      "\n",
      "我需要指定開關和燈的標籤。\n",
      "\n",
      "在操作時，我可以稱開關為左、中、右，或開關 A、B、C，但進房間後，燈可能沒有標籤，所以我需要根據狀態識別。\n",
      "\n",
      "進房間後，我看到三盞燈，一盞亮、一盞滅熱、一盞滅冷。\n",
      "\n",
      "然後，我根據狀態分配開關。\n",
      "\n",
      "開關 2 控制亮的燈，開關 1 控制滅熱的燈，開關 3 控制滅冷的燈。\n",
      "\n",
      "開關的順序是我定義的。\n",
      "\n",
      "在回答中，我應該描述操作，而不指定開關名稱，因為開關可能沒有標籤。\n",
      "\n",
      "問題說\"三個開關\"，我必須判斷每個開關對應哪一盞燈，所以開關是可區分的，燈也是可區分的。\n",
      "\n",
      "開關在外面，我可以標記它們，比如開關 A、B、C。\n",
      "\n",
      "燈在房間裡，我進房間後可以觀察它們的位置，比如左燈、中燈、右燈。\n",
      "\n",
      "所以，通過操作，我可以知道開關 A 控制哪個燈，等等。\n",
      "\n",
      "在解法中，我操作特定開關。\n",
      "\n",
      "所以，在描述時，我可以說：將三個開關標記為開關 1、2、3。\n",
      "\n",
      "然後操作：\n",
      "\n",
      "- 打開開關 1，等待 5 分鐘。\n",
      "\n",
      "- 關掉開關 1。\n",
      "\n",
      "- 打開開關 2。\n",
      "\n",
      "- 立即進房間。\n",
      "\n",
      "進房間後：\n",
      "\n",
      "- 觀察哪盞燈是亮的：它由開關 2 控制。\n",
      "\n",
      "- 觸摸滅著的燈：哪盞是熱的，它由開關 1 控制。\n",
      "\n",
      "- 哪盞是冷的，它由開關 3 控制。\n",
      "\n",
      "這樣，我就知道每個開關對應的燈。\n",
      "\n",
      "\"立即進房間\"是為了確保開關 1 控制的燈還熱，沒有冷卻。\n",
      "\n",
      "在關掉開關 1 和打開開關 2 後，馬上進房間，這樣時間短，燈泡不會冷卻太多。\n",
      "\n",
      "開關 2 打開後燈應該立即亮，但燈泡加熱需要一點時間，但既然我打開開關 2 後馬上進，燈泡可能還沒熱，但因為它是亮的，我不需要摸它，亮著的燈一定是開關 2 控制。\n",
      "\n",
      "對於開關 1 控制的燈，它是滅的但熱的，因為我等待了 5 分鐘，它熱了，然後關掉，所以它應該還熱。\n",
      "\n",
      "開關 3 從沒開過，所以冷。\n",
      "\n",
      "所以，應該沒問題。\n",
      "\n",
      "另一點：燈泡類型。假設是白熾燈，因為會發熱；如果是 LED 燈，可能不會熱，但這個謎題傳統上是白熾燈。\n",
      "\n",
      "問題說\"燈\"，沒有指定，但一般假設是會發熱的燈泡。\n",
      "\n",
      "在謎題中，通常這樣假設。\n",
      "\n",
      "所以，我認為這個解法是正確的。\n",
      "\n",
      "現在，總結答案。\n"
     ]
    }
   ],
   "source": [
    "print(response6[\"choices\"][0][\"message\"][\"reasoning_content\"])"
   ]
  },
  {
   "cell_type": "code",
   "execution_count": 25,
   "metadata": {
    "colab": {
     "base_uri": "https://localhost:8080/"
    },
    "executionInfo": {
     "elapsed": 15,
     "status": "ok",
     "timestamp": 1745400293534,
     "user": {
      "displayName": "張文鈿（ihower）",
      "userId": "16942569988483049654"
     },
     "user_tz": -480
    },
    "id": "Conu0KlPEVHW",
    "outputId": "44ee2e57-5812-4938-f11f-86d295d5e3a2"
   },
   "outputs": [
    {
     "name": "stdout",
     "output_type": "stream",
     "text": [
      "要判斷每個開關對應哪一盞燈，你只能進房間一次，因此需要利用燈泡的狀態（亮、滅但熱、滅但冷）來區分。燈泡在亮過後會變熱，冷卻需要時間，這提供了第三種狀態（滅但熱）。以下是操作步驟：\n",
      "\n",
      "1. **準備階段（在房間外操作開關）**：\n",
      "   - 將三個開關標記為開關 A、開關 B 和開關 C（以便區分）。\n",
      "   - 先確保所有開關都處於「關」的位置，等待約 5 分鐘，讓所有燈泡完全冷卻（這確保初始狀態一致）。\n",
      "\n",
      "2. **操作開關順序**：\n",
      "   - 打開開關 A，保持開啟狀態約 5 分鐘（讓對應的燈泡變熱）。\n",
      "   - 5 分鐘後，關掉開關 A。\n",
      "   - 立即打開開關 B（不要等待）。\n",
      "   - 保持開關 C 始終關閉（從未動過）。\n",
      "   - 操作完成後，立即進房間檢查（避免燈泡冷卻）。\n",
      "\n",
      "3. **進房間檢查燈泡狀態**：\n",
      "   - 觀察燈泡的三種狀態：\n",
      "     - **亮的燈**：對應開關 B（因為開關 B 被打開，燈泡亮著）。\n",
      "     - **滅但熱的燈**（用手觸摸確認溫度）：對應開關 A（因為開關 A 被打開過一段時間，燈泡變熱，然後關掉）。\n",
      "     - **滅但冷的燈**：對應開關 C（因為開關 C 從未開啟，燈泡未亮過，保持冷卻）。\n",
      "\n",
      "### 為什麼這樣有效？\n",
      "- 開關 B 控制的燈泡是亮的，因為你剛打開開關 B。\n",
      "- 開關 A 控制的燈泡是滅但熱的，因為它被打開過 5 分鐘，熱量尚未散失。\n",
      "- 開關 C 控制的燈泡是滅但冷的，因為它從未被開啟，沒有熱量產生。\n",
      "- 這樣，三種狀態（亮、滅熱、滅冷）正好對應三個開關，讓你只進房間一次就能判斷所有對應關係。\n",
      "\n",
      "### 注意事項：\n",
      "- **時間控制**：等待 5 分鐘是為了讓燈泡充分加熱（適用於白熾燈等會發熱的燈泡；如果是 LED 燈，可能不適用，但此謎題通常假設傳統燈泡）。\n",
      "- **立即進房間**：關掉開關 A 後立即打開開關 B 並進房間，是為了確保開關 A 的燈泡還來不及冷卻。\n",
      "- **開關標記**：開關必須事先標記（如 A、B、C），以便進房間後能對應燈泡狀態。燈泡在房間內可依位置區分（如左、中、右）。\n",
      "\n",
      "這個方法可靠且只需進房間一次，就能完整判斷每個開關與燈泡的對應關係。\n"
     ]
    }
   ],
   "source": [
    "print(response6[\"choices\"][0][\"message\"][\"content\"])"
   ]
  },
  {
   "cell_type": "code",
   "execution_count": 26,
   "metadata": {
    "colab": {
     "base_uri": "https://localhost:8080/"
    },
    "executionInfo": {
     "elapsed": 24288,
     "status": "ok",
     "timestamp": 1745400317823,
     "user": {
      "displayName": "張文鈿（ihower）",
      "userId": "16942569988483049654"
     },
     "user_tz": -480
    },
    "id": "R1zgjagXEpDS",
    "outputId": "4617dbcc-a739-44df-cd07-a26a8e84f81f"
   },
   "outputs": [
    {
     "data": {
      "text/plain": [
       "{'id': 'be28f4ca-a883-4c3a-8804-d845c66e5b26',\n",
       " 'object': 'chat.completion',\n",
       " 'created': 1752474110,\n",
       " 'model': 'deepseek-reasoner',\n",
       " 'choices': [{'index': 0,\n",
       "   'message': {'role': 'assistant',\n",
       "    'content': '以下是從 1 到 10000 之間隨機選取的整數：\\n\\n**隨機整數：**  \\n`{{ random.randint(1, 10000) }}`  \\n\\n（每次重新整理或執行都會產生一個新的隨機數，範圍包含 1 和 10000）  \\n\\n### 技術說明：\\n- 使用 Python 的 `random` 模組確保均勻分布（每個數字出現機率相同）。\\n- 若需要重現結果，可設定隨機種子（seed），但此處為完全隨機。\\n\\n需要程式碼範例或其他協助嗎？',\n",
       "    'reasoning_content': '我們需要從1到10000之間隨機選一個整數。在Python中，我們可以使用random模組中的randint函數來達成。\\n 注意：範圍包含1和10000。'},\n",
       "   'logprobs': None,\n",
       "   'finish_reason': 'stop'}],\n",
       " 'usage': {'prompt_tokens': 23,\n",
       "  'completion_tokens': 172,\n",
       "  'total_tokens': 195,\n",
       "  'prompt_tokens_details': {'cached_tokens': 0},\n",
       "  'completion_tokens_details': {'reasoning_tokens': 42},\n",
       "  'prompt_cache_hit_tokens': 0,\n",
       "  'prompt_cache_miss_tokens': 23},\n",
       " 'system_fingerprint': 'fp_393bca965e_prod0623_fp8_kvcache'}"
      ]
     },
     "execution_count": 26,
     "metadata": {},
     "output_type": "execute_result"
    }
   ],
   "source": [
    "user_message = \"幫我從 1 到 10000 之間隨機選一個整數\"\n",
    "\n",
    "messages = [\n",
    "    {\n",
    "        \"role\": \"user\",\n",
    "        \"content\": user_message\n",
    "    }\n",
    "]\n",
    "\n",
    "response7 = get_deepseek_completion(messages)\n",
    "response7"
   ]
  },
  {
   "cell_type": "code",
   "execution_count": 28,
   "metadata": {
    "colab": {
     "base_uri": "https://localhost:8080/"
    },
    "executionInfo": {
     "elapsed": 52,
     "status": "ok",
     "timestamp": 1745400317883,
     "user": {
      "displayName": "張文鈿（ihower）",
      "userId": "16942569988483049654"
     },
     "user_tz": -480
    },
    "id": "SnsGF0HeE_16",
    "outputId": "7473d2e9-8a7c-4d30-c40e-f55a568d8eaa"
   },
   "outputs": [
    {
     "name": "stdout",
     "output_type": "stream",
     "text": [
      "我們需要從1到10000之間隨機選一個整數。在Python中，我們可以使用random模組中的randint函數來達成。\n",
      " 注意：範圍包含1和10000。\n"
     ]
    }
   ],
   "source": [
    "print(response7[\"choices\"][0][\"message\"][\"reasoning_content\"])"
   ]
  },
  {
   "cell_type": "code",
   "execution_count": 29,
   "metadata": {
    "colab": {
     "base_uri": "https://localhost:8080/"
    },
    "executionInfo": {
     "elapsed": 3,
     "status": "ok",
     "timestamp": 1745400317886,
     "user": {
      "displayName": "張文鈿（ihower）",
      "userId": "16942569988483049654"
     },
     "user_tz": -480
    },
    "id": "rrxCun_-FA_P",
    "outputId": "c59d3881-48ab-4a50-ab97-b098d9cff1e3"
   },
   "outputs": [
    {
     "name": "stdout",
     "output_type": "stream",
     "text": [
      "以下是從 1 到 10000 之間隨機選取的整數：\n",
      "\n",
      "**隨機整數：**  \n",
      "`{{ random.randint(1, 10000) }}`  \n",
      "\n",
      "（每次重新整理或執行都會產生一個新的隨機數，範圍包含 1 和 10000）  \n",
      "\n",
      "### 技術說明：\n",
      "- 使用 Python 的 `random` 模組確保均勻分布（每個數字出現機率相同）。\n",
      "- 若需要重現結果，可設定隨機種子（seed），但此處為完全隨機。\n",
      "\n",
      "需要程式碼範例或其他協助嗎？\n"
     ]
    }
   ],
   "source": [
    "print(response7[\"choices\"][0][\"message\"][\"content\"])"
   ]
  },
  {
   "cell_type": "markdown",
   "metadata": {
    "id": "77jMJKiNEr08"
   },
   "source": [
    "## Claude Sonnet 3.7 可以 enable thinking\n",
    "\n",
    "2025/2/25 推出\n"
   ]
  },
  {
   "cell_type": "code",
   "execution_count": null,
   "metadata": {
    "id": "GyeseYOTD960"
   },
   "outputs": [],
   "source": [
    "# from google.colab import userdata\n",
    "# claude_api_key = userdata.get(\"claude_api_key\")"
   ]
  },
  {
   "cell_type": "code",
   "execution_count": 30,
   "metadata": {},
   "outputs": [],
   "source": [
    "# Import necessary libraries\n",
    "## 設定 OpenAI API Key 變數\n",
    "from dotenv import load_dotenv\n",
    "import os\n",
    "\n",
    "# Load the environment variables from .env file\n",
    "load_dotenv()\n",
    "\n",
    "# Access the API key\n",
    "claude_api_key = os.getenv('claude_api_key')\n"
   ]
  },
  {
   "cell_type": "code",
   "execution_count": 31,
   "metadata": {
    "id": "76QLsU-CE1zj"
   },
   "outputs": [],
   "source": [
    "def get_claude_completion(messages, model=\"claude-3-7-sonnet-20250219\", temperature=1, max_tokens = 8000):\n",
    "  payload = { \"model\": model, \"temperature\": temperature, \"messages\": messages, \"max_tokens\": max_tokens,\n",
    "              \"thinking\": {\n",
    "                \"type\": \"enabled\",\n",
    "                \"budget_tokens\": 2000\n",
    "               }\n",
    "            }\n",
    "\n",
    "  headers = { \"x-api-key\": claude_api_key, \"anthropic-version\": \"2023-06-01\", \"Content-Type\": \"application/json\" }\n",
    "  response = requests.post('https://api.anthropic.com/v1/messages', headers = headers, data = json.dumps(payload) )\n",
    "  obj = json.loads(response.text)\n",
    "  if response.status_code == 200 :\n",
    "    return obj\n",
    "  else :\n",
    "    return obj"
   ]
  },
  {
   "cell_type": "code",
   "execution_count": 32,
   "metadata": {
    "colab": {
     "base_uri": "https://localhost:8080/"
    },
    "executionInfo": {
     "elapsed": 35397,
     "status": "ok",
     "timestamp": 1745400358611,
     "user": {
      "displayName": "張文鈿（ihower）",
      "userId": "16942569988483049654"
     },
     "user_tz": -480
    },
    "id": "JCtYWnt7E7e_",
    "outputId": "a8763864-0e0e-4777-f2fa-af81fc0588e3"
   },
   "outputs": [
    {
     "data": {
      "text/plain": [
       "{'id': 'msg_01U28sBvWQgaLaLmb5WTUwBx',\n",
       " 'type': 'message',\n",
       " 'role': 'assistant',\n",
       " 'model': 'claude-3-7-sonnet-20250219',\n",
       " 'content': [{'type': 'thinking',\n",
       "   'thinking': '這是一道經典的腦筋急轉彎問題。\\n\\n我們有3個開關和3盞燈，需要確定哪個開關控制哪盞燈。但是有限制：\\n1. 我們一開始站在房間外，看不到燈的狀態\\n2. 可以隨意操作開關\\n3. 只能進入房間一次來檢查燈的情況\\n\\n如果我們只能進去一次，那麼我們需要通過某種方式，一次性獲取所有信息。\\n\\n思考一下，燈有兩種狀態：開和關。但這並不足以區分所有三個開關。\\n\\n不過，燈泡點亮時會發熱。所以我們可以利用這一點：\\n1. 先將第一個開關打開一段時間（例如15分鐘），讓對應的燈泡發熱\\n2. 然後關閉第一個開關\\n3. 再將第二個開關打開\\n4. 然後進入房間\\n\\n這樣，我們可以通過以下方式判斷：\\n- 亮著的燈對應第二個開關\\n- 不亮但摸起來是熱的燈對應第一個開關\\n- 不亮且摸起來是冷的燈對應第三個開關\\n\\n這個方法利用了燈泡除了亮/不亮之外還有溫度這個特性，從而能夠一次檢查就獲取所有需要的信息。\\n\\n讓我用中文清晰地表達這個解決方案。',\n",
       "   'signature': 'ErUBCkYIBRgCIkA1MvFe+oNsGtJBYPdvk8w2Oa1b+demlPDjSxBDwRTP2HKFcfO1OkJxvGs3attrLbunLyBLVmhTpwJLwOYnLB9pEgxuyXfkH20wjswMfmgaDNkF2KLIj9ECxH2bSSIw7b+B45oF36AmbkybQpq6kfUSLb8qJYR0KcL0i1gQUu6tknn1RU59pdACMEBh5MXEKh184SGr6lPeA1CGXHOhJ1wbeR/jF/3TA8oPQDJTAhgC'},\n",
       "  {'type': 'text',\n",
       "   'text': '# 判斷三個開關對應三盞燈的方法\\n\\n這個問題可以通過利用燈泡的物理特性來解決。我的操作步驟如下：\\n\\n### 步驟一：操作開關\\n1. 打開第一個開關，讓它保持開啟狀態約10-15分鐘（讓燈泡有足夠時間發熱）\\n2. 關閉第一個開關\\n3. 打開第二個開關\\n4. 第三個開關保持關閉\\n\\n### 步驟二：進入房間檢查\\n進入房間後，檢查三盞燈的狀態：\\n\\n- **亮著的燈**：對應第二個開關（剛剛打開且仍保持開啟）\\n- **不亮但摸起來很熱的燈**：對應第一個開關（曾經開啟很久但剛關閉）\\n- **不亮且摸起來是冷的燈**：對應第三個開關（一直未開啟）\\n\\n這種方法利用了燈泡不僅有亮/不亮的視覺狀態，還有熱/冷的溫度特性，因此只需進入房間一次就能確定所有開關與燈的對應關係。'}],\n",
       " 'stop_reason': 'end_turn',\n",
       " 'stop_sequence': None,\n",
       " 'usage': {'input_tokens': 142,\n",
       "  'cache_creation_input_tokens': 0,\n",
       "  'cache_read_input_tokens': 0,\n",
       "  'output_tokens': 827,\n",
       "  'service_tier': 'standard'}}"
      ]
     },
     "execution_count": 32,
     "metadata": {},
     "output_type": "execute_result"
    }
   ],
   "source": [
    "user_message = \"房間裡有三盞燈外面有三個開關。你站在房間外，看不到燈的狀態。你可以隨意操作開關（開或關），也可以進房間檢查一次燈的情形，但只能進去一次。請問：你該怎麼操作，才能判斷每個開關對應哪一盞燈？\"\n",
    "\n",
    "messages = [\n",
    "    {\n",
    "        \"role\": \"user\",\n",
    "        \"content\": user_message\n",
    "    }\n",
    "]\n",
    "\n",
    "response = get_claude_completion(messages)\n",
    "response"
   ]
  },
  {
   "cell_type": "markdown",
   "metadata": {
    "id": "JWPNqqnp9aKu"
   },
   "source": [
    "## Gemini 2.5 系列 也是混合 thinking 模型\n",
    "\n",
    "https://ai.google.dev/gemini-api/docs/thinking?hl=zh-tw"
   ]
  },
  {
   "cell_type": "markdown",
   "metadata": {
    "id": "1egcwg6f3My9"
   },
   "source": [
    "## Cookbook 案例\n",
    "\n",
    "* 合成數據和驗證數據 Using reasoning for data validation\n",
    " https://cookbook.openai.com/examples/o1/using_reasoning_for_data_validation\n",
    "* 根據場景生成 SOP: Using reasoning for routine generation\n",
    " https://cookbook.openai.com/examples/o1/using_reasoning_for_routine_generation"
   ]
  },
  {
   "cell_type": "code",
   "execution_count": null,
   "metadata": {
    "id": "EhQ18a2_3hqI"
   },
   "outputs": [],
   "source": []
  }
 ],
 "metadata": {
  "colab": {
   "authorship_tag": "ABX9TyN6c2Jj6qFFOl36vpXOC6Hp",
   "provenance": []
  },
  "kernelspec": {
   "display_name": "Python 3",
   "name": "python3"
  },
  "language_info": {
   "codemirror_mode": {
    "name": "ipython",
    "version": 3
   },
   "file_extension": ".py",
   "mimetype": "text/x-python",
   "name": "python",
   "nbconvert_exporter": "python",
   "pygments_lexer": "ipython3",
   "version": "3.11.9"
  }
 },
 "nbformat": 4,
 "nbformat_minor": 0
}
