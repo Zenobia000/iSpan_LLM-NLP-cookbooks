{
 "cells": [
  {
   "cell_type": "markdown",
   "metadata": {
    "id": "WPOXoYSkteNq"
   },
   "source": [
    "這份 Notebook 示範 OpenAI Assistants API\n",
    "\n",
    "https://platform.openai.com/docs/assistants/overview"
   ]
  },
  {
   "cell_type": "code",
   "execution_count": null,
   "metadata": {
    "executionInfo": {
     "elapsed": 8361,
     "status": "ok",
     "timestamp": 1708444928934,
     "user": {
      "displayName": "張文鈿（ihower）",
      "userId": "16942569988483049654"
     },
     "user_tz": -480
    },
    "id": "awdxRnz3anNQ"
   },
   "outputs": [],
   "source": [
    "# from google.colab import userdata\n",
    "# openai_api_key = userdata.get('openai_api_key')"
   ]
  },
  {
   "cell_type": "code",
   "execution_count": 11,
   "metadata": {},
   "outputs": [],
   "source": [
    "# Import necessary libraries\n",
    "## 設定 OpenAI API Key 變數\n",
    "from dotenv import load_dotenv\n",
    "import os\n",
    "\n",
    "# Load the environment variables from .env file\n",
    "load_dotenv()\n",
    "\n",
    "# Access the API key\n",
    "openai_api_key = os.getenv('OPENAI_API_KEY')\n"
   ]
  },
  {
   "cell_type": "code",
   "execution_count": 2,
   "metadata": {
    "id": "v0gzE9EubGI3"
   },
   "outputs": [],
   "source": [
    "import requests\n",
    "import json\n",
    "from pprint import pp"
   ]
  },
  {
   "cell_type": "markdown",
   "metadata": {
    "id": "pm05BcxUa-v2"
   },
   "source": [
    "## 0. 上傳 RAG 用的參考檔案 (也可在後台 Playground 完成)"
   ]
  },
  {
   "cell_type": "code",
   "execution_count": 69,
   "metadata": {
    "colab": {
     "base_uri": "https://localhost:8080/"
    },
    "executionInfo": {
     "elapsed": 8266,
     "status": "ok",
     "timestamp": 1699790731379,
     "user": {
      "displayName": "張文鈿",
      "userId": "16942569988483049654"
     },
     "user_tz": -480
    },
    "id": "7PsPjxbDatRL",
    "outputId": "f70b8fad-b8e4-43ac-dac8-e99dd5c406db"
   },
   "outputs": [
    {
     "name": "stdout",
     "output_type": "stream",
     "text": [
      "--2025-07-25 19:50:24--  https://dlcenter.gotop.com.tw/PDFSample/A792.pdf\n",
      "Resolving dlcenter.gotop.com.tw (dlcenter.gotop.com.tw)... 125.227.59.43\n",
      "Connecting to dlcenter.gotop.com.tw (dlcenter.gotop.com.tw)|125.227.59.43|:443... connected.\n",
      "HTTP request sent, awaiting response... 200 OK\n",
      "Length: 2258954 (2.2M) [application/pdf]\n",
      "Saving to: ‘C11201717_1.pdf’\n",
      "\n",
      "C11201717_1.pdf     100%[===================>]   2.15M  8.30MB/s    in 0.3s    \n",
      "\n",
      "2025-07-25 19:50:24 (8.30 MB/s) - ‘C11201717_1.pdf’ saved [2258954/2258954]\n",
      "\n"
     ]
    }
   ],
   "source": [
    "# 找個範例檔案 https://report.nat.gov.tw/ReportFront/ReportDetail/detail?sysId=C11201557\n",
    "\n",
    "!wget -O 'C11201717_1.pdf' https://dlcenter.gotop.com.tw/PDFSample/A792.pdf\n"
   ]
  },
  {
   "cell_type": "markdown",
   "metadata": {},
   "source": [
    "## 1. 建立 向量資料庫 上傳檔案"
   ]
  },
  {
   "cell_type": "code",
   "execution_count": null,
   "metadata": {},
   "outputs": [],
   "source": [
    "from openai import OpenAI\n",
    "\n",
    "# 初始化 OpenAI client\n",
    "client = OpenAI(api_key=openai_api_key)\n",
    "\n",
    "# 步驟 1：建立 vector store 並上傳檔案\n",
    "vector_store = client.vector_stores.create(name=\"My Knowledge Store\")\n",
    "\n",
    "file_paths = [\"1130219.pdf\", \"1130513.pdf\"]  # 這裡放你的檔案路徑\n",
    "file_streams = [open(path, \"rb\") for path in file_paths]\n",
    "\n",
    "# 上傳檔案到 vector store，並等待處理完成\n",
    "file_batch = client.vector_stores.file_batches.upload_and_poll(\n",
    "    vector_store_id=vector_store.id,\n",
    "    files=file_streams\n",
    ")\n",
    "print(\"File batch status:\", file_batch.status)\n",
    "print(\"File count:\", file_batch.file_counts)"
   ]
  },
  {
   "cell_type": "markdown",
   "metadata": {},
   "source": [
    "## 步驟 2：建立 Assistant 並綁定 vector store"
   ]
  },
  {
   "cell_type": "code",
   "execution_count": null,
   "metadata": {},
   "outputs": [],
   "source": [
    "\n",
    "\n",
    "# 步驟 2：建立 Assistant 並綁定 vector store\n",
    "assistant = client.beta.assistants.create(\n",
    "    name=\"My FileSearch Assistant\",\n",
    "    instructions=\"You are a customer support chatbot. Use your knowledge base to best respond to customer queries.\",\n",
    "    model=\"gpt-4o\",\n",
    "    tools=[{\"type\": \"file_search\"}],\n",
    "    tool_resources={\n",
    "        \"file_search\": {\n",
    "            \"vector_store_ids\": [vector_store.id]\n",
    "        }\n",
    "    }\n",
    ")\n",
    "print(\"Assistant created. ID:\", assistant.id)"
   ]
  },
  {
   "cell_type": "markdown",
   "metadata": {},
   "source": [
    "## 步驟 3：建立對話 thread 並送出問題"
   ]
  },
  {
   "cell_type": "code",
   "execution_count": null,
   "metadata": {},
   "outputs": [],
   "source": [
    "\n",
    "# 步驟 3：建立對話 thread 並送出問題\n",
    "thread = client.beta.threads.create(\n",
    "    messages=[{\n",
    "        \"role\": \"user\",\n",
    "        \"content\": \"資料庫有哪些檔案？\"\n",
    "    }]\n",
    ")"
   ]
  },
  {
   "cell_type": "code",
   "execution_count": null,
   "metadata": {},
   "outputs": [
    {
     "name": "stdout",
     "output_type": "stream",
     "text": [
      "File batch status: completed\n",
      "File count: FileCounts(cancelled=0, completed=2, failed=0, in_progress=0, total=2)\n",
      "Assistant created. ID: asst_N3PMjKiPC3XarXmUMDg7QULn\n",
      "已上傳的檔案有兩個：\n",
      "\n",
      "1. 1130513.pdf\n",
      "2. 1130219.pdf\n",
      "\n",
      "這些檔案的內容涉及基金投資風險、經濟走勢預測、非投資等級債券的相關資訊等[0] [1]。\n",
      "[0] 1130513.pdf\n",
      "[1] 1130219.pdf\n"
     ]
    }
   ],
   "source": [
    "\n",
    "\n",
    "\n",
    "# 步驟 4：執行 Assistant 回答\n",
    "# --- 第一次提問 ---\n",
    "run = client.beta.threads.runs.create_and_poll(\n",
    "    thread_id=thread.id,\n",
    "    assistant_id=assistant.id\n",
    ")\n",
    "\n",
    "# 取得並顯示回覆\n",
    "messages = list(client.beta.threads.messages.list(thread_id=thread.id, run_id=run.id))\n",
    "\n",
    "message_content = messages[0].content[0].text\n",
    "annotations = message_content.annotations\n",
    "citations = []\n",
    "for index, annotation in enumerate(annotations):\n",
    "    message_content.value = message_content.value.replace(annotation.text, f\"[{index}]\")\n",
    "    if file_citation := getattr(annotation, \"file_citation\", None):\n",
    "        cited_file = client.files.retrieve(file_citation.file_id)\n",
    "        citations.append(f\"[{index}] {cited_file.filename}\")\n",
    "\n",
    "print(message_content.value)\n",
    "print(\"\\n\".join(citations))\n",
    "\n"
   ]
  },
  {
   "cell_type": "code",
   "execution_count": 111,
   "metadata": {},
   "outputs": [
    {
     "name": "stdout",
     "output_type": "stream",
     "text": [
      "第一份檔案「1130513.pdf」的摘要內容如下：\n",
      "\n",
      "1. **風險聲明**：文件中的資訊供內部及客戶參考，並不是任何金融商品的購入或銷售建議，而不應被視為投資建議。基金相關風險請參閱公開說明書，基金的過去績效不保證未來收益[0]。\n",
      "\n",
      "2. **投資策略**：報告包含多重資產配置的策略，如股票、債券和REITs，並強調這種配置能在市場波動時提供穩定性和潛在收益[1]。\n",
      "\n",
      "3. **全球市場分析**：分析全球主要市場的經濟狀況，包括美國、日本、歐元區的經濟走勢及預測，例如PMI指數和利率變動預測[2][3]。\n",
      "\n",
      "4. **醫療市場展望**：探討醫療市場的趨勢，指出創新技術和人口老齡化將推動醫療需求增加，並提到未來的創新醫療會更快和更準確[4]。\n",
      "\n",
      "5. **美國經濟觀察**：關注美國的就業和消費放緩，降息預期推動美股上升，聯準會的多位官員發言強調通膨持續影響利率政策[5][6]。\n",
      "\n",
      "總體而言，這份報告強調金融市場的動態及未來預測，並指出不同行業的投資機會和風險，如創新醫療和多重資產配置的優勢[0][1]。\n",
      "[0] 1130513.pdf\n",
      "[1] 1130513.pdf\n",
      "[2] 1130513.pdf\n",
      "[3] 1130513.pdf\n",
      "[4] 1130513.pdf\n",
      "[5] 1130513.pdf\n",
      "[6] 1130513.pdf\n",
      "[7] 1130513.pdf\n",
      "[8] 1130513.pdf\n"
     ]
    }
   ],
   "source": [
    "# --- 第二次提問（接續對話）---\n",
    "client.beta.threads.messages.create(\n",
    "    thread_id=thread.id,\n",
    "    role=\"user\",\n",
    "    content=\"請摘要知識庫中第一份檔案的內容\"\n",
    ")\n",
    "run = client.beta.threads.runs.create_and_poll(\n",
    "    thread_id=thread.id,\n",
    "    assistant_id=assistant.id\n",
    ")\n",
    "\n",
    "# 取得並顯示回覆\n",
    "messages = list(client.beta.threads.messages.list(thread_id=thread.id, run_id=run.id))\n",
    "\n",
    "message_content = messages[0].content[0].text\n",
    "annotations = message_content.annotations\n",
    "citations = []\n",
    "for index, annotation in enumerate(annotations):\n",
    "    message_content.value = message_content.value.replace(annotation.text, f\"[{index}]\")\n",
    "    if file_citation := getattr(annotation, \"file_citation\", None):\n",
    "        cited_file = client.files.retrieve(file_citation.file_id)\n",
    "        citations.append(f\"[{index}] {cited_file.filename}\")\n",
    "\n",
    "print(message_content.value)\n",
    "print(\"\\n\".join(citations))"
   ]
  },
  {
   "cell_type": "markdown",
   "metadata": {},
   "source": [
    "# 1. 上傳檔案"
   ]
  },
  {
   "cell_type": "code",
   "execution_count": 112,
   "metadata": {},
   "outputs": [
    {
     "name": "stdout",
     "output_type": "stream",
     "text": [
      "file_id: file-PptTDEb1GHuqcvp8PjaBcf\n"
     ]
    }
   ],
   "source": [
    "import requests\n",
    "\n",
    "api_key = openai_api_key\n",
    "file_path = \"1130219.pdf\"\n",
    "\n",
    "headers = {\n",
    "    \"Authorization\": f\"Bearer {api_key}\",\n",
    "    \"OpenAI-Beta\": \"assistants=v2\"\n",
    "}\n",
    "files = {\n",
    "    \"file\": open(file_path, \"rb\")\n",
    "}\n",
    "data = {\n",
    "    \"purpose\": \"assistants\"\n",
    "}\n",
    "response = requests.post(\n",
    "    \"https://api.openai.com/v1/files\",\n",
    "    headers=headers,\n",
    "    files=files,\n",
    "    data=data\n",
    ")\n",
    "file_id = response.json()[\"id\"]\n",
    "print(\"file_id:\", file_id)\n"
   ]
  },
  {
   "cell_type": "markdown",
   "metadata": {},
   "source": [
    "# 2. 建立 vector store 並加檔案"
   ]
  },
  {
   "cell_type": "code",
   "execution_count": 113,
   "metadata": {},
   "outputs": [
    {
     "name": "stdout",
     "output_type": "stream",
     "text": [
      "vector_store_id: vs_688378248ea08191b6ffab51148a07f7\n"
     ]
    }
   ],
   "source": [
    "import json\n",
    "\n",
    "payload = {\n",
    "    \"name\": \"My Knowledge Store\",\n",
    "    \"file_ids\": [file_id]\n",
    "}\n",
    "response = requests.post(\n",
    "    \"https://api.openai.com/v1/vector_stores\",\n",
    "    headers={**headers, \"Content-Type\": \"application/json\"},\n",
    "    data=json.dumps(payload)\n",
    ")\n",
    "vector_store_id = response.json()[\"id\"]\n",
    "print(\"vector_store_id:\", vector_store_id)\n"
   ]
  },
  {
   "cell_type": "markdown",
   "metadata": {},
   "source": [
    "# 3. 建立 Assistant 並掛上 vector store"
   ]
  },
  {
   "cell_type": "code",
   "execution_count": 114,
   "metadata": {},
   "outputs": [
    {
     "name": "stdout",
     "output_type": "stream",
     "text": [
      "assistant_id: asst_8ip3gSIBrKsFAVyeW9YMsuW4\n"
     ]
    }
   ],
   "source": [
    "payload = {\n",
    "    \"name\": \"My FileSearch Assistant\",\n",
    "    \"instructions\": \"You are a customer support chatbot. Use your knowledge base to best respond to customer queries.\",\n",
    "    \"model\": \"gpt-4o\",\n",
    "    \"tools\": [{\"type\": \"file_search\"}],\n",
    "    \"tool_resources\": {\n",
    "        \"file_search\": {\n",
    "            \"vector_store_ids\": [vector_store_id]\n",
    "        }\n",
    "    }\n",
    "}\n",
    "response = requests.post(\n",
    "    \"https://api.openai.com/v1/assistants\",\n",
    "    headers={**headers, \"Content-Type\": \"application/json\"},\n",
    "    data=json.dumps(payload)\n",
    ")\n",
    "assistant_id = response.json()[\"id\"]\n",
    "print(\"assistant_id:\", assistant_id)\n"
   ]
  },
  {
   "cell_type": "markdown",
   "metadata": {},
   "source": [
    "# 4. 建立新 thread"
   ]
  },
  {
   "cell_type": "code",
   "execution_count": 115,
   "metadata": {},
   "outputs": [
    {
     "name": "stdout",
     "output_type": "stream",
     "text": [
      "thread_id: thread_pUpbqy0KucpGW7IUDSBMSd7q\n"
     ]
    }
   ],
   "source": [
    "payload = {\n",
    "    \"messages\": [\n",
    "        {\n",
    "            \"role\": \"user\",\n",
    "            \"content\": \"請問你的知識庫有哪些檔案？\"\n",
    "        }\n",
    "    ]\n",
    "}\n",
    "response = requests.post(\n",
    "    \"https://api.openai.com/v1/threads\",\n",
    "    headers={**headers, \"Content-Type\": \"application/json\"},\n",
    "    data=json.dumps(payload)\n",
    ")\n",
    "thread_id = response.json()[\"id\"]\n",
    "print(\"thread_id:\", thread_id)\n"
   ]
  },
  {
   "cell_type": "markdown",
   "metadata": {},
   "source": [
    "# 5. 建立 run（觸發 assistant 回答）"
   ]
  },
  {
   "cell_type": "code",
   "execution_count": 116,
   "metadata": {},
   "outputs": [
    {
     "name": "stdout",
     "output_type": "stream",
     "text": [
      "run_id: run_sg2NFDu1dGWMCVcSrkH3vn3u\n"
     ]
    }
   ],
   "source": [
    "payload = {\n",
    "    \"assistant_id\": assistant_id\n",
    "}\n",
    "response = requests.post(\n",
    "    f\"https://api.openai.com/v1/threads/{thread_id}/runs\",\n",
    "    headers={**headers, \"Content-Type\": \"application/json\"},\n",
    "    data=json.dumps(payload)\n",
    ")\n",
    "run_id = response.json()[\"id\"]\n",
    "print(\"run_id:\", run_id)\n"
   ]
  },
  {
   "cell_type": "markdown",
   "metadata": {},
   "source": [
    "# 6. 輪詢 run 狀態直到完成"
   ]
  },
  {
   "cell_type": "code",
   "execution_count": 117,
   "metadata": {},
   "outputs": [
    {
     "name": "stdout",
     "output_type": "stream",
     "text": [
      "run status: in_progress\n",
      "run status: completed\n"
     ]
    }
   ],
   "source": [
    "import time\n",
    "\n",
    "while True:\n",
    "    response = requests.get(\n",
    "        f\"https://api.openai.com/v1/threads/{thread_id}/runs/{run_id}\",\n",
    "        headers=headers\n",
    "    )\n",
    "    run_status = response.json()[\"status\"]\n",
    "    print(\"run status:\", run_status)\n",
    "    if run_status in [\"completed\", \"failed\", \"cancelled\", \"expired\"]:\n",
    "        break\n",
    "    time.sleep(2)\n"
   ]
  },
  {
   "cell_type": "markdown",
   "metadata": {},
   "source": [
    "# 7. 取得 assistant 回覆"
   ]
  },
  {
   "cell_type": "code",
   "execution_count": 118,
   "metadata": {},
   "outputs": [
    {
     "name": "stdout",
     "output_type": "stream",
     "text": [
      "Assistant: 目前的知識庫裡包含了一個名為 \"1130219.pdf\" 的檔案。此檔案主要涵蓋了投資研究週報的內容，包括市場回顧、聚焦議題、資產觀點，以及涉及到的金融市場數據和分析【4:4†1130219.pdf】。如果您有其他問題或需要了解更多細節，隨時告訴我！\n"
     ]
    }
   ],
   "source": [
    "response = requests.get(\n",
    "    f\"https://api.openai.com/v1/threads/{thread_id}/messages\",\n",
    "    headers=headers\n",
    ")\n",
    "messages = response.json()[\"data\"]\n",
    "for msg in messages:\n",
    "    if msg[\"role\"] == \"assistant\":\n",
    "        print(\"Assistant:\", msg[\"content\"][0][\"text\"][\"value\"])\n"
   ]
  },
  {
   "cell_type": "markdown",
   "metadata": {},
   "source": [
    "# 8. 多輪對話（接續提問）"
   ]
  },
  {
   "cell_type": "code",
   "execution_count": 121,
   "metadata": {},
   "outputs": [
    {
     "name": "stdout",
     "output_type": "stream",
     "text": [
      "run_id: run_rowUXkHNFKXOuueXNVIxGWem\n",
      "run status: queued\n",
      "run status: in_progress\n",
      "run status: in_progress\n",
      "run status: in_progress\n",
      "run status: in_progress\n",
      "run status: in_progress\n",
      "run status: in_progress\n",
      "run status: in_progress\n",
      "run status: in_progress\n",
      "run status: in_progress\n",
      "run status: in_progress\n",
      "run status: in_progress\n",
      "run status: in_progress\n",
      "run status: completed\n",
      "Assistant: 這份檔案主要是兆豐銀行的投資研究週報。內容包含：\n",
      "\n",
      "1. **市場回顧與焦點**：\n",
      "   - 2024年1月份，投資級債獲得大量資金流入，總額達到約300億美金，是過去五年同期平均值的2.3倍。這顯示出投資者的信心，尤其在聯準會可能降息的背景下【8:2†1130219.pdf】。\n",
      "   - 美國非投資級債的違約率下降至2023年7月以來的新低，並預期未來會隨著企業資金壓力緩解而進一步下降【8:6†1130219.pdf】。\n",
      "\n",
      "2. **資產觀點**：\n",
      "   - 美國聯準會預計的降息可能利好市場，尤其是優質債券【8:10†1130219.pdf】。\n",
      "   - ESG（環境、社會與治理）不再僅是一種口號，能夠實踐ESG的股票具備長期的趨勢優勢【8:4†1130219.pdf】。\n",
      "\n",
      "3. **全球市場**：\n",
      "   - 在美國，儘管聯準會利率預期調整，美股短期內震盪，但基本面強勁且具備AI題材支撐，長期展望樂觀【8:15†1130219.pdf】。\n",
      "   - 台股方面，台積電的表現大幅推動股市，在全球AI供應鏈的加持下，台灣的半導體公司也預期有良好的市場前景【8:14†1130219.pdf】。\n",
      "\n",
      "該週報強調了各種市場因素和資產類別所面臨的挑戰與機會，從而為投資者的資產配置和策略提供了參考意見。需要注意的是，這些資料僅供參考，並不構成任何投資建議【8:0†1130219.pdf】。\n",
      "Assistant: 目前的知識庫裡包含了一個名為 \"1130219.pdf\" 的檔案。此檔案主要涵蓋了投資研究週報的內容，包括市場回顧、聚焦議題、資產觀點，以及涉及到的金融市場數據和分析【4:4†1130219.pdf】。如果您有其他問題或需要了解更多細節，隨時告訴我！\n"
     ]
    }
   ],
   "source": [
    "payload = {\n",
    "    \"role\": \"user\",\n",
    "    \"content\": \"請摘要知識庫中第一份檔案的內容\"\n",
    "}\n",
    "response = requests.post(\n",
    "    f\"https://api.openai.com/v1/threads/{thread_id}/messages\",\n",
    "    headers={**headers, \"Content-Type\": \"application/json\"},\n",
    "    data=json.dumps(payload)\n",
    ")\n",
    "# 之後重複步驟5~7\n",
    "# 建立run\n",
    "payload = {\n",
    "    \"assistant_id\": assistant_id\n",
    "}\n",
    "response = requests.post(\n",
    "    f\"https://api.openai.com/v1/threads/{thread_id}/runs\",\n",
    "    headers={**headers, \"Content-Type\": \"application/json\"},\n",
    "    data=json.dumps(payload)\n",
    ")\n",
    "run_id = response.json()[\"id\"]\n",
    "print(\"run_id:\", run_id)\n",
    "\n",
    "# 輪詢\n",
    "while True:\n",
    "    response = requests.get(\n",
    "        f\"https://api.openai.com/v1/threads/{thread_id}/runs/{run_id}\",\n",
    "        headers=headers\n",
    "    )\n",
    "    run_status = response.json()[\"status\"]\n",
    "    print(\"run status:\", run_status)\n",
    "    if run_status in [\"completed\", \"failed\", \"cancelled\", \"expired\"]:\n",
    "        break\n",
    "    time.sleep(2)\n",
    "\n",
    "# 取得 assistant 回覆\n",
    "response = requests.get(\n",
    "    f\"https://api.openai.com/v1/threads/{thread_id}/messages\",\n",
    "    headers=headers\n",
    ")\n",
    "messages = response.json()[\"data\"]\n",
    "for msg in messages:\n",
    "    if msg[\"role\"] == \"assistant\":\n",
    "        print(\"Assistant:\", msg[\"content\"][0][\"text\"][\"value\"])\n"
   ]
  },
  {
   "cell_type": "code",
   "execution_count": null,
   "metadata": {
    "id": "w9WLs8JInAXo"
   },
   "outputs": [],
   "source": []
  }
 ],
 "metadata": {
  "colab": {
   "authorship_tag": "ABX9TyOgfrHixHBUxr6OvWCbdhSE",
   "provenance": []
  },
  "kernelspec": {
   "display_name": "Python 3",
   "name": "python3"
  },
  "language_info": {
   "codemirror_mode": {
    "name": "ipython",
    "version": 3
   },
   "file_extension": ".py",
   "mimetype": "text/x-python",
   "name": "python",
   "nbconvert_exporter": "python",
   "pygments_lexer": "ipython3",
   "version": "3.10.17"
  }
 },
 "nbformat": 4,
 "nbformat_minor": 0
}
