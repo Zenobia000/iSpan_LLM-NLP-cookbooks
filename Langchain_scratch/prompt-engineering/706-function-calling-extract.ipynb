{
 "cells": [
  {
   "cell_type": "markdown",
   "metadata": {
    "id": "Bzhq29sorhBf"
   },
   "source": [
    "這份 Notebook 示範 OpenAI Function Calling 的 Extract metadata 用法\n"
   ]
  },
  {
   "cell_type": "code",
   "execution_count": 2,
   "metadata": {
    "executionInfo": {
     "elapsed": 947,
     "status": "ok",
     "timestamp": 1709538075462,
     "user": {
      "displayName": "張文鈿（ihower）",
      "userId": "16942569988483049654"
     },
     "user_tz": -480
    },
    "id": "1L63izpsSw2W"
   },
   "outputs": [],
   "source": [
    "# from google.colab import userdata\n",
    "# openai_api_key = userdata.get('openai_api_key')"
   ]
  },
  {
   "cell_type": "code",
   "execution_count": 3,
   "metadata": {},
   "outputs": [],
   "source": [
    "## 設定 OpenAI API Key 變數\n",
    "from dotenv import load_dotenv\n",
    "import os\n",
    "\n",
    "# Load the environment variables from .env file\n",
    "load_dotenv()\n",
    "\n",
    "# Access the API key\n",
    "openai_api_key = os.getenv('OPENAI_API_KEY')"
   ]
  },
  {
   "cell_type": "code",
   "execution_count": 4,
   "metadata": {
    "executionInfo": {
     "elapsed": 414,
     "status": "ok",
     "timestamp": 1709538075875,
     "user": {
      "displayName": "張文鈿（ihower）",
      "userId": "16942569988483049654"
     },
     "user_tz": -480
    },
    "id": "zJ4ODL_Pr-2s"
   },
   "outputs": [],
   "source": [
    "import requests\n",
    "import json\n",
    "from pprint import pp"
   ]
  },
  {
   "cell_type": "code",
   "execution_count": 6,
   "metadata": {
    "executionInfo": {
     "elapsed": 2,
     "status": "ok",
     "timestamp": 1709538075875,
     "user": {
      "displayName": "張文鈿（ihower）",
      "userId": "16942569988483049654"
     },
     "user_tz": -480
    },
    "id": "Sjb2kdSasC6b"
   },
   "outputs": [],
   "source": [
    "def get_completion(messages, model=\"gpt-3.5-turbo\", temperature=0, max_tokens=1000, tools=None, tool_choice=None):\n",
    "  payload = { \"model\": model, \"temperature\": temperature, \"messages\": messages, \"max_tokens\": max_tokens }\n",
    "  if tools:\n",
    "    payload[\"tools\"] = tools\n",
    "  if tool_choice:\n",
    "    payload[\"tool_choice\"] = tool_choice\n",
    "\n",
    "  headers = { \"Authorization\": f'Bearer {openai_api_key}', \"Content-Type\": \"application/json\" }\n",
    "  response = requests.post('https://api.openai.com/v1/chat/completions', headers = headers, data = json.dumps(payload) )\n",
    "  obj = json.loads(response.text)\n",
    "\n",
    "  if response.status_code == 200 :\n",
    "    return obj[\"choices\"][0][\"message\"] # 改成回傳上一層 message 物件\n",
    "  else :\n",
    "    return obj[\"error\"]"
   ]
  },
  {
   "cell_type": "markdown",
   "metadata": {
    "id": "waEgGDevvmQk"
   },
   "source": [
    "## Fake function 用法: 擷取 metadata\n",
    "\n",
    "透過一個 fake function，目的是拿結構化的 function 參數"
   ]
  },
  {
   "cell_type": "code",
   "execution_count": 7,
   "metadata": {
    "executionInfo": {
     "elapsed": 284,
     "status": "ok",
     "timestamp": 1709538079876,
     "user": {
      "displayName": "張文鈿（ihower）",
      "userId": "16942569988483049654"
     },
     "user_tz": -480
    },
    "id": "UmNMzg7Em9XQ"
   },
   "outputs": [],
   "source": [
    "content = \"\"\"大家下午好，歡迎參加台積電2023年第四季財報發表會及電話會議。很高興再次見到大家。我是台積電投資者關係總監 Jeff Su，也是今天的主持人。今天的活動透過台積電網站 www.tsmc.com 進行網路直播，您也可以在其中下載財報發布資料。\n",
    "今天活動的形式如下：首先，台積電副總裁兼財務長黃文德爾先生將總結我們2023年第四季和2023年全年的營運情況，然後是我們對2024年第一季的指導。黃，台積電首席執行官，魏長城博士；台積電董事長劉馬克博士將共同發表公司的關鍵資訊。然後台積電董事長劉馬克博士將主持問答環節，我們的三位高階主管將回答您的問題。\"\"\"\n"
   ]
  },
  {
   "cell_type": "code",
   "execution_count": 8,
   "metadata": {
    "colab": {
     "base_uri": "https://localhost:8080/"
    },
    "executionInfo": {
     "elapsed": 1090,
     "status": "ok",
     "timestamp": 1709538081605,
     "user": {
      "displayName": "張文鈿（ihower）",
      "userId": "16942569988483049654"
     },
     "user_tz": -480
    },
    "id": "3RFZdn2mvn2F",
    "outputId": "ef4d4e73-7624-49ad-f3d9-3b7b306f7220"
   },
   "outputs": [
    {
     "name": "stdout",
     "output_type": "stream",
     "text": [
      "{'role': 'assistant',\n",
      " 'content': None,\n",
      " 'tool_calls': [{'id': 'call_JHA8qxGArUCxw9dIDSaQxFe7',\n",
      "                 'type': 'function',\n",
      "                 'function': {'name': 'information_extraction',\n",
      "                              'arguments': '{\"company_name\":\"台積電\",\"season\":\"2023年第四季\",\"speakers\":\"Jeff '\n",
      "                                           'Su\"}'}}],\n",
      " 'refusal': None,\n",
      " 'annotations': []}\n"
     ]
    }
   ],
   "source": [
    "messages = [\n",
    "  {\"role\": \"system\", \"content\": \"You're a metadata extractor.\" },\n",
    "  {\"role\": \"user\", \"content\": content }\n",
    "]\n",
    "\n",
    "tools = [\n",
    "    {\n",
    "        \"type\": \"function\",\n",
    "        \"function\": {\n",
    "            \"name\": \"information_extraction\",\n",
    "            \"description\": \"Extracts the relevant information from the passage.\",\n",
    "            \"parameters\": {\n",
    "                \"type\": \"object\",\n",
    "                \"properties\": {\n",
    "                    \"company_name\": {\n",
    "                        \"type\": \"string\",\n",
    "                        \"description\": \"公司名稱\",\n",
    "                    },\n",
    "                    \"season\": {\n",
    "                        \"type\": \"string\",\n",
    "                        \"description\": \"報告季度\"\n",
    "                    },\n",
    "                    \"speakers\": {\n",
    "                        \"type\": \"string\",\n",
    "                        \"description\": \"報告人\"\n",
    "                    },\n",
    "                }\n",
    "            },\n",
    "        },\n",
    "    }\n",
    "]\n",
    "\n",
    "# 這個 tool_choice 參數可以要求 GPT 一定要執行某個函數，預設是 auto 讓 GPT 自行判斷\n",
    "tool_choice =  {\"type\": \"function\", \"function\": {\"name\": \"information_extraction\"}}\n",
    "\n",
    "response = get_completion(messages, tools=tools, tool_choice=tool_choice)\n",
    "pp(response)"
   ]
  },
  {
   "cell_type": "code",
   "execution_count": null,
   "metadata": {
    "colab": {
     "base_uri": "https://localhost:8080/"
    },
    "executionInfo": {
     "elapsed": 2,
     "status": "ok",
     "timestamp": 1709538081605,
     "user": {
      "displayName": "張文鈿（ihower）",
      "userId": "16942569988483049654"
     },
     "user_tz": -480
    },
    "id": "Qs9YyvqQwnkp",
    "outputId": "30cf7d35-e6b0-4e62-b625-9685d1f16132"
   },
   "outputs": [
    {
     "name": "stdout",
     "output_type": "stream",
     "text": [
      "{'company_name': '台積電', 'season': '2023年第四季', 'speakers': 'Jeff Su'}\n"
     ]
    }
   ],
   "source": [
    "metadata = json.loads(response[\"tool_calls\"][0][\"function\"][\"arguments\"])\n",
    "pp(metadata)\n",
    "\n"
   ]
  },
  {
   "cell_type": "markdown",
   "metadata": {
    "id": "dyn5mjMy2Fah"
   },
   "source": [
    "如果是簡單的 JSON 輸出，不用 function calling 只透過 JSON mode (也許搭配一個 few-shot 範例)，就可以做得很好(可能也比較省 tokens 數)。\n",
    "\n",
    "不過如果要更嚴格拿到符合 schema 的 JSON 格式，透過 function calling 可以做得更好。\n",
    "而且，function calling 支援的是 JSON schema 格式: https://json-schema.org/\n",
    "JSON schema 比你想像中的更厲害..."
   ]
  },
  {
   "cell_type": "markdown",
   "metadata": {
    "id": "u2M63iOXkYpp"
   },
   "source": [
    "## 示範使用 Pydantic 來產生 JSON schema\n",
    "\n",
    "https://docs.pydantic.dev/latest/\n",
    "\n",
    "Pydantic is the most widely used data validation library for Python.\n",
    "\n",
    "方便我們將 dict 和 json 做對應轉換\n"
   ]
  },
  {
   "cell_type": "code",
   "execution_count": 10,
   "metadata": {
    "executionInfo": {
     "elapsed": 301,
     "status": "ok",
     "timestamp": 1709538086296,
     "user": {
      "displayName": "張文鈿（ihower）",
      "userId": "16942569988483049654"
     },
     "user_tz": -480
    },
    "id": "E1Naioba6IWR"
   },
   "outputs": [],
   "source": [
    "from pydantic import BaseModel, Field\n",
    "from datetime import date"
   ]
  },
  {
   "cell_type": "code",
   "execution_count": 11,
   "metadata": {
    "executionInfo": {
     "elapsed": 1,
     "status": "ok",
     "timestamp": 1709538086626,
     "user": {
      "displayName": "張文鈿（ihower）",
      "userId": "16942569988483049654"
     },
     "user_tz": -480
    },
    "id": "-Ch7xqxBjbHa"
   },
   "outputs": [],
   "source": [
    "class Report(BaseModel):\n",
    "  company_name: str = Field(description=\"公司名稱\")\n",
    "  season: str = Field(description=\"報告季度\")\n",
    "  speakers: str = Field(description=\"報告人\")"
   ]
  },
  {
   "cell_type": "code",
   "execution_count": 13,
   "metadata": {
    "colab": {
     "base_uri": "https://localhost:8080/"
    },
    "executionInfo": {
     "elapsed": 2,
     "status": "ok",
     "timestamp": 1709538086940,
     "user": {
      "displayName": "張文鈿（ihower）",
      "userId": "16942569988483049654"
     },
     "user_tz": -480
    },
    "id": "X2ghA-lcj8dc",
    "outputId": "f3da1a61-4218-41b7-f27f-b840e19f6021"
   },
   "outputs": [
    {
     "data": {
      "text/plain": [
       "{'properties': {'company_name': {'description': '公司名稱',\n",
       "   'title': 'Company Name',\n",
       "   'type': 'string'},\n",
       "  'season': {'description': '報告季度', 'title': 'Season', 'type': 'string'},\n",
       "  'speakers': {'description': '報告人', 'title': 'Speakers', 'type': 'string'}},\n",
       " 'required': ['company_name', 'season', 'speakers'],\n",
       " 'title': 'Report',\n",
       " 'type': 'object'}"
      ]
     },
     "execution_count": 13,
     "metadata": {},
     "output_type": "execute_result"
    }
   ],
   "source": [
    "Report.model_json_schema()"
   ]
  },
  {
   "cell_type": "code",
   "execution_count": 14,
   "metadata": {
    "colab": {
     "base_uri": "https://localhost:8080/"
    },
    "executionInfo": {
     "elapsed": 1918,
     "status": "ok",
     "timestamp": 1709538089536,
     "user": {
      "displayName": "張文鈿（ihower）",
      "userId": "16942569988483049654"
     },
     "user_tz": -480
    },
    "id": "gQlAU6p_jrQD",
    "outputId": "9251dc75-8dec-4c30-a193-8a8d5383985e"
   },
   "outputs": [
    {
     "name": "stdout",
     "output_type": "stream",
     "text": [
      "{'role': 'assistant',\n",
      " 'content': None,\n",
      " 'tool_calls': [{'id': 'call_0MSzKzqAKf19ZACvVLWt6hNU',\n",
      "                 'type': 'function',\n",
      "                 'function': {'name': 'information_extraction',\n",
      "                              'arguments': '{\"company_name\":\"台積電\",\"season\":\"2023年第四季\",\"speakers\":\"Jeff '\n",
      "                                           'Su, 黃文德爾, 魏長城博士, 劉馬克博士\"}'}}],\n",
      " 'refusal': None,\n",
      " 'annotations': []}\n"
     ]
    }
   ],
   "source": [
    "tools = [\n",
    "    {\n",
    "        \"type\": \"function\",\n",
    "        \"function\": {\n",
    "            \"name\": \"information_extraction\",\n",
    "            \"description\": \"Extracts the relevant information from the passage.\",\n",
    "            \"parameters\": Report.model_json_schema()\n",
    "        },\n",
    "    }\n",
    "]\n",
    "\n",
    "# 這個 tool_choice 參數可以要求 GPT 一定要執行某個函數，預設是 auto 讓 GPT 自行判斷\n",
    "tool_choice =  {\"type\": \"function\", \"function\": {\"name\": \"information_extraction\"}}\n",
    "\n",
    "response = get_completion(messages, tools=tools, tool_choice=tool_choice)\n",
    "pp(response)"
   ]
  },
  {
   "cell_type": "code",
   "execution_count": 16,
   "metadata": {
    "colab": {
     "base_uri": "https://localhost:8080/",
     "height": 35
    },
    "executionInfo": {
     "elapsed": 3,
     "status": "ok",
     "timestamp": 1709538089536,
     "user": {
      "displayName": "張文鈿（ihower）",
      "userId": "16942569988483049654"
     },
     "user_tz": -480
    },
    "id": "bXhGWF32lDa3",
    "outputId": "96af9a04-e663-4187-dbe5-d17f9e0222f4"
   },
   "outputs": [
    {
     "data": {
      "text/plain": [
       "'{\"company_name\":\"台積電\",\"season\":\"2023年第四季\",\"speakers\":\"Jeff Su, 黃文德爾, 魏長城博士, 劉馬克博士\"}'"
      ]
     },
     "execution_count": 16,
     "metadata": {},
     "output_type": "execute_result"
    }
   ],
   "source": [
    "response[\"tool_calls\"][0][\"function\"][\"arguments\"]"
   ]
  },
  {
   "cell_type": "code",
   "execution_count": 18,
   "metadata": {
    "executionInfo": {
     "elapsed": 2,
     "status": "ok",
     "timestamp": 1709538089536,
     "user": {
      "displayName": "張文鈿（ihower）",
      "userId": "16942569988483049654"
     },
     "user_tz": -480
    },
    "id": "KCyKjKTLksql"
   },
   "outputs": [],
   "source": [
    "report_obj = Report.model_validate_json(response[\"tool_calls\"][0][\"function\"][\"arguments\"])"
   ]
  },
  {
   "cell_type": "code",
   "execution_count": 22,
   "metadata": {
    "colab": {
     "base_uri": "https://localhost:8080/"
    },
    "executionInfo": {
     "elapsed": 272,
     "status": "ok",
     "timestamp": 1709538090260,
     "user": {
      "displayName": "張文鈿（ihower）",
      "userId": "16942569988483049654"
     },
     "user_tz": -480
    },
    "id": "datQ7PwRks9I",
    "outputId": "20b802b9-f295-4539-aaba-1539072aaac7"
   },
   "outputs": [
    {
     "data": {
      "text/plain": [
       "Report(company_name='台積電', season='2023年第四季', speakers='Jeff Su, 黃文德爾, 魏長城博士, 劉馬克博士')"
      ]
     },
     "execution_count": 22,
     "metadata": {},
     "output_type": "execute_result"
    }
   ],
   "source": [
    "report_obj\n"
   ]
  },
  {
   "cell_type": "markdown",
   "metadata": {
    "id": "btqLkY4poRxU"
   },
   "source": [
    "## 威力加強版\n",
    "\n",
    "上述只是簡單的 dict，如果是比較複雜的 json 結構呢?"
   ]
  },
  {
   "cell_type": "code",
   "execution_count": 23,
   "metadata": {
    "executionInfo": {
     "elapsed": 2,
     "status": "ok",
     "timestamp": 1709538091959,
     "user": {
      "displayName": "張文鈿（ihower）",
      "userId": "16942569988483049654"
     },
     "user_tz": -480
    },
    "id": "AjR-ozwPmuBz"
   },
   "outputs": [],
   "source": [
    "from typing import List\n",
    "\n",
    "class Speaker(BaseModel):\n",
    "  name: str\n",
    "\n",
    "class ReportV2(BaseModel):\n",
    "  company_name: str = Field(description=\"公司名稱\")\n",
    "  season: str = Field(description=\"報告季度\")\n",
    "  speakers: List[Speaker] = Field(description=\"報告人\")"
   ]
  },
  {
   "cell_type": "code",
   "execution_count": 24,
   "metadata": {
    "colab": {
     "base_uri": "https://localhost:8080/"
    },
    "executionInfo": {
     "elapsed": 2,
     "status": "ok",
     "timestamp": 1709538092643,
     "user": {
      "displayName": "張文鈿（ihower）",
      "userId": "16942569988483049654"
     },
     "user_tz": -480
    },
    "id": "59-09scHofS4",
    "outputId": "b9800173-8fd6-49ea-9f49-5561102dba03"
   },
   "outputs": [
    {
     "data": {
      "text/plain": [
       "{'$defs': {'Speaker': {'properties': {'name': {'title': 'Name',\n",
       "     'type': 'string'}},\n",
       "   'required': ['name'],\n",
       "   'title': 'Speaker',\n",
       "   'type': 'object'}},\n",
       " 'properties': {'company_name': {'description': '公司名稱',\n",
       "   'title': 'Company Name',\n",
       "   'type': 'string'},\n",
       "  'season': {'description': '報告季度', 'title': 'Season', 'type': 'string'},\n",
       "  'speakers': {'description': '報告人',\n",
       "   'items': {'$ref': '#/$defs/Speaker'},\n",
       "   'title': 'Speakers',\n",
       "   'type': 'array'}},\n",
       " 'required': ['company_name', 'season', 'speakers'],\n",
       " 'title': 'ReportV2',\n",
       " 'type': 'object'}"
      ]
     },
     "execution_count": 24,
     "metadata": {},
     "output_type": "execute_result"
    }
   ],
   "source": [
    "ReportV2.model_json_schema()"
   ]
  },
  {
   "cell_type": "code",
   "execution_count": 27,
   "metadata": {
    "colab": {
     "base_uri": "https://localhost:8080/"
    },
    "executionInfo": {
     "elapsed": 1701,
     "status": "ok",
     "timestamp": 1709538095718,
     "user": {
      "displayName": "張文鈿（ihower）",
      "userId": "16942569988483049654"
     },
     "user_tz": -480
    },
    "id": "YI0Y8LZfoOQ2",
    "outputId": "c8580e39-ef66-4128-b336-fae73fa0555a"
   },
   "outputs": [
    {
     "name": "stdout",
     "output_type": "stream",
     "text": [
      "{'role': 'assistant',\n",
      " 'content': None,\n",
      " 'tool_calls': [{'id': 'call_B4b37mgORIErntLhHi4mtzoW',\n",
      "                 'type': 'function',\n",
      "                 'function': {'name': 'information_extraction',\n",
      "                              'arguments': '{\"company_name\":\"台積電\",\"season\":\"2023年第四季\",\"speakers\":[{\"name\":\"Jeff '\n",
      "                                           'Su\"},{\"name\":\"黃文德爾\"},{\"name\":\"魏長城博士\"},{\"name\":\"劉馬克博士\"}]}'}}],\n",
      " 'refusal': None,\n",
      " 'annotations': []}\n"
     ]
    }
   ],
   "source": [
    "tools = [\n",
    "    {\n",
    "        \"type\": \"function\",\n",
    "        \"function\": {\n",
    "            \"name\": \"information_extraction\",\n",
    "            \"description\": \"Extracts the relevant information from the passage.\",\n",
    "            \"parameters\": ReportV2.model_json_schema()\n",
    "        },\n",
    "    }\n",
    "]\n",
    "\n",
    "tool_choice =  {\"type\": \"function\", \"function\": {\"name\": \"information_extraction\"}}\n",
    "\n",
    "response = get_completion(messages, tools=tools, tool_choice=tool_choice)\n",
    "pp(response)\n",
    "\n"
   ]
  },
  {
   "cell_type": "code",
   "execution_count": 28,
   "metadata": {
    "executionInfo": {
     "elapsed": 4,
     "status": "ok",
     "timestamp": 1709538096343,
     "user": {
      "displayName": "張文鈿（ihower）",
      "userId": "16942569988483049654"
     },
     "user_tz": -480
    },
    "id": "_Xum94ZdoT7c"
   },
   "outputs": [],
   "source": [
    "report_obj = ReportV2.model_validate_json(response[\"tool_calls\"][0][\"function\"][\"arguments\"])"
   ]
  },
  {
   "cell_type": "code",
   "execution_count": 29,
   "metadata": {
    "colab": {
     "base_uri": "https://localhost:8080/"
    },
    "executionInfo": {
     "elapsed": 3,
     "status": "ok",
     "timestamp": 1709538096343,
     "user": {
      "displayName": "張文鈿（ihower）",
      "userId": "16942569988483049654"
     },
     "user_tz": -480
    },
    "id": "HilZEdCMokGP",
    "outputId": "44c92d99-111d-4872-c6f1-f1f7de19f5f0"
   },
   "outputs": [
    {
     "data": {
      "text/plain": [
       "ReportV2(company_name='台積電', season='2023年第四季', speakers=[Speaker(name='Jeff Su'), Speaker(name='黃文德爾'), Speaker(name='魏長城博士'), Speaker(name='劉馬克博士')])"
      ]
     },
     "execution_count": 29,
     "metadata": {},
     "output_type": "execute_result"
    }
   ],
   "source": [
    "report_obj"
   ]
  },
  {
   "cell_type": "markdown",
   "metadata": {
    "id": "F1rxSyFUX_-r"
   },
   "source": [
    "## Classification 也可以用 Function Calling 做\n",
    "\n",
    "json schema 支援 enum typ\n",
    "\n",
    "而且也很方便加上 CoT\n",
    "\n",
    "回傳是結構化的所以很好拆開"
   ]
  },
  {
   "cell_type": "code",
   "execution_count": 30,
   "metadata": {
    "executionInfo": {
     "elapsed": 1148,
     "status": "ok",
     "timestamp": 1709538720342,
     "user": {
      "displayName": "張文鈿（ihower）",
      "userId": "16942569988483049654"
     },
     "user_tz": -480
    },
    "id": "HuRbjpCWpvt9"
   },
   "outputs": [],
   "source": [
    "# 這是練習用的 dataset，有 title, description 以及標註的正確分類 category\n",
    "url = \"https://ihower.tw/data/books-dataset-200.csv\"\n",
    "response = requests.get(url)"
   ]
  },
  {
   "cell_type": "code",
   "execution_count": 32,
   "metadata": {
    "colab": {
     "base_uri": "https://localhost:8080/",
     "height": 493
    },
    "executionInfo": {
     "elapsed": 598,
     "status": "ok",
     "timestamp": 1709538720939,
     "user": {
      "displayName": "張文鈿（ihower）",
      "userId": "16942569988483049654"
     },
     "user_tz": -480
    },
    "id": "Ds4Ys842YJ9k",
    "outputId": "fe99ca44-677f-4383-af9a-5c5a014755a5"
   },
   "outputs": [
    {
     "data": {
      "text/html": [
       "<div>\n",
       "<style scoped>\n",
       "    .dataframe tbody tr th:only-of-type {\n",
       "        vertical-align: middle;\n",
       "    }\n",
       "\n",
       "    .dataframe tbody tr th {\n",
       "        vertical-align: top;\n",
       "    }\n",
       "\n",
       "    .dataframe thead th {\n",
       "        text-align: right;\n",
       "    }\n",
       "</style>\n",
       "<table border=\"1\" class=\"dataframe\">\n",
       "  <thead>\n",
       "    <tr style=\"text-align: right;\">\n",
       "      <th></th>\n",
       "      <th>title</th>\n",
       "      <th>description</th>\n",
       "      <th>category</th>\n",
       "      <th>tags</th>\n",
       "    </tr>\n",
       "  </thead>\n",
       "  <tbody>\n",
       "    <tr>\n",
       "      <th>0</th>\n",
       "      <td>統計學：重點觀念與題解 (下)  3/e (適用: 大學用書．高普考．商管所)</td>\n",
       "      <td>1. 本書涵蓋範圍既深且廣，難度可輕鬆應付頂尖大學各系所。\\r\\n2. 本書有各種經濟學與財...</td>\n",
       "      <td>機率統計學 Probability-and-statistics</td>\n",
       "      <td>統計學</td>\n",
       "    </tr>\n",
       "    <tr>\n",
       "      <th>1</th>\n",
       "      <td>新時代 乙級數位電子術科含學科題庫實作寶典 - 使用 KiCad/Quartus II / ...</td>\n",
       "      <td>1.依勞動部最新公告試題編而成，專爲有意參加「數位電子乙級技術士技能檢定」之人士編寫，並適合...</td>\n",
       "      <td>技能檢定乙級 Skilltest-b</td>\n",
       "      <td>技能檢定乙級,考試認證</td>\n",
       "    </tr>\n",
       "    <tr>\n",
       "      <th>2</th>\n",
       "      <td>樂高 SPIKE 機器人創意專題實作 -- 使用 LEGO Education SPIKE ...</td>\n",
       "      <td>1.透過「螺旋式教學」提供一套具有邏輯先後順序教材，由具體到抽象，由簡單到複雜的創客教材。\\...</td>\n",
       "      <td>機器人製作 Robots</td>\n",
       "      <td>樂高,機器人</td>\n",
       "    </tr>\n",
       "    <tr>\n",
       "      <th>3</th>\n",
       "      <td>AI 生成時代：從 ChatGPT 到繪圖、音樂、影片，利用智能創作自我加值、簡化工作，成為...</td>\n",
       "      <td>未來2～5年將是AI 生成的時代\\r\\n史上用戶最快破億、開啟產業新動能的技術，你跟上了嗎？...</td>\n",
       "      <td>人工智慧</td>\n",
       "      <td>ChatGPT</td>\n",
       "    </tr>\n",
       "    <tr>\n",
       "      <th>4</th>\n",
       "      <td>都問 AI 吧！ChatGPT 上手的第一本書</td>\n",
       "      <td>\"寫文案、腳本，編教材，做專案，作業輔助\\r\\n\\r\\n都可以問AI，但是——\\r\\n\\r\\...</td>\n",
       "      <td>ChatGPT</td>\n",
       "      <td>ChatGPT</td>\n",
       "    </tr>\n",
       "    <tr>\n",
       "      <th>...</th>\n",
       "      <td>...</td>\n",
       "      <td>...</td>\n",
       "      <td>...</td>\n",
       "      <td>...</td>\n",
       "    </tr>\n",
       "    <tr>\n",
       "      <th>194</th>\n",
       "      <td>Autodesk Civil 3D 2024 from Start to Finish: A...</td>\n",
       "      <td>Master Autodesk Civil 3D 2023 to develop real ...</td>\n",
       "      <td>AutoCAD</td>\n",
       "      <td>AutoDESK</td>\n",
       "    </tr>\n",
       "    <tr>\n",
       "      <th>195</th>\n",
       "      <td>Network Programming and Automation Essentials:...</td>\n",
       "      <td>Unleash the power of automation by mastering n...</td>\n",
       "      <td>Go 程式語言</td>\n",
       "      <td>Go,Python</td>\n",
       "    </tr>\n",
       "    <tr>\n",
       "      <th>196</th>\n",
       "      <td>Internet of Things for Smart Buildings: Levera...</td>\n",
       "      <td>Harness the full potential of IoT in your buil...</td>\n",
       "      <td>物聯網 IoT</td>\n",
       "      <td>物聯網IoT</td>\n",
       "    </tr>\n",
       "    <tr>\n",
       "      <th>197</th>\n",
       "      <td>AI and Business Rule Engines for Excel Power U...</td>\n",
       "      <td>A power-packed manual to enhance your decision...</td>\n",
       "      <td>Excel</td>\n",
       "      <td>Excel,人工智慧</td>\n",
       "    </tr>\n",
       "    <tr>\n",
       "      <th>198</th>\n",
       "      <td>IoT and OT Security Handbook: Assess risks  ma...</td>\n",
       "      <td>Leverage Defender for IoT for understanding co...</td>\n",
       "      <td>物聯網 IoT</td>\n",
       "      <td>物聯網IoT,資訊安全</td>\n",
       "    </tr>\n",
       "  </tbody>\n",
       "</table>\n",
       "<p>199 rows × 4 columns</p>\n",
       "</div>"
      ],
      "text/plain": [
       "                                                 title  \\\n",
       "0              統計學：重點觀念與題解 (下)  3/e (適用: 大學用書．高普考．商管所)   \n",
       "1    新時代 乙級數位電子術科含學科題庫實作寶典 - 使用 KiCad/Quartus II / ...   \n",
       "2    樂高 SPIKE 機器人創意專題實作 -- 使用 LEGO Education SPIKE ...   \n",
       "3    AI 生成時代：從 ChatGPT 到繪圖、音樂、影片，利用智能創作自我加值、簡化工作，成為...   \n",
       "4                              都問 AI 吧！ChatGPT 上手的第一本書   \n",
       "..                                                 ...   \n",
       "194  Autodesk Civil 3D 2024 from Start to Finish: A...   \n",
       "195  Network Programming and Automation Essentials:...   \n",
       "196  Internet of Things for Smart Buildings: Levera...   \n",
       "197  AI and Business Rule Engines for Excel Power U...   \n",
       "198  IoT and OT Security Handbook: Assess risks  ma...   \n",
       "\n",
       "                                           description  \\\n",
       "0    1. 本書涵蓋範圍既深且廣，難度可輕鬆應付頂尖大學各系所。\\r\\n2. 本書有各種經濟學與財...   \n",
       "1    1.依勞動部最新公告試題編而成，專爲有意參加「數位電子乙級技術士技能檢定」之人士編寫，並適合...   \n",
       "2    1.透過「螺旋式教學」提供一套具有邏輯先後順序教材，由具體到抽象，由簡單到複雜的創客教材。\\...   \n",
       "3    未來2～5年將是AI 生成的時代\\r\\n史上用戶最快破億、開啟產業新動能的技術，你跟上了嗎？...   \n",
       "4    \"寫文案、腳本，編教材，做專案，作業輔助\\r\\n\\r\\n都可以問AI，但是——\\r\\n\\r\\...   \n",
       "..                                                 ...   \n",
       "194  Master Autodesk Civil 3D 2023 to develop real ...   \n",
       "195  Unleash the power of automation by mastering n...   \n",
       "196  Harness the full potential of IoT in your buil...   \n",
       "197  A power-packed manual to enhance your decision...   \n",
       "198  Leverage Defender for IoT for understanding co...   \n",
       "\n",
       "                             category         tags  \n",
       "0    機率統計學 Probability-and-statistics          統計學  \n",
       "1                  技能檢定乙級 Skilltest-b  技能檢定乙級,考試認證  \n",
       "2                        機器人製作 Robots       樂高,機器人  \n",
       "3                                人工智慧      ChatGPT  \n",
       "4                             ChatGPT      ChatGPT  \n",
       "..                                ...          ...  \n",
       "194                           AutoCAD     AutoDESK  \n",
       "195                           Go 程式語言    Go,Python  \n",
       "196                           物聯網 IoT       物聯網IoT  \n",
       "197                             Excel   Excel,人工智慧  \n",
       "198                           物聯網 IoT  物聯網IoT,資訊安全  \n",
       "\n",
       "[199 rows x 4 columns]"
      ]
     },
     "execution_count": 32,
     "metadata": {},
     "output_type": "execute_result"
    }
   ],
   "source": [
    "import pandas as pd\n",
    "from io import StringIO\n",
    "pd.read_csv(StringIO(response.text))"
   ]
  },
  {
   "cell_type": "code",
   "execution_count": 35,
   "metadata": {
    "colab": {
     "base_uri": "https://localhost:8080/"
    },
    "executionInfo": {
     "elapsed": 544,
     "status": "ok",
     "timestamp": 1709538721479,
     "user": {
      "displayName": "張文鈿（ihower）",
      "userId": "16942569988483049654"
     },
     "user_tz": -480
    },
    "id": "zTMWmWUyYLRt",
    "outputId": "b324ff84-2567-41da-d336-439d62e495fe"
   },
   "outputs": [
    {
     "name": "stdout",
     "output_type": "stream",
     "text": [
      "{'title': '線性代數（原書第10版）', 'description': '本書結合大量應用和實例詳細介紹線性代數的基本概念、基本定理與知識點，\\r\\n主要內容包括：矩陣與方程組、行列式、向量空間、線性變換、正交性、特徵值、數值線性代數和標準型等．\\r\\n為幫助讀者鞏固所學的基本概念和基本定理，書中每一節後都配有練習題，並在每一章後提供了MATLAB練習題和測試題．\\r\\n本書敘述簡潔，通俗易懂，理論與應用相結合，\\r\\n適合作為高等院校本科生“線性代數”課程的教材，同時也可作為工程技術人員的參考書．\\r\\n', 'category': '線性代數 Linear-algebra', 'tags': '線性代數'}\n",
      "{'title': '概率與統計:面向計算機專業:原書第3版', 'description': '本書從概率論的基礎開始，帶領學生學習如計算機模擬、蒙特卡羅方法、隨機過程、\\r\\n馬爾可夫鏈、排隊系統、統計推斷和回歸等廣泛應用於現代計算機科學、計算機工程、軟件工程以及相關領域的重要內容。\\r\\n第一部分介紹概率和隨機變量。\\r\\n第二部分講解隨機過程，第三部分引入統計學的基礎知識，附錄部分給出了必要的微積分內容。\\r\\n另外，R和MATLAB的使用貫穿本書。\\r\\n', 'category': '機率統計學 Probability-and-statistics', 'tags': '統計學'}\n",
      "{'title': '概率論與數理統計', 'description': '本書主要內容包括概率論的基本概念、一維隨機變量及其分佈、多維隨機變量及其分佈、隨機變量的數字特徵、大數定律及中心極限定理、數理統計的基本概念、參數估計、假設檢驗和回歸分析。每章附章節思維導圖，數學實驗和軟件求解。\\r\\n本書適合應用型本科理工類，經管類和其它非數學專業教學用書，也可以作為工程技術人員的參考書。', 'category': '機率統計學 Probability-and-statistics', 'tags': '統計學'}\n",
      "{'title': 'Go 語言設計模式', 'description': '本書聚焦於Go語言設計模式的知識與應用。\\r\\n全書共6章，分別為設計模式入門、建型設計模式、結構型設計模式、\\r\\n行為型設計模式、設計模式擴展、設計模式與軟件架構。\\r\\n本書簡潔而不失技術深度，內容覆蓋Go語言的主流設計模式和軟件架構，\\r\\n以簡的文字介紹了複雜的案例，是學Go語言設計模式和軟件架構的實用教程。', 'category': 'Go 程式語言', 'tags': 'Go'}\n",
      "{'title': 'Gender in AI and Robotics: The Gender Challenges from an Interdisciplinary Perspective', 'description': 'Why AI does not include gender in its agenda? The role of gender in AI both as part of the community of agents creating such technologies as well as part of the contents processed by such technologies is by far conflictive. Women have been again obliterated by this fundamental revolution of our century. Highly innovative and the first step in a series of future studies in this field this book covers several voices topics and perspectives that allow the reader to understand the necessity to inclu', 'category': '人工智慧', 'tags': '人工智慧,機器人'}\n",
      "{'title': '高維統計學非漸近視角', 'description': '本書對高維統計學進行了詳盡介紹，\\r\\n重點介紹核心方法論和理論——包括尾部界、集中不等式、一致律和經驗過程以及隨機矩陣。\\r\\n此外還深入探索了特定的模型類包括稀疏線性模型、\\r\\n用秩約束矩陣模型、圖模型和各種類型的非參數模型。\\r\\n', 'category': '機率統計學 Probability-and-statistics', 'tags': '統計學'}\n",
      "{'title': 'IoT and OT Security Handbook: Assess risks  manage vulnerabilities  and monitor threats with Microsoft Defender for IoT (Paperback)', 'description': 'Leverage Defender for IoT for understanding common attacks and achieving zero trust for IoT and OT devices\\r\\n\\r\\nPurchase of the print or Kindle book includes a free PDF eBook\\r\\n\\r\\nKey Features\\r\\n\\r\\n•\\xa0Identify and resolve cybersecurity challenges in the IoT and OT worlds\\r\\n•\\xa0Familiarize yourself with common attack vectors in the IoT and OT domains\\r\\n•\\xa0Dive into Defender for IoT understand its capabilities and put it to practice\\r\\n\\r\\nBook Description\\r\\n\\r\\nThe Fourth Industrial Revolution or Industry 4.0 is al', 'category': '物聯網 IoT', 'tags': '物聯網IoT,資訊安全'}\n",
      "{'title': '游戲專業概論（第4版）', 'description': '《游戲專業概論（第4版）》融入了游戲動漫行業眾多專業人士的項目製作經驗，結合市場需求，從游戲行業的各個層面系統地、多角度地介紹了游戲行業的發展歷史、開發流程、內部分工、專業技術等相關知識。由游戲概述、游戲策劃、游戲程序、游戲藝術、職業之路五個部分組成。作者具備相當豐富的游戲策劃實踐經驗和教材編寫經驗；結構新穎、緊湊；文字通俗、易懂。可供游戲行業從業人員和游戲開發愛好者閱讀，也可供各大專院校相關專業的學生、教師和研究人員參考。\\r\\n希望通過《游戲專業概論（第4版）》，能給所有游戲從業人員及渴望進入游戲開發行業的讀者提供一些借鑒，幫助所有讀者更快地跨進游戲設計與開發的殿堂。', 'category': '遊戲設計 Game-design', 'tags': '軟體開發,遊戲設計'}\n",
      "{'title': '趣味微項目，輕松學Python', 'description': '主要內容 ● 編寫Python命令行程序 ● 處理Python數據結構 ● 使用和控制隨機性 ● 為程序和函數編寫並運行測試 ● 下載每個項目的全套測試集\\r\\n', 'category': 'Python', 'tags': 'Python'}\n",
      "{'title': '網絡安全與攻防入門很輕松（實戰超值版）', 'description': '《網絡安全與攻防入門很輕松：實戰超值版》在分析用戶進行黑客防禦中迫切需要用到或迫切想要用到的技術時，力求對其進行“傻瓜”式的講解，使讀者對網絡防禦技術形成系統瞭解，能夠更好地防範黑客的攻擊。 《網絡安全與攻防入門很輕松：實戰超值版》共為14章，包括網絡安全快速入門、搭建網絡安全測試環境、認識DOS窗口與DOS命令、木馬病毒的查殺與預防、網絡中的踩點偵察與漏洞掃描、系統遠程控制的安全防護、網絡欺騙與數據嗅探技術、網絡賬號及密碼的安全防護、流氓軟件與間諜軟件的清理、使用局域網安全防護工具、無線網絡的組建與安全防護、進程與註冊表的安全防護、電腦系統的安全防護策略、信息追蹤與入侵痕跡的清理等內容。另外，《網絡安全與攻防入門很輕松：實戰超值版》贈送同步教學微視頻、精美教學幻燈片、教學大綱和其他相關資源供讀者學習和使用。 《網絡安全與攻防入門很輕松：實戰超值版》內容豐富、圖文並茂、深入淺出，不僅適用於網絡安全從業人員及網絡管理員，而且適用於廣大網絡愛好者，還可作為大學、中專院校相關專業的參考用書。', 'category': 'Web-crawler 網路爬蟲', 'tags': '網路爬蟲,網路管理 MIS,資訊安全'}\n",
      "{'title': 'Adversarial Deep Learning in Cybersecurity: Attack Taxonomies  Defence Mechanisms  and Learning Theories', 'description': 'A critical challenge in deep learning is the vulnerability of deep learning networks to security attacks from intelligent cyber adversaries. Even innocuous perturbations to the training data can be used to manipulate the behaviour of deep networks in unintended ways. In this book we review the latest developments in adversarial attack technologies in computer vision; natural language processing; and cybersecurity with regard to multidimensional textual and image data sequence data and temporal d', 'category': 'DeepLearning', 'tags': '深度學習,資訊安全'}\n",
      "{'title': 'Photovoltaic Systems: Artificial Intelligence-based Fault Diagnosis and Predictive Maintenance', 'description': 'This book provides comprehensive insight into the fault detection techniques implemented for photovoltaic (PV) panels. It includes studies related to predictive maintenance needed to improve the performance of the solar PV systems using Artificial Intelligence (AI) techniques. The readers gain knowledge on the fault identification algorithm and the significance of all such algorithms in real-time power system applications.Gives detailed overview of fundamental concepts of fault diagnosis algorit', 'category': '人工智慧', 'tags': '人工智慧,預測模型'}\n",
      "{'title': 'Implementing Event-driven Microservices Architecture in .NET 7: Develop event-based distributed apps that can scale with ever-changing business demand', 'description': 'Implement modern design patterns that leverage domain-driven data to achieve resiliency and scalability for data-dependent applications.\\r\\n\\r\\nKey Features\\r\\n\\r\\n•\\xa0Learn the tenets of event-driven architecture coupled with reliable design patterns will enable developers to hone skills that will drive knowledge of distributed systems and build a foundation for professional growth.\\r\\n•\\xa0Understand how to translate business goals and drivers into a domain model that can be used to further flesh out an appl', 'category': 'Microservices 微服務', 'tags': '.NET,Microservices'}\n",
      "{'title': 'Teaching Cybersecurity: A Handbook for Teaching the Cybersecurity Body of Knowledge in a Conventional Classroom', 'description': 'Let\\'s be realistic here. Ordinary K-12 educators don\\'t know what \"cybersecurity\" is and could probably care less about incorporating it into their lesson plans. Yet teaching cybersecurity is a critical national priority. So this book aims to cut through the usual roadblocks of confusing technical jargon and industry stovepipes and give you the classroom teacher a unified understanding of what must be taught. That advice is based on a single authoritative definition of the field. In 2017 the thre', 'category': '資訊安全', 'tags': '資訊安全'}\n",
      "{'title': '電腦圖形學基礎與應用——基於WebGL', 'description': '電腦圖形學是研究利用電腦進行圖形繪制的科學，其主要研究內容為利用電腦實現將三維模型投影到平面的方法。本書首先搭建基本的電腦圖形學知識體系，然後在此基礎上，圍繞GPU管線的處理結構分析管線各個階段的實現算法；同時介紹WebGL在編程方面的應用，使讀者不僅能夠掌握圖形應用軟件的編程方法，還能明白電腦圖形學的基本原理。編者在本書中融入了大量實例的源代碼，可以為讀者應用不同的理論知識進行實踐提供參考。此外，與本書配套的“電腦圖形學實驗”平臺上不僅展示了多個實驗下多位學生的三維交互作品，以供院校師生參考學習，而且支持讀者註冊並使用該平臺，進行代碼上傳與調試及作品展示等，這可以極大程度地提升讀者的實戰技能。本書可作為高等院校電腦、數字媒體、軟件工程等相關專業的教材，也可供圖形應用領域的技術人員學習使用，還可作為圖形研究人員的參考用書。', 'category': 'WebGL', 'tags': 'WebGL,電腦繪圖'}\n",
      "{'title': 'Azure Security Cookbook: Practical recipes for securing Azure resources and operations', 'description': 'Gain critical real-world skills to secure your Microsoft Azure infrastructure against cyber attacks\\r\\n\\r\\nPurchase of the print or Kindle book includes a free PDF eBook\\r\\n\\r\\nKey Features\\r\\n\\r\\n•\\xa0Dive into practical recipes for implementing security solutions for Microsoft Azure resources\\r\\n•\\xa0Learn how to implement Microsoft Defender for Cloud and Microsoft Sentinel\\r\\n•\\xa0Work with real-world examples of Azure Platform security capabilities to develop skills quickly\\r\\n\\r\\nBook Description\\r\\n\\r\\nWith evolving threa', 'category': 'Microsoft Azure', 'tags': 'Microsoft Azure,資訊安全'}\n",
      "{'title': '3D Scanning: Metrology for Advanced Manufacturing', 'description': 'Learn how 3D scanning technology drives advanced manufacturing and modern construction 3D scanning technology allows non-contact scanning of objects for unprecedented data collection analysis and modeling. 3D models created this way are valuable at every stage of the design and build process and they have become a staple in additive manufacturing or 3D printing. As 3D printing transforms global industry at every scale there has never been a better time for engineers and industrial professionals', 'category': '3D 列印', 'tags': '3D列印,大數據運算,工程數學'}\n",
      "{'title': 'Robotics at Home with Raspberry Pi Pico: Build autonomous robots with the versatile low-cost Raspberry Pi Pico controller and Python', 'description': 'Design build and program a mobile robot platform while gaining an understanding of the Raspberry Pi Pico Free CAD and robot sensors using Python to code Bluetooth to connect &amp; smartphone to control your projects\\r\\n\\r\\nKey Features\\r\\n\\r\\n•\\xa0Gain in depth knowledge of robotics with easy-to-follow instructions\\r\\n•\\xa0Build a rover platform designed for experimentation and extension\\r\\n•\\xa0Enhance your robot building skills through planning building and coding\\r\\n\\r\\nBook Description\\r\\n\\r\\nThe field of robotics is ex', 'category': 'Python', 'tags': 'Python,Raspberry Pi,機器人'}\n",
      "{'title': '深入理解高並發編程：JDK核心技術', 'description': '本書從實際需求出發，全面細緻地介紹了JDK高並發編程的基礎知識、核心工具和線程池核心技術。\\r\\n通過閱讀和學習本書，讀者可以對JDK高並發編程有更加全面、深入、透徹的理解，\\r\\n提高對高並發編程問題的處理能力和項目實戰能力，並提高站在更高層面解決高並發編程系統架構問題的能力。\\r\\n', 'category': 'Java 程式語言', 'tags': 'Java'}\n",
      "{'title': '信號與系統——使用MATLAB分析與實現（第2版）', 'description': '本書主要講授信號與系統的概念、原理以及應用方法全書分為8章每章配有大量的例題以及基於\\r\\nMATLAB的求解程序。第1章介紹信號的概念、分類、運算方法以及正交分解方法;系統的概念、分類、性\\r\\n質以及描述方法。第2章介紹系統的時域分析方法。第3章介紹周期信號的傅里葉級數展開方法以及非\\r\\n周期信號的傅里葉變換方法、傅里葉變換的性質並通過這兩種變換引入信號頻譜和帶寬的概念。第4章\\r\\n介紹信號與系統的虛頻域分析方法即傅里葉分析方法包括無失真傳輸系統、採樣系統、濾波器等具體實\\r\\n際系統的分析方法和頻率響應特性。第5章介紹信號的拉普拉斯變換和逆變換方法拉普拉斯變換的性\\r\\n質。第6章介紹拉普拉斯變換在系統分析中的應用方法包括微分方程、框圖以及電路等不同描述方式系統\\r\\n的分析方法以及基於系統函數 H(s)的一般系統的分析和設計方法。第7章介紹離散時間信號與系統的時\\r\\n域、z域分析方法。第8章簡單介紹窗口傅里葉變換和小波變換包括小波變換應用實例及 MATLAB 程序。\\r\\n全書在第1章、第4章、第6章和第8章的適當位置緊扣課程內容引入以24字社會主義核心價值觀為重點\\r\\n的思政元素培養學生正確的人生觀、價值觀', 'category': 'Matlab', 'tags': 'Matlab'}\n"
     ]
    }
   ],
   "source": [
    "import csv\n",
    "import random\n",
    "\n",
    "f = StringIO(response.text)\n",
    "reader = csv.DictReader(f)\n",
    "data = list(reader)\n",
    "\n",
    "# 隨機選擇20筆資料來做實驗就好了\n",
    "selected_data = random.sample(data, 20)\n",
    "\n",
    "# 印出選擇的資料\n",
    "for row in selected_data:\n",
    "    print(row)"
   ]
  },
  {
   "cell_type": "code",
   "execution_count": 36,
   "metadata": {
    "executionInfo": {
     "elapsed": 5,
     "status": "ok",
     "timestamp": 1709538721479,
     "user": {
      "displayName": "張文鈿（ihower）",
      "userId": "16942569988483049654"
     },
     "user_tz": -480
    },
    "id": "yJ2gHvvdYMgO"
   },
   "outputs": [],
   "source": [
    "df = pd.DataFrame(selected_data)"
   ]
  },
  {
   "cell_type": "code",
   "execution_count": 37,
   "metadata": {
    "executionInfo": {
     "elapsed": 5,
     "status": "ok",
     "timestamp": 1709538721479,
     "user": {
      "displayName": "張文鈿（ihower）",
      "userId": "16942569988483049654"
     },
     "user_tz": -480
    },
    "id": "_Xbj1f8yZOF1"
   },
   "outputs": [],
   "source": [
    "category_str = \"3D 列印,Arduino,C 程式語言,C++ 程式語言,CI/CD,ChatGPT,Computer Vision,Computer-Science,Computer-architecture,Data Science,Data-visualization,DeepLearning,Domain-Driven Design,Engineer self-growth,Go 程式語言,Information-management,Java,Linux,Machine Learning,Operating-system,Python,R 語言,Reinforcement,UI/UX,Version Control,Visual C#,人工智慧,化學 Chemistry,區塊鏈與金融科技,地理資訊系統 Gis,大數據 Big-data,微軟技術,搜尋引擎優化 SEO,數學,機器人製作 Robots,物聯網 IoT,管理與領導 Management-leadership,網站開發,網頁設計,職涯發展,行動通訊 Mobile-communication,行銷/網路行銷 Marketing,資料庫,資訊安全,軟體工程,軟體架構,軟體測試,雲端運算,電力電子 Power-electronics,電機學 Electric-machinery,電路學 Electric-circuits\"\n",
    "category_arr = category_str.split(\",\")"
   ]
  },
  {
   "cell_type": "code",
   "execution_count": 38,
   "metadata": {
    "executionInfo": {
     "elapsed": 5,
     "status": "ok",
     "timestamp": 1709538721479,
     "user": {
      "displayName": "張文鈿（ihower）",
      "userId": "16942569988483049654"
     },
     "user_tz": -480
    },
    "id": "-7FjmFvrZcwg"
   },
   "outputs": [],
   "source": [
    "from typing import Literal\n",
    "from typing import Iterable"
   ]
  },
  {
   "cell_type": "code",
   "execution_count": 40,
   "metadata": {
    "executionInfo": {
     "elapsed": 5,
     "status": "ok",
     "timestamp": 1709538721479,
     "user": {
      "displayName": "張文鈿（ihower）",
      "userId": "16942569988483049654"
     },
     "user_tz": -480
    },
    "id": "hnIp1EO3Y-sM"
   },
   "outputs": [],
   "source": [
    "class Category(BaseModel):\n",
    "    reasoning: str # CoT\n",
    "    name: Literal[tuple(category_arr)]"
   ]
  },
  {
   "cell_type": "code",
   "execution_count": 41,
   "metadata": {
    "colab": {
     "base_uri": "https://localhost:8080/"
    },
    "executionInfo": {
     "elapsed": 5,
     "status": "ok",
     "timestamp": 1709538721479,
     "user": {
      "displayName": "張文鈿（ihower）",
      "userId": "16942569988483049654"
     },
     "user_tz": -480
    },
    "id": "SwqF3Bjfb1VD",
    "outputId": "19746a16-f574-4989-9538-8b00f2723ee7"
   },
   "outputs": [
    {
     "data": {
      "text/plain": [
       "{'properties': {'reasoning': {'title': 'Reasoning', 'type': 'string'},\n",
       "  'name': {'enum': ['3D 列印',\n",
       "    'Arduino',\n",
       "    'C 程式語言',\n",
       "    'C++ 程式語言',\n",
       "    'CI/CD',\n",
       "    'ChatGPT',\n",
       "    'Computer Vision',\n",
       "    'Computer-Science',\n",
       "    'Computer-architecture',\n",
       "    'Data Science',\n",
       "    'Data-visualization',\n",
       "    'DeepLearning',\n",
       "    'Domain-Driven Design',\n",
       "    'Engineer self-growth',\n",
       "    'Go 程式語言',\n",
       "    'Information-management',\n",
       "    'Java',\n",
       "    'Linux',\n",
       "    'Machine Learning',\n",
       "    'Operating-system',\n",
       "    'Python',\n",
       "    'R 語言',\n",
       "    'Reinforcement',\n",
       "    'UI/UX',\n",
       "    'Version Control',\n",
       "    'Visual C#',\n",
       "    '人工智慧',\n",
       "    '化學 Chemistry',\n",
       "    '區塊鏈與金融科技',\n",
       "    '地理資訊系統 Gis',\n",
       "    '大數據 Big-data',\n",
       "    '微軟技術',\n",
       "    '搜尋引擎優化 SEO',\n",
       "    '數學',\n",
       "    '機器人製作 Robots',\n",
       "    '物聯網 IoT',\n",
       "    '管理與領導 Management-leadership',\n",
       "    '網站開發',\n",
       "    '網頁設計',\n",
       "    '職涯發展',\n",
       "    '行動通訊 Mobile-communication',\n",
       "    '行銷/網路行銷 Marketing',\n",
       "    '資料庫',\n",
       "    '資訊安全',\n",
       "    '軟體工程',\n",
       "    '軟體架構',\n",
       "    '軟體測試',\n",
       "    '雲端運算',\n",
       "    '電力電子 Power-electronics',\n",
       "    '電機學 Electric-machinery',\n",
       "    '電路學 Electric-circuits'],\n",
       "   'title': 'Name',\n",
       "   'type': 'string'}},\n",
       " 'required': ['reasoning', 'name'],\n",
       " 'title': 'Category',\n",
       " 'type': 'object'}"
      ]
     },
     "execution_count": 41,
     "metadata": {},
     "output_type": "execute_result"
    }
   ],
   "source": [
    "Category.model_json_schema()"
   ]
  },
  {
   "cell_type": "code",
   "execution_count": null,
   "metadata": {
    "executionInfo": {
     "elapsed": 2,
     "status": "ok",
     "timestamp": 1709538721479,
     "user": {
      "displayName": "張文鈿（ihower）",
      "userId": "16942569988483049654"
     },
     "user_tz": -480
    },
    "id": "kQkuVM81aC2G"
   },
   "outputs": [],
   "source": [
    "tools = [\n",
    "    {\n",
    "        \"type\": \"function\",\n",
    "        \"function\": {\n",
    "            \"name\": \"classify_category\",\n",
    "            \"description\": \"Classify category\",\n",
    "            \"parameters\": Category.model_json_schema()\n",
    "        },\n",
    "    }\n",
    "]\n",
    "\n",
    "tool_choice =  {\"type\": \"function\", \"function\": {\"name\": \"classify_category\"}}\n",
    "\n"
   ]
  },
  {
   "cell_type": "code",
   "execution_count": 47,
   "metadata": {},
   "outputs": [
    {
     "name": "stdout",
     "output_type": "stream",
     "text": [
      "{'role': 'assistant',\n",
      " 'content': None,\n",
      " 'tool_calls': [{'id': 'call_2YR4wbgib6L4sWja6fgn6KYY',\n",
      "                 'type': 'function',\n",
      "                 'function': {'name': 'classify_category',\n",
      "                              'arguments': '{\"reasoning\":\"The passage provides '\n",
      "                                           'information about natural language '\n",
      "                                           'processing, including basic '\n",
      "                                           'knowledge and advanced models, as '\n",
      "                                           'well as practical applications '\n",
      "                                           'such as pre-trained models, text '\n",
      "                                           'classification, machine reading '\n",
      "                                           'comprehension, named entity '\n",
      "                                           'recognition, text generation, '\n",
      "                                           'model distillation and pruning, '\n",
      "                                           'and loss functions. It also '\n",
      "                                           'mentions the use of Linux and '\n",
      "                                           'PyTorch for '\n",
      "                                           'development.\",\"name\":\"自然語言處理\"}'}}],\n",
      " 'refusal': None,\n",
      " 'annotations': []}\n",
      "{'role': 'assistant',\n",
      " 'content': None,\n",
      " 'tool_calls': [{'id': 'call_AZoAu7BvRlCJ4KJRujBlUGUB',\n",
      "                 'type': 'function',\n",
      "                 'function': {'name': 'classify_category',\n",
      "                              'arguments': '{\"reasoning\":\"The passage '\n",
      "                                           'discusses functional programming '\n",
      "                                           'techniques in Go and how they can '\n",
      "                                           'improve testability, readability, '\n",
      "                                           'and security of code.\",\"name\":\"Go '\n",
      "                                           '程式語言\"}'}}],\n",
      " 'refusal': None,\n",
      " 'annotations': []}\n",
      "{'role': 'assistant',\n",
      " 'content': None,\n",
      " 'tool_calls': [{'id': 'call_AbaeLqqUhcPXIG73oxUXegn7',\n",
      "                 'type': 'function',\n",
      "                 'function': {'name': 'classify_category',\n",
      "                              'arguments': '{\"reasoning\":\"The passage '\n",
      "                                           'discusses software engineering '\n",
      "                                           'principles and best practices, '\n",
      "                                           'including teamwork, agile methods, '\n",
      "                                           'requirements discovery, system '\n",
      "                                           'design, testing, and progress '\n",
      "                                           'tracking.\",\"name\":\"軟體工程\"}'}}],\n",
      " 'refusal': None,\n",
      " 'annotations': []}\n",
      "{'role': 'assistant',\n",
      " 'content': None,\n",
      " 'tool_calls': [{'id': 'call_nqdyHIsNFZmeh2MUzEmkVBee',\n",
      "                 'type': 'function',\n",
      "                 'function': {'name': 'classify_category',\n",
      "                              'arguments': '{\"reasoning\":\"The passage '\n",
      "                                           'discusses the importance of '\n",
      "                                           'completing important tasks on time '\n",
      "                                           'and with guaranteed quality in '\n",
      "                                           'industrial networks.\"}'}}],\n",
      " 'refusal': None,\n",
      " 'annotations': []}\n",
      "{'role': 'assistant',\n",
      " 'content': None,\n",
      " 'tool_calls': [{'id': 'call_tpsvoRwASu0qrUoAh5nIyLvQ',\n",
      "                 'type': 'function',\n",
      "                 'function': {'name': 'classify_category',\n",
      "                              'arguments': '{\"reasoning\":\"The passage '\n",
      "                                           'discusses teaching cybersecurity '\n",
      "                                           'in a conventional classroom and '\n",
      "                                           'the importance of incorporating it '\n",
      "                                           'into lesson '\n",
      "                                           'plans.\",\"name\":\"資訊安全\"}'}}],\n",
      " 'refusal': None,\n",
      " 'annotations': []}\n"
     ]
    }
   ],
   "source": [
    "# 隨機選擇 5 筆資料來做實驗就好了\n",
    "selected_data = random.sample(data, 5)\n",
    "\n",
    "# 印出選擇的資料\n",
    "for row in selected_data:\n",
    "\n",
    "    messages = [\n",
    "        {\"role\": \"system\", \"content\": \"You are a helpful assistant that extracts information from the passage.\"},\n",
    "        {\"role\": \"user\", \"content\": f\"Extract the information from the passage. <content>{row['title']},{row['description']}</content>\"}\n",
    "    ]\n",
    "\n",
    "    tool_choice =  {\"type\": \"function\", \"function\": {\"name\": \"classify_category\"}}\n",
    "\n",
    "    response = get_completion(messages, tools=tools, tool_choice=tool_choice)\n",
    "    pp(response)"
   ]
  },
  {
   "cell_type": "markdown",
   "metadata": {
    "id": "UWzWZdDFcM3w"
   },
   "source": [
    "Pydantic 還有 Validation 功能"
   ]
  },
  {
   "cell_type": "code",
   "execution_count": 44,
   "metadata": {
    "executionInfo": {
     "elapsed": 2,
     "status": "ok",
     "timestamp": 1709538721479,
     "user": {
      "displayName": "張文鈿（ihower）",
      "userId": "16942569988483049654"
     },
     "user_tz": -480
    },
    "id": "aOyzLEUmbiyr"
   },
   "outputs": [],
   "source": [
    "from pydantic import ValidationError"
   ]
  },
  {
   "cell_type": "code",
   "execution_count": 48,
   "metadata": {
    "colab": {
     "base_uri": "https://localhost:8080/",
     "height": 1000
    },
    "executionInfo": {
     "elapsed": 38584,
     "status": "ok",
     "timestamp": 1709538760062,
     "user": {
      "displayName": "張文鈿（ihower）",
      "userId": "16942569988483049654"
     },
     "user_tz": -480
    },
    "id": "WQfQNFfbYvOp",
    "outputId": "5e45eef2-9b48-4462-ae46-fba4d0f61bf9"
   },
   "outputs": [
    {
     "data": {
      "text/html": [
       "<div>\n",
       "<style scoped>\n",
       "    .dataframe tbody tr th:only-of-type {\n",
       "        vertical-align: middle;\n",
       "    }\n",
       "\n",
       "    .dataframe tbody tr th {\n",
       "        vertical-align: top;\n",
       "    }\n",
       "\n",
       "    .dataframe thead th {\n",
       "        text-align: right;\n",
       "    }\n",
       "</style>\n",
       "<table border=\"1\" class=\"dataframe\">\n",
       "  <thead>\n",
       "    <tr style=\"text-align: right;\">\n",
       "      <th></th>\n",
       "      <th>title</th>\n",
       "      <th>description</th>\n",
       "      <th>category</th>\n",
       "      <th>tags</th>\n",
       "      <th>reasoning</th>\n",
       "      <th>predict</th>\n",
       "    </tr>\n",
       "  </thead>\n",
       "  <tbody>\n",
       "    <tr>\n",
       "      <th>0</th>\n",
       "      <td>線性代數（原書第10版）</td>\n",
       "      <td>本書結合大量應用和實例詳細介紹線性代數的基本概念、基本定理與知識點，\\r\\n主要內容包括：矩...</td>\n",
       "      <td>線性代數 Linear-algebra</td>\n",
       "      <td>線性代數</td>\n",
       "      <td>線性代數的基本概念、基本定理、矩陣與方程組、向量空間等內容</td>\n",
       "      <td>數學</td>\n",
       "    </tr>\n",
       "    <tr>\n",
       "      <th>1</th>\n",
       "      <td>概率與統計:面向計算機專業:原書第3版</td>\n",
       "      <td>本書從概率論的基礎開始，帶領學生學習如計算機模擬、蒙特卡羅方法、隨機過程、\\r\\n馬爾可夫鏈...</td>\n",
       "      <td>機率統計學 Probability-and-statistics</td>\n",
       "      <td>統計學</td>\n",
       "      <td>NaN</td>\n",
       "      <td>Error: 1 validation error for Category\\nname\\n...</td>\n",
       "    </tr>\n",
       "    <tr>\n",
       "      <th>2</th>\n",
       "      <td>概率論與數理統計</td>\n",
       "      <td>本書主要內容包括概率論的基本概念、一維隨機變量及其分佈、多維隨機變量及其分佈、隨機變量的數字...</td>\n",
       "      <td>機率統計學 Probability-and-statistics</td>\n",
       "      <td>統計學</td>\n",
       "      <td>概率論與數理統計涵蓋概率論、數理統計基本概念、參數估計、假設檢驗等內容，適合應用型本科理工類...</td>\n",
       "      <td>數學</td>\n",
       "    </tr>\n",
       "    <tr>\n",
       "      <th>3</th>\n",
       "      <td>Go 語言設計模式</td>\n",
       "      <td>本書聚焦於Go語言設計模式的知識與應用。\\r\\n全書共6章，分別為設計模式入門、建型設計模式...</td>\n",
       "      <td>Go 程式語言</td>\n",
       "      <td>Go</td>\n",
       "      <td>NaN</td>\n",
       "      <td>Error: 1 validation error for Category\\nname\\n...</td>\n",
       "    </tr>\n",
       "    <tr>\n",
       "      <th>4</th>\n",
       "      <td>Gender in AI and Robotics: The Gender Challeng...</td>\n",
       "      <td>Why AI does not include gender in its agenda? ...</td>\n",
       "      <td>人工智慧</td>\n",
       "      <td>人工智慧,機器人</td>\n",
       "      <td>The book discusses the role of gender in AI an...</td>\n",
       "      <td>人工智慧</td>\n",
       "    </tr>\n",
       "    <tr>\n",
       "      <th>5</th>\n",
       "      <td>高維統計學非漸近視角</td>\n",
       "      <td>本書對高維統計學進行了詳盡介紹，\\r\\n重點介紹核心方法論和理論——包括尾部界、集中不等式、...</td>\n",
       "      <td>機率統計學 Probability-and-statistics</td>\n",
       "      <td>統計學</td>\n",
       "      <td>這本書涵蓋了高維統計學的核心方法論和理論，包括尾部界、集中不等式、一致律和經驗過程，以及特定...</td>\n",
       "      <td>Data Science</td>\n",
       "    </tr>\n",
       "    <tr>\n",
       "      <th>6</th>\n",
       "      <td>IoT and OT Security Handbook: Assess risks  ma...</td>\n",
       "      <td>Leverage Defender for IoT for understanding co...</td>\n",
       "      <td>物聯網 IoT</td>\n",
       "      <td>物聯網IoT,資訊安全</td>\n",
       "      <td>NaN</td>\n",
       "      <td>Error: 1 validation error for Category\\nname\\n...</td>\n",
       "    </tr>\n",
       "    <tr>\n",
       "      <th>7</th>\n",
       "      <td>游戲專業概論（第4版）</td>\n",
       "      <td>《游戲專業概論（第4版）》融入了游戲動漫行業眾多專業人士的項目製作經驗，結合市場需求，從游戲...</td>\n",
       "      <td>遊戲設計 Game-design</td>\n",
       "      <td>軟體開發,遊戲設計</td>\n",
       "      <td>NaN</td>\n",
       "      <td>Error: 1 validation error for Category\\nname\\n...</td>\n",
       "    </tr>\n",
       "    <tr>\n",
       "      <th>8</th>\n",
       "      <td>趣味微項目，輕松學Python</td>\n",
       "      <td>主要內容 ● 編寫Python命令行程序 ● 處理Python數據結構 ● 使用和控制隨機性...</td>\n",
       "      <td>Python</td>\n",
       "      <td>Python</td>\n",
       "      <td>這本書主要涵蓋Python程式語言的基礎知識和應用，包括編寫命令行程序、處理數據結構、控制隨...</td>\n",
       "      <td>Python</td>\n",
       "    </tr>\n",
       "    <tr>\n",
       "      <th>9</th>\n",
       "      <td>網絡安全與攻防入門很輕松（實戰超值版）</td>\n",
       "      <td>《網絡安全與攻防入門很輕松：實戰超值版》在分析用戶進行黑客防禦中迫切需要用到或迫切想要用到的...</td>\n",
       "      <td>Web-crawler 網路爬蟲</td>\n",
       "      <td>網路爬蟲,網路管理 MIS,資訊安全</td>\n",
       "      <td>網絡安全與攻防入門很輕松（實戰超值版）涵蓋了網絡安全相關的技術和知識，包括網絡防禦、黑客攻擊...</td>\n",
       "      <td>資訊安全</td>\n",
       "    </tr>\n",
       "    <tr>\n",
       "      <th>10</th>\n",
       "      <td>Adversarial Deep Learning in Cybersecurity: At...</td>\n",
       "      <td>A critical challenge in deep learning is the v...</td>\n",
       "      <td>DeepLearning</td>\n",
       "      <td>深度學習,資訊安全</td>\n",
       "      <td>The book focuses on adversarial deep learning ...</td>\n",
       "      <td>DeepLearning</td>\n",
       "    </tr>\n",
       "    <tr>\n",
       "      <th>11</th>\n",
       "      <td>Photovoltaic Systems: Artificial Intelligence-...</td>\n",
       "      <td>This book provides comprehensive insight into ...</td>\n",
       "      <td>人工智慧</td>\n",
       "      <td>人工智慧,預測模型</td>\n",
       "      <td>The book focuses on fault detection techniques...</td>\n",
       "      <td>人工智慧</td>\n",
       "    </tr>\n",
       "    <tr>\n",
       "      <th>12</th>\n",
       "      <td>Implementing Event-driven Microservices Archit...</td>\n",
       "      <td>Implement modern design patterns that leverage...</td>\n",
       "      <td>Microservices 微服務</td>\n",
       "      <td>.NET,Microservices</td>\n",
       "      <td>The book focuses on implementing event-driven ...</td>\n",
       "      <td>軟體架構</td>\n",
       "    </tr>\n",
       "    <tr>\n",
       "      <th>13</th>\n",
       "      <td>Teaching Cybersecurity: A Handbook for Teachin...</td>\n",
       "      <td>Let's be realistic here. Ordinary K-12 educato...</td>\n",
       "      <td>資訊安全</td>\n",
       "      <td>資訊安全</td>\n",
       "      <td>This book focuses on teaching cybersecurity in...</td>\n",
       "      <td>資訊安全</td>\n",
       "    </tr>\n",
       "    <tr>\n",
       "      <th>14</th>\n",
       "      <td>電腦圖形學基礎與應用——基於WebGL</td>\n",
       "      <td>電腦圖形學是研究利用電腦進行圖形繪制的科學，其主要研究內容為利用電腦實現將三維模型投影到平面...</td>\n",
       "      <td>WebGL</td>\n",
       "      <td>WebGL,電腦繪圖</td>\n",
       "      <td>電腦圖形學基礎與應用，介紹了利用電腦進行圖形繪制的科學，以及在WebGL上的應用。</td>\n",
       "      <td>Computer Vision</td>\n",
       "    </tr>\n",
       "    <tr>\n",
       "      <th>15</th>\n",
       "      <td>Azure Security Cookbook: Practical recipes for...</td>\n",
       "      <td>Gain critical real-world skills to secure your...</td>\n",
       "      <td>Microsoft Azure</td>\n",
       "      <td>Microsoft Azure,資訊安全</td>\n",
       "      <td>The book focuses on practical recipes for secu...</td>\n",
       "      <td>資訊安全</td>\n",
       "    </tr>\n",
       "    <tr>\n",
       "      <th>16</th>\n",
       "      <td>3D Scanning: Metrology for Advanced Manufacturing</td>\n",
       "      <td>Learn how 3D scanning technology drives advanc...</td>\n",
       "      <td>3D 列印</td>\n",
       "      <td>3D列印,大數據運算,工程數學</td>\n",
       "      <td>The book focuses on 3D scanning technology and...</td>\n",
       "      <td>3D 列印</td>\n",
       "    </tr>\n",
       "    <tr>\n",
       "      <th>17</th>\n",
       "      <td>Robotics at Home with Raspberry Pi Pico: Build...</td>\n",
       "      <td>Design build and program a mobile robot platfo...</td>\n",
       "      <td>Python</td>\n",
       "      <td>Python,Raspberry Pi,機器人</td>\n",
       "      <td>This book focuses on building autonomous robot...</td>\n",
       "      <td>機器人製作 Robots</td>\n",
       "    </tr>\n",
       "    <tr>\n",
       "      <th>18</th>\n",
       "      <td>深入理解高並發編程：JDK核心技術</td>\n",
       "      <td>本書從實際需求出發，全面細緻地介紹了JDK高並發編程的基礎知識、核心工具和線程池核心技術。\\...</td>\n",
       "      <td>Java 程式語言</td>\n",
       "      <td>Java</td>\n",
       "      <td>這本書涵蓋了JDK高並發編程的基礎知識、核心工具和線程池技術，讀者可以通過學習提高對高並發編...</td>\n",
       "      <td>Java</td>\n",
       "    </tr>\n",
       "    <tr>\n",
       "      <th>19</th>\n",
       "      <td>信號與系統——使用MATLAB分析與實現（第2版）</td>\n",
       "      <td>本書主要講授信號與系統的概念、原理以及應用方法全書分為8章每章配有大量的例題以及基於\\r\\n...</td>\n",
       "      <td>Matlab</td>\n",
       "      <td>Matlab</td>\n",
       "      <td>NaN</td>\n",
       "      <td>Error: 1 validation error for Category\\nname\\n...</td>\n",
       "    </tr>\n",
       "  </tbody>\n",
       "</table>\n",
       "</div>"
      ],
      "text/plain": [
       "                                                title  \\\n",
       "0                                        線性代數（原書第10版）   \n",
       "1                                 概率與統計:面向計算機專業:原書第3版   \n",
       "2                                            概率論與數理統計   \n",
       "3                                           Go 語言設計模式   \n",
       "4   Gender in AI and Robotics: The Gender Challeng...   \n",
       "5                                          高維統計學非漸近視角   \n",
       "6   IoT and OT Security Handbook: Assess risks  ma...   \n",
       "7                                         游戲專業概論（第4版）   \n",
       "8                                     趣味微項目，輕松學Python   \n",
       "9                                 網絡安全與攻防入門很輕松（實戰超值版）   \n",
       "10  Adversarial Deep Learning in Cybersecurity: At...   \n",
       "11  Photovoltaic Systems: Artificial Intelligence-...   \n",
       "12  Implementing Event-driven Microservices Archit...   \n",
       "13  Teaching Cybersecurity: A Handbook for Teachin...   \n",
       "14                                電腦圖形學基礎與應用——基於WebGL   \n",
       "15  Azure Security Cookbook: Practical recipes for...   \n",
       "16  3D Scanning: Metrology for Advanced Manufacturing   \n",
       "17  Robotics at Home with Raspberry Pi Pico: Build...   \n",
       "18                                  深入理解高並發編程：JDK核心技術   \n",
       "19                          信號與系統——使用MATLAB分析與實現（第2版）   \n",
       "\n",
       "                                          description  \\\n",
       "0   本書結合大量應用和實例詳細介紹線性代數的基本概念、基本定理與知識點，\\r\\n主要內容包括：矩...   \n",
       "1   本書從概率論的基礎開始，帶領學生學習如計算機模擬、蒙特卡羅方法、隨機過程、\\r\\n馬爾可夫鏈...   \n",
       "2   本書主要內容包括概率論的基本概念、一維隨機變量及其分佈、多維隨機變量及其分佈、隨機變量的數字...   \n",
       "3   本書聚焦於Go語言設計模式的知識與應用。\\r\\n全書共6章，分別為設計模式入門、建型設計模式...   \n",
       "4   Why AI does not include gender in its agenda? ...   \n",
       "5   本書對高維統計學進行了詳盡介紹，\\r\\n重點介紹核心方法論和理論——包括尾部界、集中不等式、...   \n",
       "6   Leverage Defender for IoT for understanding co...   \n",
       "7   《游戲專業概論（第4版）》融入了游戲動漫行業眾多專業人士的項目製作經驗，結合市場需求，從游戲...   \n",
       "8   主要內容 ● 編寫Python命令行程序 ● 處理Python數據結構 ● 使用和控制隨機性...   \n",
       "9   《網絡安全與攻防入門很輕松：實戰超值版》在分析用戶進行黑客防禦中迫切需要用到或迫切想要用到的...   \n",
       "10  A critical challenge in deep learning is the v...   \n",
       "11  This book provides comprehensive insight into ...   \n",
       "12  Implement modern design patterns that leverage...   \n",
       "13  Let's be realistic here. Ordinary K-12 educato...   \n",
       "14  電腦圖形學是研究利用電腦進行圖形繪制的科學，其主要研究內容為利用電腦實現將三維模型投影到平面...   \n",
       "15  Gain critical real-world skills to secure your...   \n",
       "16  Learn how 3D scanning technology drives advanc...   \n",
       "17  Design build and program a mobile robot platfo...   \n",
       "18  本書從實際需求出發，全面細緻地介紹了JDK高並發編程的基礎知識、核心工具和線程池核心技術。\\...   \n",
       "19  本書主要講授信號與系統的概念、原理以及應用方法全書分為8章每章配有大量的例題以及基於\\r\\n...   \n",
       "\n",
       "                            category                     tags  \\\n",
       "0                線性代數 Linear-algebra                     線性代數   \n",
       "1   機率統計學 Probability-and-statistics                      統計學   \n",
       "2   機率統計學 Probability-and-statistics                      統計學   \n",
       "3                            Go 程式語言                       Go   \n",
       "4                               人工智慧                 人工智慧,機器人   \n",
       "5   機率統計學 Probability-and-statistics                      統計學   \n",
       "6                            物聯網 IoT              物聯網IoT,資訊安全   \n",
       "7                   遊戲設計 Game-design                軟體開發,遊戲設計   \n",
       "8                             Python                   Python   \n",
       "9                   Web-crawler 網路爬蟲       網路爬蟲,網路管理 MIS,資訊安全   \n",
       "10                      DeepLearning                深度學習,資訊安全   \n",
       "11                              人工智慧                人工智慧,預測模型   \n",
       "12                 Microservices 微服務       .NET,Microservices   \n",
       "13                              資訊安全                     資訊安全   \n",
       "14                             WebGL               WebGL,電腦繪圖   \n",
       "15                   Microsoft Azure     Microsoft Azure,資訊安全   \n",
       "16                             3D 列印          3D列印,大數據運算,工程數學   \n",
       "17                            Python  Python,Raspberry Pi,機器人   \n",
       "18                         Java 程式語言                     Java   \n",
       "19                            Matlab                   Matlab   \n",
       "\n",
       "                                            reasoning  \\\n",
       "0                       線性代數的基本概念、基本定理、矩陣與方程組、向量空間等內容   \n",
       "1                                                 NaN   \n",
       "2   概率論與數理統計涵蓋概率論、數理統計基本概念、參數估計、假設檢驗等內容，適合應用型本科理工類...   \n",
       "3                                                 NaN   \n",
       "4   The book discusses the role of gender in AI an...   \n",
       "5   這本書涵蓋了高維統計學的核心方法論和理論，包括尾部界、集中不等式、一致律和經驗過程，以及特定...   \n",
       "6                                                 NaN   \n",
       "7                                                 NaN   \n",
       "8   這本書主要涵蓋Python程式語言的基礎知識和應用，包括編寫命令行程序、處理數據結構、控制隨...   \n",
       "9   網絡安全與攻防入門很輕松（實戰超值版）涵蓋了網絡安全相關的技術和知識，包括網絡防禦、黑客攻擊...   \n",
       "10  The book focuses on adversarial deep learning ...   \n",
       "11  The book focuses on fault detection techniques...   \n",
       "12  The book focuses on implementing event-driven ...   \n",
       "13  This book focuses on teaching cybersecurity in...   \n",
       "14          電腦圖形學基礎與應用，介紹了利用電腦進行圖形繪制的科學，以及在WebGL上的應用。   \n",
       "15  The book focuses on practical recipes for secu...   \n",
       "16  The book focuses on 3D scanning technology and...   \n",
       "17  This book focuses on building autonomous robot...   \n",
       "18  這本書涵蓋了JDK高並發編程的基礎知識、核心工具和線程池技術，讀者可以通過學習提高對高並發編...   \n",
       "19                                                NaN   \n",
       "\n",
       "                                              predict  \n",
       "0                                                  數學  \n",
       "1   Error: 1 validation error for Category\\nname\\n...  \n",
       "2                                                  數學  \n",
       "3   Error: 1 validation error for Category\\nname\\n...  \n",
       "4                                                人工智慧  \n",
       "5                                        Data Science  \n",
       "6   Error: 1 validation error for Category\\nname\\n...  \n",
       "7   Error: 1 validation error for Category\\nname\\n...  \n",
       "8                                              Python  \n",
       "9                                                資訊安全  \n",
       "10                                       DeepLearning  \n",
       "11                                               人工智慧  \n",
       "12                                               軟體架構  \n",
       "13                                               資訊安全  \n",
       "14                                    Computer Vision  \n",
       "15                                               資訊安全  \n",
       "16                                              3D 列印  \n",
       "17                                       機器人製作 Robots  \n",
       "18                                               Java  \n",
       "19  Error: 1 validation error for Category\\nname\\n...  "
      ]
     },
     "execution_count": 48,
     "metadata": {},
     "output_type": "execute_result"
    }
   ],
   "source": [
    "for index, row in df.iterrows():\n",
    "    messages = [\n",
    "        {\n",
    "          \"role\": \"system\",\n",
    "          \"content\": \"請根據以下書籍資訊，選擇最適合的技能分類\" },\n",
    "        {\n",
    "            \"role\": \"user\",\n",
    "            \"content\": f\"書名: {row['title']} \\n 描述: {row['description']}\"\n",
    "        }\n",
    "    ]\n",
    "    response = response = get_completion(messages, model=\"gpt-3.5-turbo\", tools=tools, tool_choice=tool_choice)\n",
    "\n",
    "    try:\n",
    "      data = Category.model_validate_json(response[\"tool_calls\"][0][\"function\"][\"arguments\"])\n",
    "      df.at[index, 'reasoning'] = data.reasoning\n",
    "      df.at[index, 'predict'] = data.name\n",
    "    except ValidationError as e:\n",
    "      df.at[index, 'predict'] = f\"Error: {e}\"\n",
    "\n",
    "df"
   ]
  },
  {
   "cell_type": "markdown",
   "metadata": {
    "id": "YV38tizFaXJR"
   },
   "source": [
    "如果你喜歡 Pydantic 這個概念，可以進一步看 jason 針對 openai library 的擴充 https://jxnl.github.io/instructor/\n",
    "以及他的課程: https://www.wandb.courses/courses/steering-language-models"
   ]
  },
  {
   "cell_type": "code",
   "execution_count": 122,
   "metadata": {
    "executionInfo": {
     "elapsed": 3,
     "status": "ok",
     "timestamp": 1709538760062,
     "user": {
      "displayName": "張文鈿（ihower）",
      "userId": "16942569988483049654"
     },
     "user_tz": -480
    },
    "id": "6CJsDyyfbqNZ"
   },
   "outputs": [],
   "source": []
  }
 ],
 "metadata": {
  "colab": {
   "authorship_tag": "ABX9TyNO19pJ7iJpB2trVz744ojL",
   "provenance": []
  },
  "kernelspec": {
   "display_name": "Python 3",
   "name": "python3"
  },
  "language_info": {
   "codemirror_mode": {
    "name": "ipython",
    "version": 3
   },
   "file_extension": ".py",
   "mimetype": "text/x-python",
   "name": "python",
   "nbconvert_exporter": "python",
   "pygments_lexer": "ipython3",
   "version": "3.10.17"
  }
 },
 "nbformat": 4,
 "nbformat_minor": 0
}
