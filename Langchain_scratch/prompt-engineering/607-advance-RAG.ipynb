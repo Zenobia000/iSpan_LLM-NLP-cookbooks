{
 "cells": [
  {
   "cell_type": "markdown",
   "metadata": {},
   "source": [
    "進階的 RAG 技巧，包括\n",
    "\n",
    "1. Query Expansion \n",
    "2. HyDE\n",
    "2. Re-ranking\n",
    "4. small-to-big 策略\n"
   ]
  },
  {
   "cell_type": "markdown",
   "metadata": {},
   "source": [
    "## 1. Query Expansion\n",
    "Query Expansion 是擴展原始查詢以包括更多相關術語的過程。這有助於提高檢索結果的覆蓋範圍和準確性。在示例中，我們將原始查詢 \"machine learning\" 擴展為 \"machine learning AI data science neural networks\"。\n",
    "\n",
    "## 2. HyDE (Hypothetical Document Embeddings)\n",
    "HyDE 技術生成基於查詢的假設文檔嵌入，這些嵌入可以用於更好的文檔檢索。在示例中，我們使用文本生成模型來生成假設文檔，並將其嵌入表示為隨機向量（應替換為實際嵌入生成方法）。\n",
    "\n",
    "## 3. Re-ranking\n",
    "Re-ranking 是根據查詢嵌入和文檔嵌入之間的相似性對文檔進行重新排序的過程。這有助於確保最相關的文檔在檢索結果中排在前面。在示例中，我們使用餘弦相似度來計算相似性並對文檔進行排序。\n",
    "\n",
    "## 4. Small-to-Big Strategy\n",
    "Small-to-Big 策略是一種逐步細化查詢並檢索文檔的方法。通過多次擴展查詢和重新排序文檔，可以逐步收斂到最相關的文檔集。在示例中，我們從初始查詢開始，逐步擴展查詢並檢索文檔，最終獲得一組最相關的文檔。"
   ]
  },
  {
   "cell_type": "markdown",
   "metadata": {},
   "source": [
    "## 1. 向量資料庫準備"
   ]
  },
  {
   "cell_type": "code",
   "execution_count": 6,
   "metadata": {},
   "outputs": [],
   "source": [
    "# Import necessary libraries\n",
    "## 設定 OpenAI API Key 變數\n",
    "from dotenv import load_dotenv\n",
    "import os\n",
    "\n",
    "# Load the environment variables from .env file\n",
    "load_dotenv()\n",
    "\n",
    "# Access the API key\n",
    "openai_api_key = os.getenv('OPENAI_API_KEY')\n",
    "\n"
   ]
  },
  {
   "cell_type": "code",
   "execution_count": 7,
   "metadata": {},
   "outputs": [
    {
     "name": "stdout",
     "output_type": "stream",
     "text": [
      "Requirement already satisfied: chromadb in c:\\users\\xdxd2\\appdata\\local\\programs\\python\\python311\\lib\\site-packages (0.5.3)\n",
      "Requirement already satisfied: build>=1.0.3 in c:\\users\\xdxd2\\appdata\\local\\programs\\python\\python311\\lib\\site-packages (from chromadb) (1.2.1)\n",
      "Requirement already satisfied: requests>=2.28 in c:\\users\\xdxd2\\appdata\\local\\programs\\python\\python311\\lib\\site-packages (from chromadb) (2.32.3)\n",
      "Requirement already satisfied: pydantic>=1.9 in c:\\users\\xdxd2\\appdata\\local\\programs\\python\\python311\\lib\\site-packages (from chromadb) (2.7.4)\n",
      "Requirement already satisfied: chroma-hnswlib==0.7.3 in c:\\users\\xdxd2\\appdata\\local\\programs\\python\\python311\\lib\\site-packages (from chromadb) (0.7.3)\n",
      "Requirement already satisfied: fastapi>=0.95.2 in c:\\users\\xdxd2\\appdata\\local\\programs\\python\\python311\\lib\\site-packages (from chromadb) (0.111.0)\n",
      "Requirement already satisfied: uvicorn>=0.18.3 in c:\\users\\xdxd2\\appdata\\local\\programs\\python\\python311\\lib\\site-packages (from uvicorn[standard]>=0.18.3->chromadb) (0.30.1)\n",
      "Requirement already satisfied: numpy<2.0.0,>=1.22.5 in c:\\users\\xdxd2\\appdata\\local\\programs\\python\\python311\\lib\\site-packages (from chromadb) (1.24.3)\n",
      "Requirement already satisfied: posthog>=2.4.0 in c:\\users\\xdxd2\\appdata\\local\\programs\\python\\python311\\lib\\site-packages (from chromadb) (3.5.0)\n",
      "Requirement already satisfied: typing-extensions>=4.5.0 in c:\\users\\xdxd2\\appdata\\local\\programs\\python\\python311\\lib\\site-packages (from chromadb) (4.12.2)\n",
      "Requirement already satisfied: onnxruntime>=1.14.1 in c:\\users\\xdxd2\\appdata\\local\\programs\\python\\python311\\lib\\site-packages (from chromadb) (1.18.0)\n",
      "Requirement already satisfied: opentelemetry-api>=1.2.0 in c:\\users\\xdxd2\\appdata\\local\\programs\\python\\python311\\lib\\site-packages (from chromadb) (1.25.0)\n",
      "Requirement already satisfied: opentelemetry-exporter-otlp-proto-grpc>=1.2.0 in c:\\users\\xdxd2\\appdata\\local\\programs\\python\\python311\\lib\\site-packages (from chromadb) (1.25.0)\n",
      "Requirement already satisfied: opentelemetry-instrumentation-fastapi>=0.41b0 in c:\\users\\xdxd2\\appdata\\local\\programs\\python\\python311\\lib\\site-packages (from chromadb) (0.46b0)\n",
      "Requirement already satisfied: opentelemetry-sdk>=1.2.0 in c:\\users\\xdxd2\\appdata\\local\\programs\\python\\python311\\lib\\site-packages (from chromadb) (1.25.0)\n",
      "Requirement already satisfied: tokenizers>=0.13.2 in c:\\users\\xdxd2\\appdata\\local\\programs\\python\\python311\\lib\\site-packages (from chromadb) (0.19.1)\n",
      "Requirement already satisfied: pypika>=0.48.9 in c:\\users\\xdxd2\\appdata\\local\\programs\\python\\python311\\lib\\site-packages (from chromadb) (0.48.9)\n",
      "Requirement already satisfied: tqdm>=4.65.0 in c:\\users\\xdxd2\\appdata\\local\\programs\\python\\python311\\lib\\site-packages (from chromadb) (4.66.4)\n",
      "Requirement already satisfied: overrides>=7.3.1 in c:\\users\\xdxd2\\appdata\\local\\programs\\python\\python311\\lib\\site-packages (from chromadb) (7.7.0)\n",
      "Requirement already satisfied: importlib-resources in c:\\users\\xdxd2\\appdata\\local\\programs\\python\\python311\\lib\\site-packages (from chromadb) (6.4.0)\n",
      "Requirement already satisfied: grpcio>=1.58.0 in c:\\users\\xdxd2\\appdata\\local\\programs\\python\\python311\\lib\\site-packages (from chromadb) (1.65.4)\n",
      "Requirement already satisfied: bcrypt>=4.0.1 in c:\\users\\xdxd2\\appdata\\local\\programs\\python\\python311\\lib\\site-packages (from chromadb) (4.1.3)\n",
      "Requirement already satisfied: typer>=0.9.0 in c:\\users\\xdxd2\\appdata\\local\\programs\\python\\python311\\lib\\site-packages (from chromadb) (0.12.3)\n",
      "Requirement already satisfied: kubernetes>=28.1.0 in c:\\users\\xdxd2\\appdata\\local\\programs\\python\\python311\\lib\\site-packages (from chromadb) (30.1.0)\n",
      "Requirement already satisfied: tenacity>=8.2.3 in c:\\users\\xdxd2\\appdata\\local\\programs\\python\\python311\\lib\\site-packages (from chromadb) (8.4.1)\n",
      "Requirement already satisfied: PyYAML>=6.0.0 in c:\\users\\xdxd2\\appdata\\local\\programs\\python\\python311\\lib\\site-packages (from chromadb) (6.0.1)\n",
      "Requirement already satisfied: mmh3>=4.0.1 in c:\\users\\xdxd2\\appdata\\local\\programs\\python\\python311\\lib\\site-packages (from chromadb) (4.1.0)\n",
      "Requirement already satisfied: orjson>=3.9.12 in c:\\users\\xdxd2\\appdata\\local\\programs\\python\\python311\\lib\\site-packages (from chromadb) (3.10.5)\n",
      "Requirement already satisfied: httpx>=0.27.0 in c:\\users\\xdxd2\\appdata\\local\\programs\\python\\python311\\lib\\site-packages (from chromadb) (0.27.0)\n",
      "Requirement already satisfied: packaging>=19.1 in c:\\users\\xdxd2\\appdata\\roaming\\python\\python311\\site-packages (from build>=1.0.3->chromadb) (24.1)\n",
      "Requirement already satisfied: pyproject_hooks in c:\\users\\xdxd2\\appdata\\local\\programs\\python\\python311\\lib\\site-packages (from build>=1.0.3->chromadb) (1.1.0)\n",
      "Requirement already satisfied: colorama in c:\\users\\xdxd2\\appdata\\roaming\\python\\python311\\site-packages (from build>=1.0.3->chromadb) (0.4.6)\n",
      "Requirement already satisfied: starlette<0.38.0,>=0.37.2 in c:\\users\\xdxd2\\appdata\\local\\programs\\python\\python311\\lib\\site-packages (from fastapi>=0.95.2->chromadb) (0.37.2)\n",
      "Requirement already satisfied: fastapi-cli>=0.0.2 in c:\\users\\xdxd2\\appdata\\local\\programs\\python\\python311\\lib\\site-packages (from fastapi>=0.95.2->chromadb) (0.0.4)\n",
      "Requirement already satisfied: jinja2>=2.11.2 in c:\\users\\xdxd2\\appdata\\local\\programs\\python\\python311\\lib\\site-packages (from fastapi>=0.95.2->chromadb) (3.1.4)\n",
      "Requirement already satisfied: python-multipart>=0.0.7 in c:\\users\\xdxd2\\appdata\\local\\programs\\python\\python311\\lib\\site-packages (from fastapi>=0.95.2->chromadb) (0.0.9)\n",
      "Requirement already satisfied: ujson!=4.0.2,!=4.1.0,!=4.2.0,!=4.3.0,!=5.0.0,!=5.1.0,>=4.0.1 in c:\\users\\xdxd2\\appdata\\local\\programs\\python\\python311\\lib\\site-packages (from fastapi>=0.95.2->chromadb) (5.10.0)\n",
      "Requirement already satisfied: email_validator>=2.0.0 in c:\\users\\xdxd2\\appdata\\local\\programs\\python\\python311\\lib\\site-packages (from fastapi>=0.95.2->chromadb) (2.2.0)\n",
      "Requirement already satisfied: anyio in c:\\users\\xdxd2\\appdata\\local\\programs\\python\\python311\\lib\\site-packages (from httpx>=0.27.0->chromadb) (4.4.0)\n",
      "Requirement already satisfied: certifi in c:\\users\\xdxd2\\appdata\\local\\programs\\python\\python311\\lib\\site-packages (from httpx>=0.27.0->chromadb) (2024.6.2)\n",
      "Requirement already satisfied: httpcore==1.* in c:\\users\\xdxd2\\appdata\\local\\programs\\python\\python311\\lib\\site-packages (from httpx>=0.27.0->chromadb) (1.0.5)\n",
      "Requirement already satisfied: idna in c:\\users\\xdxd2\\appdata\\local\\programs\\python\\python311\\lib\\site-packages (from httpx>=0.27.0->chromadb) (3.7)\n",
      "Requirement already satisfied: sniffio in c:\\users\\xdxd2\\appdata\\local\\programs\\python\\python311\\lib\\site-packages (from httpx>=0.27.0->chromadb) (1.3.1)\n",
      "Requirement already satisfied: h11<0.15,>=0.13 in c:\\users\\xdxd2\\appdata\\local\\programs\\python\\python311\\lib\\site-packages (from httpcore==1.*->httpx>=0.27.0->chromadb) (0.14.0)\n",
      "Requirement already satisfied: six>=1.9.0 in c:\\users\\xdxd2\\appdata\\roaming\\python\\python311\\site-packages (from kubernetes>=28.1.0->chromadb) (1.16.0)\n",
      "Requirement already satisfied: python-dateutil>=2.5.3 in c:\\users\\xdxd2\\appdata\\roaming\\python\\python311\\site-packages (from kubernetes>=28.1.0->chromadb) (2.9.0.post0)\n",
      "Requirement already satisfied: google-auth>=1.0.1 in c:\\users\\xdxd2\\appdata\\local\\programs\\python\\python311\\lib\\site-packages (from kubernetes>=28.1.0->chromadb) (1.8.0)\n",
      "Requirement already satisfied: websocket-client!=0.40.0,!=0.41.*,!=0.42.*,>=0.32.0 in c:\\users\\xdxd2\\appdata\\local\\programs\\python\\python311\\lib\\site-packages (from kubernetes>=28.1.0->chromadb) (1.8.0)\n",
      "Requirement already satisfied: requests-oauthlib in c:\\users\\xdxd2\\appdata\\local\\programs\\python\\python311\\lib\\site-packages (from kubernetes>=28.1.0->chromadb) (2.0.0)\n",
      "Requirement already satisfied: oauthlib>=3.2.2 in c:\\users\\xdxd2\\appdata\\local\\programs\\python\\python311\\lib\\site-packages (from kubernetes>=28.1.0->chromadb) (3.2.2)\n",
      "Requirement already satisfied: urllib3>=1.24.2 in c:\\users\\xdxd2\\appdata\\local\\programs\\python\\python311\\lib\\site-packages (from kubernetes>=28.1.0->chromadb) (2.2.2)\n",
      "Requirement already satisfied: coloredlogs in c:\\users\\xdxd2\\appdata\\local\\programs\\python\\python311\\lib\\site-packages (from onnxruntime>=1.14.1->chromadb) (15.0.1)\n",
      "Requirement already satisfied: flatbuffers in c:\\users\\xdxd2\\appdata\\local\\programs\\python\\python311\\lib\\site-packages (from onnxruntime>=1.14.1->chromadb) (24.3.25)\n",
      "Requirement already satisfied: protobuf in c:\\users\\xdxd2\\appdata\\local\\programs\\python\\python311\\lib\\site-packages (from onnxruntime>=1.14.1->chromadb) (4.25.4)\n",
      "Requirement already satisfied: sympy in c:\\users\\xdxd2\\appdata\\local\\programs\\python\\python311\\lib\\site-packages (from onnxruntime>=1.14.1->chromadb) (1.12.1)\n",
      "Requirement already satisfied: deprecated>=1.2.6 in c:\\users\\xdxd2\\appdata\\local\\programs\\python\\python311\\lib\\site-packages (from opentelemetry-api>=1.2.0->chromadb) (1.2.14)\n",
      "Requirement already satisfied: importlib-metadata<=7.1,>=6.0 in c:\\users\\xdxd2\\appdata\\local\\programs\\python\\python311\\lib\\site-packages (from opentelemetry-api>=1.2.0->chromadb) (7.1.0)\n",
      "Requirement already satisfied: googleapis-common-protos~=1.52 in c:\\users\\xdxd2\\appdata\\local\\programs\\python\\python311\\lib\\site-packages (from opentelemetry-exporter-otlp-proto-grpc>=1.2.0->chromadb) (1.63.1)\n",
      "Requirement already satisfied: opentelemetry-exporter-otlp-proto-common==1.25.0 in c:\\users\\xdxd2\\appdata\\local\\programs\\python\\python311\\lib\\site-packages (from opentelemetry-exporter-otlp-proto-grpc>=1.2.0->chromadb) (1.25.0)\n",
      "Requirement already satisfied: opentelemetry-proto==1.25.0 in c:\\users\\xdxd2\\appdata\\local\\programs\\python\\python311\\lib\\site-packages (from opentelemetry-exporter-otlp-proto-grpc>=1.2.0->chromadb) (1.25.0)\n",
      "Requirement already satisfied: opentelemetry-instrumentation-asgi==0.46b0 in c:\\users\\xdxd2\\appdata\\local\\programs\\python\\python311\\lib\\site-packages (from opentelemetry-instrumentation-fastapi>=0.41b0->chromadb) (0.46b0)\n",
      "Requirement already satisfied: opentelemetry-instrumentation==0.46b0 in c:\\users\\xdxd2\\appdata\\local\\programs\\python\\python311\\lib\\site-packages (from opentelemetry-instrumentation-fastapi>=0.41b0->chromadb) (0.46b0)\n",
      "Requirement already satisfied: opentelemetry-semantic-conventions==0.46b0 in c:\\users\\xdxd2\\appdata\\local\\programs\\python\\python311\\lib\\site-packages (from opentelemetry-instrumentation-fastapi>=0.41b0->chromadb) (0.46b0)\n",
      "Requirement already satisfied: opentelemetry-util-http==0.46b0 in c:\\users\\xdxd2\\appdata\\local\\programs\\python\\python311\\lib\\site-packages (from opentelemetry-instrumentation-fastapi>=0.41b0->chromadb) (0.46b0)\n",
      "Requirement already satisfied: setuptools>=16.0 in c:\\users\\xdxd2\\appdata\\local\\programs\\python\\python311\\lib\\site-packages (from opentelemetry-instrumentation==0.46b0->opentelemetry-instrumentation-fastapi>=0.41b0->chromadb) (65.5.0)\n",
      "Requirement already satisfied: wrapt<2.0.0,>=1.0.0 in c:\\users\\xdxd2\\appdata\\local\\programs\\python\\python311\\lib\\site-packages (from opentelemetry-instrumentation==0.46b0->opentelemetry-instrumentation-fastapi>=0.41b0->chromadb) (1.14.1)\n",
      "Requirement already satisfied: asgiref~=3.0 in c:\\users\\xdxd2\\appdata\\local\\programs\\python\\python311\\lib\\site-packages (from opentelemetry-instrumentation-asgi==0.46b0->opentelemetry-instrumentation-fastapi>=0.41b0->chromadb) (3.8.1)\n",
      "Requirement already satisfied: monotonic>=1.5 in c:\\users\\xdxd2\\appdata\\local\\programs\\python\\python311\\lib\\site-packages (from posthog>=2.4.0->chromadb) (1.6)\n",
      "Requirement already satisfied: backoff>=1.10.0 in c:\\users\\xdxd2\\appdata\\local\\programs\\python\\python311\\lib\\site-packages (from posthog>=2.4.0->chromadb) (2.2.1)\n",
      "Requirement already satisfied: annotated-types>=0.4.0 in c:\\users\\xdxd2\\appdata\\local\\programs\\python\\python311\\lib\\site-packages (from pydantic>=1.9->chromadb) (0.7.0)\n",
      "Requirement already satisfied: pydantic-core==2.18.4 in c:\\users\\xdxd2\\appdata\\local\\programs\\python\\python311\\lib\\site-packages (from pydantic>=1.9->chromadb) (2.18.4)\n",
      "Requirement already satisfied: charset-normalizer<4,>=2 in c:\\users\\xdxd2\\appdata\\local\\programs\\python\\python311\\lib\\site-packages (from requests>=2.28->chromadb) (3.3.2)\n",
      "Requirement already satisfied: huggingface-hub<1.0,>=0.16.4 in c:\\users\\xdxd2\\appdata\\local\\programs\\python\\python311\\lib\\site-packages (from tokenizers>=0.13.2->chromadb) (0.23.4)\n",
      "Requirement already satisfied: click>=8.0.0 in c:\\users\\xdxd2\\appdata\\local\\programs\\python\\python311\\lib\\site-packages (from typer>=0.9.0->chromadb) (8.1.7)\n",
      "Requirement already satisfied: shellingham>=1.3.0 in c:\\users\\xdxd2\\appdata\\local\\programs\\python\\python311\\lib\\site-packages (from typer>=0.9.0->chromadb) (1.5.4)\n",
      "Requirement already satisfied: rich>=10.11.0 in c:\\users\\xdxd2\\appdata\\local\\programs\\python\\python311\\lib\\site-packages (from typer>=0.9.0->chromadb) (13.7.1)\n",
      "Requirement already satisfied: httptools>=0.5.0 in c:\\users\\xdxd2\\appdata\\local\\programs\\python\\python311\\lib\\site-packages (from uvicorn[standard]>=0.18.3->chromadb) (0.6.1)\n",
      "Requirement already satisfied: python-dotenv>=0.13 in c:\\users\\xdxd2\\appdata\\local\\programs\\python\\python311\\lib\\site-packages (from uvicorn[standard]>=0.18.3->chromadb) (1.0.1)\n",
      "Requirement already satisfied: watchfiles>=0.13 in c:\\users\\xdxd2\\appdata\\local\\programs\\python\\python311\\lib\\site-packages (from uvicorn[standard]>=0.18.3->chromadb) (0.22.0)\n",
      "Requirement already satisfied: websockets>=10.4 in c:\\users\\xdxd2\\appdata\\local\\programs\\python\\python311\\lib\\site-packages (from uvicorn[standard]>=0.18.3->chromadb) (11.0.3)\n",
      "Requirement already satisfied: dnspython>=2.0.0 in c:\\users\\xdxd2\\appdata\\local\\programs\\python\\python311\\lib\\site-packages (from email_validator>=2.0.0->fastapi>=0.95.2->chromadb) (2.6.1)\n",
      "Requirement already satisfied: cachetools<3.2,>=2.0.0 in c:\\users\\xdxd2\\appdata\\local\\programs\\python\\python311\\lib\\site-packages (from google-auth>=1.0.1->kubernetes>=28.1.0->chromadb) (3.1.1)\n",
      "Requirement already satisfied: pyasn1-modules>=0.2.1 in c:\\users\\xdxd2\\appdata\\local\\programs\\python\\python311\\lib\\site-packages (from google-auth>=1.0.1->kubernetes>=28.1.0->chromadb) (0.4.0)\n",
      "Requirement already satisfied: rsa<4.1,>=3.1.4 in c:\\users\\xdxd2\\appdata\\local\\programs\\python\\python311\\lib\\site-packages (from google-auth>=1.0.1->kubernetes>=28.1.0->chromadb) (4.0)\n",
      "Requirement already satisfied: filelock in c:\\users\\xdxd2\\appdata\\local\\programs\\python\\python311\\lib\\site-packages (from huggingface-hub<1.0,>=0.16.4->tokenizers>=0.13.2->chromadb) (3.15.3)\n",
      "Requirement already satisfied: fsspec>=2023.5.0 in c:\\users\\xdxd2\\appdata\\local\\programs\\python\\python311\\lib\\site-packages (from huggingface-hub<1.0,>=0.16.4->tokenizers>=0.13.2->chromadb) (2024.6.0)\n",
      "Requirement already satisfied: zipp>=0.5 in c:\\users\\xdxd2\\appdata\\local\\programs\\python\\python311\\lib\\site-packages (from importlib-metadata<=7.1,>=6.0->opentelemetry-api>=1.2.0->chromadb) (3.19.2)\n",
      "Requirement already satisfied: MarkupSafe>=2.0 in c:\\users\\xdxd2\\appdata\\local\\programs\\python\\python311\\lib\\site-packages (from jinja2>=2.11.2->fastapi>=0.95.2->chromadb) (2.1.5)\n",
      "Requirement already satisfied: markdown-it-py>=2.2.0 in c:\\users\\xdxd2\\appdata\\local\\programs\\python\\python311\\lib\\site-packages (from rich>=10.11.0->typer>=0.9.0->chromadb) (3.0.0)\n",
      "Requirement already satisfied: pygments<3.0.0,>=2.13.0 in c:\\users\\xdxd2\\appdata\\roaming\\python\\python311\\site-packages (from rich>=10.11.0->typer>=0.9.0->chromadb) (2.18.0)\n",
      "Requirement already satisfied: humanfriendly>=9.1 in c:\\users\\xdxd2\\appdata\\local\\programs\\python\\python311\\lib\\site-packages (from coloredlogs->onnxruntime>=1.14.1->chromadb) (10.0)\n",
      "Requirement already satisfied: mpmath<1.4.0,>=1.1.0 in c:\\users\\xdxd2\\appdata\\local\\programs\\python\\python311\\lib\\site-packages (from sympy->onnxruntime>=1.14.1->chromadb) (1.3.0)\n",
      "Requirement already satisfied: pyreadline3 in c:\\users\\xdxd2\\appdata\\local\\programs\\python\\python311\\lib\\site-packages (from humanfriendly>=9.1->coloredlogs->onnxruntime>=1.14.1->chromadb) (3.4.1)\n",
      "Requirement already satisfied: mdurl~=0.1 in c:\\users\\xdxd2\\appdata\\local\\programs\\python\\python311\\lib\\site-packages (from markdown-it-py>=2.2.0->rich>=10.11.0->typer>=0.9.0->chromadb) (0.1.2)\n",
      "Requirement already satisfied: pyasn1<0.7.0,>=0.4.6 in c:\\users\\xdxd2\\appdata\\local\\programs\\python\\python311\\lib\\site-packages (from pyasn1-modules>=0.2.1->google-auth>=1.0.1->kubernetes>=28.1.0->chromadb) (0.6.0)\n"
     ]
    },
    {
     "name": "stderr",
     "output_type": "stream",
     "text": [
      "\n",
      "[notice] A new release of pip is available: 24.1.1 -> 24.3.1\n",
      "[notice] To update, run: python.exe -m pip install --upgrade pip\n"
     ]
    },
    {
     "name": "stdout",
     "output_type": "stream",
     "text": [
      "Requirement already satisfied: langchain in c:\\users\\xdxd2\\appdata\\local\\programs\\python\\python311\\lib\\site-packages (0.2.5)\n",
      "Requirement already satisfied: PyYAML>=5.3 in c:\\users\\xdxd2\\appdata\\local\\programs\\python\\python311\\lib\\site-packages (from langchain) (6.0.1)\n",
      "Requirement already satisfied: SQLAlchemy<3,>=1.4 in c:\\users\\xdxd2\\appdata\\local\\programs\\python\\python311\\lib\\site-packages (from langchain) (1.4.53)\n",
      "Requirement already satisfied: aiohttp<4.0.0,>=3.8.3 in c:\\users\\xdxd2\\appdata\\local\\programs\\python\\python311\\lib\\site-packages (from langchain) (3.9.5)\n",
      "Requirement already satisfied: langchain-core<0.3.0,>=0.2.7 in c:\\users\\xdxd2\\appdata\\local\\programs\\python\\python311\\lib\\site-packages (from langchain) (0.2.9)\n",
      "Requirement already satisfied: langchain-text-splitters<0.3.0,>=0.2.0 in c:\\users\\xdxd2\\appdata\\local\\programs\\python\\python311\\lib\\site-packages (from langchain) (0.2.1)\n",
      "Requirement already satisfied: langsmith<0.2.0,>=0.1.17 in c:\\users\\xdxd2\\appdata\\local\\programs\\python\\python311\\lib\\site-packages (from langchain) (0.1.81)\n",
      "Requirement already satisfied: numpy<2,>=1 in c:\\users\\xdxd2\\appdata\\local\\programs\\python\\python311\\lib\\site-packages (from langchain) (1.24.3)\n",
      "Requirement already satisfied: pydantic<3,>=1 in c:\\users\\xdxd2\\appdata\\local\\programs\\python\\python311\\lib\\site-packages (from langchain) (2.7.4)\n",
      "Requirement already satisfied: requests<3,>=2 in c:\\users\\xdxd2\\appdata\\local\\programs\\python\\python311\\lib\\site-packages (from langchain) (2.32.3)\n",
      "Requirement already satisfied: tenacity<9.0.0,>=8.1.0 in c:\\users\\xdxd2\\appdata\\local\\programs\\python\\python311\\lib\\site-packages (from langchain) (8.4.1)\n",
      "Requirement already satisfied: aiosignal>=1.1.2 in c:\\users\\xdxd2\\appdata\\local\\programs\\python\\python311\\lib\\site-packages (from aiohttp<4.0.0,>=3.8.3->langchain) (1.3.1)\n",
      "Requirement already satisfied: attrs>=17.3.0 in c:\\users\\xdxd2\\appdata\\local\\programs\\python\\python311\\lib\\site-packages (from aiohttp<4.0.0,>=3.8.3->langchain) (23.2.0)\n",
      "Requirement already satisfied: frozenlist>=1.1.1 in c:\\users\\xdxd2\\appdata\\local\\programs\\python\\python311\\lib\\site-packages (from aiohttp<4.0.0,>=3.8.3->langchain) (1.4.1)\n",
      "Requirement already satisfied: multidict<7.0,>=4.5 in c:\\users\\xdxd2\\appdata\\local\\programs\\python\\python311\\lib\\site-packages (from aiohttp<4.0.0,>=3.8.3->langchain) (6.0.5)\n",
      "Requirement already satisfied: yarl<2.0,>=1.0 in c:\\users\\xdxd2\\appdata\\local\\programs\\python\\python311\\lib\\site-packages (from aiohttp<4.0.0,>=3.8.3->langchain) (1.9.4)\n",
      "Requirement already satisfied: jsonpatch<2.0,>=1.33 in c:\\users\\xdxd2\\appdata\\local\\programs\\python\\python311\\lib\\site-packages (from langchain-core<0.3.0,>=0.2.7->langchain) (1.33)\n",
      "Requirement already satisfied: packaging<25,>=23.2 in c:\\users\\xdxd2\\appdata\\roaming\\python\\python311\\site-packages (from langchain-core<0.3.0,>=0.2.7->langchain) (24.1)\n",
      "Requirement already satisfied: orjson<4.0.0,>=3.9.14 in c:\\users\\xdxd2\\appdata\\local\\programs\\python\\python311\\lib\\site-packages (from langsmith<0.2.0,>=0.1.17->langchain) (3.10.5)\n",
      "Requirement already satisfied: annotated-types>=0.4.0 in c:\\users\\xdxd2\\appdata\\local\\programs\\python\\python311\\lib\\site-packages (from pydantic<3,>=1->langchain) (0.7.0)\n",
      "Requirement already satisfied: pydantic-core==2.18.4 in c:\\users\\xdxd2\\appdata\\local\\programs\\python\\python311\\lib\\site-packages (from pydantic<3,>=1->langchain) (2.18.4)\n",
      "Requirement already satisfied: typing-extensions>=4.6.1 in c:\\users\\xdxd2\\appdata\\local\\programs\\python\\python311\\lib\\site-packages (from pydantic<3,>=1->langchain) (4.12.2)\n",
      "Requirement already satisfied: charset-normalizer<4,>=2 in c:\\users\\xdxd2\\appdata\\local\\programs\\python\\python311\\lib\\site-packages (from requests<3,>=2->langchain) (3.3.2)\n",
      "Requirement already satisfied: idna<4,>=2.5 in c:\\users\\xdxd2\\appdata\\local\\programs\\python\\python311\\lib\\site-packages (from requests<3,>=2->langchain) (3.7)\n",
      "Requirement already satisfied: urllib3<3,>=1.21.1 in c:\\users\\xdxd2\\appdata\\local\\programs\\python\\python311\\lib\\site-packages (from requests<3,>=2->langchain) (2.2.2)\n",
      "Requirement already satisfied: certifi>=2017.4.17 in c:\\users\\xdxd2\\appdata\\local\\programs\\python\\python311\\lib\\site-packages (from requests<3,>=2->langchain) (2024.6.2)\n",
      "Requirement already satisfied: greenlet!=0.4.17 in c:\\users\\xdxd2\\appdata\\local\\programs\\python\\python311\\lib\\site-packages (from SQLAlchemy<3,>=1.4->langchain) (3.0.3)\n",
      "Requirement already satisfied: jsonpointer>=1.9 in c:\\users\\xdxd2\\appdata\\local\\programs\\python\\python311\\lib\\site-packages (from jsonpatch<2.0,>=1.33->langchain-core<0.3.0,>=0.2.7->langchain) (3.0.0)\n"
     ]
    },
    {
     "name": "stderr",
     "output_type": "stream",
     "text": [
      "\n",
      "[notice] A new release of pip is available: 24.1.1 -> 24.3.1\n",
      "[notice] To update, run: python.exe -m pip install --upgrade pip\n"
     ]
    }
   ],
   "source": [
    "!pip install chromadb\n",
    "!pip install langchain"
   ]
  },
  {
   "cell_type": "code",
   "execution_count": 8,
   "metadata": {},
   "outputs": [],
   "source": [
    "import requests\n",
    "import json\n",
    "from pprint import pp"
   ]
  },
  {
   "cell_type": "code",
   "execution_count": 9,
   "metadata": {},
   "outputs": [],
   "source": [
    "def get_completion(messages, model=\"gpt-3.5-turbo\", temperature=0, max_tokens=1000, format_type=None):\n",
    "  payload = { \"model\": model, \"temperature\": temperature, \"messages\": messages, \"max_tokens\": max_tokens }\n",
    "  if format_type:\n",
    "    payload[\"response_format\"] =  { \"type\": format_type }\n",
    "\n",
    "  headers = { \"Authorization\": f'Bearer {openai_api_key}', \"Content-Type\": \"application/json\" }\n",
    "  response = requests.post('https://api.openai.com/v1/chat/completions', headers = headers, data = json.dumps(payload) )\n",
    "  obj = json.loads(response.text)\n",
    "  if response.status_code == 200 :\n",
    "    return obj[\"choices\"][0][\"message\"][\"content\"]\n",
    "  else :\n",
    "    return obj[\"error\"]"
   ]
  },
  {
   "cell_type": "code",
   "execution_count": 10,
   "metadata": {},
   "outputs": [],
   "source": [
    "def get_embeddings(input, dimensions = 1536, model=\"text-embedding-3-small\"):\n",
    "  payload = { \"input\": input, \"model\": model, \"dimensions\": dimensions }\n",
    "  headers = { \"Authorization\": f'Bearer {openai_api_key}', \"Content-Type\": \"application/json\" }\n",
    "  response = requests.post('https://api.openai.com/v1/embeddings', headers = headers, data = json.dumps(payload) )\n",
    "  obj = json.loads(response.text)\n",
    "  if response.status_code == 200 :\n",
    "    return obj[\"data\"][0][\"embedding\"]\n",
    "  else :\n",
    "    return obj[\"error\"]"
   ]
  },
  {
   "cell_type": "code",
   "execution_count": 11,
   "metadata": {},
   "outputs": [
    {
     "name": "stderr",
     "output_type": "stream",
     "text": [
      "\n",
      "[notice] A new release of pip is available: 24.1.1 -> 24.3.1\n",
      "[notice] To update, run: python.exe -m pip install --upgrade pip\n"
     ]
    }
   ],
   "source": [
    "!pip install pypdf -q"
   ]
  },
  {
   "cell_type": "markdown",
   "metadata": {},
   "source": [
    "測試資料準備\n",
    "財經週報 PDF 文件:\n",
    "\n",
    "* https://www.megabank.com.tw/personal/investment/bulletin/weekly-journal?searchyear=&searchmon=10"
   ]
  },
  {
   "cell_type": "code",
   "execution_count": 12,
   "metadata": {},
   "outputs": [
    {
     "name": "stdout",
     "output_type": "stream",
     "text": [
      "Downloaded: pdfs_data\\1130226.pdf\n",
      "Downloaded: pdfs_data\\1130219.pdf\n",
      "Downloaded: pdfs_data\\1130215.pdf\n",
      "Downloaded: pdfs_data\\1130205.pdf\n"
     ]
    }
   ],
   "source": [
    "import os\n",
    "import requests\n",
    "\n",
    "pdf_urls = [\n",
    "    [\"2024/2/26\",\"https://www.megabank.com.tw/-/media/mega/files/bank/personal/fund/bulletin/weekly-journal/market-analysis/113/1130226.pdf\"],\n",
    "    [\"2024/2/19\", \"https://www.megabank.com.tw/-/media/mega/files/bank/personal/fund/bulletin/weekly-journal/market-analysis/113/1130219.pdf\"],\n",
    "    [\"2024/2/15\", \"https://www.megabank.com.tw/-/media/mega/files/bank/personal/fund/bulletin/weekly-journal/market-analysis/113/1130215.pdf\"],\n",
    "    [\"2024/2/5\", \"https://www.megabank.com.tw/-/media/mega/files/bank/personal/fund/bulletin/weekly-journal/market-analysis/113/1130205.pdf\"]\n",
    "]\n",
    "\n",
    "download_directory = 'pdfs_data'\n",
    "os.makedirs(download_directory, exist_ok=True)  # 確保目標目錄存在\n",
    "\n",
    "for pdf_url in pdf_urls:\n",
    "    response = requests.get(pdf_url[1])\n",
    "    if response.status_code == 200:\n",
    "        target_path = os.path.join(download_directory, os.path.basename(pdf_url[1]))\n",
    "        with open(target_path, 'wb') as f:\n",
    "            f.write(response.content)\n",
    "        print(f\"Downloaded: {target_path}\")\n",
    "    else:\n",
    "        print(f\"Failed to download {pdf_url[1]}, status code: {response.status_code}\")\n"
   ]
  },
  {
   "cell_type": "markdown",
   "metadata": {},
   "source": [
    "## 建 vector data"
   ]
  },
  {
   "cell_type": "code",
   "execution_count": 13,
   "metadata": {},
   "outputs": [],
   "source": [
    "import chromadb\n",
    "chroma_client = chromadb.Client()\n",
    "\n",
    "collection = chroma_client.create_collection(name=\"collection\")"
   ]
  },
  {
   "cell_type": "code",
   "execution_count": 14,
   "metadata": {},
   "outputs": [],
   "source": [
    "from langchain.text_splitter import RecursiveCharacterTextSplitter\n",
    "text_splitter = RecursiveCharacterTextSplitter(chunk_size=500, chunk_overlap=100)\n",
    "\n",
    "\n",
    "# doc1 -> 0: 500\n",
    "# doc2 -> 400: 900\n",
    "# .\n",
    "# ."
   ]
  },
  {
   "cell_type": "code",
   "execution_count": 15,
   "metadata": {},
   "outputs": [],
   "source": [
    "# pip install -U langchain-community"
   ]
  },
  {
   "cell_type": "code",
   "execution_count": 16,
   "metadata": {},
   "outputs": [
    {
     "data": {
      "text/plain": [
       "'d:\\\\python_workspace\\\\github\\\\iSpan_LLM-NLP-cookbooks\\\\Langchain_scratch\\\\prompt-engineering\\\\pdfs_data'"
      ]
     },
     "execution_count": 16,
     "metadata": {},
     "output_type": "execute_result"
    }
   ],
   "source": [
    "# 獲取當前工作目錄\n",
    "current_directory = os.getcwd()\n",
    "\n",
    "# 定義 PDF 文件的目標目錄\n",
    "pdfs_directory = os.path.join(current_directory, \"pdfs_data\")\n",
    "\n",
    "pdfs_directory"
   ]
  },
  {
   "cell_type": "code",
   "execution_count": 17,
   "metadata": {},
   "outputs": [
    {
     "name": "stdout",
     "output_type": "stream",
     "text": [
      "d:\\python_workspace\\github\\iSpan_LLM-NLP-cookbooks\\Langchain_scratch\\prompt-engineering\\pdfs_data\\1130226.pdf\n"
     ]
    },
    {
     "name": "stderr",
     "output_type": "stream",
     "text": [
      "c:\\Users\\xdxd2\\AppData\\Local\\Programs\\Python\\Python311\\Lib\\site-packages\\pypdf\\_crypt_providers\\_cryptography.py:32: CryptographyDeprecationWarning: ARC4 has been moved to cryptography.hazmat.decrepit.ciphers.algorithms.ARC4 and will be removed from this module in 48.0.0.\n",
      "  from cryptography.hazmat.primitives.ciphers.algorithms import AES, ARC4\n"
     ]
    },
    {
     "name": "stdout",
     "output_type": "stream",
     "text": [
      "d:\\python_workspace\\github\\iSpan_LLM-NLP-cookbooks\\Langchain_scratch\\prompt-engineering\\pdfs_data\\1130219.pdf\n",
      "d:\\python_workspace\\github\\iSpan_LLM-NLP-cookbooks\\Langchain_scratch\\prompt-engineering\\pdfs_data\\1130215.pdf\n",
      "d:\\python_workspace\\github\\iSpan_LLM-NLP-cookbooks\\Langchain_scratch\\prompt-engineering\\pdfs_data\\1130205.pdf\n"
     ]
    }
   ],
   "source": [
    "import re\n",
    "from langchain.document_loaders import PyPDFLoader\n",
    "\n",
    "for i, pdf_url in enumerate(pdf_urls):\n",
    "  file_pattern = r\"([^/]+\\.pdf)\"\n",
    "  file_match = re.search(file_pattern, pdf_url[1])\n",
    "  pdf_filename = file_match.group(0) if file_match else None\n",
    "  pdf_file_path = os.path.join(pdfs_directory, pdf_filename)\n",
    "  print(pdf_file_path)\n",
    "\n",
    "  loader = PyPDFLoader(pdf_file_path)\n",
    "  text_docs = loader.load()\n",
    "\n",
    "  for page in text_docs:\n",
    "    chunks = text_splitter.split_text(page.page_content)\n",
    "    for j, chunk in enumerate(chunks):\n",
    "      collection.add(\n",
    "        documents = chunk,\n",
    "        embeddings = get_embeddings(chunk),\n",
    "        metadatas = { \"file\": pdf_filename, \"page\": page.metadata['page'], \"date\": pdf_url[0] },\n",
    "        ids = f\"doc-{i}-page-{page.metadata['page']}-chunk-{j}\"\n",
    "      )\n"
   ]
  },
  {
   "attachments": {
    "image-2.png": {
     "image/png": "[encoded data removed]"
    }
   },
   "cell_type": "markdown",
   "metadata": {},
   "source": [
    "## 2. Query expansion 和 HyDE\n",
    "\n",
    "調整搜尋向量資料庫的 Query，產生多種變形，搜出更多相似結果\n",
    "\n",
    "![image-2.png](attachment:image-2.png)"
   ]
  },
  {
   "cell_type": "code",
   "execution_count": 18,
   "metadata": {},
   "outputs": [],
   "source": [
    "# 方法一: 根據用戶問題，產生多種不同變形的 query\n",
    "# 或是拆解成子問題也不錯，例如\n",
    "#   You are a helpful assistant that expands a user query into sub-queries. The sub-queries should be mutually exclusive and collectively exhaustive.\n",
    "def generate_expansion_queries(original_query):\n",
    "  messages=[\n",
    "      {\"role\": \"system\", \"content\": \"You are a helpful assistant that generates multiple search queries based on a single input query.\"},\n",
    "      {\"role\": \"user\", \"content\": f\"Generate multiple search queries related to: {original_query}\"},\n",
    "      {\"role\": \"user\", \"content\": \"OUTPUT(3 queries):\"}\n",
    "  ]\n",
    "  result = get_completion(messages)\n",
    "  return result.strip().split(\"\\n\")\n",
    "\n",
    "# 方法二: 根據用戶問題，產生假設性的回答 (這招叫做 HyDE 法)\n",
    "def generate_hyde(original_query):\n",
    "  messages=[\n",
    "      {\"role\": \"system\", \"content\": \"Please write a short hypothetical answer for the question:\"},\n",
    "      {\"role\": \"user\", \"content\": original_query }\n",
    "  ]\n",
    "  result = get_completion(messages)\n",
    "  return result"
   ]
  },
  {
   "cell_type": "code",
   "execution_count": 19,
   "metadata": {},
   "outputs": [],
   "source": [
    "question = \"美國的經濟\"\n"
   ]
  },
  {
   "cell_type": "code",
   "execution_count": 20,
   "metadata": {},
   "outputs": [
    {
     "data": {
      "text/plain": [
       "['1. 美國的經濟增長情況', '2. 美國的經濟政策', '3. 美國的經濟發展趨勢']"
      ]
     },
     "execution_count": 20,
     "metadata": {},
     "output_type": "execute_result"
    }
   ],
   "source": [
    "generated_queries = generate_expansion_queries(question)\n",
    "generated_queries"
   ]
  },
  {
   "cell_type": "code",
   "execution_count": 21,
   "metadata": {},
   "outputs": [],
   "source": [
    "generated_answer = generate_hyde(question)\n",
    "generated_queries.append(generated_answer)\n"
   ]
  },
  {
   "cell_type": "code",
   "execution_count": 22,
   "metadata": {},
   "outputs": [
    {
     "data": {
      "text/plain": [
       "'美國的經濟一直以來都是全球最強大和最具影響力的之一。其經濟體系是一個混合經濟體系，結合了市場經濟和政府干預。美國擁有多元化的經濟結構，包括製造業、金融業、科技業等多個領域。此外，美國也是全球最大的消費市場之一，消費者信心和支出對經濟增長至關重要。總的來說，美國的經濟實力使其在國際舞台上扮演著重要的角色。'"
      ]
     },
     "execution_count": 22,
     "metadata": {},
     "output_type": "execute_result"
    }
   ],
   "source": [
    "generated_answer"
   ]
  },
  {
   "cell_type": "code",
   "execution_count": 23,
   "metadata": {},
   "outputs": [
    {
     "data": {
      "text/plain": [
       "['1. 美國的經濟增長情況',\n",
       " '2. 美國的經濟政策',\n",
       " '3. 美國的經濟發展趨勢',\n",
       " '美國的經濟一直以來都是全球最強大和最具影響力的之一。其經濟體系是一個混合經濟體系，結合了市場經濟和政府干預。美國擁有多元化的經濟結構，包括製造業、金融業、科技業等多個領域。此外，美國也是全球最大的消費市場之一，消費者信心和支出對經濟增長至關重要。總的來說，美國的經濟實力使其在國際舞台上扮演著重要的角色。']"
      ]
     },
     "execution_count": 23,
     "metadata": {},
     "output_type": "execute_result"
    }
   ],
   "source": [
    "generated_queries"
   ]
  },
  {
   "cell_type": "code",
   "execution_count": 24,
   "metadata": {},
   "outputs": [],
   "source": [
    "query_embeddings = [ get_embeddings(query) for query in generated_queries]"
   ]
  },
  {
   "cell_type": "code",
   "execution_count": 25,
   "metadata": {},
   "outputs": [],
   "source": [
    "results = collection.query(\n",
    "    query_embeddings = query_embeddings, # 這可以傳 array\n",
    "    n_results=3\n",
    ")"
   ]
  },
  {
   "cell_type": "code",
   "execution_count": 26,
   "metadata": {},
   "outputs": [
    {
     "data": {
      "text/plain": [
       "{'ids': [['doc-3-page-10-chunk-0',\n",
       "   'doc-2-page-3-chunk-1',\n",
       "   'doc-2-page-7-chunk-0'],\n",
       "  ['doc-3-page-9-chunk-1', 'doc-2-page-6-chunk-1', 'doc-0-page-6-chunk-1'],\n",
       "  ['doc-0-page-6-chunk-1', 'doc-3-page-10-chunk-1', 'doc-0-page-6-chunk-0'],\n",
       "  ['doc-3-page-10-chunk-0', 'doc-2-page-7-chunk-0', 'doc-0-page-6-chunk-0']],\n",
       " 'distances': [[0.8425810933113098, 0.8453899621963501, 0.8501354455947876],\n",
       "  [0.9477681517601013, 0.9909405708312988, 1.0115582942962646],\n",
       "  [0.9110623598098755, 0.9171887040138245, 0.9260700941085815],\n",
       "  [1.011621356010437, 1.026902198791504, 1.0414217710494995]],\n",
       " 'metadatas': [[{'date': '2024/2/5', 'file': '1130205.pdf', 'page': 10},\n",
       "   {'date': '2024/2/15', 'file': '1130215.pdf', 'page': 3},\n",
       "   {'date': '2024/2/15', 'file': '1130215.pdf', 'page': 7}],\n",
       "  [{'date': '2024/2/5', 'file': '1130205.pdf', 'page': 9},\n",
       "   {'date': '2024/2/15', 'file': '1130215.pdf', 'page': 6},\n",
       "   {'date': '2024/2/26', 'file': '1130226.pdf', 'page': 6}],\n",
       "  [{'date': '2024/2/26', 'file': '1130226.pdf', 'page': 6},\n",
       "   {'date': '2024/2/5', 'file': '1130205.pdf', 'page': 10},\n",
       "   {'date': '2024/2/26', 'file': '1130226.pdf', 'page': 6}],\n",
       "  [{'date': '2024/2/5', 'file': '1130205.pdf', 'page': 10},\n",
       "   {'date': '2024/2/15', 'file': '1130215.pdf', 'page': 7},\n",
       "   {'date': '2024/2/26', 'file': '1130226.pdf', 'page': 6}]],\n",
       " 'embeddings': None,\n",
       " 'documents': [['本資料純屬參考性質，兆豐商銀不作任何保證與承諾。上述資料，任何人因信賴此資料而做出或改變決策，本身須承擔一切風險，報告資料並無做出\\n買賣任何內文所涉及之證券建議、誘導及鼓勵相關交易。美國就業數據強勁 支撐消費信心\\n資料來源 :Blooberg,2024.2.2\\n11本資料純屬參考性質，兆豐商銀不作任何保證與承諾。上述資料，任何人因信賴此資料而做出或改變決策，本身須承擔一切風險，報告資料並無做出\\n買賣任何內文所涉及之證券建議、誘導及鼓勵相關交易。•製造業回溫： 1月ISM製造業指數升至 49.1，創15個月新高 ，不過供應延遲導致工廠成本上升 ，增添通膨升溫擔憂 。\\n•消費信心升至 3年高點： 民眾對經濟和就業市場更加樂觀 ，1月經濟諮商局消費者信心指數自去年 12月修正後的 108.0升至\\n114.8，為2021年底以來新高 ，1月密大消費者信心指數終值升至 79，創2005年以來最大單月增幅 。\\n•勞動市場強勁： 去年12月JOLTS職位空缺數報 902.6萬個，遠高於市場預期 。1月ADP就業人數 10.7萬人，雖創2023年11',\n",
       "   '中國 人民幣新增貸款 Jan 4,515.16 b 4,920.00b 1,170.9b\\n中國 社會融資 (人民幣 ) Jan 5,721.63 b 6,500.00b 1,940.1b\\n台灣 出口 (年比 ) Jan 17.30% 18.10% 11.80%\\n美國 CPI(年比 ) Jan 2.90% 3.10% 3.40%\\n美國 核心 CPI(年比 ) Jan 3.75% 3.90% 3.90%\\n歐元區 GDP年增率 2023 Q4 終值 0.10% 0.10% 0.10%\\n本週經濟數據\\n日期 國家 項目 資料期間 市場預期 前值\\n2/15 日本 GDP年增率 2023 Q4 1.40% -2.90%\\n2/15 美國 零售銷售 (月比 ) Jan 0.20% 0.60%\\n2/15 美國 工業生產 (月比 ) Jan 0.40% 0.10%\\n2/16 美國 PPI(年比 ) Jan -- 1.00%\\n2/16 美國 核心 PPI(年比 ) Jan -- 1.80%\\n2/16 美國 密大消費者信心指數 Feb -- 79.00',\n",
       "   '本資料純屬參考性質，兆豐商銀不作任何保證與承諾。上述資料，任何人因信賴此資料而做出或改變決策，本身須承擔一切風險，報告資料並無做出\\n買賣任何內文所涉及之證券建議、誘導及鼓勵相關交易。美國經濟數據強勁 支撐消費信心\\n資料來源 :Blooberg,2024.2.6\\n8本資料純屬參考性質，兆豐商銀不作任何保證與承諾。上述資料，任何人因信賴此資料而做出或改變決策，本身須承擔一切風險，報告資料並無做出\\n買賣任何內文所涉及之證券建議、誘導及鼓勵相關交易。•服務業景氣持續擴張 ，但紅海衝突引發供應鏈疑慮： 受訂單和就業成長推動 ，1月ISM服務業指數上升至 53.4的四個月高\\n點，其中新訂單的指數升至 55，創3個月高點 ，就業指標反彈至 50.5重返擴張 ，惟原料支付價格指數升至 64，增幅為\\n2012年以來最大 ，引發通膨重燃擔憂 。紐約Fed銀行調查顯示 ，1月全球供應鏈壓力指數從前月的 -0.15升至-0.11，反映\\n當前供應鏈壓力有所上升 ，紅海航運影響尚未完全顯現 。\\n•民眾對經濟和就業市場樂觀 ，消費信心強勁 。市\\n場\\n回\\n顧\\n市\\n場\\n焦\\n點\\n聚\\n焦\\n議\\n題\\n資\\n產\\n觀'],\n",
       "  ['•利率前瞻指引刪除「任何額外緊縮政策」措辭， 排除進\\n一步升息的可能性 ；在對通膨持續朝 2%目標邁進更有\\n信心前，不適合降息。\\n主席鮑爾談話\\n•聯準會可能已經完成本輪升息週期。\\n•還沒有準備好宣告經濟已實現軟著陸， 3 月降息並非基\\n本情境 。\\n•3月將深入討論縮表速度及資產負債表。■存款機構準備金 (右) ■附賣回協議 (右) ■財政部帳戶 (左)■聯準會資產負債表 -7.66 兆美元\\n%',\n",
       "   '投票權 Fed官員 談話內容\\n○聯準會主席\\n鮑爾Powell希望看到更多通膨降至 2%的證據，且經濟表\\n現強勁，審慎看待降息的問題\\n○理事\\n鮑曼Bowman在利率維持於當前水準下，通膨將進一步走\\n低，現在考慮降息仍為時過早\\n明尼阿波利斯\\n卡什卡里 Kashkari因經濟更具有韌性且有更高的中性利率，所\\n以有更多時間觀察經濟變化以決定何時降息\\n芝加哥\\n古爾斯比 Goolsbee需要看到更多數據支持 Fed正往2%通膨目標\\n前進，仍不排除 3月降息的可能性\\n○克里夫蘭\\n梅斯特 Mester若美國經濟表現符合預期，可能會為降息打\\n開大門，但在通膨持續不確定的情況下，尚\\n未準備好表態支持寬鬆\\n○ 里奇蒙\\n巴金Barkin美國通膨壓力仍有持續存在的風險聯準會官員打消 3月降息預期\\n資料來源 :Bloomberg ,2024.2.7\\n資料來源 :聯準會，彭博經濟研究 ,2024.2.6SLOOS 預示商業貸款接近低谷',\n",
       "   '新低，顯示就業市場持續強勁 。(3)經濟諮商局 1月份領先經濟指標報 102.7，較上月下降 0.4%，但不再預估景氣將衰退 。\\n•展望:2月美銀美林經理人報告 ，淨加碼美股及科技股 ，且做多驚奇 7股票列最擁擠交易首位 。短線美股因市場調整降息預\\n期、科技股累積不小漲幅而有所震盪 ，受惠基本面強勁及 AI題材助攻 ，美股可望維持多頭格局 ，逢回仍可分批佈局 。市\\n場\\n回\\n顧\\n市\\n場\\n焦\\n點\\n聚\\n焦\\n議\\n題美國景氣維持擴張態勢 2月美銀美林經理人報告加碼美股及科技股\\n資料來源 :Bloomberg,2024.2.23\\n 資料來源：BofA Global Fund Manager Survey,2024.2.13'],\n",
       "  ['新低，顯示就業市場持續強勁 。(3)經濟諮商局 1月份領先經濟指標報 102.7，較上月下降 0.4%，但不再預估景氣將衰退 。\\n•展望:2月美銀美林經理人報告 ，淨加碼美股及科技股 ，且做多驚奇 7股票列最擁擠交易首位 。短線美股因市場調整降息預\\n期、科技股累積不小漲幅而有所震盪 ，受惠基本面強勁及 AI題材助攻 ，美股可望維持多頭格局 ，逢回仍可分批佈局 。市\\n場\\n回\\n顧\\n市\\n場\\n焦\\n點\\n聚\\n焦\\n議\\n題美國景氣維持擴張態勢 2月美銀美林經理人報告加碼美股及科技股\\n資料來源 :Bloomberg,2024.2.23\\n 資料來源：BofA Global Fund Manager Survey,2024.2.13',\n",
       "   '•勞動市場強勁： 去年12月JOLTS職位空缺數報 902.6萬個，遠高於市場預期 。1月ADP就業人數 10.7萬人，雖創2023年11\\n月來最小增幅 ，但非農就業人數大增至 35.3萬人、失業率持平 3.7%、薪資年增率攀升至 4.5%。\\n•展望：在經濟數據強勁下 ，市場推遲聯準會降息時點預期 ，惟主要科技巨頭財報表現錯綜 ，反映AI需求雖強勁但仍難抵\\n銷傳統業務因成長放緩的影響 ，加上技術指標過熱 ，短線美股 面臨震盪回調 風險。市\\n場\\n回\\n顧\\n市\\n場\\n焦\\n點\\n聚\\n焦\\n議\\n題\\n資\\n產\\n觀\\n點ISM製造業 /非製造業指數 美國消費者信心指數 % 美國非農就業與薪資成長\\n01002003004005006007008009001000\\n01234567\\n2021/01\\n2021/04\\n2021/07\\n2021/10\\n2022/01\\n2022/04\\n2022/07\\n2022/10\\n2023/01\\n2023/04\\n2023/07\\n2023/10\\n2024/01\\n美國非農就業人口淨變動 (千人 ,右)\\n美國平均時薪變動 (年%,左)',\n",
       "   '本資料純屬參考性質，兆豐商銀不作任何保證與承諾。上述資料，任何人因信賴此資料而做出或改變決策，本身須承擔一切風險，報告資料並無做出\\n買賣任何內文所涉及之證券建議、誘導及鼓勵相關交易。美國經濟穩固 科技股領美股創新高\\n7本資料純屬參考性質，兆豐商銀不作任何保證與承諾。上述資料，任何人因信賴此資料而做出或改變決策，本身須承擔一切風險，報告資料並無做出\\n買賣任何內文所涉及之證券建議、誘導及鼓勵相關交易。•上週表現 :Nvidia財報及財測均優於預期 ，加上經濟數據強勁 ，科技股領美股再創歷史新高 。\\n•經濟數據 :(1)標普全球 2月美國製造業採購經理人 (PMI)初值報 51.5，創17個月以來新高；但服務業 PMI初值報 51.3，創3\\n個月新低 ，致綜合 PMI初值降至 51.4，低於預期 ，整體景氣維持擴張態勢 。(2)上週初領失業金人數降至 20.1萬，創1個月\\n新低，顯示就業市場持續強勁 。(3)經濟諮商局 1月份領先經濟指標報 102.7，較上月下降 0.4%，但不再預估景氣將衰退 。'],\n",
       "  ['本資料純屬參考性質，兆豐商銀不作任何保證與承諾。上述資料，任何人因信賴此資料而做出或改變決策，本身須承擔一切風險，報告資料並無做出\\n買賣任何內文所涉及之證券建議、誘導及鼓勵相關交易。美國就業數據強勁 支撐消費信心\\n資料來源 :Blooberg,2024.2.2\\n11本資料純屬參考性質，兆豐商銀不作任何保證與承諾。上述資料，任何人因信賴此資料而做出或改變決策，本身須承擔一切風險，報告資料並無做出\\n買賣任何內文所涉及之證券建議、誘導及鼓勵相關交易。•製造業回溫： 1月ISM製造業指數升至 49.1，創15個月新高 ，不過供應延遲導致工廠成本上升 ，增添通膨升溫擔憂 。\\n•消費信心升至 3年高點： 民眾對經濟和就業市場更加樂觀 ，1月經濟諮商局消費者信心指數自去年 12月修正後的 108.0升至\\n114.8，為2021年底以來新高 ，1月密大消費者信心指數終值升至 79，創2005年以來最大單月增幅 。\\n•勞動市場強勁： 去年12月JOLTS職位空缺數報 902.6萬個，遠高於市場預期 。1月ADP就業人數 10.7萬人，雖創2023年11',\n",
       "   '本資料純屬參考性質，兆豐商銀不作任何保證與承諾。上述資料，任何人因信賴此資料而做出或改變決策，本身須承擔一切風險，報告資料並無做出\\n買賣任何內文所涉及之證券建議、誘導及鼓勵相關交易。美國經濟數據強勁 支撐消費信心\\n資料來源 :Blooberg,2024.2.6\\n8本資料純屬參考性質，兆豐商銀不作任何保證與承諾。上述資料，任何人因信賴此資料而做出或改變決策，本身須承擔一切風險，報告資料並無做出\\n買賣任何內文所涉及之證券建議、誘導及鼓勵相關交易。•服務業景氣持續擴張 ，但紅海衝突引發供應鏈疑慮： 受訂單和就業成長推動 ，1月ISM服務業指數上升至 53.4的四個月高\\n點，其中新訂單的指數升至 55，創3個月高點 ，就業指標反彈至 50.5重返擴張 ，惟原料支付價格指數升至 64，增幅為\\n2012年以來最大 ，引發通膨重燃擔憂 。紐約Fed銀行調查顯示 ，1月全球供應鏈壓力指數從前月的 -0.15升至-0.11，反映\\n當前供應鏈壓力有所上升 ，紅海航運影響尚未完全顯現 。\\n•民眾對經濟和就業市場樂觀 ，消費信心強勁 。市\\n場\\n回\\n顧\\n市\\n場\\n焦\\n點\\n聚\\n焦\\n議\\n題\\n資\\n產\\n觀',\n",
       "   '本資料純屬參考性質，兆豐商銀不作任何保證與承諾。上述資料，任何人因信賴此資料而做出或改變決策，本身須承擔一切風險，報告資料並無做出\\n買賣任何內文所涉及之證券建議、誘導及鼓勵相關交易。美國經濟穩固 科技股領美股創新高\\n7本資料純屬參考性質，兆豐商銀不作任何保證與承諾。上述資料，任何人因信賴此資料而做出或改變決策，本身須承擔一切風險，報告資料並無做出\\n買賣任何內文所涉及之證券建議、誘導及鼓勵相關交易。•上週表現 :Nvidia財報及財測均優於預期 ，加上經濟數據強勁 ，科技股領美股再創歷史新高 。\\n•經濟數據 :(1)標普全球 2月美國製造業採購經理人 (PMI)初值報 51.5，創17個月以來新高；但服務業 PMI初值報 51.3，創3\\n個月新低 ，致綜合 PMI初值降至 51.4，低於預期 ，整體景氣維持擴張態勢 。(2)上週初領失業金人數降至 20.1萬，創1個月\\n新低，顯示就業市場持續強勁 。(3)經濟諮商局 1月份領先經濟指標報 102.7，較上月下降 0.4%，但不再預估景氣將衰退 。']],\n",
       " 'uris': None,\n",
       " 'data': None,\n",
       " 'included': ['metadatas', 'documents', 'distances']}"
      ]
     },
     "execution_count": 26,
     "metadata": {},
     "output_type": "execute_result"
    }
   ],
   "source": [
    "results"
   ]
  },
  {
   "cell_type": "code",
   "execution_count": 27,
   "metadata": {},
   "outputs": [
    {
     "data": {
      "text/plain": [
       "4"
      ]
     },
     "execution_count": 27,
     "metadata": {},
     "output_type": "execute_result"
    }
   ],
   "source": [
    "len(results[\"documents\"])"
   ]
  },
  {
   "cell_type": "markdown",
   "metadata": {},
   "source": [
    "我們會得到 5 個搜尋結果列表，每個列表有 3 筆結果。"
   ]
  },
  {
   "cell_type": "code",
   "execution_count": 28,
   "metadata": {},
   "outputs": [
    {
     "data": {
      "text/plain": [
       "['1. 美國的經濟增長情況',\n",
       " '2. 美國的經濟政策',\n",
       " '3. 美國的經濟發展趨勢',\n",
       " '美國的經濟一直以來都是全球最強大和最具影響力的之一。其經濟體系是一個混合經濟體系，結合了市場經濟和政府干預。美國擁有多元化的經濟結構，包括製造業、金融業、科技業等多個領域。此外，美國也是全球最大的消費市場之一，消費者信心和支出對經濟增長至關重要。總的來說，美國的經濟實力使其在國際舞台上扮演著重要的角色。']"
      ]
     },
     "execution_count": 28,
     "metadata": {},
     "output_type": "execute_result"
    }
   ],
   "source": [
    "generated_queries"
   ]
  },
  {
   "cell_type": "code",
   "execution_count": 29,
   "metadata": {},
   "outputs": [
    {
     "data": {
      "text/plain": [
       "[['本資料純屬參考性質，兆豐商銀不作任何保證與承諾。上述資料，任何人因信賴此資料而做出或改變決策，本身須承擔一切風險，報告資料並無做出\\n買賣任何內文所涉及之證券建議、誘導及鼓勵相關交易。美國就業數據強勁 支撐消費信心\\n資料來源 :Blooberg,2024.2.2\\n11本資料純屬參考性質，兆豐商銀不作任何保證與承諾。上述資料，任何人因信賴此資料而做出或改變決策，本身須承擔一切風險，報告資料並無做出\\n買賣任何內文所涉及之證券建議、誘導及鼓勵相關交易。•製造業回溫： 1月ISM製造業指數升至 49.1，創15個月新高 ，不過供應延遲導致工廠成本上升 ，增添通膨升溫擔憂 。\\n•消費信心升至 3年高點： 民眾對經濟和就業市場更加樂觀 ，1月經濟諮商局消費者信心指數自去年 12月修正後的 108.0升至\\n114.8，為2021年底以來新高 ，1月密大消費者信心指數終值升至 79，創2005年以來最大單月增幅 。\\n•勞動市場強勁： 去年12月JOLTS職位空缺數報 902.6萬個，遠高於市場預期 。1月ADP就業人數 10.7萬人，雖創2023年11',\n",
       "  '中國 人民幣新增貸款 Jan 4,515.16 b 4,920.00b 1,170.9b\\n中國 社會融資 (人民幣 ) Jan 5,721.63 b 6,500.00b 1,940.1b\\n台灣 出口 (年比 ) Jan 17.30% 18.10% 11.80%\\n美國 CPI(年比 ) Jan 2.90% 3.10% 3.40%\\n美國 核心 CPI(年比 ) Jan 3.75% 3.90% 3.90%\\n歐元區 GDP年增率 2023 Q4 終值 0.10% 0.10% 0.10%\\n本週經濟數據\\n日期 國家 項目 資料期間 市場預期 前值\\n2/15 日本 GDP年增率 2023 Q4 1.40% -2.90%\\n2/15 美國 零售銷售 (月比 ) Jan 0.20% 0.60%\\n2/15 美國 工業生產 (月比 ) Jan 0.40% 0.10%\\n2/16 美國 PPI(年比 ) Jan -- 1.00%\\n2/16 美國 核心 PPI(年比 ) Jan -- 1.80%\\n2/16 美國 密大消費者信心指數 Feb -- 79.00',\n",
       "  '本資料純屬參考性質，兆豐商銀不作任何保證與承諾。上述資料，任何人因信賴此資料而做出或改變決策，本身須承擔一切風險，報告資料並無做出\\n買賣任何內文所涉及之證券建議、誘導及鼓勵相關交易。美國經濟數據強勁 支撐消費信心\\n資料來源 :Blooberg,2024.2.6\\n8本資料純屬參考性質，兆豐商銀不作任何保證與承諾。上述資料，任何人因信賴此資料而做出或改變決策，本身須承擔一切風險，報告資料並無做出\\n買賣任何內文所涉及之證券建議、誘導及鼓勵相關交易。•服務業景氣持續擴張 ，但紅海衝突引發供應鏈疑慮： 受訂單和就業成長推動 ，1月ISM服務業指數上升至 53.4的四個月高\\n點，其中新訂單的指數升至 55，創3個月高點 ，就業指標反彈至 50.5重返擴張 ，惟原料支付價格指數升至 64，增幅為\\n2012年以來最大 ，引發通膨重燃擔憂 。紐約Fed銀行調查顯示 ，1月全球供應鏈壓力指數從前月的 -0.15升至-0.11，反映\\n當前供應鏈壓力有所上升 ，紅海航運影響尚未完全顯現 。\\n•民眾對經濟和就業市場樂觀 ，消費信心強勁 。市\\n場\\n回\\n顧\\n市\\n場\\n焦\\n點\\n聚\\n焦\\n議\\n題\\n資\\n產\\n觀'],\n",
       " ['•利率前瞻指引刪除「任何額外緊縮政策」措辭， 排除進\\n一步升息的可能性 ；在對通膨持續朝 2%目標邁進更有\\n信心前，不適合降息。\\n主席鮑爾談話\\n•聯準會可能已經完成本輪升息週期。\\n•還沒有準備好宣告經濟已實現軟著陸， 3 月降息並非基\\n本情境 。\\n•3月將深入討論縮表速度及資產負債表。■存款機構準備金 (右) ■附賣回協議 (右) ■財政部帳戶 (左)■聯準會資產負債表 -7.66 兆美元\\n%',\n",
       "  '投票權 Fed官員 談話內容\\n○聯準會主席\\n鮑爾Powell希望看到更多通膨降至 2%的證據，且經濟表\\n現強勁，審慎看待降息的問題\\n○理事\\n鮑曼Bowman在利率維持於當前水準下，通膨將進一步走\\n低，現在考慮降息仍為時過早\\n明尼阿波利斯\\n卡什卡里 Kashkari因經濟更具有韌性且有更高的中性利率，所\\n以有更多時間觀察經濟變化以決定何時降息\\n芝加哥\\n古爾斯比 Goolsbee需要看到更多數據支持 Fed正往2%通膨目標\\n前進，仍不排除 3月降息的可能性\\n○克里夫蘭\\n梅斯特 Mester若美國經濟表現符合預期，可能會為降息打\\n開大門，但在通膨持續不確定的情況下，尚\\n未準備好表態支持寬鬆\\n○ 里奇蒙\\n巴金Barkin美國通膨壓力仍有持續存在的風險聯準會官員打消 3月降息預期\\n資料來源 :Bloomberg ,2024.2.7\\n資料來源 :聯準會，彭博經濟研究 ,2024.2.6SLOOS 預示商業貸款接近低谷',\n",
       "  '新低，顯示就業市場持續強勁 。(3)經濟諮商局 1月份領先經濟指標報 102.7，較上月下降 0.4%，但不再預估景氣將衰退 。\\n•展望:2月美銀美林經理人報告 ，淨加碼美股及科技股 ，且做多驚奇 7股票列最擁擠交易首位 。短線美股因市場調整降息預\\n期、科技股累積不小漲幅而有所震盪 ，受惠基本面強勁及 AI題材助攻 ，美股可望維持多頭格局 ，逢回仍可分批佈局 。市\\n場\\n回\\n顧\\n市\\n場\\n焦\\n點\\n聚\\n焦\\n議\\n題美國景氣維持擴張態勢 2月美銀美林經理人報告加碼美股及科技股\\n資料來源 :Bloomberg,2024.2.23\\n 資料來源：BofA Global Fund Manager Survey,2024.2.13'],\n",
       " ['新低，顯示就業市場持續強勁 。(3)經濟諮商局 1月份領先經濟指標報 102.7，較上月下降 0.4%，但不再預估景氣將衰退 。\\n•展望:2月美銀美林經理人報告 ，淨加碼美股及科技股 ，且做多驚奇 7股票列最擁擠交易首位 。短線美股因市場調整降息預\\n期、科技股累積不小漲幅而有所震盪 ，受惠基本面強勁及 AI題材助攻 ，美股可望維持多頭格局 ，逢回仍可分批佈局 。市\\n場\\n回\\n顧\\n市\\n場\\n焦\\n點\\n聚\\n焦\\n議\\n題美國景氣維持擴張態勢 2月美銀美林經理人報告加碼美股及科技股\\n資料來源 :Bloomberg,2024.2.23\\n 資料來源：BofA Global Fund Manager Survey,2024.2.13',\n",
       "  '•勞動市場強勁： 去年12月JOLTS職位空缺數報 902.6萬個，遠高於市場預期 。1月ADP就業人數 10.7萬人，雖創2023年11\\n月來最小增幅 ，但非農就業人數大增至 35.3萬人、失業率持平 3.7%、薪資年增率攀升至 4.5%。\\n•展望：在經濟數據強勁下 ，市場推遲聯準會降息時點預期 ，惟主要科技巨頭財報表現錯綜 ，反映AI需求雖強勁但仍難抵\\n銷傳統業務因成長放緩的影響 ，加上技術指標過熱 ，短線美股 面臨震盪回調 風險。市\\n場\\n回\\n顧\\n市\\n場\\n焦\\n點\\n聚\\n焦\\n議\\n題\\n資\\n產\\n觀\\n點ISM製造業 /非製造業指數 美國消費者信心指數 % 美國非農就業與薪資成長\\n01002003004005006007008009001000\\n01234567\\n2021/01\\n2021/04\\n2021/07\\n2021/10\\n2022/01\\n2022/04\\n2022/07\\n2022/10\\n2023/01\\n2023/04\\n2023/07\\n2023/10\\n2024/01\\n美國非農就業人口淨變動 (千人 ,右)\\n美國平均時薪變動 (年%,左)',\n",
       "  '本資料純屬參考性質，兆豐商銀不作任何保證與承諾。上述資料，任何人因信賴此資料而做出或改變決策，本身須承擔一切風險，報告資料並無做出\\n買賣任何內文所涉及之證券建議、誘導及鼓勵相關交易。美國經濟穩固 科技股領美股創新高\\n7本資料純屬參考性質，兆豐商銀不作任何保證與承諾。上述資料，任何人因信賴此資料而做出或改變決策，本身須承擔一切風險，報告資料並無做出\\n買賣任何內文所涉及之證券建議、誘導及鼓勵相關交易。•上週表現 :Nvidia財報及財測均優於預期 ，加上經濟數據強勁 ，科技股領美股再創歷史新高 。\\n•經濟數據 :(1)標普全球 2月美國製造業採購經理人 (PMI)初值報 51.5，創17個月以來新高；但服務業 PMI初值報 51.3，創3\\n個月新低 ，致綜合 PMI初值降至 51.4，低於預期 ，整體景氣維持擴張態勢 。(2)上週初領失業金人數降至 20.1萬，創1個月\\n新低，顯示就業市場持續強勁 。(3)經濟諮商局 1月份領先經濟指標報 102.7，較上月下降 0.4%，但不再預估景氣將衰退 。'],\n",
       " ['本資料純屬參考性質，兆豐商銀不作任何保證與承諾。上述資料，任何人因信賴此資料而做出或改變決策，本身須承擔一切風險，報告資料並無做出\\n買賣任何內文所涉及之證券建議、誘導及鼓勵相關交易。美國就業數據強勁 支撐消費信心\\n資料來源 :Blooberg,2024.2.2\\n11本資料純屬參考性質，兆豐商銀不作任何保證與承諾。上述資料，任何人因信賴此資料而做出或改變決策，本身須承擔一切風險，報告資料並無做出\\n買賣任何內文所涉及之證券建議、誘導及鼓勵相關交易。•製造業回溫： 1月ISM製造業指數升至 49.1，創15個月新高 ，不過供應延遲導致工廠成本上升 ，增添通膨升溫擔憂 。\\n•消費信心升至 3年高點： 民眾對經濟和就業市場更加樂觀 ，1月經濟諮商局消費者信心指數自去年 12月修正後的 108.0升至\\n114.8，為2021年底以來新高 ，1月密大消費者信心指數終值升至 79，創2005年以來最大單月增幅 。\\n•勞動市場強勁： 去年12月JOLTS職位空缺數報 902.6萬個，遠高於市場預期 。1月ADP就業人數 10.7萬人，雖創2023年11',\n",
       "  '本資料純屬參考性質，兆豐商銀不作任何保證與承諾。上述資料，任何人因信賴此資料而做出或改變決策，本身須承擔一切風險，報告資料並無做出\\n買賣任何內文所涉及之證券建議、誘導及鼓勵相關交易。美國經濟數據強勁 支撐消費信心\\n資料來源 :Blooberg,2024.2.6\\n8本資料純屬參考性質，兆豐商銀不作任何保證與承諾。上述資料，任何人因信賴此資料而做出或改變決策，本身須承擔一切風險，報告資料並無做出\\n買賣任何內文所涉及之證券建議、誘導及鼓勵相關交易。•服務業景氣持續擴張 ，但紅海衝突引發供應鏈疑慮： 受訂單和就業成長推動 ，1月ISM服務業指數上升至 53.4的四個月高\\n點，其中新訂單的指數升至 55，創3個月高點 ，就業指標反彈至 50.5重返擴張 ，惟原料支付價格指數升至 64，增幅為\\n2012年以來最大 ，引發通膨重燃擔憂 。紐約Fed銀行調查顯示 ，1月全球供應鏈壓力指數從前月的 -0.15升至-0.11，反映\\n當前供應鏈壓力有所上升 ，紅海航運影響尚未完全顯現 。\\n•民眾對經濟和就業市場樂觀 ，消費信心強勁 。市\\n場\\n回\\n顧\\n市\\n場\\n焦\\n點\\n聚\\n焦\\n議\\n題\\n資\\n產\\n觀',\n",
       "  '本資料純屬參考性質，兆豐商銀不作任何保證與承諾。上述資料，任何人因信賴此資料而做出或改變決策，本身須承擔一切風險，報告資料並無做出\\n買賣任何內文所涉及之證券建議、誘導及鼓勵相關交易。美國經濟穩固 科技股領美股創新高\\n7本資料純屬參考性質，兆豐商銀不作任何保證與承諾。上述資料，任何人因信賴此資料而做出或改變決策，本身須承擔一切風險，報告資料並無做出\\n買賣任何內文所涉及之證券建議、誘導及鼓勵相關交易。•上週表現 :Nvidia財報及財測均優於預期 ，加上經濟數據強勁 ，科技股領美股再創歷史新高 。\\n•經濟數據 :(1)標普全球 2月美國製造業採購經理人 (PMI)初值報 51.5，創17個月以來新高；但服務業 PMI初值報 51.3，創3\\n個月新低 ，致綜合 PMI初值降至 51.4，低於預期 ，整體景氣維持擴張態勢 。(2)上週初領失業金人數降至 20.1萬，創1個月\\n新低，顯示就業市場持續強勁 。(3)經濟諮商局 1月份領先經濟指標報 102.7，較上月下降 0.4%，但不再預估景氣將衰退 。']]"
      ]
     },
     "execution_count": 29,
     "metadata": {},
     "output_type": "execute_result"
    }
   ],
   "source": [
    "results[\"documents\"]"
   ]
  },
  {
   "cell_type": "code",
   "execution_count": 30,
   "metadata": {},
   "outputs": [
    {
     "name": "stdout",
     "output_type": "stream",
     "text": [
      "d:\\python_workspace\\github\\iSpan_LLM-NLP-cookbooks\\Langchain_scratch\\prompt-engineering\\pdfs_data\\1130226.pdf\n",
      "0\n",
      "1\n",
      "2\n",
      "3\n",
      "5. 本資料所載內容取⾃本公司相信可靠之資料來源 ，且為特定日期之判斷 ，本公司不保證其即時性 、精確性及完整性 ，亦不提供或嘗試遊說客戶做為投資之判斷依據 。\n",
      "資料內容邇後若有變更 ，本公司將不做預告或主動更新 。投資人於決策時應審慎衡量本身風險 ，如因信賴本資料內容而做出或改變投資決策 ，須⾃行承擔結果 ，本\n",
      "公司及本公司所屬員工 ，均不負任何損害賠償及其他法律上之責任 。\n",
      "6. 本資料內容之著作權屬兆豐銀行所有 ，禁止就所載資料任何形式之抄襲 、引用或轉載 。\n",
      "7. 本資料所載部分基金涉及非投資等級債 ，投資人投資以非投資等級債券為訴求之基金不宜占其投資組合過高之比重 。基金經金管會核准 ，惟不表示絕無風險 。由於\n",
      "非投資等級債券之信用評等未達投資等級或未經信用評等 ，且對利率變動的敏感度甚高 ，故本基金可能會因利率上升 、市場流動性下降 ，或債券發行機構違約不支\n",
      "付本金 、利息或破產而蒙受虧損 。部分基金不適合無法承擔相關風險之投資人 。基金經理公司以往之經理績效不保證基金之最低投資收益；基金經理公司除盡善良\n",
      "4\n",
      "5\n",
      "6\n",
      "7\n",
      "8\n",
      "9\n",
      "10\n",
      "11\n",
      "12\n",
      "13\n",
      "14\n",
      "15\n",
      "d:\\python_workspace\\github\\iSpan_LLM-NLP-cookbooks\\Langchain_scratch\\prompt-engineering\\pdfs_data\\1130219.pdf\n",
      "0\n",
      "1\n",
      "2\n",
      "3\n",
      "4\n",
      "5\n",
      "6\n",
      "7\n",
      "8\n",
      "9\n",
      "10\n",
      "11\n",
      "12\n",
      "13\n",
      "14\n",
      "d:\\python_workspace\\github\\iSpan_LLM-NLP-cookbooks\\Langchain_scratch\\prompt-engineering\\pdfs_data\\1130215.pdf\n",
      "0\n",
      "1\n",
      "2\n",
      "3\n",
      "4\n",
      "5\n",
      "6\n",
      "7\n",
      "8\n",
      "9\n",
      "10\n",
      "11\n",
      "12\n",
      "13\n",
      "14\n",
      "d:\\python_workspace\\github\\iSpan_LLM-NLP-cookbooks\\Langchain_scratch\\prompt-engineering\\pdfs_data\\1130205.pdf\n",
      "0\n",
      "1\n",
      "2\n",
      "3\n",
      "4\n",
      "5\n",
      "6\n",
      "7\n",
      "8\n",
      "9\n",
      "10\n",
      "11\n",
      "12\n",
      "13\n",
      "14\n",
      "15\n",
      "16\n"
     ]
    }
   ],
   "source": [
    "import re\n",
    "from langchain.document_loaders import PyPDFLoader\n",
    "\n",
    "for i, pdf_url in enumerate(pdf_urls):\n",
    "  file_pattern = r\"([^/]+\\.pdf)\"\n",
    "  file_match = re.search(file_pattern, pdf_url[1])\n",
    "  pdf_filename = file_match.group(0) if file_match else None\n",
    "  pdf_file_path = os.path.join(pdfs_directory, pdf_filename)\n",
    "  print(pdf_file_path)\n",
    "\n",
    "  loader = PyPDFLoader(pdf_file_path)\n",
    "  text_docs = loader.load()\n",
    "\n",
    "\n",
    "  for page in text_docs:\n",
    "    print(page.metadata[\"page\"])\n",
    "    # chunks = text_splitter.split_text(page.page_content)\n",
    "    for j, chunk in enumerate(chunks):\n",
    "      # 'doc-0-page-3-chunk-1\n",
    "      if i == 0 and page.metadata[\"page\"] == 3 and j == 1:\n",
    "          print(chunk)\n",
    " \n",
    "      else:\n",
    "        continue\n",
    "\n",
    "        "
   ]
  },
  {
   "cell_type": "code",
   "execution_count": 31,
   "metadata": {},
   "outputs": [
    {
     "name": "stdout",
     "output_type": "stream",
     "text": [
      "###############問題 1. 美國的經濟增長情況\n",
      "答案: 本資料純屬參考性質，兆豐商銀不作任何保證與承諾。上述資料，任何人因信賴此資料而做出或改變決策，本身須承擔一切風險，報告資料並無做出\n",
      "買賣任何內文所涉及之證券建議、誘導及鼓勵相關交易。美國就業數據強勁 支撐消費信心\n",
      "資料來源 :Blooberg,2024.2.2\n",
      "11本資料純屬參考性質，兆豐商銀不作任何保證與承諾。上述資料，任何人因信賴此資料而做出或改變決策，本身須承擔一切風險，報告資料並無做出\n",
      "買賣任何內文所涉及之證券建議、誘導及鼓勵相關交易。•製造業回溫： 1月ISM製造業指數升至 49.1，創15個月新高 ，不過供應延遲導致工廠成本上升 ，增添通膨升溫擔憂 。\n",
      "•消費信心升至 3年高點： 民眾對經濟和就業市場更加樂觀 ，1月經濟諮商局消費者信心指數自去年 12月修正後的 108.0升至\n",
      "114.8，為2021年底以來新高 ，1月密大消費者信心指數終值升至 79，創2005年以來最大單月增幅 。\n",
      "•勞動市場強勁： 去年12月JOLTS職位空缺數報 902.6萬個，遠高於市場預期 。1月ADP就業人數 10.7萬人，雖創2023年11\n",
      "-------\n",
      "###############問題 2. 美國的經濟政策\n",
      "答案: •利率前瞻指引刪除「任何額外緊縮政策」措辭， 排除進\n",
      "一步升息的可能性 ；在對通膨持續朝 2%目標邁進更有\n",
      "信心前，不適合降息。\n",
      "主席鮑爾談話\n",
      "•聯準會可能已經完成本輪升息週期。\n",
      "•還沒有準備好宣告經濟已實現軟著陸， 3 月降息並非基\n",
      "本情境 。\n",
      "•3月將深入討論縮表速度及資產負債表。■存款機構準備金 (右) ■附賣回協議 (右) ■財政部帳戶 (左)■聯準會資產負債表 -7.66 兆美元\n",
      "%\n",
      "-------\n",
      "###############問題 3. 美國的經濟發展趨勢\n",
      "答案: 新低，顯示就業市場持續強勁 。(3)經濟諮商局 1月份領先經濟指標報 102.7，較上月下降 0.4%，但不再預估景氣將衰退 。\n",
      "•展望:2月美銀美林經理人報告 ，淨加碼美股及科技股 ，且做多驚奇 7股票列最擁擠交易首位 。短線美股因市場調整降息預\n",
      "期、科技股累積不小漲幅而有所震盪 ，受惠基本面強勁及 AI題材助攻 ，美股可望維持多頭格局 ，逢回仍可分批佈局 。市\n",
      "場\n",
      "回\n",
      "顧\n",
      "市\n",
      "場\n",
      "焦\n",
      "點\n",
      "聚\n",
      "焦\n",
      "議\n",
      "題美國景氣維持擴張態勢 2月美銀美林經理人報告加碼美股及科技股\n",
      "資料來源 :Bloomberg,2024.2.23\n",
      " 資料來源：BofA Global Fund Manager Survey,2024.2.13\n",
      "-------\n",
      "###############問題 美國的經濟一直以來都是全球最強大和最具影響力的之一。其經濟體系是一個混合經濟體系，結合了市場經濟和政府干預。美國擁有多元化的經濟結構，包括製造業、金融業、科技業等多個領域。此外，美國也是全球最大的消費市場之一，消費者信心和支出對經濟增長至關重要。總的來說，美國的經濟實力使其在國際舞台上扮演著重要的角色。\n",
      "答案: 本資料純屬參考性質，兆豐商銀不作任何保證與承諾。上述資料，任何人因信賴此資料而做出或改變決策，本身須承擔一切風險，報告資料並無做出\n",
      "買賣任何內文所涉及之證券建議、誘導及鼓勵相關交易。美國就業數據強勁 支撐消費信心\n",
      "資料來源 :Blooberg,2024.2.2\n",
      "11本資料純屬參考性質，兆豐商銀不作任何保證與承諾。上述資料，任何人因信賴此資料而做出或改變決策，本身須承擔一切風險，報告資料並無做出\n",
      "買賣任何內文所涉及之證券建議、誘導及鼓勵相關交易。•製造業回溫： 1月ISM製造業指數升至 49.1，創15個月新高 ，不過供應延遲導致工廠成本上升 ，增添通膨升溫擔憂 。\n",
      "•消費信心升至 3年高點： 民眾對經濟和就業市場更加樂觀 ，1月經濟諮商局消費者信心指數自去年 12月修正後的 108.0升至\n",
      "114.8，為2021年底以來新高 ，1月密大消費者信心指數終值升至 79，創2005年以來最大單月增幅 。\n",
      "•勞動市場強勁： 去年12月JOLTS職位空缺數報 902.6萬個，遠高於市場預期 。1月ADP就業人數 10.7萬人，雖創2023年11\n",
      "-------\n"
     ]
    }
   ],
   "source": [
    "for QA in zip(generated_queries, results[\"documents\"]):\n",
    "    print(f\"###############問題 {QA[0]}\")\n",
    "    print(f\"答案: {QA[1][0]}\")\n",
    "    print(\"-------\")\n",
    "\n",
    "    "
   ]
  },
  {
   "cell_type": "code",
   "execution_count": 32,
   "metadata": {},
   "outputs": [
    {
     "data": {
      "text/plain": [
       "12"
      ]
     },
     "execution_count": 32,
     "metadata": {},
     "output_type": "execute_result"
    }
   ],
   "source": [
    "all_chunks = [item for sublist in results[\"documents\"] for item in sublist]\n",
    "\n",
    "len(all_chunks)"
   ]
  },
  {
   "cell_type": "markdown",
   "metadata": {},
   "source": [
    "## 3. Re-ranking\n",
    "\n",
    "我們有了多個搜尋結果列表，需要合併起來排序，然後只取前幾筆最相關的，不然 context window 塞不下。\n",
    "\n",
    "這裡我們使用 https://huggingface.co/BAAI/bge-reranker-base 這個開源的 Reranker model"
   ]
  },
  {
   "cell_type": "code",
   "execution_count": 33,
   "metadata": {},
   "outputs": [
    {
     "name": "stdout",
     "output_type": "stream",
     "text": [
      "Requirement already satisfied: sentence_transformers in c:\\users\\xdxd2\\appdata\\local\\programs\\python\\python311\\lib\\site-packages (3.0.1)\n",
      "Requirement already satisfied: transformers<5.0.0,>=4.34.0 in c:\\users\\xdxd2\\appdata\\local\\programs\\python\\python311\\lib\\site-packages (from sentence_transformers) (4.41.2)\n",
      "Requirement already satisfied: tqdm in c:\\users\\xdxd2\\appdata\\local\\programs\\python\\python311\\lib\\site-packages (from sentence_transformers) (4.66.4)\n",
      "Requirement already satisfied: torch>=1.11.0 in c:\\users\\xdxd2\\appdata\\local\\programs\\python\\python311\\lib\\site-packages (from sentence_transformers) (2.3.1+cu118)\n",
      "Requirement already satisfied: numpy in c:\\users\\xdxd2\\appdata\\local\\programs\\python\\python311\\lib\\site-packages (from sentence_transformers) (1.24.3)\n",
      "Requirement already satisfied: scikit-learn in c:\\users\\xdxd2\\appdata\\local\\programs\\python\\python311\\lib\\site-packages (from sentence_transformers) (1.5.0)\n",
      "Requirement already satisfied: scipy in c:\\users\\xdxd2\\appdata\\local\\programs\\python\\python311\\lib\\site-packages (from sentence_transformers) (1.13.1)\n",
      "Requirement already satisfied: huggingface-hub>=0.15.1 in c:\\users\\xdxd2\\appdata\\local\\programs\\python\\python311\\lib\\site-packages (from sentence_transformers) (0.23.4)\n",
      "Requirement already satisfied: Pillow in c:\\users\\xdxd2\\appdata\\local\\programs\\python\\python311\\lib\\site-packages (from sentence_transformers) (10.3.0)\n",
      "Requirement already satisfied: filelock in c:\\users\\xdxd2\\appdata\\local\\programs\\python\\python311\\lib\\site-packages (from huggingface-hub>=0.15.1->sentence_transformers) (3.15.3)\n",
      "Requirement already satisfied: fsspec>=2023.5.0 in c:\\users\\xdxd2\\appdata\\local\\programs\\python\\python311\\lib\\site-packages (from huggingface-hub>=0.15.1->sentence_transformers) (2024.6.0)\n",
      "Requirement already satisfied: packaging>=20.9 in c:\\users\\xdxd2\\appdata\\roaming\\python\\python311\\site-packages (from huggingface-hub>=0.15.1->sentence_transformers) (24.1)\n",
      "Requirement already satisfied: pyyaml>=5.1 in c:\\users\\xdxd2\\appdata\\local\\programs\\python\\python311\\lib\\site-packages (from huggingface-hub>=0.15.1->sentence_transformers) (6.0.1)\n",
      "Requirement already satisfied: requests in c:\\users\\xdxd2\\appdata\\local\\programs\\python\\python311\\lib\\site-packages (from huggingface-hub>=0.15.1->sentence_transformers) (2.32.3)\n",
      "Requirement already satisfied: typing-extensions>=3.7.4.3 in c:\\users\\xdxd2\\appdata\\local\\programs\\python\\python311\\lib\\site-packages (from huggingface-hub>=0.15.1->sentence_transformers) (4.12.2)\n",
      "Requirement already satisfied: sympy in c:\\users\\xdxd2\\appdata\\local\\programs\\python\\python311\\lib\\site-packages (from torch>=1.11.0->sentence_transformers) (1.12.1)\n",
      "Requirement already satisfied: networkx in c:\\users\\xdxd2\\appdata\\local\\programs\\python\\python311\\lib\\site-packages (from torch>=1.11.0->sentence_transformers) (3.3)\n",
      "Requirement already satisfied: jinja2 in c:\\users\\xdxd2\\appdata\\local\\programs\\python\\python311\\lib\\site-packages (from torch>=1.11.0->sentence_transformers) (3.1.4)\n",
      "Requirement already satisfied: mkl<=2021.4.0,>=2021.1.1 in c:\\users\\xdxd2\\appdata\\local\\programs\\python\\python311\\lib\\site-packages (from torch>=1.11.0->sentence_transformers) (2021.4.0)\n",
      "Requirement already satisfied: colorama in c:\\users\\xdxd2\\appdata\\roaming\\python\\python311\\site-packages (from tqdm->sentence_transformers) (0.4.6)\n",
      "Requirement already satisfied: regex!=2019.12.17 in c:\\users\\xdxd2\\appdata\\local\\programs\\python\\python311\\lib\\site-packages (from transformers<5.0.0,>=4.34.0->sentence_transformers) (2024.5.15)\n",
      "Requirement already satisfied: tokenizers<0.20,>=0.19 in c:\\users\\xdxd2\\appdata\\local\\programs\\python\\python311\\lib\\site-packages (from transformers<5.0.0,>=4.34.0->sentence_transformers) (0.19.1)\n",
      "Requirement already satisfied: safetensors>=0.4.1 in c:\\users\\xdxd2\\appdata\\local\\programs\\python\\python311\\lib\\site-packages (from transformers<5.0.0,>=4.34.0->sentence_transformers) (0.4.3)\n",
      "Requirement already satisfied: joblib>=1.2.0 in c:\\users\\xdxd2\\appdata\\local\\programs\\python\\python311\\lib\\site-packages (from scikit-learn->sentence_transformers) (1.4.2)\n",
      "Requirement already satisfied: threadpoolctl>=3.1.0 in c:\\users\\xdxd2\\appdata\\local\\programs\\python\\python311\\lib\\site-packages (from scikit-learn->sentence_transformers) (3.5.0)\n",
      "Requirement already satisfied: intel-openmp==2021.* in c:\\users\\xdxd2\\appdata\\local\\programs\\python\\python311\\lib\\site-packages (from mkl<=2021.4.0,>=2021.1.1->torch>=1.11.0->sentence_transformers) (2021.4.0)\n",
      "Requirement already satisfied: tbb==2021.* in c:\\users\\xdxd2\\appdata\\local\\programs\\python\\python311\\lib\\site-packages (from mkl<=2021.4.0,>=2021.1.1->torch>=1.11.0->sentence_transformers) (2021.13.0)\n",
      "Requirement already satisfied: MarkupSafe>=2.0 in c:\\users\\xdxd2\\appdata\\local\\programs\\python\\python311\\lib\\site-packages (from jinja2->torch>=1.11.0->sentence_transformers) (2.1.5)\n",
      "Requirement already satisfied: charset-normalizer<4,>=2 in c:\\users\\xdxd2\\appdata\\local\\programs\\python\\python311\\lib\\site-packages (from requests->huggingface-hub>=0.15.1->sentence_transformers) (3.3.2)\n",
      "Requirement already satisfied: idna<4,>=2.5 in c:\\users\\xdxd2\\appdata\\local\\programs\\python\\python311\\lib\\site-packages (from requests->huggingface-hub>=0.15.1->sentence_transformers) (3.7)\n",
      "Requirement already satisfied: urllib3<3,>=1.21.1 in c:\\users\\xdxd2\\appdata\\local\\programs\\python\\python311\\lib\\site-packages (from requests->huggingface-hub>=0.15.1->sentence_transformers) (2.2.2)\n",
      "Requirement already satisfied: certifi>=2017.4.17 in c:\\users\\xdxd2\\appdata\\local\\programs\\python\\python311\\lib\\site-packages (from requests->huggingface-hub>=0.15.1->sentence_transformers) (2024.6.2)\n",
      "Requirement already satisfied: mpmath<1.4.0,>=1.1.0 in c:\\users\\xdxd2\\appdata\\local\\programs\\python\\python311\\lib\\site-packages (from sympy->torch>=1.11.0->sentence_transformers) (1.3.0)\n"
     ]
    },
    {
     "name": "stderr",
     "output_type": "stream",
     "text": [
      "\n",
      "[notice] A new release of pip is available: 24.1.1 -> 24.3.1\n",
      "[notice] To update, run: python.exe -m pip install --upgrade pip\n"
     ]
    }
   ],
   "source": [
    "!pip install sentence_transformers"
   ]
  },
  {
   "cell_type": "markdown",
   "metadata": {},
   "source": [
    "CrossEncoder 是一種基於 Transformer 的模型，用於比較和評分兩個句子的相關性。它將兩個句子拼接後通過共享的 Transformer 編碼器生成一個評分，表示句子之間的相似度。由於對句子對進行整體編碼，CrossEncoder 能捕捉更多的上下文信息，因此在一些任務中比 Bi-Encoder 更精確。\n",
    "\n",
    "主要特點：\n",
    "\n",
    "整體編碼：對兩個句子整體編碼，捕捉上下文關係。\n",
    "高精度：提供比 Bi-Encoder 更高的準確度。\n",
    "資源需求：需要較高計算資源。\n",
    "應用場景：\n",
    "\n",
    "資訊檢索\n",
    "問答系統\n",
    "文本匹配"
   ]
  },
  {
   "cell_type": "code",
   "execution_count": 34,
   "metadata": {},
   "outputs": [
    {
     "name": "stderr",
     "output_type": "stream",
     "text": [
      "c:\\Users\\xdxd2\\AppData\\Local\\Programs\\Python\\Python311\\Lib\\site-packages\\sentence_transformers\\cross_encoder\\CrossEncoder.py:11: TqdmExperimentalWarning: Using `tqdm.autonotebook.tqdm` in notebook mode. Use `tqdm.tqdm` instead to force console mode (e.g. in jupyter console)\n",
      "  from tqdm.autonotebook import tqdm, trange\n",
      "c:\\Users\\xdxd2\\AppData\\Local\\Programs\\Python\\Python311\\Lib\\site-packages\\huggingface_hub\\file_download.py:1132: FutureWarning: `resume_download` is deprecated and will be removed in version 1.0.0. Downloads always resume when possible. If you want to force a new download, use `force_download=True`.\n",
      "  warnings.warn(\n"
     ]
    }
   ],
   "source": [
    "from sentence_transformers import CrossEncoder\n",
    "\n",
    "cross_encoder = CrossEncoder('BAAI/bge-reranker-base') # base 要 1.1G，large 要 2.24G"
   ]
  },
  {
   "cell_type": "code",
   "execution_count": 35,
   "metadata": {},
   "outputs": [
    {
     "name": "stdout",
     "output_type": "stream",
     "text": [
      "相關性分數: \n",
      "0.30887714\n",
      "0.058532283\n",
      "0.84121907\n",
      "0.09172355\n",
      "0.3793249\n",
      "0.631784\n",
      "0.631784\n",
      "0.15371348\n",
      "0.86371\n",
      "0.30887714\n",
      "0.84121907\n",
      "0.86371\n"
     ]
    }
   ],
   "source": [
    "pairs = [[question, doc] for doc in all_chunks]\n",
    "scores = cross_encoder.predict(pairs)\n",
    "print(\"相關性分數: \")\n",
    "for score in scores:\n",
    "    print(score)"
   ]
  },
  {
   "cell_type": "code",
   "execution_count": 36,
   "metadata": {},
   "outputs": [],
   "source": [
    "import numpy as np"
   ]
  },
  {
   "cell_type": "code",
   "execution_count": 37,
   "metadata": {},
   "outputs": [
    {
     "data": {
      "text/plain": [
       "array([11,  8, 10,  2,  6,  5,  4,  9,  0,  7,  3,  1], dtype=int64)"
      ]
     },
     "execution_count": 37,
     "metadata": {},
     "output_type": "execute_result"
    }
   ],
   "source": [
    "ordered_index = np.argsort(scores)[::-1]\n",
    "ordered_index"
   ]
  },
  {
   "cell_type": "code",
   "execution_count": 38,
   "metadata": {},
   "outputs": [
    {
     "data": {
      "text/plain": [
       "['本資料純屬參考性質，兆豐商銀不作任何保證與承諾。上述資料，任何人因信賴此資料而做出或改變決策，本身須承擔一切風險，報告資料並無做出\\n買賣任何內文所涉及之證券建議、誘導及鼓勵相關交易。美國就業數據強勁 支撐消費信心\\n資料來源 :Blooberg,2024.2.2\\n11本資料純屬參考性質，兆豐商銀不作任何保證與承諾。上述資料，任何人因信賴此資料而做出或改變決策，本身須承擔一切風險，報告資料並無做出\\n買賣任何內文所涉及之證券建議、誘導及鼓勵相關交易。•製造業回溫： 1月ISM製造業指數升至 49.1，創15個月新高 ，不過供應延遲導致工廠成本上升 ，增添通膨升溫擔憂 。\\n•消費信心升至 3年高點： 民眾對經濟和就業市場更加樂觀 ，1月經濟諮商局消費者信心指數自去年 12月修正後的 108.0升至\\n114.8，為2021年底以來新高 ，1月密大消費者信心指數終值升至 79，創2005年以來最大單月增幅 。\\n•勞動市場強勁： 去年12月JOLTS職位空缺數報 902.6萬個，遠高於市場預期 。1月ADP就業人數 10.7萬人，雖創2023年11',\n",
       " '中國 人民幣新增貸款 Jan 4,515.16 b 4,920.00b 1,170.9b\\n中國 社會融資 (人民幣 ) Jan 5,721.63 b 6,500.00b 1,940.1b\\n台灣 出口 (年比 ) Jan 17.30% 18.10% 11.80%\\n美國 CPI(年比 ) Jan 2.90% 3.10% 3.40%\\n美國 核心 CPI(年比 ) Jan 3.75% 3.90% 3.90%\\n歐元區 GDP年增率 2023 Q4 終值 0.10% 0.10% 0.10%\\n本週經濟數據\\n日期 國家 項目 資料期間 市場預期 前值\\n2/15 日本 GDP年增率 2023 Q4 1.40% -2.90%\\n2/15 美國 零售銷售 (月比 ) Jan 0.20% 0.60%\\n2/15 美國 工業生產 (月比 ) Jan 0.40% 0.10%\\n2/16 美國 PPI(年比 ) Jan -- 1.00%\\n2/16 美國 核心 PPI(年比 ) Jan -- 1.80%\\n2/16 美國 密大消費者信心指數 Feb -- 79.00',\n",
       " '本資料純屬參考性質，兆豐商銀不作任何保證與承諾。上述資料，任何人因信賴此資料而做出或改變決策，本身須承擔一切風險，報告資料並無做出\\n買賣任何內文所涉及之證券建議、誘導及鼓勵相關交易。美國經濟數據強勁 支撐消費信心\\n資料來源 :Blooberg,2024.2.6\\n8本資料純屬參考性質，兆豐商銀不作任何保證與承諾。上述資料，任何人因信賴此資料而做出或改變決策，本身須承擔一切風險，報告資料並無做出\\n買賣任何內文所涉及之證券建議、誘導及鼓勵相關交易。•服務業景氣持續擴張 ，但紅海衝突引發供應鏈疑慮： 受訂單和就業成長推動 ，1月ISM服務業指數上升至 53.4的四個月高\\n點，其中新訂單的指數升至 55，創3個月高點 ，就業指標反彈至 50.5重返擴張 ，惟原料支付價格指數升至 64，增幅為\\n2012年以來最大 ，引發通膨重燃擔憂 。紐約Fed銀行調查顯示 ，1月全球供應鏈壓力指數從前月的 -0.15升至-0.11，反映\\n當前供應鏈壓力有所上升 ，紅海航運影響尚未完全顯現 。\\n•民眾對經濟和就業市場樂觀 ，消費信心強勁 。市\\n場\\n回\\n顧\\n市\\n場\\n焦\\n點\\n聚\\n焦\\n議\\n題\\n資\\n產\\n觀',\n",
       " '•利率前瞻指引刪除「任何額外緊縮政策」措辭， 排除進\\n一步升息的可能性 ；在對通膨持續朝 2%目標邁進更有\\n信心前，不適合降息。\\n主席鮑爾談話\\n•聯準會可能已經完成本輪升息週期。\\n•還沒有準備好宣告經濟已實現軟著陸， 3 月降息並非基\\n本情境 。\\n•3月將深入討論縮表速度及資產負債表。■存款機構準備金 (右) ■附賣回協議 (右) ■財政部帳戶 (左)■聯準會資產負債表 -7.66 兆美元\\n%',\n",
       " '投票權 Fed官員 談話內容\\n○聯準會主席\\n鮑爾Powell希望看到更多通膨降至 2%的證據，且經濟表\\n現強勁，審慎看待降息的問題\\n○理事\\n鮑曼Bowman在利率維持於當前水準下，通膨將進一步走\\n低，現在考慮降息仍為時過早\\n明尼阿波利斯\\n卡什卡里 Kashkari因經濟更具有韌性且有更高的中性利率，所\\n以有更多時間觀察經濟變化以決定何時降息\\n芝加哥\\n古爾斯比 Goolsbee需要看到更多數據支持 Fed正往2%通膨目標\\n前進，仍不排除 3月降息的可能性\\n○克里夫蘭\\n梅斯特 Mester若美國經濟表現符合預期，可能會為降息打\\n開大門，但在通膨持續不確定的情況下，尚\\n未準備好表態支持寬鬆\\n○ 里奇蒙\\n巴金Barkin美國通膨壓力仍有持續存在的風險聯準會官員打消 3月降息預期\\n資料來源 :Bloomberg ,2024.2.7\\n資料來源 :聯準會，彭博經濟研究 ,2024.2.6SLOOS 預示商業貸款接近低谷',\n",
       " '新低，顯示就業市場持續強勁 。(3)經濟諮商局 1月份領先經濟指標報 102.7，較上月下降 0.4%，但不再預估景氣將衰退 。\\n•展望:2月美銀美林經理人報告 ，淨加碼美股及科技股 ，且做多驚奇 7股票列最擁擠交易首位 。短線美股因市場調整降息預\\n期、科技股累積不小漲幅而有所震盪 ，受惠基本面強勁及 AI題材助攻 ，美股可望維持多頭格局 ，逢回仍可分批佈局 。市\\n場\\n回\\n顧\\n市\\n場\\n焦\\n點\\n聚\\n焦\\n議\\n題美國景氣維持擴張態勢 2月美銀美林經理人報告加碼美股及科技股\\n資料來源 :Bloomberg,2024.2.23\\n 資料來源：BofA Global Fund Manager Survey,2024.2.13',\n",
       " '新低，顯示就業市場持續強勁 。(3)經濟諮商局 1月份領先經濟指標報 102.7，較上月下降 0.4%，但不再預估景氣將衰退 。\\n•展望:2月美銀美林經理人報告 ，淨加碼美股及科技股 ，且做多驚奇 7股票列最擁擠交易首位 。短線美股因市場調整降息預\\n期、科技股累積不小漲幅而有所震盪 ，受惠基本面強勁及 AI題材助攻 ，美股可望維持多頭格局 ，逢回仍可分批佈局 。市\\n場\\n回\\n顧\\n市\\n場\\n焦\\n點\\n聚\\n焦\\n議\\n題美國景氣維持擴張態勢 2月美銀美林經理人報告加碼美股及科技股\\n資料來源 :Bloomberg,2024.2.23\\n 資料來源：BofA Global Fund Manager Survey,2024.2.13',\n",
       " '•勞動市場強勁： 去年12月JOLTS職位空缺數報 902.6萬個，遠高於市場預期 。1月ADP就業人數 10.7萬人，雖創2023年11\\n月來最小增幅 ，但非農就業人數大增至 35.3萬人、失業率持平 3.7%、薪資年增率攀升至 4.5%。\\n•展望：在經濟數據強勁下 ，市場推遲聯準會降息時點預期 ，惟主要科技巨頭財報表現錯綜 ，反映AI需求雖強勁但仍難抵\\n銷傳統業務因成長放緩的影響 ，加上技術指標過熱 ，短線美股 面臨震盪回調 風險。市\\n場\\n回\\n顧\\n市\\n場\\n焦\\n點\\n聚\\n焦\\n議\\n題\\n資\\n產\\n觀\\n點ISM製造業 /非製造業指數 美國消費者信心指數 % 美國非農就業與薪資成長\\n01002003004005006007008009001000\\n01234567\\n2021/01\\n2021/04\\n2021/07\\n2021/10\\n2022/01\\n2022/04\\n2022/07\\n2022/10\\n2023/01\\n2023/04\\n2023/07\\n2023/10\\n2024/01\\n美國非農就業人口淨變動 (千人 ,右)\\n美國平均時薪變動 (年%,左)',\n",
       " '本資料純屬參考性質，兆豐商銀不作任何保證與承諾。上述資料，任何人因信賴此資料而做出或改變決策，本身須承擔一切風險，報告資料並無做出\\n買賣任何內文所涉及之證券建議、誘導及鼓勵相關交易。美國經濟穩固 科技股領美股創新高\\n7本資料純屬參考性質，兆豐商銀不作任何保證與承諾。上述資料，任何人因信賴此資料而做出或改變決策，本身須承擔一切風險，報告資料並無做出\\n買賣任何內文所涉及之證券建議、誘導及鼓勵相關交易。•上週表現 :Nvidia財報及財測均優於預期 ，加上經濟數據強勁 ，科技股領美股再創歷史新高 。\\n•經濟數據 :(1)標普全球 2月美國製造業採購經理人 (PMI)初值報 51.5，創17個月以來新高；但服務業 PMI初值報 51.3，創3\\n個月新低 ，致綜合 PMI初值降至 51.4，低於預期 ，整體景氣維持擴張態勢 。(2)上週初領失業金人數降至 20.1萬，創1個月\\n新低，顯示就業市場持續強勁 。(3)經濟諮商局 1月份領先經濟指標報 102.7，較上月下降 0.4%，但不再預估景氣將衰退 。',\n",
       " '本資料純屬參考性質，兆豐商銀不作任何保證與承諾。上述資料，任何人因信賴此資料而做出或改變決策，本身須承擔一切風險，報告資料並無做出\\n買賣任何內文所涉及之證券建議、誘導及鼓勵相關交易。美國就業數據強勁 支撐消費信心\\n資料來源 :Blooberg,2024.2.2\\n11本資料純屬參考性質，兆豐商銀不作任何保證與承諾。上述資料，任何人因信賴此資料而做出或改變決策，本身須承擔一切風險，報告資料並無做出\\n買賣任何內文所涉及之證券建議、誘導及鼓勵相關交易。•製造業回溫： 1月ISM製造業指數升至 49.1，創15個月新高 ，不過供應延遲導致工廠成本上升 ，增添通膨升溫擔憂 。\\n•消費信心升至 3年高點： 民眾對經濟和就業市場更加樂觀 ，1月經濟諮商局消費者信心指數自去年 12月修正後的 108.0升至\\n114.8，為2021年底以來新高 ，1月密大消費者信心指數終值升至 79，創2005年以來最大單月增幅 。\\n•勞動市場強勁： 去年12月JOLTS職位空缺數報 902.6萬個，遠高於市場預期 。1月ADP就業人數 10.7萬人，雖創2023年11',\n",
       " '本資料純屬參考性質，兆豐商銀不作任何保證與承諾。上述資料，任何人因信賴此資料而做出或改變決策，本身須承擔一切風險，報告資料並無做出\\n買賣任何內文所涉及之證券建議、誘導及鼓勵相關交易。美國經濟數據強勁 支撐消費信心\\n資料來源 :Blooberg,2024.2.6\\n8本資料純屬參考性質，兆豐商銀不作任何保證與承諾。上述資料，任何人因信賴此資料而做出或改變決策，本身須承擔一切風險，報告資料並無做出\\n買賣任何內文所涉及之證券建議、誘導及鼓勵相關交易。•服務業景氣持續擴張 ，但紅海衝突引發供應鏈疑慮： 受訂單和就業成長推動 ，1月ISM服務業指數上升至 53.4的四個月高\\n點，其中新訂單的指數升至 55，創3個月高點 ，就業指標反彈至 50.5重返擴張 ，惟原料支付價格指數升至 64，增幅為\\n2012年以來最大 ，引發通膨重燃擔憂 。紐約Fed銀行調查顯示 ，1月全球供應鏈壓力指數從前月的 -0.15升至-0.11，反映\\n當前供應鏈壓力有所上升 ，紅海航運影響尚未完全顯現 。\\n•民眾對經濟和就業市場樂觀 ，消費信心強勁 。市\\n場\\n回\\n顧\\n市\\n場\\n焦\\n點\\n聚\\n焦\\n議\\n題\\n資\\n產\\n觀',\n",
       " '本資料純屬參考性質，兆豐商銀不作任何保證與承諾。上述資料，任何人因信賴此資料而做出或改變決策，本身須承擔一切風險，報告資料並無做出\\n買賣任何內文所涉及之證券建議、誘導及鼓勵相關交易。美國經濟穩固 科技股領美股創新高\\n7本資料純屬參考性質，兆豐商銀不作任何保證與承諾。上述資料，任何人因信賴此資料而做出或改變決策，本身須承擔一切風險，報告資料並無做出\\n買賣任何內文所涉及之證券建議、誘導及鼓勵相關交易。•上週表現 :Nvidia財報及財測均優於預期 ，加上經濟數據強勁 ，科技股領美股再創歷史新高 。\\n•經濟數據 :(1)標普全球 2月美國製造業採購經理人 (PMI)初值報 51.5，創17個月以來新高；但服務業 PMI初值報 51.3，創3\\n個月新低 ，致綜合 PMI初值降至 51.4，低於預期 ，整體景氣維持擴張態勢 。(2)上週初領失業金人數降至 20.1萬，創1個月\\n新低，顯示就業市場持續強勁 。(3)經濟諮商局 1月份領先經濟指標報 102.7，較上月下降 0.4%，但不再預估景氣將衰退 。']"
      ]
     },
     "execution_count": 38,
     "metadata": {},
     "output_type": "execute_result"
    }
   ],
   "source": [
    "all_chunks"
   ]
  },
  {
   "cell_type": "code",
   "execution_count": 39,
   "metadata": {},
   "outputs": [
    {
     "name": "stdout",
     "output_type": "stream",
     "text": [
      "本資料純屬參考性質，兆豐商銀不作任何保證與承諾。上述資料，任何人因信賴此資料而做出或改變決策，本身須承擔一切風險，報告資料並無做出\n",
      "買賣任何內文所涉及之證券建議、誘導及鼓勵相關交易。美國經濟穩固 科技股領美股創新高\n",
      "7本資料純屬參考性質，兆豐商銀不作任何保證與承諾。上述資料，任何人因信賴此資料而做出或改變決策，本身須承擔一切風險，報告資料並無做出\n",
      "買賣任何內文所涉及之證券建議、誘導及鼓勵相關交易。•上週表現 :Nvidia財報及財測均優於預期 ，加上經濟數據強勁 ，科技股領美股再創歷史新高 。\n",
      "•經濟數據 :(1)標普全球 2月美國製造業採購經理人 (PMI)初值報 51.5，創17個月以來新高；但服務業 PMI初值報 51.3，創3\n",
      "個月新低 ，致綜合 PMI初值降至 51.4，低於預期 ，整體景氣維持擴張態勢 。(2)上週初領失業金人數降至 20.1萬，創1個月\n",
      "新低，顯示就業市場持續強勁 。(3)經濟諮商局 1月份領先經濟指標報 102.7，較上月下降 0.4%，但不再預估景氣將衰退 。\n",
      "本資料純屬參考性質，兆豐商銀不作任何保證與承諾。上述資料，任何人因信賴此資料而做出或改變決策，本身須承擔一切風險，報告資料並無做出\n",
      "買賣任何內文所涉及之證券建議、誘導及鼓勵相關交易。美國經濟穩固 科技股領美股創新高\n",
      "7本資料純屬參考性質，兆豐商銀不作任何保證與承諾。上述資料，任何人因信賴此資料而做出或改變決策，本身須承擔一切風險，報告資料並無做出\n",
      "買賣任何內文所涉及之證券建議、誘導及鼓勵相關交易。•上週表現 :Nvidia財報及財測均優於預期 ，加上經濟數據強勁 ，科技股領美股再創歷史新高 。\n",
      "•經濟數據 :(1)標普全球 2月美國製造業採購經理人 (PMI)初值報 51.5，創17個月以來新高；但服務業 PMI初值報 51.3，創3\n",
      "個月新低 ，致綜合 PMI初值降至 51.4，低於預期 ，整體景氣維持擴張態勢 。(2)上週初領失業金人數降至 20.1萬，創1個月\n",
      "新低，顯示就業市場持續強勁 。(3)經濟諮商局 1月份領先經濟指標報 102.7，較上月下降 0.4%，但不再預估景氣將衰退 。\n",
      "本資料純屬參考性質，兆豐商銀不作任何保證與承諾。上述資料，任何人因信賴此資料而做出或改變決策，本身須承擔一切風險，報告資料並無做出\n",
      "買賣任何內文所涉及之證券建議、誘導及鼓勵相關交易。美國經濟數據強勁 支撐消費信心\n",
      "資料來源 :Blooberg,2024.2.6\n",
      "8本資料純屬參考性質，兆豐商銀不作任何保證與承諾。上述資料，任何人因信賴此資料而做出或改變決策，本身須承擔一切風險，報告資料並無做出\n",
      "買賣任何內文所涉及之證券建議、誘導及鼓勵相關交易。•服務業景氣持續擴張 ，但紅海衝突引發供應鏈疑慮： 受訂單和就業成長推動 ，1月ISM服務業指數上升至 53.4的四個月高\n",
      "點，其中新訂單的指數升至 55，創3個月高點 ，就業指標反彈至 50.5重返擴張 ，惟原料支付價格指數升至 64，增幅為\n",
      "2012年以來最大 ，引發通膨重燃擔憂 。紐約Fed銀行調查顯示 ，1月全球供應鏈壓力指數從前月的 -0.15升至-0.11，反映\n",
      "當前供應鏈壓力有所上升 ，紅海航運影響尚未完全顯現 。\n",
      "•民眾對經濟和就業市場樂觀 ，消費信心強勁 。市\n",
      "場\n",
      "回\n",
      "顧\n",
      "市\n",
      "場\n",
      "焦\n",
      "點\n",
      "聚\n",
      "焦\n",
      "議\n",
      "題\n",
      "資\n",
      "產\n",
      "觀\n"
     ]
    }
   ],
   "source": [
    "context = ''\n",
    "\n",
    "# 取前三名\n",
    "for i in ordered_index[:3]:\n",
    "  print(all_chunks[i])\n",
    "  context = context + f\"{all_chunks[i]} \\n------\\n\""
   ]
  },
  {
   "cell_type": "code",
   "execution_count": 40,
   "metadata": {},
   "outputs": [
    {
     "name": "stdout",
     "output_type": "stream",
     "text": [
      "Relevant quotes:\n",
      "[1] \"美國經濟穩固 科技股領美股創新高\"\n",
      "[2] \"標普全球 2月美國製造業採購經理人 (PMI)初值報 51.5，創17個月以來新高\"\n",
      "[3] \"服務業 PMI初值報 51.3，創3個月新低\"\n",
      "[4] \"綜合 PMI初值降至 51.4，低於預期 ，整體景氣維持擴張態勢\"\n",
      "[5] \"上週初領失業金人數降至 20.1萬，創1個月新低，顯示就業市場持續強勁\"\n",
      "[6] \"經濟諮商局 1月份領先經濟指標報 102.7，較上月下降 0.4%，但不再預估景氣將衰退\"\n",
      "[7] \"服務業景氣持續擴張\"\n",
      "[8] \"民眾對經濟和就業市場樂觀 ，消費信心強勁\"\n",
      "\n",
      "Answer:\n",
      "美國經濟整體表現穩固，科技股的表現帶動美股創下新高[1]。製造業和服務業的採購經理人指數(PMI)顯示，儘管服務業PMI略有下降，整體經濟仍維持擴張態勢[2][3][4]。此外，失業金申請人數降至新低，顯示就業市場的強勁[5]。經濟諮商局的領先經濟指標也顯示，經濟不再預估將會衰退[6]。服務業的景氣持續擴張[7]，且民眾對經濟和就業市場保持樂觀，消費信心強勁[8]。\n"
     ]
    }
   ],
   "source": [
    "# https://docs.anthropic.com/claude/docs/advanced-text-analysis\n",
    "prompt=  f\"\"\"\n",
    "I'm going to give you a document. Then I'm going to ask you a question about it. I'd like you to first write down exact quotes of parts of the document that would help answer the question, and then I'd like you to answer the question using facts from the quoted content. Here is the document:\n",
    "\n",
    "<document>\n",
    "{context}\n",
    "</document>\n",
    "\n",
    "Here is the first question:  {question}\n",
    "\n",
    "First, find the quotes from the document that are most relevant to answering the question, and then print them in numbered order. Quotes should be relatively short.\n",
    "\n",
    "If there are no relevant quotes, write \"No relevant quotes\" instead.\n",
    "\n",
    "Then, answer the question, starting with \"Answer:\".  Do not include or reference quoted content verbatim in the answer. Don't say \"According to Quote [1]\" when answering. Instead make references to quotes relevant to each section of the answer solely by adding their bracketed numbers at the end of relevant sentences.\n",
    "\n",
    "Thus, the format of your overall response should look like what's shown between the <example></example> tags.  Make sure to follow the formatting and spacing exactly.\n",
    "\n",
    "<example>\n",
    "\n",
    "Relevant quotes:\n",
    "[1] \"Company X reported revenue of $12 million in 2021.\"\n",
    "[2] \"Almost 90% of revenue came from widget sales, with gadget sales making up the remaining 10%.\"\n",
    "\n",
    "Answer:\n",
    "Company X earned $12 million. [1]  Almost 90% of it was from widget sales. [2]\n",
    "\n",
    "</example>\n",
    "\n",
    "If the question cannot be answered by the document, say so.\n",
    "\n",
    "Answer the question immediately without preamble.\n",
    "請用台灣繁體中文回答.\n",
    "\"\"\"\n",
    "\n",
    "\n",
    "result = get_completion([ {\"role\": \"user\", \"content\": prompt }], model=\"gpt-4-turbo-preview\")\n",
    "print(result)"
   ]
  },
  {
   "cell_type": "markdown",
   "metadata": {},
   "source": [
    "## 4. small-to-big 策略\n",
    "\n",
    "用來做索引的 chunk embeddings，和用來生成用的 context 內容，不需要一模一樣\n",
    "\n",
    "在本案例中，我們可以在 LLM 生成時，改成採用該 chunk 所在頁面的整頁內容，當作 context\n",
    "\n",
    "好處: 在生成階段，有更完整的上下文 context\n",
    "\n",
    "這個思路在 langchain 和 llamaindex 有很多種變形，例如:\n",
    "\n",
    "* langchain 的 https://python.langchain.com/docs/modules/data_connection/retrievers/parent_document_retriever\n",
    "* llamaindex 的 sentence window, auto merging retriever 等\n",
    "\n",
    "都是在 LLM 生成階段，延伸組成更長的上下文"
   ]
  },
  {
   "cell_type": "code",
   "execution_count": 41,
   "metadata": {},
   "outputs": [],
   "source": [
    "all_metadatas = [item for sublist in results[\"metadatas\"] for item in sublist]"
   ]
  },
  {
   "cell_type": "code",
   "execution_count": 42,
   "metadata": {},
   "outputs": [
    {
     "data": {
      "text/plain": [
       "[{'date': '2024/2/5', 'file': '1130205.pdf', 'page': 10},\n",
       " {'date': '2024/2/15', 'file': '1130215.pdf', 'page': 3},\n",
       " {'date': '2024/2/15', 'file': '1130215.pdf', 'page': 7},\n",
       " {'date': '2024/2/5', 'file': '1130205.pdf', 'page': 9},\n",
       " {'date': '2024/2/15', 'file': '1130215.pdf', 'page': 6},\n",
       " {'date': '2024/2/26', 'file': '1130226.pdf', 'page': 6},\n",
       " {'date': '2024/2/26', 'file': '1130226.pdf', 'page': 6},\n",
       " {'date': '2024/2/5', 'file': '1130205.pdf', 'page': 10},\n",
       " {'date': '2024/2/26', 'file': '1130226.pdf', 'page': 6},\n",
       " {'date': '2024/2/5', 'file': '1130205.pdf', 'page': 10},\n",
       " {'date': '2024/2/15', 'file': '1130215.pdf', 'page': 7},\n",
       " {'date': '2024/2/26', 'file': '1130226.pdf', 'page': 6}]"
      ]
     },
     "execution_count": 42,
     "metadata": {},
     "output_type": "execute_result"
    }
   ],
   "source": [
    "all_metadatas"
   ]
  },
  {
   "cell_type": "code",
   "execution_count": 43,
   "metadata": {},
   "outputs": [
    {
     "data": {
      "text/plain": [
       "array([11,  8, 10], dtype=int64)"
      ]
     },
     "execution_count": 43,
     "metadata": {},
     "output_type": "execute_result"
    }
   ],
   "source": [
    "ordered_index[:3]"
   ]
  },
  {
   "cell_type": "code",
   "execution_count": 44,
   "metadata": {},
   "outputs": [],
   "source": [
    "\n",
    "pdfs_directory = os.path.join(pdfs_directory, all_metadatas[i][\"file\"])"
   ]
  },
  {
   "cell_type": "code",
   "execution_count": 45,
   "metadata": {},
   "outputs": [],
   "source": [
    "all_context = []\n",
    "\n",
    "pdfs_directory = os.path.join(current_directory, \"pdfs_data\")\n",
    "for i in ordered_index[:3]:\n",
    "  pdf_path = os.path.join(pdfs_directory, all_metadatas[i][\"file\"])\n",
    "  pdf_pages = PyPDFLoader(pdf_path).load()\n",
    "\n",
    "\n",
    "  \n",
    "  page_content = pdf_pages[ all_metadatas[i][\"page\"] ].page_content\n",
    "  all_context.append(page_content)\n",
    "\n",
    "context = ''\n",
    "for page_content in list(set(all_context)):\n",
    "  context = context + f\"{page_content} \\n------\\n\""
   ]
  },
  {
   "cell_type": "code",
   "execution_count": 46,
   "metadata": {},
   "outputs": [
    {
     "name": "stdout",
     "output_type": "stream",
     "text": [
      "本資料純屬參考性質，兆豐商銀不作任何保證與承諾。上述資料，任何人因信賴此資料而做出或改變決策，本身須承擔一切風險，報告資料並無做出\n",
      "買賣任何內文所涉及之證券建議、誘導及鼓勵相關交易。美國經濟數據強勁 支撐消費信心\n",
      "資料來源 :Blooberg,2024.2.6\n",
      "8本資料純屬參考性質，兆豐商銀不作任何保證與承諾。上述資料，任何人因信賴此資料而做出或改變決策，本身須承擔一切風險，報告資料並無做出\n",
      "買賣任何內文所涉及之證券建議、誘導及鼓勵相關交易。•服務業景氣持續擴張 ，但紅海衝突引發供應鏈疑慮： 受訂單和就業成長推動 ，1月ISM服務業指數上升至 53.4的四個月高\n",
      "點，其中新訂單的指數升至 55，創3個月高點 ，就業指標反彈至 50.5重返擴張 ，惟原料支付價格指數升至 64，增幅為\n",
      "2012年以來最大 ，引發通膨重燃擔憂 。紐約Fed銀行調查顯示 ，1月全球供應鏈壓力指數從前月的 -0.15升至-0.11，反映\n",
      "當前供應鏈壓力有所上升 ，紅海航運影響尚未完全顯現 。\n",
      "•民眾對經濟和就業市場樂觀 ，消費信心強勁 。市\n",
      "場\n",
      "回\n",
      "顧\n",
      "市\n",
      "場\n",
      "焦\n",
      "點\n",
      "聚\n",
      "焦\n",
      "議\n",
      "題\n",
      "資\n",
      "產\n",
      "觀\n",
      "點ISM製造業 /非製造業指數 美國消費者信心指數\n",
      "406080100120140\n",
      "2021/01\n",
      "2021/03\n",
      "2021/05\n",
      "2021/07\n",
      "2021/09\n",
      "2021/11\n",
      "2022/01\n",
      "2022/03\n",
      "2022/05\n",
      "2022/07\n",
      "2022/09\n",
      "2022/11\n",
      "2023/01\n",
      "2023/03\n",
      "2023/05\n",
      "2023/07\n",
      "2023/09\n",
      "2023/11\n",
      "2024/01\n",
      "密西根大學消費信心指數 經濟諮商局消費信心指數49.153.4\n",
      "40455055606570\n",
      "01/2021\n",
      "03/2021\n",
      "05/2021\n",
      "07/2021\n",
      "09/2021\n",
      "11/2021\n",
      "01/2022\n",
      "03/2022\n",
      "05/2022\n",
      "07/2022\n",
      "09/2022\n",
      "11/2022\n",
      "01/2023\n",
      "03/2023\n",
      "05/2023\n",
      "07/2023\n",
      "09/2023\n",
      "11/2023\n",
      "01/2024\n",
      "ISM製造業指數 ISM非製造業指數 榮枯線 \n",
      "------\n",
      "本資料純屬參考性質，兆豐商銀不作任何保證與承諾。上述資料，任何人因信賴此資料而做出或改變決策，本身須承擔一切風險，報告資料並無做出\n",
      "買賣任何內文所涉及之證券建議、誘導及鼓勵相關交易。美國經濟穩固 科技股領美股創新高\n",
      "7本資料純屬參考性質，兆豐商銀不作任何保證與承諾。上述資料，任何人因信賴此資料而做出或改變決策，本身須承擔一切風險，報告資料並無做出\n",
      "買賣任何內文所涉及之證券建議、誘導及鼓勵相關交易。•上週表現 :Nvidia財報及財測均優於預期 ，加上經濟數據強勁 ，科技股領美股再創歷史新高 。\n",
      "•經濟數據 :(1)標普全球 2月美國製造業採購經理人 (PMI)初值報 51.5，創17個月以來新高；但服務業 PMI初值報 51.3，創3\n",
      "個月新低 ，致綜合 PMI初值降至 51.4，低於預期 ，整體景氣維持擴張態勢 。(2)上週初領失業金人數降至 20.1萬，創1個月\n",
      "新低，顯示就業市場持續強勁 。(3)經濟諮商局 1月份領先經濟指標報 102.7，較上月下降 0.4%，但不再預估景氣將衰退 。\n",
      "•展望:2月美銀美林經理人報告 ，淨加碼美股及科技股 ，且做多驚奇 7股票列最擁擠交易首位 。短線美股因市場調整降息預\n",
      "期、科技股累積不小漲幅而有所震盪 ，受惠基本面強勁及 AI題材助攻 ，美股可望維持多頭格局 ，逢回仍可分批佈局 。市\n",
      "場\n",
      "回\n",
      "顧\n",
      "市\n",
      "場\n",
      "焦\n",
      "點\n",
      "聚\n",
      "焦\n",
      "議\n",
      "題美國景氣維持擴張態勢 2月美銀美林經理人報告加碼美股及科技股\n",
      "資料來源 :Bloomberg,2024.2.23\n",
      " 資料來源：BofA Global Fund Manager Survey,2024.2.13\n",
      " \n",
      "------\n",
      "\n"
     ]
    }
   ],
   "source": [
    "print(context)"
   ]
  },
  {
   "cell_type": "code",
   "execution_count": 47,
   "metadata": {},
   "outputs": [],
   "source": [
    "# https://docs.anthropic.com/claude/docs/advanced-text-analysis\n",
    "prompt=  f\"\"\"\n",
    "I'm going to give you a document. Then I'm going to ask you a question about it. I'd like you to first write down exact quotes of parts of the document that would help answer the question, and then I'd like you to answer the question using facts from the quoted content. Here is the document:\n",
    "\n",
    "<document>\n",
    "{context}\n",
    "</document>\n",
    "\n",
    "Here is the first question:  {question}\n",
    "\n",
    "First, find the quotes from the document that are most relevant to answering the question, and then print them in numbered order. Quotes should be relatively short.\n",
    "\n",
    "If there are no relevant quotes, write \"No relevant quotes\" instead.\n",
    "\n",
    "Then, answer the question, starting with \"Answer:\".  Do not include or reference quoted content verbatim in the answer. Don't say \"According to Quote [1]\" when answering. Instead make references to quotes relevant to each section of the answer solely by adding their bracketed numbers at the end of relevant sentences.\n",
    "\n",
    "Thus, the format of your overall response should look like what's shown between the <example></example> tags.  Make sure to follow the formatting and spacing exactly.\n",
    "\n",
    "<example>\n",
    "\n",
    "Relevant quotes:\n",
    "[1] \"Company X reported revenue of $12 million in 2021.\"\n",
    "[2] \"Almost 90% of revenue came from widget sales, with gadget sales making up the remaining 10%.\"\n",
    "\n",
    "Answer:\n",
    "Company X earned $12 million. [1]  Almost 90% of it was from widget sales. [2]\n",
    "\n",
    "</example>\n",
    "\n",
    "If the question cannot be answered by the document, say so.\n",
    "\n",
    "Answer the question immediately without preamble.\n",
    "請用台灣繁體中文回答.\n",
    "\"\"\""
   ]
  },
  {
   "cell_type": "code",
   "execution_count": 48,
   "metadata": {},
   "outputs": [
    {
     "name": "stdout",
     "output_type": "stream",
     "text": [
      "Relevant quotes:\n",
      "[1] \"美國經濟數據強勁 支撐消費信心\"\n",
      "[2] \"服務業景氣持續擴張\"\n",
      "[3] \"民眾對經濟和就業市場樂觀，消費信心強勁。\"\n",
      "[4] \"美國經濟穩固 科技股領美股創新高\"\n",
      "[5] \"標普全球 2月美國製造業採購經理人 (PMI)初值報 51.5，創17個月以來新高\"\n",
      "[6] \"整體景氣維持擴張態勢\"\n",
      "[7] \"顯示就業市場持續強勁\"\n",
      "\n",
      "Answer:\n",
      "美國的經濟表現強勁，支撐了消費者的信心。服務業的景氣持續擴張，且民眾對經濟和就業市場保持樂觀態度。此外，科技股的表現帶領美股達到新高，反映出經濟的穩固。製造業的採購經理人指數顯示，經濟景氣維持在擴張的態勢中，且就業市場亦顯示出持續的強勁。这些因素綜合反映了美國經濟的整體正面發展。\n"
     ]
    }
   ],
   "source": [
    "result = get_completion([ {\"role\": \"user\", \"content\": prompt }], model=\"gpt-4-turbo-preview\")\n",
    "print(result)"
   ]
  }
 ],
 "metadata": {
  "kernelspec": {
   "display_name": "Python 3",
   "language": "python",
   "name": "python3"
  },
  "language_info": {
   "codemirror_mode": {
    "name": "ipython",
    "version": 3
   },
   "file_extension": ".py",
   "mimetype": "text/x-python",
   "name": "python",
   "nbconvert_exporter": "python",
   "pygments_lexer": "ipython3",
   "version": "3.11.9"
  }
 },
 "nbformat": 4,
 "nbformat_minor": 2
}
