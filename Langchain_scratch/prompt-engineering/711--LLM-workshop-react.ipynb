{
 "cells": [
  {
   "cell_type": "markdown",
   "metadata": {
    "id": "EsH5qaZerLTU"
   },
   "source": [
    "這份 Nootebook 示範 ReAct prompting。在沒有 function calling 之前，會用這種 prompt 寫法來做 Agent。\n",
    "\n",
    "參考 https://til.simonwillison.net/llms/python-react-pattern 的實作"
   ]
  },
  {
   "cell_type": "code",
   "execution_count": 1,
   "metadata": {
    "id": "h9c45F4UmED0"
   },
   "outputs": [],
   "source": [
    "import requests\n",
    "import json\n",
    "from pprint import pp"
   ]
  },
  {
   "cell_type": "code",
   "execution_count": 2,
   "metadata": {
    "id": "n8xPFpRiKmIK"
   },
   "outputs": [],
   "source": [
    "# from google.colab import userdata\n",
    "# openai_api_key = userdata.get('openai_api_key')"
   ]
  },
  {
   "cell_type": "code",
   "execution_count": 6,
   "metadata": {},
   "outputs": [],
   "source": [
    "## 設定 OpenAI API Key 變數\n",
    "from dotenv import load_dotenv\n",
    "import os\n",
    "\n",
    "# Load the environment variables from .env file\n",
    "load_dotenv()\n",
    "\n",
    "# Access the API key\n",
    "openai_api_key = os.getenv('OPENAI_API_KEY')"
   ]
  },
  {
   "cell_type": "code",
   "execution_count": null,
   "metadata": {
    "colab": {
     "base_uri": "https://localhost:8080/"
    },
    "executionInfo": {
     "elapsed": 10464,
     "status": "ok",
     "timestamp": 1740830355922,
     "user": {
      "displayName": "張文鈿（ihower）",
      "userId": "16942569988483049654"
     },
     "user_tz": -480
    },
    "id": "alUNt9uhjLY3",
    "outputId": "74b97ab2-9013-45ea-86a8-abd86cbb11dc"
   },
   "outputs": [
    {
     "name": "stdout",
     "output_type": "stream",
     "text": [
      "Defaulting to user installation because normal site-packages is not writeable\n",
      "Collecting tavily-python\n",
      "  Downloading tavily_python-0.7.10-py3-none-any.whl.metadata (7.5 kB)\n",
      "Requirement already satisfied: requests in /home/os-sunnie.gd.weng/.local/lib/python3.10/site-packages (from tavily-python) (2.32.3)\n",
      "Requirement already satisfied: tiktoken>=0.5.1 in /home/os-sunnie.gd.weng/.local/lib/python3.10/site-packages (from tavily-python) (0.9.0)\n",
      "Requirement already satisfied: httpx in /home/os-sunnie.gd.weng/.local/lib/python3.10/site-packages (from tavily-python) (0.28.1)\n",
      "Requirement already satisfied: regex>=2022.1.18 in /home/os-sunnie.gd.weng/.local/lib/python3.10/site-packages (from tiktoken>=0.5.1->tavily-python) (2024.11.6)\n",
      "Requirement already satisfied: charset-normalizer<4,>=2 in /home/os-sunnie.gd.weng/.local/lib/python3.10/site-packages (from requests->tavily-python) (3.4.1)\n",
      "Requirement already satisfied: idna<4,>=2.5 in /usr/local/lib/python3.10/dist-packages (from requests->tavily-python) (3.10)\n",
      "Requirement already satisfied: urllib3<3,>=1.21.1 in /home/os-sunnie.gd.weng/.local/lib/python3.10/site-packages (from requests->tavily-python) (2.4.0)\n",
      "Requirement already satisfied: certifi>=2017.4.17 in /home/os-sunnie.gd.weng/.local/lib/python3.10/site-packages (from requests->tavily-python) (2025.6.15)\n",
      "Requirement already satisfied: anyio in /home/os-sunnie.gd.weng/.local/lib/python3.10/site-packages (from httpx->tavily-python) (4.9.0)\n",
      "Requirement already satisfied: httpcore==1.* in /home/os-sunnie.gd.weng/.local/lib/python3.10/site-packages (from httpx->tavily-python) (1.0.8)\n",
      "Requirement already satisfied: h11<0.15,>=0.13 in /home/os-sunnie.gd.weng/.local/lib/python3.10/site-packages (from httpcore==1.*->httpx->tavily-python) (0.14.0)\n",
      "Requirement already satisfied: exceptiongroup>=1.0.2 in /home/os-sunnie.gd.weng/.local/lib/python3.10/site-packages (from anyio->httpx->tavily-python) (1.2.2)\n",
      "Requirement already satisfied: sniffio>=1.1 in /home/os-sunnie.gd.weng/.local/lib/python3.10/site-packages (from anyio->httpx->tavily-python) (1.3.1)\n",
      "Requirement already satisfied: typing_extensions>=4.5 in /usr/local/lib/python3.10/dist-packages (from anyio->httpx->tavily-python) (4.12.2)\n",
      "Downloading tavily_python-0.7.10-py3-none-any.whl (15 kB)\n",
      "Installing collected packages: tavily-python\n",
      "Successfully installed tavily-python-0.7.10\n",
      "Note: you may need to restart the kernel to use updated packages.\n"
     ]
    }
   ],
   "source": [
    "!pip install tavily-python"
   ]
  },
  {
   "cell_type": "code",
   "execution_count": 11,
   "metadata": {
    "id": "Fm_O_9CqlxZQ"
   },
   "outputs": [],
   "source": [
    "def get_completion(messages, model=\"gpt-4o-mini\", temperature=0, max_tokens=12000, tools=None, tool_choice=None):\n",
    "  payload = { \"model\": model, \"temperature\": temperature, \"messages\": messages, \"max_tokens\": max_tokens }\n",
    "  if tools:\n",
    "    payload[\"tools\"] = tools\n",
    "  if tool_choice:\n",
    "    payload[\"tool_choice\"] = tool_choice\n",
    "\n",
    "  headers = { \"Authorization\": f'Bearer {openai_api_key}', \"Content-Type\": \"application/json\" }\n",
    "  response = requests.post('https://api.openai.com/v1/chat/completions', headers = headers, data = json.dumps(payload) )\n",
    "  obj = json.loads(response.text)\n",
    "\n",
    "  if response.status_code == 200 :\n",
    "    return obj[\"choices\"][0][\"message\"][\"content\"]\n",
    "  else :\n",
    "    return obj[\"error\"]"
   ]
  },
  {
   "cell_type": "code",
   "execution_count": 12,
   "metadata": {
    "id": "ZXO6t2ttjhDM"
   },
   "outputs": [],
   "source": [
    "from tavily import TavilyClient\n",
    "\n",
    "# tavily_client = TavilyClient(api_key= userdata.get('tavily_api_key') )\n",
    "tavily_client = TavilyClient(api_key= os.getenv('TAVILY_API_KEY') )\n"
   ]
  },
  {
   "cell_type": "code",
   "execution_count": 13,
   "metadata": {
    "id": "wDKN6jDgjNPP"
   },
   "outputs": [],
   "source": [
    "def web_search(keyword):\n",
    "  response = tavily_client.search(keyword)\n",
    "  return response[\"results\"]"
   ]
  },
  {
   "cell_type": "code",
   "execution_count": 15,
   "metadata": {
    "id": "_uuo2LBvlnud"
   },
   "outputs": [],
   "source": [
    "import numexpr\n",
    "def calculate(expr):\n",
    "   ans = numexpr.evaluate(expr)\n",
    "   return str(ans)"
   ]
  },
  {
   "cell_type": "code",
   "execution_count": 16,
   "metadata": {
    "id": "ap34Z-lKll95"
   },
   "outputs": [],
   "source": [
    "import re\n",
    "\n",
    "prompt = \"\"\"\n",
    "You run in a loop of Thought, Action, PAUSE, Observation.\n",
    "At the end of the loop you output an Answer\n",
    "Use Thought to describe your thoughts about the question you have been asked.\n",
    "Use Action to run one of the actions available to you - then return PAUSE.\n",
    "Observation will be the result of running those actions.\n",
    "\n",
    "Your available actions are:\n",
    "\n",
    "calculate:\n",
    "e.g. calculate: 4 * 7 / 3\n",
    "Runs a calculation and returns the number - a math expression that can be executed using Python's numexpr library.\n",
    "\n",
    "web_search:\n",
    "e.g. web_search: Django\n",
    "Searches for the latest news or recent events.\n",
    "\n",
    "Example session:\n",
    "\n",
    "Question: What is the capital of France?\n",
    "Thought: I should look up France on Wikipedia\n",
    "Action: web_search: France\n",
    "PAUSE\n",
    "\n",
    "You will be called again with this:\n",
    "\n",
    "Observation: France is a country. The capital is Paris.\n",
    "\n",
    "You then output:\n",
    "\n",
    "Answer: The capital of France is Paris\n",
    "\"\"\".strip()\n",
    "\n",
    "\n",
    "action_re = re.compile('^Action: (\\w+): (.*)$')"
   ]
  },
  {
   "cell_type": "code",
   "execution_count": 17,
   "metadata": {
    "id": "pUbDsiSNpcyu"
   },
   "outputs": [],
   "source": [
    "known_actions = {\n",
    "    \"web_search\": web_search,\n",
    "    \"calculate\": calculate\n",
    "}\n",
    "\n",
    "messages = [\n",
    "    { \"role\": \"system\", \"content\": prompt }\n",
    "]\n",
    "\n",
    "def query(question, max_turns=10):\n",
    "    i = 0\n",
    "    next_prompt = question\n",
    "    while i < max_turns:\n",
    "        print(f\"---------------- TURN: {i}\")\n",
    "        i += 1\n",
    "        messages.append( {\"role\": \"user\", \"content\": next_prompt } )\n",
    "        print(f\"{messages}\")\n",
    "\n",
    "        result = get_completion(messages)\n",
    "        print(f\"回傳-------\\n{result}\")\n",
    "        messages.append( {\"role\": \"assistant\", \"content\": result } )\n",
    "\n",
    "        actions = [action_re.match(a) for a in result.split('\\n') if action_re.match(a)] # 用正規表示法，找出回傳文字中，是否有要執行某個 function\n",
    "        if actions:\n",
    "            # There is an action to run\n",
    "            action, action_input = actions[0].groups()\n",
    "            if action not in known_actions:\n",
    "                raise Exception(\"Unknown action: {}: {}\".format(action, action_input))\n",
    "            print(\" -- running {} {}\".format(action, action_input))\n",
    "            observation = known_actions[action](action_input)\n",
    "            print(\"Observation:\", observation)\n",
    "            next_prompt = \"Observation: {}\".format(observation)\n",
    "        else:\n",
    "            return"
   ]
  },
  {
   "cell_type": "code",
   "execution_count": 18,
   "metadata": {
    "colab": {
     "base_uri": "https://localhost:8080/"
    },
    "executionInfo": {
     "elapsed": 19260,
     "status": "ok",
     "timestamp": 1740830399997,
     "user": {
      "displayName": "張文鈿（ihower）",
      "userId": "16942569988483049654"
     },
     "user_tz": -480
    },
    "id": "1_1k2wbUl9LB",
    "outputId": "e6c574d3-2fe1-49a1-ab0f-cc23b2a7db4e"
   },
   "outputs": [
    {
     "name": "stdout",
     "output_type": "stream",
     "text": [
      "---------------- TURN: 0\n",
      "[{'role': 'system', 'content': \"You run in a loop of Thought, Action, PAUSE, Observation.\\nAt the end of the loop you output an Answer\\nUse Thought to describe your thoughts about the question you have been asked.\\nUse Action to run one of the actions available to you - then return PAUSE.\\nObservation will be the result of running those actions.\\n\\nYour available actions are:\\n\\ncalculate:\\ne.g. calculate: 4 * 7 / 3\\nRuns a calculation and returns the number - a math expression that can be executed using Python's numexpr library.\\n\\nweb_search:\\ne.g. web_search: Django\\nSearches for the latest news or recent events.\\n\\nExample session:\\n\\nQuestion: What is the capital of France?\\nThought: I should look up France on Wikipedia\\nAction: web_search: France\\nPAUSE\\n\\nYou will be called again with this:\\n\\nObservation: France is a country. The capital is Paris.\\n\\nYou then output:\\n\\nAnswer: The capital of France is Paris\"}, {'role': 'user', 'content': '作為營養師，您的任務是為一名客戶計算一頓含有雞胸肉、糙米和蔬菜的午餐的總熱量。\\n請先搜尋每種食材每100克的熱量。然後，假設一份雞胸肉為150克，糙米為200克，蔬菜為100克，\\n使用計算機計算這頓午餐的總熱量。'}]\n",
      "回傳-------\n",
      "Thought: 我需要先搜尋每種食材每100克的熱量，包括雞胸肉、糙米和蔬菜。然後，我可以根據每種食材的份量計算總熱量。\n",
      "\n",
      "Action: web_search: 雞胸肉 每100克 熱量\n",
      "PAUSE\n",
      " -- running web_search 雞胸肉 每100克 熱量\n",
      "Observation: [{'url': 'https://www.fatsecret.cn/%E7%83%AD%E9%87%8F%E8%90%A5%E5%85%BB/%E6%99%AE%E9%80%9A%E7%9A%84/%E9%B8%A1%E8%83%B8%E8%82%89?portionid=50321&portionamount=100.000', 'title': '鸡胸肉(100 克)的热量和营养成分 - fatsecret', 'content': '鸡胸肉(100 克)含有195卡路里. 营养成分. 食用量. 100 克. 每份. 能源. 816 千焦. 195 千卡. 蛋白质. 29.55克. 脂肪. 7.72克. 饱和脂肪. 2.172克.', 'score': 0.9328032, 'raw_content': None}, {'url': 'https://jingyan.baidu.com/article/48a4205709679ce8242504b7.html', 'title': '100克鸡胸肉煮熟了就只有75克了，那热量应该算75克还是 ... - 百度经验', 'content': '100克去皮鸡胸肉只有105大卡的热量，而100克鸡腿热量达130大卡，鸡翅的热量更彪悍，每100克高达290大卡。鸡胸肉是整只鸡中热量和脂肪含量最低的部位。 而相比', 'score': 0.92731744, 'raw_content': None}, {'url': 'https://www.dachanfoods.com.tw/zh-TW/blogs/%E7%9F%A5%E8%AD%98%E5%B0%8F%E5%B9%AB%E6%89%8B/147267?srsltid=AfmBOoqjP0q5BbDxutre4w992xQRf5g15yq6VHYIHl0flKIGexClT9Uw', 'title': '雞胸肉為什麼適合健身吃？一篇看懂營養價值、食用時機！', 'content': '三、雞胸肉的熱量 一般來說，去皮雞胸肉的熱量每100 克含有109 大卡的熱量。 如果是帶皮雞胸肉，每100 克含有164 大卡的熱量。', 'score': 0.9253988, 'raw_content': None}, {'url': 'https://health.tvbs.com.tw/nutrition/341063', 'title': '雞肉這部位比雞胸肉更低脂、高蛋白！「雞肉各部位熱量」大公開吃 ...', 'content': '雞胸肉：去皮每100克熱量約117大卡，脂肪2％，蛋白質23％。 看更多：吃低脂雞胸肉輕鬆減肥！雞肉達人公開雞胸肉Q彈軟嫩秘訣. 雞柳', 'score': 0.90123636, 'raw_content': None}, {'url': 'https://www.drsalt.com.tw/blog/posts/%E9%9B%9E%E8%83%B8%E8%82%89-%E7%86%B1%E9%87%8F%E5%AE%8C%E6%95%B4%E8%A7%A3%E6%9E%90%EF%BC%9A5%E5%A4%A7%E9%97%9C%E9%8D%B5%E6%95%B8%E6%93%9A%E6%89%93%E9%80%A0%E5%81%A5%E5%BA%B7%E9%A3%B2%E9%A3%9F%E6%9C%80%E4%BD%B3%E9%81%B8%E6%93%87', 'title': '雞胸肉熱量完整解析：5大關鍵數據打造健康飲食最佳選擇', 'content': '雞胸肉營養成分表（每100g） ; 熱量, 165大卡, 白米飯130大卡 ; 蛋白質, 31g, 白米飯2.7g ; 脂肪, 3.6g, 雞腿肉8-10g', 'score': 0.8861155, 'raw_content': None}]\n",
      "---------------- TURN: 1\n",
      "[{'role': 'system', 'content': \"You run in a loop of Thought, Action, PAUSE, Observation.\\nAt the end of the loop you output an Answer\\nUse Thought to describe your thoughts about the question you have been asked.\\nUse Action to run one of the actions available to you - then return PAUSE.\\nObservation will be the result of running those actions.\\n\\nYour available actions are:\\n\\ncalculate:\\ne.g. calculate: 4 * 7 / 3\\nRuns a calculation and returns the number - a math expression that can be executed using Python's numexpr library.\\n\\nweb_search:\\ne.g. web_search: Django\\nSearches for the latest news or recent events.\\n\\nExample session:\\n\\nQuestion: What is the capital of France?\\nThought: I should look up France on Wikipedia\\nAction: web_search: France\\nPAUSE\\n\\nYou will be called again with this:\\n\\nObservation: France is a country. The capital is Paris.\\n\\nYou then output:\\n\\nAnswer: The capital of France is Paris\"}, {'role': 'user', 'content': '作為營養師，您的任務是為一名客戶計算一頓含有雞胸肉、糙米和蔬菜的午餐的總熱量。\\n請先搜尋每種食材每100克的熱量。然後，假設一份雞胸肉為150克，糙米為200克，蔬菜為100克，\\n使用計算機計算這頓午餐的總熱量。'}, {'role': 'assistant', 'content': 'Thought: 我需要先搜尋每種食材每100克的熱量，包括雞胸肉、糙米和蔬菜。然後，我可以根據每種食材的份量計算總熱量。\\n\\nAction: web_search: 雞胸肉 每100克 熱量\\nPAUSE'}, {'role': 'user', 'content': \"Observation: [{'url': 'https://www.fatsecret.cn/%E7%83%AD%E9%87%8F%E8%90%A5%E5%85%BB/%E6%99%AE%E9%80%9A%E7%9A%84/%E9%B8%A1%E8%83%B8%E8%82%89?portionid=50321&portionamount=100.000', 'title': '鸡胸肉(100 克)的热量和营养成分 - fatsecret', 'content': '鸡胸肉(100 克)含有195卡路里. 营养成分. 食用量. 100 克. 每份. 能源. 816 千焦. 195 千卡. 蛋白质. 29.55克. 脂肪. 7.72克. 饱和脂肪. 2.172克.', 'score': 0.9328032, 'raw_content': None}, {'url': 'https://jingyan.baidu.com/article/48a4205709679ce8242504b7.html', 'title': '100克鸡胸肉煮熟了就只有75克了，那热量应该算75克还是 ... - 百度经验', 'content': '100克去皮鸡胸肉只有105大卡的热量，而100克鸡腿热量达130大卡，鸡翅的热量更彪悍，每100克高达290大卡。鸡胸肉是整只鸡中热量和脂肪含量最低的部位。 而相比', 'score': 0.92731744, 'raw_content': None}, {'url': 'https://www.dachanfoods.com.tw/zh-TW/blogs/%E7%9F%A5%E8%AD%98%E5%B0%8F%E5%B9%AB%E6%89%8B/147267?srsltid=AfmBOoqjP0q5BbDxutre4w992xQRf5g15yq6VHYIHl0flKIGexClT9Uw', 'title': '雞胸肉為什麼適合健身吃？一篇看懂營養價值、食用時機！', 'content': '三、雞胸肉的熱量 一般來說，去皮雞胸肉的熱量每100 克含有109 大卡的熱量。 如果是帶皮雞胸肉，每100 克含有164 大卡的熱量。', 'score': 0.9253988, 'raw_content': None}, {'url': 'https://health.tvbs.com.tw/nutrition/341063', 'title': '雞肉這部位比雞胸肉更低脂、高蛋白！「雞肉各部位熱量」大公開吃 ...', 'content': '雞胸肉：去皮每100克熱量約117大卡，脂肪2％，蛋白質23％。 看更多：吃低脂雞胸肉輕鬆減肥！雞肉達人公開雞胸肉Q彈軟嫩秘訣. 雞柳', 'score': 0.90123636, 'raw_content': None}, {'url': 'https://www.drsalt.com.tw/blog/posts/%E9%9B%9E%E8%83%B8%E8%82%89-%E7%86%B1%E9%87%8F%E5%AE%8C%E6%95%B4%E8%A7%A3%E6%9E%90%EF%BC%9A5%E5%A4%A7%E9%97%9C%E9%8D%B5%E6%95%B8%E6%93%9A%E6%89%93%E9%80%A0%E5%81%A5%E5%BA%B7%E9%A3%B2%E9%A3%9F%E6%9C%80%E4%BD%B3%E9%81%B8%E6%93%87', 'title': '雞胸肉熱量完整解析：5大關鍵數據打造健康飲食最佳選擇', 'content': '雞胸肉營養成分表（每100g） ; 熱量, 165大卡, 白米飯130大卡 ; 蛋白質, 31g, 白米飯2.7g ; 脂肪, 3.6g, 雞腿肉8-10g', 'score': 0.8861155, 'raw_content': None}]\"}]\n",
      "回傳-------\n",
      "Thought: 我已經找到雞胸肉的熱量資訊，根據不同來源，每100克的熱量大約在109到195卡路里之間。為了保守起見，我將使用195卡路里作為計算基準。接下來，我需要搜尋糙米和蔬菜的熱量。\n",
      "\n",
      "Action: web_search: 糙米 每100克 熱量\n",
      "PAUSE\n",
      " -- running web_search 糙米 每100克 熱量\n",
      "Observation: [{'url': 'https://www.fatsecret.cn/%E7%83%AD%E9%87%8F%E8%90%A5%E5%85%BB/%E6%99%AE%E9%80%9A%E7%9A%84/%E7%B3%99%E7%B1%B3%EF%BC%88%E4%B8%AD%E7%B2%92%E7%B1%B3%EF%BC%8C%E7%85%AE%E7%86%9F%EF%BC%89?portionid=62448&portionamount=100.000', 'title': '糙米（中粒米，煮熟） (100 克)的热量和营养成分 - fatsecret', 'content': '糙米（中粒米，煮熟） (100 克)含有112卡路里. 营养成分. 食用量. 100 克. 每份. 能源. 469 千焦. 112 千卡. 蛋白质. 2.32克. 脂肪. 0.83克. 饱和脂肪.', 'score': 0.9170729, 'raw_content': None}, {'url': 'https://www.fatsecret.cn/%E7%83%AD%E9%87%8F%E8%90%A5%E5%85%BB/%E6%99%AE%E9%80%9A%E7%9A%84/%E7%B3%99%E7%B1%B3?portionid=53193&portionamount=100.000', 'title': '糙米(100 克)的热量和营养成分 - fatsecret', 'content': '糙米. 一般食用份量. 1 盎司，干的, 100 克, 1 杯（煮熟的）. 大卡. 110. 脂肪. 0.89 克. 碳水物. 22.78 克. 蛋白质. 2.56 克. 糙米(100 克)含有110卡路里.', 'score': 0.89720124, 'raw_content': None}, {'url': 'https://www.aimhealthyu.com/tw/article/339/brown-rice-nutrition-secrets', 'title': '糙米飯熱量知多少？營養師揭密健康飲食的關鍵選擇 - AIMHEALTHYU', 'content': '其實，每100克糙米飯大約含有111卡路里，這讓它成為一個相對健康的碳水化合物來源。不少人可能會問，這樣的熱量真的適合每天食用嗎？ 而且，很多人可能不知道的是，糙米', 'score': 0.8939131, 'raw_content': None}, {'url': 'https://foodeducation.jtf.org.tw/article_view.php?id=20', 'title': '常見全穀迷思Q&A - 提升兒童食育力- 財團法人董氏基金會', 'content': '而生的糙米煮熟後會吸水膨脹，所以100克生的糙米可以煮成250克的糙米飯，換算成每100克的糙米飯熱量其實是 142大卡 ，和100克白飯的熱量差不多喔！ 糙米的糠層富含纖維，可以幫助腸胃蠕動及養成細嚼慢嚥的習慣，增加飽足感。', 'score': 0.88799405, 'raw_content': None}, {'url': 'https://www.cw.com.tw/article/5124764', 'title': '你知道嗎？白飯、糙米飯熱量其實差不多！為什麼還要吃糙米？', 'content': '糙米 · 熱量：354kcal; 膳食纖維：4g ; 胚芽米 · 熱量：358kcal; 膳食纖維：1.5g ; 白米 · 熱量：352kcal; 膳食纖維：0.7g', 'score': 0.70702106, 'raw_content': None}]\n",
      "---------------- TURN: 2\n",
      "[{'role': 'system', 'content': \"You run in a loop of Thought, Action, PAUSE, Observation.\\nAt the end of the loop you output an Answer\\nUse Thought to describe your thoughts about the question you have been asked.\\nUse Action to run one of the actions available to you - then return PAUSE.\\nObservation will be the result of running those actions.\\n\\nYour available actions are:\\n\\ncalculate:\\ne.g. calculate: 4 * 7 / 3\\nRuns a calculation and returns the number - a math expression that can be executed using Python's numexpr library.\\n\\nweb_search:\\ne.g. web_search: Django\\nSearches for the latest news or recent events.\\n\\nExample session:\\n\\nQuestion: What is the capital of France?\\nThought: I should look up France on Wikipedia\\nAction: web_search: France\\nPAUSE\\n\\nYou will be called again with this:\\n\\nObservation: France is a country. The capital is Paris.\\n\\nYou then output:\\n\\nAnswer: The capital of France is Paris\"}, {'role': 'user', 'content': '作為營養師，您的任務是為一名客戶計算一頓含有雞胸肉、糙米和蔬菜的午餐的總熱量。\\n請先搜尋每種食材每100克的熱量。然後，假設一份雞胸肉為150克，糙米為200克，蔬菜為100克，\\n使用計算機計算這頓午餐的總熱量。'}, {'role': 'assistant', 'content': 'Thought: 我需要先搜尋每種食材每100克的熱量，包括雞胸肉、糙米和蔬菜。然後，我可以根據每種食材的份量計算總熱量。\\n\\nAction: web_search: 雞胸肉 每100克 熱量\\nPAUSE'}, {'role': 'user', 'content': \"Observation: [{'url': 'https://www.fatsecret.cn/%E7%83%AD%E9%87%8F%E8%90%A5%E5%85%BB/%E6%99%AE%E9%80%9A%E7%9A%84/%E9%B8%A1%E8%83%B8%E8%82%89?portionid=50321&portionamount=100.000', 'title': '鸡胸肉(100 克)的热量和营养成分 - fatsecret', 'content': '鸡胸肉(100 克)含有195卡路里. 营养成分. 食用量. 100 克. 每份. 能源. 816 千焦. 195 千卡. 蛋白质. 29.55克. 脂肪. 7.72克. 饱和脂肪. 2.172克.', 'score': 0.9328032, 'raw_content': None}, {'url': 'https://jingyan.baidu.com/article/48a4205709679ce8242504b7.html', 'title': '100克鸡胸肉煮熟了就只有75克了，那热量应该算75克还是 ... - 百度经验', 'content': '100克去皮鸡胸肉只有105大卡的热量，而100克鸡腿热量达130大卡，鸡翅的热量更彪悍，每100克高达290大卡。鸡胸肉是整只鸡中热量和脂肪含量最低的部位。 而相比', 'score': 0.92731744, 'raw_content': None}, {'url': 'https://www.dachanfoods.com.tw/zh-TW/blogs/%E7%9F%A5%E8%AD%98%E5%B0%8F%E5%B9%AB%E6%89%8B/147267?srsltid=AfmBOoqjP0q5BbDxutre4w992xQRf5g15yq6VHYIHl0flKIGexClT9Uw', 'title': '雞胸肉為什麼適合健身吃？一篇看懂營養價值、食用時機！', 'content': '三、雞胸肉的熱量 一般來說，去皮雞胸肉的熱量每100 克含有109 大卡的熱量。 如果是帶皮雞胸肉，每100 克含有164 大卡的熱量。', 'score': 0.9253988, 'raw_content': None}, {'url': 'https://health.tvbs.com.tw/nutrition/341063', 'title': '雞肉這部位比雞胸肉更低脂、高蛋白！「雞肉各部位熱量」大公開吃 ...', 'content': '雞胸肉：去皮每100克熱量約117大卡，脂肪2％，蛋白質23％。 看更多：吃低脂雞胸肉輕鬆減肥！雞肉達人公開雞胸肉Q彈軟嫩秘訣. 雞柳', 'score': 0.90123636, 'raw_content': None}, {'url': 'https://www.drsalt.com.tw/blog/posts/%E9%9B%9E%E8%83%B8%E8%82%89-%E7%86%B1%E9%87%8F%E5%AE%8C%E6%95%B4%E8%A7%A3%E6%9E%90%EF%BC%9A5%E5%A4%A7%E9%97%9C%E9%8D%B5%E6%95%B8%E6%93%9A%E6%89%93%E9%80%A0%E5%81%A5%E5%BA%B7%E9%A3%B2%E9%A3%9F%E6%9C%80%E4%BD%B3%E9%81%B8%E6%93%87', 'title': '雞胸肉熱量完整解析：5大關鍵數據打造健康飲食最佳選擇', 'content': '雞胸肉營養成分表（每100g） ; 熱量, 165大卡, 白米飯130大卡 ; 蛋白質, 31g, 白米飯2.7g ; 脂肪, 3.6g, 雞腿肉8-10g', 'score': 0.8861155, 'raw_content': None}]\"}, {'role': 'assistant', 'content': 'Thought: 我已經找到雞胸肉的熱量資訊，根據不同來源，每100克的熱量大約在109到195卡路里之間。為了保守起見，我將使用195卡路里作為計算基準。接下來，我需要搜尋糙米和蔬菜的熱量。\\n\\nAction: web_search: 糙米 每100克 熱量\\nPAUSE'}, {'role': 'user', 'content': \"Observation: [{'url': 'https://www.fatsecret.cn/%E7%83%AD%E9%87%8F%E8%90%A5%E5%85%BB/%E6%99%AE%E9%80%9A%E7%9A%84/%E7%B3%99%E7%B1%B3%EF%BC%88%E4%B8%AD%E7%B2%92%E7%B1%B3%EF%BC%8C%E7%85%AE%E7%86%9F%EF%BC%89?portionid=62448&portionamount=100.000', 'title': '糙米（中粒米，煮熟） (100 克)的热量和营养成分 - fatsecret', 'content': '糙米（中粒米，煮熟） (100 克)含有112卡路里. 营养成分. 食用量. 100 克. 每份. 能源. 469 千焦. 112 千卡. 蛋白质. 2.32克. 脂肪. 0.83克. 饱和脂肪.', 'score': 0.9170729, 'raw_content': None}, {'url': 'https://www.fatsecret.cn/%E7%83%AD%E9%87%8F%E8%90%A5%E5%85%BB/%E6%99%AE%E9%80%9A%E7%9A%84/%E7%B3%99%E7%B1%B3?portionid=53193&portionamount=100.000', 'title': '糙米(100 克)的热量和营养成分 - fatsecret', 'content': '糙米. 一般食用份量. 1 盎司，干的, 100 克, 1 杯（煮熟的）. 大卡. 110. 脂肪. 0.89 克. 碳水物. 22.78 克. 蛋白质. 2.56 克. 糙米(100 克)含有110卡路里.', 'score': 0.89720124, 'raw_content': None}, {'url': 'https://www.aimhealthyu.com/tw/article/339/brown-rice-nutrition-secrets', 'title': '糙米飯熱量知多少？營養師揭密健康飲食的關鍵選擇 - AIMHEALTHYU', 'content': '其實，每100克糙米飯大約含有111卡路里，這讓它成為一個相對健康的碳水化合物來源。不少人可能會問，這樣的熱量真的適合每天食用嗎？ 而且，很多人可能不知道的是，糙米', 'score': 0.8939131, 'raw_content': None}, {'url': 'https://foodeducation.jtf.org.tw/article_view.php?id=20', 'title': '常見全穀迷思Q&A - 提升兒童食育力- 財團法人董氏基金會', 'content': '而生的糙米煮熟後會吸水膨脹，所以100克生的糙米可以煮成250克的糙米飯，換算成每100克的糙米飯熱量其實是 142大卡 ，和100克白飯的熱量差不多喔！ 糙米的糠層富含纖維，可以幫助腸胃蠕動及養成細嚼慢嚥的習慣，增加飽足感。', 'score': 0.88799405, 'raw_content': None}, {'url': 'https://www.cw.com.tw/article/5124764', 'title': '你知道嗎？白飯、糙米飯熱量其實差不多！為什麼還要吃糙米？', 'content': '糙米 · 熱量：354kcal; 膳食纖維：4g ; 胚芽米 · 熱量：358kcal; 膳食纖維：1.5g ; 白米 · 熱量：352kcal; 膳食纖維：0.7g', 'score': 0.70702106, 'raw_content': None}]\"}]\n",
      "回傳-------\n",
      "Thought: 我找到糙米的熱量資訊，根據不同來源，每100克的熱量大約在110到112卡路里之間。我將使用112卡路里作為計算基準。接下來，我需要搜尋蔬菜的熱量。\n",
      "\n",
      "Action: web_search: 蔬菜 每100克 熱量\n",
      "PAUSE\n",
      " -- running web_search 蔬菜 每100克 熱量\n",
      "Observation: [{'url': 'https://www.fatsecret.cn/%E7%83%AD%E9%87%8F%E8%90%A5%E5%85%BB/%E6%99%AE%E9%80%9A%E7%9A%84/%E7%94%9F%E8%94%AC%E8%8F%9C?portionid=54903&portionamount=100.000&frc=True', 'title': '生蔬菜(100 克)的热量和营养成分 - fatsecret', 'content': '生蔬菜(100 克)含有20卡路里. 热量分解： 7% 脂肪, 77% 碳水物, 16% 蛋白质. 一般食用份量: 食用量, 卡路里. 1 份（28克） · 6 · 100 克 · 20.', 'score': 0.8742601, 'raw_content': None}, {'url': 'https://tsaijj11.pixnet.net/blog/post/28305461', 'title': '100g熱量表--蔬菜類 - ジェシカのブログ- 痞客邦', 'content': '100g熱量表--蔬菜類 ; 空心菜, 24, 92.8 ; 油菜, 14, 95.4 ; 青江菜, 16, 94.8 ; 美國芹菜, 13, 96', 'score': 0.79215926, 'raw_content': None}, {'url': 'https://zhuanlan.zhihu.com/p/371899605', 'title': '七大高热量“蔬菜”排行榜！第一名每百克居然高达300千卡？ - 知乎专栏', 'content': '1 黄豆每100克热量390千卡. 黄豆的热量高达390千卡以上，是不折不扣的高 ... 除了这些高热量的“蔬菜”，其实大多数的蔬菜普遍上还是热量比较低的', 'score': 0.77261686, 'raw_content': None}, {'url': 'https://health.udn.com/health/story/6037/7391940', 'title': '青江菜、花椰菜、高麗菜...營養師授「15種燙青菜熱量圖鑑」，告訴你 ...', 'content': '1.韭菜豆芽．熱量：44kcal ． · 2.黃豆芽．熱量：34kcal ． · 3.豌豆苗．熱量：31kcal ． · 4.地瓜葉．熱量：28kcal ． · 5.菠菜．熱量：24kcal ． · 6.龍鬚菜．熱量：24kcal ．', 'score': 0.38838658, 'raw_content': None}, {'url': 'https://www.cfs.gov.hk/tc_chi/nutrient/files/RA_FruitVeg_c.pdf', 'title': '[PDF] 水果和蔬菜的營養素含量(每克)', 'content': 'Page 1. 水果和蔬菜的營養素含量(每克). 附件. 碳水化合物. 飽和脂. 食物名稱. 熱量. (千卡). 蛋白質. 總量. (克). 脂肪. (克). 肪. 膽固醇. (毫克). 糖(克). 膳食.', 'score': 0.23139746, 'raw_content': None}]\n",
      "---------------- TURN: 3\n",
      "[{'role': 'system', 'content': \"You run in a loop of Thought, Action, PAUSE, Observation.\\nAt the end of the loop you output an Answer\\nUse Thought to describe your thoughts about the question you have been asked.\\nUse Action to run one of the actions available to you - then return PAUSE.\\nObservation will be the result of running those actions.\\n\\nYour available actions are:\\n\\ncalculate:\\ne.g. calculate: 4 * 7 / 3\\nRuns a calculation and returns the number - a math expression that can be executed using Python's numexpr library.\\n\\nweb_search:\\ne.g. web_search: Django\\nSearches for the latest news or recent events.\\n\\nExample session:\\n\\nQuestion: What is the capital of France?\\nThought: I should look up France on Wikipedia\\nAction: web_search: France\\nPAUSE\\n\\nYou will be called again with this:\\n\\nObservation: France is a country. The capital is Paris.\\n\\nYou then output:\\n\\nAnswer: The capital of France is Paris\"}, {'role': 'user', 'content': '作為營養師，您的任務是為一名客戶計算一頓含有雞胸肉、糙米和蔬菜的午餐的總熱量。\\n請先搜尋每種食材每100克的熱量。然後，假設一份雞胸肉為150克，糙米為200克，蔬菜為100克，\\n使用計算機計算這頓午餐的總熱量。'}, {'role': 'assistant', 'content': 'Thought: 我需要先搜尋每種食材每100克的熱量，包括雞胸肉、糙米和蔬菜。然後，我可以根據每種食材的份量計算總熱量。\\n\\nAction: web_search: 雞胸肉 每100克 熱量\\nPAUSE'}, {'role': 'user', 'content': \"Observation: [{'url': 'https://www.fatsecret.cn/%E7%83%AD%E9%87%8F%E8%90%A5%E5%85%BB/%E6%99%AE%E9%80%9A%E7%9A%84/%E9%B8%A1%E8%83%B8%E8%82%89?portionid=50321&portionamount=100.000', 'title': '鸡胸肉(100 克)的热量和营养成分 - fatsecret', 'content': '鸡胸肉(100 克)含有195卡路里. 营养成分. 食用量. 100 克. 每份. 能源. 816 千焦. 195 千卡. 蛋白质. 29.55克. 脂肪. 7.72克. 饱和脂肪. 2.172克.', 'score': 0.9328032, 'raw_content': None}, {'url': 'https://jingyan.baidu.com/article/48a4205709679ce8242504b7.html', 'title': '100克鸡胸肉煮熟了就只有75克了，那热量应该算75克还是 ... - 百度经验', 'content': '100克去皮鸡胸肉只有105大卡的热量，而100克鸡腿热量达130大卡，鸡翅的热量更彪悍，每100克高达290大卡。鸡胸肉是整只鸡中热量和脂肪含量最低的部位。 而相比', 'score': 0.92731744, 'raw_content': None}, {'url': 'https://www.dachanfoods.com.tw/zh-TW/blogs/%E7%9F%A5%E8%AD%98%E5%B0%8F%E5%B9%AB%E6%89%8B/147267?srsltid=AfmBOoqjP0q5BbDxutre4w992xQRf5g15yq6VHYIHl0flKIGexClT9Uw', 'title': '雞胸肉為什麼適合健身吃？一篇看懂營養價值、食用時機！', 'content': '三、雞胸肉的熱量 一般來說，去皮雞胸肉的熱量每100 克含有109 大卡的熱量。 如果是帶皮雞胸肉，每100 克含有164 大卡的熱量。', 'score': 0.9253988, 'raw_content': None}, {'url': 'https://health.tvbs.com.tw/nutrition/341063', 'title': '雞肉這部位比雞胸肉更低脂、高蛋白！「雞肉各部位熱量」大公開吃 ...', 'content': '雞胸肉：去皮每100克熱量約117大卡，脂肪2％，蛋白質23％。 看更多：吃低脂雞胸肉輕鬆減肥！雞肉達人公開雞胸肉Q彈軟嫩秘訣. 雞柳', 'score': 0.90123636, 'raw_content': None}, {'url': 'https://www.drsalt.com.tw/blog/posts/%E9%9B%9E%E8%83%B8%E8%82%89-%E7%86%B1%E9%87%8F%E5%AE%8C%E6%95%B4%E8%A7%A3%E6%9E%90%EF%BC%9A5%E5%A4%A7%E9%97%9C%E9%8D%B5%E6%95%B8%E6%93%9A%E6%89%93%E9%80%A0%E5%81%A5%E5%BA%B7%E9%A3%B2%E9%A3%9F%E6%9C%80%E4%BD%B3%E9%81%B8%E6%93%87', 'title': '雞胸肉熱量完整解析：5大關鍵數據打造健康飲食最佳選擇', 'content': '雞胸肉營養成分表（每100g） ; 熱量, 165大卡, 白米飯130大卡 ; 蛋白質, 31g, 白米飯2.7g ; 脂肪, 3.6g, 雞腿肉8-10g', 'score': 0.8861155, 'raw_content': None}]\"}, {'role': 'assistant', 'content': 'Thought: 我已經找到雞胸肉的熱量資訊，根據不同來源，每100克的熱量大約在109到195卡路里之間。為了保守起見，我將使用195卡路里作為計算基準。接下來，我需要搜尋糙米和蔬菜的熱量。\\n\\nAction: web_search: 糙米 每100克 熱量\\nPAUSE'}, {'role': 'user', 'content': \"Observation: [{'url': 'https://www.fatsecret.cn/%E7%83%AD%E9%87%8F%E8%90%A5%E5%85%BB/%E6%99%AE%E9%80%9A%E7%9A%84/%E7%B3%99%E7%B1%B3%EF%BC%88%E4%B8%AD%E7%B2%92%E7%B1%B3%EF%BC%8C%E7%85%AE%E7%86%9F%EF%BC%89?portionid=62448&portionamount=100.000', 'title': '糙米（中粒米，煮熟） (100 克)的热量和营养成分 - fatsecret', 'content': '糙米（中粒米，煮熟） (100 克)含有112卡路里. 营养成分. 食用量. 100 克. 每份. 能源. 469 千焦. 112 千卡. 蛋白质. 2.32克. 脂肪. 0.83克. 饱和脂肪.', 'score': 0.9170729, 'raw_content': None}, {'url': 'https://www.fatsecret.cn/%E7%83%AD%E9%87%8F%E8%90%A5%E5%85%BB/%E6%99%AE%E9%80%9A%E7%9A%84/%E7%B3%99%E7%B1%B3?portionid=53193&portionamount=100.000', 'title': '糙米(100 克)的热量和营养成分 - fatsecret', 'content': '糙米. 一般食用份量. 1 盎司，干的, 100 克, 1 杯（煮熟的）. 大卡. 110. 脂肪. 0.89 克. 碳水物. 22.78 克. 蛋白质. 2.56 克. 糙米(100 克)含有110卡路里.', 'score': 0.89720124, 'raw_content': None}, {'url': 'https://www.aimhealthyu.com/tw/article/339/brown-rice-nutrition-secrets', 'title': '糙米飯熱量知多少？營養師揭密健康飲食的關鍵選擇 - AIMHEALTHYU', 'content': '其實，每100克糙米飯大約含有111卡路里，這讓它成為一個相對健康的碳水化合物來源。不少人可能會問，這樣的熱量真的適合每天食用嗎？ 而且，很多人可能不知道的是，糙米', 'score': 0.8939131, 'raw_content': None}, {'url': 'https://foodeducation.jtf.org.tw/article_view.php?id=20', 'title': '常見全穀迷思Q&A - 提升兒童食育力- 財團法人董氏基金會', 'content': '而生的糙米煮熟後會吸水膨脹，所以100克生的糙米可以煮成250克的糙米飯，換算成每100克的糙米飯熱量其實是 142大卡 ，和100克白飯的熱量差不多喔！ 糙米的糠層富含纖維，可以幫助腸胃蠕動及養成細嚼慢嚥的習慣，增加飽足感。', 'score': 0.88799405, 'raw_content': None}, {'url': 'https://www.cw.com.tw/article/5124764', 'title': '你知道嗎？白飯、糙米飯熱量其實差不多！為什麼還要吃糙米？', 'content': '糙米 · 熱量：354kcal; 膳食纖維：4g ; 胚芽米 · 熱量：358kcal; 膳食纖維：1.5g ; 白米 · 熱量：352kcal; 膳食纖維：0.7g', 'score': 0.70702106, 'raw_content': None}]\"}, {'role': 'assistant', 'content': 'Thought: 我找到糙米的熱量資訊，根據不同來源，每100克的熱量大約在110到112卡路里之間。我將使用112卡路里作為計算基準。接下來，我需要搜尋蔬菜的熱量。\\n\\nAction: web_search: 蔬菜 每100克 熱量\\nPAUSE'}, {'role': 'user', 'content': \"Observation: [{'url': 'https://www.fatsecret.cn/%E7%83%AD%E9%87%8F%E8%90%A5%E5%85%BB/%E6%99%AE%E9%80%9A%E7%9A%84/%E7%94%9F%E8%94%AC%E8%8F%9C?portionid=54903&portionamount=100.000&frc=True', 'title': '生蔬菜(100 克)的热量和营养成分 - fatsecret', 'content': '生蔬菜(100 克)含有20卡路里. 热量分解： 7% 脂肪, 77% 碳水物, 16% 蛋白质. 一般食用份量: 食用量, 卡路里. 1 份（28克） · 6 · 100 克 · 20.', 'score': 0.8742601, 'raw_content': None}, {'url': 'https://tsaijj11.pixnet.net/blog/post/28305461', 'title': '100g熱量表--蔬菜類 - ジェシカのブログ- 痞客邦', 'content': '100g熱量表--蔬菜類 ; 空心菜, 24, 92.8 ; 油菜, 14, 95.4 ; 青江菜, 16, 94.8 ; 美國芹菜, 13, 96', 'score': 0.79215926, 'raw_content': None}, {'url': 'https://zhuanlan.zhihu.com/p/371899605', 'title': '七大高热量“蔬菜”排行榜！第一名每百克居然高达300千卡？ - 知乎专栏', 'content': '1 黄豆每100克热量390千卡. 黄豆的热量高达390千卡以上，是不折不扣的高 ... 除了这些高热量的“蔬菜”，其实大多数的蔬菜普遍上还是热量比较低的', 'score': 0.77261686, 'raw_content': None}, {'url': 'https://health.udn.com/health/story/6037/7391940', 'title': '青江菜、花椰菜、高麗菜...營養師授「15種燙青菜熱量圖鑑」，告訴你 ...', 'content': '1.韭菜豆芽．熱量：44kcal ． · 2.黃豆芽．熱量：34kcal ． · 3.豌豆苗．熱量：31kcal ． · 4.地瓜葉．熱量：28kcal ． · 5.菠菜．熱量：24kcal ． · 6.龍鬚菜．熱量：24kcal ．', 'score': 0.38838658, 'raw_content': None}, {'url': 'https://www.cfs.gov.hk/tc_chi/nutrient/files/RA_FruitVeg_c.pdf', 'title': '[PDF] 水果和蔬菜的營養素含量(每克)', 'content': 'Page 1. 水果和蔬菜的營養素含量(每克). 附件. 碳水化合物. 飽和脂. 食物名稱. 熱量. (千卡). 蛋白質. 總量. (克). 脂肪. (克). 肪. 膽固醇. (毫克). 糖(克). 膳食.', 'score': 0.23139746, 'raw_content': None}]\"}]\n",
      "回傳-------\n",
      "Thought: 我找到蔬菜的熱量資訊，根據不同來源，每100克的熱量大約在20到24卡路里之間。我將使用20卡路里作為計算基準。現在我已經有了所有食材的熱量資訊，可以進行總熱量的計算。\n",
      "\n",
      "雞胸肉：195卡路里（150克）\n",
      "糙米：112卡路里（200克）\n",
      "蔬菜：20卡路里（100克）\n",
      "\n",
      "接下來，我將計算這頓午餐的總熱量。\n",
      "\n",
      "Action: calculate: (195 * 1.5) + (112 * 2) + (20 * 1)\n",
      "PAUSE\n",
      " -- running calculate (195 * 1.5) + (112 * 2) + (20 * 1)\n",
      "Observation: 536.5\n",
      "---------------- TURN: 4\n",
      "[{'role': 'system', 'content': \"You run in a loop of Thought, Action, PAUSE, Observation.\\nAt the end of the loop you output an Answer\\nUse Thought to describe your thoughts about the question you have been asked.\\nUse Action to run one of the actions available to you - then return PAUSE.\\nObservation will be the result of running those actions.\\n\\nYour available actions are:\\n\\ncalculate:\\ne.g. calculate: 4 * 7 / 3\\nRuns a calculation and returns the number - a math expression that can be executed using Python's numexpr library.\\n\\nweb_search:\\ne.g. web_search: Django\\nSearches for the latest news or recent events.\\n\\nExample session:\\n\\nQuestion: What is the capital of France?\\nThought: I should look up France on Wikipedia\\nAction: web_search: France\\nPAUSE\\n\\nYou will be called again with this:\\n\\nObservation: France is a country. The capital is Paris.\\n\\nYou then output:\\n\\nAnswer: The capital of France is Paris\"}, {'role': 'user', 'content': '作為營養師，您的任務是為一名客戶計算一頓含有雞胸肉、糙米和蔬菜的午餐的總熱量。\\n請先搜尋每種食材每100克的熱量。然後，假設一份雞胸肉為150克，糙米為200克，蔬菜為100克，\\n使用計算機計算這頓午餐的總熱量。'}, {'role': 'assistant', 'content': 'Thought: 我需要先搜尋每種食材每100克的熱量，包括雞胸肉、糙米和蔬菜。然後，我可以根據每種食材的份量計算總熱量。\\n\\nAction: web_search: 雞胸肉 每100克 熱量\\nPAUSE'}, {'role': 'user', 'content': \"Observation: [{'url': 'https://www.fatsecret.cn/%E7%83%AD%E9%87%8F%E8%90%A5%E5%85%BB/%E6%99%AE%E9%80%9A%E7%9A%84/%E9%B8%A1%E8%83%B8%E8%82%89?portionid=50321&portionamount=100.000', 'title': '鸡胸肉(100 克)的热量和营养成分 - fatsecret', 'content': '鸡胸肉(100 克)含有195卡路里. 营养成分. 食用量. 100 克. 每份. 能源. 816 千焦. 195 千卡. 蛋白质. 29.55克. 脂肪. 7.72克. 饱和脂肪. 2.172克.', 'score': 0.9328032, 'raw_content': None}, {'url': 'https://jingyan.baidu.com/article/48a4205709679ce8242504b7.html', 'title': '100克鸡胸肉煮熟了就只有75克了，那热量应该算75克还是 ... - 百度经验', 'content': '100克去皮鸡胸肉只有105大卡的热量，而100克鸡腿热量达130大卡，鸡翅的热量更彪悍，每100克高达290大卡。鸡胸肉是整只鸡中热量和脂肪含量最低的部位。 而相比', 'score': 0.92731744, 'raw_content': None}, {'url': 'https://www.dachanfoods.com.tw/zh-TW/blogs/%E7%9F%A5%E8%AD%98%E5%B0%8F%E5%B9%AB%E6%89%8B/147267?srsltid=AfmBOoqjP0q5BbDxutre4w992xQRf5g15yq6VHYIHl0flKIGexClT9Uw', 'title': '雞胸肉為什麼適合健身吃？一篇看懂營養價值、食用時機！', 'content': '三、雞胸肉的熱量 一般來說，去皮雞胸肉的熱量每100 克含有109 大卡的熱量。 如果是帶皮雞胸肉，每100 克含有164 大卡的熱量。', 'score': 0.9253988, 'raw_content': None}, {'url': 'https://health.tvbs.com.tw/nutrition/341063', 'title': '雞肉這部位比雞胸肉更低脂、高蛋白！「雞肉各部位熱量」大公開吃 ...', 'content': '雞胸肉：去皮每100克熱量約117大卡，脂肪2％，蛋白質23％。 看更多：吃低脂雞胸肉輕鬆減肥！雞肉達人公開雞胸肉Q彈軟嫩秘訣. 雞柳', 'score': 0.90123636, 'raw_content': None}, {'url': 'https://www.drsalt.com.tw/blog/posts/%E9%9B%9E%E8%83%B8%E8%82%89-%E7%86%B1%E9%87%8F%E5%AE%8C%E6%95%B4%E8%A7%A3%E6%9E%90%EF%BC%9A5%E5%A4%A7%E9%97%9C%E9%8D%B5%E6%95%B8%E6%93%9A%E6%89%93%E9%80%A0%E5%81%A5%E5%BA%B7%E9%A3%B2%E9%A3%9F%E6%9C%80%E4%BD%B3%E9%81%B8%E6%93%87', 'title': '雞胸肉熱量完整解析：5大關鍵數據打造健康飲食最佳選擇', 'content': '雞胸肉營養成分表（每100g） ; 熱量, 165大卡, 白米飯130大卡 ; 蛋白質, 31g, 白米飯2.7g ; 脂肪, 3.6g, 雞腿肉8-10g', 'score': 0.8861155, 'raw_content': None}]\"}, {'role': 'assistant', 'content': 'Thought: 我已經找到雞胸肉的熱量資訊，根據不同來源，每100克的熱量大約在109到195卡路里之間。為了保守起見，我將使用195卡路里作為計算基準。接下來，我需要搜尋糙米和蔬菜的熱量。\\n\\nAction: web_search: 糙米 每100克 熱量\\nPAUSE'}, {'role': 'user', 'content': \"Observation: [{'url': 'https://www.fatsecret.cn/%E7%83%AD%E9%87%8F%E8%90%A5%E5%85%BB/%E6%99%AE%E9%80%9A%E7%9A%84/%E7%B3%99%E7%B1%B3%EF%BC%88%E4%B8%AD%E7%B2%92%E7%B1%B3%EF%BC%8C%E7%85%AE%E7%86%9F%EF%BC%89?portionid=62448&portionamount=100.000', 'title': '糙米（中粒米，煮熟） (100 克)的热量和营养成分 - fatsecret', 'content': '糙米（中粒米，煮熟） (100 克)含有112卡路里. 营养成分. 食用量. 100 克. 每份. 能源. 469 千焦. 112 千卡. 蛋白质. 2.32克. 脂肪. 0.83克. 饱和脂肪.', 'score': 0.9170729, 'raw_content': None}, {'url': 'https://www.fatsecret.cn/%E7%83%AD%E9%87%8F%E8%90%A5%E5%85%BB/%E6%99%AE%E9%80%9A%E7%9A%84/%E7%B3%99%E7%B1%B3?portionid=53193&portionamount=100.000', 'title': '糙米(100 克)的热量和营养成分 - fatsecret', 'content': '糙米. 一般食用份量. 1 盎司，干的, 100 克, 1 杯（煮熟的）. 大卡. 110. 脂肪. 0.89 克. 碳水物. 22.78 克. 蛋白质. 2.56 克. 糙米(100 克)含有110卡路里.', 'score': 0.89720124, 'raw_content': None}, {'url': 'https://www.aimhealthyu.com/tw/article/339/brown-rice-nutrition-secrets', 'title': '糙米飯熱量知多少？營養師揭密健康飲食的關鍵選擇 - AIMHEALTHYU', 'content': '其實，每100克糙米飯大約含有111卡路里，這讓它成為一個相對健康的碳水化合物來源。不少人可能會問，這樣的熱量真的適合每天食用嗎？ 而且，很多人可能不知道的是，糙米', 'score': 0.8939131, 'raw_content': None}, {'url': 'https://foodeducation.jtf.org.tw/article_view.php?id=20', 'title': '常見全穀迷思Q&A - 提升兒童食育力- 財團法人董氏基金會', 'content': '而生的糙米煮熟後會吸水膨脹，所以100克生的糙米可以煮成250克的糙米飯，換算成每100克的糙米飯熱量其實是 142大卡 ，和100克白飯的熱量差不多喔！ 糙米的糠層富含纖維，可以幫助腸胃蠕動及養成細嚼慢嚥的習慣，增加飽足感。', 'score': 0.88799405, 'raw_content': None}, {'url': 'https://www.cw.com.tw/article/5124764', 'title': '你知道嗎？白飯、糙米飯熱量其實差不多！為什麼還要吃糙米？', 'content': '糙米 · 熱量：354kcal; 膳食纖維：4g ; 胚芽米 · 熱量：358kcal; 膳食纖維：1.5g ; 白米 · 熱量：352kcal; 膳食纖維：0.7g', 'score': 0.70702106, 'raw_content': None}]\"}, {'role': 'assistant', 'content': 'Thought: 我找到糙米的熱量資訊，根據不同來源，每100克的熱量大約在110到112卡路里之間。我將使用112卡路里作為計算基準。接下來，我需要搜尋蔬菜的熱量。\\n\\nAction: web_search: 蔬菜 每100克 熱量\\nPAUSE'}, {'role': 'user', 'content': \"Observation: [{'url': 'https://www.fatsecret.cn/%E7%83%AD%E9%87%8F%E8%90%A5%E5%85%BB/%E6%99%AE%E9%80%9A%E7%9A%84/%E7%94%9F%E8%94%AC%E8%8F%9C?portionid=54903&portionamount=100.000&frc=True', 'title': '生蔬菜(100 克)的热量和营养成分 - fatsecret', 'content': '生蔬菜(100 克)含有20卡路里. 热量分解： 7% 脂肪, 77% 碳水物, 16% 蛋白质. 一般食用份量: 食用量, 卡路里. 1 份（28克） · 6 · 100 克 · 20.', 'score': 0.8742601, 'raw_content': None}, {'url': 'https://tsaijj11.pixnet.net/blog/post/28305461', 'title': '100g熱量表--蔬菜類 - ジェシカのブログ- 痞客邦', 'content': '100g熱量表--蔬菜類 ; 空心菜, 24, 92.8 ; 油菜, 14, 95.4 ; 青江菜, 16, 94.8 ; 美國芹菜, 13, 96', 'score': 0.79215926, 'raw_content': None}, {'url': 'https://zhuanlan.zhihu.com/p/371899605', 'title': '七大高热量“蔬菜”排行榜！第一名每百克居然高达300千卡？ - 知乎专栏', 'content': '1 黄豆每100克热量390千卡. 黄豆的热量高达390千卡以上，是不折不扣的高 ... 除了这些高热量的“蔬菜”，其实大多数的蔬菜普遍上还是热量比较低的', 'score': 0.77261686, 'raw_content': None}, {'url': 'https://health.udn.com/health/story/6037/7391940', 'title': '青江菜、花椰菜、高麗菜...營養師授「15種燙青菜熱量圖鑑」，告訴你 ...', 'content': '1.韭菜豆芽．熱量：44kcal ． · 2.黃豆芽．熱量：34kcal ． · 3.豌豆苗．熱量：31kcal ． · 4.地瓜葉．熱量：28kcal ． · 5.菠菜．熱量：24kcal ． · 6.龍鬚菜．熱量：24kcal ．', 'score': 0.38838658, 'raw_content': None}, {'url': 'https://www.cfs.gov.hk/tc_chi/nutrient/files/RA_FruitVeg_c.pdf', 'title': '[PDF] 水果和蔬菜的營養素含量(每克)', 'content': 'Page 1. 水果和蔬菜的營養素含量(每克). 附件. 碳水化合物. 飽和脂. 食物名稱. 熱量. (千卡). 蛋白質. 總量. (克). 脂肪. (克). 肪. 膽固醇. (毫克). 糖(克). 膳食.', 'score': 0.23139746, 'raw_content': None}]\"}, {'role': 'assistant', 'content': 'Thought: 我找到蔬菜的熱量資訊，根據不同來源，每100克的熱量大約在20到24卡路里之間。我將使用20卡路里作為計算基準。現在我已經有了所有食材的熱量資訊，可以進行總熱量的計算。\\n\\n雞胸肉：195卡路里（150克）\\n糙米：112卡路里（200克）\\n蔬菜：20卡路里（100克）\\n\\n接下來，我將計算這頓午餐的總熱量。\\n\\nAction: calculate: (195 * 1.5) + (112 * 2) + (20 * 1)\\nPAUSE'}, {'role': 'user', 'content': 'Observation: 536.5'}]\n",
      "回傳-------\n",
      "Answer: 這頓午餐的總熱量為536.5卡路里。\n"
     ]
    }
   ],
   "source": [
    "query(\"\"\"作為營養師，您的任務是為一名客戶計算一頓含有雞胸肉、糙米和蔬菜的午餐的總熱量。\n",
    "請先搜尋每種食材每100克的熱量。然後，假設一份雞胸肉為150克，糙米為200克，蔬菜為100克，\n",
    "使用計算機計算這頓午餐的總熱量。\"\"\")"
   ]
  },
  {
   "cell_type": "code",
   "execution_count": 20,
   "metadata": {
    "colab": {
     "base_uri": "https://localhost:8080/"
    },
    "executionInfo": {
     "elapsed": 80,
     "status": "ok",
     "timestamp": 1740830400079,
     "user": {
      "displayName": "張文鈿（ihower）",
      "userId": "16942569988483049654"
     },
     "user_tz": -480
    },
    "id": "Qkl3xYLJmAtr",
    "outputId": "0d03504c-7326-442b-c415-ee82757b0fa8"
   },
   "outputs": [
    {
     "name": "stdout",
     "output_type": "stream",
     "text": [
      "[{'role': 'system',\n",
      "  'content': 'You run in a loop of Thought, Action, PAUSE, Observation.\\n'\n",
      "             'At the end of the loop you output an Answer\\n'\n",
      "             'Use Thought to describe your thoughts about the question you '\n",
      "             'have been asked.\\n'\n",
      "             'Use Action to run one of the actions available to you - then '\n",
      "             'return PAUSE.\\n'\n",
      "             'Observation will be the result of running those actions.\\n'\n",
      "             '\\n'\n",
      "             'Your available actions are:\\n'\n",
      "             '\\n'\n",
      "             'calculate:\\n'\n",
      "             'e.g. calculate: 4 * 7 / 3\\n'\n",
      "             'Runs a calculation and returns the number - a math expression '\n",
      "             \"that can be executed using Python's numexpr library.\\n\"\n",
      "             '\\n'\n",
      "             'web_search:\\n'\n",
      "             'e.g. web_search: Django\\n'\n",
      "             'Searches for the latest news or recent events.\\n'\n",
      "             '\\n'\n",
      "             'Example session:\\n'\n",
      "             '\\n'\n",
      "             'Question: What is the capital of France?\\n'\n",
      "             'Thought: I should look up France on Wikipedia\\n'\n",
      "             'Action: web_search: France\\n'\n",
      "             'PAUSE\\n'\n",
      "             '\\n'\n",
      "             'You will be called again with this:\\n'\n",
      "             '\\n'\n",
      "             'Observation: France is a country. The capital is Paris.\\n'\n",
      "             '\\n'\n",
      "             'You then output:\\n'\n",
      "             '\\n'\n",
      "             'Answer: The capital of France is Paris'},\n",
      " {'role': 'user',\n",
      "  'content': '作為營養師，您的任務是為一名客戶計算一頓含有雞胸肉、糙米和蔬菜的午餐的總熱量。\\n'\n",
      "             '請先搜尋每種食材每100克的熱量。然後，假設一份雞胸肉為150克，糙米為200克，蔬菜為100克，\\n'\n",
      "             '使用計算機計算這頓午餐的總熱量。'},\n",
      " {'role': 'assistant',\n",
      "  'content': 'Thought: 我需要先搜尋每種食材每100克的熱量，包括雞胸肉、糙米和蔬菜。然後，我可以根據每種食材的份量計算總熱量。\\n'\n",
      "             '\\n'\n",
      "             'Action: web_search: 雞胸肉 每100克 熱量\\n'\n",
      "             'PAUSE'},\n",
      " {'role': 'user',\n",
      "  'content': \"Observation: [{'url': \"\n",
      "             \"'https://www.fatsecret.cn/%E7%83%AD%E9%87%8F%E8%90%A5%E5%85%BB/%E6%99%AE%E9%80%9A%E7%9A%84/%E9%B8%A1%E8%83%B8%E8%82%89?portionid=50321&portionamount=100.000', \"\n",
      "             \"'title': '鸡胸肉(100 克)的热量和营养成分 - fatsecret', 'content': '鸡胸肉(100 \"\n",
      "             '克)含有195卡路里. 营养成分. 食用量. 100 克. 每份. 能源. 816 千焦. 195 千卡. 蛋白质. '\n",
      "             \"29.55克. 脂肪. 7.72克. 饱和脂肪. 2.172克.', 'score': 0.9328032, \"\n",
      "             \"'raw_content': None}, {'url': \"\n",
      "             \"'https://jingyan.baidu.com/article/48a4205709679ce8242504b7.html', \"\n",
      "             \"'title': '100克鸡胸肉煮熟了就只有75克了，那热量应该算75克还是 ... - 百度经验', 'content': \"\n",
      "             \"'100克去皮鸡胸肉只有105大卡的热量，而100克鸡腿热量达130大卡，鸡翅的热量更彪悍，每100克高达290大卡。鸡胸肉是整只鸡中热量和脂肪含量最低的部位。 \"\n",
      "             \"而相比', 'score': 0.92731744, 'raw_content': None}, {'url': \"\n",
      "             \"'https://www.dachanfoods.com.tw/zh-TW/blogs/%E7%9F%A5%E8%AD%98%E5%B0%8F%E5%B9%AB%E6%89%8B/147267?srsltid=AfmBOoqjP0q5BbDxutre4w992xQRf5g15yq6VHYIHl0flKIGexClT9Uw', \"\n",
      "             \"'title': '雞胸肉為什麼適合健身吃？一篇看懂營養價值、食用時機！', 'content': '三、雞胸肉的熱量 \"\n",
      "             \"一般來說，去皮雞胸肉的熱量每100 克含有109 大卡的熱量。 如果是帶皮雞胸肉，每100 克含有164 大卡的熱量。', \"\n",
      "             \"'score': 0.9253988, 'raw_content': None}, {'url': \"\n",
      "             \"'https://health.tvbs.com.tw/nutrition/341063', 'title': \"\n",
      "             \"'雞肉這部位比雞胸肉更低脂、高蛋白！「雞肉各部位熱量」大公開吃 ...', 'content': \"\n",
      "             \"'雞胸肉：去皮每100克熱量約117大卡，脂肪2％，蛋白質23％。 \"\n",
      "             \"看更多：吃低脂雞胸肉輕鬆減肥！雞肉達人公開雞胸肉Q彈軟嫩秘訣. 雞柳', 'score': 0.90123636, \"\n",
      "             \"'raw_content': None}, {'url': \"\n",
      "             \"'https://www.drsalt.com.tw/blog/posts/%E9%9B%9E%E8%83%B8%E8%82%89-%E7%86%B1%E9%87%8F%E5%AE%8C%E6%95%B4%E8%A7%A3%E6%9E%90%EF%BC%9A5%E5%A4%A7%E9%97%9C%E9%8D%B5%E6%95%B8%E6%93%9A%E6%89%93%E9%80%A0%E5%81%A5%E5%BA%B7%E9%A3%B2%E9%A3%9F%E6%9C%80%E4%BD%B3%E9%81%B8%E6%93%87', \"\n",
      "             \"'title': '雞胸肉熱量完整解析：5大關鍵數據打造健康飲食最佳選擇', 'content': \"\n",
      "             \"'雞胸肉營養成分表（每100g） ; 熱量, 165大卡, 白米飯130大卡 ; 蛋白質, 31g, 白米飯2.7g ; 脂肪, \"\n",
      "             \"3.6g, 雞腿肉8-10g', 'score': 0.8861155, 'raw_content': None}]\"},\n",
      " {'role': 'assistant',\n",
      "  'content': 'Thought: '\n",
      "             '我已經找到雞胸肉的熱量資訊，根據不同來源，每100克的熱量大約在109到195卡路里之間。為了保守起見，我將使用195卡路里作為計算基準。接下來，我需要搜尋糙米和蔬菜的熱量。\\n'\n",
      "             '\\n'\n",
      "             'Action: web_search: 糙米 每100克 熱量\\n'\n",
      "             'PAUSE'},\n",
      " {'role': 'user',\n",
      "  'content': \"Observation: [{'url': \"\n",
      "             \"'https://www.fatsecret.cn/%E7%83%AD%E9%87%8F%E8%90%A5%E5%85%BB/%E6%99%AE%E9%80%9A%E7%9A%84/%E7%B3%99%E7%B1%B3%EF%BC%88%E4%B8%AD%E7%B2%92%E7%B1%B3%EF%BC%8C%E7%85%AE%E7%86%9F%EF%BC%89?portionid=62448&portionamount=100.000', \"\n",
      "             \"'title': '糙米（中粒米，煮熟） (100 克)的热量和营养成分 - fatsecret', 'content': \"\n",
      "             \"'糙米（中粒米，煮熟） (100 克)含有112卡路里. 营养成分. 食用量. 100 克. 每份. 能源. 469 千焦. \"\n",
      "             \"112 千卡. 蛋白质. 2.32克. 脂肪. 0.83克. 饱和脂肪.', 'score': 0.9170729, \"\n",
      "             \"'raw_content': None}, {'url': \"\n",
      "             \"'https://www.fatsecret.cn/%E7%83%AD%E9%87%8F%E8%90%A5%E5%85%BB/%E6%99%AE%E9%80%9A%E7%9A%84/%E7%B3%99%E7%B1%B3?portionid=53193&portionamount=100.000', \"\n",
      "             \"'title': '糙米(100 克)的热量和营养成分 - fatsecret', 'content': '糙米. \"\n",
      "             '一般食用份量. 1 盎司，干的, 100 克, 1 杯（煮熟的）. 大卡. 110. 脂肪. 0.89 克. 碳水物. '\n",
      "             \"22.78 克. 蛋白质. 2.56 克. 糙米(100 克)含有110卡路里.', 'score': 0.89720124, \"\n",
      "             \"'raw_content': None}, {'url': \"\n",
      "             \"'https://www.aimhealthyu.com/tw/article/339/brown-rice-nutrition-secrets', \"\n",
      "             \"'title': '糙米飯熱量知多少？營養師揭密健康飲食的關鍵選擇 - AIMHEALTHYU', 'content': \"\n",
      "             \"'其實，每100克糙米飯大約含有111卡路里，這讓它成為一個相對健康的碳水化合物來源。不少人可能會問，這樣的熱量真的適合每天食用嗎？ \"\n",
      "             \"而且，很多人可能不知道的是，糙米', 'score': 0.8939131, 'raw_content': None}, \"\n",
      "             \"{'url': \"\n",
      "             \"'https://foodeducation.jtf.org.tw/article_view.php?id=20', \"\n",
      "             \"'title': '常見全穀迷思Q&A - 提升兒童食育力- 財團法人董氏基金會', 'content': \"\n",
      "             \"'而生的糙米煮熟後會吸水膨脹，所以100克生的糙米可以煮成250克的糙米飯，換算成每100克的糙米飯熱量其實是 142大卡 \"\n",
      "             \"，和100克白飯的熱量差不多喔！ 糙米的糠層富含纖維，可以幫助腸胃蠕動及養成細嚼慢嚥的習慣，增加飽足感。', 'score': \"\n",
      "             \"0.88799405, 'raw_content': None}, {'url': \"\n",
      "             \"'https://www.cw.com.tw/article/5124764', 'title': \"\n",
      "             \"'你知道嗎？白飯、糙米飯熱量其實差不多！為什麼還要吃糙米？', 'content': '糙米 · 熱量：354kcal; \"\n",
      "             '膳食纖維：4g ; 胚芽米 · 熱量：358kcal; 膳食纖維：1.5g ; 白米 · 熱量：352kcal; '\n",
      "             \"膳食纖維：0.7g', 'score': 0.70702106, 'raw_content': None}]\"},\n",
      " {'role': 'assistant',\n",
      "  'content': 'Thought: '\n",
      "             '我找到糙米的熱量資訊，根據不同來源，每100克的熱量大約在110到112卡路里之間。我將使用112卡路里作為計算基準。接下來，我需要搜尋蔬菜的熱量。\\n'\n",
      "             '\\n'\n",
      "             'Action: web_search: 蔬菜 每100克 熱量\\n'\n",
      "             'PAUSE'},\n",
      " {'role': 'user',\n",
      "  'content': \"Observation: [{'url': \"\n",
      "             \"'https://www.fatsecret.cn/%E7%83%AD%E9%87%8F%E8%90%A5%E5%85%BB/%E6%99%AE%E9%80%9A%E7%9A%84/%E7%94%9F%E8%94%AC%E8%8F%9C?portionid=54903&portionamount=100.000&frc=True', \"\n",
      "             \"'title': '生蔬菜(100 克)的热量和营养成分 - fatsecret', 'content': '生蔬菜(100 \"\n",
      "             '克)含有20卡路里. 热量分解： 7% 脂肪, 77% 碳水物, 16% 蛋白质. 一般食用份量: 食用量, 卡路里. 1 '\n",
      "             \"份（28克） · 6 · 100 克 · 20.', 'score': 0.8742601, 'raw_content': \"\n",
      "             \"None}, {'url': 'https://tsaijj11.pixnet.net/blog/post/28305461', \"\n",
      "             \"'title': '100g熱量表--蔬菜類 - ジェシカのブログ- 痞客邦', 'content': \"\n",
      "             \"'100g熱量表--蔬菜類 ; 空心菜, 24, 92.8 ; 油菜, 14, 95.4 ; 青江菜, 16, 94.8 ; \"\n",
      "             \"美國芹菜, 13, 96', 'score': 0.79215926, 'raw_content': None}, \"\n",
      "             \"{'url': 'https://zhuanlan.zhihu.com/p/371899605', 'title': \"\n",
      "             \"'七大高热量“蔬菜”排行榜！第一名每百克居然高达300千卡？ - 知乎专栏', 'content': '1 \"\n",
      "             '黄豆每100克热量390千卡. 黄豆的热量高达390千卡以上，是不折不扣的高 ... '\n",
      "             \"除了这些高热量的“蔬菜”，其实大多数的蔬菜普遍上还是热量比较低的', 'score': 0.77261686, \"\n",
      "             \"'raw_content': None}, {'url': \"\n",
      "             \"'https://health.udn.com/health/story/6037/7391940', 'title': \"\n",
      "             \"'青江菜、花椰菜、高麗菜...營養師授「15種燙青菜熱量圖鑑」，告訴你 ...', 'content': \"\n",
      "             \"'1.韭菜豆芽．熱量：44kcal ． · 2.黃豆芽．熱量：34kcal ． · 3.豌豆苗．熱量：31kcal ． · \"\n",
      "             \"4.地瓜葉．熱量：28kcal ． · 5.菠菜．熱量：24kcal ． · 6.龍鬚菜．熱量：24kcal ．', \"\n",
      "             \"'score': 0.38838658, 'raw_content': None}, {'url': \"\n",
      "             \"'https://www.cfs.gov.hk/tc_chi/nutrient/files/RA_FruitVeg_c.pdf', \"\n",
      "             \"'title': '[PDF] 水果和蔬菜的營養素含量(每克)', 'content': 'Page 1. \"\n",
      "             '水果和蔬菜的營養素含量(每克). 附件. 碳水化合物. 飽和脂. 食物名稱. 熱量. (千卡). 蛋白質. 總量. (克). '\n",
      "             \"脂肪. (克). 肪. 膽固醇. (毫克). 糖(克). 膳食.', 'score': 0.23139746, \"\n",
      "             \"'raw_content': None}]\"},\n",
      " {'role': 'assistant',\n",
      "  'content': 'Thought: '\n",
      "             '我找到蔬菜的熱量資訊，根據不同來源，每100克的熱量大約在20到24卡路里之間。我將使用20卡路里作為計算基準。現在我已經有了所有食材的熱量資訊，可以進行總熱量的計算。\\n'\n",
      "             '\\n'\n",
      "             '雞胸肉：195卡路里（150克）\\n'\n",
      "             '糙米：112卡路里（200克）\\n'\n",
      "             '蔬菜：20卡路里（100克）\\n'\n",
      "             '\\n'\n",
      "             '接下來，我將計算這頓午餐的總熱量。\\n'\n",
      "             '\\n'\n",
      "             'Action: calculate: (195 * 1.5) + (112 * 2) + (20 * 1)\\n'\n",
      "             'PAUSE'},\n",
      " {'role': 'user', 'content': 'Observation: 536.5'},\n",
      " {'role': 'assistant', 'content': 'Answer: 這頓午餐的總熱量為536.5卡路里。'}]\n"
     ]
    }
   ],
   "source": [
    "pp(messages)"
   ]
  },
  {
   "cell_type": "code",
   "execution_count": null,
   "metadata": {
    "id": "oLoM7fuZpKeU"
   },
   "outputs": [],
   "source": []
  }
 ],
 "metadata": {
  "colab": {
   "authorship_tag": "ABX9TyNaLkdt4OIFTA2Yr3bfVN60",
   "provenance": []
  },
  "kernelspec": {
   "display_name": "Python 3",
   "name": "python3"
  },
  "language_info": {
   "codemirror_mode": {
    "name": "ipython",
    "version": 3
   },
   "file_extension": ".py",
   "mimetype": "text/x-python",
   "name": "python",
   "nbconvert_exporter": "python",
   "pygments_lexer": "ipython3",
   "version": "3.10.17"
  }
 },
 "nbformat": 4,
 "nbformat_minor": 0
}
